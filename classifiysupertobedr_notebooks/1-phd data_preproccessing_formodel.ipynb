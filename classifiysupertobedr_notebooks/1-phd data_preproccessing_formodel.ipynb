{
 "cells": [
  {
   "cell_type": "markdown",
   "metadata": {},
   "source": [
    "# data preproccessing\n"
   ]
  },
  {
   "cell_type": "markdown",
   "metadata": {},
   "source": [
    "## import modules and configure notebook"
   ]
  },
  {
   "cell_type": "code",
   "execution_count": 1,
   "metadata": {},
   "outputs": [
    {
     "name": "stderr",
     "output_type": "stream",
     "text": [
      "/home/robert/anaconda3/lib/python3.7/site-packages/sklearn/ensemble/weight_boosting.py:29: DeprecationWarning: numpy.core.umath_tests is an internal NumPy module and should not be imported. It will be removed in a future NumPy release.\n",
      "  from numpy.core.umath_tests import inner1d\n"
     ]
    }
   ],
   "source": [
    "import pandas as pd\n",
    "import numpy as np\n",
    "import swifter\n",
    "import seaborn as sns\n",
    "import matplotlib.pyplot\n",
    "\n",
    "\n",
    "pd.set_option('max.rows', None)\n",
    "pd.set_option('max.columns', None)\n",
    "\n",
    "from sklearn.ensemble import RandomForestClassifier\n",
    "from sklearn.model_selection import train_test_split, StratifiedKFold\n",
    "from sklearn.metrics import log_loss, accuracy_score, f1_score\n",
    "from sklearn.decomposition import PCA \n",
    "from sklearn.manifold import TSNE\n",
    "from sklearn.preprocessing import StandardScaler\n",
    "\n",
    "\n",
    "%matplotlib inline"
   ]
  },
  {
   "cell_type": "markdown",
   "metadata": {},
   "source": [
    "### Configurations"
   ]
  },
  {
   "cell_type": "code",
   "execution_count": 2,
   "metadata": {},
   "outputs": [],
   "source": [
    "data_input_path = '../data/AllData_2_All_Details_3_OutliersRem_1_SupDep_Regions.csv'\n",
    "classify_bedrock_only = False\n",
    "group_superficial = True"
   ]
  },
  {
   "cell_type": "markdown",
   "metadata": {},
   "source": [
    "### Import data"
   ]
  },
  {
   "cell_type": "code",
   "execution_count": 3,
   "metadata": {},
   "outputs": [],
   "source": [
    "my_data = pd.read_csv(data_input_path)"
   ]
  },
  {
   "cell_type": "code",
   "execution_count": null,
   "metadata": {},
   "outputs": [],
   "source": [
    "my_data.head()"
   ]
  },
  {
   "cell_type": "code",
   "execution_count": 24,
   "metadata": {},
   "outputs": [
    {
     "data": {
      "text/plain": [
       "(1606,)"
      ]
     },
     "execution_count": 24,
     "metadata": {},
     "output_type": "execute_result"
    }
   ],
   "source": []
  },
  {
   "cell_type": "markdown",
   "metadata": {},
   "source": [
    "### make labels for classification"
   ]
  },
  {
   "cell_type": "markdown",
   "metadata": {},
   "source": [
    "\n",
    "def make_classes_grouped(row):\n",
    "    if row['Geology'] == 'Bedrock':\n",
    "        if row['Site'] == 'WB' or row['Site'] == 'BX':\n",
    "            return('WB_BX')\n",
    "        elif row['Site'] == 'BC' or row['Site'] == 'CS':\n",
    "            return('BC_CS')\n",
    "        elif row['Site'] == 'SQ' or row['Site'] == 'BP':\n",
    "            return('SQ_BP')\n",
    "        else:\n",
    "            return(row['Site'])\n",
    "    elif row['Geology'] == 'Superficial':\n",
    "        if row['Region'] == 'SV' or row['Region'] == 'SE':\n",
    "            return('SV_SE')\n",
    "        else:\n",
    "            return(row['Region'])\n",
    "\n",
    "def make_classes_raw(row):\n",
    "    if row['Geology'] == 'Bedrock':\n",
    "        return(row['Site'])\n",
    "    elif row['Geology'] == 'Superficial':\n",
    "        return(row['Region'])\n",
    "\n"
   ]
  },
  {
   "cell_type": "markdown",
   "metadata": {},
   "source": [
    "my_data['class'] = 'init'   \n",
    "\n",
    "if group_superficial:\n",
    "    my_data['class'] = my_data.apply(make_classes_grouped, axis = 1)\n",
    "else:\n",
    "    my_data['class'] = my_data.apply(make_classes_raw, axis = 1)"
   ]
  },
  {
   "cell_type": "code",
   "execution_count": 5,
   "metadata": {},
   "outputs": [],
   "source": [
    "def make_classes_subsite(row):\n",
    "    return(row['SubSite'])\n",
    "my_data['class'] = my_data.swifter.apply(make_classes_subsite, axis = 1)"
   ]
  },
  {
   "cell_type": "code",
   "execution_count": 1,
   "metadata": {},
   "outputs": [
    {
     "ename": "NameError",
     "evalue": "name 'my_data' is not defined",
     "output_type": "error",
     "traceback": [
      "\u001b[0;31m---------------------------------------------------------------------------\u001b[0m",
      "\u001b[0;31mNameError\u001b[0m                                 Traceback (most recent call last)",
      "\u001b[0;32m<ipython-input-1-7b6987af4ac8>\u001b[0m in \u001b[0;36m<module>\u001b[0;34m()\u001b[0m\n\u001b[0;32m----> 1\u001b[0;31m \u001b[0mmy_data\u001b[0m\u001b[0;34m.\u001b[0m\u001b[0mhead\u001b[0m\u001b[0;34m(\u001b[0m\u001b[0;34m)\u001b[0m\u001b[0;34m\u001b[0m\u001b[0;34m\u001b[0m\u001b[0m\n\u001b[0m",
      "\u001b[0;31mNameError\u001b[0m: name 'my_data' is not defined"
     ]
    }
   ],
   "source": [
    "my_data.head()"
   ]
  },
  {
   "cell_type": "code",
   "execution_count": 41,
   "metadata": {},
   "outputs": [
    {
     "data": {
      "text/plain": [
       "array(['FH1_1_1', 'FH1_1_2', 'FH1_1_3', 'FH2_1_1', 'FH2_1_2', 'FH2_1_3',\n",
       "       'FH2_2_4', 'FH2_2_5', 'FH2_2_6', 'FH2_3_7', 'FH2_3_8', 'FH2_3_9',\n",
       "       'FH3_1_1', 'FH3_1_2', 'FH3_1_3', 'FH3_2_4', 'FH3_2_5', 'FH3_2_6',\n",
       "       'ER_1_1', 'ER_1_2', 'ER_1_3', 'ER_2_1', 'ER_2_2', 'ER_2_3',\n",
       "       'ER_3_1', 'ER_3_2', 'ER_3_3', 'WW_1_1', 'WW_1_2', 'WW_1_3',\n",
       "       'WW_2_1', 'WW_2_2', 'WW_2_3', 'WW_3_1', 'WW_3_2', 'WW_3_3',\n",
       "       'WW_4_1', 'WW_4_2', 'WW_4_3', 'TC1_1_1', 'TC1_1_2', 'TC1_1_3',\n",
       "       'TC2_1_1', 'TC2_1_2', 'TC2_1_3', 'CS1_1_1', 'CS1_1_2', 'CS1_1_3',\n",
       "       'CS1_2_1', 'CS1_2_2', 'CS1_2_3', 'CS1_3_1', 'CS1_3_2', 'CS1_3_3',\n",
       "       'CS2_1_1', 'CS2_1_2', 'CS2_1_3', 'CS2_2_1', 'CS2_2_2', 'CS2_3_1',\n",
       "       'CS2_3_2', 'CS2_3_3', 'CS2_3_4', 'CS2_4_1', 'CS2_4_2', 'CS2_4_3',\n",
       "       'CS2_5_1', 'CS2_5_2', 'CS3_1_1', 'CS3_1_2', 'CS3_2_1', 'CS3_2_2',\n",
       "       'CS3_2_3', 'CS3_3_1', 'CS3_3_2', 'CS3_3_3', 'CS3_4_1', 'CS3_4_2',\n",
       "       'CS3_4_3', 'CS3_4_4', 'BC_1', 'BC_2', 'BC_3', 'BC_4', 'BC_5',\n",
       "       'BC_6', 'BC_7', 'BC_8', 'BC_9', 'BC_10', 'KQ1_1_1', 'KQ1_1_2',\n",
       "       'KQ1_1_3', 'KQ2_1_1', 'KQ2_1_2', 'KQ2_1_3', 'KQ3_1_1', 'KQ3_1_2',\n",
       "       'KQ3_1_3', 'AR1_1', 'AR1_2', 'AR1_3', 'AR1_4', 'AR1_5', 'AR2_1',\n",
       "       'AR2_2', 'AR3_1', 'AR3_2', 'AR3_3', 'SL_1', 'SL_2', 'SL_3', 'SL_4',\n",
       "       'SL_5', 'SL_6', 'SL_7', 'SL_8', 'SL_9', 'SL_10', 'FG_1_1',\n",
       "       'FG_1_2', 'FG_1_3', 'FG_2_1', 'FG_2_2', 'FG_2_3', 'FG_3_1',\n",
       "       'FG_3_2', 'FG_3_3', 'WB1_1', 'WB1_2', 'WB1_3', 'WB1_4', 'WB1_5',\n",
       "       'WB1_6', 'BX_1', 'BX_2', 'BX_3', 'BX_4', 'BX_5', 'BX_6', 'BX_7',\n",
       "       'BX_8', 'BX_9', 'BX_10', 'PF_1', 'PF_2', 'PF_3', 'PF_4', 'PF_5',\n",
       "       'PF_6', 'PF_7', 'PF_8', 'PF_9', 'PF_10', 'BM_1', 'BM_2', 'BM_3',\n",
       "       'BM_4', 'BM_5', 'BM_6', 'BM_7', 'BM_8', 'BM_9', 'BM_10', 'WH1_1_1',\n",
       "       'WH1_1_2', 'WH1_1_3', 'WH1_2_1', 'WH1_2_2', 'WH1_2_3', 'WH2_1_1',\n",
       "       'WH2_1_2', 'WH2_1_3', 'WH2_2_1', 'WH2_2_2', 'WH2_2_3', 'WH3_1_1',\n",
       "       'WH3_1_2', 'WH3_1_3', 'SQ2_1_1', 'SQ2_1_2', 'SQ2_1_3', 'SQ2_1_4',\n",
       "       'SQ2_2_1', 'SQ2_2_2', 'SQ2_2_3', 'BP1', 'BP2', 'BP3', 'BP4', 'BP5',\n",
       "       'WN1_1_1', 'WN1_1_2', 'WN1_1_3', 'WN5_1_1', 'WN5_1_2', 'WN5_1_3',\n",
       "       'WN6_1_1', 'WN6_1_2', 'WN6_1_3', 'WN6_2_1', 'WN6_2_2', 'WN6_2_3',\n",
       "       'BH1_1_1', 'BH1_1_2', 'BH1_1_3', 'BH2_2_1', 'BH2_2_2', 'BH2_2_3',\n",
       "       'BH3_1_1', 'BH3_1_2', 'BH3_1_3', 'BH4_1_1', 'BH4_1_2', 'BH4_1_3',\n",
       "       'PH_1_1', 'PH_1_2', 'PH_1_3', 'PH_2_1', 'PH_2_2', 'PH_2_3',\n",
       "       'PH_3_1', 'PH_3_2', 'PH_3_3', 'PH_4_1', 'PH_4_2', 'PH_5_1',\n",
       "       'PH_5_2', 'PH_5_3', 'PH_6_1', 'PH_6_2', 'PH_6_3', 'PH_7_1',\n",
       "       'PH_7_2', 'PH_7_3', 'PH_8_1', 'PH_8_2', 'PH_8_3', 'PH_8_4',\n",
       "       'PH_9_1', 'PH_9_2', 'PH_9_3', 'PH_10_1', 'PH_10_2', 'PH_10_3',\n",
       "       'PH_10_4', 'PH_11_1', 'PH_11_2', 'PH_11_3', 'LB_1_1', 'LB_1_2',\n",
       "       'LB_1_3', 'LB_1_4', 'LB_2_1', 'LB_2_2', 'LB_2_3', 'LB_2_4',\n",
       "       'LB_3_1', 'LB_3_2', 'LB_3_3', 'LB_4_1', 'LB_4_2', 'LB_4_3',\n",
       "       'LB_5_1', 'LB_5_2', 'LB_5_3', 'LB_6_1', 'LB_6_2', 'LB_6_3', 'AB_1',\n",
       "       'AB_2', 'AB_3', 'AB_4', 'AB_5', 'AB_6', 'LV_1', 'LV_2', 'LV_3',\n",
       "       'LV_4', 'LV_5', 'LV_6', 'LV_7', 'LV_8', 'LV_9', 'BR_1', 'BR_2',\n",
       "       'BR_3', 'BR_4', 'BR_5', 'BR_6', 'BR_7', 'BR_8', 'BR_9', 'BR_10',\n",
       "       'KY_1', 'KY_2', 'KY_3', 'KY_4', 'KY_5', 'KY_6', 'KY_7', 'KY_8',\n",
       "       'KY_9', 'KY_10', 'KY_11', 'KY_12', 'KY_13', 'BF_1', 'BF_2', 'BF_3',\n",
       "       'BF_4', 'BF_5', 'BF_6', 'BF_7', 'BF_8', 'BF_9', 'BF_10', 'BF_11',\n",
       "       'BF_12', 'ST_1', 'ST_2', 'ST_3', 'ST_4', 'ST_5', 'ST_6', 'ST_7',\n",
       "       'ST_8', 'ST_9', 'ST_10', 'SH_1', 'SH_2', 'SH_3', 'SH_4', 'SH_5',\n",
       "       'SH_6', 'SH_7', 'SH_8', 'SH_9', 'SH_10', 'CF_1', 'CF_2', 'CF_3',\n",
       "       'CF_4', 'CF_5', 'CF_6', 'CF_7', 'CF_8', 'CF_9', 'CF_10', 'BG_1',\n",
       "       'BG_2', 'BG_3', 'BG_4', 'BG_5', 'BG_6', 'BG_7', 'BG_8', 'BG_9',\n",
       "       'BG_10', 'AC_1', 'AC_2', 'AC_3', 'AC_4', 'AC_5', 'CR_1', 'CR_2',\n",
       "       'CR_3', 'CR_4', 'CR_5', 'CR_6', 'CR_7', 'CR_8', 'CR_9', 'CR_10',\n",
       "       'CR_11', 'CR_12', 'CR_13', 'CR_14', 'CR_15', 'CR_16', 'CR_17',\n",
       "       'CR_18', 'CR_19', 'CR_20', 'GH_1', 'GH_2', 'GH_3', 'GH_4', 'GH_5',\n",
       "       'GH_6', 'GH_7', 'GH_8', 'GH_9', 'GH_10', 'PX_1', 'PX_2', 'PX_3',\n",
       "       'PX_4', 'PX_5', 'PX_6', 'PX_7', 'PX_8', 'PX_9', 'PX_10', 'WF_1',\n",
       "       'WF_2', 'WF_3', 'WF_4', 'WF_5', 'WF_6', 'WF_7', 'WF_8', 'WF_9',\n",
       "       'WF_10', 'DH1', 'DH2', 'DH3', 'DH4', 'DH5', 'NMAGGold_8260',\n",
       "       'NMAGGold_4848', 'NMAGGold_4816', 'NMAGGold_4869', 'NMAGGold_4852',\n",
       "       'NMAGGold_6591', 'NMAGGold_6525', 'NMAGGold_6600', 'NMAGGold_6522',\n",
       "       'NMAGGold_6462', 'NMAGGold_6456', 'NMAGGold_4571', 'NMWGold_1474',\n",
       "       'NMWGold_143', 'NMWGold_54', 'NMWGold_1705', 'NMWGold_1248',\n",
       "       'NMWGold_1445', 'NMWGold_1478', 'NMWGold_331', 'NMWGold_163',\n",
       "       'NMWGold_676', 'NMWGold_392', 'NMWGold_75', 'NMWGold_76',\n",
       "       'NMWGold_61', 'NMWGold_126', 'NMWGwern_2.10', 'NMWGwern_2.1044',\n",
       "       'NMWGwern_2.1046', 'NMWGwern_2.1051', 'NMWGwern_2.13',\n",
       "       'NMWGwern_2.8', 'NMWGwern_2.857', 'NMWGwern_2.860', 'NMWGwern_2.9',\n",
       "       'NMWGwern_2.919', 'NMWGwern_2.926', 'NMWGwern_2.984', 'UBSS_62',\n",
       "       'UBSS_272', 'UBSS_150', 'UBSS_114a', 'UBSS_8', 'UBSS_9', 'UBSS_15',\n",
       "       'UBSS_24', 'UBSS_25', 'UBSS_19', 'UBSS_16', 'UBSS_117', 'UBSS_118',\n",
       "       'UBSS_119', 'Cefn_7172_74', 'Cefn_7172_X1', 'Cefn_7172_X2',\n",
       "       'Cefn_7172_X3', 'Cefn_7172_X4', 'Stock_7172_58', 'Pucha_8408_11',\n",
       "       'Pucha_8408_12', 'Pucha_7172_501', 'Pucha_7172_473',\n",
       "       'Wood_7172_529', 'PH_2910', 'PH_1902', 'PH_1762', 'PH_1712',\n",
       "       'PH_NARC063F41', 'PH_3334', 'PH_3341', 'PH_4083', 'PH_3370',\n",
       "       'PH_1197', 'PH_1908', 'PH_4466', 'PH_2412', 'PH_2209', 'PH_3030',\n",
       "       'PH_2211', 'PH_1139', 'PH_NARC-0555F8', 'PH_2574', 'PH_3039',\n",
       "       'PH_2610', 'PH_3281', 'PH_1373', 'PH_3007', 'PH_3526', 'PH_1716',\n",
       "       'WQ_F101', 'WQ_F204', 'WQ_F72', 'WQ_F110', 'LY_1', 'LY_2', 'LY_3',\n",
       "       'LY_4', 'LY_5', 'LY_6', 'LY_7', 'LY_8', 'LY_9', 'LY_10', 'SYE13',\n",
       "       'SYE238', 'SYE294', 'MDG1', 'MDG8', 'MDG32', 'MDG60', 'MDG110',\n",
       "       'MDG132A', 'MDG182', 'MDG367', 'MDG370'], dtype=object)"
      ]
     },
     "execution_count": 41,
     "metadata": {},
     "output_type": "execute_result"
    }
   ],
   "source": [
    "my_data['Nodule'].unique()"
   ]
  },
  {
   "cell_type": "code",
   "execution_count": null,
   "metadata": {},
   "outputs": [],
   "source": []
  },
  {
   "cell_type": "markdown",
   "metadata": {},
   "source": [
    "### Remove '<' signs."
   ]
  },
  {
   "cell_type": "code",
   "execution_count": 6,
   "metadata": {},
   "outputs": [
    {
     "name": "stderr",
     "output_type": "stream",
     "text": [
      "Pandas Apply: 100%|██████████| 1606/1606 [00:00<00:00, 14604.79it/s]\n",
      "Pandas Apply: 100%|██████████| 1606/1606 [00:00<00:00, 16990.37it/s]\n",
      "Pandas Apply: 100%|██████████| 1606/1606 [00:00<00:00, 18418.76it/s]\n",
      "Pandas Apply: 100%|██████████| 1606/1606 [00:00<00:00, 21288.53it/s]\n",
      "Pandas Apply: 100%|██████████| 1606/1606 [00:00<00:00, 14934.36it/s]\n",
      "Pandas Apply: 100%|██████████| 1606/1606 [00:00<00:00, 17811.86it/s]\n",
      "Pandas Apply: 100%|██████████| 1606/1606 [00:00<00:00, 18032.53it/s]\n",
      "Pandas Apply: 100%|██████████| 1606/1606 [00:00<00:00, 19383.21it/s]\n",
      "Pandas Apply: 100%|██████████| 1606/1606 [00:00<00:00, 19143.47it/s]\n",
      "Pandas Apply: 100%|██████████| 1606/1606 [00:00<00:00, 19873.06it/s]\n",
      "Pandas Apply: 100%|██████████| 1606/1606 [00:00<00:00, 19146.90it/s]\n",
      "Pandas Apply: 100%|██████████| 1606/1606 [00:00<00:00, 19468.81it/s]\n",
      "Pandas Apply: 100%|██████████| 1606/1606 [00:00<00:00, 19234.60it/s]\n",
      "Pandas Apply: 100%|██████████| 1606/1606 [00:00<00:00, 21806.30it/s]\n",
      "Pandas Apply: 100%|██████████| 1606/1606 [00:00<00:00, 18565.16it/s]\n",
      "Pandas Apply: 100%|██████████| 1606/1606 [00:00<00:00, 20684.18it/s]\n",
      "Pandas Apply: 100%|██████████| 1606/1606 [00:00<00:00, 19319.11it/s]\n",
      "Pandas Apply: 100%|██████████| 1606/1606 [00:00<00:00, 20216.00it/s]\n",
      "Pandas Apply: 100%|██████████| 1606/1606 [00:00<00:00, 18439.48it/s]\n",
      "Pandas Apply: 100%|██████████| 1606/1606 [00:00<00:00, 19722.99it/s]\n",
      "Pandas Apply: 100%|██████████| 1606/1606 [00:00<00:00, 18580.21it/s]\n",
      "Pandas Apply: 100%|██████████| 1606/1606 [00:00<00:00, 18543.08it/s]\n",
      "Pandas Apply: 100%|██████████| 1606/1606 [00:00<00:00, 19914.30it/s]\n",
      "Pandas Apply: 100%|██████████| 1606/1606 [00:00<00:00, 16734.99it/s]\n",
      "Pandas Apply: 100%|██████████| 1606/1606 [00:00<00:00, 17429.24it/s]\n",
      "Pandas Apply: 100%|██████████| 1606/1606 [00:00<00:00, 18541.91it/s]\n",
      "Pandas Apply: 100%|██████████| 1606/1606 [00:00<00:00, 15459.13it/s]\n",
      "Pandas Apply: 100%|██████████| 1606/1606 [00:00<00:00, 21545.78it/s]\n",
      "Pandas Apply: 100%|██████████| 1606/1606 [00:00<00:00, 19140.32it/s]\n",
      "Pandas Apply: 100%|██████████| 1606/1606 [00:00<00:00, 19256.21it/s]\n",
      "Pandas Apply: 100%|██████████| 1606/1606 [00:00<00:00, 20098.86it/s]\n",
      "Pandas Apply: 100%|██████████| 1606/1606 [00:00<00:00, 18700.24it/s]\n",
      "Pandas Apply: 100%|██████████| 1606/1606 [00:00<00:00, 19213.04it/s]\n",
      "Pandas Apply: 100%|██████████| 1606/1606 [00:00<00:00, 20789.58it/s]\n",
      "Pandas Apply: 100%|██████████| 1606/1606 [00:00<00:00, 17923.42it/s]\n",
      "Pandas Apply: 100%|██████████| 1606/1606 [00:00<00:00, 17000.66it/s]\n",
      "Pandas Apply: 100%|██████████| 1606/1606 [00:00<00:00, 14986.52it/s]\n",
      "Pandas Apply: 100%|██████████| 1606/1606 [00:00<00:00, 16501.20it/s]\n",
      "Pandas Apply: 100%|██████████| 1606/1606 [00:00<00:00, 18406.02it/s]\n",
      "Pandas Apply: 100%|██████████| 1606/1606 [00:00<00:00, 16258.17it/s]\n",
      "Pandas Apply: 100%|██████████| 1606/1606 [00:00<00:00, 18234.23it/s]\n",
      "Pandas Apply: 100%|██████████| 1606/1606 [00:00<00:00, 18131.70it/s]\n",
      "Pandas Apply: 100%|██████████| 1606/1606 [00:00<00:00, 17616.90it/s]\n",
      "Pandas Apply: 100%|██████████| 1606/1606 [00:00<00:00, 18529.97it/s]\n",
      "Pandas Apply: 100%|██████████| 1606/1606 [00:00<00:00, 21098.76it/s]\n",
      "Pandas Apply: 100%|██████████| 1606/1606 [00:00<00:00, 19168.20it/s]\n",
      "Pandas Apply: 100%|██████████| 1606/1606 [00:00<00:00, 19866.61it/s]\n",
      "Pandas Apply: 100%|██████████| 1606/1606 [00:00<00:00, 21256.35it/s]\n",
      "Pandas Apply: 100%|██████████| 1606/1606 [00:00<00:00, 17744.06it/s]\n",
      "Pandas Apply: 100%|██████████| 1606/1606 [00:00<00:00, 17466.70it/s]\n",
      "Pandas Apply: 100%|██████████| 1606/1606 [00:00<00:00, 20310.66it/s]\n",
      "Pandas Apply: 100%|██████████| 1606/1606 [00:00<00:00, 18582.37it/s]\n",
      "Pandas Apply: 100%|██████████| 1606/1606 [00:00<00:00, 19133.85it/s]\n"
     ]
    }
   ],
   "source": [
    "for column_name in my_data.columns.values[9:-1]:\n",
    "    def fill_less_than(row):\n",
    "        if '<' in str(row[column_name]):\n",
    "            return(float(row[column_name].replace('<', '').replace(',','')))\n",
    "        else:\n",
    "            return(float(row[column_name]))\n",
    "    my_data[column_name] = my_data.swifter.apply(fill_less_than, axis = 1)"
   ]
  },
  {
   "cell_type": "markdown",
   "metadata": {},
   "source": [
    "### Impute na values with variable median, this is more resistant to the effect of outliers"
   ]
  },
  {
   "cell_type": "code",
   "execution_count": 7,
   "metadata": {},
   "outputs": [],
   "source": [
    "for column_name in my_data.columns.values[9:-1]:\n",
    "    my_data[column_name] = my_data[column_name].fillna(my_data[column_name].median()) "
   ]
  },
  {
   "cell_type": "code",
   "execution_count": 8,
   "metadata": {},
   "outputs": [
    {
     "data": {
      "text/html": [
       "<div>\n",
       "<style scoped>\n",
       "    .dataframe tbody tr th:only-of-type {\n",
       "        vertical-align: middle;\n",
       "    }\n",
       "\n",
       "    .dataframe tbody tr th {\n",
       "        vertical-align: top;\n",
       "    }\n",
       "\n",
       "    .dataframe thead th {\n",
       "        text-align: right;\n",
       "    }\n",
       "</style>\n",
       "<table border=\"1\" class=\"dataframe\">\n",
       "  <thead>\n",
       "    <tr style=\"text-align: right;\">\n",
       "      <th></th>\n",
       "      <th>Analysis</th>\n",
       "      <th>Geology</th>\n",
       "      <th>Province</th>\n",
       "      <th>Region</th>\n",
       "      <th>Site</th>\n",
       "      <th>SubSite</th>\n",
       "      <th>Formation</th>\n",
       "      <th>Band</th>\n",
       "      <th>Nodule</th>\n",
       "      <th>Li7</th>\n",
       "      <th>Be9</th>\n",
       "      <th>B11</th>\n",
       "      <th>Mg24</th>\n",
       "      <th>Al27</th>\n",
       "      <th>Si28</th>\n",
       "      <th>P31</th>\n",
       "      <th>S33</th>\n",
       "      <th>K39</th>\n",
       "      <th>Ca42</th>\n",
       "      <th>Sc45</th>\n",
       "      <th>Ti47</th>\n",
       "      <th>V51</th>\n",
       "      <th>Cr52</th>\n",
       "      <th>Mn55</th>\n",
       "      <th>Fe56</th>\n",
       "      <th>Co59</th>\n",
       "      <th>Ni60</th>\n",
       "      <th>Cu63</th>\n",
       "      <th>Zn68</th>\n",
       "      <th>Ga69</th>\n",
       "      <th>Ge72</th>\n",
       "      <th>As75</th>\n",
       "      <th>Rb85</th>\n",
       "      <th>Sr88</th>\n",
       "      <th>Y89</th>\n",
       "      <th>Zr90</th>\n",
       "      <th>Nb93</th>\n",
       "      <th>Mo95</th>\n",
       "      <th>Cd111</th>\n",
       "      <th>In115</th>\n",
       "      <th>Sn118</th>\n",
       "      <th>Cs133</th>\n",
       "      <th>Ba137</th>\n",
       "      <th>La139</th>\n",
       "      <th>Ce140</th>\n",
       "      <th>Pr141</th>\n",
       "      <th>Nd146</th>\n",
       "      <th>Sm147</th>\n",
       "      <th>Eu153</th>\n",
       "      <th>Gd157</th>\n",
       "      <th>Tb159</th>\n",
       "      <th>Dy163</th>\n",
       "      <th>Ho165</th>\n",
       "      <th>Er166</th>\n",
       "      <th>Tm169</th>\n",
       "      <th>Yb172</th>\n",
       "      <th>Lu175</th>\n",
       "      <th>Hf178</th>\n",
       "      <th>Ta181</th>\n",
       "      <th>Pb208</th>\n",
       "      <th>Th232</th>\n",
       "      <th>U238</th>\n",
       "      <th>class</th>\n",
       "    </tr>\n",
       "  </thead>\n",
       "  <tbody>\n",
       "    <tr>\n",
       "      <th>0</th>\n",
       "      <td>10_FH1_1_1</td>\n",
       "      <td>Bedrock</td>\n",
       "      <td>Northern</td>\n",
       "      <td>NaN</td>\n",
       "      <td>FH</td>\n",
       "      <td>FH1</td>\n",
       "      <td>Burnham</td>\n",
       "      <td>FH1</td>\n",
       "      <td>FH1_1_1</td>\n",
       "      <td>15.63</td>\n",
       "      <td>0.12</td>\n",
       "      <td>48.36</td>\n",
       "      <td>154.63</td>\n",
       "      <td>943.71</td>\n",
       "      <td>464944.18</td>\n",
       "      <td>50.28</td>\n",
       "      <td>538.57</td>\n",
       "      <td>455.94</td>\n",
       "      <td>712.39</td>\n",
       "      <td>0.42</td>\n",
       "      <td>15.58</td>\n",
       "      <td>0.27</td>\n",
       "      <td>3.30</td>\n",
       "      <td>0.69</td>\n",
       "      <td>8.46</td>\n",
       "      <td>0.05</td>\n",
       "      <td>0.80</td>\n",
       "      <td>1.62</td>\n",
       "      <td>10.82</td>\n",
       "      <td>0.25</td>\n",
       "      <td>1.22</td>\n",
       "      <td>0.16</td>\n",
       "      <td>0.43</td>\n",
       "      <td>12.94</td>\n",
       "      <td>0.88</td>\n",
       "      <td>1.51</td>\n",
       "      <td>0.09</td>\n",
       "      <td>0.05</td>\n",
       "      <td>0.02</td>\n",
       "      <td>0.00</td>\n",
       "      <td>0.05</td>\n",
       "      <td>0.01</td>\n",
       "      <td>6.54</td>\n",
       "      <td>0.84</td>\n",
       "      <td>0.95</td>\n",
       "      <td>0.23</td>\n",
       "      <td>0.87</td>\n",
       "      <td>0.16</td>\n",
       "      <td>0.04</td>\n",
       "      <td>0.16</td>\n",
       "      <td>0.02</td>\n",
       "      <td>0.11</td>\n",
       "      <td>0.03</td>\n",
       "      <td>0.06</td>\n",
       "      <td>0.01</td>\n",
       "      <td>0.02</td>\n",
       "      <td>0.00</td>\n",
       "      <td>0.04</td>\n",
       "      <td>0.01</td>\n",
       "      <td>0.24</td>\n",
       "      <td>0.07</td>\n",
       "      <td>0.05</td>\n",
       "      <td>FH1</td>\n",
       "    </tr>\n",
       "    <tr>\n",
       "      <th>1</th>\n",
       "      <td>11_FH1_1_1</td>\n",
       "      <td>Bedrock</td>\n",
       "      <td>Northern</td>\n",
       "      <td>NaN</td>\n",
       "      <td>FH</td>\n",
       "      <td>FH1</td>\n",
       "      <td>Burnham</td>\n",
       "      <td>FH1</td>\n",
       "      <td>FH1_1_1</td>\n",
       "      <td>11.50</td>\n",
       "      <td>0.09</td>\n",
       "      <td>44.77</td>\n",
       "      <td>22.42</td>\n",
       "      <td>1077.11</td>\n",
       "      <td>465010.94</td>\n",
       "      <td>70.91</td>\n",
       "      <td>438.20</td>\n",
       "      <td>387.82</td>\n",
       "      <td>515.24</td>\n",
       "      <td>0.44</td>\n",
       "      <td>18.47</td>\n",
       "      <td>0.29</td>\n",
       "      <td>3.45</td>\n",
       "      <td>1.01</td>\n",
       "      <td>11.59</td>\n",
       "      <td>0.11</td>\n",
       "      <td>0.36</td>\n",
       "      <td>0.53</td>\n",
       "      <td>8.93</td>\n",
       "      <td>0.34</td>\n",
       "      <td>0.85</td>\n",
       "      <td>0.10</td>\n",
       "      <td>0.45</td>\n",
       "      <td>13.22</td>\n",
       "      <td>0.95</td>\n",
       "      <td>1.74</td>\n",
       "      <td>0.07</td>\n",
       "      <td>0.01</td>\n",
       "      <td>0.02</td>\n",
       "      <td>0.00</td>\n",
       "      <td>0.04</td>\n",
       "      <td>0.02</td>\n",
       "      <td>8.04</td>\n",
       "      <td>0.92</td>\n",
       "      <td>1.01</td>\n",
       "      <td>0.23</td>\n",
       "      <td>0.98</td>\n",
       "      <td>0.18</td>\n",
       "      <td>0.04</td>\n",
       "      <td>0.18</td>\n",
       "      <td>0.02</td>\n",
       "      <td>0.13</td>\n",
       "      <td>0.03</td>\n",
       "      <td>0.06</td>\n",
       "      <td>0.01</td>\n",
       "      <td>0.04</td>\n",
       "      <td>0.01</td>\n",
       "      <td>0.05</td>\n",
       "      <td>0.00</td>\n",
       "      <td>0.07</td>\n",
       "      <td>0.08</td>\n",
       "      <td>0.04</td>\n",
       "      <td>FH1</td>\n",
       "    </tr>\n",
       "    <tr>\n",
       "      <th>2</th>\n",
       "      <td>12_FH1_1_1</td>\n",
       "      <td>Bedrock</td>\n",
       "      <td>Northern</td>\n",
       "      <td>NaN</td>\n",
       "      <td>FH</td>\n",
       "      <td>FH1</td>\n",
       "      <td>Burnham</td>\n",
       "      <td>FH1</td>\n",
       "      <td>FH1_1_1</td>\n",
       "      <td>20.05</td>\n",
       "      <td>0.06</td>\n",
       "      <td>44.88</td>\n",
       "      <td>42.70</td>\n",
       "      <td>620.21</td>\n",
       "      <td>465295.41</td>\n",
       "      <td>104.47</td>\n",
       "      <td>372.66</td>\n",
       "      <td>363.71</td>\n",
       "      <td>957.89</td>\n",
       "      <td>0.76</td>\n",
       "      <td>19.89</td>\n",
       "      <td>0.55</td>\n",
       "      <td>3.25</td>\n",
       "      <td>1.21</td>\n",
       "      <td>87.99</td>\n",
       "      <td>0.21</td>\n",
       "      <td>1.68</td>\n",
       "      <td>1.53</td>\n",
       "      <td>11.98</td>\n",
       "      <td>0.25</td>\n",
       "      <td>1.71</td>\n",
       "      <td>0.13</td>\n",
       "      <td>0.43</td>\n",
       "      <td>8.52</td>\n",
       "      <td>0.87</td>\n",
       "      <td>0.93</td>\n",
       "      <td>0.10</td>\n",
       "      <td>0.02</td>\n",
       "      <td>0.02</td>\n",
       "      <td>0.00</td>\n",
       "      <td>0.05</td>\n",
       "      <td>0.01</td>\n",
       "      <td>3.13</td>\n",
       "      <td>0.90</td>\n",
       "      <td>1.08</td>\n",
       "      <td>0.26</td>\n",
       "      <td>0.84</td>\n",
       "      <td>0.15</td>\n",
       "      <td>0.04</td>\n",
       "      <td>0.19</td>\n",
       "      <td>0.02</td>\n",
       "      <td>0.14</td>\n",
       "      <td>0.02</td>\n",
       "      <td>0.07</td>\n",
       "      <td>0.01</td>\n",
       "      <td>0.06</td>\n",
       "      <td>0.00</td>\n",
       "      <td>0.02</td>\n",
       "      <td>0.01</td>\n",
       "      <td>0.46</td>\n",
       "      <td>0.05</td>\n",
       "      <td>0.05</td>\n",
       "      <td>FH1</td>\n",
       "    </tr>\n",
       "    <tr>\n",
       "      <th>3</th>\n",
       "      <td>13_FH1_1_2</td>\n",
       "      <td>Bedrock</td>\n",
       "      <td>Northern</td>\n",
       "      <td>NaN</td>\n",
       "      <td>FH</td>\n",
       "      <td>FH1</td>\n",
       "      <td>Burnham</td>\n",
       "      <td>FH1</td>\n",
       "      <td>FH1_1_2</td>\n",
       "      <td>11.16</td>\n",
       "      <td>0.73</td>\n",
       "      <td>47.06</td>\n",
       "      <td>162.42</td>\n",
       "      <td>1143.19</td>\n",
       "      <td>465099.89</td>\n",
       "      <td>56367.93</td>\n",
       "      <td>1075.89</td>\n",
       "      <td>547.55</td>\n",
       "      <td>2174.30</td>\n",
       "      <td>0.43</td>\n",
       "      <td>42.30</td>\n",
       "      <td>0.67</td>\n",
       "      <td>152.42</td>\n",
       "      <td>4.84</td>\n",
       "      <td>145.34</td>\n",
       "      <td>0.30</td>\n",
       "      <td>2.45</td>\n",
       "      <td>5.02</td>\n",
       "      <td>17.15</td>\n",
       "      <td>0.35</td>\n",
       "      <td>2.13</td>\n",
       "      <td>0.84</td>\n",
       "      <td>0.76</td>\n",
       "      <td>13.16</td>\n",
       "      <td>0.97</td>\n",
       "      <td>2.00</td>\n",
       "      <td>0.10</td>\n",
       "      <td>0.29</td>\n",
       "      <td>0.18</td>\n",
       "      <td>0.01</td>\n",
       "      <td>0.78</td>\n",
       "      <td>0.04</td>\n",
       "      <td>8.74</td>\n",
       "      <td>0.93</td>\n",
       "      <td>0.95</td>\n",
       "      <td>0.21</td>\n",
       "      <td>0.75</td>\n",
       "      <td>0.13</td>\n",
       "      <td>0.04</td>\n",
       "      <td>0.25</td>\n",
       "      <td>0.02</td>\n",
       "      <td>0.09</td>\n",
       "      <td>0.03</td>\n",
       "      <td>0.05</td>\n",
       "      <td>0.00</td>\n",
       "      <td>0.03</td>\n",
       "      <td>0.00</td>\n",
       "      <td>0.08</td>\n",
       "      <td>0.00</td>\n",
       "      <td>0.64</td>\n",
       "      <td>0.05</td>\n",
       "      <td>0.03</td>\n",
       "      <td>FH1</td>\n",
       "    </tr>\n",
       "    <tr>\n",
       "      <th>4</th>\n",
       "      <td>14_FH1_1_2</td>\n",
       "      <td>Bedrock</td>\n",
       "      <td>Northern</td>\n",
       "      <td>NaN</td>\n",
       "      <td>FH</td>\n",
       "      <td>FH1</td>\n",
       "      <td>Burnham</td>\n",
       "      <td>FH1</td>\n",
       "      <td>FH1_1_2</td>\n",
       "      <td>17.71</td>\n",
       "      <td>0.32</td>\n",
       "      <td>48.26</td>\n",
       "      <td>33.52</td>\n",
       "      <td>547.22</td>\n",
       "      <td>465027.11</td>\n",
       "      <td>44.44</td>\n",
       "      <td>464.78</td>\n",
       "      <td>278.25</td>\n",
       "      <td>1551.63</td>\n",
       "      <td>0.71</td>\n",
       "      <td>11.18</td>\n",
       "      <td>0.27</td>\n",
       "      <td>2.56</td>\n",
       "      <td>1.73</td>\n",
       "      <td>25.38</td>\n",
       "      <td>0.05</td>\n",
       "      <td>0.80</td>\n",
       "      <td>0.55</td>\n",
       "      <td>9.80</td>\n",
       "      <td>0.41</td>\n",
       "      <td>1.41</td>\n",
       "      <td>0.12</td>\n",
       "      <td>0.28</td>\n",
       "      <td>9.90</td>\n",
       "      <td>0.90</td>\n",
       "      <td>0.90</td>\n",
       "      <td>0.08</td>\n",
       "      <td>0.04</td>\n",
       "      <td>0.10</td>\n",
       "      <td>0.00</td>\n",
       "      <td>0.09</td>\n",
       "      <td>0.01</td>\n",
       "      <td>2.74</td>\n",
       "      <td>0.97</td>\n",
       "      <td>1.09</td>\n",
       "      <td>0.27</td>\n",
       "      <td>1.00</td>\n",
       "      <td>0.17</td>\n",
       "      <td>0.04</td>\n",
       "      <td>0.19</td>\n",
       "      <td>0.02</td>\n",
       "      <td>0.15</td>\n",
       "      <td>0.03</td>\n",
       "      <td>0.05</td>\n",
       "      <td>0.01</td>\n",
       "      <td>0.05</td>\n",
       "      <td>0.01</td>\n",
       "      <td>0.02</td>\n",
       "      <td>0.01</td>\n",
       "      <td>0.59</td>\n",
       "      <td>0.06</td>\n",
       "      <td>0.09</td>\n",
       "      <td>FH1</td>\n",
       "    </tr>\n",
       "  </tbody>\n",
       "</table>\n",
       "</div>"
      ],
      "text/plain": [
       "     Analysis  Geology  Province Region Site SubSite Formation Band   Nodule  \\\n",
       "0  10_FH1_1_1  Bedrock  Northern    NaN   FH     FH1   Burnham  FH1  FH1_1_1   \n",
       "1  11_FH1_1_1  Bedrock  Northern    NaN   FH     FH1   Burnham  FH1  FH1_1_1   \n",
       "2  12_FH1_1_1  Bedrock  Northern    NaN   FH     FH1   Burnham  FH1  FH1_1_1   \n",
       "3  13_FH1_1_2  Bedrock  Northern    NaN   FH     FH1   Burnham  FH1  FH1_1_2   \n",
       "4  14_FH1_1_2  Bedrock  Northern    NaN   FH     FH1   Burnham  FH1  FH1_1_2   \n",
       "\n",
       "     Li7   Be9    B11    Mg24     Al27       Si28       P31      S33     K39  \\\n",
       "0  15.63  0.12  48.36  154.63   943.71  464944.18     50.28   538.57  455.94   \n",
       "1  11.50  0.09  44.77   22.42  1077.11  465010.94     70.91   438.20  387.82   \n",
       "2  20.05  0.06  44.88   42.70   620.21  465295.41    104.47   372.66  363.71   \n",
       "3  11.16  0.73  47.06  162.42  1143.19  465099.89  56367.93  1075.89  547.55   \n",
       "4  17.71  0.32  48.26   33.52   547.22  465027.11     44.44   464.78  278.25   \n",
       "\n",
       "      Ca42  Sc45   Ti47   V51    Cr52  Mn55    Fe56  Co59  Ni60  Cu63   Zn68  \\\n",
       "0   712.39  0.42  15.58  0.27    3.30  0.69    8.46  0.05  0.80  1.62  10.82   \n",
       "1   515.24  0.44  18.47  0.29    3.45  1.01   11.59  0.11  0.36  0.53   8.93   \n",
       "2   957.89  0.76  19.89  0.55    3.25  1.21   87.99  0.21  1.68  1.53  11.98   \n",
       "3  2174.30  0.43  42.30  0.67  152.42  4.84  145.34  0.30  2.45  5.02  17.15   \n",
       "4  1551.63  0.71  11.18  0.27    2.56  1.73   25.38  0.05  0.80  0.55   9.80   \n",
       "\n",
       "   Ga69  Ge72  As75  Rb85   Sr88   Y89  Zr90  Nb93  Mo95  Cd111  In115  Sn118  \\\n",
       "0  0.25  1.22  0.16  0.43  12.94  0.88  1.51  0.09  0.05   0.02   0.00   0.05   \n",
       "1  0.34  0.85  0.10  0.45  13.22  0.95  1.74  0.07  0.01   0.02   0.00   0.04   \n",
       "2  0.25  1.71  0.13  0.43   8.52  0.87  0.93  0.10  0.02   0.02   0.00   0.05   \n",
       "3  0.35  2.13  0.84  0.76  13.16  0.97  2.00  0.10  0.29   0.18   0.01   0.78   \n",
       "4  0.41  1.41  0.12  0.28   9.90  0.90  0.90  0.08  0.04   0.10   0.00   0.09   \n",
       "\n",
       "   Cs133  Ba137  La139  Ce140  Pr141  Nd146  Sm147  Eu153  Gd157  Tb159  \\\n",
       "0   0.01   6.54   0.84   0.95   0.23   0.87   0.16   0.04   0.16   0.02   \n",
       "1   0.02   8.04   0.92   1.01   0.23   0.98   0.18   0.04   0.18   0.02   \n",
       "2   0.01   3.13   0.90   1.08   0.26   0.84   0.15   0.04   0.19   0.02   \n",
       "3   0.04   8.74   0.93   0.95   0.21   0.75   0.13   0.04   0.25   0.02   \n",
       "4   0.01   2.74   0.97   1.09   0.27   1.00   0.17   0.04   0.19   0.02   \n",
       "\n",
       "   Dy163  Ho165  Er166  Tm169  Yb172  Lu175  Hf178  Ta181  Pb208  Th232  U238  \\\n",
       "0   0.11   0.03   0.06   0.01   0.02   0.00   0.04   0.01   0.24   0.07  0.05   \n",
       "1   0.13   0.03   0.06   0.01   0.04   0.01   0.05   0.00   0.07   0.08  0.04   \n",
       "2   0.14   0.02   0.07   0.01   0.06   0.00   0.02   0.01   0.46   0.05  0.05   \n",
       "3   0.09   0.03   0.05   0.00   0.03   0.00   0.08   0.00   0.64   0.05  0.03   \n",
       "4   0.15   0.03   0.05   0.01   0.05   0.01   0.02   0.01   0.59   0.06  0.09   \n",
       "\n",
       "  class  \n",
       "0   FH1  \n",
       "1   FH1  \n",
       "2   FH1  \n",
       "3   FH1  \n",
       "4   FH1  "
      ]
     },
     "execution_count": 8,
     "metadata": {},
     "output_type": "execute_result"
    }
   ],
   "source": [
    "my_data.head()"
   ]
  },
  {
   "cell_type": "markdown",
   "metadata": {},
   "source": [
    "### Filter for known data bedrock data for training the model"
   ]
  },
  {
   "cell_type": "code",
   "execution_count": 9,
   "metadata": {},
   "outputs": [],
   "source": [
    "train_data = my_data[(my_data['Geology']== 'Bedrock') | (my_data['Geology'] == 'Superficial')]\n",
    "test_data = my_data[my_data['Geology']=='Artefacts']\n"
   ]
  },
  {
   "cell_type": "markdown",
   "metadata": {},
   "source": [
    "### label encode the class to be predicted"
   ]
  },
  {
   "cell_type": "code",
   "execution_count": 10,
   "metadata": {},
   "outputs": [
    {
     "name": "stdout",
     "output_type": "stream",
     "text": [
      "rf\n"
     ]
    }
   ],
   "source": [
    "train_data_formodel = train_data.copy(deep = True)\n",
    "if classify_bedrock_only == False: \n",
    "    train_data_formodel['class'], uniques = pd.factorize(train_data_formodel['class'])\n",
    "\n"
   ]
  },
  {
   "cell_type": "code",
   "execution_count": null,
   "metadata": {},
   "outputs": [],
   "source": []
  },
  {
   "cell_type": "markdown",
   "metadata": {},
   "source": [
    "### order of class labels as numbers 0 through 20"
   ]
  },
  {
   "cell_type": "code",
   "execution_count": 11,
   "metadata": {},
   "outputs": [
    {
     "name": "stdout",
     "output_type": "stream",
     "text": [
      "Index(['FH1', 'FH2', 'FH3', 'ER', 'WW1', 'WW2', 'WW3', 'WW4', 'TC1', 'TC2',\n",
      "       'CS1', 'CS2', 'CS3', 'BC', 'KQ1', 'KQ2', 'KQ3', 'AR1', 'AR2', 'AR3',\n",
      "       'SL', 'FG', 'WB', 'BX', 'PF', 'BM', 'WH1', 'WH2', 'WH3', 'WH4', 'SQ2',\n",
      "       'BP', 'WN1', 'WN5', 'WN6', 'BH1', 'BH2', 'BH3', 'BH4', 'PH', 'LB', 'AB',\n",
      "       'LV', 'BR', 'KY', 'BF', 'ST', 'SH', 'CF', 'BG', 'AC', 'CR', 'GH', 'PX',\n",
      "       'WF'],\n",
      "      dtype='object')\n"
     ]
    }
   ],
   "source": [
    "if classify_bedrock_only == False: \n",
    "    print(uniques)"
   ]
  },
  {
   "cell_type": "code",
   "execution_count": 12,
   "metadata": {},
   "outputs": [
    {
     "name": "stdout",
     "output_type": "stream",
     "text": [
      "Stored 'train_data_formodel' (DataFrame)\n",
      "Stored 'train_data' (DataFrame)\n",
      "Stored 'test_data' (DataFrame)\n",
      "Stored 'my_data' (DataFrame)\n",
      "Stored 'uniques' (Index)\n"
     ]
    }
   ],
   "source": [
    "%store train_data_formodel\n",
    "%store train_data\n",
    "%store test_data\n",
    "%store my_data\n",
    "%store uniques"
   ]
  },
  {
   "cell_type": "code",
   "execution_count": 13,
   "metadata": {},
   "outputs": [],
   "source": [
    "train_data_bedrock = train_data[train_data['Geology'] == 'Bedrock']\n",
    "train_data_superficial = train_data[train_data['Geology'] == 'Superficial']"
   ]
  },
  {
   "cell_type": "code",
   "execution_count": 14,
   "metadata": {},
   "outputs": [
    {
     "data": {
      "text/plain": [
       "array(['Li7', 'Be9', 'B11', 'Mg24', 'Al27', 'Si28', 'P31', 'S33', 'K39',\n",
       "       'Ca42', 'Sc45', 'Ti47', 'V51', 'Cr52', 'Mn55', 'Fe56', 'Co59',\n",
       "       'Ni60', 'Cu63', 'Zn68', 'Ga69', 'Ge72', 'As75', 'Rb85', 'Sr88',\n",
       "       'Y89', 'Zr90', 'Nb93', 'Mo95', 'Cd111', 'In115', 'Sn118', 'Cs133',\n",
       "       'Ba137', 'La139', 'Ce140', 'Pr141', 'Nd146', 'Sm147', 'Eu153',\n",
       "       'Gd157', 'Tb159', 'Dy163', 'Ho165', 'Er166', 'Tm169', 'Yb172',\n",
       "       'Lu175', 'Hf178', 'Ta181', 'Pb208', 'Th232', 'U238'], dtype=object)"
      ]
     },
     "execution_count": 14,
     "metadata": {},
     "output_type": "execute_result"
    }
   ],
   "source": [
    "train_data_bedrock.columns.values[9:-1]"
   ]
  },
  {
   "cell_type": "code",
   "execution_count": 15,
   "metadata": {},
   "outputs": [],
   "source": [
    "element_data_train = train_data[train_data.columns.values[9:-1]]\n",
    "element_data_train_bedrock = train_data_bedrock[train_data.columns.values[9:-1]]\n",
    "element_data_train_superficial = train_data_superficial[train_data.columns.values[9:-1]]\n",
    "element_data_test = test_data[test_data.columns.values[9:-1]]"
   ]
  },
  {
   "cell_type": "code",
   "execution_count": null,
   "metadata": {},
   "outputs": [],
   "source": []
  },
  {
   "cell_type": "code",
   "execution_count": 16,
   "metadata": {},
   "outputs": [],
   "source": [
    "my_scaler_train = StandardScaler()\n",
    "my_scaler_train_bedrock = StandardScaler()\n",
    "my_scaler_train_superficial = StandardScaler()\n",
    "my_scaler_test = StandardScaler()"
   ]
  },
  {
   "cell_type": "code",
   "execution_count": 17,
   "metadata": {},
   "outputs": [],
   "source": [
    "element_data_train_scaled = my_scaler_train.fit_transform(element_data_train)\n",
    "element_data_train_bedrock_scaled = my_scaler_train_bedrock.fit_transform(element_data_train_bedrock)\n",
    "element_data_train_superficial_scaled = my_scaler_train_superficial.fit_transform(element_data_train_superficial)\n",
    "element_data_test_scaled = my_scaler_test.fit_transform(element_data_test)"
   ]
  },
  {
   "cell_type": "code",
   "execution_count": 18,
   "metadata": {},
   "outputs": [],
   "source": [
    "my_pca_train = PCA(n_components=element_data_train_scaled.shape[1])\n",
    "\n",
    "my_pca_train_bedrock = PCA(n_components=element_data_train_bedrock_scaled.shape[1])\n",
    "my_pca_train_superficial = PCA(n_components=element_data_train_superficial_scaled.shape[1])\n",
    "\n",
    "my_pca_test = PCA(n_components=element_data_test_scaled.shape[1])\n",
    "\n",
    "element_data_train_pca = my_pca_train.fit_transform(element_data_train_scaled)\n",
    "\n",
    "element_data_train_bedrock_pca = my_pca_train_bedrock.fit_transform(element_data_train_bedrock_scaled)\n",
    "element_data_train_superficial_pca = my_pca_train_superficial.fit_transform(element_data_train_superficial_scaled)\n",
    "\n",
    "element_data_test_pca = my_pca_test.fit_transform(element_data_test_scaled)"
   ]
  },
  {
   "cell_type": "code",
   "execution_count": 19,
   "metadata": {},
   "outputs": [],
   "source": [
    "no_PCs = element_data_train_scaled.shape[1]\n",
    "PC_names = []\n",
    "for i in range(0, no_PCs):\n",
    "    number = i + 1\n",
    "    column_name = 'PC' + str(number)\n",
    "    PC_names.append(column_name)"
   ]
  },
  {
   "cell_type": "code",
   "execution_count": 20,
   "metadata": {},
   "outputs": [],
   "source": [
    "PC_df_train = pd.DataFrame(data = element_data_train_pca, columns = PC_names)\n",
    "\n",
    "PC_df_bedrock_train = pd.DataFrame(data = element_data_train_bedrock_pca, columns = PC_names)\n",
    "PC_df_superficial_train = pd.DataFrame(data = element_data_train_superficial_pca, columns = PC_names)\n",
    "\n",
    "PC_df_test = pd.DataFrame(data = element_data_test_pca, columns = PC_names)"
   ]
  },
  {
   "cell_type": "code",
   "execution_count": 21,
   "metadata": {},
   "outputs": [
    {
     "name": "stdout",
     "output_type": "stream",
     "text": [
      "[t-SNE] Computing 91 nearest neighbors...\n",
      "[t-SNE] Indexed 1243 samples in 0.038s...\n",
      "[t-SNE] Computed neighbors for 1243 samples in 0.301s...\n",
      "[t-SNE] Computed conditional probabilities for sample 1000 / 1243\n",
      "[t-SNE] Computed conditional probabilities for sample 1243 / 1243\n",
      "[t-SNE] Mean sigma: 1.771276\n",
      "[t-SNE] Computed conditional probabilities in 0.155s\n",
      "[t-SNE] Iteration 50: error = 77.2895203, gradient norm = 0.0831428 (50 iterations in 8.268s)\n"
     ]
    },
    {
     "name": "stderr",
     "output_type": "stream",
     "text": [
      "\n",
      "KeyboardInterrupt\n",
      "\n"
     ]
    }
   ],
   "source": [
    "my_tsne_train = TSNE(n_components=3, n_iter=750, verbose=3).fit_transform(element_data_train_scaled)\n",
    "\n",
    "my_tsne_bedrock_train = TSNE(n_components=3, n_iter=750, verbose=3).fit_transform(element_data_train_bedrock_scaled)\n",
    "my_tsne_superficial_train = TSNE(n_components=3, n_iter=750, verbose=3).fit_transform(element_data_train_superficial_scaled)\n",
    "\n",
    "my_tsne_test = TSNE(n_components=3, n_iter=750, verbose=3).fit_transform(element_data_test_scaled)"
   ]
  },
  {
   "cell_type": "code",
   "execution_count": null,
   "metadata": {},
   "outputs": [],
   "source": [
    "tsne_df_train = pd.DataFrame(data = my_tsne_train, columns = ['tsne1', 'tsne2', 'tsne3'])\n",
    "\n",
    "tsne_df_bedrock_train = pd.DataFrame(data = my_tsne_bedrock_train, columns = ['tsne1', 'tsne2', 'tsne3'])\n",
    "tsne_df_superficial_train = pd.DataFrame(data = my_tsne_superficial_train, columns = ['tsne1', 'tsne2', 'tsne3'])\n",
    "\n",
    "tsne_df_test = pd.DataFrame(data = my_tsne_test, columns = ['tsne1', 'tsne2', 'tsne3'])"
   ]
  },
  {
   "cell_type": "code",
   "execution_count": null,
   "metadata": {},
   "outputs": [],
   "source": [
    "%store PC_df_train\n",
    "%store my_pca_train\n",
    "\n",
    "%store PC_df_bedrock_train\n",
    "%store my_pca_train_bedrock\n",
    "\n",
    "%store PC_df_superficial_train\n",
    "%store my_pca_train_superficial\n",
    "\n",
    "%store PC_df_test\n",
    "%store my_pca_test\n",
    "\n",
    "%store tsne_df_train\n",
    "\n",
    "%store tsne_df_bedrock_train\n",
    "%store tsne_df_superficial_train\n",
    "\n",
    "\n",
    "%store tsne_df_test\n"
   ]
  },
  {
   "cell_type": "markdown",
   "metadata": {},
   "source": [
    "import pandas as pd\n",
    "%store -r tsne_df_train\n",
    "tsne_df_train.to_csv('tsne_df_train.csv', index = False)\n",
    "%store -r tsne_df_test\n",
    "tsne_df_test.to_csv('tsne_df_test.csv', index=False)\n",
    "\n",
    "%store -r PC_df_train\n",
    "PC_df_train.to_csv(' PC_df_train.csv', index=False)\n",
    "%store -r PC_df_test\n",
    "PC_df_test.to_csv('PC_df_test.csv', index=False)"
   ]
  }
 ],
 "metadata": {
  "kernelspec": {
   "display_name": "Python 3",
   "language": "python",
   "name": "python3"
  },
  "language_info": {
   "codemirror_mode": {
    "name": "ipython",
    "version": 3
   },
   "file_extension": ".py",
   "mimetype": "text/x-python",
   "name": "python",
   "nbconvert_exporter": "python",
   "pygments_lexer": "ipython3",
   "version": "3.7.4"
  }
 },
 "nbformat": 4,
 "nbformat_minor": 4
}
