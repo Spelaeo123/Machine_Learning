{
 "cells": [
  {
   "cell_type": "markdown",
   "metadata": {},
   "source": [
    "### RFC"
   ]
  },
  {
   "cell_type": "markdown",
   "metadata": {},
   "source": [
    "### import modules and configure notebook"
   ]
  },
  {
   "cell_type": "code",
   "execution_count": 1,
   "metadata": {},
   "outputs": [],
   "source": [
    "import pandas as pd\n",
    "import numpy as np\n",
    "import seaborn as sns\n",
    "import matplotlib.pyplot\n",
    "from sklearn.preprocessing import StandardScaler\n",
    "from sklearn.neighbors import LocalOutlierFactor\n",
    "\n",
    "pd.set_option('max.rows', None)\n",
    "pd.set_option('max.columns', None)\n",
    "%matplotlib inline"
   ]
  },
  {
   "cell_type": "markdown",
   "metadata": {},
   "source": [
    "### Load variables stored by data_preproccessing notebook"
   ]
  },
  {
   "cell_type": "code",
   "execution_count": 2,
   "metadata": {},
   "outputs": [],
   "source": [
    "%store -r train_data_formodel\n",
    "%store -r test_data\n",
    "%store -r my_data\n",
    "%store -r uniques\n",
    "%store -r best_feats"
   ]
  },
  {
   "cell_type": "markdown",
   "metadata": {},
   "source": [
    "### configurations\n",
    "* save_plots -> boolean\n",
    "* scale -> True|False if set to True then features scaled to all have mean value 0 and standard deviation 1"
   ]
  },
  {
   "cell_type": "code",
   "execution_count": 3,
   "metadata": {},
   "outputs": [],
   "source": [
    "save_plots = False\n",
    "\n",
    "#the data should be scaled because LOF model uses KNN\n",
    "scale = True"
   ]
  },
  {
   "cell_type": "markdown",
   "metadata": {},
   "source": [
    "### counts of instances in all classes before oversampling"
   ]
  },
  {
   "cell_type": "code",
   "execution_count": 4,
   "metadata": {},
   "outputs": [
    {
     "data": {
      "text/plain": [
       "4     105\n",
       "15    100\n",
       "16     61\n",
       "0      53\n",
       "11     45\n",
       "13     36\n",
       "14     36\n",
       "2      36\n",
       "10     30\n",
       "7      30\n",
       "6      30\n",
       "5      27\n",
       "8      27\n",
       "1      24\n",
       "12     21\n",
       "3      18\n",
       "9      17\n",
       "Name: class, dtype: int64"
      ]
     },
     "execution_count": 4,
     "metadata": {},
     "output_type": "execute_result"
    }
   ],
   "source": [
    "train_data_formodel['class'].value_counts()"
   ]
  },
  {
   "cell_type": "markdown",
   "metadata": {},
   "source": [
    "### The class column is stored as the variable y "
   ]
  },
  {
   "cell_type": "code",
   "execution_count": 5,
   "metadata": {},
   "outputs": [],
   "source": [
    "y_train = np.array(train_data_formodel['class'])"
   ]
  },
  {
   "cell_type": "markdown",
   "metadata": {},
   "source": [
    "### The variables identified as best by feature selection are used as features"
   ]
  },
  {
   "cell_type": "code",
   "execution_count": 6,
   "metadata": {},
   "outputs": [],
   "source": [
    "train_data_feats = train_data_formodel[best_feats]\n",
    "test_data_feats = test_data[best_feats]\n",
    "test_data_identifiers = test_data['Analysis']"
   ]
  },
  {
   "cell_type": "markdown",
   "metadata": {},
   "source": [
    "### features are standardised"
   ]
  },
  {
   "cell_type": "code",
   "execution_count": 7,
   "metadata": {},
   "outputs": [],
   "source": [
    "if scale:\n",
    "    my_scaler = StandardScaler()\n",
    "    X_test = np.array(my_scaler.fit_transform(test_data_feats))\n",
    "    X_train = np.array(my_scaler.fit_transform(train_data_feats))\n",
    "else:\n",
    "    X_test = np.array(test_data_feats)\n",
    "    X_train = np.array(train_data_feats)"
   ]
  },
  {
   "cell_type": "markdown",
   "metadata": {},
   "source": [
    "### the dimensions of the class and features are checked"
   ]
  },
  {
   "cell_type": "code",
   "execution_count": 8,
   "metadata": {},
   "outputs": [
    {
     "name": "stdout",
     "output_type": "stream",
     "text": [
      "(696, 15)\n",
      "(363, 15)\n",
      "(696,)\n"
     ]
    }
   ],
   "source": [
    "print(X_train.shape)\n",
    "print(X_test.shape)\n",
    "print(y_train.shape)"
   ]
  },
  {
   "cell_type": "markdown",
   "metadata": {},
   "source": [
    "### Local Outlier Factor model is fitted on data that will be used for training the final classifier model\n",
    "* The model is used for the purpose of novelty detection"
   ]
  },
  {
   "cell_type": "code",
   "execution_count": 9,
   "metadata": {},
   "outputs": [],
   "source": [
    "lof = LocalOutlierFactor(novelty=True,n_neighbors=25 )\n",
    "#set novelty to true, this is suitable because we are trying to assess whether the artefcats come from the same distribution of the geological samples, refer to sklearn documentation for more details "
   ]
  },
  {
   "cell_type": "markdown",
   "metadata": {},
   "source": [
    "### print details of model"
   ]
  },
  {
   "cell_type": "code",
   "execution_count": 10,
   "metadata": {},
   "outputs": [
    {
     "name": "stdout",
     "output_type": "stream",
     "text": [
      "LocalOutlierFactor(algorithm='auto', contamination='legacy', leaf_size=30,\n",
      "          metric='minkowski', metric_params=None, n_jobs=None,\n",
      "          n_neighbors=25, novelty=True, p=2)\n"
     ]
    }
   ],
   "source": [
    "print(lof)"
   ]
  },
  {
   "cell_type": "code",
   "execution_count": 11,
   "metadata": {},
   "outputs": [
    {
     "name": "stderr",
     "output_type": "stream",
     "text": [
      "/home/rmorse/anaconda3/lib/python3.6/site-packages/sklearn/neighbors/lof.py:236: FutureWarning: default contamination parameter 0.1 will change in version 0.22 to \"auto\". This will change the predict method behavior.\n",
      "  FutureWarning)\n"
     ]
    },
    {
     "data": {
      "text/plain": [
       "LocalOutlierFactor(algorithm='auto', contamination='legacy', leaf_size=30,\n",
       "          metric='minkowski', metric_params=None, n_jobs=None,\n",
       "          n_neighbors=25, novelty=True, p=2)"
      ]
     },
     "execution_count": 11,
     "metadata": {},
     "output_type": "execute_result"
    }
   ],
   "source": [
    "#train model on geological samples\n",
    "lof.fit(X_train)"
   ]
  },
  {
   "cell_type": "markdown",
   "metadata": {},
   "source": [
    "### Local Outlier Factor model predicts whether the artefact samples are inliers or outliers \n",
    "\n",
    "* inlier = 1\n",
    "* outier = -1"
   ]
  },
  {
   "cell_type": "code",
   "execution_count": 12,
   "metadata": {},
   "outputs": [],
   "source": [
    "predictions = lof.predict(X_test)"
   ]
  },
  {
   "cell_type": "code",
   "execution_count": null,
   "metadata": {},
   "outputs": [],
   "source": []
  },
  {
   "cell_type": "code",
   "execution_count": 13,
   "metadata": {},
   "outputs": [
    {
     "data": {
      "text/plain": [
       " 1    212\n",
       "-1    151\n",
       "dtype: int64"
      ]
     },
     "execution_count": 13,
     "metadata": {},
     "output_type": "execute_result"
    }
   ],
   "source": [
    "pd.Series(predictions).value_counts()"
   ]
  },
  {
   "cell_type": "code",
   "execution_count": 14,
   "metadata": {},
   "outputs": [],
   "source": [
    "nInliers = list(pd.Series(predictions).value_counts())[0]\n",
    "nOutliers = list(pd.Series(predictions).value_counts())[1]"
   ]
  },
  {
   "cell_type": "code",
   "execution_count": 15,
   "metadata": {},
   "outputs": [
    {
     "name": "stdout",
     "output_type": "stream",
     "text": [
      "there are 212 inliers and 151 outliers, so the proportion of inliers is 0.5840220385674931\n"
     ]
    }
   ],
   "source": [
    "print('there are {0} inliers and {1} outliers, so the proportion of inliers is {2}'.format(nInliers, nOutliers, (nInliers)/(X_test.shape[0])))"
   ]
  },
  {
   "cell_type": "markdown",
   "metadata": {},
   "source": [
    "### column encoding inlier status is added to artefact-sample dataset "
   ]
  },
  {
   "cell_type": "code",
   "execution_count": 16,
   "metadata": {},
   "outputs": [],
   "source": [
    "X_test_df = pd.DataFrame(data = X_test, columns = test_data_feats.columns.values)\n",
    "X_test_labeled_df = pd.concat([test_data_identifiers.reset_index(drop = True), X_test_df, pd.Series(predictions)], axis =1).rename(columns = {0:'inlierLabel'})"
   ]
  },
  {
   "cell_type": "code",
   "execution_count": 17,
   "metadata": {},
   "outputs": [
    {
     "data": {
      "text/html": [
       "<div>\n",
       "<style scoped>\n",
       "    .dataframe tbody tr th:only-of-type {\n",
       "        vertical-align: middle;\n",
       "    }\n",
       "\n",
       "    .dataframe tbody tr th {\n",
       "        vertical-align: top;\n",
       "    }\n",
       "\n",
       "    .dataframe thead th {\n",
       "        text-align: right;\n",
       "    }\n",
       "</style>\n",
       "<table border=\"1\" class=\"dataframe\">\n",
       "  <thead>\n",
       "    <tr style=\"text-align: right;\">\n",
       "      <th></th>\n",
       "      <th>Analysis</th>\n",
       "      <th>Zr90</th>\n",
       "      <th>Ba137</th>\n",
       "      <th>Sr88</th>\n",
       "      <th>Ge72</th>\n",
       "      <th>Cr52</th>\n",
       "      <th>S33</th>\n",
       "      <th>U238</th>\n",
       "      <th>Al27</th>\n",
       "      <th>B11</th>\n",
       "      <th>Mg24</th>\n",
       "      <th>Nd146</th>\n",
       "      <th>Sc45</th>\n",
       "      <th>K39</th>\n",
       "      <th>Pr141</th>\n",
       "      <th>Li7</th>\n",
       "      <th>inlierLabel</th>\n",
       "    </tr>\n",
       "  </thead>\n",
       "  <tbody>\n",
       "    <tr>\n",
       "      <th>0</th>\n",
       "      <td>06_DH1_1</td>\n",
       "      <td>0.415835</td>\n",
       "      <td>0.368775</td>\n",
       "      <td>-0.637129</td>\n",
       "      <td>0.040125</td>\n",
       "      <td>-0.562542</td>\n",
       "      <td>-0.742558</td>\n",
       "      <td>0.219193</td>\n",
       "      <td>-0.023444</td>\n",
       "      <td>1.533570</td>\n",
       "      <td>0.438877</td>\n",
       "      <td>-0.364648</td>\n",
       "      <td>1.545144</td>\n",
       "      <td>0.828576</td>\n",
       "      <td>-0.680255</td>\n",
       "      <td>-0.575952</td>\n",
       "      <td>1</td>\n",
       "    </tr>\n",
       "    <tr>\n",
       "      <th>1</th>\n",
       "      <td>07_DH1_2</td>\n",
       "      <td>0.466569</td>\n",
       "      <td>0.726320</td>\n",
       "      <td>-0.776295</td>\n",
       "      <td>1.494307</td>\n",
       "      <td>-0.407728</td>\n",
       "      <td>-0.730983</td>\n",
       "      <td>0.219193</td>\n",
       "      <td>-0.011073</td>\n",
       "      <td>1.684246</td>\n",
       "      <td>0.456902</td>\n",
       "      <td>-0.704044</td>\n",
       "      <td>1.583953</td>\n",
       "      <td>0.820790</td>\n",
       "      <td>-0.805314</td>\n",
       "      <td>-0.675981</td>\n",
       "      <td>-1</td>\n",
       "    </tr>\n",
       "    <tr>\n",
       "      <th>2</th>\n",
       "      <td>08_DH1_3</td>\n",
       "      <td>0.073374</td>\n",
       "      <td>0.013522</td>\n",
       "      <td>-0.698014</td>\n",
       "      <td>2.039624</td>\n",
       "      <td>-2.154028</td>\n",
       "      <td>-0.381635</td>\n",
       "      <td>0.219193</td>\n",
       "      <td>0.089794</td>\n",
       "      <td>1.565532</td>\n",
       "      <td>0.281163</td>\n",
       "      <td>-1.247078</td>\n",
       "      <td>1.894423</td>\n",
       "      <td>0.837763</td>\n",
       "      <td>-1.180494</td>\n",
       "      <td>-0.654546</td>\n",
       "      <td>-1</td>\n",
       "    </tr>\n",
       "    <tr>\n",
       "      <th>3</th>\n",
       "      <td>09_DH2_1</td>\n",
       "      <td>0.441202</td>\n",
       "      <td>1.865423</td>\n",
       "      <td>1.354689</td>\n",
       "      <td>0.611411</td>\n",
       "      <td>-1.993021</td>\n",
       "      <td>-1.389974</td>\n",
       "      <td>-1.161815</td>\n",
       "      <td>2.804214</td>\n",
       "      <td>-0.704501</td>\n",
       "      <td>0.906387</td>\n",
       "      <td>-0.670104</td>\n",
       "      <td>1.972041</td>\n",
       "      <td>0.252682</td>\n",
       "      <td>-0.805314</td>\n",
       "      <td>3.158491</td>\n",
       "      <td>1</td>\n",
       "    </tr>\n",
       "    <tr>\n",
       "      <th>4</th>\n",
       "      <td>10_DH2_2</td>\n",
       "      <td>1.126124</td>\n",
       "      <td>2.305478</td>\n",
       "      <td>1.485157</td>\n",
       "      <td>-1.414056</td>\n",
       "      <td>-0.104293</td>\n",
       "      <td>-0.862249</td>\n",
       "      <td>-1.080618</td>\n",
       "      <td>0.219742</td>\n",
       "      <td>-0.920622</td>\n",
       "      <td>2.367498</td>\n",
       "      <td>0.212325</td>\n",
       "      <td>2.088467</td>\n",
       "      <td>0.252682</td>\n",
       "      <td>-0.054956</td>\n",
       "      <td>3.518122</td>\n",
       "      <td>1</td>\n",
       "    </tr>\n",
       "  </tbody>\n",
       "</table>\n",
       "</div>"
      ],
      "text/plain": [
       "   Analysis      Zr90     Ba137      Sr88      Ge72      Cr52       S33  \\\n",
       "0  06_DH1_1  0.415835  0.368775 -0.637129  0.040125 -0.562542 -0.742558   \n",
       "1  07_DH1_2  0.466569  0.726320 -0.776295  1.494307 -0.407728 -0.730983   \n",
       "2  08_DH1_3  0.073374  0.013522 -0.698014  2.039624 -2.154028 -0.381635   \n",
       "3  09_DH2_1  0.441202  1.865423  1.354689  0.611411 -1.993021 -1.389974   \n",
       "4  10_DH2_2  1.126124  2.305478  1.485157 -1.414056 -0.104293 -0.862249   \n",
       "\n",
       "       U238      Al27       B11      Mg24     Nd146      Sc45       K39  \\\n",
       "0  0.219193 -0.023444  1.533570  0.438877 -0.364648  1.545144  0.828576   \n",
       "1  0.219193 -0.011073  1.684246  0.456902 -0.704044  1.583953  0.820790   \n",
       "2  0.219193  0.089794  1.565532  0.281163 -1.247078  1.894423  0.837763   \n",
       "3 -1.161815  2.804214 -0.704501  0.906387 -0.670104  1.972041  0.252682   \n",
       "4 -1.080618  0.219742 -0.920622  2.367498  0.212325  2.088467  0.252682   \n",
       "\n",
       "      Pr141       Li7  inlierLabel  \n",
       "0 -0.680255 -0.575952            1  \n",
       "1 -0.805314 -0.675981           -1  \n",
       "2 -1.180494 -0.654546           -1  \n",
       "3 -0.805314  3.158491            1  \n",
       "4 -0.054956  3.518122            1  "
      ]
     },
     "execution_count": 17,
     "metadata": {},
     "output_type": "execute_result"
    }
   ],
   "source": [
    "X_test_labeled_df.head()"
   ]
  },
  {
   "cell_type": "markdown",
   "metadata": {},
   "source": [
    "### dataset is stored"
   ]
  },
  {
   "cell_type": "code",
   "execution_count": 18,
   "metadata": {},
   "outputs": [
    {
     "name": "stdout",
     "output_type": "stream",
     "text": [
      "Stored 'X_test_labeled_df' (DataFrame)\n"
     ]
    }
   ],
   "source": [
    "%store X_test_labeled_df"
   ]
  }
 ],
 "metadata": {
  "kernelspec": {
   "display_name": "Python 3",
   "language": "python",
   "name": "python3"
  },
  "language_info": {
   "codemirror_mode": {
    "name": "ipython",
    "version": 3
   },
   "file_extension": ".py",
   "mimetype": "text/x-python",
   "name": "python",
   "nbconvert_exporter": "python",
   "pygments_lexer": "ipython3",
   "version": "3.6.8"
  }
 },
 "nbformat": 4,
 "nbformat_minor": 2
}
