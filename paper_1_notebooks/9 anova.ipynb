{
 "cells": [
  {
   "cell_type": "markdown",
   "metadata": {},
   "source": [
    "# ANOVA comparison of model evaluation results"
   ]
  },
  {
   "cell_type": "markdown",
   "metadata": {},
   "source": [
    "## Import Libraries"
   ]
  },
  {
   "cell_type": "code",
   "execution_count": 32,
   "metadata": {},
   "outputs": [],
   "source": [
    "import pandas as pd\n",
    "import numpy as np\n",
    "import swifter\n",
    "import seaborn as sns\n",
    "import matplotlib.pyplot as plt\n",
    "\n",
    "import statsmodels.api as sm\n",
    "from statsmodels.formula.api import ols\n",
    "\n",
    "import scipy.stats as stats\n",
    "\n",
    "pd.set_option('max.rows', None)\n",
    "pd.set_option('max.columns', None)\n",
    "%matplotlib inline"
   ]
  },
  {
   "cell_type": "markdown",
   "metadata": {},
   "source": [
    "## Save Plots Switch"
   ]
  },
  {
   "cell_type": "code",
   "execution_count": 2,
   "metadata": {},
   "outputs": [],
   "source": [
    "save_plots = True"
   ]
  },
  {
   "cell_type": "markdown",
   "metadata": {},
   "source": [
    "## Import Data to be compared"
   ]
  },
  {
   "cell_type": "code",
   "execution_count": 3,
   "metadata": {},
   "outputs": [],
   "source": [
    "rfc_data = pd.read_csv('./output_datasets/rfc_datasets/cross_validation_results.csv')\n",
    "svm_data = pd.read_csv('./output_datasets/svm_datasets/cross_validation_results.csv')\n",
    "knn_data = pd.read_csv('./output_datasets/knn_datasets/cross_validation_results.csv')"
   ]
  },
  {
   "cell_type": "code",
   "execution_count": 4,
   "metadata": {},
   "outputs": [],
   "source": [
    "#rfc_data.head()"
   ]
  },
  {
   "cell_type": "markdown",
   "metadata": {},
   "source": [
    "## Average Columns to produce Round Medians"
   ]
  },
  {
   "cell_type": "code",
   "execution_count": 5,
   "metadata": {},
   "outputs": [],
   "source": [
    "rfc_class_medians = pd.DataFrame(rfc_data.median(axis=1))"
   ]
  },
  {
   "cell_type": "code",
   "execution_count": 6,
   "metadata": {},
   "outputs": [],
   "source": [
    "rfc_class_medians.columns = ['f1_score']"
   ]
  },
  {
   "cell_type": "code",
   "execution_count": 7,
   "metadata": {},
   "outputs": [],
   "source": [
    "rfc_class_medians.insert(0, \"ml_method\",'RFC')"
   ]
  },
  {
   "cell_type": "code",
   "execution_count": 8,
   "metadata": {},
   "outputs": [],
   "source": [
    "#rfc_class_medians.head()"
   ]
  },
  {
   "cell_type": "code",
   "execution_count": 9,
   "metadata": {},
   "outputs": [],
   "source": [
    "svm_class_medians = pd.DataFrame(svm_data.median(axis=1))"
   ]
  },
  {
   "cell_type": "code",
   "execution_count": 10,
   "metadata": {},
   "outputs": [],
   "source": [
    "svm_class_medians.columns = ['f1_score']"
   ]
  },
  {
   "cell_type": "code",
   "execution_count": 11,
   "metadata": {},
   "outputs": [],
   "source": [
    "svm_class_medians.insert(0, \"ml_method\",'SVM')"
   ]
  },
  {
   "cell_type": "code",
   "execution_count": 12,
   "metadata": {},
   "outputs": [],
   "source": [
    "#svm_class_medians.head()"
   ]
  },
  {
   "cell_type": "code",
   "execution_count": 13,
   "metadata": {},
   "outputs": [],
   "source": [
    "knn_class_medians = pd.DataFrame(knn_data.median(axis=1))"
   ]
  },
  {
   "cell_type": "code",
   "execution_count": 14,
   "metadata": {},
   "outputs": [],
   "source": [
    "knn_class_medians.columns = ['f1_score']"
   ]
  },
  {
   "cell_type": "code",
   "execution_count": 15,
   "metadata": {},
   "outputs": [],
   "source": [
    "knn_class_medians.insert(0, \"ml_method\",'KNN')"
   ]
  },
  {
   "cell_type": "code",
   "execution_count": 67,
   "metadata": {},
   "outputs": [],
   "source": [
    "#knn_class_medians.head()"
   ]
  },
  {
   "cell_type": "code",
   "execution_count": null,
   "metadata": {},
   "outputs": [],
   "source": []
  },
  {
   "cell_type": "markdown",
   "metadata": {},
   "source": [
    "## Merge rfc, svm, knn medians into single df"
   ]
  },
  {
   "cell_type": "code",
   "execution_count": 17,
   "metadata": {},
   "outputs": [],
   "source": [
    "ml_medians = pd.concat([rfc_class_medians, svm_class_medians, knn_class_medians])"
   ]
  },
  {
   "cell_type": "code",
   "execution_count": 64,
   "metadata": {},
   "outputs": [
    {
     "data": {
      "text/plain": [
       "ml_method     3\n",
       "f1_score     25\n",
       "dtype: int64"
      ]
     },
     "execution_count": 64,
     "metadata": {},
     "output_type": "execute_result"
    }
   ],
   "source": []
  },
  {
   "cell_type": "markdown",
   "metadata": {},
   "source": [
    "## Visualise Median F1 Scores per Technique"
   ]
  },
  {
   "cell_type": "code",
   "execution_count": 33,
   "metadata": {},
   "outputs": [
    {
     "data": {
      "image/png": "[encoded data removed]",
      "text/plain": [
       "<Figure size 842.4x595.44 with 1 Axes>"
      ]
     },
     "metadata": {},
     "output_type": "display_data"
    }
   ],
   "source": [
    "sns.set(rc={'figure.figsize':(11.7,8.27)})\n",
    "plot = sns.boxplot(x = ml_medians['ml_method'], y = ml_medians['f1_score'])\n",
    "plot.set_title('Boxplot of median F1 scores for Geological Sites by ML Technique', fontdict={'fontsize': 14})\n",
    "plot.set_ylabel('F1 score', fontdict={'fontsize': 14})\n",
    "plot.set_xlabel(\"Classification Technique\", fontdict={'fontsize': 14})\n",
    "\n",
    "if save_plots:\n",
    "    fig = plot.get_figure()\n",
    "    #fig.savefig('final_figures/ML_Technique_F1s_comparison_boxplot.png')"
   ]
  },
  {
   "cell_type": "markdown",
   "metadata": {},
   "source": [
    "## Conduct ANOVA"
   ]
  },
  {
   "cell_type": "code",
   "execution_count": 24,
   "metadata": {},
   "outputs": [
    {
     "name": "stdout",
     "output_type": "stream",
     "text": [
      "             df    sum_sq   mean_sq         F    PR(>F)\n",
      "ml_method   2.0  0.163310  0.081655  6.815376  0.002481\n",
      "Residual   48.0  0.575086  0.011981       NaN       NaN\n"
     ]
    }
   ],
   "source": [
    "lm = ols('f1_score ~ ml_method',data=ml_medians).fit()\n",
    "aov_table = sm.stats.anova_lm(lm)\n",
    "print(aov_table)"
   ]
  },
  {
   "cell_type": "code",
   "execution_count": 25,
   "metadata": {},
   "outputs": [
    {
     "data": {
      "text/html": [
       "<div>\n",
       "<style scoped>\n",
       "    .dataframe tbody tr th:only-of-type {\n",
       "        vertical-align: middle;\n",
       "    }\n",
       "\n",
       "    .dataframe tbody tr th {\n",
       "        vertical-align: top;\n",
       "    }\n",
       "\n",
       "    .dataframe thead th {\n",
       "        text-align: right;\n",
       "    }\n",
       "</style>\n",
       "<table border=\"1\" class=\"dataframe\">\n",
       "  <thead>\n",
       "    <tr style=\"text-align: right;\">\n",
       "      <th></th>\n",
       "      <th>sum_sq</th>\n",
       "      <th>df</th>\n",
       "      <th>mean_sq</th>\n",
       "      <th>F</th>\n",
       "      <th>PR(&gt;F)</th>\n",
       "      <th>eta_sq</th>\n",
       "      <th>omega_sq</th>\n",
       "    </tr>\n",
       "  </thead>\n",
       "  <tbody>\n",
       "    <tr>\n",
       "      <td>ml_method</td>\n",
       "      <td>0.163310</td>\n",
       "      <td>2.0</td>\n",
       "      <td>0.081655</td>\n",
       "      <td>6.815376</td>\n",
       "      <td>0.002481</td>\n",
       "      <td>0.221168</td>\n",
       "      <td>0.185704</td>\n",
       "    </tr>\n",
       "    <tr>\n",
       "      <td>Residual</td>\n",
       "      <td>0.575086</td>\n",
       "      <td>48.0</td>\n",
       "      <td>0.011981</td>\n",
       "      <td>NaN</td>\n",
       "      <td>NaN</td>\n",
       "      <td>NaN</td>\n",
       "      <td>NaN</td>\n",
       "    </tr>\n",
       "  </tbody>\n",
       "</table>\n",
       "</div>"
      ],
      "text/plain": [
       "             sum_sq    df   mean_sq         F    PR(>F)    eta_sq  omega_sq\n",
       "ml_method  0.163310   2.0  0.081655  6.815376  0.002481  0.221168  0.185704\n",
       "Residual   0.575086  48.0  0.011981       NaN       NaN       NaN       NaN"
      ]
     },
     "execution_count": 25,
     "metadata": {},
     "output_type": "execute_result"
    }
   ],
   "source": [
    "\"\"\"\n",
    "The function below was created specifically for the one-way ANOVA table results returned for Type II sum of squares\n",
    "From - https://www.pythonfordatascience.org/anova-python/ \n",
    "\"\"\"\n",
    "\n",
    "def anova_table(aov):\n",
    "    aov['mean_sq'] = aov[:]['sum_sq']/aov[:]['df']\n",
    "\n",
    "    aov['eta_sq'] = aov[:-1]['sum_sq']/sum(aov['sum_sq'])\n",
    "\n",
    "    aov['omega_sq'] = (aov[:-1]['sum_sq']-(aov[:-1]['df']*aov['mean_sq'][-1]))/(sum(aov['sum_sq'])+aov['mean_sq'][-1])\n",
    "\n",
    "    cols = ['sum_sq', 'df', 'mean_sq', 'F', 'PR(>F)', 'eta_sq', 'omega_sq']\n",
    "    aov = aov[cols]\n",
    "    return aov\n",
    "\n",
    "anova_table(aov_table)"
   ]
  },
  {
   "cell_type": "markdown",
   "metadata": {},
   "source": [
    "## Test for Normality"
   ]
  },
  {
   "cell_type": "code",
   "execution_count": 30,
   "metadata": {},
   "outputs": [
    {
     "data": {
      "text/plain": [
       "(0.972887396812439, 0.29040753841400146)"
      ]
     },
     "execution_count": 30,
     "metadata": {},
     "output_type": "execute_result"
    }
   ],
   "source": [
    "stats.shapiro(lm.resid) #W-test statistic, p-value"
   ]
  },
  {
   "cell_type": "code",
   "execution_count": 62,
   "metadata": {},
   "outputs": [
    {
     "data": {
      "image/png": "[encoded data removed]",
      "text/plain": [
       "<Figure size 288x288 with 1 Axes>"
      ]
     },
     "metadata": {},
     "output_type": "display_data"
    }
   ],
   "source": [
    "sns.set_style(\"whitegrid\",{'grid.linestyle': 'dashed'})\n",
    "fig = plt.figure(figsize= (4, 4))\n",
    "ax = fig.add_subplot(111)\n",
    "\n",
    "normality_plot, stat = stats.probplot(lm.resid, plot= plt, rvalue= True)\n",
    "ax.set_title(\"Probability plot of model residual's\", fontsize= 12)\n",
    "ax.set\n",
    "\n",
    "ax.set_xlabel('Theoretical Quantiles',fontsize=10)\n",
    "ax.set_ylabel('Ordered Values',fontsize=10)\n",
    "\n",
    "plt.yticks(fontsize = 10)\n",
    "plt.xticks(fontsize = 10)\n",
    "plt.tight_layout()\n",
    "\n",
    "plt.show()"
   ]
  },
  {
   "cell_type": "code",
   "execution_count": null,
   "metadata": {},
   "outputs": [],
   "source": []
  },
  {
   "cell_type": "markdown",
   "metadata": {},
   "source": [
    "## Levene's test of homogeneity"
   ]
  },
  {
   "cell_type": "code",
   "execution_count": 36,
   "metadata": {},
   "outputs": [
    {
     "data": {
      "text/plain": [
       "LeveneResult(statistic=0.4285340906398199, pvalue=0.6539311766926287)"
      ]
     },
     "execution_count": 36,
     "metadata": {},
     "output_type": "execute_result"
    }
   ],
   "source": [
    "stats.levene(ml_medians['f1_score'][ml_medians['ml_method'] == 'RFC'],\n",
    "             ml_medians['f1_score'][ml_medians['ml_method'] == 'SVM'],\n",
    "             ml_medians['f1_score'][ml_medians['ml_method'] == 'KNN'])"
   ]
  },
  {
   "cell_type": "code",
   "execution_count": 51,
   "metadata": {},
   "outputs": [
    {
     "data": {
      "image/png": "[encoded data removed]",
      "text/plain": [
       "<Figure size 288x288 with 1 Axes>"
      ]
     },
     "metadata": {},
     "output_type": "display_data"
    }
   ],
   "source": [
    "fig = plt.figure(figsize= (4, 4))\n",
    "sns.set_style(\"whitegrid\",{'grid.linestyle': 'dashed'})\n",
    "\n",
    "ax = fig.add_subplot(111)\n",
    "\n",
    "ax.set_title('Box Plot of F1 Score by ML Method', fontsize= 12)\n",
    "ax.set\n",
    "\n",
    "data = [ml_medians['f1_score'][ml_medians['ml_method'] == 'RFC'],\n",
    "             ml_medians['f1_score'][ml_medians['ml_method'] == 'SVM'],\n",
    "             ml_medians['f1_score'][ml_medians['ml_method'] == 'KNN']]\n",
    "\n",
    "ax.boxplot(data, labels= ['RFC', 'SVM', 'KNN'], showmeans= True)\n",
    "\n",
    "plt.xlabel('ML Method',fontsize=10)\n",
    "plt.ylabel('F1 Score',fontsize=10)\n",
    "\n",
    "plt.show()\n",
    "\n",
    "if save_plots:\n",
    "    fig = plot.get_figure()\n",
    "    fig.savefig(filepath)"
   ]
  },
  {
   "cell_type": "markdown",
   "metadata": {},
   "source": [
    "## Tukey's HSD (Honestly Significant Difference)"
   ]
  },
  {
   "cell_type": "code",
   "execution_count": 39,
   "metadata": {},
   "outputs": [
    {
     "data": {
      "text/html": [
       "<table class=\"simpletable\">\n",
       "<caption>Multiple Comparison of Means - Tukey HSD, FWER=0.05</caption>\n",
       "<tr>\n",
       "  <th>group1</th> <th>group2</th> <th>meandiff</th>  <th>p-adj</th>  <th>lower</th>   <th>upper</th> <th>reject</th>\n",
       "</tr>\n",
       "<tr>\n",
       "    <td>KNN</td>    <td>RFC</td>   <td>0.1385</td>  <td>0.0016</td> <td>0.0477</td>  <td>0.2293</td>  <td>True</td> \n",
       "</tr>\n",
       "<tr>\n",
       "    <td>KNN</td>    <td>SVM</td>   <td>0.0738</td>  <td>0.1319</td> <td>-0.017</td>  <td>0.1646</td>  <td>False</td>\n",
       "</tr>\n",
       "<tr>\n",
       "    <td>RFC</td>    <td>SVM</td>   <td>-0.0647</td> <td>0.2068</td> <td>-0.1555</td> <td>0.0261</td>  <td>False</td>\n",
       "</tr>\n",
       "</table>"
      ],
      "text/plain": [
       "<class 'statsmodels.iolib.table.SimpleTable'>"
      ]
     },
     "execution_count": 39,
     "metadata": {},
     "output_type": "execute_result"
    }
   ],
   "source": [
    "import statsmodels.stats.multicomp as mc\n",
    "\n",
    "comp = mc.MultiComparison(ml_medians['f1_score'], ml_medians['ml_method'])\n",
    "post_hoc_res = comp.tukeyhsd()\n",
    "post_hoc_res.summary()"
   ]
  },
  {
   "cell_type": "code",
   "execution_count": 53,
   "metadata": {},
   "outputs": [
    {
     "data": {
      "image/png": "[encoded data removed]",
      "text/plain": [
       "<Figure size 720x432 with 1 Axes>"
      ]
     },
     "execution_count": 53,
     "metadata": {},
     "output_type": "execute_result"
    },
    {
     "data": {
      "image/png": "[encoded data removed]",
      "text/plain": [
       "<Figure size 720x432 with 1 Axes>"
      ]
     },
     "metadata": {},
     "output_type": "display_data"
    }
   ],
   "source": [
    "sns.set_style(\"whitegrid\",{'grid.linestyle': 'dashed'})\n",
    "post_hoc_res.plot_simultaneous(ylabel= 'ML Method', xlabel= 'Score Difference')\n",
    "\n",
    "if save_plots:\n",
    "    fig = plot.get_figure()\n",
    "    fig.savefig(filepath)"
   ]
  },
  {
   "cell_type": "markdown",
   "metadata": {},
   "source": [
    "## Bonferroni Correction"
   ]
  },
  {
   "cell_type": "code",
   "execution_count": 43,
   "metadata": {},
   "outputs": [
    {
     "data": {
      "text/html": [
       "<table class=\"simpletable\">\n",
       "<caption>Test Multiple Comparison ttest_ind \n",
       "FWER=0.05 method=bonf\n",
       "alphacSidak=0.02, alphacBonf=0.017</caption>\n",
       "<tr>\n",
       "  <th>group1</th> <th>group2</th>  <th>stat</th>    <th>pval</th>  <th>pval_corr</th> <th>reject</th>\n",
       "</tr>\n",
       "<tr>\n",
       "    <td>KNN</td>    <td>RFC</td>  <td>-3.5358</td> <td>0.0013</td>  <td>0.0038</td>    <td>True</td> \n",
       "</tr>\n",
       "<tr>\n",
       "    <td>KNN</td>    <td>SVM</td>  <td>-1.9562</td> <td>0.0592</td>  <td>0.1776</td>    <td>False</td>\n",
       "</tr>\n",
       "<tr>\n",
       "    <td>RFC</td>    <td>SVM</td>  <td>1.8154</td>  <td>0.0788</td>  <td>0.2365</td>    <td>False</td>\n",
       "</tr>\n",
       "</table>"
      ],
      "text/plain": [
       "<class 'statsmodels.iolib.table.SimpleTable'>"
      ]
     },
     "execution_count": 43,
     "metadata": {},
     "output_type": "execute_result"
    }
   ],
   "source": [
    "comp = mc.MultiComparison(ml_medians['f1_score'], ml_medians['ml_method'])\n",
    "tbl, a1, a2 = comp.allpairtest(stats.ttest_ind, method= 'bonf')\n",
    "\n",
    "tbl"
   ]
  },
  {
   "cell_type": "markdown",
   "metadata": {},
   "source": [
    "## Sidak Correction"
   ]
  },
  {
   "cell_type": "code",
   "execution_count": 44,
   "metadata": {},
   "outputs": [
    {
     "data": {
      "text/html": [
       "<table class=\"simpletable\">\n",
       "<caption>Test Multiple Comparison ttest_ind \n",
       "FWER=0.05 method=sidak\n",
       "alphacSidak=0.02, alphacBonf=0.017</caption>\n",
       "<tr>\n",
       "  <th>group1</th> <th>group2</th>  <th>stat</th>    <th>pval</th>  <th>pval_corr</th> <th>reject</th>\n",
       "</tr>\n",
       "<tr>\n",
       "    <td>KNN</td>    <td>RFC</td>  <td>-3.5358</td> <td>0.0013</td>  <td>0.0038</td>    <td>True</td> \n",
       "</tr>\n",
       "<tr>\n",
       "    <td>KNN</td>    <td>SVM</td>  <td>-1.9562</td> <td>0.0592</td>  <td>0.1673</td>    <td>False</td>\n",
       "</tr>\n",
       "<tr>\n",
       "    <td>RFC</td>    <td>SVM</td>  <td>1.8154</td>  <td>0.0788</td>  <td>0.2184</td>    <td>False</td>\n",
       "</tr>\n",
       "</table>"
      ],
      "text/plain": [
       "<class 'statsmodels.iolib.table.SimpleTable'>"
      ]
     },
     "execution_count": 44,
     "metadata": {},
     "output_type": "execute_result"
    }
   ],
   "source": [
    "comp = mc.MultiComparison(ml_medians['f1_score'], ml_medians['ml_method'])\n",
    "tbl, a1, a2 = comp.allpairtest(stats.ttest_ind, method= 'sidak')\n",
    "\n",
    "tbl"
   ]
  },
  {
   "cell_type": "code",
   "execution_count": null,
   "metadata": {},
   "outputs": [],
   "source": []
  }
 ],
 "metadata": {
  "kernelspec": {
   "display_name": "Python 3",
   "language": "python",
   "name": "python3"
  },
  "language_info": {
   "codemirror_mode": {
    "name": "ipython",
    "version": 3
   },
   "file_extension": ".py",
   "mimetype": "text/x-python",
   "name": "python",
   "nbconvert_exporter": "python",
   "pygments_lexer": "ipython3",
   "version": "3.7.4"
  }
 },
 "nbformat": 4,
 "nbformat_minor": 4
}
