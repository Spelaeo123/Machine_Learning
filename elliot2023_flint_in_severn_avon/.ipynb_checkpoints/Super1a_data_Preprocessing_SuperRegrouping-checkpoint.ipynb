{
 "cells": [
  {
   "cell_type": "markdown",
   "metadata": {},
   "source": [
    "# Import libraries/packages"
   ]
  },
  {
   "cell_type": "code",
   "execution_count": 1,
   "metadata": {},
   "outputs": [],
   "source": [
    "# Import pandas, numpy, seabon, sklearn, pyplot\n",
    "import pandas as pd\n",
    "import numpy as np\n",
    "import seaborn as sns\n",
    "import sklearn as sk\n",
    "\n",
    "from matplotlib import pyplot as plt\n",
    "from sklearn.preprocessing import StandardScaler\n",
    "from sklearn.decomposition import PCA\n",
    "from sklearn.manifold import TSNE\n",
    "#from sklearn.cluster import KMeans\n",
    "\n",
    "#SpectralClustering\n",
    "\n",
    "#pd.set_option('max.rows', None)\n",
    "#pd.set_option('max.columns', None)\n",
    "\n",
    "%matplotlib inline"
   ]
  },
  {
   "cell_type": "code",
   "execution_count": 2,
   "metadata": {},
   "outputs": [],
   "source": [
    "from config_and_dependencies.config import * "
   ]
  },
  {
   "cell_type": "markdown",
   "metadata": {},
   "source": [
    "## Import data"
   ]
  },
  {
   "cell_type": "code",
   "execution_count": 3,
   "metadata": {},
   "outputs": [],
   "source": [
    "%store -r my_superficial"
   ]
  },
  {
   "cell_type": "code",
   "execution_count": null,
   "metadata": {
    "tags": []
   },
   "outputs": [],
   "source": []
  },
  {
   "cell_type": "code",
   "execution_count": 4,
   "metadata": {},
   "outputs": [
    {
     "data": {
      "text/html": [
       "<div>\n",
       "<style scoped>\n",
       "    .dataframe tbody tr th:only-of-type {\n",
       "        vertical-align: middle;\n",
       "    }\n",
       "\n",
       "    .dataframe tbody tr th {\n",
       "        vertical-align: top;\n",
       "    }\n",
       "\n",
       "    .dataframe thead th {\n",
       "        text-align: right;\n",
       "    }\n",
       "</style>\n",
       "<table border=\"1\" class=\"dataframe\">\n",
       "  <thead>\n",
       "    <tr style=\"text-align: right;\">\n",
       "      <th></th>\n",
       "      <th>Analysis</th>\n",
       "      <th>Geology</th>\n",
       "      <th>Province</th>\n",
       "      <th>Region</th>\n",
       "      <th>Site</th>\n",
       "      <th>SubSite</th>\n",
       "      <th>Formation</th>\n",
       "      <th>Band</th>\n",
       "      <th>Nodule</th>\n",
       "      <th>Li7</th>\n",
       "      <th>...</th>\n",
       "      <th>Er166</th>\n",
       "      <th>Tm169</th>\n",
       "      <th>Yb172</th>\n",
       "      <th>Lu175</th>\n",
       "      <th>Hf178</th>\n",
       "      <th>Ta181</th>\n",
       "      <th>Pb208</th>\n",
       "      <th>Th232</th>\n",
       "      <th>U238</th>\n",
       "      <th>class</th>\n",
       "    </tr>\n",
       "  </thead>\n",
       "  <tbody>\n",
       "    <tr>\n",
       "      <th>808</th>\n",
       "      <td>005_AB_1</td>\n",
       "      <td>Superficial</td>\n",
       "      <td>NaN</td>\n",
       "      <td>AB</td>\n",
       "      <td>AB</td>\n",
       "      <td>AB</td>\n",
       "      <td>NaN</td>\n",
       "      <td>AB</td>\n",
       "      <td>AB_1</td>\n",
       "      <td>19.35</td>\n",
       "      <td>...</td>\n",
       "      <td>0.01</td>\n",
       "      <td>0.00</td>\n",
       "      <td>0.01</td>\n",
       "      <td>0.0</td>\n",
       "      <td>0.01</td>\n",
       "      <td>0.00</td>\n",
       "      <td>0.56</td>\n",
       "      <td>0.05</td>\n",
       "      <td>0.210000</td>\n",
       "      <td>AB</td>\n",
       "    </tr>\n",
       "    <tr>\n",
       "      <th>809</th>\n",
       "      <td>006_AB_1</td>\n",
       "      <td>Superficial</td>\n",
       "      <td>NaN</td>\n",
       "      <td>AB</td>\n",
       "      <td>AB</td>\n",
       "      <td>AB</td>\n",
       "      <td>NaN</td>\n",
       "      <td>AB</td>\n",
       "      <td>AB_1</td>\n",
       "      <td>2.61</td>\n",
       "      <td>...</td>\n",
       "      <td>0.02</td>\n",
       "      <td>0.00</td>\n",
       "      <td>0.02</td>\n",
       "      <td>0.0</td>\n",
       "      <td>0.00</td>\n",
       "      <td>0.00</td>\n",
       "      <td>0.24</td>\n",
       "      <td>0.06</td>\n",
       "      <td>0.510000</td>\n",
       "      <td>AB</td>\n",
       "    </tr>\n",
       "    <tr>\n",
       "      <th>810</th>\n",
       "      <td>007_AB_1</td>\n",
       "      <td>Superficial</td>\n",
       "      <td>NaN</td>\n",
       "      <td>AB</td>\n",
       "      <td>AB</td>\n",
       "      <td>AB</td>\n",
       "      <td>NaN</td>\n",
       "      <td>AB</td>\n",
       "      <td>AB_1</td>\n",
       "      <td>2.29</td>\n",
       "      <td>...</td>\n",
       "      <td>0.02</td>\n",
       "      <td>0.00</td>\n",
       "      <td>0.00</td>\n",
       "      <td>0.0</td>\n",
       "      <td>0.02</td>\n",
       "      <td>0.01</td>\n",
       "      <td>0.48</td>\n",
       "      <td>0.05</td>\n",
       "      <td>0.242569</td>\n",
       "      <td>AB</td>\n",
       "    </tr>\n",
       "    <tr>\n",
       "      <th>811</th>\n",
       "      <td>008_AB_2</td>\n",
       "      <td>Superficial</td>\n",
       "      <td>NaN</td>\n",
       "      <td>AB</td>\n",
       "      <td>AB</td>\n",
       "      <td>AB</td>\n",
       "      <td>NaN</td>\n",
       "      <td>AB</td>\n",
       "      <td>AB_2</td>\n",
       "      <td>6.86</td>\n",
       "      <td>...</td>\n",
       "      <td>0.07</td>\n",
       "      <td>0.01</td>\n",
       "      <td>0.04</td>\n",
       "      <td>0.0</td>\n",
       "      <td>0.00</td>\n",
       "      <td>0.01</td>\n",
       "      <td>3.11</td>\n",
       "      <td>0.06</td>\n",
       "      <td>0.030000</td>\n",
       "      <td>AB</td>\n",
       "    </tr>\n",
       "    <tr>\n",
       "      <th>812</th>\n",
       "      <td>009_AB_2</td>\n",
       "      <td>Superficial</td>\n",
       "      <td>NaN</td>\n",
       "      <td>AB</td>\n",
       "      <td>AB</td>\n",
       "      <td>AB</td>\n",
       "      <td>NaN</td>\n",
       "      <td>AB</td>\n",
       "      <td>AB_2</td>\n",
       "      <td>8.45</td>\n",
       "      <td>...</td>\n",
       "      <td>0.05</td>\n",
       "      <td>0.00</td>\n",
       "      <td>0.04</td>\n",
       "      <td>0.0</td>\n",
       "      <td>0.01</td>\n",
       "      <td>0.00</td>\n",
       "      <td>3.04</td>\n",
       "      <td>0.06</td>\n",
       "      <td>0.060000</td>\n",
       "      <td>AB</td>\n",
       "    </tr>\n",
       "  </tbody>\n",
       "</table>\n",
       "<p>5 rows × 63 columns</p>\n",
       "</div>"
      ],
      "text/plain": [
       "     Analysis      Geology Province Region Site SubSite Formation Band Nodule  \\\n",
       "808  005_AB_1  Superficial      NaN     AB   AB      AB       NaN   AB   AB_1   \n",
       "809  006_AB_1  Superficial      NaN     AB   AB      AB       NaN   AB   AB_1   \n",
       "810  007_AB_1  Superficial      NaN     AB   AB      AB       NaN   AB   AB_1   \n",
       "811  008_AB_2  Superficial      NaN     AB   AB      AB       NaN   AB   AB_2   \n",
       "812  009_AB_2  Superficial      NaN     AB   AB      AB       NaN   AB   AB_2   \n",
       "\n",
       "       Li7  ...  Er166  Tm169  Yb172  Lu175  Hf178  Ta181  Pb208  Th232  \\\n",
       "808  19.35  ...   0.01   0.00   0.01    0.0   0.01   0.00   0.56   0.05   \n",
       "809   2.61  ...   0.02   0.00   0.02    0.0   0.00   0.00   0.24   0.06   \n",
       "810   2.29  ...   0.02   0.00   0.00    0.0   0.02   0.01   0.48   0.05   \n",
       "811   6.86  ...   0.07   0.01   0.04    0.0   0.00   0.01   3.11   0.06   \n",
       "812   8.45  ...   0.05   0.00   0.04    0.0   0.01   0.00   3.04   0.06   \n",
       "\n",
       "         U238  class  \n",
       "808  0.210000     AB  \n",
       "809  0.510000     AB  \n",
       "810  0.242569     AB  \n",
       "811  0.030000     AB  \n",
       "812  0.060000     AB  \n",
       "\n",
       "[5 rows x 63 columns]"
      ]
     },
     "execution_count": 4,
     "metadata": {},
     "output_type": "execute_result"
    }
   ],
   "source": [
    "my_superficial.head()"
   ]
  },
  {
   "cell_type": "code",
   "execution_count": 5,
   "metadata": {},
   "outputs": [
    {
     "data": {
      "text/plain": [
       "array(['AB', 'LV', 'BR', 'KY', 'BF', 'ST', 'SH', 'CF', 'BG', 'AC', 'CR',\n",
       "       'GH', 'PX', 'WF'], dtype=object)"
      ]
     },
     "execution_count": 5,
     "metadata": {},
     "output_type": "execute_result"
    }
   ],
   "source": [
    "my_superficial['Site'].unique()"
   ]
  },
  {
   "cell_type": "code",
   "execution_count": 109,
   "metadata": {},
   "outputs": [],
   "source": [
    "X = my_superficial.loc[my_superficial['Region'].isin(['WA_black','WA_grey'])]"
   ]
  },
  {
   "cell_type": "code",
   "execution_count": null,
   "metadata": {},
   "outputs": [],
   "source": []
  },
  {
   "cell_type": "code",
   "execution_count": 110,
   "metadata": {},
   "outputs": [
    {
     "data": {
      "text/html": [
       "<div>\n",
       "<style scoped>\n",
       "    .dataframe tbody tr th:only-of-type {\n",
       "        vertical-align: middle;\n",
       "    }\n",
       "\n",
       "    .dataframe tbody tr th {\n",
       "        vertical-align: top;\n",
       "    }\n",
       "\n",
       "    .dataframe thead th {\n",
       "        text-align: right;\n",
       "    }\n",
       "</style>\n",
       "<table border=\"1\" class=\"dataframe\">\n",
       "  <thead>\n",
       "    <tr style=\"text-align: right;\">\n",
       "      <th></th>\n",
       "      <th>Analysis</th>\n",
       "      <th>Geology</th>\n",
       "      <th>Province</th>\n",
       "      <th>Region</th>\n",
       "      <th>Site</th>\n",
       "      <th>SubSite</th>\n",
       "      <th>Formation</th>\n",
       "      <th>Band</th>\n",
       "      <th>Nodule</th>\n",
       "      <th>Li7</th>\n",
       "      <th>...</th>\n",
       "      <th>Er166</th>\n",
       "      <th>Tm169</th>\n",
       "      <th>Yb172</th>\n",
       "      <th>Lu175</th>\n",
       "      <th>Hf178</th>\n",
       "      <th>Ta181</th>\n",
       "      <th>Pb208</th>\n",
       "      <th>Th232</th>\n",
       "      <th>U238</th>\n",
       "      <th>class</th>\n",
       "    </tr>\n",
       "  </thead>\n",
       "  <tbody>\n",
       "    <tr>\n",
       "      <th>1078</th>\n",
       "      <td>189_AC_1</td>\n",
       "      <td>Superficial</td>\n",
       "      <td>NaN</td>\n",
       "      <td>WA_grey</td>\n",
       "      <td>AC</td>\n",
       "      <td>AC</td>\n",
       "      <td>NaN</td>\n",
       "      <td>AC</td>\n",
       "      <td>AC_1</td>\n",
       "      <td>5.47</td>\n",
       "      <td>...</td>\n",
       "      <td>0.35</td>\n",
       "      <td>0.07</td>\n",
       "      <td>0.23</td>\n",
       "      <td>0.023009</td>\n",
       "      <td>0.17</td>\n",
       "      <td>0.021065</td>\n",
       "      <td>0.87</td>\n",
       "      <td>0.28</td>\n",
       "      <td>0.55</td>\n",
       "      <td>WA_grey</td>\n",
       "    </tr>\n",
       "    <tr>\n",
       "      <th>1079</th>\n",
       "      <td>190_AC_1</td>\n",
       "      <td>Superficial</td>\n",
       "      <td>NaN</td>\n",
       "      <td>WA_grey</td>\n",
       "      <td>AC</td>\n",
       "      <td>AC</td>\n",
       "      <td>NaN</td>\n",
       "      <td>AC</td>\n",
       "      <td>AC_1</td>\n",
       "      <td>4.87</td>\n",
       "      <td>...</td>\n",
       "      <td>0.10</td>\n",
       "      <td>0.04</td>\n",
       "      <td>0.11</td>\n",
       "      <td>0.020000</td>\n",
       "      <td>0.03</td>\n",
       "      <td>0.010000</td>\n",
       "      <td>0.75</td>\n",
       "      <td>0.11</td>\n",
       "      <td>0.17</td>\n",
       "      <td>WA_grey</td>\n",
       "    </tr>\n",
       "    <tr>\n",
       "      <th>1080</th>\n",
       "      <td>191_AC_1</td>\n",
       "      <td>Superficial</td>\n",
       "      <td>NaN</td>\n",
       "      <td>WA_grey</td>\n",
       "      <td>AC</td>\n",
       "      <td>AC</td>\n",
       "      <td>NaN</td>\n",
       "      <td>AC</td>\n",
       "      <td>AC_1</td>\n",
       "      <td>2.66</td>\n",
       "      <td>...</td>\n",
       "      <td>0.12</td>\n",
       "      <td>0.02</td>\n",
       "      <td>0.07</td>\n",
       "      <td>0.020000</td>\n",
       "      <td>0.02</td>\n",
       "      <td>0.030000</td>\n",
       "      <td>0.55</td>\n",
       "      <td>0.12</td>\n",
       "      <td>0.19</td>\n",
       "      <td>WA_grey</td>\n",
       "    </tr>\n",
       "    <tr>\n",
       "      <th>1081</th>\n",
       "      <td>192_AC_2</td>\n",
       "      <td>Superficial</td>\n",
       "      <td>NaN</td>\n",
       "      <td>WA_black</td>\n",
       "      <td>AC</td>\n",
       "      <td>AC</td>\n",
       "      <td>NaN</td>\n",
       "      <td>AC</td>\n",
       "      <td>AC_2</td>\n",
       "      <td>1.72</td>\n",
       "      <td>...</td>\n",
       "      <td>0.11</td>\n",
       "      <td>0.01</td>\n",
       "      <td>0.04</td>\n",
       "      <td>0.010000</td>\n",
       "      <td>0.02</td>\n",
       "      <td>0.010000</td>\n",
       "      <td>0.49</td>\n",
       "      <td>0.05</td>\n",
       "      <td>0.28</td>\n",
       "      <td>WA_black</td>\n",
       "    </tr>\n",
       "    <tr>\n",
       "      <th>1082</th>\n",
       "      <td>193_AC_2</td>\n",
       "      <td>Superficial</td>\n",
       "      <td>NaN</td>\n",
       "      <td>WA_black</td>\n",
       "      <td>AC</td>\n",
       "      <td>AC</td>\n",
       "      <td>NaN</td>\n",
       "      <td>AC</td>\n",
       "      <td>AC_2</td>\n",
       "      <td>1.92</td>\n",
       "      <td>...</td>\n",
       "      <td>0.10</td>\n",
       "      <td>0.02</td>\n",
       "      <td>0.08</td>\n",
       "      <td>0.020000</td>\n",
       "      <td>0.04</td>\n",
       "      <td>0.020000</td>\n",
       "      <td>0.33</td>\n",
       "      <td>0.08</td>\n",
       "      <td>0.31</td>\n",
       "      <td>WA_black</td>\n",
       "    </tr>\n",
       "  </tbody>\n",
       "</table>\n",
       "<p>5 rows × 63 columns</p>\n",
       "</div>"
      ],
      "text/plain": [
       "      Analysis      Geology Province    Region Site SubSite Formation Band  \\\n",
       "1078  189_AC_1  Superficial      NaN   WA_grey   AC      AC       NaN   AC   \n",
       "1079  190_AC_1  Superficial      NaN   WA_grey   AC      AC       NaN   AC   \n",
       "1080  191_AC_1  Superficial      NaN   WA_grey   AC      AC       NaN   AC   \n",
       "1081  192_AC_2  Superficial      NaN  WA_black   AC      AC       NaN   AC   \n",
       "1082  193_AC_2  Superficial      NaN  WA_black   AC      AC       NaN   AC   \n",
       "\n",
       "     Nodule   Li7  ...  Er166  Tm169  Yb172     Lu175  Hf178     Ta181  Pb208  \\\n",
       "1078   AC_1  5.47  ...   0.35   0.07   0.23  0.023009   0.17  0.021065   0.87   \n",
       "1079   AC_1  4.87  ...   0.10   0.04   0.11  0.020000   0.03  0.010000   0.75   \n",
       "1080   AC_1  2.66  ...   0.12   0.02   0.07  0.020000   0.02  0.030000   0.55   \n",
       "1081   AC_2  1.72  ...   0.11   0.01   0.04  0.010000   0.02  0.010000   0.49   \n",
       "1082   AC_2  1.92  ...   0.10   0.02   0.08  0.020000   0.04  0.020000   0.33   \n",
       "\n",
       "      Th232  U238     class  \n",
       "1078   0.28  0.55   WA_grey  \n",
       "1079   0.11  0.17   WA_grey  \n",
       "1080   0.12  0.19   WA_grey  \n",
       "1081   0.05  0.28  WA_black  \n",
       "1082   0.08  0.31  WA_black  \n",
       "\n",
       "[5 rows x 63 columns]"
      ]
     },
     "execution_count": 110,
     "metadata": {},
     "output_type": "execute_result"
    }
   ],
   "source": [
    "X.head()"
   ]
  },
  {
   "cell_type": "code",
   "execution_count": 111,
   "metadata": {},
   "outputs": [],
   "source": [
    "X_CR = X.iloc[:,9:-1]"
   ]
  },
  {
   "cell_type": "code",
   "execution_count": 112,
   "metadata": {},
   "outputs": [
    {
     "data": {
      "text/html": [
       "<div>\n",
       "<style scoped>\n",
       "    .dataframe tbody tr th:only-of-type {\n",
       "        vertical-align: middle;\n",
       "    }\n",
       "\n",
       "    .dataframe tbody tr th {\n",
       "        vertical-align: top;\n",
       "    }\n",
       "\n",
       "    .dataframe thead th {\n",
       "        text-align: right;\n",
       "    }\n",
       "</style>\n",
       "<table border=\"1\" class=\"dataframe\">\n",
       "  <thead>\n",
       "    <tr style=\"text-align: right;\">\n",
       "      <th></th>\n",
       "      <th>Li7</th>\n",
       "      <th>Be9</th>\n",
       "      <th>B11</th>\n",
       "      <th>Mg24</th>\n",
       "      <th>Al27</th>\n",
       "      <th>Si28</th>\n",
       "      <th>P31</th>\n",
       "      <th>S33</th>\n",
       "      <th>K39</th>\n",
       "      <th>Ca42</th>\n",
       "      <th>...</th>\n",
       "      <th>Ho165</th>\n",
       "      <th>Er166</th>\n",
       "      <th>Tm169</th>\n",
       "      <th>Yb172</th>\n",
       "      <th>Lu175</th>\n",
       "      <th>Hf178</th>\n",
       "      <th>Ta181</th>\n",
       "      <th>Pb208</th>\n",
       "      <th>Th232</th>\n",
       "      <th>U238</th>\n",
       "    </tr>\n",
       "  </thead>\n",
       "  <tbody>\n",
       "    <tr>\n",
       "      <th>1078</th>\n",
       "      <td>5.47</td>\n",
       "      <td>0.28</td>\n",
       "      <td>82.67</td>\n",
       "      <td>30.52</td>\n",
       "      <td>1127.73</td>\n",
       "      <td>464217.25</td>\n",
       "      <td>100.84</td>\n",
       "      <td>882.65</td>\n",
       "      <td>704.45</td>\n",
       "      <td>609.64</td>\n",
       "      <td>...</td>\n",
       "      <td>0.13</td>\n",
       "      <td>0.35</td>\n",
       "      <td>0.07</td>\n",
       "      <td>0.23</td>\n",
       "      <td>0.023009</td>\n",
       "      <td>0.17</td>\n",
       "      <td>0.021065</td>\n",
       "      <td>0.87</td>\n",
       "      <td>0.28</td>\n",
       "      <td>0.55</td>\n",
       "    </tr>\n",
       "    <tr>\n",
       "      <th>1079</th>\n",
       "      <td>4.87</td>\n",
       "      <td>0.18</td>\n",
       "      <td>44.27</td>\n",
       "      <td>9.18</td>\n",
       "      <td>292.65</td>\n",
       "      <td>465474.58</td>\n",
       "      <td>117.19</td>\n",
       "      <td>877.98</td>\n",
       "      <td>246.35</td>\n",
       "      <td>341.43</td>\n",
       "      <td>...</td>\n",
       "      <td>0.09</td>\n",
       "      <td>0.10</td>\n",
       "      <td>0.04</td>\n",
       "      <td>0.11</td>\n",
       "      <td>0.020000</td>\n",
       "      <td>0.03</td>\n",
       "      <td>0.010000</td>\n",
       "      <td>0.75</td>\n",
       "      <td>0.11</td>\n",
       "      <td>0.17</td>\n",
       "    </tr>\n",
       "    <tr>\n",
       "      <th>1080</th>\n",
       "      <td>2.66</td>\n",
       "      <td>0.29</td>\n",
       "      <td>74.72</td>\n",
       "      <td>13.19</td>\n",
       "      <td>315.12</td>\n",
       "      <td>465305.69</td>\n",
       "      <td>118.52</td>\n",
       "      <td>935.80</td>\n",
       "      <td>280.04</td>\n",
       "      <td>405.85</td>\n",
       "      <td>...</td>\n",
       "      <td>0.07</td>\n",
       "      <td>0.12</td>\n",
       "      <td>0.02</td>\n",
       "      <td>0.07</td>\n",
       "      <td>0.020000</td>\n",
       "      <td>0.02</td>\n",
       "      <td>0.030000</td>\n",
       "      <td>0.55</td>\n",
       "      <td>0.12</td>\n",
       "      <td>0.19</td>\n",
       "    </tr>\n",
       "    <tr>\n",
       "      <th>1081</th>\n",
       "      <td>1.72</td>\n",
       "      <td>0.27</td>\n",
       "      <td>84.32</td>\n",
       "      <td>12.82</td>\n",
       "      <td>313.51</td>\n",
       "      <td>465351.08</td>\n",
       "      <td>142.16</td>\n",
       "      <td>981.65</td>\n",
       "      <td>308.10</td>\n",
       "      <td>142.38</td>\n",
       "      <td>...</td>\n",
       "      <td>0.03</td>\n",
       "      <td>0.11</td>\n",
       "      <td>0.01</td>\n",
       "      <td>0.04</td>\n",
       "      <td>0.010000</td>\n",
       "      <td>0.02</td>\n",
       "      <td>0.010000</td>\n",
       "      <td>0.49</td>\n",
       "      <td>0.05</td>\n",
       "      <td>0.28</td>\n",
       "    </tr>\n",
       "    <tr>\n",
       "      <th>1082</th>\n",
       "      <td>1.92</td>\n",
       "      <td>0.21</td>\n",
       "      <td>91.56</td>\n",
       "      <td>13.90</td>\n",
       "      <td>336.84</td>\n",
       "      <td>465425.53</td>\n",
       "      <td>152.84</td>\n",
       "      <td>990.72</td>\n",
       "      <td>296.18</td>\n",
       "      <td>117.47</td>\n",
       "      <td>...</td>\n",
       "      <td>0.06</td>\n",
       "      <td>0.10</td>\n",
       "      <td>0.02</td>\n",
       "      <td>0.08</td>\n",
       "      <td>0.020000</td>\n",
       "      <td>0.04</td>\n",
       "      <td>0.020000</td>\n",
       "      <td>0.33</td>\n",
       "      <td>0.08</td>\n",
       "      <td>0.31</td>\n",
       "    </tr>\n",
       "  </tbody>\n",
       "</table>\n",
       "<p>5 rows × 53 columns</p>\n",
       "</div>"
      ],
      "text/plain": [
       "       Li7   Be9    B11   Mg24     Al27       Si28     P31     S33     K39  \\\n",
       "1078  5.47  0.28  82.67  30.52  1127.73  464217.25  100.84  882.65  704.45   \n",
       "1079  4.87  0.18  44.27   9.18   292.65  465474.58  117.19  877.98  246.35   \n",
       "1080  2.66  0.29  74.72  13.19   315.12  465305.69  118.52  935.80  280.04   \n",
       "1081  1.72  0.27  84.32  12.82   313.51  465351.08  142.16  981.65  308.10   \n",
       "1082  1.92  0.21  91.56  13.90   336.84  465425.53  152.84  990.72  296.18   \n",
       "\n",
       "        Ca42  ...  Ho165  Er166  Tm169  Yb172     Lu175  Hf178     Ta181  \\\n",
       "1078  609.64  ...   0.13   0.35   0.07   0.23  0.023009   0.17  0.021065   \n",
       "1079  341.43  ...   0.09   0.10   0.04   0.11  0.020000   0.03  0.010000   \n",
       "1080  405.85  ...   0.07   0.12   0.02   0.07  0.020000   0.02  0.030000   \n",
       "1081  142.38  ...   0.03   0.11   0.01   0.04  0.010000   0.02  0.010000   \n",
       "1082  117.47  ...   0.06   0.10   0.02   0.08  0.020000   0.04  0.020000   \n",
       "\n",
       "      Pb208  Th232  U238  \n",
       "1078   0.87   0.28  0.55  \n",
       "1079   0.75   0.11  0.17  \n",
       "1080   0.55   0.12  0.19  \n",
       "1081   0.49   0.05  0.28  \n",
       "1082   0.33   0.08  0.31  \n",
       "\n",
       "[5 rows x 53 columns]"
      ]
     },
     "execution_count": 112,
     "metadata": {},
     "output_type": "execute_result"
    }
   ],
   "source": [
    "X_CR.head()"
   ]
  },
  {
   "cell_type": "markdown",
   "metadata": {},
   "source": [
    "## Select only best feats (derived from RFE from PhD)"
   ]
  },
  {
   "cell_type": "code",
   "execution_count": 113,
   "metadata": {},
   "outputs": [],
   "source": [
    "best_feats = ['Zr90', 'Ba137', 'Sr88', 'Ge72', 'Cr52', 'S33', 'U238', 'Al27', 'B11', 'Mg24', 'Nd146', 'Sc45', 'K39', 'Pr141', 'Li7']"
   ]
  },
  {
   "cell_type": "code",
   "execution_count": 114,
   "metadata": {},
   "outputs": [],
   "source": [
    "X_CR = X_CR[X_CR.columns.intersection(best_feats)]"
   ]
  },
  {
   "cell_type": "code",
   "execution_count": 115,
   "metadata": {},
   "outputs": [
    {
     "data": {
      "text/html": [
       "<div>\n",
       "<style scoped>\n",
       "    .dataframe tbody tr th:only-of-type {\n",
       "        vertical-align: middle;\n",
       "    }\n",
       "\n",
       "    .dataframe tbody tr th {\n",
       "        vertical-align: top;\n",
       "    }\n",
       "\n",
       "    .dataframe thead th {\n",
       "        text-align: right;\n",
       "    }\n",
       "</style>\n",
       "<table border=\"1\" class=\"dataframe\">\n",
       "  <thead>\n",
       "    <tr style=\"text-align: right;\">\n",
       "      <th></th>\n",
       "      <th>Li7</th>\n",
       "      <th>B11</th>\n",
       "      <th>Mg24</th>\n",
       "      <th>Al27</th>\n",
       "      <th>S33</th>\n",
       "      <th>K39</th>\n",
       "      <th>Sc45</th>\n",
       "      <th>Cr52</th>\n",
       "      <th>Ge72</th>\n",
       "      <th>Sr88</th>\n",
       "      <th>Zr90</th>\n",
       "      <th>Ba137</th>\n",
       "      <th>Pr141</th>\n",
       "      <th>Nd146</th>\n",
       "      <th>U238</th>\n",
       "    </tr>\n",
       "  </thead>\n",
       "  <tbody>\n",
       "    <tr>\n",
       "      <th>1078</th>\n",
       "      <td>5.47</td>\n",
       "      <td>82.67</td>\n",
       "      <td>30.52</td>\n",
       "      <td>1127.73</td>\n",
       "      <td>882.65</td>\n",
       "      <td>704.45</td>\n",
       "      <td>1.06</td>\n",
       "      <td>7.45</td>\n",
       "      <td>1.13</td>\n",
       "      <td>4.34</td>\n",
       "      <td>0.79</td>\n",
       "      <td>2.21</td>\n",
       "      <td>0.55</td>\n",
       "      <td>1.81</td>\n",
       "      <td>0.55</td>\n",
       "    </tr>\n",
       "    <tr>\n",
       "      <th>1079</th>\n",
       "      <td>4.87</td>\n",
       "      <td>44.27</td>\n",
       "      <td>9.18</td>\n",
       "      <td>292.65</td>\n",
       "      <td>877.98</td>\n",
       "      <td>246.35</td>\n",
       "      <td>0.64</td>\n",
       "      <td>6.98</td>\n",
       "      <td>0.75</td>\n",
       "      <td>3.12</td>\n",
       "      <td>0.68</td>\n",
       "      <td>1.23</td>\n",
       "      <td>0.38</td>\n",
       "      <td>1.34</td>\n",
       "      <td>0.17</td>\n",
       "    </tr>\n",
       "    <tr>\n",
       "      <th>1080</th>\n",
       "      <td>2.66</td>\n",
       "      <td>74.72</td>\n",
       "      <td>13.19</td>\n",
       "      <td>315.12</td>\n",
       "      <td>935.80</td>\n",
       "      <td>280.04</td>\n",
       "      <td>0.48</td>\n",
       "      <td>7.35</td>\n",
       "      <td>0.86</td>\n",
       "      <td>4.14</td>\n",
       "      <td>1.45</td>\n",
       "      <td>2.29</td>\n",
       "      <td>0.50</td>\n",
       "      <td>1.82</td>\n",
       "      <td>0.19</td>\n",
       "    </tr>\n",
       "    <tr>\n",
       "      <th>1081</th>\n",
       "      <td>1.72</td>\n",
       "      <td>84.32</td>\n",
       "      <td>12.82</td>\n",
       "      <td>313.51</td>\n",
       "      <td>981.65</td>\n",
       "      <td>308.10</td>\n",
       "      <td>0.40</td>\n",
       "      <td>7.11</td>\n",
       "      <td>0.97</td>\n",
       "      <td>4.30</td>\n",
       "      <td>0.78</td>\n",
       "      <td>1.00</td>\n",
       "      <td>0.29</td>\n",
       "      <td>1.16</td>\n",
       "      <td>0.28</td>\n",
       "    </tr>\n",
       "    <tr>\n",
       "      <th>1082</th>\n",
       "      <td>1.92</td>\n",
       "      <td>91.56</td>\n",
       "      <td>13.90</td>\n",
       "      <td>336.84</td>\n",
       "      <td>990.72</td>\n",
       "      <td>296.18</td>\n",
       "      <td>0.54</td>\n",
       "      <td>7.03</td>\n",
       "      <td>1.26</td>\n",
       "      <td>4.42</td>\n",
       "      <td>0.94</td>\n",
       "      <td>1.26</td>\n",
       "      <td>0.33</td>\n",
       "      <td>1.24</td>\n",
       "      <td>0.31</td>\n",
       "    </tr>\n",
       "  </tbody>\n",
       "</table>\n",
       "</div>"
      ],
      "text/plain": [
       "       Li7    B11   Mg24     Al27     S33     K39  Sc45  Cr52  Ge72  Sr88  \\\n",
       "1078  5.47  82.67  30.52  1127.73  882.65  704.45  1.06  7.45  1.13  4.34   \n",
       "1079  4.87  44.27   9.18   292.65  877.98  246.35  0.64  6.98  0.75  3.12   \n",
       "1080  2.66  74.72  13.19   315.12  935.80  280.04  0.48  7.35  0.86  4.14   \n",
       "1081  1.72  84.32  12.82   313.51  981.65  308.10  0.40  7.11  0.97  4.30   \n",
       "1082  1.92  91.56  13.90   336.84  990.72  296.18  0.54  7.03  1.26  4.42   \n",
       "\n",
       "      Zr90  Ba137  Pr141  Nd146  U238  \n",
       "1078  0.79   2.21   0.55   1.81  0.55  \n",
       "1079  0.68   1.23   0.38   1.34  0.17  \n",
       "1080  1.45   2.29   0.50   1.82  0.19  \n",
       "1081  0.78   1.00   0.29   1.16  0.28  \n",
       "1082  0.94   1.26   0.33   1.24  0.31  "
      ]
     },
     "execution_count": 115,
     "metadata": {},
     "output_type": "execute_result"
    }
   ],
   "source": [
    "X_CR.head()"
   ]
  },
  {
   "cell_type": "code",
   "execution_count": 117,
   "metadata": {},
   "outputs": [
    {
     "data": {
      "image/png": "[encoded data removed]",
      "text/plain": [
       "<Figure size 640x480 with 1 Axes>"
      ]
     },
     "metadata": {},
     "output_type": "display_data"
    }
   ],
   "source": [
    "from sklearn.cluster import SpectralClustering\n",
    "import matplotlib.pyplot as plt\n",
    "import seaborn as sns\n",
    "model = SpectralClustering(n_clusters=2, affinity='nearest_neighbors', assign_labels='kmeans')\n",
    "labels = model.fit_predict(X_CR)\n",
    "plt.scatter(X_CR.iloc[:, 1], X_CR.iloc[:, 2], c=labels, s=50, cmap='viridis');\n",
    "\n"
   ]
  },
  {
   "cell_type": "code",
   "execution_count": 171,
   "metadata": {},
   "outputs": [],
   "source": [
    "import plotly.express as px"
   ]
  },
  {
   "cell_type": "code",
   "execution_count": 176,
   "metadata": {},
   "outputs": [
    {
     "data": {
      "application/vnd.plotly.v1+json": {
       "config": {
        "plotlyServerURL": "https://plot.ly"
       },
       "data": [
        {
         "hovertemplate": "x=%{x}<br>y=%{y}<br>z=%{z}<extra></extra>",
         "legendgroup": "",
         "marker": {
          "color": "#636efa",
          "symbol": "circle"
         },
         "mode": "markers",
         "name": "",
         "scene": "scene",
         "showlegend": false,
         "type": "scatter3d",
         "x": [
          82.67,
          44.27,
          74.72,
          84.32,
          91.56,
          86.63,
          74.21,
          72.78,
          70.53,
          88.85,
          86.85,
          81.01,
          78.51,
          82.24,
          81.16,
          95.52,
          92.4,
          97.64,
          74.93,
          75.46,
          81.86,
          53.08,
          64.16,
          54.61,
          92.72,
          90.68,
          90.98,
          60.29,
          65.13,
          54.95,
          68.83,
          54.93,
          59.67,
          66.37,
          70.44,
          69.27,
          102.61,
          95.46,
          89.07,
          70.73620370370371,
          98.56,
          70.73620370370371,
          74.15,
          69.69,
          73.24,
          84.13,
          93.69,
          87.43,
          81.16,
          95.01,
          89.7,
          58.8,
          55.09,
          48.03,
          87.27,
          74.53,
          89.52,
          56.22,
          50.04,
          53.5,
          50.9,
          54.13,
          59.91,
          85.2,
          80.5,
          82.28,
          72.69,
          69.4,
          65.94,
          97.32,
          98.9,
          93.7,
          82.6,
          81.82,
          84.79,
          77.87,
          88.25,
          73.09,
          61.42,
          71.17,
          73.06,
          76.4,
          70.73620370370371,
          46.03,
          64.63,
          72.05,
          96.93,
          73.04,
          56.92,
          68.26,
          73.58,
          78.97,
          76.59,
          81.71,
          85,
          89.88,
          65.53,
          77.11,
          61.12,
          74.1,
          67.55,
          69.24,
          84.86,
          77.97,
          85.63
         ],
         "y": [
          30.52,
          9.18,
          13.19,
          12.82,
          13.9,
          15.09,
          14.75,
          13.46,
          19.28,
          14.06,
          14.43,
          11.81,
          24.87,
          21.95,
          22.18,
          25.78,
          45.73,
          20.97,
          21.65,
          13.29,
          16.84,
          12.82,
          14.92,
          12.99,
          13.47,
          14.42,
          14.93,
          35.69,
          35.48,
          34.7,
          13.94,
          20.65,
          21.58,
          18.33,
          13.43,
          16.43,
          21.46,
          22.34,
          23.88,
          15.52,
          15.65,
          19.55,
          16.34,
          15.93,
          17.04,
          23.25,
          20.66,
          17.47,
          16.16,
          16.87,
          18.08,
          17.19,
          17.15,
          20.19,
          13.2,
          13.3,
          16.36,
          18.69,
          14.31,
          14.69,
          26.23,
          27,
          29.35,
          15.3,
          15.33,
          15.29,
          18.63,
          21.79,
          19.16,
          10.6,
          12.71,
          12.94,
          13.25,
          13.23,
          14.59,
          21.8,
          16.58,
          15.76,
          16.71,
          20.59,
          16.59,
          17.59,
          9.27,
          12.94,
          22.74,
          17.63,
          19.16,
          13.02,
          13.27,
          14.15,
          15.97,
          15.52,
          15.27,
          15.75,
          16.84,
          19.23,
          21.96,
          20.64,
          15.91,
          17.73,
          15.57,
          14.91,
          14.8,
          13.79,
          15.1
         ],
         "z": [
          1127.73,
          292.65,
          315.12,
          313.51,
          336.84,
          394.94,
          356.82,
          300.26,
          326.86,
          406.65,
          337.57,
          293.21,
          930.68,
          850.5,
          839.87,
          818,
          909.96,
          680.26,
          503.49,
          335.85,
          415.52,
          347.23,
          324.18,
          353.7,
          302.97,
          319.06,
          294.27,
          598.5439814814816,
          598.5439814814816,
          598.5439814814816,
          228.32,
          834.29,
          642.68,
          543.92,
          395.96,
          421.25,
          434.62,
          425.76,
          445.63,
          355.73,
          406.22,
          611.9,
          529.58,
          511.88,
          470.44,
          568.42,
          409.66,
          406.43,
          409.47,
          436.07,
          495.88,
          454.17,
          560.54,
          681.09,
          316.43,
          308.99,
          378.61,
          478.84,
          640.43,
          497.96,
          957.45,
          963.64,
          993.2,
          390.86,
          380.55,
          357.87,
          591.47,
          727.67,
          709.87,
          209.03,
          239.29,
          239.57,
          238.35,
          254.01,
          267.79,
          925.97,
          691.4,
          757.9,
          497.88,
          405.36,
          400.37,
          414.53,
          365.27,
          365.2,
          709.54,
          439.73,
          230.27,
          333.26,
          348.75,
          324.17,
          354.63,
          333.01,
          294.64,
          396.13,
          325.8,
          431.91,
          564.46,
          532.96,
          559.81,
          469.28,
          450.07,
          445.7,
          420.6,
          416.04,
          402.95
         ]
        }
       ],
       "layout": {
        "legend": {
         "tracegroupgap": 0
        },
        "margin": {
         "t": 60
        },
        "scene": {
         "domain": {
          "x": [
           0,
           1
          ],
          "y": [
           0,
           1
          ]
         },
         "xaxis": {
          "title": {
           "text": "x"
          }
         },
         "yaxis": {
          "title": {
           "text": "y"
          }
         },
         "zaxis": {
          "title": {
           "text": "z"
          }
         }
        },
        "template": {
         "data": {
          "bar": [
           {
            "error_x": {
             "color": "#2a3f5f"
            },
            "error_y": {
             "color": "#2a3f5f"
            },
            "marker": {
             "line": {
              "color": "#E5ECF6",
              "width": 0.5
             }
            },
            "type": "bar"
           }
          ],
          "barpolar": [
           {
            "marker": {
             "line": {
              "color": "#E5ECF6",
              "width": 0.5
             }
            },
            "type": "barpolar"
           }
          ],
          "carpet": [
           {
            "aaxis": {
             "endlinecolor": "#2a3f5f",
             "gridcolor": "white",
             "linecolor": "white",
             "minorgridcolor": "white",
             "startlinecolor": "#2a3f5f"
            },
            "baxis": {
             "endlinecolor": "#2a3f5f",
             "gridcolor": "white",
             "linecolor": "white",
             "minorgridcolor": "white",
             "startlinecolor": "#2a3f5f"
            },
            "type": "carpet"
           }
          ],
          "choropleth": [
           {
            "colorbar": {
             "outlinewidth": 0,
             "ticks": ""
            },
            "type": "choropleth"
           }
          ],
          "contour": [
           {
            "colorbar": {
             "outlinewidth": 0,
             "ticks": ""
            },
            "colorscale": [
             [
              0,
              "#0d0887"
             ],
             [
              0.1111111111111111,
              "#46039f"
             ],
             [
              0.2222222222222222,
              "#7201a8"
             ],
             [
              0.3333333333333333,
              "#9c179e"
             ],
             [
              0.4444444444444444,
              "#bd3786"
             ],
             [
              0.5555555555555556,
              "#d8576b"
             ],
             [
              0.6666666666666666,
              "#ed7953"
             ],
             [
              0.7777777777777778,
              "#fb9f3a"
             ],
             [
              0.8888888888888888,
              "#fdca26"
             ],
             [
              1,
              "#f0f921"
             ]
            ],
            "type": "contour"
           }
          ],
          "contourcarpet": [
           {
            "colorbar": {
             "outlinewidth": 0,
             "ticks": ""
            },
            "type": "contourcarpet"
           }
          ],
          "heatmap": [
           {
            "colorbar": {
             "outlinewidth": 0,
             "ticks": ""
            },
            "colorscale": [
             [
              0,
              "#0d0887"
             ],
             [
              0.1111111111111111,
              "#46039f"
             ],
             [
              0.2222222222222222,
              "#7201a8"
             ],
             [
              0.3333333333333333,
              "#9c179e"
             ],
             [
              0.4444444444444444,
              "#bd3786"
             ],
             [
              0.5555555555555556,
              "#d8576b"
             ],
             [
              0.6666666666666666,
              "#ed7953"
             ],
             [
              0.7777777777777778,
              "#fb9f3a"
             ],
             [
              0.8888888888888888,
              "#fdca26"
             ],
             [
              1,
              "#f0f921"
             ]
            ],
            "type": "heatmap"
           }
          ],
          "heatmapgl": [
           {
            "colorbar": {
             "outlinewidth": 0,
             "ticks": ""
            },
            "colorscale": [
             [
              0,
              "#0d0887"
             ],
             [
              0.1111111111111111,
              "#46039f"
             ],
             [
              0.2222222222222222,
              "#7201a8"
             ],
             [
              0.3333333333333333,
              "#9c179e"
             ],
             [
              0.4444444444444444,
              "#bd3786"
             ],
             [
              0.5555555555555556,
              "#d8576b"
             ],
             [
              0.6666666666666666,
              "#ed7953"
             ],
             [
              0.7777777777777778,
              "#fb9f3a"
             ],
             [
              0.8888888888888888,
              "#fdca26"
             ],
             [
              1,
              "#f0f921"
             ]
            ],
            "type": "heatmapgl"
           }
          ],
          "histogram": [
           {
            "marker": {
             "colorbar": {
              "outlinewidth": 0,
              "ticks": ""
             }
            },
            "type": "histogram"
           }
          ],
          "histogram2d": [
           {
            "colorbar": {
             "outlinewidth": 0,
             "ticks": ""
            },
            "colorscale": [
             [
              0,
              "#0d0887"
             ],
             [
              0.1111111111111111,
              "#46039f"
             ],
             [
              0.2222222222222222,
              "#7201a8"
             ],
             [
              0.3333333333333333,
              "#9c179e"
             ],
             [
              0.4444444444444444,
              "#bd3786"
             ],
             [
              0.5555555555555556,
              "#d8576b"
             ],
             [
              0.6666666666666666,
              "#ed7953"
             ],
             [
              0.7777777777777778,
              "#fb9f3a"
             ],
             [
              0.8888888888888888,
              "#fdca26"
             ],
             [
              1,
              "#f0f921"
             ]
            ],
            "type": "histogram2d"
           }
          ],
          "histogram2dcontour": [
           {
            "colorbar": {
             "outlinewidth": 0,
             "ticks": ""
            },
            "colorscale": [
             [
              0,
              "#0d0887"
             ],
             [
              0.1111111111111111,
              "#46039f"
             ],
             [
              0.2222222222222222,
              "#7201a8"
             ],
             [
              0.3333333333333333,
              "#9c179e"
             ],
             [
              0.4444444444444444,
              "#bd3786"
             ],
             [
              0.5555555555555556,
              "#d8576b"
             ],
             [
              0.6666666666666666,
              "#ed7953"
             ],
             [
              0.7777777777777778,
              "#fb9f3a"
             ],
             [
              0.8888888888888888,
              "#fdca26"
             ],
             [
              1,
              "#f0f921"
             ]
            ],
            "type": "histogram2dcontour"
           }
          ],
          "mesh3d": [
           {
            "colorbar": {
             "outlinewidth": 0,
             "ticks": ""
            },
            "type": "mesh3d"
           }
          ],
          "parcoords": [
           {
            "line": {
             "colorbar": {
              "outlinewidth": 0,
              "ticks": ""
             }
            },
            "type": "parcoords"
           }
          ],
          "pie": [
           {
            "automargin": true,
            "type": "pie"
           }
          ],
          "scatter": [
           {
            "marker": {
             "colorbar": {
              "outlinewidth": 0,
              "ticks": ""
             }
            },
            "type": "scatter"
           }
          ],
          "scatter3d": [
           {
            "line": {
             "colorbar": {
              "outlinewidth": 0,
              "ticks": ""
             }
            },
            "marker": {
             "colorbar": {
              "outlinewidth": 0,
              "ticks": ""
             }
            },
            "type": "scatter3d"
           }
          ],
          "scattercarpet": [
           {
            "marker": {
             "colorbar": {
              "outlinewidth": 0,
              "ticks": ""
             }
            },
            "type": "scattercarpet"
           }
          ],
          "scattergeo": [
           {
            "marker": {
             "colorbar": {
              "outlinewidth": 0,
              "ticks": ""
             }
            },
            "type": "scattergeo"
           }
          ],
          "scattergl": [
           {
            "marker": {
             "colorbar": {
              "outlinewidth": 0,
              "ticks": ""
             }
            },
            "type": "scattergl"
           }
          ],
          "scattermapbox": [
           {
            "marker": {
             "colorbar": {
              "outlinewidth": 0,
              "ticks": ""
             }
            },
            "type": "scattermapbox"
           }
          ],
          "scatterpolar": [
           {
            "marker": {
             "colorbar": {
              "outlinewidth": 0,
              "ticks": ""
             }
            },
            "type": "scatterpolar"
           }
          ],
          "scatterpolargl": [
           {
            "marker": {
             "colorbar": {
              "outlinewidth": 0,
              "ticks": ""
             }
            },
            "type": "scatterpolargl"
           }
          ],
          "scatterternary": [
           {
            "marker": {
             "colorbar": {
              "outlinewidth": 0,
              "ticks": ""
             }
            },
            "type": "scatterternary"
           }
          ],
          "surface": [
           {
            "colorbar": {
             "outlinewidth": 0,
             "ticks": ""
            },
            "colorscale": [
             [
              0,
              "#0d0887"
             ],
             [
              0.1111111111111111,
              "#46039f"
             ],
             [
              0.2222222222222222,
              "#7201a8"
             ],
             [
              0.3333333333333333,
              "#9c179e"
             ],
             [
              0.4444444444444444,
              "#bd3786"
             ],
             [
              0.5555555555555556,
              "#d8576b"
             ],
             [
              0.6666666666666666,
              "#ed7953"
             ],
             [
              0.7777777777777778,
              "#fb9f3a"
             ],
             [
              0.8888888888888888,
              "#fdca26"
             ],
             [
              1,
              "#f0f921"
             ]
            ],
            "type": "surface"
           }
          ],
          "table": [
           {
            "cells": {
             "fill": {
              "color": "#EBF0F8"
             },
             "line": {
              "color": "white"
             }
            },
            "header": {
             "fill": {
              "color": "#C8D4E3"
             },
             "line": {
              "color": "white"
             }
            },
            "type": "table"
           }
          ]
         },
         "layout": {
          "annotationdefaults": {
           "arrowcolor": "#2a3f5f",
           "arrowhead": 0,
           "arrowwidth": 1
          },
          "autotypenumbers": "strict",
          "coloraxis": {
           "colorbar": {
            "outlinewidth": 0,
            "ticks": ""
           }
          },
          "colorscale": {
           "diverging": [
            [
             0,
             "#8e0152"
            ],
            [
             0.1,
             "#c51b7d"
            ],
            [
             0.2,
             "#de77ae"
            ],
            [
             0.3,
             "#f1b6da"
            ],
            [
             0.4,
             "#fde0ef"
            ],
            [
             0.5,
             "#f7f7f7"
            ],
            [
             0.6,
             "#e6f5d0"
            ],
            [
             0.7,
             "#b8e186"
            ],
            [
             0.8,
             "#7fbc41"
            ],
            [
             0.9,
             "#4d9221"
            ],
            [
             1,
             "#276419"
            ]
           ],
           "sequential": [
            [
             0,
             "#0d0887"
            ],
            [
             0.1111111111111111,
             "#46039f"
            ],
            [
             0.2222222222222222,
             "#7201a8"
            ],
            [
             0.3333333333333333,
             "#9c179e"
            ],
            [
             0.4444444444444444,
             "#bd3786"
            ],
            [
             0.5555555555555556,
             "#d8576b"
            ],
            [
             0.6666666666666666,
             "#ed7953"
            ],
            [
             0.7777777777777778,
             "#fb9f3a"
            ],
            [
             0.8888888888888888,
             "#fdca26"
            ],
            [
             1,
             "#f0f921"
            ]
           ],
           "sequentialminus": [
            [
             0,
             "#0d0887"
            ],
            [
             0.1111111111111111,
             "#46039f"
            ],
            [
             0.2222222222222222,
             "#7201a8"
            ],
            [
             0.3333333333333333,
             "#9c179e"
            ],
            [
             0.4444444444444444,
             "#bd3786"
            ],
            [
             0.5555555555555556,
             "#d8576b"
            ],
            [
             0.6666666666666666,
             "#ed7953"
            ],
            [
             0.7777777777777778,
             "#fb9f3a"
            ],
            [
             0.8888888888888888,
             "#fdca26"
            ],
            [
             1,
             "#f0f921"
            ]
           ]
          },
          "colorway": [
           "#636efa",
           "#EF553B",
           "#00cc96",
           "#ab63fa",
           "#FFA15A",
           "#19d3f3",
           "#FF6692",
           "#B6E880",
           "#FF97FF",
           "#FECB52"
          ],
          "font": {
           "color": "#2a3f5f"
          },
          "geo": {
           "bgcolor": "white",
           "lakecolor": "white",
           "landcolor": "#E5ECF6",
           "showlakes": true,
           "showland": true,
           "subunitcolor": "white"
          },
          "hoverlabel": {
           "align": "left"
          },
          "hovermode": "closest",
          "mapbox": {
           "style": "light"
          },
          "paper_bgcolor": "white",
          "plot_bgcolor": "#E5ECF6",
          "polar": {
           "angularaxis": {
            "gridcolor": "white",
            "linecolor": "white",
            "ticks": ""
           },
           "bgcolor": "#E5ECF6",
           "radialaxis": {
            "gridcolor": "white",
            "linecolor": "white",
            "ticks": ""
           }
          },
          "scene": {
           "xaxis": {
            "backgroundcolor": "#E5ECF6",
            "gridcolor": "white",
            "gridwidth": 2,
            "linecolor": "white",
            "showbackground": true,
            "ticks": "",
            "zerolinecolor": "white"
           },
           "yaxis": {
            "backgroundcolor": "#E5ECF6",
            "gridcolor": "white",
            "gridwidth": 2,
            "linecolor": "white",
            "showbackground": true,
            "ticks": "",
            "zerolinecolor": "white"
           },
           "zaxis": {
            "backgroundcolor": "#E5ECF6",
            "gridcolor": "white",
            "gridwidth": 2,
            "linecolor": "white",
            "showbackground": true,
            "ticks": "",
            "zerolinecolor": "white"
           }
          },
          "shapedefaults": {
           "line": {
            "color": "#2a3f5f"
           }
          },
          "ternary": {
           "aaxis": {
            "gridcolor": "white",
            "linecolor": "white",
            "ticks": ""
           },
           "baxis": {
            "gridcolor": "white",
            "linecolor": "white",
            "ticks": ""
           },
           "bgcolor": "#E5ECF6",
           "caxis": {
            "gridcolor": "white",
            "linecolor": "white",
            "ticks": ""
           }
          },
          "title": {
           "x": 0.05
          },
          "xaxis": {
           "automargin": true,
           "gridcolor": "white",
           "linecolor": "white",
           "ticks": "",
           "title": {
            "standoff": 15
           },
           "zerolinecolor": "white",
           "zerolinewidth": 2
          },
          "yaxis": {
           "automargin": true,
           "gridcolor": "white",
           "linecolor": "white",
           "ticks": "",
           "title": {
            "standoff": 15
           },
           "zerolinecolor": "white",
           "zerolinewidth": 2
          }
         }
        },
        "title": {
         "text": "5 Features Representation"
        }
       }
      },
      "text/html": [
       "<div>                            <div id=\"e8bdc332-3963-43eb-939f-2e6dd1b7b2bc\" class=\"plotly-graph-div\" style=\"height:525px; width:100%;\"></div>            <script type=\"text/javascript\">                require([\"plotly\"], function(Plotly) {                    window.PLOTLYENV=window.PLOTLYENV || {};                                    if (document.getElementById(\"e8bdc332-3963-43eb-939f-2e6dd1b7b2bc\")) {                    Plotly.newPlot(                        \"e8bdc332-3963-43eb-939f-2e6dd1b7b2bc\",                        [{\"hovertemplate\": \"x=%{x}<br>y=%{y}<br>z=%{z}<extra></extra>\", \"legendgroup\": \"\", \"marker\": {\"color\": \"#636efa\", \"symbol\": \"circle\"}, \"mode\": \"markers\", \"name\": \"\", \"scene\": \"scene\", \"showlegend\": false, \"type\": \"scatter3d\", \"x\": [82.67, 44.27, 74.72, 84.32, 91.56, 86.63, 74.21, 72.78, 70.53, 88.85, 86.85, 81.01, 78.51, 82.24, 81.16, 95.52, 92.4, 97.64, 74.93, 75.46, 81.86, 53.08, 64.16, 54.61, 92.72, 90.68, 90.98, 60.29, 65.13, 54.95, 68.83, 54.93, 59.67, 66.37, 70.44, 69.27, 102.61, 95.46, 89.07, 70.73620370370371, 98.56, 70.73620370370371, 74.15, 69.69, 73.24, 84.13, 93.69, 87.43, 81.16, 95.01, 89.7, 58.8, 55.09, 48.03, 87.27, 74.53, 89.52, 56.22, 50.04, 53.5, 50.9, 54.13, 59.91, 85.2, 80.5, 82.28, 72.69, 69.4, 65.94, 97.32, 98.9, 93.7, 82.6, 81.82, 84.79, 77.87, 88.25, 73.09, 61.42, 71.17, 73.06, 76.4, 70.73620370370371, 46.03, 64.63, 72.05, 96.93, 73.04, 56.92, 68.26, 73.58, 78.97, 76.59, 81.71, 85.0, 89.88, 65.53, 77.11, 61.12, 74.1, 67.55, 69.24, 84.86, 77.97, 85.63], \"y\": [30.52, 9.18, 13.19, 12.82, 13.9, 15.09, 14.75, 13.46, 19.28, 14.06, 14.43, 11.81, 24.87, 21.95, 22.18, 25.78, 45.73, 20.97, 21.65, 13.29, 16.84, 12.82, 14.92, 12.99, 13.47, 14.42, 14.93, 35.69, 35.48, 34.7, 13.94, 20.65, 21.58, 18.33, 13.43, 16.43, 21.46, 22.34, 23.88, 15.52, 15.65, 19.55, 16.34, 15.93, 17.04, 23.25, 20.66, 17.47, 16.16, 16.87, 18.08, 17.19, 17.15, 20.19, 13.2, 13.3, 16.36, 18.69, 14.31, 14.69, 26.23, 27.0, 29.35, 15.3, 15.33, 15.29, 18.63, 21.79, 19.16, 10.6, 12.71, 12.94, 13.25, 13.23, 14.59, 21.8, 16.58, 15.76, 16.71, 20.59, 16.59, 17.59, 9.27, 12.94, 22.74, 17.63, 19.16, 13.02, 13.27, 14.15, 15.97, 15.52, 15.27, 15.75, 16.84, 19.23, 21.96, 20.64, 15.91, 17.73, 15.57, 14.91, 14.8, 13.79, 15.1], \"z\": [1127.73, 292.65, 315.12, 313.51, 336.84, 394.94, 356.82, 300.26, 326.86, 406.65, 337.57, 293.21, 930.68, 850.5, 839.87, 818.0, 909.96, 680.26, 503.49, 335.85, 415.52, 347.23, 324.18, 353.7, 302.97, 319.06, 294.27, 598.5439814814816, 598.5439814814816, 598.5439814814816, 228.32, 834.29, 642.68, 543.92, 395.96, 421.25, 434.62, 425.76, 445.63, 355.73, 406.22, 611.9, 529.58, 511.88, 470.44, 568.42, 409.66, 406.43, 409.47, 436.07, 495.88, 454.17, 560.54, 681.09, 316.43, 308.99, 378.61, 478.84, 640.43, 497.96, 957.45, 963.64, 993.2, 390.86, 380.55, 357.87, 591.47, 727.67, 709.87, 209.03, 239.29, 239.57, 238.35, 254.01, 267.79, 925.97, 691.4, 757.9, 497.88, 405.36, 400.37, 414.53, 365.27, 365.2, 709.54, 439.73, 230.27, 333.26, 348.75, 324.17, 354.63, 333.01, 294.64, 396.13, 325.8, 431.91, 564.46, 532.96, 559.81, 469.28, 450.07, 445.7, 420.6, 416.04, 402.95]}],                        {\"legend\": {\"tracegroupgap\": 0}, \"margin\": {\"t\": 60}, \"scene\": {\"domain\": {\"x\": [0.0, 1.0], \"y\": [0.0, 1.0]}, \"xaxis\": {\"title\": {\"text\": \"x\"}}, \"yaxis\": {\"title\": {\"text\": \"y\"}}, \"zaxis\": {\"title\": {\"text\": \"z\"}}}, \"template\": {\"data\": {\"bar\": [{\"error_x\": {\"color\": \"#2a3f5f\"}, \"error_y\": {\"color\": \"#2a3f5f\"}, \"marker\": {\"line\": {\"color\": \"#E5ECF6\", \"width\": 0.5}}, \"type\": \"bar\"}], \"barpolar\": [{\"marker\": {\"line\": {\"color\": \"#E5ECF6\", \"width\": 0.5}}, \"type\": \"barpolar\"}], \"carpet\": [{\"aaxis\": {\"endlinecolor\": \"#2a3f5f\", \"gridcolor\": \"white\", \"linecolor\": \"white\", \"minorgridcolor\": \"white\", \"startlinecolor\": \"#2a3f5f\"}, \"baxis\": {\"endlinecolor\": \"#2a3f5f\", \"gridcolor\": \"white\", \"linecolor\": \"white\", \"minorgridcolor\": \"white\", \"startlinecolor\": \"#2a3f5f\"}, \"type\": \"carpet\"}], \"choropleth\": [{\"colorbar\": {\"outlinewidth\": 0, \"ticks\": \"\"}, \"type\": \"choropleth\"}], \"contour\": [{\"colorbar\": {\"outlinewidth\": 0, \"ticks\": \"\"}, \"colorscale\": [[0.0, \"#0d0887\"], [0.1111111111111111, \"#46039f\"], [0.2222222222222222, \"#7201a8\"], [0.3333333333333333, \"#9c179e\"], [0.4444444444444444, \"#bd3786\"], [0.5555555555555556, \"#d8576b\"], [0.6666666666666666, \"#ed7953\"], [0.7777777777777778, \"#fb9f3a\"], [0.8888888888888888, \"#fdca26\"], [1.0, \"#f0f921\"]], \"type\": \"contour\"}], \"contourcarpet\": [{\"colorbar\": {\"outlinewidth\": 0, \"ticks\": \"\"}, \"type\": \"contourcarpet\"}], \"heatmap\": [{\"colorbar\": {\"outlinewidth\": 0, \"ticks\": \"\"}, \"colorscale\": [[0.0, \"#0d0887\"], [0.1111111111111111, \"#46039f\"], [0.2222222222222222, \"#7201a8\"], [0.3333333333333333, \"#9c179e\"], [0.4444444444444444, \"#bd3786\"], [0.5555555555555556, \"#d8576b\"], [0.6666666666666666, \"#ed7953\"], [0.7777777777777778, \"#fb9f3a\"], [0.8888888888888888, \"#fdca26\"], [1.0, \"#f0f921\"]], \"type\": \"heatmap\"}], \"heatmapgl\": [{\"colorbar\": {\"outlinewidth\": 0, \"ticks\": \"\"}, \"colorscale\": [[0.0, \"#0d0887\"], [0.1111111111111111, \"#46039f\"], [0.2222222222222222, \"#7201a8\"], [0.3333333333333333, \"#9c179e\"], [0.4444444444444444, \"#bd3786\"], [0.5555555555555556, \"#d8576b\"], [0.6666666666666666, \"#ed7953\"], [0.7777777777777778, \"#fb9f3a\"], [0.8888888888888888, \"#fdca26\"], [1.0, \"#f0f921\"]], \"type\": \"heatmapgl\"}], \"histogram\": [{\"marker\": {\"colorbar\": {\"outlinewidth\": 0, \"ticks\": \"\"}}, \"type\": \"histogram\"}], \"histogram2d\": [{\"colorbar\": {\"outlinewidth\": 0, \"ticks\": \"\"}, \"colorscale\": [[0.0, \"#0d0887\"], [0.1111111111111111, \"#46039f\"], [0.2222222222222222, \"#7201a8\"], [0.3333333333333333, \"#9c179e\"], [0.4444444444444444, \"#bd3786\"], [0.5555555555555556, \"#d8576b\"], [0.6666666666666666, \"#ed7953\"], [0.7777777777777778, \"#fb9f3a\"], [0.8888888888888888, \"#fdca26\"], [1.0, \"#f0f921\"]], \"type\": \"histogram2d\"}], \"histogram2dcontour\": [{\"colorbar\": {\"outlinewidth\": 0, \"ticks\": \"\"}, \"colorscale\": [[0.0, \"#0d0887\"], [0.1111111111111111, \"#46039f\"], [0.2222222222222222, \"#7201a8\"], [0.3333333333333333, \"#9c179e\"], [0.4444444444444444, \"#bd3786\"], [0.5555555555555556, \"#d8576b\"], [0.6666666666666666, \"#ed7953\"], [0.7777777777777778, \"#fb9f3a\"], [0.8888888888888888, \"#fdca26\"], [1.0, \"#f0f921\"]], \"type\": \"histogram2dcontour\"}], \"mesh3d\": [{\"colorbar\": {\"outlinewidth\": 0, \"ticks\": \"\"}, \"type\": \"mesh3d\"}], \"parcoords\": [{\"line\": {\"colorbar\": {\"outlinewidth\": 0, \"ticks\": \"\"}}, \"type\": \"parcoords\"}], \"pie\": [{\"automargin\": true, \"type\": \"pie\"}], \"scatter\": [{\"marker\": {\"colorbar\": {\"outlinewidth\": 0, \"ticks\": \"\"}}, \"type\": \"scatter\"}], \"scatter3d\": [{\"line\": {\"colorbar\": {\"outlinewidth\": 0, \"ticks\": \"\"}}, \"marker\": {\"colorbar\": {\"outlinewidth\": 0, \"ticks\": \"\"}}, \"type\": \"scatter3d\"}], \"scattercarpet\": [{\"marker\": {\"colorbar\": {\"outlinewidth\": 0, \"ticks\": \"\"}}, \"type\": \"scattercarpet\"}], \"scattergeo\": [{\"marker\": {\"colorbar\": {\"outlinewidth\": 0, \"ticks\": \"\"}}, \"type\": \"scattergeo\"}], \"scattergl\": [{\"marker\": {\"colorbar\": {\"outlinewidth\": 0, \"ticks\": \"\"}}, \"type\": \"scattergl\"}], \"scattermapbox\": [{\"marker\": {\"colorbar\": {\"outlinewidth\": 0, \"ticks\": \"\"}}, \"type\": \"scattermapbox\"}], \"scatterpolar\": [{\"marker\": {\"colorbar\": {\"outlinewidth\": 0, \"ticks\": \"\"}}, \"type\": \"scatterpolar\"}], \"scatterpolargl\": [{\"marker\": {\"colorbar\": {\"outlinewidth\": 0, \"ticks\": \"\"}}, \"type\": \"scatterpolargl\"}], \"scatterternary\": [{\"marker\": {\"colorbar\": {\"outlinewidth\": 0, \"ticks\": \"\"}}, \"type\": \"scatterternary\"}], \"surface\": [{\"colorbar\": {\"outlinewidth\": 0, \"ticks\": \"\"}, \"colorscale\": [[0.0, \"#0d0887\"], [0.1111111111111111, \"#46039f\"], [0.2222222222222222, \"#7201a8\"], [0.3333333333333333, \"#9c179e\"], [0.4444444444444444, \"#bd3786\"], [0.5555555555555556, \"#d8576b\"], [0.6666666666666666, \"#ed7953\"], [0.7777777777777778, \"#fb9f3a\"], [0.8888888888888888, \"#fdca26\"], [1.0, \"#f0f921\"]], \"type\": \"surface\"}], \"table\": [{\"cells\": {\"fill\": {\"color\": \"#EBF0F8\"}, \"line\": {\"color\": \"white\"}}, \"header\": {\"fill\": {\"color\": \"#C8D4E3\"}, \"line\": {\"color\": \"white\"}}, \"type\": \"table\"}]}, \"layout\": {\"annotationdefaults\": {\"arrowcolor\": \"#2a3f5f\", \"arrowhead\": 0, \"arrowwidth\": 1}, \"autotypenumbers\": \"strict\", \"coloraxis\": {\"colorbar\": {\"outlinewidth\": 0, \"ticks\": \"\"}}, \"colorscale\": {\"diverging\": [[0, \"#8e0152\"], [0.1, \"#c51b7d\"], [0.2, \"#de77ae\"], [0.3, \"#f1b6da\"], [0.4, \"#fde0ef\"], [0.5, \"#f7f7f7\"], [0.6, \"#e6f5d0\"], [0.7, \"#b8e186\"], [0.8, \"#7fbc41\"], [0.9, \"#4d9221\"], [1, \"#276419\"]], \"sequential\": [[0.0, \"#0d0887\"], [0.1111111111111111, \"#46039f\"], [0.2222222222222222, \"#7201a8\"], [0.3333333333333333, \"#9c179e\"], [0.4444444444444444, \"#bd3786\"], [0.5555555555555556, \"#d8576b\"], [0.6666666666666666, \"#ed7953\"], [0.7777777777777778, \"#fb9f3a\"], [0.8888888888888888, \"#fdca26\"], [1.0, \"#f0f921\"]], \"sequentialminus\": [[0.0, \"#0d0887\"], [0.1111111111111111, \"#46039f\"], [0.2222222222222222, \"#7201a8\"], [0.3333333333333333, \"#9c179e\"], [0.4444444444444444, \"#bd3786\"], [0.5555555555555556, \"#d8576b\"], [0.6666666666666666, \"#ed7953\"], [0.7777777777777778, \"#fb9f3a\"], [0.8888888888888888, \"#fdca26\"], [1.0, \"#f0f921\"]]}, \"colorway\": [\"#636efa\", \"#EF553B\", \"#00cc96\", \"#ab63fa\", \"#FFA15A\", \"#19d3f3\", \"#FF6692\", \"#B6E880\", \"#FF97FF\", \"#FECB52\"], \"font\": {\"color\": \"#2a3f5f\"}, \"geo\": {\"bgcolor\": \"white\", \"lakecolor\": \"white\", \"landcolor\": \"#E5ECF6\", \"showlakes\": true, \"showland\": true, \"subunitcolor\": \"white\"}, \"hoverlabel\": {\"align\": \"left\"}, \"hovermode\": \"closest\", \"mapbox\": {\"style\": \"light\"}, \"paper_bgcolor\": \"white\", \"plot_bgcolor\": \"#E5ECF6\", \"polar\": {\"angularaxis\": {\"gridcolor\": \"white\", \"linecolor\": \"white\", \"ticks\": \"\"}, \"bgcolor\": \"#E5ECF6\", \"radialaxis\": {\"gridcolor\": \"white\", \"linecolor\": \"white\", \"ticks\": \"\"}}, \"scene\": {\"xaxis\": {\"backgroundcolor\": \"#E5ECF6\", \"gridcolor\": \"white\", \"gridwidth\": 2, \"linecolor\": \"white\", \"showbackground\": true, \"ticks\": \"\", \"zerolinecolor\": \"white\"}, \"yaxis\": {\"backgroundcolor\": \"#E5ECF6\", \"gridcolor\": \"white\", \"gridwidth\": 2, \"linecolor\": \"white\", \"showbackground\": true, \"ticks\": \"\", \"zerolinecolor\": \"white\"}, \"zaxis\": {\"backgroundcolor\": \"#E5ECF6\", \"gridcolor\": \"white\", \"gridwidth\": 2, \"linecolor\": \"white\", \"showbackground\": true, \"ticks\": \"\", \"zerolinecolor\": \"white\"}}, \"shapedefaults\": {\"line\": {\"color\": \"#2a3f5f\"}}, \"ternary\": {\"aaxis\": {\"gridcolor\": \"white\", \"linecolor\": \"white\", \"ticks\": \"\"}, \"baxis\": {\"gridcolor\": \"white\", \"linecolor\": \"white\", \"ticks\": \"\"}, \"bgcolor\": \"#E5ECF6\", \"caxis\": {\"gridcolor\": \"white\", \"linecolor\": \"white\", \"ticks\": \"\"}}, \"title\": {\"x\": 0.05}, \"xaxis\": {\"automargin\": true, \"gridcolor\": \"white\", \"linecolor\": \"white\", \"ticks\": \"\", \"title\": {\"standoff\": 15}, \"zerolinecolor\": \"white\", \"zerolinewidth\": 2}, \"yaxis\": {\"automargin\": true, \"gridcolor\": \"white\", \"linecolor\": \"white\", \"ticks\": \"\", \"title\": {\"standoff\": 15}, \"zerolinecolor\": \"white\", \"zerolinewidth\": 2}}}, \"title\": {\"text\": \"5 Features Representation\"}},                        {\"responsive\": true}                    ).then(function(){\n",
       "                            \n",
       "var gd = document.getElementById('e8bdc332-3963-43eb-939f-2e6dd1b7b2bc');\n",
       "var x = new MutationObserver(function (mutations, observer) {{\n",
       "        var display = window.getComputedStyle(gd).display;\n",
       "        if (!display || display === 'none') {{\n",
       "            console.log([gd, 'removed!']);\n",
       "            Plotly.purge(gd);\n",
       "            observer.disconnect();\n",
       "        }}\n",
       "}});\n",
       "\n",
       "// Listen for the removal of the full notebook cells\n",
       "var notebookContainer = gd.closest('#notebook-container');\n",
       "if (notebookContainer) {{\n",
       "    x.observe(notebookContainer, {childList: true});\n",
       "}}\n",
       "\n",
       "// Listen for the clearing of the current output cell\n",
       "var outputEl = gd.closest('.output');\n",
       "if (outputEl) {{\n",
       "    x.observe(outputEl, {childList: true});\n",
       "}}\n",
       "\n",
       "                        })                };                });            </script>        </div>"
      ]
     },
     "metadata": {},
     "output_type": "display_data"
    }
   ],
   "source": [
    "fig2 = px.scatter_3d(X_CR, x=X_CR.iloc[:,1], y=X_CR.iloc[:,2],z=X_CR.iloc[:,3])#size=\"amount_spent\")\n",
    "fig2.update_layout(title=\"5 Features Representation\")\n",
    "fig2.show()"
   ]
  },
  {
   "cell_type": "code",
   "execution_count": null,
   "metadata": {},
   "outputs": [],
   "source": []
  },
  {
   "cell_type": "code",
   "execution_count": null,
   "metadata": {},
   "outputs": [],
   "source": []
  },
  {
   "cell_type": "code",
   "execution_count": null,
   "metadata": {},
   "outputs": [],
   "source": []
  },
  {
   "cell_type": "code",
   "execution_count": 120,
   "metadata": {},
   "outputs": [],
   "source": [
    "from sklearn.cluster import KMeans, SpectralClustering"
   ]
  },
  {
   "cell_type": "code",
   "execution_count": 121,
   "metadata": {},
   "outputs": [
    {
     "ename": "ValueError",
     "evalue": "could not convert string to float: '189_AC_1'",
     "output_type": "error",
     "traceback": [
      "\u001b[1;31m---------------------------------------------------------------------------\u001b[0m",
      "\u001b[1;31mValueError\u001b[0m                                Traceback (most recent call last)",
      "\u001b[1;32m~\\AppData\\Local\\Temp\\ipykernel_4464\\533594587.py\u001b[0m in \u001b[0;36m<module>\u001b[1;34m\u001b[0m\n\u001b[0;32m      1\u001b[0m \u001b[0mkm\u001b[0m \u001b[1;33m=\u001b[0m \u001b[0mKMeans\u001b[0m\u001b[1;33m(\u001b[0m\u001b[0mn_clusters\u001b[0m\u001b[1;33m=\u001b[0m\u001b[1;36m14\u001b[0m\u001b[1;33m,\u001b[0m \u001b[0mmax_iter\u001b[0m\u001b[1;33m=\u001b[0m\u001b[1;36m300\u001b[0m\u001b[1;33m)\u001b[0m\u001b[1;33m\u001b[0m\u001b[1;33m\u001b[0m\u001b[0m\n\u001b[1;32m----> 2\u001b[1;33m \u001b[0mkm\u001b[0m\u001b[1;33m.\u001b[0m\u001b[0mfit\u001b[0m\u001b[1;33m(\u001b[0m\u001b[0mX\u001b[0m\u001b[1;33m)\u001b[0m\u001b[1;33m\u001b[0m\u001b[1;33m\u001b[0m\u001b[0m\n\u001b[0m\u001b[0;32m      3\u001b[0m \u001b[0mcentroids\u001b[0m \u001b[1;33m=\u001b[0m \u001b[0mkm\u001b[0m\u001b[1;33m.\u001b[0m\u001b[0mcluster_centers_\u001b[0m\u001b[1;33m\u001b[0m\u001b[1;33m\u001b[0m\u001b[0m\n\u001b[0;32m      4\u001b[0m \u001b[0my_kmeans\u001b[0m \u001b[1;33m=\u001b[0m \u001b[0mkm\u001b[0m\u001b[1;33m.\u001b[0m\u001b[0mpredict\u001b[0m\u001b[1;33m(\u001b[0m\u001b[0mX\u001b[0m\u001b[1;33m)\u001b[0m\u001b[1;33m\u001b[0m\u001b[1;33m\u001b[0m\u001b[0m\n\u001b[0;32m      5\u001b[0m \u001b[0mkm\u001b[0m\u001b[1;33m.\u001b[0m\u001b[0mlabels_\u001b[0m\u001b[1;33m\u001b[0m\u001b[1;33m\u001b[0m\u001b[0m\n",
      "\u001b[1;32m~\\Anaconda3\\lib\\site-packages\\sklearn\\cluster\\_kmeans.py\u001b[0m in \u001b[0;36mfit\u001b[1;34m(self, X, y, sample_weight)\u001b[0m\n\u001b[0;32m   1141\u001b[0m             \u001b[0morder\u001b[0m\u001b[1;33m=\u001b[0m\u001b[1;34m\"C\"\u001b[0m\u001b[1;33m,\u001b[0m\u001b[1;33m\u001b[0m\u001b[1;33m\u001b[0m\u001b[0m\n\u001b[0;32m   1142\u001b[0m             \u001b[0mcopy\u001b[0m\u001b[1;33m=\u001b[0m\u001b[0mself\u001b[0m\u001b[1;33m.\u001b[0m\u001b[0mcopy_x\u001b[0m\u001b[1;33m,\u001b[0m\u001b[1;33m\u001b[0m\u001b[1;33m\u001b[0m\u001b[0m\n\u001b[1;32m-> 1143\u001b[1;33m             \u001b[0maccept_large_sparse\u001b[0m\u001b[1;33m=\u001b[0m\u001b[1;32mFalse\u001b[0m\u001b[1;33m,\u001b[0m\u001b[1;33m\u001b[0m\u001b[1;33m\u001b[0m\u001b[0m\n\u001b[0m\u001b[0;32m   1144\u001b[0m         )\n\u001b[0;32m   1145\u001b[0m \u001b[1;33m\u001b[0m\u001b[0m\n",
      "\u001b[1;32m~\\Anaconda3\\lib\\site-packages\\sklearn\\base.py\u001b[0m in \u001b[0;36m_validate_data\u001b[1;34m(self, X, y, reset, validate_separately, **check_params)\u001b[0m\n\u001b[0;32m    564\u001b[0m             \u001b[1;32mraise\u001b[0m \u001b[0mValueError\u001b[0m\u001b[1;33m(\u001b[0m\u001b[1;34m\"Validation should be done on X, y or both.\"\u001b[0m\u001b[1;33m)\u001b[0m\u001b[1;33m\u001b[0m\u001b[1;33m\u001b[0m\u001b[0m\n\u001b[0;32m    565\u001b[0m         \u001b[1;32melif\u001b[0m \u001b[1;32mnot\u001b[0m \u001b[0mno_val_X\u001b[0m \u001b[1;32mand\u001b[0m \u001b[0mno_val_y\u001b[0m\u001b[1;33m:\u001b[0m\u001b[1;33m\u001b[0m\u001b[1;33m\u001b[0m\u001b[0m\n\u001b[1;32m--> 566\u001b[1;33m             \u001b[0mX\u001b[0m \u001b[1;33m=\u001b[0m \u001b[0mcheck_array\u001b[0m\u001b[1;33m(\u001b[0m\u001b[0mX\u001b[0m\u001b[1;33m,\u001b[0m \u001b[1;33m**\u001b[0m\u001b[0mcheck_params\u001b[0m\u001b[1;33m)\u001b[0m\u001b[1;33m\u001b[0m\u001b[1;33m\u001b[0m\u001b[0m\n\u001b[0m\u001b[0;32m    567\u001b[0m             \u001b[0mout\u001b[0m \u001b[1;33m=\u001b[0m \u001b[0mX\u001b[0m\u001b[1;33m\u001b[0m\u001b[1;33m\u001b[0m\u001b[0m\n\u001b[0;32m    568\u001b[0m         \u001b[1;32melif\u001b[0m \u001b[0mno_val_X\u001b[0m \u001b[1;32mand\u001b[0m \u001b[1;32mnot\u001b[0m \u001b[0mno_val_y\u001b[0m\u001b[1;33m:\u001b[0m\u001b[1;33m\u001b[0m\u001b[1;33m\u001b[0m\u001b[0m\n",
      "\u001b[1;32m~\\Anaconda3\\lib\\site-packages\\sklearn\\utils\\validation.py\u001b[0m in \u001b[0;36mcheck_array\u001b[1;34m(array, accept_sparse, accept_large_sparse, dtype, order, copy, force_all_finite, ensure_2d, allow_nd, ensure_min_samples, ensure_min_features, estimator)\u001b[0m\n\u001b[0;32m    744\u001b[0m                     \u001b[0marray\u001b[0m \u001b[1;33m=\u001b[0m \u001b[0marray\u001b[0m\u001b[1;33m.\u001b[0m\u001b[0mastype\u001b[0m\u001b[1;33m(\u001b[0m\u001b[0mdtype\u001b[0m\u001b[1;33m,\u001b[0m \u001b[0mcasting\u001b[0m\u001b[1;33m=\u001b[0m\u001b[1;34m\"unsafe\"\u001b[0m\u001b[1;33m,\u001b[0m \u001b[0mcopy\u001b[0m\u001b[1;33m=\u001b[0m\u001b[1;32mFalse\u001b[0m\u001b[1;33m)\u001b[0m\u001b[1;33m\u001b[0m\u001b[1;33m\u001b[0m\u001b[0m\n\u001b[0;32m    745\u001b[0m                 \u001b[1;32melse\u001b[0m\u001b[1;33m:\u001b[0m\u001b[1;33m\u001b[0m\u001b[1;33m\u001b[0m\u001b[0m\n\u001b[1;32m--> 746\u001b[1;33m                     \u001b[0marray\u001b[0m \u001b[1;33m=\u001b[0m \u001b[0mnp\u001b[0m\u001b[1;33m.\u001b[0m\u001b[0masarray\u001b[0m\u001b[1;33m(\u001b[0m\u001b[0marray\u001b[0m\u001b[1;33m,\u001b[0m \u001b[0morder\u001b[0m\u001b[1;33m=\u001b[0m\u001b[0morder\u001b[0m\u001b[1;33m,\u001b[0m \u001b[0mdtype\u001b[0m\u001b[1;33m=\u001b[0m\u001b[0mdtype\u001b[0m\u001b[1;33m)\u001b[0m\u001b[1;33m\u001b[0m\u001b[1;33m\u001b[0m\u001b[0m\n\u001b[0m\u001b[0;32m    747\u001b[0m             \u001b[1;32mexcept\u001b[0m \u001b[0mComplexWarning\u001b[0m \u001b[1;32mas\u001b[0m \u001b[0mcomplex_warning\u001b[0m\u001b[1;33m:\u001b[0m\u001b[1;33m\u001b[0m\u001b[1;33m\u001b[0m\u001b[0m\n\u001b[0;32m    748\u001b[0m                 raise ValueError(\n",
      "\u001b[1;32m~\\Anaconda3\\lib\\site-packages\\pandas\\core\\generic.py\u001b[0m in \u001b[0;36m__array__\u001b[1;34m(self, dtype)\u001b[0m\n\u001b[0;32m   1991\u001b[0m \u001b[1;33m\u001b[0m\u001b[0m\n\u001b[0;32m   1992\u001b[0m     \u001b[1;32mdef\u001b[0m \u001b[0m__array__\u001b[0m\u001b[1;33m(\u001b[0m\u001b[0mself\u001b[0m\u001b[1;33m,\u001b[0m \u001b[0mdtype\u001b[0m\u001b[1;33m:\u001b[0m \u001b[0mNpDtype\u001b[0m \u001b[1;33m|\u001b[0m \u001b[1;32mNone\u001b[0m \u001b[1;33m=\u001b[0m \u001b[1;32mNone\u001b[0m\u001b[1;33m)\u001b[0m \u001b[1;33m->\u001b[0m \u001b[0mnp\u001b[0m\u001b[1;33m.\u001b[0m\u001b[0mndarray\u001b[0m\u001b[1;33m:\u001b[0m\u001b[1;33m\u001b[0m\u001b[1;33m\u001b[0m\u001b[0m\n\u001b[1;32m-> 1993\u001b[1;33m         \u001b[1;32mreturn\u001b[0m \u001b[0mnp\u001b[0m\u001b[1;33m.\u001b[0m\u001b[0masarray\u001b[0m\u001b[1;33m(\u001b[0m\u001b[0mself\u001b[0m\u001b[1;33m.\u001b[0m\u001b[0m_values\u001b[0m\u001b[1;33m,\u001b[0m \u001b[0mdtype\u001b[0m\u001b[1;33m=\u001b[0m\u001b[0mdtype\u001b[0m\u001b[1;33m)\u001b[0m\u001b[1;33m\u001b[0m\u001b[1;33m\u001b[0m\u001b[0m\n\u001b[0m\u001b[0;32m   1994\u001b[0m \u001b[1;33m\u001b[0m\u001b[0m\n\u001b[0;32m   1995\u001b[0m     def __array_wrap__(\n",
      "\u001b[1;31mValueError\u001b[0m: could not convert string to float: '189_AC_1'"
     ]
    }
   ],
   "source": [
    "km = KMeans(n_clusters=14, max_iter=300)\n",
    "km.fit(X)\n",
    "centroids = km.cluster_centers_\n",
    "y_kmeans = km.predict(X)\n",
    "km.labels_\n",
    "\n",
    "# Plot the clustered data\n",
    "fig, ax = plt.subplots(figsize=(10, 10))\n",
    "\n",
    "plt.scatter(X.iloc[:,1], X.iloc[:,51], c=y_kmeans, cmap='viridis', label='Nodule')\n",
    "#plt.scatter(X_std[:,2], X_std[:,3], c='blue', label='cluster 2')\n",
    "#plt.scatter(centroids[:, 0], centroids[:, 1], marker='*', s=300, c='r', label='centroid')\n",
    "\n",
    "plt.legend()\n",
    "plt.xlim([-0.5, 1])\n",
    "plt.ylim([-0.5, 1])\n",
    "plt.xlabel('Elem 1')\n",
    "plt.ylabel('Elem 2')\n",
    "plt.title('Visualization of clustered data', fontweight='bold')\n",
    "ax.set_aspect('equal');"
   ]
  },
  {
   "cell_type": "code",
   "execution_count": null,
   "metadata": {},
   "outputs": [],
   "source": []
  },
  {
   "cell_type": "markdown",
   "metadata": {},
   "source": [
    "## TSNE"
   ]
  },
  {
   "cell_type": "code",
   "execution_count": null,
   "metadata": {},
   "outputs": [],
   "source": []
  },
  {
   "cell_type": "code",
   "execution_count": 122,
   "metadata": {},
   "outputs": [],
   "source": [
    "my_scaler_test = StandardScaler()"
   ]
  },
  {
   "cell_type": "code",
   "execution_count": 123,
   "metadata": {},
   "outputs": [],
   "source": [
    "element_data_test_scaled = my_scaler_test.fit_transform(X_CR)"
   ]
  },
  {
   "cell_type": "code",
   "execution_count": 124,
   "metadata": {},
   "outputs": [
    {
     "name": "stderr",
     "output_type": "stream",
     "text": [
      "C:\\Users\\tom\\Anaconda3\\lib\\site-packages\\sklearn\\manifold\\_t_sne.py:783: FutureWarning:\n",
      "\n",
      "The default initialization in TSNE will change from 'random' to 'pca' in 1.2.\n",
      "\n"
     ]
    },
    {
     "name": "stdout",
     "output_type": "stream",
     "text": [
      "[t-SNE] Computing 76 nearest neighbors...\n",
      "[t-SNE] Indexed 105 samples in 0.000s...\n",
      "[t-SNE] Computed neighbors for 105 samples in 0.005s...\n",
      "[t-SNE] Computed conditional probabilities for sample 105 / 105\n",
      "[t-SNE] Mean sigma: 1.824057\n",
      "[t-SNE] Computed conditional probabilities in 0.003s\n",
      "[t-SNE] Iteration 50: error = 77.7280045, gradient norm = 0.1913751 (50 iterations in 0.059s)\n",
      "[t-SNE] Iteration 100: error = 88.5641098, gradient norm = 0.2221071 (50 iterations in 0.045s)\n",
      "[t-SNE] Iteration 150: error = 102.5971832, gradient norm = 0.2099056 (50 iterations in 0.041s)\n",
      "[t-SNE] Iteration 200: error = 111.4590912, gradient norm = 0.1635439 (50 iterations in 0.034s)\n",
      "[t-SNE] Iteration 250: error = 119.9500275, gradient norm = 0.1617076 (50 iterations in 0.041s)\n",
      "[t-SNE] KL divergence after 250 iterations with early exaggeration: 119.950027\n",
      "[t-SNE] Iteration 300: error = 2.8075621, gradient norm = 0.0003530 (50 iterations in 0.042s)\n",
      "[t-SNE] Iteration 350: error = 2.4329641, gradient norm = 0.0001450 (50 iterations in 0.044s)\n",
      "[t-SNE] Iteration 400: error = 2.2464752, gradient norm = 0.0000839 (50 iterations in 0.045s)\n",
      "[t-SNE] Iteration 450: error = 2.1516166, gradient norm = 0.0000585 (50 iterations in 0.044s)\n",
      "[t-SNE] Iteration 500: error = 2.0737326, gradient norm = 0.0000442 (50 iterations in 0.044s)\n",
      "[t-SNE] Iteration 550: error = 2.0159936, gradient norm = 0.0000345 (50 iterations in 0.047s)\n",
      "[t-SNE] Iteration 600: error = 1.9738871, gradient norm = 0.0000277 (50 iterations in 0.045s)\n",
      "[t-SNE] Iteration 650: error = 1.9401989, gradient norm = 0.0000233 (50 iterations in 0.039s)\n",
      "[t-SNE] Iteration 700: error = 1.9116915, gradient norm = 0.0000203 (50 iterations in 0.043s)\n",
      "[t-SNE] Iteration 750: error = 1.8833121, gradient norm = 0.0000182 (50 iterations in 0.036s)\n",
      "[t-SNE] Iteration 800: error = 1.8538899, gradient norm = 0.0000167 (50 iterations in 0.040s)\n",
      "[t-SNE] Iteration 850: error = 1.8265553, gradient norm = 0.0000147 (50 iterations in 0.033s)\n",
      "[t-SNE] Iteration 900: error = 1.8030615, gradient norm = 0.0000132 (50 iterations in 0.032s)\n",
      "[t-SNE] Iteration 950: error = 1.7799423, gradient norm = 0.0000119 (50 iterations in 0.034s)\n",
      "[t-SNE] Iteration 1000: error = 1.7583820, gradient norm = 0.0000108 (50 iterations in 0.032s)\n",
      "[t-SNE] Iteration 1050: error = 1.7421390, gradient norm = 0.0000099 (50 iterations in 0.032s)\n",
      "[t-SNE] Iteration 1100: error = 1.7270133, gradient norm = 0.0000092 (50 iterations in 0.032s)\n",
      "[t-SNE] Iteration 1150: error = 1.7125760, gradient norm = 0.0000086 (50 iterations in 0.037s)\n",
      "[t-SNE] Iteration 1200: error = 1.6990430, gradient norm = 0.0000079 (50 iterations in 0.040s)\n",
      "[t-SNE] Iteration 1250: error = 1.6857989, gradient norm = 0.0000074 (50 iterations in 0.034s)\n",
      "[t-SNE] Iteration 1300: error = 1.6738647, gradient norm = 0.0000069 (50 iterations in 0.034s)\n",
      "[t-SNE] Iteration 1350: error = 1.6631056, gradient norm = 0.0000066 (50 iterations in 0.034s)\n",
      "[t-SNE] Iteration 1400: error = 1.6518500, gradient norm = 0.0000063 (50 iterations in 0.032s)\n",
      "[t-SNE] Iteration 1450: error = 1.6399175, gradient norm = 0.0000061 (50 iterations in 0.033s)\n",
      "[t-SNE] Iteration 1500: error = 1.6266975, gradient norm = 0.0000058 (50 iterations in 0.038s)\n",
      "[t-SNE] Iteration 1550: error = 1.6163900, gradient norm = 0.0000055 (50 iterations in 0.033s)\n",
      "[t-SNE] Iteration 1600: error = 1.6053317, gradient norm = 0.0000052 (50 iterations in 0.032s)\n",
      "[t-SNE] Iteration 1650: error = 1.5948111, gradient norm = 0.0000049 (50 iterations in 0.033s)\n",
      "[t-SNE] Iteration 1700: error = 1.5852579, gradient norm = 0.0000046 (50 iterations in 0.034s)\n",
      "[t-SNE] Iteration 1750: error = 1.5756532, gradient norm = 0.0000044 (50 iterations in 0.031s)\n",
      "[t-SNE] Iteration 1800: error = 1.5659329, gradient norm = 0.0000042 (50 iterations in 0.038s)\n",
      "[t-SNE] Iteration 1850: error = 1.5570219, gradient norm = 0.0000041 (50 iterations in 0.033s)\n",
      "[t-SNE] Iteration 1900: error = 1.5478656, gradient norm = 0.0000039 (50 iterations in 0.035s)\n",
      "[t-SNE] Iteration 1950: error = 1.5385255, gradient norm = 0.0000038 (50 iterations in 0.033s)\n",
      "[t-SNE] Iteration 2000: error = 1.5297559, gradient norm = 0.0000036 (50 iterations in 0.037s)\n",
      "[t-SNE] KL divergence after 2000 iterations: 1.529756\n"
     ]
    }
   ],
   "source": [
    "my_tsne_test = TSNE(n_components=3, perplexity=25, learning_rate=200, n_iter=2000, verbose=3).fit_transform(element_data_test_scaled)"
   ]
  },
  {
   "cell_type": "code",
   "execution_count": 125,
   "metadata": {},
   "outputs": [],
   "source": [
    "tsne_df_test = pd.DataFrame(data = my_tsne_test, columns = ['tsne1', 'tsne2', 'tsne3'])"
   ]
  },
  {
   "cell_type": "markdown",
   "metadata": {},
   "source": [
    "### add group back in (nodule)"
   ]
  },
  {
   "cell_type": "code",
   "execution_count": 126,
   "metadata": {},
   "outputs": [],
   "source": [
    "Nodulecol = X['Nodule']"
   ]
  },
  {
   "cell_type": "code",
   "execution_count": 127,
   "metadata": {},
   "outputs": [
    {
     "data": {
      "text/plain": [
       "1078    AC_1\n",
       "1079    AC_1\n",
       "1080    AC_1\n",
       "1081    AC_2\n",
       "1082    AC_2\n",
       "Name: Nodule, dtype: object"
      ]
     },
     "execution_count": 127,
     "metadata": {},
     "output_type": "execute_result"
    }
   ],
   "source": [
    "Nodulecol.head()"
   ]
  },
  {
   "cell_type": "code",
   "execution_count": 128,
   "metadata": {},
   "outputs": [],
   "source": [
    "tsne3d_df_NoduleCol_comb = pd.concat([Nodulecol.reset_index(drop=True), tsne_df_test.reset_index(drop=True)], axis=1)"
   ]
  },
  {
   "cell_type": "code",
   "execution_count": 129,
   "metadata": {},
   "outputs": [
    {
     "name": "stdout",
     "output_type": "stream",
     "text": [
      "Stored 'tsne3d_df_NoduleCol_comb' (DataFrame)\n"
     ]
    }
   ],
   "source": [
    "%store tsne3d_df_NoduleCol_comb"
   ]
  },
  {
   "cell_type": "code",
   "execution_count": 130,
   "metadata": {},
   "outputs": [
    {
     "data": {
      "text/html": [
       "<div>\n",
       "<style scoped>\n",
       "    .dataframe tbody tr th:only-of-type {\n",
       "        vertical-align: middle;\n",
       "    }\n",
       "\n",
       "    .dataframe tbody tr th {\n",
       "        vertical-align: top;\n",
       "    }\n",
       "\n",
       "    .dataframe thead th {\n",
       "        text-align: right;\n",
       "    }\n",
       "</style>\n",
       "<table border=\"1\" class=\"dataframe\">\n",
       "  <thead>\n",
       "    <tr style=\"text-align: right;\">\n",
       "      <th></th>\n",
       "      <th>Nodule</th>\n",
       "      <th>tsne1</th>\n",
       "      <th>tsne2</th>\n",
       "      <th>tsne3</th>\n",
       "    </tr>\n",
       "  </thead>\n",
       "  <tbody>\n",
       "    <tr>\n",
       "      <th>0</th>\n",
       "      <td>AC_1</td>\n",
       "      <td>-267.776703</td>\n",
       "      <td>197.070374</td>\n",
       "      <td>-49.188766</td>\n",
       "    </tr>\n",
       "    <tr>\n",
       "      <th>1</th>\n",
       "      <td>AC_1</td>\n",
       "      <td>281.657104</td>\n",
       "      <td>92.097672</td>\n",
       "      <td>-94.761681</td>\n",
       "    </tr>\n",
       "    <tr>\n",
       "      <th>2</th>\n",
       "      <td>AC_1</td>\n",
       "      <td>-64.024155</td>\n",
       "      <td>25.749640</td>\n",
       "      <td>-277.802063</td>\n",
       "    </tr>\n",
       "    <tr>\n",
       "      <th>3</th>\n",
       "      <td>AC_2</td>\n",
       "      <td>-211.355164</td>\n",
       "      <td>19.158716</td>\n",
       "      <td>203.333328</td>\n",
       "    </tr>\n",
       "    <tr>\n",
       "      <th>4</th>\n",
       "      <td>AC_2</td>\n",
       "      <td>128.634003</td>\n",
       "      <td>273.525177</td>\n",
       "      <td>-191.945740</td>\n",
       "    </tr>\n",
       "  </tbody>\n",
       "</table>\n",
       "</div>"
      ],
      "text/plain": [
       "  Nodule       tsne1       tsne2       tsne3\n",
       "0   AC_1 -267.776703  197.070374  -49.188766\n",
       "1   AC_1  281.657104   92.097672  -94.761681\n",
       "2   AC_1  -64.024155   25.749640 -277.802063\n",
       "3   AC_2 -211.355164   19.158716  203.333328\n",
       "4   AC_2  128.634003  273.525177 -191.945740"
      ]
     },
     "execution_count": 130,
     "metadata": {},
     "output_type": "execute_result"
    }
   ],
   "source": [
    "tsne3d_df_NoduleCol_comb.head()"
   ]
  },
  {
   "cell_type": "markdown",
   "metadata": {},
   "source": [
    "## TSNE Visualisation"
   ]
  },
  {
   "cell_type": "code",
   "execution_count": 131,
   "metadata": {},
   "outputs": [],
   "source": [
    "tsne3dIssuelabels = Nodulecol"
   ]
  },
  {
   "cell_type": "code",
   "execution_count": 132,
   "metadata": {},
   "outputs": [],
   "source": [
    "filepath = 'figures/Butcher2005_Tom_tSNE_3dPlot_Issue_bestfeats.html'"
   ]
  },
  {
   "cell_type": "code",
   "execution_count": 174,
   "metadata": {},
   "outputs": [
    {
     "data": {
      "application/vnd.plotly.v1+json": {
       "config": {
        "plotlyServerURL": "https://plot.ly"
       },
       "data": [
        {
         "hovertemplate": "color=AC_1<br>x=%{x}<br>y=%{y}<br>z=%{z}<extra></extra>",
         "legendgroup": "AC_1",
         "marker": {
          "color": "#636efa",
          "symbol": "circle"
         },
         "mode": "markers",
         "name": "AC_1",
         "scene": "scene",
         "showlegend": true,
         "type": "scatter3d",
         "x": [
          -267.7767028808594,
          281.6571044921875,
          -64.02415466308594
         ],
         "y": [
          197.07037353515625,
          92.09767150878906,
          25.7496395111084
         ],
         "z": [
          -49.18876647949219,
          -94.76168060302734,
          -277.80206298828125
         ]
        },
        {
         "hovertemplate": "color=AC_2<br>x=%{x}<br>y=%{y}<br>z=%{z}<extra></extra>",
         "legendgroup": "AC_2",
         "marker": {
          "color": "#EF553B",
          "symbol": "circle"
         },
         "mode": "markers",
         "name": "AC_2",
         "scene": "scene",
         "showlegend": true,
         "type": "scatter3d",
         "x": [
          -211.35516357421875,
          128.63400268554688,
          -107.88095092773438
         ],
         "y": [
          19.158716201782227,
          273.5251770019531,
          -264.96624755859375
         ],
         "z": [
          203.3333282470703,
          -191.94573974609375,
          -176.8169708251953
         ]
        },
        {
         "hovertemplate": "color=AC_3<br>x=%{x}<br>y=%{y}<br>z=%{z}<extra></extra>",
         "legendgroup": "AC_3",
         "marker": {
          "color": "#00cc96",
          "symbol": "circle"
         },
         "mode": "markers",
         "name": "AC_3",
         "scene": "scene",
         "showlegend": true,
         "type": "scatter3d",
         "x": [
          278.4723205566406,
          248.403564453125,
          255.08822631835938
         ],
         "y": [
          93.31806945800781,
          23.950624465942383,
          166.34278869628906
         ],
         "z": [
          103.8292236328125,
          141.9844970703125,
          18.770687103271484
         ]
        },
        {
         "hovertemplate": "color=AC_4<br>x=%{x}<br>y=%{y}<br>z=%{z}<extra></extra>",
         "legendgroup": "AC_4",
         "marker": {
          "color": "#ab63fa",
          "symbol": "circle"
         },
         "mode": "markers",
         "name": "AC_4",
         "scene": "scene",
         "showlegend": true,
         "type": "scatter3d",
         "x": [
          -158.8589630126953,
          270.19158935546875,
          178.42501831054688
         ],
         "y": [
          -94.64716339111328,
          -135.49867248535156,
          -245.5954132080078
         ],
         "z": [
          -238.27285766601562,
          50.158782958984375,
          -173.78546142578125
         ]
        },
        {
         "hovertemplate": "color=AC_5<br>x=%{x}<br>y=%{y}<br>z=%{z}<extra></extra>",
         "legendgroup": "AC_5",
         "marker": {
          "color": "#FFA15A",
          "symbol": "circle"
         },
         "mode": "markers",
         "name": "AC_5",
         "scene": "scene",
         "showlegend": true,
         "type": "scatter3d",
         "x": [
          58.213871002197266,
          -324.8960266113281,
          345.0015563964844
         ],
         "y": [
          321.4105224609375,
          51.1725959777832,
          -3.952169895172119
         ],
         "z": [
          132.35147094726562,
          33.86785888671875,
          36.898101806640625
         ]
        },
        {
         "hovertemplate": "color=CR_1<br>x=%{x}<br>y=%{y}<br>z=%{z}<extra></extra>",
         "legendgroup": "CR_1",
         "marker": {
          "color": "#19d3f3",
          "symbol": "circle"
         },
         "mode": "markers",
         "name": "CR_1",
         "scene": "scene",
         "showlegend": true,
         "type": "scatter3d",
         "x": [
          -71.05583953857422,
          -41.20892333984375,
          7.2012038230896
         ],
         "y": [
          -173.4636688232422,
          308.1781005859375,
          126.81621551513672
         ],
         "z": [
          251.3422393798828,
          182.9049835205078,
          270.1337585449219
         ]
        },
        {
         "hovertemplate": "color=CR_2<br>x=%{x}<br>y=%{y}<br>z=%{z}<extra></extra>",
         "legendgroup": "CR_2",
         "marker": {
          "color": "#FF6692",
          "symbol": "circle"
         },
         "mode": "markers",
         "name": "CR_2",
         "scene": "scene",
         "showlegend": true,
         "type": "scatter3d",
         "x": [
          118.80418395996094,
          55.87531661987305,
          -46.21728515625
         ],
         "y": [
          119.60292053222656,
          4.336485862731934,
          -336.8464050292969
         ],
         "z": [
          16.487709045410156,
          19.639680862426758,
          40.983131408691406
         ]
        },
        {
         "hovertemplate": "color=CR_3<br>x=%{x}<br>y=%{y}<br>z=%{z}<extra></extra>",
         "legendgroup": "CR_3",
         "marker": {
          "color": "#B6E880",
          "symbol": "circle"
         },
         "mode": "markers",
         "name": "CR_3",
         "scene": "scene",
         "showlegend": true,
         "type": "scatter3d",
         "x": [
          -250.85501098632812,
          -220.04734802246094,
          63.00665283203125
         ],
         "y": [
          -93.41793060302734,
          -166.90087890625,
          167.24826049804688
         ],
         "z": [
          139.9846954345703,
          207.4704132080078,
          -263.7187805175781
         ]
        },
        {
         "hovertemplate": "color=CR_4<br>x=%{x}<br>y=%{y}<br>z=%{z}<extra></extra>",
         "legendgroup": "CR_4",
         "marker": {
          "color": "#FF97FF",
          "symbol": "circle"
         },
         "mode": "markers",
         "name": "CR_4",
         "scene": "scene",
         "showlegend": true,
         "type": "scatter3d",
         "x": [
          -246.08050537109375,
          -57.608272552490234,
          240.25120544433594
         ],
         "y": [
          -26.296443939208984,
          -111.55968475341797,
          -234.1242218017578
         ],
         "z": [
          -227.36512756347656,
          -297.6462097167969,
          155.55172729492188
         ]
        },
        {
         "hovertemplate": "color=CR_5<br>x=%{x}<br>y=%{y}<br>z=%{z}<extra></extra>",
         "legendgroup": "CR_5",
         "marker": {
          "color": "#FECB52",
          "symbol": "circle"
         },
         "mode": "markers",
         "name": "CR_5",
         "scene": "scene",
         "showlegend": true,
         "type": "scatter3d",
         "x": [
          -108.72734832763672,
          -161.8518524169922,
          -185.7632598876953
         ],
         "y": [
          182.429443359375,
          247.33645629882812,
          161.2478790283203
         ],
         "z": [
          152.36196899414062,
          112.84314727783203,
          119.12724304199219
         ]
        },
        {
         "hovertemplate": "color=CR_6<br>x=%{x}<br>y=%{y}<br>z=%{z}<extra></extra>",
         "legendgroup": "CR_6",
         "marker": {
          "color": "#636efa",
          "symbol": "circle"
         },
         "mode": "markers",
         "name": "CR_6",
         "scene": "scene",
         "showlegend": true,
         "type": "scatter3d",
         "x": [
          -146.22299194335938,
          168.9263458251953,
          79.07339477539062
         ],
         "y": [
          135.89828491210938,
          198.5336151123047,
          185.2780303955078
         ],
         "z": [
          -319.3979797363281,
          152.04945373535156,
          105.4454574584961
         ]
        },
        {
         "hovertemplate": "color=CR_7<br>x=%{x}<br>y=%{y}<br>z=%{z}<extra></extra>",
         "legendgroup": "CR_7",
         "marker": {
          "color": "#EF553B",
          "symbol": "circle"
         },
         "mode": "markers",
         "name": "CR_7",
         "scene": "scene",
         "showlegend": true,
         "type": "scatter3d",
         "x": [
          -13.61881160736084,
          -125.57792663574219,
          198.18063354492188
         ],
         "y": [
          -5.8157877922058105,
          68.34607696533203,
          32.98113250732422
         ],
         "z": [
          213.7694854736328,
          -190.6324005126953,
          -146.7798309326172
         ]
        },
        {
         "hovertemplate": "color=CR_8<br>x=%{x}<br>y=%{y}<br>z=%{z}<extra></extra>",
         "legendgroup": "CR_8",
         "marker": {
          "color": "#00cc96",
          "symbol": "circle"
         },
         "mode": "markers",
         "name": "CR_8",
         "scene": "scene",
         "showlegend": true,
         "type": "scatter3d",
         "x": [
          194.8603057861328,
          217.66146850585938,
          297.4961242675781
         ],
         "y": [
          -2.8968045711517334,
          72.64077758789062,
          41.797210693359375
         ],
         "z": [
          -288.5918884277344,
          -263.0772705078125,
          270.587890625
         ]
        },
        {
         "hovertemplate": "color=CR_9<br>x=%{x}<br>y=%{y}<br>z=%{z}<extra></extra>",
         "legendgroup": "CR_9",
         "marker": {
          "color": "#ab63fa",
          "symbol": "circle"
         },
         "mode": "markers",
         "name": "CR_9",
         "scene": "scene",
         "showlegend": true,
         "type": "scatter3d",
         "x": [
          -9.923398971557617,
          135.7995147705078,
          30.82693099975586
         ],
         "y": [
          101.75025939941406,
          -182.797119140625,
          198.05111694335938
         ],
         "z": [
          -160.60546875,
          90.84010314941406,
          206.96849060058594
         ]
        },
        {
         "hovertemplate": "color=CR_10<br>x=%{x}<br>y=%{y}<br>z=%{z}<extra></extra>",
         "legendgroup": "CR_10",
         "marker": {
          "color": "#FFA15A",
          "symbol": "circle"
         },
         "mode": "markers",
         "name": "CR_10",
         "scene": "scene",
         "showlegend": true,
         "type": "scatter3d",
         "x": [
          -158.02713012695312,
          158.84597778320312,
          82.2586669921875
         ],
         "y": [
          22.982330322265625,
          -89.01052856445312,
          -91.19113159179688
         ],
         "z": [
          -90.83523559570312,
          12.967336654663086,
          -4.7239603996276855
         ]
        },
        {
         "hovertemplate": "color=CR_11<br>x=%{x}<br>y=%{y}<br>z=%{z}<extra></extra>",
         "legendgroup": "CR_11",
         "marker": {
          "color": "#19d3f3",
          "symbol": "circle"
         },
         "mode": "markers",
         "name": "CR_11",
         "scene": "scene",
         "showlegend": true,
         "type": "scatter3d",
         "x": [
          -68.05049896240234,
          20.733341217041016,
          20.076454162597656
         ],
         "y": [
          190.96034240722656,
          -302.7845764160156,
          -192.45529174804688
         ],
         "z": [
          45.589942932128906,
          -114.46378326416016,
          -148.86854553222656
         ]
        },
        {
         "hovertemplate": "color=CR_12<br>x=%{x}<br>y=%{y}<br>z=%{z}<extra></extra>",
         "legendgroup": "CR_12",
         "marker": {
          "color": "#FF6692",
          "symbol": "circle"
         },
         "mode": "markers",
         "name": "CR_12",
         "scene": "scene",
         "showlegend": true,
         "type": "scatter3d",
         "x": [
          21.95953369140625,
          58.74296951293945,
          -90.85139465332031
         ],
         "y": [
          -191.484619140625,
          32.65085983276367,
          -23.02620506286621
         ],
         "z": [
          -37.88766098022461,
          -242.5785369873047,
          -1.2766022682189941
         ]
        },
        {
         "hovertemplate": "color=CR_13<br>x=%{x}<br>y=%{y}<br>z=%{z}<extra></extra>",
         "legendgroup": "CR_13",
         "marker": {
          "color": "#B6E880",
          "symbol": "circle"
         },
         "mode": "markers",
         "name": "CR_13",
         "scene": "scene",
         "showlegend": true,
         "type": "scatter3d",
         "x": [
          -246.75186157226562,
          -183.18115234375,
          33.05667495727539
         ],
         "y": [
          -167.5453338623047,
          -222.2210693359375,
          91.19419860839844
         ],
         "z": [
          87.52102661132812,
          98.30838012695312,
          150.1728057861328
         ]
        },
        {
         "hovertemplate": "color=CR_14<br>x=%{x}<br>y=%{y}<br>z=%{z}<extra></extra>",
         "legendgroup": "CR_14",
         "marker": {
          "color": "#FF97FF",
          "symbol": "circle"
         },
         "mode": "markers",
         "name": "CR_14",
         "scene": "scene",
         "showlegend": true,
         "type": "scatter3d",
         "x": [
          143.9663848876953,
          -151.42474365234375,
          -96.28289031982422
         ],
         "y": [
          -119.95723724365234,
          92.57113647460938,
          125.22454071044922
         ],
         "z": [
          220.07778930664062,
          -5.352695941925049,
          -76.31497955322266
         ]
        },
        {
         "hovertemplate": "color=CR_15<br>x=%{x}<br>y=%{y}<br>z=%{z}<extra></extra>",
         "legendgroup": "CR_15",
         "marker": {
          "color": "#FECB52",
          "symbol": "circle"
         },
         "mode": "markers",
         "name": "CR_15",
         "scene": "scene",
         "showlegend": true,
         "type": "scatter3d",
         "x": [
          -234.22293090820312,
          -274.7226867675781,
          -15.18604850769043
         ],
         "y": [
          -38.76500701904297,
          -104.10701751708984,
          -73.81336975097656
         ],
         "z": [
          12.307867050170898,
          -54.570579528808594,
          330.19122314453125
         ]
        },
        {
         "hovertemplate": "color=CR_16<br>x=%{x}<br>y=%{y}<br>z=%{z}<extra></extra>",
         "legendgroup": "CR_16",
         "marker": {
          "color": "#636efa",
          "symbol": "circle"
         },
         "mode": "markers",
         "name": "CR_16",
         "scene": "scene",
         "showlegend": true,
         "type": "scatter3d",
         "x": [
          -127.43743896484375,
          -202.94503784179688,
          -62.59086227416992
         ],
         "y": [
          168.78518676757812,
          176.45042419433594,
          -275.2704162597656
         ],
         "z": [
          286.8332214355469,
          253.94154357910156,
          181.9115447998047
         ]
        },
        {
         "hovertemplate": "color=CR_17<br>x=%{x}<br>y=%{y}<br>z=%{z}<extra></extra>",
         "legendgroup": "CR_17",
         "marker": {
          "color": "#EF553B",
          "symbol": "circle"
         },
         "mode": "markers",
         "name": "CR_17",
         "scene": "scene",
         "showlegend": true,
         "type": "scatter3d",
         "x": [
          162.1155242919922,
          73.9780044555664,
          23.76217269897461
         ],
         "y": [
          -73.21936798095703,
          -60.892696380615234,
          -101.0062484741211
         ],
         "z": [
          124.40760040283203,
          135.79393005371094,
          -110.52884674072266
         ]
        },
        {
         "hovertemplate": "color=CR_18<br>x=%{x}<br>y=%{y}<br>z=%{z}<extra></extra>",
         "legendgroup": "CR_18",
         "marker": {
          "color": "#00cc96",
          "symbol": "circle"
         },
         "mode": "markers",
         "name": "CR_18",
         "scene": "scene",
         "showlegend": true,
         "type": "scatter3d",
         "x": [
          -97.99620819091797,
          13.68252944946289,
          -30.35977554321289
         ],
         "y": [
          -71.91438293457031,
          -222.8147430419922,
          -59.657894134521484
         ],
         "z": [
          176.00148010253906,
          101.66326904296875,
          110.15828704833984
         ]
        },
        {
         "hovertemplate": "color=CR_19<br>x=%{x}<br>y=%{y}<br>z=%{z}<extra></extra>",
         "legendgroup": "CR_19",
         "marker": {
          "color": "#ab63fa",
          "symbol": "circle"
         },
         "mode": "markers",
         "name": "CR_19",
         "scene": "scene",
         "showlegend": true,
         "type": "scatter3d",
         "x": [
          -156.01425170898438,
          66.95169067382812,
          49.404544830322266
         ],
         "y": [
          -54.273006439208984,
          -86.16117095947266,
          -170.17918395996094
         ],
         "z": [
          -337.75457763671875,
          -306.981201171875,
          202.60565185546875
         ]
        },
        {
         "hovertemplate": "color=CR_20<br>x=%{x}<br>y=%{y}<br>z=%{z}<extra></extra>",
         "legendgroup": "CR_20",
         "marker": {
          "color": "#FFA15A",
          "symbol": "circle"
         },
         "mode": "markers",
         "name": "CR_20",
         "scene": "scene",
         "showlegend": true,
         "type": "scatter3d",
         "x": [
          33.85024642944336,
          -254.59768676757812,
          -134.23439025878906
         ],
         "y": [
          -218.26544189453125,
          94.83662414550781,
          15.793121337890625
         ],
         "z": [
          -274.78057861328125,
          -169.1476593017578,
          286.3904724121094
         ]
        },
        {
         "hovertemplate": "color=GH_1<br>x=%{x}<br>y=%{y}<br>z=%{z}<extra></extra>",
         "legendgroup": "GH_1",
         "marker": {
          "color": "#19d3f3",
          "symbol": "circle"
         },
         "mode": "markers",
         "name": "GH_1",
         "scene": "scene",
         "showlegend": true,
         "type": "scatter3d",
         "x": [
          111.48634338378906,
          -46.267051696777344,
          -133.02671813964844
         ],
         "y": [
          -277.0999755859375,
          -151.07257080078125,
          -85.53994750976562
         ],
         "z": [
          17.42519760131836,
          60.69426345825195,
          79.47582244873047
         ]
        },
        {
         "hovertemplate": "color=GH_2<br>x=%{x}<br>y=%{y}<br>z=%{z}<extra></extra>",
         "legendgroup": "GH_2",
         "marker": {
          "color": "#FF6692",
          "symbol": "circle"
         },
         "mode": "markers",
         "name": "GH_2",
         "scene": "scene",
         "showlegend": true,
         "type": "scatter3d",
         "x": [
          32.497493743896484,
          205.39508056640625,
          111.62369537353516
         ],
         "y": [
          175.5349884033203,
          -3.9025564193725586,
          58.45921325683594
         ],
         "z": [
          14.490589141845703,
          -32.97869110107422,
          -59.29212188720703
         ]
        },
        {
         "hovertemplate": "color=GH_3<br>x=%{x}<br>y=%{y}<br>z=%{z}<extra></extra>",
         "legendgroup": "GH_3",
         "marker": {
          "color": "#B6E880",
          "symbol": "circle"
         },
         "mode": "markers",
         "name": "GH_3",
         "scene": "scene",
         "showlegend": true,
         "type": "scatter3d",
         "x": [
          6.729640960693359,
          7.285529613494873,
          271.6684265136719
         ],
         "y": [
          81.62071228027344,
          305.5008239746094,
          -205.1974334716797
         ],
         "z": [
          38.60773468017578,
          -32.2580451965332,
          -68.80595397949219
         ]
        },
        {
         "hovertemplate": "color=GH_4<br>x=%{x}<br>y=%{y}<br>z=%{z}<extra></extra>",
         "legendgroup": "GH_4",
         "marker": {
          "color": "#FF97FF",
          "symbol": "circle"
         },
         "mode": "markers",
         "name": "GH_4",
         "scene": "scene",
         "showlegend": true,
         "type": "scatter3d",
         "x": [
          -144.7758331298828,
          168.64552307128906,
          -102.29446411132812
         ],
         "y": [
          -149.14120483398438,
          266.2682800292969,
          236.0553436279297
         ],
         "z": [
          -27.67251205444336,
          -14.163369178771973,
          -184.09732055664062
         ]
        },
        {
         "hovertemplate": "color=GH_5<br>x=%{x}<br>y=%{y}<br>z=%{z}<extra></extra>",
         "legendgroup": "GH_5",
         "marker": {
          "color": "#FECB52",
          "symbol": "circle"
         },
         "mode": "markers",
         "name": "GH_5",
         "scene": "scene",
         "showlegend": true,
         "type": "scatter3d",
         "x": [
          129.03848266601562,
          -91.064697265625,
          279.0145263671875
         ],
         "y": [
          -19.26765251159668,
          -139.72474670410156,
          -89.54141998291016
         ],
         "z": [
          305.4967346191406,
          -146.66477966308594,
          -110.0585708618164
         ]
        },
        {
         "hovertemplate": "color=GH_6<br>x=%{x}<br>y=%{y}<br>z=%{z}<extra></extra>",
         "legendgroup": "GH_6",
         "marker": {
          "color": "#636efa",
          "symbol": "circle"
         },
         "mode": "markers",
         "name": "GH_6",
         "scene": "scene",
         "showlegend": true,
         "type": "scatter3d",
         "x": [
          65.38691711425781,
          95.32937622070312,
          119.59676361083984
         ],
         "y": [
          215.7121124267578,
          -20.779754638671875,
          149.73040771484375
         ],
         "z": [
          -91.10639953613281,
          -153.07139587402344,
          -126.74820709228516
         ]
        },
        {
         "hovertemplate": "color=GH_7<br>x=%{x}<br>y=%{y}<br>z=%{z}<extra></extra>",
         "legendgroup": "GH_7",
         "marker": {
          "color": "#EF553B",
          "symbol": "circle"
         },
         "mode": "markers",
         "name": "GH_7",
         "scene": "scene",
         "showlegend": true,
         "type": "scatter3d",
         "x": [
          136.74325561523438,
          137.68829345703125,
          139.5513916015625
         ],
         "y": [
          40.66340255737305,
          -95.28889465332031,
          -143.61962890625
         ],
         "z": [
          82.22428894042969,
          -188.79417419433594,
          -88.14347839355469
         ]
        },
        {
         "hovertemplate": "color=GH_8<br>x=%{x}<br>y=%{y}<br>z=%{z}<extra></extra>",
         "legendgroup": "GH_8",
         "marker": {
          "color": "#00cc96",
          "symbol": "circle"
         },
         "mode": "markers",
         "name": "GH_8",
         "scene": "scene",
         "showlegend": true,
         "type": "scatter3d",
         "x": [
          -149.15621948242188,
          -51.365386962890625,
          -213.77354431152344
         ],
         "y": [
          266.9938659667969,
          -57.36844253540039,
          -68.21730041503906
         ],
         "z": [
          -22.92186737060547,
          -177.4250030517578,
          -102.86190795898438
         ]
        },
        {
         "hovertemplate": "color=GH_9<br>x=%{x}<br>y=%{y}<br>z=%{z}<extra></extra>",
         "legendgroup": "GH_9",
         "marker": {
          "color": "#ab63fa",
          "symbol": "circle"
         },
         "mode": "markers",
         "name": "GH_9",
         "scene": "scene",
         "showlegend": true,
         "type": "scatter3d",
         "x": [
          -14.711926460266113,
          2.4423422813415527,
          -101.5236587524414
         ],
         "y": [
          -77.9431381225586,
          109.64080047607422,
          55.952510833740234
         ],
         "z": [
          -15.051018714904785,
          -57.46155548095703,
          81.61627960205078
         ]
        },
        {
         "hovertemplate": "color=GH_10<br>x=%{x}<br>y=%{y}<br>z=%{z}<extra></extra>",
         "legendgroup": "GH_10",
         "marker": {
          "color": "#FFA15A",
          "symbol": "circle"
         },
         "mode": "markers",
         "name": "GH_10",
         "scene": "scene",
         "showlegend": true,
         "type": "scatter3d",
         "x": [
          -104.6999740600586,
          -27.989809036254883,
          134.4615020751953
         ],
         "y": [
          -256.4136047363281,
          17.37356948852539,
          78.6506576538086
         ],
         "z": [
          -43.90374755859375,
          -85.2522201538086,
          219.78623962402344
         ]
        }
       ],
       "layout": {
        "legend": {
         "title": {
          "text": "color"
         },
         "tracegroupgap": 0
        },
        "margin": {
         "t": 60
        },
        "scene": {
         "domain": {
          "x": [
           0,
           1
          ],
          "y": [
           0,
           1
          ]
         },
         "xaxis": {
          "title": {
           "text": "x"
          }
         },
         "yaxis": {
          "title": {
           "text": "y"
          }
         },
         "zaxis": {
          "title": {
           "text": "z"
          }
         }
        },
        "template": {
         "data": {
          "bar": [
           {
            "error_x": {
             "color": "#2a3f5f"
            },
            "error_y": {
             "color": "#2a3f5f"
            },
            "marker": {
             "line": {
              "color": "#E5ECF6",
              "width": 0.5
             }
            },
            "type": "bar"
           }
          ],
          "barpolar": [
           {
            "marker": {
             "line": {
              "color": "#E5ECF6",
              "width": 0.5
             }
            },
            "type": "barpolar"
           }
          ],
          "carpet": [
           {
            "aaxis": {
             "endlinecolor": "#2a3f5f",
             "gridcolor": "white",
             "linecolor": "white",
             "minorgridcolor": "white",
             "startlinecolor": "#2a3f5f"
            },
            "baxis": {
             "endlinecolor": "#2a3f5f",
             "gridcolor": "white",
             "linecolor": "white",
             "minorgridcolor": "white",
             "startlinecolor": "#2a3f5f"
            },
            "type": "carpet"
           }
          ],
          "choropleth": [
           {
            "colorbar": {
             "outlinewidth": 0,
             "ticks": ""
            },
            "type": "choropleth"
           }
          ],
          "contour": [
           {
            "colorbar": {
             "outlinewidth": 0,
             "ticks": ""
            },
            "colorscale": [
             [
              0,
              "#0d0887"
             ],
             [
              0.1111111111111111,
              "#46039f"
             ],
             [
              0.2222222222222222,
              "#7201a8"
             ],
             [
              0.3333333333333333,
              "#9c179e"
             ],
             [
              0.4444444444444444,
              "#bd3786"
             ],
             [
              0.5555555555555556,
              "#d8576b"
             ],
             [
              0.6666666666666666,
              "#ed7953"
             ],
             [
              0.7777777777777778,
              "#fb9f3a"
             ],
             [
              0.8888888888888888,
              "#fdca26"
             ],
             [
              1,
              "#f0f921"
             ]
            ],
            "type": "contour"
           }
          ],
          "contourcarpet": [
           {
            "colorbar": {
             "outlinewidth": 0,
             "ticks": ""
            },
            "type": "contourcarpet"
           }
          ],
          "heatmap": [
           {
            "colorbar": {
             "outlinewidth": 0,
             "ticks": ""
            },
            "colorscale": [
             [
              0,
              "#0d0887"
             ],
             [
              0.1111111111111111,
              "#46039f"
             ],
             [
              0.2222222222222222,
              "#7201a8"
             ],
             [
              0.3333333333333333,
              "#9c179e"
             ],
             [
              0.4444444444444444,
              "#bd3786"
             ],
             [
              0.5555555555555556,
              "#d8576b"
             ],
             [
              0.6666666666666666,
              "#ed7953"
             ],
             [
              0.7777777777777778,
              "#fb9f3a"
             ],
             [
              0.8888888888888888,
              "#fdca26"
             ],
             [
              1,
              "#f0f921"
             ]
            ],
            "type": "heatmap"
           }
          ],
          "heatmapgl": [
           {
            "colorbar": {
             "outlinewidth": 0,
             "ticks": ""
            },
            "colorscale": [
             [
              0,
              "#0d0887"
             ],
             [
              0.1111111111111111,
              "#46039f"
             ],
             [
              0.2222222222222222,
              "#7201a8"
             ],
             [
              0.3333333333333333,
              "#9c179e"
             ],
             [
              0.4444444444444444,
              "#bd3786"
             ],
             [
              0.5555555555555556,
              "#d8576b"
             ],
             [
              0.6666666666666666,
              "#ed7953"
             ],
             [
              0.7777777777777778,
              "#fb9f3a"
             ],
             [
              0.8888888888888888,
              "#fdca26"
             ],
             [
              1,
              "#f0f921"
             ]
            ],
            "type": "heatmapgl"
           }
          ],
          "histogram": [
           {
            "marker": {
             "colorbar": {
              "outlinewidth": 0,
              "ticks": ""
             }
            },
            "type": "histogram"
           }
          ],
          "histogram2d": [
           {
            "colorbar": {
             "outlinewidth": 0,
             "ticks": ""
            },
            "colorscale": [
             [
              0,
              "#0d0887"
             ],
             [
              0.1111111111111111,
              "#46039f"
             ],
             [
              0.2222222222222222,
              "#7201a8"
             ],
             [
              0.3333333333333333,
              "#9c179e"
             ],
             [
              0.4444444444444444,
              "#bd3786"
             ],
             [
              0.5555555555555556,
              "#d8576b"
             ],
             [
              0.6666666666666666,
              "#ed7953"
             ],
             [
              0.7777777777777778,
              "#fb9f3a"
             ],
             [
              0.8888888888888888,
              "#fdca26"
             ],
             [
              1,
              "#f0f921"
             ]
            ],
            "type": "histogram2d"
           }
          ],
          "histogram2dcontour": [
           {
            "colorbar": {
             "outlinewidth": 0,
             "ticks": ""
            },
            "colorscale": [
             [
              0,
              "#0d0887"
             ],
             [
              0.1111111111111111,
              "#46039f"
             ],
             [
              0.2222222222222222,
              "#7201a8"
             ],
             [
              0.3333333333333333,
              "#9c179e"
             ],
             [
              0.4444444444444444,
              "#bd3786"
             ],
             [
              0.5555555555555556,
              "#d8576b"
             ],
             [
              0.6666666666666666,
              "#ed7953"
             ],
             [
              0.7777777777777778,
              "#fb9f3a"
             ],
             [
              0.8888888888888888,
              "#fdca26"
             ],
             [
              1,
              "#f0f921"
             ]
            ],
            "type": "histogram2dcontour"
           }
          ],
          "mesh3d": [
           {
            "colorbar": {
             "outlinewidth": 0,
             "ticks": ""
            },
            "type": "mesh3d"
           }
          ],
          "parcoords": [
           {
            "line": {
             "colorbar": {
              "outlinewidth": 0,
              "ticks": ""
             }
            },
            "type": "parcoords"
           }
          ],
          "pie": [
           {
            "automargin": true,
            "type": "pie"
           }
          ],
          "scatter": [
           {
            "marker": {
             "colorbar": {
              "outlinewidth": 0,
              "ticks": ""
             }
            },
            "type": "scatter"
           }
          ],
          "scatter3d": [
           {
            "line": {
             "colorbar": {
              "outlinewidth": 0,
              "ticks": ""
             }
            },
            "marker": {
             "colorbar": {
              "outlinewidth": 0,
              "ticks": ""
             }
            },
            "type": "scatter3d"
           }
          ],
          "scattercarpet": [
           {
            "marker": {
             "colorbar": {
              "outlinewidth": 0,
              "ticks": ""
             }
            },
            "type": "scattercarpet"
           }
          ],
          "scattergeo": [
           {
            "marker": {
             "colorbar": {
              "outlinewidth": 0,
              "ticks": ""
             }
            },
            "type": "scattergeo"
           }
          ],
          "scattergl": [
           {
            "marker": {
             "colorbar": {
              "outlinewidth": 0,
              "ticks": ""
             }
            },
            "type": "scattergl"
           }
          ],
          "scattermapbox": [
           {
            "marker": {
             "colorbar": {
              "outlinewidth": 0,
              "ticks": ""
             }
            },
            "type": "scattermapbox"
           }
          ],
          "scatterpolar": [
           {
            "marker": {
             "colorbar": {
              "outlinewidth": 0,
              "ticks": ""
             }
            },
            "type": "scatterpolar"
           }
          ],
          "scatterpolargl": [
           {
            "marker": {
             "colorbar": {
              "outlinewidth": 0,
              "ticks": ""
             }
            },
            "type": "scatterpolargl"
           }
          ],
          "scatterternary": [
           {
            "marker": {
             "colorbar": {
              "outlinewidth": 0,
              "ticks": ""
             }
            },
            "type": "scatterternary"
           }
          ],
          "surface": [
           {
            "colorbar": {
             "outlinewidth": 0,
             "ticks": ""
            },
            "colorscale": [
             [
              0,
              "#0d0887"
             ],
             [
              0.1111111111111111,
              "#46039f"
             ],
             [
              0.2222222222222222,
              "#7201a8"
             ],
             [
              0.3333333333333333,
              "#9c179e"
             ],
             [
              0.4444444444444444,
              "#bd3786"
             ],
             [
              0.5555555555555556,
              "#d8576b"
             ],
             [
              0.6666666666666666,
              "#ed7953"
             ],
             [
              0.7777777777777778,
              "#fb9f3a"
             ],
             [
              0.8888888888888888,
              "#fdca26"
             ],
             [
              1,
              "#f0f921"
             ]
            ],
            "type": "surface"
           }
          ],
          "table": [
           {
            "cells": {
             "fill": {
              "color": "#EBF0F8"
             },
             "line": {
              "color": "white"
             }
            },
            "header": {
             "fill": {
              "color": "#C8D4E3"
             },
             "line": {
              "color": "white"
             }
            },
            "type": "table"
           }
          ]
         },
         "layout": {
          "annotationdefaults": {
           "arrowcolor": "#2a3f5f",
           "arrowhead": 0,
           "arrowwidth": 1
          },
          "autotypenumbers": "strict",
          "coloraxis": {
           "colorbar": {
            "outlinewidth": 0,
            "ticks": ""
           }
          },
          "colorscale": {
           "diverging": [
            [
             0,
             "#8e0152"
            ],
            [
             0.1,
             "#c51b7d"
            ],
            [
             0.2,
             "#de77ae"
            ],
            [
             0.3,
             "#f1b6da"
            ],
            [
             0.4,
             "#fde0ef"
            ],
            [
             0.5,
             "#f7f7f7"
            ],
            [
             0.6,
             "#e6f5d0"
            ],
            [
             0.7,
             "#b8e186"
            ],
            [
             0.8,
             "#7fbc41"
            ],
            [
             0.9,
             "#4d9221"
            ],
            [
             1,
             "#276419"
            ]
           ],
           "sequential": [
            [
             0,
             "#0d0887"
            ],
            [
             0.1111111111111111,
             "#46039f"
            ],
            [
             0.2222222222222222,
             "#7201a8"
            ],
            [
             0.3333333333333333,
             "#9c179e"
            ],
            [
             0.4444444444444444,
             "#bd3786"
            ],
            [
             0.5555555555555556,
             "#d8576b"
            ],
            [
             0.6666666666666666,
             "#ed7953"
            ],
            [
             0.7777777777777778,
             "#fb9f3a"
            ],
            [
             0.8888888888888888,
             "#fdca26"
            ],
            [
             1,
             "#f0f921"
            ]
           ],
           "sequentialminus": [
            [
             0,
             "#0d0887"
            ],
            [
             0.1111111111111111,
             "#46039f"
            ],
            [
             0.2222222222222222,
             "#7201a8"
            ],
            [
             0.3333333333333333,
             "#9c179e"
            ],
            [
             0.4444444444444444,
             "#bd3786"
            ],
            [
             0.5555555555555556,
             "#d8576b"
            ],
            [
             0.6666666666666666,
             "#ed7953"
            ],
            [
             0.7777777777777778,
             "#fb9f3a"
            ],
            [
             0.8888888888888888,
             "#fdca26"
            ],
            [
             1,
             "#f0f921"
            ]
           ]
          },
          "colorway": [
           "#636efa",
           "#EF553B",
           "#00cc96",
           "#ab63fa",
           "#FFA15A",
           "#19d3f3",
           "#FF6692",
           "#B6E880",
           "#FF97FF",
           "#FECB52"
          ],
          "font": {
           "color": "#2a3f5f"
          },
          "geo": {
           "bgcolor": "white",
           "lakecolor": "white",
           "landcolor": "#E5ECF6",
           "showlakes": true,
           "showland": true,
           "subunitcolor": "white"
          },
          "hoverlabel": {
           "align": "left"
          },
          "hovermode": "closest",
          "mapbox": {
           "style": "light"
          },
          "paper_bgcolor": "white",
          "plot_bgcolor": "#E5ECF6",
          "polar": {
           "angularaxis": {
            "gridcolor": "white",
            "linecolor": "white",
            "ticks": ""
           },
           "bgcolor": "#E5ECF6",
           "radialaxis": {
            "gridcolor": "white",
            "linecolor": "white",
            "ticks": ""
           }
          },
          "scene": {
           "xaxis": {
            "backgroundcolor": "#E5ECF6",
            "gridcolor": "white",
            "gridwidth": 2,
            "linecolor": "white",
            "showbackground": true,
            "ticks": "",
            "zerolinecolor": "white"
           },
           "yaxis": {
            "backgroundcolor": "#E5ECF6",
            "gridcolor": "white",
            "gridwidth": 2,
            "linecolor": "white",
            "showbackground": true,
            "ticks": "",
            "zerolinecolor": "white"
           },
           "zaxis": {
            "backgroundcolor": "#E5ECF6",
            "gridcolor": "white",
            "gridwidth": 2,
            "linecolor": "white",
            "showbackground": true,
            "ticks": "",
            "zerolinecolor": "white"
           }
          },
          "shapedefaults": {
           "line": {
            "color": "#2a3f5f"
           }
          },
          "ternary": {
           "aaxis": {
            "gridcolor": "white",
            "linecolor": "white",
            "ticks": ""
           },
           "baxis": {
            "gridcolor": "white",
            "linecolor": "white",
            "ticks": ""
           },
           "bgcolor": "#E5ECF6",
           "caxis": {
            "gridcolor": "white",
            "linecolor": "white",
            "ticks": ""
           }
          },
          "title": {
           "x": 0.05
          },
          "xaxis": {
           "automargin": true,
           "gridcolor": "white",
           "linecolor": "white",
           "ticks": "",
           "title": {
            "standoff": 15
           },
           "zerolinecolor": "white",
           "zerolinewidth": 2
          },
          "yaxis": {
           "automargin": true,
           "gridcolor": "white",
           "linecolor": "white",
           "ticks": "",
           "title": {
            "standoff": 15
           },
           "zerolinecolor": "white",
           "zerolinewidth": 2
          }
         }
        }
       }
      },
      "text/html": [
       "<div>                            <div id=\"37fc4442-0dc4-4e51-8a3a-6e91cc002e6d\" class=\"plotly-graph-div\" style=\"height:525px; width:100%;\"></div>            <script type=\"text/javascript\">                require([\"plotly\"], function(Plotly) {                    window.PLOTLYENV=window.PLOTLYENV || {};                                    if (document.getElementById(\"37fc4442-0dc4-4e51-8a3a-6e91cc002e6d\")) {                    Plotly.newPlot(                        \"37fc4442-0dc4-4e51-8a3a-6e91cc002e6d\",                        [{\"hovertemplate\": \"color=AC_1<br>x=%{x}<br>y=%{y}<br>z=%{z}<extra></extra>\", \"legendgroup\": \"AC_1\", \"marker\": {\"color\": \"#636efa\", \"symbol\": \"circle\"}, \"mode\": \"markers\", \"name\": \"AC_1\", \"scene\": \"scene\", \"showlegend\": true, \"type\": \"scatter3d\", \"x\": [-267.7767028808594, 281.6571044921875, -64.02415466308594], \"y\": [197.07037353515625, 92.09767150878906, 25.7496395111084], \"z\": [-49.18876647949219, -94.76168060302734, -277.80206298828125]}, {\"hovertemplate\": \"color=AC_2<br>x=%{x}<br>y=%{y}<br>z=%{z}<extra></extra>\", \"legendgroup\": \"AC_2\", \"marker\": {\"color\": \"#EF553B\", \"symbol\": \"circle\"}, \"mode\": \"markers\", \"name\": \"AC_2\", \"scene\": \"scene\", \"showlegend\": true, \"type\": \"scatter3d\", \"x\": [-211.35516357421875, 128.63400268554688, -107.88095092773438], \"y\": [19.158716201782227, 273.5251770019531, -264.96624755859375], \"z\": [203.3333282470703, -191.94573974609375, -176.8169708251953]}, {\"hovertemplate\": \"color=AC_3<br>x=%{x}<br>y=%{y}<br>z=%{z}<extra></extra>\", \"legendgroup\": \"AC_3\", \"marker\": {\"color\": \"#00cc96\", \"symbol\": \"circle\"}, \"mode\": \"markers\", \"name\": \"AC_3\", \"scene\": \"scene\", \"showlegend\": true, \"type\": \"scatter3d\", \"x\": [278.4723205566406, 248.403564453125, 255.08822631835938], \"y\": [93.31806945800781, 23.950624465942383, 166.34278869628906], \"z\": [103.8292236328125, 141.9844970703125, 18.770687103271484]}, {\"hovertemplate\": \"color=AC_4<br>x=%{x}<br>y=%{y}<br>z=%{z}<extra></extra>\", \"legendgroup\": \"AC_4\", \"marker\": {\"color\": \"#ab63fa\", \"symbol\": \"circle\"}, \"mode\": \"markers\", \"name\": \"AC_4\", \"scene\": \"scene\", \"showlegend\": true, \"type\": \"scatter3d\", \"x\": [-158.8589630126953, 270.19158935546875, 178.42501831054688], \"y\": [-94.64716339111328, -135.49867248535156, -245.5954132080078], \"z\": [-238.27285766601562, 50.158782958984375, -173.78546142578125]}, {\"hovertemplate\": \"color=AC_5<br>x=%{x}<br>y=%{y}<br>z=%{z}<extra></extra>\", \"legendgroup\": \"AC_5\", \"marker\": {\"color\": \"#FFA15A\", \"symbol\": \"circle\"}, \"mode\": \"markers\", \"name\": \"AC_5\", \"scene\": \"scene\", \"showlegend\": true, \"type\": \"scatter3d\", \"x\": [58.213871002197266, -324.8960266113281, 345.0015563964844], \"y\": [321.4105224609375, 51.1725959777832, -3.952169895172119], \"z\": [132.35147094726562, 33.86785888671875, 36.898101806640625]}, {\"hovertemplate\": \"color=CR_1<br>x=%{x}<br>y=%{y}<br>z=%{z}<extra></extra>\", \"legendgroup\": \"CR_1\", \"marker\": {\"color\": \"#19d3f3\", \"symbol\": \"circle\"}, \"mode\": \"markers\", \"name\": \"CR_1\", \"scene\": \"scene\", \"showlegend\": true, \"type\": \"scatter3d\", \"x\": [-71.05583953857422, -41.20892333984375, 7.2012038230896], \"y\": [-173.4636688232422, 308.1781005859375, 126.81621551513672], \"z\": [251.3422393798828, 182.9049835205078, 270.1337585449219]}, {\"hovertemplate\": \"color=CR_2<br>x=%{x}<br>y=%{y}<br>z=%{z}<extra></extra>\", \"legendgroup\": \"CR_2\", \"marker\": {\"color\": \"#FF6692\", \"symbol\": \"circle\"}, \"mode\": \"markers\", \"name\": \"CR_2\", \"scene\": \"scene\", \"showlegend\": true, \"type\": \"scatter3d\", \"x\": [118.80418395996094, 55.87531661987305, -46.21728515625], \"y\": [119.60292053222656, 4.336485862731934, -336.8464050292969], \"z\": [16.487709045410156, 19.639680862426758, 40.983131408691406]}, {\"hovertemplate\": \"color=CR_3<br>x=%{x}<br>y=%{y}<br>z=%{z}<extra></extra>\", \"legendgroup\": \"CR_3\", \"marker\": {\"color\": \"#B6E880\", \"symbol\": \"circle\"}, \"mode\": \"markers\", \"name\": \"CR_3\", \"scene\": \"scene\", \"showlegend\": true, \"type\": \"scatter3d\", \"x\": [-250.85501098632812, -220.04734802246094, 63.00665283203125], \"y\": [-93.41793060302734, -166.90087890625, 167.24826049804688], \"z\": [139.9846954345703, 207.4704132080078, -263.7187805175781]}, {\"hovertemplate\": \"color=CR_4<br>x=%{x}<br>y=%{y}<br>z=%{z}<extra></extra>\", \"legendgroup\": \"CR_4\", \"marker\": {\"color\": \"#FF97FF\", \"symbol\": \"circle\"}, \"mode\": \"markers\", \"name\": \"CR_4\", \"scene\": \"scene\", \"showlegend\": true, \"type\": \"scatter3d\", \"x\": [-246.08050537109375, -57.608272552490234, 240.25120544433594], \"y\": [-26.296443939208984, -111.55968475341797, -234.1242218017578], \"z\": [-227.36512756347656, -297.6462097167969, 155.55172729492188]}, {\"hovertemplate\": \"color=CR_5<br>x=%{x}<br>y=%{y}<br>z=%{z}<extra></extra>\", \"legendgroup\": \"CR_5\", \"marker\": {\"color\": \"#FECB52\", \"symbol\": \"circle\"}, \"mode\": \"markers\", \"name\": \"CR_5\", \"scene\": \"scene\", \"showlegend\": true, \"type\": \"scatter3d\", \"x\": [-108.72734832763672, -161.8518524169922, -185.7632598876953], \"y\": [182.429443359375, 247.33645629882812, 161.2478790283203], \"z\": [152.36196899414062, 112.84314727783203, 119.12724304199219]}, {\"hovertemplate\": \"color=CR_6<br>x=%{x}<br>y=%{y}<br>z=%{z}<extra></extra>\", \"legendgroup\": \"CR_6\", \"marker\": {\"color\": \"#636efa\", \"symbol\": \"circle\"}, \"mode\": \"markers\", \"name\": \"CR_6\", \"scene\": \"scene\", \"showlegend\": true, \"type\": \"scatter3d\", \"x\": [-146.22299194335938, 168.9263458251953, 79.07339477539062], \"y\": [135.89828491210938, 198.5336151123047, 185.2780303955078], \"z\": [-319.3979797363281, 152.04945373535156, 105.4454574584961]}, {\"hovertemplate\": \"color=CR_7<br>x=%{x}<br>y=%{y}<br>z=%{z}<extra></extra>\", \"legendgroup\": \"CR_7\", \"marker\": {\"color\": \"#EF553B\", \"symbol\": \"circle\"}, \"mode\": \"markers\", \"name\": \"CR_7\", \"scene\": \"scene\", \"showlegend\": true, \"type\": \"scatter3d\", \"x\": [-13.61881160736084, -125.57792663574219, 198.18063354492188], \"y\": [-5.8157877922058105, 68.34607696533203, 32.98113250732422], \"z\": [213.7694854736328, -190.6324005126953, -146.7798309326172]}, {\"hovertemplate\": \"color=CR_8<br>x=%{x}<br>y=%{y}<br>z=%{z}<extra></extra>\", \"legendgroup\": \"CR_8\", \"marker\": {\"color\": \"#00cc96\", \"symbol\": \"circle\"}, \"mode\": \"markers\", \"name\": \"CR_8\", \"scene\": \"scene\", \"showlegend\": true, \"type\": \"scatter3d\", \"x\": [194.8603057861328, 217.66146850585938, 297.4961242675781], \"y\": [-2.8968045711517334, 72.64077758789062, 41.797210693359375], \"z\": [-288.5918884277344, -263.0772705078125, 270.587890625]}, {\"hovertemplate\": \"color=CR_9<br>x=%{x}<br>y=%{y}<br>z=%{z}<extra></extra>\", \"legendgroup\": \"CR_9\", \"marker\": {\"color\": \"#ab63fa\", \"symbol\": \"circle\"}, \"mode\": \"markers\", \"name\": \"CR_9\", \"scene\": \"scene\", \"showlegend\": true, \"type\": \"scatter3d\", \"x\": [-9.923398971557617, 135.7995147705078, 30.82693099975586], \"y\": [101.75025939941406, -182.797119140625, 198.05111694335938], \"z\": [-160.60546875, 90.84010314941406, 206.96849060058594]}, {\"hovertemplate\": \"color=CR_10<br>x=%{x}<br>y=%{y}<br>z=%{z}<extra></extra>\", \"legendgroup\": \"CR_10\", \"marker\": {\"color\": \"#FFA15A\", \"symbol\": \"circle\"}, \"mode\": \"markers\", \"name\": \"CR_10\", \"scene\": \"scene\", \"showlegend\": true, \"type\": \"scatter3d\", \"x\": [-158.02713012695312, 158.84597778320312, 82.2586669921875], \"y\": [22.982330322265625, -89.01052856445312, -91.19113159179688], \"z\": [-90.83523559570312, 12.967336654663086, -4.7239603996276855]}, {\"hovertemplate\": \"color=CR_11<br>x=%{x}<br>y=%{y}<br>z=%{z}<extra></extra>\", \"legendgroup\": \"CR_11\", \"marker\": {\"color\": \"#19d3f3\", \"symbol\": \"circle\"}, \"mode\": \"markers\", \"name\": \"CR_11\", \"scene\": \"scene\", \"showlegend\": true, \"type\": \"scatter3d\", \"x\": [-68.05049896240234, 20.733341217041016, 20.076454162597656], \"y\": [190.96034240722656, -302.7845764160156, -192.45529174804688], \"z\": [45.589942932128906, -114.46378326416016, -148.86854553222656]}, {\"hovertemplate\": \"color=CR_12<br>x=%{x}<br>y=%{y}<br>z=%{z}<extra></extra>\", \"legendgroup\": \"CR_12\", \"marker\": {\"color\": \"#FF6692\", \"symbol\": \"circle\"}, \"mode\": \"markers\", \"name\": \"CR_12\", \"scene\": \"scene\", \"showlegend\": true, \"type\": \"scatter3d\", \"x\": [21.95953369140625, 58.74296951293945, -90.85139465332031], \"y\": [-191.484619140625, 32.65085983276367, -23.02620506286621], \"z\": [-37.88766098022461, -242.5785369873047, -1.2766022682189941]}, {\"hovertemplate\": \"color=CR_13<br>x=%{x}<br>y=%{y}<br>z=%{z}<extra></extra>\", \"legendgroup\": \"CR_13\", \"marker\": {\"color\": \"#B6E880\", \"symbol\": \"circle\"}, \"mode\": \"markers\", \"name\": \"CR_13\", \"scene\": \"scene\", \"showlegend\": true, \"type\": \"scatter3d\", \"x\": [-246.75186157226562, -183.18115234375, 33.05667495727539], \"y\": [-167.5453338623047, -222.2210693359375, 91.19419860839844], \"z\": [87.52102661132812, 98.30838012695312, 150.1728057861328]}, {\"hovertemplate\": \"color=CR_14<br>x=%{x}<br>y=%{y}<br>z=%{z}<extra></extra>\", \"legendgroup\": \"CR_14\", \"marker\": {\"color\": \"#FF97FF\", \"symbol\": \"circle\"}, \"mode\": \"markers\", \"name\": \"CR_14\", \"scene\": \"scene\", \"showlegend\": true, \"type\": \"scatter3d\", \"x\": [143.9663848876953, -151.42474365234375, -96.28289031982422], \"y\": [-119.95723724365234, 92.57113647460938, 125.22454071044922], \"z\": [220.07778930664062, -5.352695941925049, -76.31497955322266]}, {\"hovertemplate\": \"color=CR_15<br>x=%{x}<br>y=%{y}<br>z=%{z}<extra></extra>\", \"legendgroup\": \"CR_15\", \"marker\": {\"color\": \"#FECB52\", \"symbol\": \"circle\"}, \"mode\": \"markers\", \"name\": \"CR_15\", \"scene\": \"scene\", \"showlegend\": true, \"type\": \"scatter3d\", \"x\": [-234.22293090820312, -274.7226867675781, -15.18604850769043], \"y\": [-38.76500701904297, -104.10701751708984, -73.81336975097656], \"z\": [12.307867050170898, -54.570579528808594, 330.19122314453125]}, {\"hovertemplate\": \"color=CR_16<br>x=%{x}<br>y=%{y}<br>z=%{z}<extra></extra>\", \"legendgroup\": \"CR_16\", \"marker\": {\"color\": \"#636efa\", \"symbol\": \"circle\"}, \"mode\": \"markers\", \"name\": \"CR_16\", \"scene\": \"scene\", \"showlegend\": true, \"type\": \"scatter3d\", \"x\": [-127.43743896484375, -202.94503784179688, -62.59086227416992], \"y\": [168.78518676757812, 176.45042419433594, -275.2704162597656], \"z\": [286.8332214355469, 253.94154357910156, 181.9115447998047]}, {\"hovertemplate\": \"color=CR_17<br>x=%{x}<br>y=%{y}<br>z=%{z}<extra></extra>\", \"legendgroup\": \"CR_17\", \"marker\": {\"color\": \"#EF553B\", \"symbol\": \"circle\"}, \"mode\": \"markers\", \"name\": \"CR_17\", \"scene\": \"scene\", \"showlegend\": true, \"type\": \"scatter3d\", \"x\": [162.1155242919922, 73.9780044555664, 23.76217269897461], \"y\": [-73.21936798095703, -60.892696380615234, -101.0062484741211], \"z\": [124.40760040283203, 135.79393005371094, -110.52884674072266]}, {\"hovertemplate\": \"color=CR_18<br>x=%{x}<br>y=%{y}<br>z=%{z}<extra></extra>\", \"legendgroup\": \"CR_18\", \"marker\": {\"color\": \"#00cc96\", \"symbol\": \"circle\"}, \"mode\": \"markers\", \"name\": \"CR_18\", \"scene\": \"scene\", \"showlegend\": true, \"type\": \"scatter3d\", \"x\": [-97.99620819091797, 13.68252944946289, -30.35977554321289], \"y\": [-71.91438293457031, -222.8147430419922, -59.657894134521484], \"z\": [176.00148010253906, 101.66326904296875, 110.15828704833984]}, {\"hovertemplate\": \"color=CR_19<br>x=%{x}<br>y=%{y}<br>z=%{z}<extra></extra>\", \"legendgroup\": \"CR_19\", \"marker\": {\"color\": \"#ab63fa\", \"symbol\": \"circle\"}, \"mode\": \"markers\", \"name\": \"CR_19\", \"scene\": \"scene\", \"showlegend\": true, \"type\": \"scatter3d\", \"x\": [-156.01425170898438, 66.95169067382812, 49.404544830322266], \"y\": [-54.273006439208984, -86.16117095947266, -170.17918395996094], \"z\": [-337.75457763671875, -306.981201171875, 202.60565185546875]}, {\"hovertemplate\": \"color=CR_20<br>x=%{x}<br>y=%{y}<br>z=%{z}<extra></extra>\", \"legendgroup\": \"CR_20\", \"marker\": {\"color\": \"#FFA15A\", \"symbol\": \"circle\"}, \"mode\": \"markers\", \"name\": \"CR_20\", \"scene\": \"scene\", \"showlegend\": true, \"type\": \"scatter3d\", \"x\": [33.85024642944336, -254.59768676757812, -134.23439025878906], \"y\": [-218.26544189453125, 94.83662414550781, 15.793121337890625], \"z\": [-274.78057861328125, -169.1476593017578, 286.3904724121094]}, {\"hovertemplate\": \"color=GH_1<br>x=%{x}<br>y=%{y}<br>z=%{z}<extra></extra>\", \"legendgroup\": \"GH_1\", \"marker\": {\"color\": \"#19d3f3\", \"symbol\": \"circle\"}, \"mode\": \"markers\", \"name\": \"GH_1\", \"scene\": \"scene\", \"showlegend\": true, \"type\": \"scatter3d\", \"x\": [111.48634338378906, -46.267051696777344, -133.02671813964844], \"y\": [-277.0999755859375, -151.07257080078125, -85.53994750976562], \"z\": [17.42519760131836, 60.69426345825195, 79.47582244873047]}, {\"hovertemplate\": \"color=GH_2<br>x=%{x}<br>y=%{y}<br>z=%{z}<extra></extra>\", \"legendgroup\": \"GH_2\", \"marker\": {\"color\": \"#FF6692\", \"symbol\": \"circle\"}, \"mode\": \"markers\", \"name\": \"GH_2\", \"scene\": \"scene\", \"showlegend\": true, \"type\": \"scatter3d\", \"x\": [32.497493743896484, 205.39508056640625, 111.62369537353516], \"y\": [175.5349884033203, -3.9025564193725586, 58.45921325683594], \"z\": [14.490589141845703, -32.97869110107422, -59.29212188720703]}, {\"hovertemplate\": \"color=GH_3<br>x=%{x}<br>y=%{y}<br>z=%{z}<extra></extra>\", \"legendgroup\": \"GH_3\", \"marker\": {\"color\": \"#B6E880\", \"symbol\": \"circle\"}, \"mode\": \"markers\", \"name\": \"GH_3\", \"scene\": \"scene\", \"showlegend\": true, \"type\": \"scatter3d\", \"x\": [6.729640960693359, 7.285529613494873, 271.6684265136719], \"y\": [81.62071228027344, 305.5008239746094, -205.1974334716797], \"z\": [38.60773468017578, -32.2580451965332, -68.80595397949219]}, {\"hovertemplate\": \"color=GH_4<br>x=%{x}<br>y=%{y}<br>z=%{z}<extra></extra>\", \"legendgroup\": \"GH_4\", \"marker\": {\"color\": \"#FF97FF\", \"symbol\": \"circle\"}, \"mode\": \"markers\", \"name\": \"GH_4\", \"scene\": \"scene\", \"showlegend\": true, \"type\": \"scatter3d\", \"x\": [-144.7758331298828, 168.64552307128906, -102.29446411132812], \"y\": [-149.14120483398438, 266.2682800292969, 236.0553436279297], \"z\": [-27.67251205444336, -14.163369178771973, -184.09732055664062]}, {\"hovertemplate\": \"color=GH_5<br>x=%{x}<br>y=%{y}<br>z=%{z}<extra></extra>\", \"legendgroup\": \"GH_5\", \"marker\": {\"color\": \"#FECB52\", \"symbol\": \"circle\"}, \"mode\": \"markers\", \"name\": \"GH_5\", \"scene\": \"scene\", \"showlegend\": true, \"type\": \"scatter3d\", \"x\": [129.03848266601562, -91.064697265625, 279.0145263671875], \"y\": [-19.26765251159668, -139.72474670410156, -89.54141998291016], \"z\": [305.4967346191406, -146.66477966308594, -110.0585708618164]}, {\"hovertemplate\": \"color=GH_6<br>x=%{x}<br>y=%{y}<br>z=%{z}<extra></extra>\", \"legendgroup\": \"GH_6\", \"marker\": {\"color\": \"#636efa\", \"symbol\": \"circle\"}, \"mode\": \"markers\", \"name\": \"GH_6\", \"scene\": \"scene\", \"showlegend\": true, \"type\": \"scatter3d\", \"x\": [65.38691711425781, 95.32937622070312, 119.59676361083984], \"y\": [215.7121124267578, -20.779754638671875, 149.73040771484375], \"z\": [-91.10639953613281, -153.07139587402344, -126.74820709228516]}, {\"hovertemplate\": \"color=GH_7<br>x=%{x}<br>y=%{y}<br>z=%{z}<extra></extra>\", \"legendgroup\": \"GH_7\", \"marker\": {\"color\": \"#EF553B\", \"symbol\": \"circle\"}, \"mode\": \"markers\", \"name\": \"GH_7\", \"scene\": \"scene\", \"showlegend\": true, \"type\": \"scatter3d\", \"x\": [136.74325561523438, 137.68829345703125, 139.5513916015625], \"y\": [40.66340255737305, -95.28889465332031, -143.61962890625], \"z\": [82.22428894042969, -188.79417419433594, -88.14347839355469]}, {\"hovertemplate\": \"color=GH_8<br>x=%{x}<br>y=%{y}<br>z=%{z}<extra></extra>\", \"legendgroup\": \"GH_8\", \"marker\": {\"color\": \"#00cc96\", \"symbol\": \"circle\"}, \"mode\": \"markers\", \"name\": \"GH_8\", \"scene\": \"scene\", \"showlegend\": true, \"type\": \"scatter3d\", \"x\": [-149.15621948242188, -51.365386962890625, -213.77354431152344], \"y\": [266.9938659667969, -57.36844253540039, -68.21730041503906], \"z\": [-22.92186737060547, -177.4250030517578, -102.86190795898438]}, {\"hovertemplate\": \"color=GH_9<br>x=%{x}<br>y=%{y}<br>z=%{z}<extra></extra>\", \"legendgroup\": \"GH_9\", \"marker\": {\"color\": \"#ab63fa\", \"symbol\": \"circle\"}, \"mode\": \"markers\", \"name\": \"GH_9\", \"scene\": \"scene\", \"showlegend\": true, \"type\": \"scatter3d\", \"x\": [-14.711926460266113, 2.4423422813415527, -101.5236587524414], \"y\": [-77.9431381225586, 109.64080047607422, 55.952510833740234], \"z\": [-15.051018714904785, -57.46155548095703, 81.61627960205078]}, {\"hovertemplate\": \"color=GH_10<br>x=%{x}<br>y=%{y}<br>z=%{z}<extra></extra>\", \"legendgroup\": \"GH_10\", \"marker\": {\"color\": \"#FFA15A\", \"symbol\": \"circle\"}, \"mode\": \"markers\", \"name\": \"GH_10\", \"scene\": \"scene\", \"showlegend\": true, \"type\": \"scatter3d\", \"x\": [-104.6999740600586, -27.989809036254883, 134.4615020751953], \"y\": [-256.4136047363281, 17.37356948852539, 78.6506576538086], \"z\": [-43.90374755859375, -85.2522201538086, 219.78623962402344]}],                        {\"legend\": {\"title\": {\"text\": \"color\"}, \"tracegroupgap\": 0}, \"margin\": {\"t\": 60}, \"scene\": {\"domain\": {\"x\": [0.0, 1.0], \"y\": [0.0, 1.0]}, \"xaxis\": {\"title\": {\"text\": \"x\"}}, \"yaxis\": {\"title\": {\"text\": \"y\"}}, \"zaxis\": {\"title\": {\"text\": \"z\"}}}, \"template\": {\"data\": {\"bar\": [{\"error_x\": {\"color\": \"#2a3f5f\"}, \"error_y\": {\"color\": \"#2a3f5f\"}, \"marker\": {\"line\": {\"color\": \"#E5ECF6\", \"width\": 0.5}}, \"type\": \"bar\"}], \"barpolar\": [{\"marker\": {\"line\": {\"color\": \"#E5ECF6\", \"width\": 0.5}}, \"type\": \"barpolar\"}], \"carpet\": [{\"aaxis\": {\"endlinecolor\": \"#2a3f5f\", \"gridcolor\": \"white\", \"linecolor\": \"white\", \"minorgridcolor\": \"white\", \"startlinecolor\": \"#2a3f5f\"}, \"baxis\": {\"endlinecolor\": \"#2a3f5f\", \"gridcolor\": \"white\", \"linecolor\": \"white\", \"minorgridcolor\": \"white\", \"startlinecolor\": \"#2a3f5f\"}, \"type\": \"carpet\"}], \"choropleth\": [{\"colorbar\": {\"outlinewidth\": 0, \"ticks\": \"\"}, \"type\": \"choropleth\"}], \"contour\": [{\"colorbar\": {\"outlinewidth\": 0, \"ticks\": \"\"}, \"colorscale\": [[0.0, \"#0d0887\"], [0.1111111111111111, \"#46039f\"], [0.2222222222222222, \"#7201a8\"], [0.3333333333333333, \"#9c179e\"], [0.4444444444444444, \"#bd3786\"], [0.5555555555555556, \"#d8576b\"], [0.6666666666666666, \"#ed7953\"], [0.7777777777777778, \"#fb9f3a\"], [0.8888888888888888, \"#fdca26\"], [1.0, \"#f0f921\"]], \"type\": \"contour\"}], \"contourcarpet\": [{\"colorbar\": {\"outlinewidth\": 0, \"ticks\": \"\"}, \"type\": \"contourcarpet\"}], \"heatmap\": [{\"colorbar\": {\"outlinewidth\": 0, \"ticks\": \"\"}, \"colorscale\": [[0.0, \"#0d0887\"], [0.1111111111111111, \"#46039f\"], [0.2222222222222222, \"#7201a8\"], [0.3333333333333333, \"#9c179e\"], [0.4444444444444444, \"#bd3786\"], [0.5555555555555556, \"#d8576b\"], [0.6666666666666666, \"#ed7953\"], [0.7777777777777778, \"#fb9f3a\"], [0.8888888888888888, \"#fdca26\"], [1.0, \"#f0f921\"]], \"type\": \"heatmap\"}], \"heatmapgl\": [{\"colorbar\": {\"outlinewidth\": 0, \"ticks\": \"\"}, \"colorscale\": [[0.0, \"#0d0887\"], [0.1111111111111111, \"#46039f\"], [0.2222222222222222, \"#7201a8\"], [0.3333333333333333, \"#9c179e\"], [0.4444444444444444, \"#bd3786\"], [0.5555555555555556, \"#d8576b\"], [0.6666666666666666, \"#ed7953\"], [0.7777777777777778, \"#fb9f3a\"], [0.8888888888888888, \"#fdca26\"], [1.0, \"#f0f921\"]], \"type\": \"heatmapgl\"}], \"histogram\": [{\"marker\": {\"colorbar\": {\"outlinewidth\": 0, \"ticks\": \"\"}}, \"type\": \"histogram\"}], \"histogram2d\": [{\"colorbar\": {\"outlinewidth\": 0, \"ticks\": \"\"}, \"colorscale\": [[0.0, \"#0d0887\"], [0.1111111111111111, \"#46039f\"], [0.2222222222222222, \"#7201a8\"], [0.3333333333333333, \"#9c179e\"], [0.4444444444444444, \"#bd3786\"], [0.5555555555555556, \"#d8576b\"], [0.6666666666666666, \"#ed7953\"], [0.7777777777777778, \"#fb9f3a\"], [0.8888888888888888, \"#fdca26\"], [1.0, \"#f0f921\"]], \"type\": \"histogram2d\"}], \"histogram2dcontour\": [{\"colorbar\": {\"outlinewidth\": 0, \"ticks\": \"\"}, \"colorscale\": [[0.0, \"#0d0887\"], [0.1111111111111111, \"#46039f\"], [0.2222222222222222, \"#7201a8\"], [0.3333333333333333, \"#9c179e\"], [0.4444444444444444, \"#bd3786\"], [0.5555555555555556, \"#d8576b\"], [0.6666666666666666, \"#ed7953\"], [0.7777777777777778, \"#fb9f3a\"], [0.8888888888888888, \"#fdca26\"], [1.0, \"#f0f921\"]], \"type\": \"histogram2dcontour\"}], \"mesh3d\": [{\"colorbar\": {\"outlinewidth\": 0, \"ticks\": \"\"}, \"type\": \"mesh3d\"}], \"parcoords\": [{\"line\": {\"colorbar\": {\"outlinewidth\": 0, \"ticks\": \"\"}}, \"type\": \"parcoords\"}], \"pie\": [{\"automargin\": true, \"type\": \"pie\"}], \"scatter\": [{\"marker\": {\"colorbar\": {\"outlinewidth\": 0, \"ticks\": \"\"}}, \"type\": \"scatter\"}], \"scatter3d\": [{\"line\": {\"colorbar\": {\"outlinewidth\": 0, \"ticks\": \"\"}}, \"marker\": {\"colorbar\": {\"outlinewidth\": 0, \"ticks\": \"\"}}, \"type\": \"scatter3d\"}], \"scattercarpet\": [{\"marker\": {\"colorbar\": {\"outlinewidth\": 0, \"ticks\": \"\"}}, \"type\": \"scattercarpet\"}], \"scattergeo\": [{\"marker\": {\"colorbar\": {\"outlinewidth\": 0, \"ticks\": \"\"}}, \"type\": \"scattergeo\"}], \"scattergl\": [{\"marker\": {\"colorbar\": {\"outlinewidth\": 0, \"ticks\": \"\"}}, \"type\": \"scattergl\"}], \"scattermapbox\": [{\"marker\": {\"colorbar\": {\"outlinewidth\": 0, \"ticks\": \"\"}}, \"type\": \"scattermapbox\"}], \"scatterpolar\": [{\"marker\": {\"colorbar\": {\"outlinewidth\": 0, \"ticks\": \"\"}}, \"type\": \"scatterpolar\"}], \"scatterpolargl\": [{\"marker\": {\"colorbar\": {\"outlinewidth\": 0, \"ticks\": \"\"}}, \"type\": \"scatterpolargl\"}], \"scatterternary\": [{\"marker\": {\"colorbar\": {\"outlinewidth\": 0, \"ticks\": \"\"}}, \"type\": \"scatterternary\"}], \"surface\": [{\"colorbar\": {\"outlinewidth\": 0, \"ticks\": \"\"}, \"colorscale\": [[0.0, \"#0d0887\"], [0.1111111111111111, \"#46039f\"], [0.2222222222222222, \"#7201a8\"], [0.3333333333333333, \"#9c179e\"], [0.4444444444444444, \"#bd3786\"], [0.5555555555555556, \"#d8576b\"], [0.6666666666666666, \"#ed7953\"], [0.7777777777777778, \"#fb9f3a\"], [0.8888888888888888, \"#fdca26\"], [1.0, \"#f0f921\"]], \"type\": \"surface\"}], \"table\": [{\"cells\": {\"fill\": {\"color\": \"#EBF0F8\"}, \"line\": {\"color\": \"white\"}}, \"header\": {\"fill\": {\"color\": \"#C8D4E3\"}, \"line\": {\"color\": \"white\"}}, \"type\": \"table\"}]}, \"layout\": {\"annotationdefaults\": {\"arrowcolor\": \"#2a3f5f\", \"arrowhead\": 0, \"arrowwidth\": 1}, \"autotypenumbers\": \"strict\", \"coloraxis\": {\"colorbar\": {\"outlinewidth\": 0, \"ticks\": \"\"}}, \"colorscale\": {\"diverging\": [[0, \"#8e0152\"], [0.1, \"#c51b7d\"], [0.2, \"#de77ae\"], [0.3, \"#f1b6da\"], [0.4, \"#fde0ef\"], [0.5, \"#f7f7f7\"], [0.6, \"#e6f5d0\"], [0.7, \"#b8e186\"], [0.8, \"#7fbc41\"], [0.9, \"#4d9221\"], [1, \"#276419\"]], \"sequential\": [[0.0, \"#0d0887\"], [0.1111111111111111, \"#46039f\"], [0.2222222222222222, \"#7201a8\"], [0.3333333333333333, \"#9c179e\"], [0.4444444444444444, \"#bd3786\"], [0.5555555555555556, \"#d8576b\"], [0.6666666666666666, \"#ed7953\"], [0.7777777777777778, \"#fb9f3a\"], [0.8888888888888888, \"#fdca26\"], [1.0, \"#f0f921\"]], \"sequentialminus\": [[0.0, \"#0d0887\"], [0.1111111111111111, \"#46039f\"], [0.2222222222222222, \"#7201a8\"], [0.3333333333333333, \"#9c179e\"], [0.4444444444444444, \"#bd3786\"], [0.5555555555555556, \"#d8576b\"], [0.6666666666666666, \"#ed7953\"], [0.7777777777777778, \"#fb9f3a\"], [0.8888888888888888, \"#fdca26\"], [1.0, \"#f0f921\"]]}, \"colorway\": [\"#636efa\", \"#EF553B\", \"#00cc96\", \"#ab63fa\", \"#FFA15A\", \"#19d3f3\", \"#FF6692\", \"#B6E880\", \"#FF97FF\", \"#FECB52\"], \"font\": {\"color\": \"#2a3f5f\"}, \"geo\": {\"bgcolor\": \"white\", \"lakecolor\": \"white\", \"landcolor\": \"#E5ECF6\", \"showlakes\": true, \"showland\": true, \"subunitcolor\": \"white\"}, \"hoverlabel\": {\"align\": \"left\"}, \"hovermode\": \"closest\", \"mapbox\": {\"style\": \"light\"}, \"paper_bgcolor\": \"white\", \"plot_bgcolor\": \"#E5ECF6\", \"polar\": {\"angularaxis\": {\"gridcolor\": \"white\", \"linecolor\": \"white\", \"ticks\": \"\"}, \"bgcolor\": \"#E5ECF6\", \"radialaxis\": {\"gridcolor\": \"white\", \"linecolor\": \"white\", \"ticks\": \"\"}}, \"scene\": {\"xaxis\": {\"backgroundcolor\": \"#E5ECF6\", \"gridcolor\": \"white\", \"gridwidth\": 2, \"linecolor\": \"white\", \"showbackground\": true, \"ticks\": \"\", \"zerolinecolor\": \"white\"}, \"yaxis\": {\"backgroundcolor\": \"#E5ECF6\", \"gridcolor\": \"white\", \"gridwidth\": 2, \"linecolor\": \"white\", \"showbackground\": true, \"ticks\": \"\", \"zerolinecolor\": \"white\"}, \"zaxis\": {\"backgroundcolor\": \"#E5ECF6\", \"gridcolor\": \"white\", \"gridwidth\": 2, \"linecolor\": \"white\", \"showbackground\": true, \"ticks\": \"\", \"zerolinecolor\": \"white\"}}, \"shapedefaults\": {\"line\": {\"color\": \"#2a3f5f\"}}, \"ternary\": {\"aaxis\": {\"gridcolor\": \"white\", \"linecolor\": \"white\", \"ticks\": \"\"}, \"baxis\": {\"gridcolor\": \"white\", \"linecolor\": \"white\", \"ticks\": \"\"}, \"bgcolor\": \"#E5ECF6\", \"caxis\": {\"gridcolor\": \"white\", \"linecolor\": \"white\", \"ticks\": \"\"}}, \"title\": {\"x\": 0.05}, \"xaxis\": {\"automargin\": true, \"gridcolor\": \"white\", \"linecolor\": \"white\", \"ticks\": \"\", \"title\": {\"standoff\": 15}, \"zerolinecolor\": \"white\", \"zerolinewidth\": 2}, \"yaxis\": {\"automargin\": true, \"gridcolor\": \"white\", \"linecolor\": \"white\", \"ticks\": \"\", \"title\": {\"standoff\": 15}, \"zerolinecolor\": \"white\", \"zerolinewidth\": 2}}}},                        {\"responsive\": true}                    ).then(function(){\n",
       "                            \n",
       "var gd = document.getElementById('37fc4442-0dc4-4e51-8a3a-6e91cc002e6d');\n",
       "var x = new MutationObserver(function (mutations, observer) {{\n",
       "        var display = window.getComputedStyle(gd).display;\n",
       "        if (!display || display === 'none') {{\n",
       "            console.log([gd, 'removed!']);\n",
       "            Plotly.purge(gd);\n",
       "            observer.disconnect();\n",
       "        }}\n",
       "}});\n",
       "\n",
       "// Listen for the removal of the full notebook cells\n",
       "var notebookContainer = gd.closest('#notebook-container');\n",
       "if (notebookContainer) {{\n",
       "    x.observe(notebookContainer, {childList: true});\n",
       "}}\n",
       "\n",
       "// Listen for the clearing of the current output cell\n",
       "var outputEl = gd.closest('.output');\n",
       "if (outputEl) {{\n",
       "    x.observe(outputEl, {childList: true});\n",
       "}}\n",
       "\n",
       "                        })                };                });            </script>        </div>"
      ]
     },
     "metadata": {},
     "output_type": "display_data"
    }
   ],
   "source": [
    "fig2 = px.scatter_3d(tsne3d_df_NoduleCol_comb, \n",
    "                     x=tsne3d_df_NoduleCol_comb.iloc[:,1], \n",
    "                     y=tsne3d_df_NoduleCol_comb.iloc[:,2], \n",
    "                     z=tsne3d_df_NoduleCol_comb.iloc[:,3], \n",
    "                     color=tsne3dIssuelabels)\n",
    "fig2.show()\n",
    "\n",
    "#if save_plots == True:\n",
    "#    fig.write_html(filepath)"
   ]
  },
  {
   "cell_type": "code",
   "execution_count": null,
   "metadata": {},
   "outputs": [],
   "source": []
  },
  {
   "cell_type": "markdown",
   "metadata": {},
   "source": [
    "# PCA"
   ]
  },
  {
   "cell_type": "code",
   "execution_count": 152,
   "metadata": {},
   "outputs": [],
   "source": [
    "df = X_CR"
   ]
  },
  {
   "cell_type": "code",
   "execution_count": null,
   "metadata": {},
   "outputs": [],
   "source": []
  },
  {
   "cell_type": "code",
   "execution_count": 153,
   "metadata": {},
   "outputs": [
    {
     "data": {
      "text/plain": [
       "StandardScaler()"
      ]
     },
     "execution_count": 153,
     "metadata": {},
     "output_type": "execute_result"
    }
   ],
   "source": [
    "scaler = StandardScaler()\n",
    "scaler.fit(df)"
   ]
  },
  {
   "cell_type": "code",
   "execution_count": 154,
   "metadata": {},
   "outputs": [],
   "source": [
    "scaled_data = scaler.transform(df)"
   ]
  },
  {
   "cell_type": "code",
   "execution_count": 155,
   "metadata": {},
   "outputs": [],
   "source": [
    "pca = PCA(n_components=3)"
   ]
  },
  {
   "cell_type": "code",
   "execution_count": 156,
   "metadata": {},
   "outputs": [
    {
     "data": {
      "text/plain": [
       "PCA(n_components=3)"
      ]
     },
     "execution_count": 156,
     "metadata": {},
     "output_type": "execute_result"
    }
   ],
   "source": [
    "pca.fit(scaled_data)"
   ]
  },
  {
   "cell_type": "code",
   "execution_count": 157,
   "metadata": {},
   "outputs": [],
   "source": [
    "x_pca = pca.transform(scaled_data)"
   ]
  },
  {
   "cell_type": "code",
   "execution_count": 158,
   "metadata": {},
   "outputs": [
    {
     "data": {
      "text/plain": [
       "(105, 15)"
      ]
     },
     "execution_count": 158,
     "metadata": {},
     "output_type": "execute_result"
    }
   ],
   "source": [
    "scaled_data.shape"
   ]
  },
  {
   "cell_type": "code",
   "execution_count": 159,
   "metadata": {},
   "outputs": [
    {
     "data": {
      "text/plain": [
       "(105, 3)"
      ]
     },
     "execution_count": 159,
     "metadata": {},
     "output_type": "execute_result"
    }
   ],
   "source": [
    "x_pca.shape"
   ]
  },
  {
   "cell_type": "code",
   "execution_count": 160,
   "metadata": {},
   "outputs": [],
   "source": [
    "LabelCol = pd.DataFrame(data=X['Nodule'])"
   ]
  },
  {
   "cell_type": "code",
   "execution_count": 161,
   "metadata": {},
   "outputs": [
    {
     "data": {
      "text/html": [
       "<div>\n",
       "<style scoped>\n",
       "    .dataframe tbody tr th:only-of-type {\n",
       "        vertical-align: middle;\n",
       "    }\n",
       "\n",
       "    .dataframe tbody tr th {\n",
       "        vertical-align: top;\n",
       "    }\n",
       "\n",
       "    .dataframe thead th {\n",
       "        text-align: right;\n",
       "    }\n",
       "</style>\n",
       "<table border=\"1\" class=\"dataframe\">\n",
       "  <thead>\n",
       "    <tr style=\"text-align: right;\">\n",
       "      <th></th>\n",
       "      <th>Nodule</th>\n",
       "    </tr>\n",
       "  </thead>\n",
       "  <tbody>\n",
       "    <tr>\n",
       "      <th>1078</th>\n",
       "      <td>AC_1</td>\n",
       "    </tr>\n",
       "    <tr>\n",
       "      <th>1079</th>\n",
       "      <td>AC_1</td>\n",
       "    </tr>\n",
       "    <tr>\n",
       "      <th>1080</th>\n",
       "      <td>AC_1</td>\n",
       "    </tr>\n",
       "    <tr>\n",
       "      <th>1081</th>\n",
       "      <td>AC_2</td>\n",
       "    </tr>\n",
       "    <tr>\n",
       "      <th>1082</th>\n",
       "      <td>AC_2</td>\n",
       "    </tr>\n",
       "  </tbody>\n",
       "</table>\n",
       "</div>"
      ],
      "text/plain": [
       "     Nodule\n",
       "1078   AC_1\n",
       "1079   AC_1\n",
       "1080   AC_1\n",
       "1081   AC_2\n",
       "1082   AC_2"
      ]
     },
     "execution_count": 161,
     "metadata": {},
     "output_type": "execute_result"
    }
   ],
   "source": [
    "LabelCol.head()"
   ]
  },
  {
   "cell_type": "code",
   "execution_count": 162,
   "metadata": {},
   "outputs": [],
   "source": [
    "PCA_DF = pd.DataFrame(data=x_pca)"
   ]
  },
  {
   "cell_type": "code",
   "execution_count": 163,
   "metadata": {},
   "outputs": [],
   "source": [
    "#print(PCA_DF)"
   ]
  },
  {
   "cell_type": "code",
   "execution_count": 164,
   "metadata": {},
   "outputs": [],
   "source": [
    "#IssueCol = coins['issue or phase']"
   ]
  },
  {
   "cell_type": "code",
   "execution_count": 165,
   "metadata": {},
   "outputs": [],
   "source": [
    "pca3d_df_NoduleCol_comb = pd.concat([LabelCol.reset_index(drop=True), PCA_DF], axis=1)"
   ]
  },
  {
   "cell_type": "code",
   "execution_count": 166,
   "metadata": {},
   "outputs": [
    {
     "data": {
      "text/html": [
       "<div>\n",
       "<style scoped>\n",
       "    .dataframe tbody tr th:only-of-type {\n",
       "        vertical-align: middle;\n",
       "    }\n",
       "\n",
       "    .dataframe tbody tr th {\n",
       "        vertical-align: top;\n",
       "    }\n",
       "\n",
       "    .dataframe thead th {\n",
       "        text-align: right;\n",
       "    }\n",
       "</style>\n",
       "<table border=\"1\" class=\"dataframe\">\n",
       "  <thead>\n",
       "    <tr style=\"text-align: right;\">\n",
       "      <th></th>\n",
       "      <th>Nodule</th>\n",
       "      <th>0</th>\n",
       "      <th>1</th>\n",
       "      <th>2</th>\n",
       "    </tr>\n",
       "  </thead>\n",
       "  <tbody>\n",
       "    <tr>\n",
       "      <th>0</th>\n",
       "      <td>AC_1</td>\n",
       "      <td>3.698541</td>\n",
       "      <td>0.605268</td>\n",
       "      <td>3.741512</td>\n",
       "    </tr>\n",
       "    <tr>\n",
       "      <th>1</th>\n",
       "      <td>AC_1</td>\n",
       "      <td>-1.793775</td>\n",
       "      <td>-0.777731</td>\n",
       "      <td>-1.523145</td>\n",
       "    </tr>\n",
       "    <tr>\n",
       "      <th>2</th>\n",
       "      <td>AC_1</td>\n",
       "      <td>-1.130880</td>\n",
       "      <td>-0.644025</td>\n",
       "      <td>0.321757</td>\n",
       "    </tr>\n",
       "    <tr>\n",
       "      <th>3</th>\n",
       "      <td>AC_2</td>\n",
       "      <td>-2.103071</td>\n",
       "      <td>0.452253</td>\n",
       "      <td>0.996940</td>\n",
       "    </tr>\n",
       "    <tr>\n",
       "      <th>4</th>\n",
       "      <td>AC_2</td>\n",
       "      <td>-1.798485</td>\n",
       "      <td>0.289739</td>\n",
       "      <td>1.435049</td>\n",
       "    </tr>\n",
       "  </tbody>\n",
       "</table>\n",
       "</div>"
      ],
      "text/plain": [
       "  Nodule         0         1         2\n",
       "0   AC_1  3.698541  0.605268  3.741512\n",
       "1   AC_1 -1.793775 -0.777731 -1.523145\n",
       "2   AC_1 -1.130880 -0.644025  0.321757\n",
       "3   AC_2 -2.103071  0.452253  0.996940\n",
       "4   AC_2 -1.798485  0.289739  1.435049"
      ]
     },
     "execution_count": 166,
     "metadata": {},
     "output_type": "execute_result"
    }
   ],
   "source": [
    "pca3d_df_NoduleCol_comb.head()"
   ]
  },
  {
   "cell_type": "code",
   "execution_count": 167,
   "metadata": {},
   "outputs": [],
   "source": [
    "#print(pca3d_df_NoduleCol_comb)"
   ]
  },
  {
   "cell_type": "code",
   "execution_count": 168,
   "metadata": {},
   "outputs": [],
   "source": [
    "pca3d_df_NoduleCol_comb.columns = ['Nodule', 'PC1', 'PC2', 'PC3']"
   ]
  },
  {
   "cell_type": "code",
   "execution_count": null,
   "metadata": {},
   "outputs": [],
   "source": []
  },
  {
   "cell_type": "code",
   "execution_count": null,
   "metadata": {},
   "outputs": [],
   "source": []
  },
  {
   "cell_type": "markdown",
   "metadata": {},
   "source": [
    "## 3D PCA Visualisation"
   ]
  },
  {
   "cell_type": "code",
   "execution_count": null,
   "metadata": {},
   "outputs": [],
   "source": []
  },
  {
   "cell_type": "code",
   "execution_count": 173,
   "metadata": {},
   "outputs": [
    {
     "data": {
      "application/vnd.plotly.v1+json": {
       "config": {
        "plotlyServerURL": "https://plot.ly"
       },
       "data": [
        {
         "hovertemplate": "color=AC_1<br>symbol=AC_1<br>x=%{x}<br>y=%{y}<br>z=%{z}<extra></extra>",
         "legendgroup": "AC_1, AC_1",
         "marker": {
          "color": "#2E91E5",
          "size": 5,
          "symbol": "circle"
         },
         "mode": "markers",
         "name": "AC_1, AC_1",
         "scene": "scene",
         "showlegend": true,
         "type": "scatter3d",
         "x": [
          3.698540804829553,
          -1.7937750004222497,
          -1.1308798630769623
         ],
         "y": [
          0.6052675887821403,
          -0.7777307090895699,
          -0.6440253787017853
         ],
         "z": [
          3.7415123025850363,
          -1.5231448595416188,
          0.3217570942031403
         ]
        },
        {
         "hovertemplate": "color=AC_2<br>symbol=AC_2<br>x=%{x}<br>y=%{y}<br>z=%{z}<extra></extra>",
         "legendgroup": "AC_2, AC_2",
         "marker": {
          "color": "#E15F99",
          "size": 5,
          "symbol": "diamond"
         },
         "mode": "markers",
         "name": "AC_2, AC_2",
         "scene": "scene",
         "showlegend": true,
         "type": "scatter3d",
         "x": [
          -2.1030709766407254,
          -1.798484681156225,
          -1.1657774554102067
         ],
         "y": [
          0.45225309443713146,
          0.28973873054435006,
          0.5004797244682042
         ],
         "z": [
          0.9969397905697039,
          1.435048936427103,
          1.5001681003781677
         ]
        },
        {
         "hovertemplate": "color=AC_3<br>symbol=AC_3<br>x=%{x}<br>y=%{y}<br>z=%{z}<extra></extra>",
         "legendgroup": "AC_3, AC_3",
         "marker": {
          "color": "#1CA71C",
          "size": 5,
          "symbol": "square"
         },
         "mode": "markers",
         "name": "AC_3, AC_3",
         "scene": "scene",
         "showlegend": true,
         "type": "scatter3d",
         "x": [
          0.011752951176686253,
          -1.0645084276584984,
          -0.5609106854515972
         ],
         "y": [
          -3.2292170686070687,
          -2.198334618184574,
          -1.4544465970334886
         ],
         "z": [
          2.0241083693772515,
          0.8176762156061909,
          1.6569487262683442
         ]
        },
        {
         "hovertemplate": "color=AC_4<br>symbol=AC_4<br>x=%{x}<br>y=%{y}<br>z=%{z}<extra></extra>",
         "legendgroup": "AC_4, AC_4",
         "marker": {
          "color": "#FB0D0D",
          "size": 5,
          "symbol": "x"
         },
         "mode": "markers",
         "name": "AC_4, AC_4",
         "scene": "scene",
         "showlegend": true,
         "type": "scatter3d",
         "x": [
          -1.6909423681829205,
          -1.8383450342159944,
          -2.598188392620704
         ],
         "y": [
          0.6021852473425795,
          0.179106675735372,
          0.6298121840182717
         ],
         "z": [
          -0.10356618574839964,
          -0.33417130557489105,
          -0.7961379590670506
         ]
        },
        {
         "hovertemplate": "color=AC_5<br>symbol=AC_5<br>x=%{x}<br>y=%{y}<br>z=%{z}<extra></extra>",
         "legendgroup": "AC_5, AC_5",
         "marker": {
          "color": "#DA16FF",
          "size": 5,
          "symbol": "cross"
         },
         "mode": "markers",
         "name": "AC_5, AC_5",
         "scene": "scene",
         "showlegend": true,
         "type": "scatter3d",
         "x": [
          3.4484946163332424,
          3.3524853676628332,
          3.897876309052954
         ],
         "y": [
          1.1887170888984735,
          1.6810375279930403,
          0.3685541504535022
         ],
         "z": [
          1.4392195460223633,
          0.6358998058523987,
          0.5660152290409034
         ]
        },
        {
         "hovertemplate": "color=CR_1<br>symbol=CR_1<br>x=%{x}<br>y=%{y}<br>z=%{z}<extra></extra>",
         "legendgroup": "CR_1, CR_1",
         "marker": {
          "color": "#222A2A",
          "size": 5,
          "symbol": "circle"
         },
         "mode": "markers",
         "name": "CR_1, CR_1",
         "scene": "scene",
         "showlegend": true,
         "type": "scatter3d",
         "x": [
          3.067797984621883,
          4.807395599743155,
          1.5345924533276465
         ],
         "y": [
          0.599515020272432,
          2.2922782400339385,
          0.8643679075766338
         ],
         "z": [
          2.2401092965283516,
          2.316336343601455,
          1.2921809647713083
         ]
        },
        {
         "hovertemplate": "color=CR_2<br>symbol=CR_2<br>x=%{x}<br>y=%{y}<br>z=%{z}<extra></extra>",
         "legendgroup": "CR_2, CR_2",
         "marker": {
          "color": "#B68100",
          "size": 5,
          "symbol": "diamond"
         },
         "mode": "markers",
         "name": "CR_2, CR_2",
         "scene": "scene",
         "showlegend": true,
         "type": "scatter3d",
         "x": [
          0.684428769946192,
          -0.5423638494016336,
          0.7885329716643822
         ],
         "y": [
          -2.204976661427884,
          -1.5063830557848732,
          -3.426010649295561
         ],
         "z": [
          0.6498872977735534,
          0.18217736309190308,
          1.014652939444868
         ]
        },
        {
         "hovertemplate": "color=CR_3<br>symbol=CR_3<br>x=%{x}<br>y=%{y}<br>z=%{z}<extra></extra>",
         "legendgroup": "CR_3, CR_3",
         "marker": {
          "color": "#750D86",
          "size": 5,
          "symbol": "square"
         },
         "mode": "markers",
         "name": "CR_3, CR_3",
         "scene": "scene",
         "showlegend": true,
         "type": "scatter3d",
         "x": [
          -1.59811605437469,
          -1.051242394505911,
          -1.1397652310740694
         ],
         "y": [
          -0.8448636327258631,
          -2.121025962779364,
          -1.620821692465779
         ],
         "z": [
          -2.76408831449787,
          -2.3961322857910017,
          -2.4772874012023576
         ]
        },
        {
         "hovertemplate": "color=CR_4<br>symbol=CR_4<br>x=%{x}<br>y=%{y}<br>z=%{z}<extra></extra>",
         "legendgroup": "CR_4, CR_4",
         "marker": {
          "color": "#EB663B",
          "size": 5,
          "symbol": "x"
         },
         "mode": "markers",
         "name": "CR_4, CR_4",
         "scene": "scene",
         "showlegend": true,
         "type": "scatter3d",
         "x": [
          -2.5054454485075204,
          -2.044330838614166,
          -0.5828704365789651
         ],
         "y": [
          0.4648053534381947,
          1.2067091966241643,
          -2.1394172543725145
         ],
         "z": [
          0.5184796175576155,
          0.6299828001530724,
          2.7723294194652386
         ]
        },
        {
         "hovertemplate": "color=CR_5<br>symbol=CR_5<br>x=%{x}<br>y=%{y}<br>z=%{z}<extra></extra>",
         "legendgroup": "CR_5, CR_5",
         "marker": {
          "color": "#511CFB",
          "size": 5,
          "symbol": "cross"
         },
         "mode": "markers",
         "name": "CR_5, CR_5",
         "scene": "scene",
         "showlegend": true,
         "type": "scatter3d",
         "x": [
          2.32921460324936,
          3.0123262757937215,
          3.5322596876906354
         ],
         "y": [
          2.397084286014364,
          2.0458404362430858,
          1.1590882732355632
         ],
         "z": [
          -1.5207856861062228,
          -1.477157451868943,
          -0.5945020844118014
         ]
        },
        {
         "hovertemplate": "color=CR_6<br>symbol=CR_6<br>x=%{x}<br>y=%{y}<br>z=%{z}<extra></extra>",
         "legendgroup": "CR_6, CR_6",
         "marker": {
          "color": "#00A08B",
          "size": 5,
          "symbol": "circle"
         },
         "mode": "markers",
         "name": "CR_6, CR_6",
         "scene": "scene",
         "showlegend": true,
         "type": "scatter3d",
         "x": [
          -1.0194610552142593,
          4.516723591007782,
          2.141218392208489
         ],
         "y": [
          -0.8434011796929116,
          -3.082447359772651,
          -1.8562154884941153
         ],
         "z": [
          -2.3990811454878043,
          -1.4691836543769938,
          -1.1693153469972033
         ]
        },
        {
         "hovertemplate": "color=CR_7<br>symbol=CR_7<br>x=%{x}<br>y=%{y}<br>z=%{z}<extra></extra>",
         "legendgroup": "CR_7, CR_7",
         "marker": {
          "color": "#FB00D1",
          "size": 5,
          "symbol": "diamond"
         },
         "mode": "markers",
         "name": "CR_7, CR_7",
         "scene": "scene",
         "showlegend": true,
         "type": "scatter3d",
         "x": [
          -0.4483121486619451,
          -1.3115836471526057,
          -1.2090895080381296
         ],
         "y": [
          0.946068499715056,
          0.16999383638672885,
          0.7118286575989146
         ],
         "z": [
          -0.6943329811918617,
          -0.46927108625357644,
          -0.615622822439111
         ]
        },
        {
         "hovertemplate": "color=CR_8<br>symbol=CR_8<br>x=%{x}<br>y=%{y}<br>z=%{z}<extra></extra>",
         "legendgroup": "CR_8, CR_8",
         "marker": {
          "color": "#FC0080",
          "size": 5,
          "symbol": "square"
         },
         "mode": "markers",
         "name": "CR_8, CR_8",
         "scene": "scene",
         "showlegend": true,
         "type": "scatter3d",
         "x": [
          -1.738805817097985,
          -1.5837319498793783,
          -1.3586351844633342
         ],
         "y": [
          2.5750219900068463,
          2.749479200270836,
          4.921709616866432
         ],
         "z": [
          1.2045631696893737,
          0.7516305884793821,
          2.3861669690044067
         ]
        },
        {
         "hovertemplate": "color=CR_9<br>symbol=CR_9<br>x=%{x}<br>y=%{y}<br>z=%{z}<extra></extra>",
         "legendgroup": "CR_9, CR_9",
         "marker": {
          "color": "#B2828D",
          "size": 5,
          "symbol": "x"
         },
         "mode": "markers",
         "name": "CR_9, CR_9",
         "scene": "scene",
         "showlegend": true,
         "type": "scatter3d",
         "x": [
          -0.38688963095108886,
          -0.43827633017240564,
          1.4990879301874291
         ],
         "y": [
          -1.0243939904555337,
          -1.5546408194643093,
          -0.5938067633987089
         ],
         "z": [
          0.5494300913664961,
          1.6391322586171828,
          0.6483024761288875
         ]
        },
        {
         "hovertemplate": "color=CR_10<br>symbol=CR_10<br>x=%{x}<br>y=%{y}<br>z=%{z}<extra></extra>",
         "legendgroup": "CR_10, CR_10",
         "marker": {
          "color": "#6C7C32",
          "size": 5,
          "symbol": "cross"
         },
         "mode": "markers",
         "name": "CR_10, CR_10",
         "scene": "scene",
         "showlegend": true,
         "type": "scatter3d",
         "x": [
          0.026476409088566234,
          -0.21777948932172042,
          -0.20461137081846437
         ],
         "y": [
          0.3228868266465492,
          -0.0687316113532664,
          0.22688572698749915
         ],
         "z": [
          -1.1763329774675377,
          -1.0608820589687828,
          -0.8423014187376423
         ]
        },
        {
         "hovertemplate": "color=CR_11<br>symbol=CR_11<br>x=%{x}<br>y=%{y}<br>z=%{z}<extra></extra>",
         "legendgroup": "CR_11, CR_11",
         "marker": {
          "color": "#778AAE",
          "size": 5,
          "symbol": "circle"
         },
         "mode": "markers",
         "name": "CR_11, CR_11",
         "scene": "scene",
         "showlegend": true,
         "type": "scatter3d",
         "x": [
          1.3879328416336514,
          0.30367969834537784,
          -0.08703195358092468
         ],
         "y": [
          0.1506200030483118,
          -0.026628528547806025,
          0.8280602935733233
         ],
         "z": [
          0.9530925874438234,
          2.6636498483044253,
          1.2450708033683136
         ]
        },
        {
         "hovertemplate": "color=CR_12<br>symbol=CR_12<br>x=%{x}<br>y=%{y}<br>z=%{z}<extra></extra>",
         "legendgroup": "CR_12, CR_12",
         "marker": {
          "color": "#862A16",
          "size": 5,
          "symbol": "diamond"
         },
         "mode": "markers",
         "name": "CR_12, CR_12",
         "scene": "scene",
         "showlegend": true,
         "type": "scatter3d",
         "x": [
          -1.2957331248987565,
          -1.0984324390308302,
          -0.2785319907747631
         ],
         "y": [
          0.29698261304068874,
          -0.3447370484296591,
          0.23498771441225283
         ],
         "z": [
          0.5516394906725508,
          0.7448607907846819,
          0.15494722846868922
         ]
        },
        {
         "hovertemplate": "color=CR_13<br>symbol=CR_13<br>x=%{x}<br>y=%{y}<br>z=%{z}<extra></extra>",
         "legendgroup": "CR_13, CR_13",
         "marker": {
          "color": "#A777F1",
          "size": 5,
          "symbol": "square"
         },
         "mode": "markers",
         "name": "CR_13, CR_13",
         "scene": "scene",
         "showlegend": true,
         "type": "scatter3d",
         "x": [
          -0.964488866169761,
          -0.060962147240835325,
          3.533103835360584
         ],
         "y": [
          0.5725067206648833,
          0.45629977141497846,
          -1.9517808975825788
         ],
         "z": [
          -2.253243969894688,
          -2.438325153290835,
          -1.5398369176669302
         ]
        },
        {
         "hovertemplate": "color=CR_14<br>symbol=CR_14<br>x=%{x}<br>y=%{y}<br>z=%{z}<extra></extra>",
         "legendgroup": "CR_14, CR_14",
         "marker": {
          "color": "#620042",
          "size": 5,
          "symbol": "x"
         },
         "mode": "markers",
         "name": "CR_14, CR_14",
         "scene": "scene",
         "showlegend": true,
         "type": "scatter3d",
         "x": [
          -1.5457623676137433,
          -1.5179963694970728,
          -0.9631532580744555
         ],
         "y": [
          0.08269327036284302,
          -0.5304704686683983,
          0.2165819992567862
         ],
         "z": [
          0.2565945151381405,
          0.080622438860839,
          0.42661583033856615
         ]
        },
        {
         "hovertemplate": "color=CR_15<br>symbol=CR_15<br>x=%{x}<br>y=%{y}<br>z=%{z}<extra></extra>",
         "legendgroup": "CR_15, CR_15",
         "marker": {
          "color": "#1616A7",
          "size": 5,
          "symbol": "cross"
         },
         "mode": "markers",
         "name": "CR_15, CR_15",
         "scene": "scene",
         "showlegend": true,
         "type": "scatter3d",
         "x": [
          -0.3460656454083835,
          0.8732106333983156,
          0.9983731749041986
         ],
         "y": [
          0.5223713800130411,
          0.3989966428692573,
          0.01704092675270949
         ],
         "z": [
          -1.7597079566138054,
          -1.8604484219601347,
          -3.042986524852883
         ]
        },
        {
         "hovertemplate": "color=CR_16<br>symbol=CR_16<br>x=%{x}<br>y=%{y}<br>z=%{z}<extra></extra>",
         "legendgroup": "CR_16, CR_16",
         "marker": {
          "color": "#DA60CA",
          "size": 5,
          "symbol": "circle"
         },
         "mode": "markers",
         "name": "CR_16, CR_16",
         "scene": "scene",
         "showlegend": true,
         "type": "scatter3d",
         "x": [
          4.991139738454325,
          4.556277851126829,
          4.948914169963602
         ],
         "y": [
          -1.193804889334722,
          -0.6041178067104753,
          1.3727905042029485
         ],
         "z": [
          -0.24292786841955144,
          1.4655946236132897,
          -0.3317857423110939
         ]
        },
        {
         "hovertemplate": "color=CR_17<br>symbol=CR_17<br>x=%{x}<br>y=%{y}<br>z=%{z}<extra></extra>",
         "legendgroup": "CR_17, CR_17",
         "marker": {
          "color": "#6C4516",
          "size": 5,
          "symbol": "diamond"
         },
         "mode": "markers",
         "name": "CR_17, CR_17",
         "scene": "scene",
         "showlegend": true,
         "type": "scatter3d",
         "x": [
          -0.8991639127050712,
          -0.992095004809727,
          -1.0465547777543749
         ],
         "y": [
          -0.02275724699588907,
          0.2006311641163381,
          0.888135919109264
         ],
         "z": [
          0.3044479980136239,
          -0.20460569023070407,
          -0.20046285205173123
         ]
        },
        {
         "hovertemplate": "color=CR_18<br>symbol=CR_18<br>x=%{x}<br>y=%{y}<br>z=%{z}<extra></extra>",
         "legendgroup": "CR_18, CR_18",
         "marker": {
          "color": "#0D2A63",
          "size": 5,
          "symbol": "square"
         },
         "mode": "markers",
         "name": "CR_18, CR_18",
         "scene": "scene",
         "showlegend": true,
         "type": "scatter3d",
         "x": [
          0.6111273812934602,
          1.6150000267731666,
          1.8749806812786782
         ],
         "y": [
          1.460811009280338,
          1.0273093450204376,
          0.7246959340123038
         ],
         "z": [
          -0.7306064050037907,
          -0.9162850984010187,
          -1.8431423814878074
         ]
        },
        {
         "hovertemplate": "color=CR_19<br>symbol=CR_19<br>x=%{x}<br>y=%{y}<br>z=%{z}<extra></extra>",
         "legendgroup": "CR_19, CR_19",
         "marker": {
          "color": "#AF0038",
          "size": 5,
          "symbol": "x"
         },
         "mode": "markers",
         "name": "CR_19, CR_19",
         "scene": "scene",
         "showlegend": true,
         "type": "scatter3d",
         "x": [
          -2.8029893163143993,
          -2.5065090240851924,
          -2.5046711156913766
         ],
         "y": [
          0.8371577718860354,
          0.8389000540389727,
          0.7876718457609913
         ],
         "z": [
          0.22085479553851062,
          0.05134862444150817,
          0.11049945182427807
         ]
        },
        {
         "hovertemplate": "color=CR_20<br>symbol=CR_20<br>x=%{x}<br>y=%{y}<br>z=%{z}<extra></extra>",
         "legendgroup": "CR_20, CR_20",
         "marker": {
          "color": "#2E91E5",
          "size": 5,
          "symbol": "cross"
         },
         "mode": "markers",
         "name": "CR_20, CR_20",
         "scene": "scene",
         "showlegend": true,
         "type": "scatter3d",
         "x": [
          -2.5620273977152004,
          -2.46042694732095,
          -2.514358607050385
         ],
         "y": [
          0.08335180307489343,
          0.11533314421036928,
          0.2966904770987396
         ],
         "z": [
          1.802850357032593,
          1.3272762986702067,
          1.616018222994349
         ]
        },
        {
         "hovertemplate": "color=GH_1<br>symbol=GH_1<br>x=%{x}<br>y=%{y}<br>z=%{z}<extra></extra>",
         "legendgroup": "GH_1, GH_1",
         "marker": {
          "color": "#E15F99",
          "size": 5,
          "symbol": "circle"
         },
         "mode": "markers",
         "name": "GH_1, GH_1",
         "scene": "scene",
         "showlegend": true,
         "type": "scatter3d",
         "x": [
          3.8343336295934543,
          0.7462169060645697,
          1.2593692361937365
         ],
         "y": [
          -0.44744297891933554,
          -0.16734529083203958,
          1.379371173476034
         ],
         "z": [
          0.33125206196747464,
          -0.2882024580435313,
          -1.7285376679165254
         ]
        },
        {
         "hovertemplate": "color=GH_2<br>symbol=GH_2<br>x=%{x}<br>y=%{y}<br>z=%{z}<extra></extra>",
         "legendgroup": "GH_2, GH_2",
         "marker": {
          "color": "#1CA71C",
          "size": 5,
          "symbol": "diamond"
         },
         "mode": "markers",
         "name": "GH_2, GH_2",
         "scene": "scene",
         "showlegend": true,
         "type": "scatter3d",
         "x": [
          -0.10781324962442793,
          -0.8224448413814238,
          0.4682761979305144
         ],
         "y": [
          -1.3153932148430487,
          0.35742945418340805,
          -4.744902678668414
         ],
         "z": [
          -0.4243960124298644,
          -0.3342515804445683,
          0.9541611899323165
         ]
        },
        {
         "hovertemplate": "color=GH_3<br>symbol=GH_3<br>x=%{x}<br>y=%{y}<br>z=%{z}<extra></extra>",
         "legendgroup": "GH_3, GH_3",
         "marker": {
          "color": "#FB0D0D",
          "size": 5,
          "symbol": "square"
         },
         "mode": "markers",
         "name": "GH_3, GH_3",
         "scene": "scene",
         "showlegend": true,
         "type": "scatter3d",
         "x": [
          -0.40871260903790785,
          -2.10345683124121,
          -0.22306222420596694
         ],
         "y": [
          -1.7945649055732422,
          -0.4096663387173764,
          -0.792102459789833
         ],
         "z": [
          0.383870426194388,
          -1.7254492567352053,
          -2.539985977035085
         ]
        },
        {
         "hovertemplate": "color=GH_4<br>symbol=GH_4<br>x=%{x}<br>y=%{y}<br>z=%{z}<extra></extra>",
         "legendgroup": "GH_4, GH_4",
         "marker": {
          "color": "#DA16FF",
          "size": 5,
          "symbol": "x"
         },
         "mode": "markers",
         "name": "GH_4, GH_4",
         "scene": "scene",
         "showlegend": true,
         "type": "scatter3d",
         "x": [
          2.2885340774120886,
          0.43525524047363084,
          -2.326025051683603
         ],
         "y": [
          1.137985553467281,
          -1.8178178517121504,
          0.6274542386738875
         ],
         "z": [
          0.4057698603665918,
          1.5886531475095313,
          1.0270175110918311
         ]
        },
        {
         "hovertemplate": "color=GH_5<br>symbol=GH_5<br>x=%{x}<br>y=%{y}<br>z=%{z}<extra></extra>",
         "legendgroup": "GH_5, GH_5",
         "marker": {
          "color": "#222A2A",
          "size": 5,
          "symbol": "cross"
         },
         "mode": "markers",
         "name": "GH_5, GH_5",
         "scene": "scene",
         "showlegend": true,
         "type": "scatter3d",
         "x": [
          -1.2370426480305112,
          0.03173223075930081,
          -1.4638176207356384
         ],
         "y": [
          0.8669965247735899,
          1.222001727724844,
          1.6645230002324198
         ],
         "z": [
          -0.5257223184213203,
          -0.7828609999074364,
          -1.2432108846472993
         ]
        },
        {
         "hovertemplate": "color=GH_6<br>symbol=GH_6<br>x=%{x}<br>y=%{y}<br>z=%{z}<extra></extra>",
         "legendgroup": "GH_6, GH_6",
         "marker": {
          "color": "#B68100",
          "size": 5,
          "symbol": "circle"
         },
         "mode": "markers",
         "name": "GH_6, GH_6",
         "scene": "scene",
         "showlegend": true,
         "type": "scatter3d",
         "x": [
          -1.5690474928713165,
          -1.9232772924637658,
          -1.9903126293157665
         ],
         "y": [
          -0.5182420665758466,
          -0.41600045301164434,
          -0.6124788137160817
         ],
         "z": [
          0.49855986217825893,
          0.5606789010857666,
          0.08252970408441561
         ]
        },
        {
         "hovertemplate": "color=GH_7<br>symbol=GH_7<br>x=%{x}<br>y=%{y}<br>z=%{z}<extra></extra>",
         "legendgroup": "GH_7, GH_7",
         "marker": {
          "color": "#750D86",
          "size": 5,
          "symbol": "diamond"
         },
         "mode": "markers",
         "name": "GH_7, GH_7",
         "scene": "scene",
         "showlegend": true,
         "type": "scatter3d",
         "x": [
          -0.6834967601171289,
          -1.9082792913009285,
          -0.8738391369465777
         ],
         "y": [
          -2.8741301160292516,
          0.16109400101383559,
          1.2130908466854997
         ],
         "z": [
          0.4189121058622523,
          0.6527013115595438,
          0.06950198948012365
         ]
        },
        {
         "hovertemplate": "color=GH_8<br>symbol=GH_8<br>x=%{x}<br>y=%{y}<br>z=%{z}<extra></extra>",
         "legendgroup": "GH_8, GH_8",
         "marker": {
          "color": "#EB663B",
          "size": 5,
          "symbol": "square"
         },
         "mode": "markers",
         "name": "GH_8, GH_8",
         "scene": "scene",
         "showlegend": true,
         "type": "scatter3d",
         "x": [
          1.3300969058571384,
          0.819273365889031,
          1.5232759533049935
         ],
         "y": [
          1.2489636182159243,
          2.8634395004751894,
          -0.08167453782041438
         ],
         "z": [
          -1.6530711804892837,
          -0.8468935943704962,
          -1.5779075726364662
         ]
        },
        {
         "hovertemplate": "color=GH_9<br>symbol=GH_9<br>x=%{x}<br>y=%{y}<br>z=%{z}<extra></extra>",
         "legendgroup": "GH_9, GH_9",
         "marker": {
          "color": "#511CFB",
          "size": 5,
          "symbol": "x"
         },
         "mode": "markers",
         "name": "GH_9, GH_9",
         "scene": "scene",
         "showlegend": true,
         "type": "scatter3d",
         "x": [
          -0.4220317674962246,
          -0.10991755352893673,
          -0.27494179417189146
         ],
         "y": [
          0.24883986560718774,
          -0.8441757173969737,
          -1.530209942316751
         ],
         "z": [
          -0.3856306903414047,
          -0.8262455181838043,
          -0.4908667177975107
         ]
        },
        {
         "hovertemplate": "color=GH_10<br>symbol=GH_10<br>x=%{x}<br>y=%{y}<br>z=%{z}<extra></extra>",
         "legendgroup": "GH_10, GH_10",
         "marker": {
          "color": "#00A08B",
          "size": 5,
          "symbol": "cross"
         },
         "mode": "markers",
         "name": "GH_10, GH_10",
         "scene": "scene",
         "showlegend": true,
         "type": "scatter3d",
         "x": [
          -0.061019771129111985,
          -0.44198114699616425,
          -0.2556412459160929
         ],
         "y": [
          -0.8195032261995024,
          -0.4336339139441646,
          -0.06805300690469077
         ],
         "z": [
          0.640906475544864,
          0.5231463200854064,
          0.5765939528605973
         ]
        }
       ],
       "layout": {
        "legend": {
         "title": {
          "text": "color, symbol"
         },
         "tracegroupgap": 0
        },
        "margin": {
         "b": 0,
         "l": 0,
         "r": 0,
         "t": 0
        },
        "scene": {
         "domain": {
          "x": [
           0,
           1
          ],
          "y": [
           0,
           1
          ]
         },
         "xaxis": {
          "title": {
           "text": "x"
          }
         },
         "yaxis": {
          "title": {
           "text": "y"
          }
         },
         "zaxis": {
          "title": {
           "text": "z"
          }
         }
        },
        "template": {
         "data": {
          "bar": [
           {
            "error_x": {
             "color": "#2a3f5f"
            },
            "error_y": {
             "color": "#2a3f5f"
            },
            "marker": {
             "line": {
              "color": "#E5ECF6",
              "width": 0.5
             }
            },
            "type": "bar"
           }
          ],
          "barpolar": [
           {
            "marker": {
             "line": {
              "color": "#E5ECF6",
              "width": 0.5
             }
            },
            "type": "barpolar"
           }
          ],
          "carpet": [
           {
            "aaxis": {
             "endlinecolor": "#2a3f5f",
             "gridcolor": "white",
             "linecolor": "white",
             "minorgridcolor": "white",
             "startlinecolor": "#2a3f5f"
            },
            "baxis": {
             "endlinecolor": "#2a3f5f",
             "gridcolor": "white",
             "linecolor": "white",
             "minorgridcolor": "white",
             "startlinecolor": "#2a3f5f"
            },
            "type": "carpet"
           }
          ],
          "choropleth": [
           {
            "colorbar": {
             "outlinewidth": 0,
             "ticks": ""
            },
            "type": "choropleth"
           }
          ],
          "contour": [
           {
            "colorbar": {
             "outlinewidth": 0,
             "ticks": ""
            },
            "colorscale": [
             [
              0,
              "#0d0887"
             ],
             [
              0.1111111111111111,
              "#46039f"
             ],
             [
              0.2222222222222222,
              "#7201a8"
             ],
             [
              0.3333333333333333,
              "#9c179e"
             ],
             [
              0.4444444444444444,
              "#bd3786"
             ],
             [
              0.5555555555555556,
              "#d8576b"
             ],
             [
              0.6666666666666666,
              "#ed7953"
             ],
             [
              0.7777777777777778,
              "#fb9f3a"
             ],
             [
              0.8888888888888888,
              "#fdca26"
             ],
             [
              1,
              "#f0f921"
             ]
            ],
            "type": "contour"
           }
          ],
          "contourcarpet": [
           {
            "colorbar": {
             "outlinewidth": 0,
             "ticks": ""
            },
            "type": "contourcarpet"
           }
          ],
          "heatmap": [
           {
            "colorbar": {
             "outlinewidth": 0,
             "ticks": ""
            },
            "colorscale": [
             [
              0,
              "#0d0887"
             ],
             [
              0.1111111111111111,
              "#46039f"
             ],
             [
              0.2222222222222222,
              "#7201a8"
             ],
             [
              0.3333333333333333,
              "#9c179e"
             ],
             [
              0.4444444444444444,
              "#bd3786"
             ],
             [
              0.5555555555555556,
              "#d8576b"
             ],
             [
              0.6666666666666666,
              "#ed7953"
             ],
             [
              0.7777777777777778,
              "#fb9f3a"
             ],
             [
              0.8888888888888888,
              "#fdca26"
             ],
             [
              1,
              "#f0f921"
             ]
            ],
            "type": "heatmap"
           }
          ],
          "heatmapgl": [
           {
            "colorbar": {
             "outlinewidth": 0,
             "ticks": ""
            },
            "colorscale": [
             [
              0,
              "#0d0887"
             ],
             [
              0.1111111111111111,
              "#46039f"
             ],
             [
              0.2222222222222222,
              "#7201a8"
             ],
             [
              0.3333333333333333,
              "#9c179e"
             ],
             [
              0.4444444444444444,
              "#bd3786"
             ],
             [
              0.5555555555555556,
              "#d8576b"
             ],
             [
              0.6666666666666666,
              "#ed7953"
             ],
             [
              0.7777777777777778,
              "#fb9f3a"
             ],
             [
              0.8888888888888888,
              "#fdca26"
             ],
             [
              1,
              "#f0f921"
             ]
            ],
            "type": "heatmapgl"
           }
          ],
          "histogram": [
           {
            "marker": {
             "colorbar": {
              "outlinewidth": 0,
              "ticks": ""
             }
            },
            "type": "histogram"
           }
          ],
          "histogram2d": [
           {
            "colorbar": {
             "outlinewidth": 0,
             "ticks": ""
            },
            "colorscale": [
             [
              0,
              "#0d0887"
             ],
             [
              0.1111111111111111,
              "#46039f"
             ],
             [
              0.2222222222222222,
              "#7201a8"
             ],
             [
              0.3333333333333333,
              "#9c179e"
             ],
             [
              0.4444444444444444,
              "#bd3786"
             ],
             [
              0.5555555555555556,
              "#d8576b"
             ],
             [
              0.6666666666666666,
              "#ed7953"
             ],
             [
              0.7777777777777778,
              "#fb9f3a"
             ],
             [
              0.8888888888888888,
              "#fdca26"
             ],
             [
              1,
              "#f0f921"
             ]
            ],
            "type": "histogram2d"
           }
          ],
          "histogram2dcontour": [
           {
            "colorbar": {
             "outlinewidth": 0,
             "ticks": ""
            },
            "colorscale": [
             [
              0,
              "#0d0887"
             ],
             [
              0.1111111111111111,
              "#46039f"
             ],
             [
              0.2222222222222222,
              "#7201a8"
             ],
             [
              0.3333333333333333,
              "#9c179e"
             ],
             [
              0.4444444444444444,
              "#bd3786"
             ],
             [
              0.5555555555555556,
              "#d8576b"
             ],
             [
              0.6666666666666666,
              "#ed7953"
             ],
             [
              0.7777777777777778,
              "#fb9f3a"
             ],
             [
              0.8888888888888888,
              "#fdca26"
             ],
             [
              1,
              "#f0f921"
             ]
            ],
            "type": "histogram2dcontour"
           }
          ],
          "mesh3d": [
           {
            "colorbar": {
             "outlinewidth": 0,
             "ticks": ""
            },
            "type": "mesh3d"
           }
          ],
          "parcoords": [
           {
            "line": {
             "colorbar": {
              "outlinewidth": 0,
              "ticks": ""
             }
            },
            "type": "parcoords"
           }
          ],
          "pie": [
           {
            "automargin": true,
            "type": "pie"
           }
          ],
          "scatter": [
           {
            "marker": {
             "colorbar": {
              "outlinewidth": 0,
              "ticks": ""
             }
            },
            "type": "scatter"
           }
          ],
          "scatter3d": [
           {
            "line": {
             "colorbar": {
              "outlinewidth": 0,
              "ticks": ""
             }
            },
            "marker": {
             "colorbar": {
              "outlinewidth": 0,
              "ticks": ""
             }
            },
            "type": "scatter3d"
           }
          ],
          "scattercarpet": [
           {
            "marker": {
             "colorbar": {
              "outlinewidth": 0,
              "ticks": ""
             }
            },
            "type": "scattercarpet"
           }
          ],
          "scattergeo": [
           {
            "marker": {
             "colorbar": {
              "outlinewidth": 0,
              "ticks": ""
             }
            },
            "type": "scattergeo"
           }
          ],
          "scattergl": [
           {
            "marker": {
             "colorbar": {
              "outlinewidth": 0,
              "ticks": ""
             }
            },
            "type": "scattergl"
           }
          ],
          "scattermapbox": [
           {
            "marker": {
             "colorbar": {
              "outlinewidth": 0,
              "ticks": ""
             }
            },
            "type": "scattermapbox"
           }
          ],
          "scatterpolar": [
           {
            "marker": {
             "colorbar": {
              "outlinewidth": 0,
              "ticks": ""
             }
            },
            "type": "scatterpolar"
           }
          ],
          "scatterpolargl": [
           {
            "marker": {
             "colorbar": {
              "outlinewidth": 0,
              "ticks": ""
             }
            },
            "type": "scatterpolargl"
           }
          ],
          "scatterternary": [
           {
            "marker": {
             "colorbar": {
              "outlinewidth": 0,
              "ticks": ""
             }
            },
            "type": "scatterternary"
           }
          ],
          "surface": [
           {
            "colorbar": {
             "outlinewidth": 0,
             "ticks": ""
            },
            "colorscale": [
             [
              0,
              "#0d0887"
             ],
             [
              0.1111111111111111,
              "#46039f"
             ],
             [
              0.2222222222222222,
              "#7201a8"
             ],
             [
              0.3333333333333333,
              "#9c179e"
             ],
             [
              0.4444444444444444,
              "#bd3786"
             ],
             [
              0.5555555555555556,
              "#d8576b"
             ],
             [
              0.6666666666666666,
              "#ed7953"
             ],
             [
              0.7777777777777778,
              "#fb9f3a"
             ],
             [
              0.8888888888888888,
              "#fdca26"
             ],
             [
              1,
              "#f0f921"
             ]
            ],
            "type": "surface"
           }
          ],
          "table": [
           {
            "cells": {
             "fill": {
              "color": "#EBF0F8"
             },
             "line": {
              "color": "white"
             }
            },
            "header": {
             "fill": {
              "color": "#C8D4E3"
             },
             "line": {
              "color": "white"
             }
            },
            "type": "table"
           }
          ]
         },
         "layout": {
          "annotationdefaults": {
           "arrowcolor": "#2a3f5f",
           "arrowhead": 0,
           "arrowwidth": 1
          },
          "autotypenumbers": "strict",
          "coloraxis": {
           "colorbar": {
            "outlinewidth": 0,
            "ticks": ""
           }
          },
          "colorscale": {
           "diverging": [
            [
             0,
             "#8e0152"
            ],
            [
             0.1,
             "#c51b7d"
            ],
            [
             0.2,
             "#de77ae"
            ],
            [
             0.3,
             "#f1b6da"
            ],
            [
             0.4,
             "#fde0ef"
            ],
            [
             0.5,
             "#f7f7f7"
            ],
            [
             0.6,
             "#e6f5d0"
            ],
            [
             0.7,
             "#b8e186"
            ],
            [
             0.8,
             "#7fbc41"
            ],
            [
             0.9,
             "#4d9221"
            ],
            [
             1,
             "#276419"
            ]
           ],
           "sequential": [
            [
             0,
             "#0d0887"
            ],
            [
             0.1111111111111111,
             "#46039f"
            ],
            [
             0.2222222222222222,
             "#7201a8"
            ],
            [
             0.3333333333333333,
             "#9c179e"
            ],
            [
             0.4444444444444444,
             "#bd3786"
            ],
            [
             0.5555555555555556,
             "#d8576b"
            ],
            [
             0.6666666666666666,
             "#ed7953"
            ],
            [
             0.7777777777777778,
             "#fb9f3a"
            ],
            [
             0.8888888888888888,
             "#fdca26"
            ],
            [
             1,
             "#f0f921"
            ]
           ],
           "sequentialminus": [
            [
             0,
             "#0d0887"
            ],
            [
             0.1111111111111111,
             "#46039f"
            ],
            [
             0.2222222222222222,
             "#7201a8"
            ],
            [
             0.3333333333333333,
             "#9c179e"
            ],
            [
             0.4444444444444444,
             "#bd3786"
            ],
            [
             0.5555555555555556,
             "#d8576b"
            ],
            [
             0.6666666666666666,
             "#ed7953"
            ],
            [
             0.7777777777777778,
             "#fb9f3a"
            ],
            [
             0.8888888888888888,
             "#fdca26"
            ],
            [
             1,
             "#f0f921"
            ]
           ]
          },
          "colorway": [
           "#636efa",
           "#EF553B",
           "#00cc96",
           "#ab63fa",
           "#FFA15A",
           "#19d3f3",
           "#FF6692",
           "#B6E880",
           "#FF97FF",
           "#FECB52"
          ],
          "font": {
           "color": "#2a3f5f"
          },
          "geo": {
           "bgcolor": "white",
           "lakecolor": "white",
           "landcolor": "#E5ECF6",
           "showlakes": true,
           "showland": true,
           "subunitcolor": "white"
          },
          "hoverlabel": {
           "align": "left"
          },
          "hovermode": "closest",
          "mapbox": {
           "style": "light"
          },
          "paper_bgcolor": "white",
          "plot_bgcolor": "#E5ECF6",
          "polar": {
           "angularaxis": {
            "gridcolor": "white",
            "linecolor": "white",
            "ticks": ""
           },
           "bgcolor": "#E5ECF6",
           "radialaxis": {
            "gridcolor": "white",
            "linecolor": "white",
            "ticks": ""
           }
          },
          "scene": {
           "xaxis": {
            "backgroundcolor": "#E5ECF6",
            "gridcolor": "white",
            "gridwidth": 2,
            "linecolor": "white",
            "showbackground": true,
            "ticks": "",
            "zerolinecolor": "white"
           },
           "yaxis": {
            "backgroundcolor": "#E5ECF6",
            "gridcolor": "white",
            "gridwidth": 2,
            "linecolor": "white",
            "showbackground": true,
            "ticks": "",
            "zerolinecolor": "white"
           },
           "zaxis": {
            "backgroundcolor": "#E5ECF6",
            "gridcolor": "white",
            "gridwidth": 2,
            "linecolor": "white",
            "showbackground": true,
            "ticks": "",
            "zerolinecolor": "white"
           }
          },
          "shapedefaults": {
           "line": {
            "color": "#2a3f5f"
           }
          },
          "ternary": {
           "aaxis": {
            "gridcolor": "white",
            "linecolor": "white",
            "ticks": ""
           },
           "baxis": {
            "gridcolor": "white",
            "linecolor": "white",
            "ticks": ""
           },
           "bgcolor": "#E5ECF6",
           "caxis": {
            "gridcolor": "white",
            "linecolor": "white",
            "ticks": ""
           }
          },
          "title": {
           "x": 0.05
          },
          "xaxis": {
           "automargin": true,
           "gridcolor": "white",
           "linecolor": "white",
           "ticks": "",
           "title": {
            "standoff": 15
           },
           "zerolinecolor": "white",
           "zerolinewidth": 2
          },
          "yaxis": {
           "automargin": true,
           "gridcolor": "white",
           "linecolor": "white",
           "ticks": "",
           "title": {
            "standoff": 15
           },
           "zerolinecolor": "white",
           "zerolinewidth": 2
          }
         }
        }
       }
      },
      "text/html": [
       "<div>                            <div id=\"9de3bd66-a4e1-4968-b4df-6bdc53849418\" class=\"plotly-graph-div\" style=\"height:525px; width:100%;\"></div>            <script type=\"text/javascript\">                require([\"plotly\"], function(Plotly) {                    window.PLOTLYENV=window.PLOTLYENV || {};                                    if (document.getElementById(\"9de3bd66-a4e1-4968-b4df-6bdc53849418\")) {                    Plotly.newPlot(                        \"9de3bd66-a4e1-4968-b4df-6bdc53849418\",                        [{\"hovertemplate\": \"color=AC_1<br>symbol=AC_1<br>x=%{x}<br>y=%{y}<br>z=%{z}<extra></extra>\", \"legendgroup\": \"AC_1, AC_1\", \"marker\": {\"color\": \"#2E91E5\", \"size\": 5, \"symbol\": \"circle\"}, \"mode\": \"markers\", \"name\": \"AC_1, AC_1\", \"scene\": \"scene\", \"showlegend\": true, \"type\": \"scatter3d\", \"x\": [3.698540804829553, -1.7937750004222497, -1.1308798630769623], \"y\": [0.6052675887821403, -0.7777307090895699, -0.6440253787017853], \"z\": [3.7415123025850363, -1.5231448595416188, 0.3217570942031403]}, {\"hovertemplate\": \"color=AC_2<br>symbol=AC_2<br>x=%{x}<br>y=%{y}<br>z=%{z}<extra></extra>\", \"legendgroup\": \"AC_2, AC_2\", \"marker\": {\"color\": \"#E15F99\", \"size\": 5, \"symbol\": \"diamond\"}, \"mode\": \"markers\", \"name\": \"AC_2, AC_2\", \"scene\": \"scene\", \"showlegend\": true, \"type\": \"scatter3d\", \"x\": [-2.1030709766407254, -1.798484681156225, -1.1657774554102067], \"y\": [0.45225309443713146, 0.28973873054435006, 0.5004797244682042], \"z\": [0.9969397905697039, 1.435048936427103, 1.5001681003781677]}, {\"hovertemplate\": \"color=AC_3<br>symbol=AC_3<br>x=%{x}<br>y=%{y}<br>z=%{z}<extra></extra>\", \"legendgroup\": \"AC_3, AC_3\", \"marker\": {\"color\": \"#1CA71C\", \"size\": 5, \"symbol\": \"square\"}, \"mode\": \"markers\", \"name\": \"AC_3, AC_3\", \"scene\": \"scene\", \"showlegend\": true, \"type\": \"scatter3d\", \"x\": [0.011752951176686253, -1.0645084276584984, -0.5609106854515972], \"y\": [-3.2292170686070687, -2.198334618184574, -1.4544465970334886], \"z\": [2.0241083693772515, 0.8176762156061909, 1.6569487262683442]}, {\"hovertemplate\": \"color=AC_4<br>symbol=AC_4<br>x=%{x}<br>y=%{y}<br>z=%{z}<extra></extra>\", \"legendgroup\": \"AC_4, AC_4\", \"marker\": {\"color\": \"#FB0D0D\", \"size\": 5, \"symbol\": \"x\"}, \"mode\": \"markers\", \"name\": \"AC_4, AC_4\", \"scene\": \"scene\", \"showlegend\": true, \"type\": \"scatter3d\", \"x\": [-1.6909423681829205, -1.8383450342159944, -2.598188392620704], \"y\": [0.6021852473425795, 0.179106675735372, 0.6298121840182717], \"z\": [-0.10356618574839964, -0.33417130557489105, -0.7961379590670506]}, {\"hovertemplate\": \"color=AC_5<br>symbol=AC_5<br>x=%{x}<br>y=%{y}<br>z=%{z}<extra></extra>\", \"legendgroup\": \"AC_5, AC_5\", \"marker\": {\"color\": \"#DA16FF\", \"size\": 5, \"symbol\": \"cross\"}, \"mode\": \"markers\", \"name\": \"AC_5, AC_5\", \"scene\": \"scene\", \"showlegend\": true, \"type\": \"scatter3d\", \"x\": [3.4484946163332424, 3.3524853676628332, 3.897876309052954], \"y\": [1.1887170888984735, 1.6810375279930403, 0.3685541504535022], \"z\": [1.4392195460223633, 0.6358998058523987, 0.5660152290409034]}, {\"hovertemplate\": \"color=CR_1<br>symbol=CR_1<br>x=%{x}<br>y=%{y}<br>z=%{z}<extra></extra>\", \"legendgroup\": \"CR_1, CR_1\", \"marker\": {\"color\": \"#222A2A\", \"size\": 5, \"symbol\": \"circle\"}, \"mode\": \"markers\", \"name\": \"CR_1, CR_1\", \"scene\": \"scene\", \"showlegend\": true, \"type\": \"scatter3d\", \"x\": [3.067797984621883, 4.807395599743155, 1.5345924533276465], \"y\": [0.599515020272432, 2.2922782400339385, 0.8643679075766338], \"z\": [2.2401092965283516, 2.316336343601455, 1.2921809647713083]}, {\"hovertemplate\": \"color=CR_2<br>symbol=CR_2<br>x=%{x}<br>y=%{y}<br>z=%{z}<extra></extra>\", \"legendgroup\": \"CR_2, CR_2\", \"marker\": {\"color\": \"#B68100\", \"size\": 5, \"symbol\": \"diamond\"}, \"mode\": \"markers\", \"name\": \"CR_2, CR_2\", \"scene\": \"scene\", \"showlegend\": true, \"type\": \"scatter3d\", \"x\": [0.684428769946192, -0.5423638494016336, 0.7885329716643822], \"y\": [-2.204976661427884, -1.5063830557848732, -3.426010649295561], \"z\": [0.6498872977735534, 0.18217736309190308, 1.014652939444868]}, {\"hovertemplate\": \"color=CR_3<br>symbol=CR_3<br>x=%{x}<br>y=%{y}<br>z=%{z}<extra></extra>\", \"legendgroup\": \"CR_3, CR_3\", \"marker\": {\"color\": \"#750D86\", \"size\": 5, \"symbol\": \"square\"}, \"mode\": \"markers\", \"name\": \"CR_3, CR_3\", \"scene\": \"scene\", \"showlegend\": true, \"type\": \"scatter3d\", \"x\": [-1.59811605437469, -1.051242394505911, -1.1397652310740694], \"y\": [-0.8448636327258631, -2.121025962779364, -1.620821692465779], \"z\": [-2.76408831449787, -2.3961322857910017, -2.4772874012023576]}, {\"hovertemplate\": \"color=CR_4<br>symbol=CR_4<br>x=%{x}<br>y=%{y}<br>z=%{z}<extra></extra>\", \"legendgroup\": \"CR_4, CR_4\", \"marker\": {\"color\": \"#EB663B\", \"size\": 5, \"symbol\": \"x\"}, \"mode\": \"markers\", \"name\": \"CR_4, CR_4\", \"scene\": \"scene\", \"showlegend\": true, \"type\": \"scatter3d\", \"x\": [-2.5054454485075204, -2.044330838614166, -0.5828704365789651], \"y\": [0.4648053534381947, 1.2067091966241643, -2.1394172543725145], \"z\": [0.5184796175576155, 0.6299828001530724, 2.7723294194652386]}, {\"hovertemplate\": \"color=CR_5<br>symbol=CR_5<br>x=%{x}<br>y=%{y}<br>z=%{z}<extra></extra>\", \"legendgroup\": \"CR_5, CR_5\", \"marker\": {\"color\": \"#511CFB\", \"size\": 5, \"symbol\": \"cross\"}, \"mode\": \"markers\", \"name\": \"CR_5, CR_5\", \"scene\": \"scene\", \"showlegend\": true, \"type\": \"scatter3d\", \"x\": [2.32921460324936, 3.0123262757937215, 3.5322596876906354], \"y\": [2.397084286014364, 2.0458404362430858, 1.1590882732355632], \"z\": [-1.5207856861062228, -1.477157451868943, -0.5945020844118014]}, {\"hovertemplate\": \"color=CR_6<br>symbol=CR_6<br>x=%{x}<br>y=%{y}<br>z=%{z}<extra></extra>\", \"legendgroup\": \"CR_6, CR_6\", \"marker\": {\"color\": \"#00A08B\", \"size\": 5, \"symbol\": \"circle\"}, \"mode\": \"markers\", \"name\": \"CR_6, CR_6\", \"scene\": \"scene\", \"showlegend\": true, \"type\": \"scatter3d\", \"x\": [-1.0194610552142593, 4.516723591007782, 2.141218392208489], \"y\": [-0.8434011796929116, -3.082447359772651, -1.8562154884941153], \"z\": [-2.3990811454878043, -1.4691836543769938, -1.1693153469972033]}, {\"hovertemplate\": \"color=CR_7<br>symbol=CR_7<br>x=%{x}<br>y=%{y}<br>z=%{z}<extra></extra>\", \"legendgroup\": \"CR_7, CR_7\", \"marker\": {\"color\": \"#FB00D1\", \"size\": 5, \"symbol\": \"diamond\"}, \"mode\": \"markers\", \"name\": \"CR_7, CR_7\", \"scene\": \"scene\", \"showlegend\": true, \"type\": \"scatter3d\", \"x\": [-0.4483121486619451, -1.3115836471526057, -1.2090895080381296], \"y\": [0.946068499715056, 0.16999383638672885, 0.7118286575989146], \"z\": [-0.6943329811918617, -0.46927108625357644, -0.615622822439111]}, {\"hovertemplate\": \"color=CR_8<br>symbol=CR_8<br>x=%{x}<br>y=%{y}<br>z=%{z}<extra></extra>\", \"legendgroup\": \"CR_8, CR_8\", \"marker\": {\"color\": \"#FC0080\", \"size\": 5, \"symbol\": \"square\"}, \"mode\": \"markers\", \"name\": \"CR_8, CR_8\", \"scene\": \"scene\", \"showlegend\": true, \"type\": \"scatter3d\", \"x\": [-1.738805817097985, -1.5837319498793783, -1.3586351844633342], \"y\": [2.5750219900068463, 2.749479200270836, 4.921709616866432], \"z\": [1.2045631696893737, 0.7516305884793821, 2.3861669690044067]}, {\"hovertemplate\": \"color=CR_9<br>symbol=CR_9<br>x=%{x}<br>y=%{y}<br>z=%{z}<extra></extra>\", \"legendgroup\": \"CR_9, CR_9\", \"marker\": {\"color\": \"#B2828D\", \"size\": 5, \"symbol\": \"x\"}, \"mode\": \"markers\", \"name\": \"CR_9, CR_9\", \"scene\": \"scene\", \"showlegend\": true, \"type\": \"scatter3d\", \"x\": [-0.38688963095108886, -0.43827633017240564, 1.4990879301874291], \"y\": [-1.0243939904555337, -1.5546408194643093, -0.5938067633987089], \"z\": [0.5494300913664961, 1.6391322586171828, 0.6483024761288875]}, {\"hovertemplate\": \"color=CR_10<br>symbol=CR_10<br>x=%{x}<br>y=%{y}<br>z=%{z}<extra></extra>\", \"legendgroup\": \"CR_10, CR_10\", \"marker\": {\"color\": \"#6C7C32\", \"size\": 5, \"symbol\": \"cross\"}, \"mode\": \"markers\", \"name\": \"CR_10, CR_10\", \"scene\": \"scene\", \"showlegend\": true, \"type\": \"scatter3d\", \"x\": [0.026476409088566234, -0.21777948932172042, -0.20461137081846437], \"y\": [0.3228868266465492, -0.0687316113532664, 0.22688572698749915], \"z\": [-1.1763329774675377, -1.0608820589687828, -0.8423014187376423]}, {\"hovertemplate\": \"color=CR_11<br>symbol=CR_11<br>x=%{x}<br>y=%{y}<br>z=%{z}<extra></extra>\", \"legendgroup\": \"CR_11, CR_11\", \"marker\": {\"color\": \"#778AAE\", \"size\": 5, \"symbol\": \"circle\"}, \"mode\": \"markers\", \"name\": \"CR_11, CR_11\", \"scene\": \"scene\", \"showlegend\": true, \"type\": \"scatter3d\", \"x\": [1.3879328416336514, 0.30367969834537784, -0.08703195358092468], \"y\": [0.1506200030483118, -0.026628528547806025, 0.8280602935733233], \"z\": [0.9530925874438234, 2.6636498483044253, 1.2450708033683136]}, {\"hovertemplate\": \"color=CR_12<br>symbol=CR_12<br>x=%{x}<br>y=%{y}<br>z=%{z}<extra></extra>\", \"legendgroup\": \"CR_12, CR_12\", \"marker\": {\"color\": \"#862A16\", \"size\": 5, \"symbol\": \"diamond\"}, \"mode\": \"markers\", \"name\": \"CR_12, CR_12\", \"scene\": \"scene\", \"showlegend\": true, \"type\": \"scatter3d\", \"x\": [-1.2957331248987565, -1.0984324390308302, -0.2785319907747631], \"y\": [0.29698261304068874, -0.3447370484296591, 0.23498771441225283], \"z\": [0.5516394906725508, 0.7448607907846819, 0.15494722846868922]}, {\"hovertemplate\": \"color=CR_13<br>symbol=CR_13<br>x=%{x}<br>y=%{y}<br>z=%{z}<extra></extra>\", \"legendgroup\": \"CR_13, CR_13\", \"marker\": {\"color\": \"#A777F1\", \"size\": 5, \"symbol\": \"square\"}, \"mode\": \"markers\", \"name\": \"CR_13, CR_13\", \"scene\": \"scene\", \"showlegend\": true, \"type\": \"scatter3d\", \"x\": [-0.964488866169761, -0.060962147240835325, 3.533103835360584], \"y\": [0.5725067206648833, 0.45629977141497846, -1.9517808975825788], \"z\": [-2.253243969894688, -2.438325153290835, -1.5398369176669302]}, {\"hovertemplate\": \"color=CR_14<br>symbol=CR_14<br>x=%{x}<br>y=%{y}<br>z=%{z}<extra></extra>\", \"legendgroup\": \"CR_14, CR_14\", \"marker\": {\"color\": \"#620042\", \"size\": 5, \"symbol\": \"x\"}, \"mode\": \"markers\", \"name\": \"CR_14, CR_14\", \"scene\": \"scene\", \"showlegend\": true, \"type\": \"scatter3d\", \"x\": [-1.5457623676137433, -1.5179963694970728, -0.9631532580744555], \"y\": [0.08269327036284302, -0.5304704686683983, 0.2165819992567862], \"z\": [0.2565945151381405, 0.080622438860839, 0.42661583033856615]}, {\"hovertemplate\": \"color=CR_15<br>symbol=CR_15<br>x=%{x}<br>y=%{y}<br>z=%{z}<extra></extra>\", \"legendgroup\": \"CR_15, CR_15\", \"marker\": {\"color\": \"#1616A7\", \"size\": 5, \"symbol\": \"cross\"}, \"mode\": \"markers\", \"name\": \"CR_15, CR_15\", \"scene\": \"scene\", \"showlegend\": true, \"type\": \"scatter3d\", \"x\": [-0.3460656454083835, 0.8732106333983156, 0.9983731749041986], \"y\": [0.5223713800130411, 0.3989966428692573, 0.01704092675270949], \"z\": [-1.7597079566138054, -1.8604484219601347, -3.042986524852883]}, {\"hovertemplate\": \"color=CR_16<br>symbol=CR_16<br>x=%{x}<br>y=%{y}<br>z=%{z}<extra></extra>\", \"legendgroup\": \"CR_16, CR_16\", \"marker\": {\"color\": \"#DA60CA\", \"size\": 5, \"symbol\": \"circle\"}, \"mode\": \"markers\", \"name\": \"CR_16, CR_16\", \"scene\": \"scene\", \"showlegend\": true, \"type\": \"scatter3d\", \"x\": [4.991139738454325, 4.556277851126829, 4.948914169963602], \"y\": [-1.193804889334722, -0.6041178067104753, 1.3727905042029485], \"z\": [-0.24292786841955144, 1.4655946236132897, -0.3317857423110939]}, {\"hovertemplate\": \"color=CR_17<br>symbol=CR_17<br>x=%{x}<br>y=%{y}<br>z=%{z}<extra></extra>\", \"legendgroup\": \"CR_17, CR_17\", \"marker\": {\"color\": \"#6C4516\", \"size\": 5, \"symbol\": \"diamond\"}, \"mode\": \"markers\", \"name\": \"CR_17, CR_17\", \"scene\": \"scene\", \"showlegend\": true, \"type\": \"scatter3d\", \"x\": [-0.8991639127050712, -0.992095004809727, -1.0465547777543749], \"y\": [-0.02275724699588907, 0.2006311641163381, 0.888135919109264], \"z\": [0.3044479980136239, -0.20460569023070407, -0.20046285205173123]}, {\"hovertemplate\": \"color=CR_18<br>symbol=CR_18<br>x=%{x}<br>y=%{y}<br>z=%{z}<extra></extra>\", \"legendgroup\": \"CR_18, CR_18\", \"marker\": {\"color\": \"#0D2A63\", \"size\": 5, \"symbol\": \"square\"}, \"mode\": \"markers\", \"name\": \"CR_18, CR_18\", \"scene\": \"scene\", \"showlegend\": true, \"type\": \"scatter3d\", \"x\": [0.6111273812934602, 1.6150000267731666, 1.8749806812786782], \"y\": [1.460811009280338, 1.0273093450204376, 0.7246959340123038], \"z\": [-0.7306064050037907, -0.9162850984010187, -1.8431423814878074]}, {\"hovertemplate\": \"color=CR_19<br>symbol=CR_19<br>x=%{x}<br>y=%{y}<br>z=%{z}<extra></extra>\", \"legendgroup\": \"CR_19, CR_19\", \"marker\": {\"color\": \"#AF0038\", \"size\": 5, \"symbol\": \"x\"}, \"mode\": \"markers\", \"name\": \"CR_19, CR_19\", \"scene\": \"scene\", \"showlegend\": true, \"type\": \"scatter3d\", \"x\": [-2.8029893163143993, -2.5065090240851924, -2.5046711156913766], \"y\": [0.8371577718860354, 0.8389000540389727, 0.7876718457609913], \"z\": [0.22085479553851062, 0.05134862444150817, 0.11049945182427807]}, {\"hovertemplate\": \"color=CR_20<br>symbol=CR_20<br>x=%{x}<br>y=%{y}<br>z=%{z}<extra></extra>\", \"legendgroup\": \"CR_20, CR_20\", \"marker\": {\"color\": \"#2E91E5\", \"size\": 5, \"symbol\": \"cross\"}, \"mode\": \"markers\", \"name\": \"CR_20, CR_20\", \"scene\": \"scene\", \"showlegend\": true, \"type\": \"scatter3d\", \"x\": [-2.5620273977152004, -2.46042694732095, -2.514358607050385], \"y\": [0.08335180307489343, 0.11533314421036928, 0.2966904770987396], \"z\": [1.802850357032593, 1.3272762986702067, 1.616018222994349]}, {\"hovertemplate\": \"color=GH_1<br>symbol=GH_1<br>x=%{x}<br>y=%{y}<br>z=%{z}<extra></extra>\", \"legendgroup\": \"GH_1, GH_1\", \"marker\": {\"color\": \"#E15F99\", \"size\": 5, \"symbol\": \"circle\"}, \"mode\": \"markers\", \"name\": \"GH_1, GH_1\", \"scene\": \"scene\", \"showlegend\": true, \"type\": \"scatter3d\", \"x\": [3.8343336295934543, 0.7462169060645697, 1.2593692361937365], \"y\": [-0.44744297891933554, -0.16734529083203958, 1.379371173476034], \"z\": [0.33125206196747464, -0.2882024580435313, -1.7285376679165254]}, {\"hovertemplate\": \"color=GH_2<br>symbol=GH_2<br>x=%{x}<br>y=%{y}<br>z=%{z}<extra></extra>\", \"legendgroup\": \"GH_2, GH_2\", \"marker\": {\"color\": \"#1CA71C\", \"size\": 5, \"symbol\": \"diamond\"}, \"mode\": \"markers\", \"name\": \"GH_2, GH_2\", \"scene\": \"scene\", \"showlegend\": true, \"type\": \"scatter3d\", \"x\": [-0.10781324962442793, -0.8224448413814238, 0.4682761979305144], \"y\": [-1.3153932148430487, 0.35742945418340805, -4.744902678668414], \"z\": [-0.4243960124298644, -0.3342515804445683, 0.9541611899323165]}, {\"hovertemplate\": \"color=GH_3<br>symbol=GH_3<br>x=%{x}<br>y=%{y}<br>z=%{z}<extra></extra>\", \"legendgroup\": \"GH_3, GH_3\", \"marker\": {\"color\": \"#FB0D0D\", \"size\": 5, \"symbol\": \"square\"}, \"mode\": \"markers\", \"name\": \"GH_3, GH_3\", \"scene\": \"scene\", \"showlegend\": true, \"type\": \"scatter3d\", \"x\": [-0.40871260903790785, -2.10345683124121, -0.22306222420596694], \"y\": [-1.7945649055732422, -0.4096663387173764, -0.792102459789833], \"z\": [0.383870426194388, -1.7254492567352053, -2.539985977035085]}, {\"hovertemplate\": \"color=GH_4<br>symbol=GH_4<br>x=%{x}<br>y=%{y}<br>z=%{z}<extra></extra>\", \"legendgroup\": \"GH_4, GH_4\", \"marker\": {\"color\": \"#DA16FF\", \"size\": 5, \"symbol\": \"x\"}, \"mode\": \"markers\", \"name\": \"GH_4, GH_4\", \"scene\": \"scene\", \"showlegend\": true, \"type\": \"scatter3d\", \"x\": [2.2885340774120886, 0.43525524047363084, -2.326025051683603], \"y\": [1.137985553467281, -1.8178178517121504, 0.6274542386738875], \"z\": [0.4057698603665918, 1.5886531475095313, 1.0270175110918311]}, {\"hovertemplate\": \"color=GH_5<br>symbol=GH_5<br>x=%{x}<br>y=%{y}<br>z=%{z}<extra></extra>\", \"legendgroup\": \"GH_5, GH_5\", \"marker\": {\"color\": \"#222A2A\", \"size\": 5, \"symbol\": \"cross\"}, \"mode\": \"markers\", \"name\": \"GH_5, GH_5\", \"scene\": \"scene\", \"showlegend\": true, \"type\": \"scatter3d\", \"x\": [-1.2370426480305112, 0.03173223075930081, -1.4638176207356384], \"y\": [0.8669965247735899, 1.222001727724844, 1.6645230002324198], \"z\": [-0.5257223184213203, -0.7828609999074364, -1.2432108846472993]}, {\"hovertemplate\": \"color=GH_6<br>symbol=GH_6<br>x=%{x}<br>y=%{y}<br>z=%{z}<extra></extra>\", \"legendgroup\": \"GH_6, GH_6\", \"marker\": {\"color\": \"#B68100\", \"size\": 5, \"symbol\": \"circle\"}, \"mode\": \"markers\", \"name\": \"GH_6, GH_6\", \"scene\": \"scene\", \"showlegend\": true, \"type\": \"scatter3d\", \"x\": [-1.5690474928713165, -1.9232772924637658, -1.9903126293157665], \"y\": [-0.5182420665758466, -0.41600045301164434, -0.6124788137160817], \"z\": [0.49855986217825893, 0.5606789010857666, 0.08252970408441561]}, {\"hovertemplate\": \"color=GH_7<br>symbol=GH_7<br>x=%{x}<br>y=%{y}<br>z=%{z}<extra></extra>\", \"legendgroup\": \"GH_7, GH_7\", \"marker\": {\"color\": \"#750D86\", \"size\": 5, \"symbol\": \"diamond\"}, \"mode\": \"markers\", \"name\": \"GH_7, GH_7\", \"scene\": \"scene\", \"showlegend\": true, \"type\": \"scatter3d\", \"x\": [-0.6834967601171289, -1.9082792913009285, -0.8738391369465777], \"y\": [-2.8741301160292516, 0.16109400101383559, 1.2130908466854997], \"z\": [0.4189121058622523, 0.6527013115595438, 0.06950198948012365]}, {\"hovertemplate\": \"color=GH_8<br>symbol=GH_8<br>x=%{x}<br>y=%{y}<br>z=%{z}<extra></extra>\", \"legendgroup\": \"GH_8, GH_8\", \"marker\": {\"color\": \"#EB663B\", \"size\": 5, \"symbol\": \"square\"}, \"mode\": \"markers\", \"name\": \"GH_8, GH_8\", \"scene\": \"scene\", \"showlegend\": true, \"type\": \"scatter3d\", \"x\": [1.3300969058571384, 0.819273365889031, 1.5232759533049935], \"y\": [1.2489636182159243, 2.8634395004751894, -0.08167453782041438], \"z\": [-1.6530711804892837, -0.8468935943704962, -1.5779075726364662]}, {\"hovertemplate\": \"color=GH_9<br>symbol=GH_9<br>x=%{x}<br>y=%{y}<br>z=%{z}<extra></extra>\", \"legendgroup\": \"GH_9, GH_9\", \"marker\": {\"color\": \"#511CFB\", \"size\": 5, \"symbol\": \"x\"}, \"mode\": \"markers\", \"name\": \"GH_9, GH_9\", \"scene\": \"scene\", \"showlegend\": true, \"type\": \"scatter3d\", \"x\": [-0.4220317674962246, -0.10991755352893673, -0.27494179417189146], \"y\": [0.24883986560718774, -0.8441757173969737, -1.530209942316751], \"z\": [-0.3856306903414047, -0.8262455181838043, -0.4908667177975107]}, {\"hovertemplate\": \"color=GH_10<br>symbol=GH_10<br>x=%{x}<br>y=%{y}<br>z=%{z}<extra></extra>\", \"legendgroup\": \"GH_10, GH_10\", \"marker\": {\"color\": \"#00A08B\", \"size\": 5, \"symbol\": \"cross\"}, \"mode\": \"markers\", \"name\": \"GH_10, GH_10\", \"scene\": \"scene\", \"showlegend\": true, \"type\": \"scatter3d\", \"x\": [-0.061019771129111985, -0.44198114699616425, -0.2556412459160929], \"y\": [-0.8195032261995024, -0.4336339139441646, -0.06805300690469077], \"z\": [0.640906475544864, 0.5231463200854064, 0.5765939528605973]}],                        {\"legend\": {\"title\": {\"text\": \"color, symbol\"}, \"tracegroupgap\": 0}, \"margin\": {\"b\": 0, \"l\": 0, \"r\": 0, \"t\": 0}, \"scene\": {\"domain\": {\"x\": [0.0, 1.0], \"y\": [0.0, 1.0]}, \"xaxis\": {\"title\": {\"text\": \"x\"}}, \"yaxis\": {\"title\": {\"text\": \"y\"}}, \"zaxis\": {\"title\": {\"text\": \"z\"}}}, \"template\": {\"data\": {\"bar\": [{\"error_x\": {\"color\": \"#2a3f5f\"}, \"error_y\": {\"color\": \"#2a3f5f\"}, \"marker\": {\"line\": {\"color\": \"#E5ECF6\", \"width\": 0.5}}, \"type\": \"bar\"}], \"barpolar\": [{\"marker\": {\"line\": {\"color\": \"#E5ECF6\", \"width\": 0.5}}, \"type\": \"barpolar\"}], \"carpet\": [{\"aaxis\": {\"endlinecolor\": \"#2a3f5f\", \"gridcolor\": \"white\", \"linecolor\": \"white\", \"minorgridcolor\": \"white\", \"startlinecolor\": \"#2a3f5f\"}, \"baxis\": {\"endlinecolor\": \"#2a3f5f\", \"gridcolor\": \"white\", \"linecolor\": \"white\", \"minorgridcolor\": \"white\", \"startlinecolor\": \"#2a3f5f\"}, \"type\": \"carpet\"}], \"choropleth\": [{\"colorbar\": {\"outlinewidth\": 0, \"ticks\": \"\"}, \"type\": \"choropleth\"}], \"contour\": [{\"colorbar\": {\"outlinewidth\": 0, \"ticks\": \"\"}, \"colorscale\": [[0.0, \"#0d0887\"], [0.1111111111111111, \"#46039f\"], [0.2222222222222222, \"#7201a8\"], [0.3333333333333333, \"#9c179e\"], [0.4444444444444444, \"#bd3786\"], [0.5555555555555556, \"#d8576b\"], [0.6666666666666666, \"#ed7953\"], [0.7777777777777778, \"#fb9f3a\"], [0.8888888888888888, \"#fdca26\"], [1.0, \"#f0f921\"]], \"type\": \"contour\"}], \"contourcarpet\": [{\"colorbar\": {\"outlinewidth\": 0, \"ticks\": \"\"}, \"type\": \"contourcarpet\"}], \"heatmap\": [{\"colorbar\": {\"outlinewidth\": 0, \"ticks\": \"\"}, \"colorscale\": [[0.0, \"#0d0887\"], [0.1111111111111111, \"#46039f\"], [0.2222222222222222, \"#7201a8\"], [0.3333333333333333, \"#9c179e\"], [0.4444444444444444, \"#bd3786\"], [0.5555555555555556, \"#d8576b\"], [0.6666666666666666, \"#ed7953\"], [0.7777777777777778, \"#fb9f3a\"], [0.8888888888888888, \"#fdca26\"], [1.0, \"#f0f921\"]], \"type\": \"heatmap\"}], \"heatmapgl\": [{\"colorbar\": {\"outlinewidth\": 0, \"ticks\": \"\"}, \"colorscale\": [[0.0, \"#0d0887\"], [0.1111111111111111, \"#46039f\"], [0.2222222222222222, \"#7201a8\"], [0.3333333333333333, \"#9c179e\"], [0.4444444444444444, \"#bd3786\"], [0.5555555555555556, \"#d8576b\"], [0.6666666666666666, \"#ed7953\"], [0.7777777777777778, \"#fb9f3a\"], [0.8888888888888888, \"#fdca26\"], [1.0, \"#f0f921\"]], \"type\": \"heatmapgl\"}], \"histogram\": [{\"marker\": {\"colorbar\": {\"outlinewidth\": 0, \"ticks\": \"\"}}, \"type\": \"histogram\"}], \"histogram2d\": [{\"colorbar\": {\"outlinewidth\": 0, \"ticks\": \"\"}, \"colorscale\": [[0.0, \"#0d0887\"], [0.1111111111111111, \"#46039f\"], [0.2222222222222222, \"#7201a8\"], [0.3333333333333333, \"#9c179e\"], [0.4444444444444444, \"#bd3786\"], [0.5555555555555556, \"#d8576b\"], [0.6666666666666666, \"#ed7953\"], [0.7777777777777778, \"#fb9f3a\"], [0.8888888888888888, \"#fdca26\"], [1.0, \"#f0f921\"]], \"type\": \"histogram2d\"}], \"histogram2dcontour\": [{\"colorbar\": {\"outlinewidth\": 0, \"ticks\": \"\"}, \"colorscale\": [[0.0, \"#0d0887\"], [0.1111111111111111, \"#46039f\"], [0.2222222222222222, \"#7201a8\"], [0.3333333333333333, \"#9c179e\"], [0.4444444444444444, \"#bd3786\"], [0.5555555555555556, \"#d8576b\"], [0.6666666666666666, \"#ed7953\"], [0.7777777777777778, \"#fb9f3a\"], [0.8888888888888888, \"#fdca26\"], [1.0, \"#f0f921\"]], \"type\": \"histogram2dcontour\"}], \"mesh3d\": [{\"colorbar\": {\"outlinewidth\": 0, \"ticks\": \"\"}, \"type\": \"mesh3d\"}], \"parcoords\": [{\"line\": {\"colorbar\": {\"outlinewidth\": 0, \"ticks\": \"\"}}, \"type\": \"parcoords\"}], \"pie\": [{\"automargin\": true, \"type\": \"pie\"}], \"scatter\": [{\"marker\": {\"colorbar\": {\"outlinewidth\": 0, \"ticks\": \"\"}}, \"type\": \"scatter\"}], \"scatter3d\": [{\"line\": {\"colorbar\": {\"outlinewidth\": 0, \"ticks\": \"\"}}, \"marker\": {\"colorbar\": {\"outlinewidth\": 0, \"ticks\": \"\"}}, \"type\": \"scatter3d\"}], \"scattercarpet\": [{\"marker\": {\"colorbar\": {\"outlinewidth\": 0, \"ticks\": \"\"}}, \"type\": \"scattercarpet\"}], \"scattergeo\": [{\"marker\": {\"colorbar\": {\"outlinewidth\": 0, \"ticks\": \"\"}}, \"type\": \"scattergeo\"}], \"scattergl\": [{\"marker\": {\"colorbar\": {\"outlinewidth\": 0, \"ticks\": \"\"}}, \"type\": \"scattergl\"}], \"scattermapbox\": [{\"marker\": {\"colorbar\": {\"outlinewidth\": 0, \"ticks\": \"\"}}, \"type\": \"scattermapbox\"}], \"scatterpolar\": [{\"marker\": {\"colorbar\": {\"outlinewidth\": 0, \"ticks\": \"\"}}, \"type\": \"scatterpolar\"}], \"scatterpolargl\": [{\"marker\": {\"colorbar\": {\"outlinewidth\": 0, \"ticks\": \"\"}}, \"type\": \"scatterpolargl\"}], \"scatterternary\": [{\"marker\": {\"colorbar\": {\"outlinewidth\": 0, \"ticks\": \"\"}}, \"type\": \"scatterternary\"}], \"surface\": [{\"colorbar\": {\"outlinewidth\": 0, \"ticks\": \"\"}, \"colorscale\": [[0.0, \"#0d0887\"], [0.1111111111111111, \"#46039f\"], [0.2222222222222222, \"#7201a8\"], [0.3333333333333333, \"#9c179e\"], [0.4444444444444444, \"#bd3786\"], [0.5555555555555556, \"#d8576b\"], [0.6666666666666666, \"#ed7953\"], [0.7777777777777778, \"#fb9f3a\"], [0.8888888888888888, \"#fdca26\"], [1.0, \"#f0f921\"]], \"type\": \"surface\"}], \"table\": [{\"cells\": {\"fill\": {\"color\": \"#EBF0F8\"}, \"line\": {\"color\": \"white\"}}, \"header\": {\"fill\": {\"color\": \"#C8D4E3\"}, \"line\": {\"color\": \"white\"}}, \"type\": \"table\"}]}, \"layout\": {\"annotationdefaults\": {\"arrowcolor\": \"#2a3f5f\", \"arrowhead\": 0, \"arrowwidth\": 1}, \"autotypenumbers\": \"strict\", \"coloraxis\": {\"colorbar\": {\"outlinewidth\": 0, \"ticks\": \"\"}}, \"colorscale\": {\"diverging\": [[0, \"#8e0152\"], [0.1, \"#c51b7d\"], [0.2, \"#de77ae\"], [0.3, \"#f1b6da\"], [0.4, \"#fde0ef\"], [0.5, \"#f7f7f7\"], [0.6, \"#e6f5d0\"], [0.7, \"#b8e186\"], [0.8, \"#7fbc41\"], [0.9, \"#4d9221\"], [1, \"#276419\"]], \"sequential\": [[0.0, \"#0d0887\"], [0.1111111111111111, \"#46039f\"], [0.2222222222222222, \"#7201a8\"], [0.3333333333333333, \"#9c179e\"], [0.4444444444444444, \"#bd3786\"], [0.5555555555555556, \"#d8576b\"], [0.6666666666666666, \"#ed7953\"], [0.7777777777777778, \"#fb9f3a\"], [0.8888888888888888, \"#fdca26\"], [1.0, \"#f0f921\"]], \"sequentialminus\": [[0.0, \"#0d0887\"], [0.1111111111111111, \"#46039f\"], [0.2222222222222222, \"#7201a8\"], [0.3333333333333333, \"#9c179e\"], [0.4444444444444444, \"#bd3786\"], [0.5555555555555556, \"#d8576b\"], [0.6666666666666666, \"#ed7953\"], [0.7777777777777778, \"#fb9f3a\"], [0.8888888888888888, \"#fdca26\"], [1.0, \"#f0f921\"]]}, \"colorway\": [\"#636efa\", \"#EF553B\", \"#00cc96\", \"#ab63fa\", \"#FFA15A\", \"#19d3f3\", \"#FF6692\", \"#B6E880\", \"#FF97FF\", \"#FECB52\"], \"font\": {\"color\": \"#2a3f5f\"}, \"geo\": {\"bgcolor\": \"white\", \"lakecolor\": \"white\", \"landcolor\": \"#E5ECF6\", \"showlakes\": true, \"showland\": true, \"subunitcolor\": \"white\"}, \"hoverlabel\": {\"align\": \"left\"}, \"hovermode\": \"closest\", \"mapbox\": {\"style\": \"light\"}, \"paper_bgcolor\": \"white\", \"plot_bgcolor\": \"#E5ECF6\", \"polar\": {\"angularaxis\": {\"gridcolor\": \"white\", \"linecolor\": \"white\", \"ticks\": \"\"}, \"bgcolor\": \"#E5ECF6\", \"radialaxis\": {\"gridcolor\": \"white\", \"linecolor\": \"white\", \"ticks\": \"\"}}, \"scene\": {\"xaxis\": {\"backgroundcolor\": \"#E5ECF6\", \"gridcolor\": \"white\", \"gridwidth\": 2, \"linecolor\": \"white\", \"showbackground\": true, \"ticks\": \"\", \"zerolinecolor\": \"white\"}, \"yaxis\": {\"backgroundcolor\": \"#E5ECF6\", \"gridcolor\": \"white\", \"gridwidth\": 2, \"linecolor\": \"white\", \"showbackground\": true, \"ticks\": \"\", \"zerolinecolor\": \"white\"}, \"zaxis\": {\"backgroundcolor\": \"#E5ECF6\", \"gridcolor\": \"white\", \"gridwidth\": 2, \"linecolor\": \"white\", \"showbackground\": true, \"ticks\": \"\", \"zerolinecolor\": \"white\"}}, \"shapedefaults\": {\"line\": {\"color\": \"#2a3f5f\"}}, \"ternary\": {\"aaxis\": {\"gridcolor\": \"white\", \"linecolor\": \"white\", \"ticks\": \"\"}, \"baxis\": {\"gridcolor\": \"white\", \"linecolor\": \"white\", \"ticks\": \"\"}, \"bgcolor\": \"#E5ECF6\", \"caxis\": {\"gridcolor\": \"white\", \"linecolor\": \"white\", \"ticks\": \"\"}}, \"title\": {\"x\": 0.05}, \"xaxis\": {\"automargin\": true, \"gridcolor\": \"white\", \"linecolor\": \"white\", \"ticks\": \"\", \"title\": {\"standoff\": 15}, \"zerolinecolor\": \"white\", \"zerolinewidth\": 2}, \"yaxis\": {\"automargin\": true, \"gridcolor\": \"white\", \"linecolor\": \"white\", \"ticks\": \"\", \"title\": {\"standoff\": 15}, \"zerolinecolor\": \"white\", \"zerolinewidth\": 2}}}},                        {\"responsive\": true}                    ).then(function(){\n",
       "                            \n",
       "var gd = document.getElementById('9de3bd66-a4e1-4968-b4df-6bdc53849418');\n",
       "var x = new MutationObserver(function (mutations, observer) {{\n",
       "        var display = window.getComputedStyle(gd).display;\n",
       "        if (!display || display === 'none') {{\n",
       "            console.log([gd, 'removed!']);\n",
       "            Plotly.purge(gd);\n",
       "            observer.disconnect();\n",
       "        }}\n",
       "}});\n",
       "\n",
       "// Listen for the removal of the full notebook cells\n",
       "var notebookContainer = gd.closest('#notebook-container');\n",
       "if (notebookContainer) {{\n",
       "    x.observe(notebookContainer, {childList: true});\n",
       "}}\n",
       "\n",
       "// Listen for the clearing of the current output cell\n",
       "var outputEl = gd.closest('.output');\n",
       "if (outputEl) {{\n",
       "    x.observe(outputEl, {childList: true});\n",
       "}}\n",
       "\n",
       "                        })                };                });            </script>        </div>"
      ]
     },
     "metadata": {},
     "output_type": "display_data"
    }
   ],
   "source": [
    "fig = px.scatter_3d(pca3d_df_NoduleCol_comb, \n",
    "                    x=pca3d_df_NoduleCol_comb.iloc[:,1], \n",
    "                    y=pca3d_df_NoduleCol_comb.iloc[:,2], \n",
    "                    z=pca3d_df_NoduleCol_comb.iloc[:,3], \n",
    "                    color=pca3d_df_NoduleCol_comb.iloc[:,0],\n",
    "                    color_discrete_sequence=px.colors.qualitative.Dark24,\n",
    "                    symbol = pca3d_df_NoduleCol_comb.iloc[:,0])\n",
    "fig.update_traces(marker_size = 5)\n",
    "fig.update_layout(margin=dict(l=0, r=0, b=0, t=0))\n",
    "fig.show()\n",
    "\n",
    "#if save_plots == True:\n",
    "#    fig.write_html(filepath) "
   ]
  },
  {
   "cell_type": "code",
   "execution_count": null,
   "metadata": {},
   "outputs": [],
   "source": []
  },
  {
   "cell_type": "code",
   "execution_count": null,
   "metadata": {},
   "outputs": [],
   "source": []
  },
  {
   "cell_type": "code",
   "execution_count": null,
   "metadata": {},
   "outputs": [],
   "source": []
  },
  {
   "cell_type": "code",
   "execution_count": null,
   "metadata": {},
   "outputs": [],
   "source": []
  },
  {
   "cell_type": "code",
   "execution_count": null,
   "metadata": {},
   "outputs": [],
   "source": []
  },
  {
   "cell_type": "code",
   "execution_count": null,
   "metadata": {},
   "outputs": [],
   "source": []
  },
  {
   "cell_type": "code",
   "execution_count": null,
   "metadata": {},
   "outputs": [],
   "source": []
  },
  {
   "cell_type": "code",
   "execution_count": null,
   "metadata": {},
   "outputs": [],
   "source": []
  },
  {
   "cell_type": "code",
   "execution_count": null,
   "metadata": {},
   "outputs": [],
   "source": []
  },
  {
   "cell_type": "code",
   "execution_count": null,
   "metadata": {},
   "outputs": [],
   "source": []
  }
 ],
 "metadata": {
  "kernelspec": {
   "display_name": "Python 3 (ipykernel)",
   "language": "python",
   "name": "python3"
  },
  "language_info": {
   "codemirror_mode": {
    "name": "ipython",
    "version": 3
   },
   "file_extension": ".py",
   "mimetype": "text/x-python",
   "name": "python",
   "nbconvert_exporter": "python",
   "pygments_lexer": "ipython3",
   "version": "3.7.4"
  }
 },
 "nbformat": 4,
 "nbformat_minor": 4
}
