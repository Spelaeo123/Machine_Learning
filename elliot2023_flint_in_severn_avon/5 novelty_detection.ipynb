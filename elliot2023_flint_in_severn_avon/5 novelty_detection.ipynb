{
 "cells": [
  {
   "cell_type": "markdown",
   "metadata": {},
   "source": [
    "### RFC"
   ]
  },
  {
   "cell_type": "markdown",
   "metadata": {},
   "source": [
    "### import modules and configure notebook"
   ]
  },
  {
   "cell_type": "code",
   "execution_count": 1,
   "metadata": {},
   "outputs": [
    {
     "name": "stderr",
     "output_type": "stream",
     "text": [
      "C:\\Users\\tom\\Anaconda3\\lib\\site-packages\\sklearn\\utils\\validation.py:37: DeprecationWarning: distutils Version classes are deprecated. Use packaging.version instead.\n",
      "  LARGE_SPARSE_SUPPORTED = LooseVersion(scipy_version) >= '0.14.0'\n"
     ]
    }
   ],
   "source": [
    "import pandas as pd\n",
    "import numpy as np\n",
    "import seaborn as sns\n",
    "import matplotlib.pyplot\n",
    "from sklearn.preprocessing import StandardScaler\n",
    "from sklearn.neighbors import LocalOutlierFactor\n",
    "\n",
    "pd.set_option('max.rows', None)\n",
    "pd.set_option('max.columns', None)\n",
    "%matplotlib inline"
   ]
  },
  {
   "cell_type": "markdown",
   "metadata": {},
   "source": [
    "### Load variables stored by data_preproccessing notebook"
   ]
  },
  {
   "cell_type": "code",
   "execution_count": 2,
   "metadata": {},
   "outputs": [],
   "source": [
    "%store -r train_data_formodel\n",
    "%store -r test_data\n",
    "%store -r my_data\n",
    "%store -r uniques\n",
    "%store -r best_feats"
   ]
  },
  {
   "cell_type": "markdown",
   "metadata": {},
   "source": [
    "### configurations\n",
    "* save_plots -> boolean\n",
    "* scale -> True|False if set to True then features scaled to all have mean value 0 and standard deviation 1"
   ]
  },
  {
   "cell_type": "code",
   "execution_count": 3,
   "metadata": {},
   "outputs": [],
   "source": [
    "save_plots = True\n",
    "\n",
    "#the data should be scaled because LOF model uses KNN\n",
    "scale = True"
   ]
  },
  {
   "cell_type": "markdown",
   "metadata": {},
   "source": [
    "### counts of instances in all classes before oversampling"
   ]
  },
  {
   "cell_type": "code",
   "execution_count": 4,
   "metadata": {},
   "outputs": [
    {
     "data": {
      "text/plain": [
       "4     105\n",
       "15    100\n",
       "16     61\n",
       "0      53\n",
       "11     45\n",
       "13     36\n",
       "14     36\n",
       "2      36\n",
       "6      30\n",
       "7      30\n",
       "10     30\n",
       "5      27\n",
       "8      27\n",
       "1      24\n",
       "12     21\n",
       "3      18\n",
       "9      17\n",
       "Name: class, dtype: int64"
      ]
     },
     "execution_count": 4,
     "metadata": {},
     "output_type": "execute_result"
    }
   ],
   "source": [
    "train_data_formodel['class'].value_counts()"
   ]
  },
  {
   "cell_type": "markdown",
   "metadata": {},
   "source": [
    "### The class column is stored as the variable y "
   ]
  },
  {
   "cell_type": "code",
   "execution_count": 5,
   "metadata": {},
   "outputs": [],
   "source": [
    "y_train = np.array(train_data_formodel['class'])"
   ]
  },
  {
   "cell_type": "markdown",
   "metadata": {},
   "source": [
    "### The variables identified as best by feature selection are used as features"
   ]
  },
  {
   "cell_type": "code",
   "execution_count": 6,
   "metadata": {},
   "outputs": [],
   "source": [
    "train_data_feats = train_data_formodel[best_feats]\n",
    "test_data_feats = test_data[best_feats]\n",
    "test_data_identifiers = test_data['Analysis']"
   ]
  },
  {
   "cell_type": "markdown",
   "metadata": {},
   "source": [
    "### features are standardised"
   ]
  },
  {
   "cell_type": "code",
   "execution_count": 7,
   "metadata": {},
   "outputs": [],
   "source": [
    "if scale:\n",
    "    my_scaler = StandardScaler()\n",
    "    X_test_scaled = np.array(my_scaler.fit_transform(test_data_feats))\n",
    "    X_train = np.array(my_scaler.fit_transform(train_data_feats))\n",
    "else:\n",
    "    X_test = np.array(test_data_feats)\n",
    "    X_train = np.array(train_data_feats)"
   ]
  },
  {
   "cell_type": "markdown",
   "metadata": {},
   "source": [
    "### the dimensions of the class and features are checked"
   ]
  },
  {
   "cell_type": "code",
   "execution_count": 8,
   "metadata": {},
   "outputs": [
    {
     "name": "stdout",
     "output_type": "stream",
     "text": [
      "(696, 15)\n",
      "(432, 15)\n",
      "(696,)\n"
     ]
    }
   ],
   "source": [
    "print(X_train.shape)\n",
    "print(X_test_scaled.shape)\n",
    "print(y_train.shape)"
   ]
  },
  {
   "cell_type": "markdown",
   "metadata": {},
   "source": [
    "### Local Outlier Factor model is fitted on data that will be used for training the final classifier model\n",
    "* The model is used for the purpose of novelty detection"
   ]
  },
  {
   "cell_type": "code",
   "execution_count": 9,
   "metadata": {},
   "outputs": [],
   "source": [
    "lof = LocalOutlierFactor(novelty=True,n_neighbors=25 )\n",
    "#set novelty to true, this is suitable because we are trying to assess whether the artefcats come from the same distribution of the geological samples, refer to sklearn documentation for more details "
   ]
  },
  {
   "cell_type": "markdown",
   "metadata": {},
   "source": [
    "### print details of model"
   ]
  },
  {
   "cell_type": "code",
   "execution_count": 10,
   "metadata": {},
   "outputs": [
    {
     "name": "stdout",
     "output_type": "stream",
     "text": [
      "LocalOutlierFactor(algorithm='auto', contamination='legacy', leaf_size=30,\n",
      "          metric='minkowski', metric_params=None, n_jobs=None,\n",
      "          n_neighbors=25, novelty=True, p=2)\n"
     ]
    }
   ],
   "source": [
    "print(lof)"
   ]
  },
  {
   "cell_type": "code",
   "execution_count": 11,
   "metadata": {},
   "outputs": [
    {
     "name": "stderr",
     "output_type": "stream",
     "text": [
      "C:\\Users\\tom\\Anaconda3\\lib\\site-packages\\sklearn\\neighbors\\lof.py:236: FutureWarning: default contamination parameter 0.1 will change in version 0.22 to \"auto\". This will change the predict method behavior.\n",
      "  FutureWarning)\n",
      "C:\\Users\\tom\\Anaconda3\\lib\\site-packages\\sklearn\\neighbors\\base.py:442: DeprecationWarning: distutils Version classes are deprecated. Use packaging.version instead.\n",
      "  old_joblib = LooseVersion(joblib_version) < LooseVersion('0.12')\n",
      "C:\\Users\\tom\\Anaconda3\\lib\\site-packages\\sklearn\\neighbors\\base.py:442: DeprecationWarning: distutils Version classes are deprecated. Use packaging.version instead.\n",
      "  old_joblib = LooseVersion(joblib_version) < LooseVersion('0.12')\n"
     ]
    },
    {
     "data": {
      "text/plain": [
       "LocalOutlierFactor(algorithm='auto', contamination='legacy', leaf_size=30,\n",
       "          metric='minkowski', metric_params=None, n_jobs=None,\n",
       "          n_neighbors=25, novelty=True, p=2)"
      ]
     },
     "execution_count": 11,
     "metadata": {},
     "output_type": "execute_result"
    }
   ],
   "source": [
    "#train model on geological samples\n",
    "lof.fit(X_train)"
   ]
  },
  {
   "cell_type": "markdown",
   "metadata": {},
   "source": [
    "### Local Outlier Factor model predicts whether the artefact samples are inliers or outliers \n",
    "\n",
    "* inlier = 1\n",
    "* outier = -1"
   ]
  },
  {
   "cell_type": "code",
   "execution_count": 12,
   "metadata": {},
   "outputs": [
    {
     "name": "stderr",
     "output_type": "stream",
     "text": [
      "C:\\Users\\tom\\Anaconda3\\lib\\site-packages\\sklearn\\neighbors\\base.py:442: DeprecationWarning: distutils Version classes are deprecated. Use packaging.version instead.\n",
      "  old_joblib = LooseVersion(joblib_version) < LooseVersion('0.12')\n",
      "C:\\Users\\tom\\Anaconda3\\lib\\site-packages\\sklearn\\neighbors\\base.py:442: DeprecationWarning: distutils Version classes are deprecated. Use packaging.version instead.\n",
      "  old_joblib = LooseVersion(joblib_version) < LooseVersion('0.12')\n"
     ]
    }
   ],
   "source": [
    "predictions = lof.predict(X_test_scaled, )"
   ]
  },
  {
   "cell_type": "code",
   "execution_count": null,
   "metadata": {},
   "outputs": [],
   "source": []
  },
  {
   "cell_type": "code",
   "execution_count": 13,
   "metadata": {},
   "outputs": [
    {
     "data": {
      "text/plain": [
       " 1    301\n",
       "-1    131\n",
       "dtype: int64"
      ]
     },
     "execution_count": 13,
     "metadata": {},
     "output_type": "execute_result"
    }
   ],
   "source": [
    "pd.Series(predictions).value_counts()"
   ]
  },
  {
   "cell_type": "code",
   "execution_count": 14,
   "metadata": {},
   "outputs": [],
   "source": [
    "nInliers = list(pd.Series(predictions).value_counts())[0]\n",
    "nOutliers = list(pd.Series(predictions).value_counts())[1]"
   ]
  },
  {
   "cell_type": "code",
   "execution_count": 15,
   "metadata": {},
   "outputs": [
    {
     "name": "stdout",
     "output_type": "stream",
     "text": [
      "there are 301 inliers and 131 outliers, so the proportion of inliers is 0.6967592592592593\n"
     ]
    }
   ],
   "source": [
    "print('there are {0} inliers and {1} outliers, so the proportion of inliers is {2}'.format(nInliers, nOutliers, (nInliers)/(X_test_scaled.shape[0])))"
   ]
  },
  {
   "cell_type": "markdown",
   "metadata": {},
   "source": [
    "### column encoding inlier status is added to artefact-sample dataset "
   ]
  },
  {
   "cell_type": "code",
   "execution_count": 16,
   "metadata": {},
   "outputs": [],
   "source": [
    "X_test_df = pd.DataFrame(data = np.array(test_data_feats), columns = test_data_feats.columns.values)\n",
    "X_test_labeled_df = pd.concat([test_data_identifiers.reset_index(drop = True), X_test_df, pd.Series(predictions)], axis =1).rename(columns = {0:'inlierLabel'})"
   ]
  },
  {
   "cell_type": "code",
   "execution_count": 17,
   "metadata": {},
   "outputs": [
    {
     "data": {
      "text/html": [
       "<div>\n",
       "<style scoped>\n",
       "    .dataframe tbody tr th:only-of-type {\n",
       "        vertical-align: middle;\n",
       "    }\n",
       "\n",
       "    .dataframe tbody tr th {\n",
       "        vertical-align: top;\n",
       "    }\n",
       "\n",
       "    .dataframe thead th {\n",
       "        text-align: right;\n",
       "    }\n",
       "</style>\n",
       "<table border=\"1\" class=\"dataframe\">\n",
       "  <thead>\n",
       "    <tr style=\"text-align: right;\">\n",
       "      <th></th>\n",
       "      <th>Analysis</th>\n",
       "      <th>Zr90</th>\n",
       "      <th>Ba137</th>\n",
       "      <th>Sr88</th>\n",
       "      <th>Ge72</th>\n",
       "      <th>Cr52</th>\n",
       "      <th>S33</th>\n",
       "      <th>U238</th>\n",
       "      <th>Al27</th>\n",
       "      <th>B11</th>\n",
       "      <th>Mg24</th>\n",
       "      <th>Nd146</th>\n",
       "      <th>Sc45</th>\n",
       "      <th>K39</th>\n",
       "      <th>Pr141</th>\n",
       "      <th>Li7</th>\n",
       "      <th>inlierLabel</th>\n",
       "    </tr>\n",
       "  </thead>\n",
       "  <tbody>\n",
       "    <tr>\n",
       "      <th>0</th>\n",
       "      <td>005_AB_1</td>\n",
       "      <td>0.24</td>\n",
       "      <td>1.06</td>\n",
       "      <td>3.563843</td>\n",
       "      <td>0.80</td>\n",
       "      <td>6.31</td>\n",
       "      <td>487.95</td>\n",
       "      <td>0.210000</td>\n",
       "      <td>306.53</td>\n",
       "      <td>58.850000</td>\n",
       "      <td>25.138079</td>\n",
       "      <td>0.17</td>\n",
       "      <td>1.00</td>\n",
       "      <td>217.05</td>\n",
       "      <td>0.04</td>\n",
       "      <td>19.35</td>\n",
       "      <td>-1</td>\n",
       "    </tr>\n",
       "    <tr>\n",
       "      <th>1</th>\n",
       "      <td>006_AB_1</td>\n",
       "      <td>0.30</td>\n",
       "      <td>0.58</td>\n",
       "      <td>1.180000</td>\n",
       "      <td>0.64</td>\n",
       "      <td>4.78</td>\n",
       "      <td>486.15</td>\n",
       "      <td>0.510000</td>\n",
       "      <td>413.97</td>\n",
       "      <td>85.030000</td>\n",
       "      <td>41.100000</td>\n",
       "      <td>0.17</td>\n",
       "      <td>1.25</td>\n",
       "      <td>353.39</td>\n",
       "      <td>0.06</td>\n",
       "      <td>2.61</td>\n",
       "      <td>-1</td>\n",
       "    </tr>\n",
       "    <tr>\n",
       "      <th>2</th>\n",
       "      <td>007_AB_1</td>\n",
       "      <td>0.25</td>\n",
       "      <td>0.49</td>\n",
       "      <td>1.250000</td>\n",
       "      <td>0.67</td>\n",
       "      <td>4.62</td>\n",
       "      <td>480.47</td>\n",
       "      <td>0.242569</td>\n",
       "      <td>364.50</td>\n",
       "      <td>80.040000</td>\n",
       "      <td>44.560000</td>\n",
       "      <td>0.24</td>\n",
       "      <td>1.12</td>\n",
       "      <td>329.78</td>\n",
       "      <td>0.07</td>\n",
       "      <td>2.29</td>\n",
       "      <td>1</td>\n",
       "    </tr>\n",
       "    <tr>\n",
       "      <th>3</th>\n",
       "      <td>008_AB_2</td>\n",
       "      <td>0.24</td>\n",
       "      <td>4.74</td>\n",
       "      <td>4.350000</td>\n",
       "      <td>0.71</td>\n",
       "      <td>4.46</td>\n",
       "      <td>482.84</td>\n",
       "      <td>0.030000</td>\n",
       "      <td>139.26</td>\n",
       "      <td>70.736204</td>\n",
       "      <td>10.690000</td>\n",
       "      <td>0.63</td>\n",
       "      <td>1.46</td>\n",
       "      <td>90.89</td>\n",
       "      <td>0.20</td>\n",
       "      <td>6.86</td>\n",
       "      <td>-1</td>\n",
       "    </tr>\n",
       "    <tr>\n",
       "      <th>4</th>\n",
       "      <td>009_AB_2</td>\n",
       "      <td>0.30</td>\n",
       "      <td>4.22</td>\n",
       "      <td>3.850000</td>\n",
       "      <td>0.98</td>\n",
       "      <td>4.65</td>\n",
       "      <td>506.40</td>\n",
       "      <td>0.060000</td>\n",
       "      <td>180.19</td>\n",
       "      <td>70.736204</td>\n",
       "      <td>18.670000</td>\n",
       "      <td>0.57</td>\n",
       "      <td>1.47</td>\n",
       "      <td>122.66</td>\n",
       "      <td>0.18</td>\n",
       "      <td>8.45</td>\n",
       "      <td>1</td>\n",
       "    </tr>\n",
       "  </tbody>\n",
       "</table>\n",
       "</div>"
      ],
      "text/plain": [
       "   Analysis  Zr90  Ba137      Sr88  Ge72  Cr52     S33      U238    Al27  \\\n",
       "0  005_AB_1  0.24   1.06  3.563843  0.80  6.31  487.95  0.210000  306.53   \n",
       "1  006_AB_1  0.30   0.58  1.180000  0.64  4.78  486.15  0.510000  413.97   \n",
       "2  007_AB_1  0.25   0.49  1.250000  0.67  4.62  480.47  0.242569  364.50   \n",
       "3  008_AB_2  0.24   4.74  4.350000  0.71  4.46  482.84  0.030000  139.26   \n",
       "4  009_AB_2  0.30   4.22  3.850000  0.98  4.65  506.40  0.060000  180.19   \n",
       "\n",
       "         B11       Mg24  Nd146  Sc45     K39  Pr141    Li7  inlierLabel  \n",
       "0  58.850000  25.138079   0.17  1.00  217.05   0.04  19.35           -1  \n",
       "1  85.030000  41.100000   0.17  1.25  353.39   0.06   2.61           -1  \n",
       "2  80.040000  44.560000   0.24  1.12  329.78   0.07   2.29            1  \n",
       "3  70.736204  10.690000   0.63  1.46   90.89   0.20   6.86           -1  \n",
       "4  70.736204  18.670000   0.57  1.47  122.66   0.18   8.45            1  "
      ]
     },
     "execution_count": 17,
     "metadata": {},
     "output_type": "execute_result"
    }
   ],
   "source": [
    "X_test_labeled_df.head()"
   ]
  },
  {
   "cell_type": "markdown",
   "metadata": {},
   "source": [
    "### dataset is stored"
   ]
  },
  {
   "cell_type": "code",
   "execution_count": 18,
   "metadata": {},
   "outputs": [
    {
     "name": "stdout",
     "output_type": "stream",
     "text": [
      "Stored 'X_test_labeled_df' (DataFrame)\n"
     ]
    }
   ],
   "source": [
    "%store X_test_labeled_df"
   ]
  }
 ],
 "metadata": {
  "kernelspec": {
   "display_name": "Python 3 (ipykernel)",
   "language": "python",
   "name": "python3"
  },
  "language_info": {
   "codemirror_mode": {
    "name": "ipython",
    "version": 3
   },
   "file_extension": ".py",
   "mimetype": "text/x-python",
   "name": "python",
   "nbconvert_exporter": "python",
   "pygments_lexer": "ipython3",
   "version": "3.7.4"
  }
 },
 "nbformat": 4,
 "nbformat_minor": 4
}
