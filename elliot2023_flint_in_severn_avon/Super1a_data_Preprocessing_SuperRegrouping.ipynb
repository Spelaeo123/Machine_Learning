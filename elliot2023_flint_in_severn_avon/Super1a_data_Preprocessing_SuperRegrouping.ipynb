{
 "cells": [
  {
   "cell_type": "markdown",
   "metadata": {},
   "source": [
    "# Import libraries/packages"
   ]
  },
  {
   "cell_type": "code",
   "execution_count": 1,
   "metadata": {},
   "outputs": [],
   "source": [
    "# Import pandas, numpy, seabon, sklearn, pyplot\n",
    "import pandas as pd\n",
    "import numpy as np\n",
    "import seaborn as sns\n",
    "import sklearn as sk\n",
    "\n",
    "from matplotlib import pyplot as plt\n",
    "from sklearn.preprocessing import StandardScaler\n",
    "from sklearn.decomposition import PCA\n",
    "from sklearn.manifold import TSNE\n",
    "#from sklearn.cluster import KMeans\n",
    "\n",
    "#SpectralClustering\n",
    "\n",
    "#pd.set_option('max.rows', None)\n",
    "#pd.set_option('max.columns', None)\n",
    "\n",
    "%matplotlib inline"
   ]
  },
  {
   "cell_type": "code",
   "execution_count": 2,
   "metadata": {},
   "outputs": [],
   "source": [
    "from config_and_dependencies.config import * "
   ]
  },
  {
   "cell_type": "markdown",
   "metadata": {},
   "source": [
    "## Import data"
   ]
  },
  {
   "cell_type": "code",
   "execution_count": 3,
   "metadata": {},
   "outputs": [],
   "source": [
    "%store -r my_superficial"
   ]
  },
  {
   "cell_type": "code",
   "execution_count": null,
   "metadata": {
    "tags": []
   },
   "outputs": [],
   "source": []
  },
  {
   "cell_type": "code",
   "execution_count": 4,
   "metadata": {},
   "outputs": [
    {
     "data": {
      "text/html": [
       "<div>\n",
       "<style scoped>\n",
       "    .dataframe tbody tr th:only-of-type {\n",
       "        vertical-align: middle;\n",
       "    }\n",
       "\n",
       "    .dataframe tbody tr th {\n",
       "        vertical-align: top;\n",
       "    }\n",
       "\n",
       "    .dataframe thead th {\n",
       "        text-align: right;\n",
       "    }\n",
       "</style>\n",
       "<table border=\"1\" class=\"dataframe\">\n",
       "  <thead>\n",
       "    <tr style=\"text-align: right;\">\n",
       "      <th></th>\n",
       "      <th>Analysis</th>\n",
       "      <th>Geology</th>\n",
       "      <th>Province</th>\n",
       "      <th>Region</th>\n",
       "      <th>Site</th>\n",
       "      <th>SubSite</th>\n",
       "      <th>Formation</th>\n",
       "      <th>Band</th>\n",
       "      <th>Nodule</th>\n",
       "      <th>Li7</th>\n",
       "      <th>...</th>\n",
       "      <th>Er166</th>\n",
       "      <th>Tm169</th>\n",
       "      <th>Yb172</th>\n",
       "      <th>Lu175</th>\n",
       "      <th>Hf178</th>\n",
       "      <th>Ta181</th>\n",
       "      <th>Pb208</th>\n",
       "      <th>Th232</th>\n",
       "      <th>U238</th>\n",
       "      <th>class</th>\n",
       "    </tr>\n",
       "  </thead>\n",
       "  <tbody>\n",
       "    <tr>\n",
       "      <th>808</th>\n",
       "      <td>005_AB_1</td>\n",
       "      <td>Superficial</td>\n",
       "      <td>NaN</td>\n",
       "      <td>AB</td>\n",
       "      <td>AB</td>\n",
       "      <td>AB</td>\n",
       "      <td>NaN</td>\n",
       "      <td>AB</td>\n",
       "      <td>AB_1</td>\n",
       "      <td>19.35</td>\n",
       "      <td>...</td>\n",
       "      <td>0.01</td>\n",
       "      <td>0.00</td>\n",
       "      <td>0.01</td>\n",
       "      <td>0.0</td>\n",
       "      <td>0.01</td>\n",
       "      <td>0.00</td>\n",
       "      <td>0.56</td>\n",
       "      <td>0.05</td>\n",
       "      <td>0.210000</td>\n",
       "      <td>AB</td>\n",
       "    </tr>\n",
       "    <tr>\n",
       "      <th>809</th>\n",
       "      <td>006_AB_1</td>\n",
       "      <td>Superficial</td>\n",
       "      <td>NaN</td>\n",
       "      <td>AB</td>\n",
       "      <td>AB</td>\n",
       "      <td>AB</td>\n",
       "      <td>NaN</td>\n",
       "      <td>AB</td>\n",
       "      <td>AB_1</td>\n",
       "      <td>2.61</td>\n",
       "      <td>...</td>\n",
       "      <td>0.02</td>\n",
       "      <td>0.00</td>\n",
       "      <td>0.02</td>\n",
       "      <td>0.0</td>\n",
       "      <td>0.00</td>\n",
       "      <td>0.00</td>\n",
       "      <td>0.24</td>\n",
       "      <td>0.06</td>\n",
       "      <td>0.510000</td>\n",
       "      <td>AB</td>\n",
       "    </tr>\n",
       "    <tr>\n",
       "      <th>810</th>\n",
       "      <td>007_AB_1</td>\n",
       "      <td>Superficial</td>\n",
       "      <td>NaN</td>\n",
       "      <td>AB</td>\n",
       "      <td>AB</td>\n",
       "      <td>AB</td>\n",
       "      <td>NaN</td>\n",
       "      <td>AB</td>\n",
       "      <td>AB_1</td>\n",
       "      <td>2.29</td>\n",
       "      <td>...</td>\n",
       "      <td>0.02</td>\n",
       "      <td>0.00</td>\n",
       "      <td>0.00</td>\n",
       "      <td>0.0</td>\n",
       "      <td>0.02</td>\n",
       "      <td>0.01</td>\n",
       "      <td>0.48</td>\n",
       "      <td>0.05</td>\n",
       "      <td>0.242569</td>\n",
       "      <td>AB</td>\n",
       "    </tr>\n",
       "    <tr>\n",
       "      <th>811</th>\n",
       "      <td>008_AB_2</td>\n",
       "      <td>Superficial</td>\n",
       "      <td>NaN</td>\n",
       "      <td>AB</td>\n",
       "      <td>AB</td>\n",
       "      <td>AB</td>\n",
       "      <td>NaN</td>\n",
       "      <td>AB</td>\n",
       "      <td>AB_2</td>\n",
       "      <td>6.86</td>\n",
       "      <td>...</td>\n",
       "      <td>0.07</td>\n",
       "      <td>0.01</td>\n",
       "      <td>0.04</td>\n",
       "      <td>0.0</td>\n",
       "      <td>0.00</td>\n",
       "      <td>0.01</td>\n",
       "      <td>3.11</td>\n",
       "      <td>0.06</td>\n",
       "      <td>0.030000</td>\n",
       "      <td>AB</td>\n",
       "    </tr>\n",
       "    <tr>\n",
       "      <th>812</th>\n",
       "      <td>009_AB_2</td>\n",
       "      <td>Superficial</td>\n",
       "      <td>NaN</td>\n",
       "      <td>AB</td>\n",
       "      <td>AB</td>\n",
       "      <td>AB</td>\n",
       "      <td>NaN</td>\n",
       "      <td>AB</td>\n",
       "      <td>AB_2</td>\n",
       "      <td>8.45</td>\n",
       "      <td>...</td>\n",
       "      <td>0.05</td>\n",
       "      <td>0.00</td>\n",
       "      <td>0.04</td>\n",
       "      <td>0.0</td>\n",
       "      <td>0.01</td>\n",
       "      <td>0.00</td>\n",
       "      <td>3.04</td>\n",
       "      <td>0.06</td>\n",
       "      <td>0.060000</td>\n",
       "      <td>AB</td>\n",
       "    </tr>\n",
       "  </tbody>\n",
       "</table>\n",
       "<p>5 rows × 63 columns</p>\n",
       "</div>"
      ],
      "text/plain": [
       "     Analysis      Geology Province Region Site SubSite Formation Band Nodule  \\\n",
       "808  005_AB_1  Superficial      NaN     AB   AB      AB       NaN   AB   AB_1   \n",
       "809  006_AB_1  Superficial      NaN     AB   AB      AB       NaN   AB   AB_1   \n",
       "810  007_AB_1  Superficial      NaN     AB   AB      AB       NaN   AB   AB_1   \n",
       "811  008_AB_2  Superficial      NaN     AB   AB      AB       NaN   AB   AB_2   \n",
       "812  009_AB_2  Superficial      NaN     AB   AB      AB       NaN   AB   AB_2   \n",
       "\n",
       "       Li7  ...  Er166  Tm169  Yb172  Lu175  Hf178  Ta181  Pb208  Th232  \\\n",
       "808  19.35  ...   0.01   0.00   0.01    0.0   0.01   0.00   0.56   0.05   \n",
       "809   2.61  ...   0.02   0.00   0.02    0.0   0.00   0.00   0.24   0.06   \n",
       "810   2.29  ...   0.02   0.00   0.00    0.0   0.02   0.01   0.48   0.05   \n",
       "811   6.86  ...   0.07   0.01   0.04    0.0   0.00   0.01   3.11   0.06   \n",
       "812   8.45  ...   0.05   0.00   0.04    0.0   0.01   0.00   3.04   0.06   \n",
       "\n",
       "         U238  class  \n",
       "808  0.210000     AB  \n",
       "809  0.510000     AB  \n",
       "810  0.242569     AB  \n",
       "811  0.030000     AB  \n",
       "812  0.060000     AB  \n",
       "\n",
       "[5 rows x 63 columns]"
      ]
     },
     "execution_count": 4,
     "metadata": {},
     "output_type": "execute_result"
    }
   ],
   "source": [
    "my_superficial.head()"
   ]
  },
  {
   "cell_type": "code",
   "execution_count": 67,
   "metadata": {},
   "outputs": [
    {
     "data": {
      "text/plain": [
       "array(['AB', 'LV', 'BR', 'KY', 'BF', 'ST', 'SH', 'CF', 'BG', 'AC', 'CR',\n",
       "       'GH', 'PX', 'WF'], dtype=object)"
      ]
     },
     "execution_count": 67,
     "metadata": {},
     "output_type": "execute_result"
    }
   ],
   "source": [
    "my_superficial['Site'].unique()"
   ]
  },
  {
   "cell_type": "code",
   "execution_count": 115,
   "metadata": {},
   "outputs": [],
   "source": [
    "X = my_superficial.loc[my_superficial['Region'] == 'SV']"
   ]
  },
  {
   "cell_type": "code",
   "execution_count": 116,
   "metadata": {},
   "outputs": [
    {
     "data": {
      "text/html": [
       "<div>\n",
       "<style scoped>\n",
       "    .dataframe tbody tr th:only-of-type {\n",
       "        vertical-align: middle;\n",
       "    }\n",
       "\n",
       "    .dataframe tbody tr th {\n",
       "        vertical-align: top;\n",
       "    }\n",
       "\n",
       "    .dataframe thead th {\n",
       "        text-align: right;\n",
       "    }\n",
       "</style>\n",
       "<table border=\"1\" class=\"dataframe\">\n",
       "  <thead>\n",
       "    <tr style=\"text-align: right;\">\n",
       "      <th></th>\n",
       "      <th>Analysis</th>\n",
       "      <th>Geology</th>\n",
       "      <th>Province</th>\n",
       "      <th>Region</th>\n",
       "      <th>Site</th>\n",
       "      <th>SubSite</th>\n",
       "      <th>Formation</th>\n",
       "      <th>Band</th>\n",
       "      <th>Nodule</th>\n",
       "      <th>Li7</th>\n",
       "      <th>...</th>\n",
       "      <th>Er166</th>\n",
       "      <th>Tm169</th>\n",
       "      <th>Yb172</th>\n",
       "      <th>Lu175</th>\n",
       "      <th>Hf178</th>\n",
       "      <th>Ta181</th>\n",
       "      <th>Pb208</th>\n",
       "      <th>Th232</th>\n",
       "      <th>U238</th>\n",
       "      <th>class</th>\n",
       "    </tr>\n",
       "  </thead>\n",
       "  <tbody>\n",
       "    <tr>\n",
       "      <th>958</th>\n",
       "      <td>043_ST_1_1</td>\n",
       "      <td>Superficial</td>\n",
       "      <td>NaN</td>\n",
       "      <td>SV</td>\n",
       "      <td>ST</td>\n",
       "      <td>ST</td>\n",
       "      <td>NaN</td>\n",
       "      <td>ST</td>\n",
       "      <td>ST_1</td>\n",
       "      <td>3.55</td>\n",
       "      <td>...</td>\n",
       "      <td>0.05</td>\n",
       "      <td>0.01</td>\n",
       "      <td>0.06</td>\n",
       "      <td>0.02</td>\n",
       "      <td>0.02</td>\n",
       "      <td>0.01</td>\n",
       "      <td>0.33</td>\n",
       "      <td>0.07</td>\n",
       "      <td>0.22</td>\n",
       "      <td>ST</td>\n",
       "    </tr>\n",
       "    <tr>\n",
       "      <th>959</th>\n",
       "      <td>044_ST_1_2</td>\n",
       "      <td>Superficial</td>\n",
       "      <td>NaN</td>\n",
       "      <td>SV</td>\n",
       "      <td>ST</td>\n",
       "      <td>ST</td>\n",
       "      <td>NaN</td>\n",
       "      <td>ST</td>\n",
       "      <td>ST_1</td>\n",
       "      <td>6.30</td>\n",
       "      <td>...</td>\n",
       "      <td>0.06</td>\n",
       "      <td>0.01</td>\n",
       "      <td>0.04</td>\n",
       "      <td>0.01</td>\n",
       "      <td>0.03</td>\n",
       "      <td>0.01</td>\n",
       "      <td>0.36</td>\n",
       "      <td>0.06</td>\n",
       "      <td>0.17</td>\n",
       "      <td>ST</td>\n",
       "    </tr>\n",
       "    <tr>\n",
       "      <th>960</th>\n",
       "      <td>045_ST_1_3</td>\n",
       "      <td>Superficial</td>\n",
       "      <td>NaN</td>\n",
       "      <td>SV</td>\n",
       "      <td>ST</td>\n",
       "      <td>ST</td>\n",
       "      <td>NaN</td>\n",
       "      <td>ST</td>\n",
       "      <td>ST_1</td>\n",
       "      <td>4.47</td>\n",
       "      <td>...</td>\n",
       "      <td>0.03</td>\n",
       "      <td>0.00</td>\n",
       "      <td>0.05</td>\n",
       "      <td>0.01</td>\n",
       "      <td>0.03</td>\n",
       "      <td>0.01</td>\n",
       "      <td>0.19</td>\n",
       "      <td>0.08</td>\n",
       "      <td>0.14</td>\n",
       "      <td>ST</td>\n",
       "    </tr>\n",
       "    <tr>\n",
       "      <th>961</th>\n",
       "      <td>046_ST_2_1</td>\n",
       "      <td>Superficial</td>\n",
       "      <td>NaN</td>\n",
       "      <td>SV</td>\n",
       "      <td>ST</td>\n",
       "      <td>ST</td>\n",
       "      <td>NaN</td>\n",
       "      <td>ST</td>\n",
       "      <td>ST_2</td>\n",
       "      <td>4.74</td>\n",
       "      <td>...</td>\n",
       "      <td>0.07</td>\n",
       "      <td>0.02</td>\n",
       "      <td>0.04</td>\n",
       "      <td>0.01</td>\n",
       "      <td>0.02</td>\n",
       "      <td>0.01</td>\n",
       "      <td>0.24</td>\n",
       "      <td>0.09</td>\n",
       "      <td>0.09</td>\n",
       "      <td>ST</td>\n",
       "    </tr>\n",
       "    <tr>\n",
       "      <th>962</th>\n",
       "      <td>047_ST_2_2</td>\n",
       "      <td>Superficial</td>\n",
       "      <td>NaN</td>\n",
       "      <td>SV</td>\n",
       "      <td>ST</td>\n",
       "      <td>ST</td>\n",
       "      <td>NaN</td>\n",
       "      <td>ST</td>\n",
       "      <td>ST_2</td>\n",
       "      <td>4.15</td>\n",
       "      <td>...</td>\n",
       "      <td>0.07</td>\n",
       "      <td>0.01</td>\n",
       "      <td>0.09</td>\n",
       "      <td>0.01</td>\n",
       "      <td>0.03</td>\n",
       "      <td>0.00</td>\n",
       "      <td>0.30</td>\n",
       "      <td>0.08</td>\n",
       "      <td>0.08</td>\n",
       "      <td>ST</td>\n",
       "    </tr>\n",
       "  </tbody>\n",
       "</table>\n",
       "<p>5 rows × 63 columns</p>\n",
       "</div>"
      ],
      "text/plain": [
       "       Analysis      Geology Province Region Site SubSite Formation Band  \\\n",
       "958  043_ST_1_1  Superficial      NaN     SV   ST      ST       NaN   ST   \n",
       "959  044_ST_1_2  Superficial      NaN     SV   ST      ST       NaN   ST   \n",
       "960  045_ST_1_3  Superficial      NaN     SV   ST      ST       NaN   ST   \n",
       "961  046_ST_2_1  Superficial      NaN     SV   ST      ST       NaN   ST   \n",
       "962  047_ST_2_2  Superficial      NaN     SV   ST      ST       NaN   ST   \n",
       "\n",
       "    Nodule   Li7  ...  Er166  Tm169  Yb172  Lu175  Hf178  Ta181  Pb208  Th232  \\\n",
       "958   ST_1  3.55  ...   0.05   0.01   0.06   0.02   0.02   0.01   0.33   0.07   \n",
       "959   ST_1  6.30  ...   0.06   0.01   0.04   0.01   0.03   0.01   0.36   0.06   \n",
       "960   ST_1  4.47  ...   0.03   0.00   0.05   0.01   0.03   0.01   0.19   0.08   \n",
       "961   ST_2  4.74  ...   0.07   0.02   0.04   0.01   0.02   0.01   0.24   0.09   \n",
       "962   ST_2  4.15  ...   0.07   0.01   0.09   0.01   0.03   0.00   0.30   0.08   \n",
       "\n",
       "     U238  class  \n",
       "958  0.22     ST  \n",
       "959  0.17     ST  \n",
       "960  0.14     ST  \n",
       "961  0.09     ST  \n",
       "962  0.08     ST  \n",
       "\n",
       "[5 rows x 63 columns]"
      ]
     },
     "execution_count": 116,
     "metadata": {},
     "output_type": "execute_result"
    }
   ],
   "source": [
    "X.head()"
   ]
  },
  {
   "cell_type": "code",
   "execution_count": 117,
   "metadata": {},
   "outputs": [],
   "source": [
    "X_CR = X.iloc[:,9:-1]"
   ]
  },
  {
   "cell_type": "code",
   "execution_count": 118,
   "metadata": {},
   "outputs": [
    {
     "data": {
      "text/html": [
       "<div>\n",
       "<style scoped>\n",
       "    .dataframe tbody tr th:only-of-type {\n",
       "        vertical-align: middle;\n",
       "    }\n",
       "\n",
       "    .dataframe tbody tr th {\n",
       "        vertical-align: top;\n",
       "    }\n",
       "\n",
       "    .dataframe thead th {\n",
       "        text-align: right;\n",
       "    }\n",
       "</style>\n",
       "<table border=\"1\" class=\"dataframe\">\n",
       "  <thead>\n",
       "    <tr style=\"text-align: right;\">\n",
       "      <th></th>\n",
       "      <th>Li7</th>\n",
       "      <th>Be9</th>\n",
       "      <th>B11</th>\n",
       "      <th>Mg24</th>\n",
       "      <th>Al27</th>\n",
       "      <th>Si28</th>\n",
       "      <th>P31</th>\n",
       "      <th>S33</th>\n",
       "      <th>K39</th>\n",
       "      <th>Ca42</th>\n",
       "      <th>...</th>\n",
       "      <th>Ho165</th>\n",
       "      <th>Er166</th>\n",
       "      <th>Tm169</th>\n",
       "      <th>Yb172</th>\n",
       "      <th>Lu175</th>\n",
       "      <th>Hf178</th>\n",
       "      <th>Ta181</th>\n",
       "      <th>Pb208</th>\n",
       "      <th>Th232</th>\n",
       "      <th>U238</th>\n",
       "    </tr>\n",
       "  </thead>\n",
       "  <tbody>\n",
       "    <tr>\n",
       "      <th>958</th>\n",
       "      <td>3.55</td>\n",
       "      <td>0.25</td>\n",
       "      <td>46.29</td>\n",
       "      <td>41.71</td>\n",
       "      <td>380.41</td>\n",
       "      <td>465869.10</td>\n",
       "      <td>24.68</td>\n",
       "      <td>696.67</td>\n",
       "      <td>228.67</td>\n",
       "      <td>41.59</td>\n",
       "      <td>...</td>\n",
       "      <td>0.02</td>\n",
       "      <td>0.05</td>\n",
       "      <td>0.01</td>\n",
       "      <td>0.06</td>\n",
       "      <td>0.02</td>\n",
       "      <td>0.02</td>\n",
       "      <td>0.01</td>\n",
       "      <td>0.33</td>\n",
       "      <td>0.07</td>\n",
       "      <td>0.22</td>\n",
       "    </tr>\n",
       "    <tr>\n",
       "      <th>959</th>\n",
       "      <td>6.30</td>\n",
       "      <td>0.19</td>\n",
       "      <td>56.24</td>\n",
       "      <td>21.55</td>\n",
       "      <td>453.17</td>\n",
       "      <td>465774.79</td>\n",
       "      <td>31.54</td>\n",
       "      <td>703.04</td>\n",
       "      <td>267.63</td>\n",
       "      <td>62.91</td>\n",
       "      <td>...</td>\n",
       "      <td>0.01</td>\n",
       "      <td>0.06</td>\n",
       "      <td>0.01</td>\n",
       "      <td>0.04</td>\n",
       "      <td>0.01</td>\n",
       "      <td>0.03</td>\n",
       "      <td>0.01</td>\n",
       "      <td>0.36</td>\n",
       "      <td>0.06</td>\n",
       "      <td>0.17</td>\n",
       "    </tr>\n",
       "    <tr>\n",
       "      <th>960</th>\n",
       "      <td>4.47</td>\n",
       "      <td>0.15</td>\n",
       "      <td>50.51</td>\n",
       "      <td>23.70</td>\n",
       "      <td>471.68</td>\n",
       "      <td>465746.23</td>\n",
       "      <td>31.88</td>\n",
       "      <td>696.78</td>\n",
       "      <td>288.54</td>\n",
       "      <td>111.26</td>\n",
       "      <td>...</td>\n",
       "      <td>0.01</td>\n",
       "      <td>0.03</td>\n",
       "      <td>0.00</td>\n",
       "      <td>0.05</td>\n",
       "      <td>0.01</td>\n",
       "      <td>0.03</td>\n",
       "      <td>0.01</td>\n",
       "      <td>0.19</td>\n",
       "      <td>0.08</td>\n",
       "      <td>0.14</td>\n",
       "    </tr>\n",
       "    <tr>\n",
       "      <th>961</th>\n",
       "      <td>4.74</td>\n",
       "      <td>0.25</td>\n",
       "      <td>65.26</td>\n",
       "      <td>19.68</td>\n",
       "      <td>513.19</td>\n",
       "      <td>465600.74</td>\n",
       "      <td>78.07</td>\n",
       "      <td>679.72</td>\n",
       "      <td>273.34</td>\n",
       "      <td>226.43</td>\n",
       "      <td>...</td>\n",
       "      <td>0.03</td>\n",
       "      <td>0.07</td>\n",
       "      <td>0.02</td>\n",
       "      <td>0.04</td>\n",
       "      <td>0.01</td>\n",
       "      <td>0.02</td>\n",
       "      <td>0.01</td>\n",
       "      <td>0.24</td>\n",
       "      <td>0.09</td>\n",
       "      <td>0.09</td>\n",
       "    </tr>\n",
       "    <tr>\n",
       "      <th>962</th>\n",
       "      <td>4.15</td>\n",
       "      <td>0.37</td>\n",
       "      <td>67.21</td>\n",
       "      <td>18.44</td>\n",
       "      <td>447.47</td>\n",
       "      <td>465676.25</td>\n",
       "      <td>72.48</td>\n",
       "      <td>694.44</td>\n",
       "      <td>252.94</td>\n",
       "      <td>216.26</td>\n",
       "      <td>...</td>\n",
       "      <td>0.03</td>\n",
       "      <td>0.07</td>\n",
       "      <td>0.01</td>\n",
       "      <td>0.09</td>\n",
       "      <td>0.01</td>\n",
       "      <td>0.03</td>\n",
       "      <td>0.00</td>\n",
       "      <td>0.30</td>\n",
       "      <td>0.08</td>\n",
       "      <td>0.08</td>\n",
       "    </tr>\n",
       "  </tbody>\n",
       "</table>\n",
       "<p>5 rows × 53 columns</p>\n",
       "</div>"
      ],
      "text/plain": [
       "      Li7   Be9    B11   Mg24    Al27       Si28    P31     S33     K39  \\\n",
       "958  3.55  0.25  46.29  41.71  380.41  465869.10  24.68  696.67  228.67   \n",
       "959  6.30  0.19  56.24  21.55  453.17  465774.79  31.54  703.04  267.63   \n",
       "960  4.47  0.15  50.51  23.70  471.68  465746.23  31.88  696.78  288.54   \n",
       "961  4.74  0.25  65.26  19.68  513.19  465600.74  78.07  679.72  273.34   \n",
       "962  4.15  0.37  67.21  18.44  447.47  465676.25  72.48  694.44  252.94   \n",
       "\n",
       "       Ca42  ...  Ho165  Er166  Tm169  Yb172  Lu175  Hf178  Ta181  Pb208  \\\n",
       "958   41.59  ...   0.02   0.05   0.01   0.06   0.02   0.02   0.01   0.33   \n",
       "959   62.91  ...   0.01   0.06   0.01   0.04   0.01   0.03   0.01   0.36   \n",
       "960  111.26  ...   0.01   0.03   0.00   0.05   0.01   0.03   0.01   0.19   \n",
       "961  226.43  ...   0.03   0.07   0.02   0.04   0.01   0.02   0.01   0.24   \n",
       "962  216.26  ...   0.03   0.07   0.01   0.09   0.01   0.03   0.00   0.30   \n",
       "\n",
       "     Th232  U238  \n",
       "958   0.07  0.22  \n",
       "959   0.06  0.17  \n",
       "960   0.08  0.14  \n",
       "961   0.09  0.09  \n",
       "962   0.08  0.08  \n",
       "\n",
       "[5 rows x 53 columns]"
      ]
     },
     "execution_count": 118,
     "metadata": {},
     "output_type": "execute_result"
    }
   ],
   "source": [
    "X_CR.head()"
   ]
  },
  {
   "cell_type": "markdown",
   "metadata": {},
   "source": [
    "## Select only best feats (derived from RFE from PhD)"
   ]
  },
  {
   "cell_type": "code",
   "execution_count": 156,
   "metadata": {},
   "outputs": [],
   "source": [
    "best_feats = ['Zr90', 'Ba137', 'Sr88', 'Ge72', 'Cr52', 'S33', 'U238', 'Al27', 'B11', 'Mg24', 'Nd146', 'Sc45', 'K39', 'Pr141', 'Li7']"
   ]
  },
  {
   "cell_type": "code",
   "execution_count": 157,
   "metadata": {},
   "outputs": [],
   "source": [
    "X_CR = X_CR[X_CR.columns.intersection(best_feats)]"
   ]
  },
  {
   "cell_type": "code",
   "execution_count": 158,
   "metadata": {},
   "outputs": [
    {
     "data": {
      "text/html": [
       "<div>\n",
       "<style scoped>\n",
       "    .dataframe tbody tr th:only-of-type {\n",
       "        vertical-align: middle;\n",
       "    }\n",
       "\n",
       "    .dataframe tbody tr th {\n",
       "        vertical-align: top;\n",
       "    }\n",
       "\n",
       "    .dataframe thead th {\n",
       "        text-align: right;\n",
       "    }\n",
       "</style>\n",
       "<table border=\"1\" class=\"dataframe\">\n",
       "  <thead>\n",
       "    <tr style=\"text-align: right;\">\n",
       "      <th></th>\n",
       "      <th>Li7</th>\n",
       "      <th>B11</th>\n",
       "      <th>Mg24</th>\n",
       "      <th>Al27</th>\n",
       "      <th>S33</th>\n",
       "      <th>K39</th>\n",
       "      <th>Sc45</th>\n",
       "      <th>Cr52</th>\n",
       "      <th>Ge72</th>\n",
       "      <th>Sr88</th>\n",
       "      <th>Zr90</th>\n",
       "      <th>Ba137</th>\n",
       "      <th>Pr141</th>\n",
       "      <th>Nd146</th>\n",
       "      <th>U238</th>\n",
       "    </tr>\n",
       "  </thead>\n",
       "  <tbody>\n",
       "    <tr>\n",
       "      <th>958</th>\n",
       "      <td>3.55</td>\n",
       "      <td>46.29</td>\n",
       "      <td>41.71</td>\n",
       "      <td>380.41</td>\n",
       "      <td>696.67</td>\n",
       "      <td>228.67</td>\n",
       "      <td>0.72</td>\n",
       "      <td>4.09</td>\n",
       "      <td>1.54</td>\n",
       "      <td>0.95</td>\n",
       "      <td>0.62</td>\n",
       "      <td>0.78</td>\n",
       "      <td>0.13</td>\n",
       "      <td>0.58</td>\n",
       "      <td>0.22</td>\n",
       "    </tr>\n",
       "    <tr>\n",
       "      <th>959</th>\n",
       "      <td>6.30</td>\n",
       "      <td>56.24</td>\n",
       "      <td>21.55</td>\n",
       "      <td>453.17</td>\n",
       "      <td>703.04</td>\n",
       "      <td>267.63</td>\n",
       "      <td>0.67</td>\n",
       "      <td>3.71</td>\n",
       "      <td>2.43</td>\n",
       "      <td>1.54</td>\n",
       "      <td>0.78</td>\n",
       "      <td>1.33</td>\n",
       "      <td>0.15</td>\n",
       "      <td>0.49</td>\n",
       "      <td>0.17</td>\n",
       "    </tr>\n",
       "    <tr>\n",
       "      <th>960</th>\n",
       "      <td>4.47</td>\n",
       "      <td>50.51</td>\n",
       "      <td>23.70</td>\n",
       "      <td>471.68</td>\n",
       "      <td>696.78</td>\n",
       "      <td>288.54</td>\n",
       "      <td>0.71</td>\n",
       "      <td>3.24</td>\n",
       "      <td>1.56</td>\n",
       "      <td>1.08</td>\n",
       "      <td>0.69</td>\n",
       "      <td>1.11</td>\n",
       "      <td>0.13</td>\n",
       "      <td>0.46</td>\n",
       "      <td>0.14</td>\n",
       "    </tr>\n",
       "    <tr>\n",
       "      <th>961</th>\n",
       "      <td>4.74</td>\n",
       "      <td>65.26</td>\n",
       "      <td>19.68</td>\n",
       "      <td>513.19</td>\n",
       "      <td>679.72</td>\n",
       "      <td>273.34</td>\n",
       "      <td>0.65</td>\n",
       "      <td>3.75</td>\n",
       "      <td>1.22</td>\n",
       "      <td>3.38</td>\n",
       "      <td>0.86</td>\n",
       "      <td>2.76</td>\n",
       "      <td>0.29</td>\n",
       "      <td>1.08</td>\n",
       "      <td>0.09</td>\n",
       "    </tr>\n",
       "    <tr>\n",
       "      <th>962</th>\n",
       "      <td>4.15</td>\n",
       "      <td>67.21</td>\n",
       "      <td>18.44</td>\n",
       "      <td>447.47</td>\n",
       "      <td>694.44</td>\n",
       "      <td>252.94</td>\n",
       "      <td>0.69</td>\n",
       "      <td>3.48</td>\n",
       "      <td>1.03</td>\n",
       "      <td>3.17</td>\n",
       "      <td>1.06</td>\n",
       "      <td>1.63</td>\n",
       "      <td>0.28</td>\n",
       "      <td>1.02</td>\n",
       "      <td>0.08</td>\n",
       "    </tr>\n",
       "  </tbody>\n",
       "</table>\n",
       "</div>"
      ],
      "text/plain": [
       "      Li7    B11   Mg24    Al27     S33     K39  Sc45  Cr52  Ge72  Sr88  Zr90  \\\n",
       "958  3.55  46.29  41.71  380.41  696.67  228.67  0.72  4.09  1.54  0.95  0.62   \n",
       "959  6.30  56.24  21.55  453.17  703.04  267.63  0.67  3.71  2.43  1.54  0.78   \n",
       "960  4.47  50.51  23.70  471.68  696.78  288.54  0.71  3.24  1.56  1.08  0.69   \n",
       "961  4.74  65.26  19.68  513.19  679.72  273.34  0.65  3.75  1.22  3.38  0.86   \n",
       "962  4.15  67.21  18.44  447.47  694.44  252.94  0.69  3.48  1.03  3.17  1.06   \n",
       "\n",
       "     Ba137  Pr141  Nd146  U238  \n",
       "958   0.78   0.13   0.58  0.22  \n",
       "959   1.33   0.15   0.49  0.17  \n",
       "960   1.11   0.13   0.46  0.14  \n",
       "961   2.76   0.29   1.08  0.09  \n",
       "962   1.63   0.28   1.02  0.08  "
      ]
     },
     "execution_count": 158,
     "metadata": {},
     "output_type": "execute_result"
    }
   ],
   "source": [
    "X_CR.head()"
   ]
  },
  {
   "cell_type": "code",
   "execution_count": 159,
   "metadata": {},
   "outputs": [
    {
     "ename": "IndexError",
     "evalue": "single positional indexer is out-of-bounds",
     "output_type": "error",
     "traceback": [
      "\u001b[1;31m---------------------------------------------------------------------------\u001b[0m",
      "\u001b[1;31mIndexError\u001b[0m                                Traceback (most recent call last)",
      "Input \u001b[1;32mIn [159]\u001b[0m, in \u001b[0;36m<cell line: 6>\u001b[1;34m()\u001b[0m\n\u001b[0;32m      4\u001b[0m model \u001b[38;5;241m=\u001b[39m SpectralClustering(n_clusters\u001b[38;5;241m=\u001b[39m\u001b[38;5;241m2\u001b[39m, affinity\u001b[38;5;241m=\u001b[39m\u001b[38;5;124m'\u001b[39m\u001b[38;5;124mnearest_neighbors\u001b[39m\u001b[38;5;124m'\u001b[39m, assign_labels\u001b[38;5;241m=\u001b[39m\u001b[38;5;124m'\u001b[39m\u001b[38;5;124mkmeans\u001b[39m\u001b[38;5;124m'\u001b[39m)\n\u001b[0;32m      5\u001b[0m labels \u001b[38;5;241m=\u001b[39m model\u001b[38;5;241m.\u001b[39mfit_predict(X_CR)\n\u001b[1;32m----> 6\u001b[0m plt\u001b[38;5;241m.\u001b[39mscatter(X_CR\u001b[38;5;241m.\u001b[39miloc[:, \u001b[38;5;241m9\u001b[39m], \u001b[43mX_CR\u001b[49m\u001b[38;5;241;43m.\u001b[39;49m\u001b[43miloc\u001b[49m\u001b[43m[\u001b[49m\u001b[43m:\u001b[49m\u001b[43m,\u001b[49m\u001b[43m \u001b[49m\u001b[38;5;241;43m23\u001b[39;49m\u001b[43m]\u001b[49m, c\u001b[38;5;241m=\u001b[39mlabels, s\u001b[38;5;241m=\u001b[39m\u001b[38;5;241m50\u001b[39m, cmap\u001b[38;5;241m=\u001b[39m\u001b[38;5;124m'\u001b[39m\u001b[38;5;124mviridis\u001b[39m\u001b[38;5;124m'\u001b[39m)\n",
      "File \u001b[1;32m~\\anaconda3\\lib\\site-packages\\pandas\\core\\indexing.py:961\u001b[0m, in \u001b[0;36m_LocationIndexer.__getitem__\u001b[1;34m(self, key)\u001b[0m\n\u001b[0;32m    959\u001b[0m     \u001b[38;5;28;01mif\u001b[39;00m \u001b[38;5;28mself\u001b[39m\u001b[38;5;241m.\u001b[39m_is_scalar_access(key):\n\u001b[0;32m    960\u001b[0m         \u001b[38;5;28;01mreturn\u001b[39;00m \u001b[38;5;28mself\u001b[39m\u001b[38;5;241m.\u001b[39mobj\u001b[38;5;241m.\u001b[39m_get_value(\u001b[38;5;241m*\u001b[39mkey, takeable\u001b[38;5;241m=\u001b[39m\u001b[38;5;28mself\u001b[39m\u001b[38;5;241m.\u001b[39m_takeable)\n\u001b[1;32m--> 961\u001b[0m     \u001b[38;5;28;01mreturn\u001b[39;00m \u001b[38;5;28;43mself\u001b[39;49m\u001b[38;5;241;43m.\u001b[39;49m\u001b[43m_getitem_tuple\u001b[49m\u001b[43m(\u001b[49m\u001b[43mkey\u001b[49m\u001b[43m)\u001b[49m\n\u001b[0;32m    962\u001b[0m \u001b[38;5;28;01melse\u001b[39;00m:\n\u001b[0;32m    963\u001b[0m     \u001b[38;5;66;03m# we by definition only have the 0th axis\u001b[39;00m\n\u001b[0;32m    964\u001b[0m     axis \u001b[38;5;241m=\u001b[39m \u001b[38;5;28mself\u001b[39m\u001b[38;5;241m.\u001b[39maxis \u001b[38;5;129;01mor\u001b[39;00m \u001b[38;5;241m0\u001b[39m\n",
      "File \u001b[1;32m~\\anaconda3\\lib\\site-packages\\pandas\\core\\indexing.py:1458\u001b[0m, in \u001b[0;36m_iLocIndexer._getitem_tuple\u001b[1;34m(self, tup)\u001b[0m\n\u001b[0;32m   1456\u001b[0m \u001b[38;5;28;01mdef\u001b[39;00m \u001b[38;5;21m_getitem_tuple\u001b[39m(\u001b[38;5;28mself\u001b[39m, tup: \u001b[38;5;28mtuple\u001b[39m):\n\u001b[1;32m-> 1458\u001b[0m     tup \u001b[38;5;241m=\u001b[39m \u001b[38;5;28;43mself\u001b[39;49m\u001b[38;5;241;43m.\u001b[39;49m\u001b[43m_validate_tuple_indexer\u001b[49m\u001b[43m(\u001b[49m\u001b[43mtup\u001b[49m\u001b[43m)\u001b[49m\n\u001b[0;32m   1459\u001b[0m     \u001b[38;5;28;01mwith\u001b[39;00m suppress(IndexingError):\n\u001b[0;32m   1460\u001b[0m         \u001b[38;5;28;01mreturn\u001b[39;00m \u001b[38;5;28mself\u001b[39m\u001b[38;5;241m.\u001b[39m_getitem_lowerdim(tup)\n",
      "File \u001b[1;32m~\\anaconda3\\lib\\site-packages\\pandas\\core\\indexing.py:769\u001b[0m, in \u001b[0;36m_LocationIndexer._validate_tuple_indexer\u001b[1;34m(self, key)\u001b[0m\n\u001b[0;32m    767\u001b[0m \u001b[38;5;28;01mfor\u001b[39;00m i, k \u001b[38;5;129;01min\u001b[39;00m \u001b[38;5;28menumerate\u001b[39m(key):\n\u001b[0;32m    768\u001b[0m     \u001b[38;5;28;01mtry\u001b[39;00m:\n\u001b[1;32m--> 769\u001b[0m         \u001b[38;5;28;43mself\u001b[39;49m\u001b[38;5;241;43m.\u001b[39;49m\u001b[43m_validate_key\u001b[49m\u001b[43m(\u001b[49m\u001b[43mk\u001b[49m\u001b[43m,\u001b[49m\u001b[43m \u001b[49m\u001b[43mi\u001b[49m\u001b[43m)\u001b[49m\n\u001b[0;32m    770\u001b[0m     \u001b[38;5;28;01mexcept\u001b[39;00m \u001b[38;5;167;01mValueError\u001b[39;00m \u001b[38;5;28;01mas\u001b[39;00m err:\n\u001b[0;32m    771\u001b[0m         \u001b[38;5;28;01mraise\u001b[39;00m \u001b[38;5;167;01mValueError\u001b[39;00m(\n\u001b[0;32m    772\u001b[0m             \u001b[38;5;124m\"\u001b[39m\u001b[38;5;124mLocation based indexing can only have \u001b[39m\u001b[38;5;124m\"\u001b[39m\n\u001b[0;32m    773\u001b[0m             \u001b[38;5;124mf\u001b[39m\u001b[38;5;124m\"\u001b[39m\u001b[38;5;124m[\u001b[39m\u001b[38;5;132;01m{\u001b[39;00m\u001b[38;5;28mself\u001b[39m\u001b[38;5;241m.\u001b[39m_valid_types\u001b[38;5;132;01m}\u001b[39;00m\u001b[38;5;124m] types\u001b[39m\u001b[38;5;124m\"\u001b[39m\n\u001b[0;32m    774\u001b[0m         ) \u001b[38;5;28;01mfrom\u001b[39;00m \u001b[38;5;21;01merr\u001b[39;00m\n",
      "File \u001b[1;32m~\\anaconda3\\lib\\site-packages\\pandas\\core\\indexing.py:1361\u001b[0m, in \u001b[0;36m_iLocIndexer._validate_key\u001b[1;34m(self, key, axis)\u001b[0m\n\u001b[0;32m   1359\u001b[0m     \u001b[38;5;28;01mreturn\u001b[39;00m\n\u001b[0;32m   1360\u001b[0m \u001b[38;5;28;01melif\u001b[39;00m is_integer(key):\n\u001b[1;32m-> 1361\u001b[0m     \u001b[38;5;28;43mself\u001b[39;49m\u001b[38;5;241;43m.\u001b[39;49m\u001b[43m_validate_integer\u001b[49m\u001b[43m(\u001b[49m\u001b[43mkey\u001b[49m\u001b[43m,\u001b[49m\u001b[43m \u001b[49m\u001b[43maxis\u001b[49m\u001b[43m)\u001b[49m\n\u001b[0;32m   1362\u001b[0m \u001b[38;5;28;01melif\u001b[39;00m \u001b[38;5;28misinstance\u001b[39m(key, \u001b[38;5;28mtuple\u001b[39m):\n\u001b[0;32m   1363\u001b[0m     \u001b[38;5;66;03m# a tuple should already have been caught by this point\u001b[39;00m\n\u001b[0;32m   1364\u001b[0m     \u001b[38;5;66;03m# so don't treat a tuple as a valid indexer\u001b[39;00m\n\u001b[0;32m   1365\u001b[0m     \u001b[38;5;28;01mraise\u001b[39;00m IndexingError(\u001b[38;5;124m\"\u001b[39m\u001b[38;5;124mToo many indexers\u001b[39m\u001b[38;5;124m\"\u001b[39m)\n",
      "File \u001b[1;32m~\\anaconda3\\lib\\site-packages\\pandas\\core\\indexing.py:1452\u001b[0m, in \u001b[0;36m_iLocIndexer._validate_integer\u001b[1;34m(self, key, axis)\u001b[0m\n\u001b[0;32m   1450\u001b[0m len_axis \u001b[38;5;241m=\u001b[39m \u001b[38;5;28mlen\u001b[39m(\u001b[38;5;28mself\u001b[39m\u001b[38;5;241m.\u001b[39mobj\u001b[38;5;241m.\u001b[39m_get_axis(axis))\n\u001b[0;32m   1451\u001b[0m \u001b[38;5;28;01mif\u001b[39;00m key \u001b[38;5;241m>\u001b[39m\u001b[38;5;241m=\u001b[39m len_axis \u001b[38;5;129;01mor\u001b[39;00m key \u001b[38;5;241m<\u001b[39m \u001b[38;5;241m-\u001b[39mlen_axis:\n\u001b[1;32m-> 1452\u001b[0m     \u001b[38;5;28;01mraise\u001b[39;00m \u001b[38;5;167;01mIndexError\u001b[39;00m(\u001b[38;5;124m\"\u001b[39m\u001b[38;5;124msingle positional indexer is out-of-bounds\u001b[39m\u001b[38;5;124m\"\u001b[39m)\n",
      "\u001b[1;31mIndexError\u001b[0m: single positional indexer is out-of-bounds"
     ]
    }
   ],
   "source": [
    "from sklearn.cluster import SpectralClustering\n",
    "import matplotlib.pyplot as plt\n",
    "import seaborn as sns\n",
    "model = SpectralClustering(n_clusters=2, affinity='nearest_neighbors', assign_labels='kmeans')\n",
    "labels = model.fit_predict(X_CR)\n",
    "plt.scatter(X_CR.iloc[:, 9], X_CR.iloc[:, 23], c=labels, s=50, cmap='viridis');\n",
    "\n"
   ]
  },
  {
   "cell_type": "code",
   "execution_count": 160,
   "metadata": {},
   "outputs": [],
   "source": [
    "import plotly.express as px"
   ]
  },
  {
   "cell_type": "code",
   "execution_count": 161,
   "metadata": {},
   "outputs": [
    {
     "data": {
      "application/vnd.plotly.v1+json": {
       "config": {
        "plotlyServerURL": "https://plot.ly"
       },
       "data": [
        {
         "hovertemplate": "x=%{x}<br>y=%{y}<br>z=%{z}<extra></extra>",
         "legendgroup": "",
         "marker": {
          "color": "#636efa",
          "symbol": "circle"
         },
         "mode": "markers",
         "name": "",
         "scene": "scene",
         "showlegend": false,
         "type": "scatter3d",
         "x": [
          46.29,
          56.24,
          50.51,
          65.26,
          67.21,
          81.34,
          74.04,
          71.74,
          73.23,
          76.74,
          75.35,
          77.94,
          84.69,
          86.92,
          87.2,
          67.79,
          67.47,
          71.16,
          81.52,
          63.65,
          85.9,
          66.77,
          62.16,
          68.06,
          63.64,
          64.15,
          66.42,
          47.12,
          70.73620370370371,
          70.73620370370371,
          66.29,
          60.75,
          61.83,
          79.48,
          80.8,
          70.3,
          78.96,
          92.35,
          68.82,
          89.77,
          78.7,
          71.19,
          65.9,
          57.31,
          67.46,
          76.92,
          78.94,
          46.68,
          60.13,
          67.24,
          64.37,
          60.79,
          61.48,
          57.05,
          68.5,
          61.22,
          63.86,
          80.45,
          78.68,
          76.07,
          59.38,
          56.02,
          57.05,
          69.05,
          66.98,
          68.38,
          70.73620370370371,
          70.73620370370371,
          70.73620370370371,
          49.56,
          53.61,
          58.89,
          80.06,
          74.75,
          69.25,
          62.96,
          57.91,
          59.33,
          62.62,
          59.38,
          61.23,
          79.16,
          72.3,
          80.02,
          66.35,
          65.68,
          71.52,
          71.45,
          59.75,
          70.73620370370371,
          79.98,
          76.75,
          83.17,
          79.02,
          85.85,
          77.17,
          80.88,
          74.9,
          83.3,
          61.02,
          53.68,
          59.37,
          77.29,
          52.15,
          62.34,
          56.69,
          70.73620370370371,
          53.69,
          92.45,
          78.42,
          74.52,
          80.24,
          58.72,
          72.23,
          60.98,
          64.78,
          70.98,
          66.9,
          62.29,
          70.73620370370371
         ],
         "y": [
          41.71,
          21.55,
          23.7,
          19.68,
          18.44,
          21.84,
          16.1,
          16.72,
          16.87,
          23.76,
          18.95,
          33.84,
          18.19,
          15.42,
          18.23,
          20.49,
          19.94,
          23.09,
          12.84,
          17.17,
          15.55,
          16.32,
          17.06,
          19.56,
          16.74,
          20.54,
          17.81,
          54.13,
          44.92,
          42.58,
          17.56,
          21.77,
          18.74,
          11.52,
          12.81,
          13.73,
          15.14,
          13.77,
          16.65,
          13.23,
          12.62,
          12.24,
          14.11,
          13.35,
          12.85,
          24.02,
          26.87,
          40.52,
          22.7,
          23.39,
          22.43,
          22.06,
          20.72,
          19.5,
          17.16,
          13.51,
          13.71,
          13.4,
          12.82,
          12.16,
          17.45,
          17.92,
          18.96,
          24.15,
          19.5,
          24.93,
          8.1,
          8.99,
          5.3,
          17.25,
          13.72,
          18.07,
          19.48,
          23.55,
          20.21,
          18.55,
          13.94,
          19.83,
          17.31,
          17.51,
          21.99,
          22.71,
          24.2,
          25.37,
          20.96,
          25.85,
          22.39,
          19.89,
          23.76,
          8.69,
          17.68,
          23.03,
          14.83,
          22.99,
          20.52,
          22.99,
          17.75,
          15.59,
          15.55,
          17.04,
          18.2,
          17.38,
          13.56,
          10.8,
          12.41,
          17.62,
          11.98,
          15.35,
          33.24,
          24.48,
          22.41,
          13.62,
          14.66,
          19.1,
          22.96,
          18.71,
          19.25,
          13.67,
          15.65,
          12.66
         ],
         "z": [
          380.41,
          453.17,
          471.68,
          513.19,
          447.47,
          517.13,
          318.21,
          384.7,
          427.92,
          472.12,
          515.04,
          125.74,
          625.37,
          507.31,
          602.49,
          598.06,
          649.2,
          699.03,
          328.43,
          545.73,
          324.59,
          490.86,
          522.54,
          524.39,
          404.57,
          377.69,
          385.66,
          382.31,
          383.52,
          372.05,
          604.13,
          587.68,
          606.4,
          299.53,
          303.23,
          319.32,
          399.66,
          320.51,
          337.95,
          310.8,
          299.28,
          282.68,
          319.9,
          402.73,
          359.7,
          780.79,
          1100.26,
          1157.93,
          624.21,
          538.52,
          603.44,
          605.73,
          447.3,
          455.23,
          423.78,
          409.15,
          396.23,
          281.96,
          296.14,
          273.62,
          371.62,
          360.56,
          397.04,
          519.35,
          430.56,
          528.52,
          887.55,
          1078.36,
          927.43,
          487.46,
          462.62,
          451.69,
          462.88,
          529.16,
          522.99,
          481.04,
          486.66,
          606.24,
          342.62,
          343.64,
          336.3,
          608.69,
          793.29,
          722.06,
          358.4,
          388.78,
          401.34,
          598.38,
          699.31,
          498.43,
          254.87,
          376.06,
          192.26,
          559.92,
          474.4,
          577.26,
          312.84,
          283.8,
          284.39,
          317.47,
          323.33,
          296.54,
          239.92,
          208.3,
          236.23,
          386.3,
          284.07,
          326.02,
          576.32,
          469.68,
          495.43,
          300.78,
          424.66,
          357.55,
          477.43,
          379.46,
          433.34,
          278.34,
          284.42,
          298.32
         ]
        }
       ],
       "layout": {
        "autosize": true,
        "legend": {
         "tracegroupgap": 0
        },
        "margin": {
         "t": 60
        },
        "scene": {
         "aspectmode": "auto",
         "aspectratio": {
          "x": 1,
          "y": 1,
          "z": 1
         },
         "domain": {
          "x": [
           0,
           1
          ],
          "y": [
           0,
           1
          ]
         },
         "xaxis": {
          "title": {
           "text": "x"
          },
          "type": "linear"
         },
         "yaxis": {
          "title": {
           "text": "y"
          },
          "type": "linear"
         },
         "zaxis": {
          "title": {
           "text": "z"
          },
          "type": "linear"
         }
        },
        "template": {
         "data": {
          "bar": [
           {
            "error_x": {
             "color": "#2a3f5f"
            },
            "error_y": {
             "color": "#2a3f5f"
            },
            "marker": {
             "line": {
              "color": "#E5ECF6",
              "width": 0.5
             },
             "pattern": {
              "fillmode": "overlay",
              "size": 10,
              "solidity": 0.2
             }
            },
            "type": "bar"
           }
          ],
          "barpolar": [
           {
            "marker": {
             "line": {
              "color": "#E5ECF6",
              "width": 0.5
             },
             "pattern": {
              "fillmode": "overlay",
              "size": 10,
              "solidity": 0.2
             }
            },
            "type": "barpolar"
           }
          ],
          "carpet": [
           {
            "aaxis": {
             "endlinecolor": "#2a3f5f",
             "gridcolor": "white",
             "linecolor": "white",
             "minorgridcolor": "white",
             "startlinecolor": "#2a3f5f"
            },
            "baxis": {
             "endlinecolor": "#2a3f5f",
             "gridcolor": "white",
             "linecolor": "white",
             "minorgridcolor": "white",
             "startlinecolor": "#2a3f5f"
            },
            "type": "carpet"
           }
          ],
          "choropleth": [
           {
            "colorbar": {
             "outlinewidth": 0,
             "ticks": ""
            },
            "type": "choropleth"
           }
          ],
          "contour": [
           {
            "colorbar": {
             "outlinewidth": 0,
             "ticks": ""
            },
            "colorscale": [
             [
              0,
              "#0d0887"
             ],
             [
              0.1111111111111111,
              "#46039f"
             ],
             [
              0.2222222222222222,
              "#7201a8"
             ],
             [
              0.3333333333333333,
              "#9c179e"
             ],
             [
              0.4444444444444444,
              "#bd3786"
             ],
             [
              0.5555555555555556,
              "#d8576b"
             ],
             [
              0.6666666666666666,
              "#ed7953"
             ],
             [
              0.7777777777777778,
              "#fb9f3a"
             ],
             [
              0.8888888888888888,
              "#fdca26"
             ],
             [
              1,
              "#f0f921"
             ]
            ],
            "type": "contour"
           }
          ],
          "contourcarpet": [
           {
            "colorbar": {
             "outlinewidth": 0,
             "ticks": ""
            },
            "type": "contourcarpet"
           }
          ],
          "heatmap": [
           {
            "colorbar": {
             "outlinewidth": 0,
             "ticks": ""
            },
            "colorscale": [
             [
              0,
              "#0d0887"
             ],
             [
              0.1111111111111111,
              "#46039f"
             ],
             [
              0.2222222222222222,
              "#7201a8"
             ],
             [
              0.3333333333333333,
              "#9c179e"
             ],
             [
              0.4444444444444444,
              "#bd3786"
             ],
             [
              0.5555555555555556,
              "#d8576b"
             ],
             [
              0.6666666666666666,
              "#ed7953"
             ],
             [
              0.7777777777777778,
              "#fb9f3a"
             ],
             [
              0.8888888888888888,
              "#fdca26"
             ],
             [
              1,
              "#f0f921"
             ]
            ],
            "type": "heatmap"
           }
          ],
          "heatmapgl": [
           {
            "colorbar": {
             "outlinewidth": 0,
             "ticks": ""
            },
            "colorscale": [
             [
              0,
              "#0d0887"
             ],
             [
              0.1111111111111111,
              "#46039f"
             ],
             [
              0.2222222222222222,
              "#7201a8"
             ],
             [
              0.3333333333333333,
              "#9c179e"
             ],
             [
              0.4444444444444444,
              "#bd3786"
             ],
             [
              0.5555555555555556,
              "#d8576b"
             ],
             [
              0.6666666666666666,
              "#ed7953"
             ],
             [
              0.7777777777777778,
              "#fb9f3a"
             ],
             [
              0.8888888888888888,
              "#fdca26"
             ],
             [
              1,
              "#f0f921"
             ]
            ],
            "type": "heatmapgl"
           }
          ],
          "histogram": [
           {
            "marker": {
             "pattern": {
              "fillmode": "overlay",
              "size": 10,
              "solidity": 0.2
             }
            },
            "type": "histogram"
           }
          ],
          "histogram2d": [
           {
            "colorbar": {
             "outlinewidth": 0,
             "ticks": ""
            },
            "colorscale": [
             [
              0,
              "#0d0887"
             ],
             [
              0.1111111111111111,
              "#46039f"
             ],
             [
              0.2222222222222222,
              "#7201a8"
             ],
             [
              0.3333333333333333,
              "#9c179e"
             ],
             [
              0.4444444444444444,
              "#bd3786"
             ],
             [
              0.5555555555555556,
              "#d8576b"
             ],
             [
              0.6666666666666666,
              "#ed7953"
             ],
             [
              0.7777777777777778,
              "#fb9f3a"
             ],
             [
              0.8888888888888888,
              "#fdca26"
             ],
             [
              1,
              "#f0f921"
             ]
            ],
            "type": "histogram2d"
           }
          ],
          "histogram2dcontour": [
           {
            "colorbar": {
             "outlinewidth": 0,
             "ticks": ""
            },
            "colorscale": [
             [
              0,
              "#0d0887"
             ],
             [
              0.1111111111111111,
              "#46039f"
             ],
             [
              0.2222222222222222,
              "#7201a8"
             ],
             [
              0.3333333333333333,
              "#9c179e"
             ],
             [
              0.4444444444444444,
              "#bd3786"
             ],
             [
              0.5555555555555556,
              "#d8576b"
             ],
             [
              0.6666666666666666,
              "#ed7953"
             ],
             [
              0.7777777777777778,
              "#fb9f3a"
             ],
             [
              0.8888888888888888,
              "#fdca26"
             ],
             [
              1,
              "#f0f921"
             ]
            ],
            "type": "histogram2dcontour"
           }
          ],
          "mesh3d": [
           {
            "colorbar": {
             "outlinewidth": 0,
             "ticks": ""
            },
            "type": "mesh3d"
           }
          ],
          "parcoords": [
           {
            "line": {
             "colorbar": {
              "outlinewidth": 0,
              "ticks": ""
             }
            },
            "type": "parcoords"
           }
          ],
          "pie": [
           {
            "automargin": true,
            "type": "pie"
           }
          ],
          "scatter": [
           {
            "marker": {
             "colorbar": {
              "outlinewidth": 0,
              "ticks": ""
             }
            },
            "type": "scatter"
           }
          ],
          "scatter3d": [
           {
            "line": {
             "colorbar": {
              "outlinewidth": 0,
              "ticks": ""
             }
            },
            "marker": {
             "colorbar": {
              "outlinewidth": 0,
              "ticks": ""
             }
            },
            "type": "scatter3d"
           }
          ],
          "scattercarpet": [
           {
            "marker": {
             "colorbar": {
              "outlinewidth": 0,
              "ticks": ""
             }
            },
            "type": "scattercarpet"
           }
          ],
          "scattergeo": [
           {
            "marker": {
             "colorbar": {
              "outlinewidth": 0,
              "ticks": ""
             }
            },
            "type": "scattergeo"
           }
          ],
          "scattergl": [
           {
            "marker": {
             "colorbar": {
              "outlinewidth": 0,
              "ticks": ""
             }
            },
            "type": "scattergl"
           }
          ],
          "scattermapbox": [
           {
            "marker": {
             "colorbar": {
              "outlinewidth": 0,
              "ticks": ""
             }
            },
            "type": "scattermapbox"
           }
          ],
          "scatterpolar": [
           {
            "marker": {
             "colorbar": {
              "outlinewidth": 0,
              "ticks": ""
             }
            },
            "type": "scatterpolar"
           }
          ],
          "scatterpolargl": [
           {
            "marker": {
             "colorbar": {
              "outlinewidth": 0,
              "ticks": ""
             }
            },
            "type": "scatterpolargl"
           }
          ],
          "scatterternary": [
           {
            "marker": {
             "colorbar": {
              "outlinewidth": 0,
              "ticks": ""
             }
            },
            "type": "scatterternary"
           }
          ],
          "surface": [
           {
            "colorbar": {
             "outlinewidth": 0,
             "ticks": ""
            },
            "colorscale": [
             [
              0,
              "#0d0887"
             ],
             [
              0.1111111111111111,
              "#46039f"
             ],
             [
              0.2222222222222222,
              "#7201a8"
             ],
             [
              0.3333333333333333,
              "#9c179e"
             ],
             [
              0.4444444444444444,
              "#bd3786"
             ],
             [
              0.5555555555555556,
              "#d8576b"
             ],
             [
              0.6666666666666666,
              "#ed7953"
             ],
             [
              0.7777777777777778,
              "#fb9f3a"
             ],
             [
              0.8888888888888888,
              "#fdca26"
             ],
             [
              1,
              "#f0f921"
             ]
            ],
            "type": "surface"
           }
          ],
          "table": [
           {
            "cells": {
             "fill": {
              "color": "#EBF0F8"
             },
             "line": {
              "color": "white"
             }
            },
            "header": {
             "fill": {
              "color": "#C8D4E3"
             },
             "line": {
              "color": "white"
             }
            },
            "type": "table"
           }
          ]
         },
         "layout": {
          "annotationdefaults": {
           "arrowcolor": "#2a3f5f",
           "arrowhead": 0,
           "arrowwidth": 1
          },
          "autotypenumbers": "strict",
          "coloraxis": {
           "colorbar": {
            "outlinewidth": 0,
            "ticks": ""
           }
          },
          "colorscale": {
           "diverging": [
            [
             0,
             "#8e0152"
            ],
            [
             0.1,
             "#c51b7d"
            ],
            [
             0.2,
             "#de77ae"
            ],
            [
             0.3,
             "#f1b6da"
            ],
            [
             0.4,
             "#fde0ef"
            ],
            [
             0.5,
             "#f7f7f7"
            ],
            [
             0.6,
             "#e6f5d0"
            ],
            [
             0.7,
             "#b8e186"
            ],
            [
             0.8,
             "#7fbc41"
            ],
            [
             0.9,
             "#4d9221"
            ],
            [
             1,
             "#276419"
            ]
           ],
           "sequential": [
            [
             0,
             "#0d0887"
            ],
            [
             0.1111111111111111,
             "#46039f"
            ],
            [
             0.2222222222222222,
             "#7201a8"
            ],
            [
             0.3333333333333333,
             "#9c179e"
            ],
            [
             0.4444444444444444,
             "#bd3786"
            ],
            [
             0.5555555555555556,
             "#d8576b"
            ],
            [
             0.6666666666666666,
             "#ed7953"
            ],
            [
             0.7777777777777778,
             "#fb9f3a"
            ],
            [
             0.8888888888888888,
             "#fdca26"
            ],
            [
             1,
             "#f0f921"
            ]
           ],
           "sequentialminus": [
            [
             0,
             "#0d0887"
            ],
            [
             0.1111111111111111,
             "#46039f"
            ],
            [
             0.2222222222222222,
             "#7201a8"
            ],
            [
             0.3333333333333333,
             "#9c179e"
            ],
            [
             0.4444444444444444,
             "#bd3786"
            ],
            [
             0.5555555555555556,
             "#d8576b"
            ],
            [
             0.6666666666666666,
             "#ed7953"
            ],
            [
             0.7777777777777778,
             "#fb9f3a"
            ],
            [
             0.8888888888888888,
             "#fdca26"
            ],
            [
             1,
             "#f0f921"
            ]
           ]
          },
          "colorway": [
           "#636efa",
           "#EF553B",
           "#00cc96",
           "#ab63fa",
           "#FFA15A",
           "#19d3f3",
           "#FF6692",
           "#B6E880",
           "#FF97FF",
           "#FECB52"
          ],
          "font": {
           "color": "#2a3f5f"
          },
          "geo": {
           "bgcolor": "white",
           "lakecolor": "white",
           "landcolor": "#E5ECF6",
           "showlakes": true,
           "showland": true,
           "subunitcolor": "white"
          },
          "hoverlabel": {
           "align": "left"
          },
          "hovermode": "closest",
          "mapbox": {
           "style": "light"
          },
          "paper_bgcolor": "white",
          "plot_bgcolor": "#E5ECF6",
          "polar": {
           "angularaxis": {
            "gridcolor": "white",
            "linecolor": "white",
            "ticks": ""
           },
           "bgcolor": "#E5ECF6",
           "radialaxis": {
            "gridcolor": "white",
            "linecolor": "white",
            "ticks": ""
           }
          },
          "scene": {
           "xaxis": {
            "backgroundcolor": "#E5ECF6",
            "gridcolor": "white",
            "gridwidth": 2,
            "linecolor": "white",
            "showbackground": true,
            "ticks": "",
            "zerolinecolor": "white"
           },
           "yaxis": {
            "backgroundcolor": "#E5ECF6",
            "gridcolor": "white",
            "gridwidth": 2,
            "linecolor": "white",
            "showbackground": true,
            "ticks": "",
            "zerolinecolor": "white"
           },
           "zaxis": {
            "backgroundcolor": "#E5ECF6",
            "gridcolor": "white",
            "gridwidth": 2,
            "linecolor": "white",
            "showbackground": true,
            "ticks": "",
            "zerolinecolor": "white"
           }
          },
          "shapedefaults": {
           "line": {
            "color": "#2a3f5f"
           }
          },
          "ternary": {
           "aaxis": {
            "gridcolor": "white",
            "linecolor": "white",
            "ticks": ""
           },
           "baxis": {
            "gridcolor": "white",
            "linecolor": "white",
            "ticks": ""
           },
           "bgcolor": "#E5ECF6",
           "caxis": {
            "gridcolor": "white",
            "linecolor": "white",
            "ticks": ""
           }
          },
          "title": {
           "x": 0.05
          },
          "xaxis": {
           "automargin": true,
           "gridcolor": "white",
           "linecolor": "white",
           "ticks": "",
           "title": {
            "standoff": 15
           },
           "zerolinecolor": "white",
           "zerolinewidth": 2
          },
          "yaxis": {
           "automargin": true,
           "gridcolor": "white",
           "linecolor": "white",
           "ticks": "",
           "title": {
            "standoff": 15
           },
           "zerolinecolor": "white",
           "zerolinewidth": 2
          }
         }
        },
        "title": {
         "text": "5 Features Representation"
        }
       }
      },
      "image/png": "[encoded data removed]",
      "text/html": [
       "<div>                            <div id=\"4e186363-36d0-4f55-8ddb-df2b6397c66d\" class=\"plotly-graph-div\" style=\"height:525px; width:100%;\"></div>            <script type=\"text/javascript\">                require([\"plotly\"], function(Plotly) {                    window.PLOTLYENV=window.PLOTLYENV || {};                                    if (document.getElementById(\"4e186363-36d0-4f55-8ddb-df2b6397c66d\")) {                    Plotly.newPlot(                        \"4e186363-36d0-4f55-8ddb-df2b6397c66d\",                        [{\"hovertemplate\":\"x=%{x}<br>y=%{y}<br>z=%{z}<extra></extra>\",\"legendgroup\":\"\",\"marker\":{\"color\":\"#636efa\",\"symbol\":\"circle\"},\"mode\":\"markers\",\"name\":\"\",\"scene\":\"scene\",\"showlegend\":false,\"x\":[46.29,56.24,50.51,65.26,67.21,81.34,74.04,71.74,73.23,76.74,75.35,77.94,84.69,86.92,87.2,67.79,67.47,71.16,81.52,63.65,85.9,66.77,62.16,68.06,63.64,64.15,66.42,47.12,70.73620370370371,70.73620370370371,66.29,60.75,61.83,79.48,80.8,70.3,78.96,92.35,68.82,89.77,78.7,71.19,65.9,57.31,67.46,76.92,78.94,46.68,60.13,67.24,64.37,60.79,61.48,57.05,68.5,61.22,63.86,80.45,78.68,76.07,59.38,56.02,57.05,69.05,66.98,68.38,70.73620370370371,70.73620370370371,70.73620370370371,49.56,53.61,58.89,80.06,74.75,69.25,62.96,57.91,59.33,62.62,59.38,61.23,79.16,72.3,80.02,66.35,65.68,71.52,71.45,59.75,70.73620370370371,79.98,76.75,83.17,79.02,85.85,77.17,80.88,74.9,83.3,61.02,53.68,59.37,77.29,52.15,62.34,56.69,70.73620370370371,53.69,92.45,78.42,74.52,80.24,58.72,72.23,60.98,64.78,70.98,66.9,62.29,70.73620370370371],\"y\":[41.71,21.55,23.7,19.68,18.44,21.84,16.1,16.72,16.87,23.76,18.95,33.84,18.19,15.42,18.23,20.49,19.94,23.09,12.84,17.17,15.55,16.32,17.06,19.56,16.74,20.54,17.81,54.13,44.92,42.58,17.56,21.77,18.74,11.52,12.81,13.73,15.14,13.77,16.65,13.23,12.62,12.24,14.11,13.35,12.85,24.02,26.87,40.52,22.7,23.39,22.43,22.06,20.72,19.5,17.16,13.51,13.71,13.4,12.82,12.16,17.45,17.92,18.96,24.15,19.5,24.93,8.1,8.99,5.3,17.25,13.72,18.07,19.48,23.55,20.21,18.55,13.94,19.83,17.31,17.51,21.99,22.71,24.2,25.37,20.96,25.85,22.39,19.89,23.76,8.69,17.68,23.03,14.83,22.99,20.52,22.99,17.75,15.59,15.55,17.04,18.2,17.38,13.56,10.8,12.41,17.62,11.98,15.35,33.24,24.48,22.41,13.62,14.66,19.1,22.96,18.71,19.25,13.67,15.65,12.66],\"z\":[380.41,453.17,471.68,513.19,447.47,517.13,318.21,384.7,427.92,472.12,515.04,125.74,625.37,507.31,602.49,598.06,649.2,699.03,328.43,545.73,324.59,490.86,522.54,524.39,404.57,377.69,385.66,382.31,383.52,372.05,604.13,587.68,606.4,299.53,303.23,319.32,399.66,320.51,337.95,310.8,299.28,282.68,319.9,402.73,359.7,780.79,1100.26,1157.93,624.21,538.52,603.44,605.73,447.3,455.23,423.78,409.15,396.23,281.96,296.14,273.62,371.62,360.56,397.04,519.35,430.56,528.52,887.55,1078.36,927.43,487.46,462.62,451.69,462.88,529.16,522.99,481.04,486.66,606.24,342.62,343.64,336.3,608.69,793.29,722.06,358.4,388.78,401.34,598.38,699.31,498.43,254.87,376.06,192.26,559.92,474.4,577.26,312.84,283.8,284.39,317.47,323.33,296.54,239.92,208.3,236.23,386.3,284.07,326.02,576.32,469.68,495.43,300.78,424.66,357.55,477.43,379.46,433.34,278.34,284.42,298.32],\"type\":\"scatter3d\"}],                        {\"template\":{\"data\":{\"bar\":[{\"error_x\":{\"color\":\"#2a3f5f\"},\"error_y\":{\"color\":\"#2a3f5f\"},\"marker\":{\"line\":{\"color\":\"#E5ECF6\",\"width\":0.5},\"pattern\":{\"fillmode\":\"overlay\",\"size\":10,\"solidity\":0.2}},\"type\":\"bar\"}],\"barpolar\":[{\"marker\":{\"line\":{\"color\":\"#E5ECF6\",\"width\":0.5},\"pattern\":{\"fillmode\":\"overlay\",\"size\":10,\"solidity\":0.2}},\"type\":\"barpolar\"}],\"carpet\":[{\"aaxis\":{\"endlinecolor\":\"#2a3f5f\",\"gridcolor\":\"white\",\"linecolor\":\"white\",\"minorgridcolor\":\"white\",\"startlinecolor\":\"#2a3f5f\"},\"baxis\":{\"endlinecolor\":\"#2a3f5f\",\"gridcolor\":\"white\",\"linecolor\":\"white\",\"minorgridcolor\":\"white\",\"startlinecolor\":\"#2a3f5f\"},\"type\":\"carpet\"}],\"choropleth\":[{\"colorbar\":{\"outlinewidth\":0,\"ticks\":\"\"},\"type\":\"choropleth\"}],\"contour\":[{\"colorbar\":{\"outlinewidth\":0,\"ticks\":\"\"},\"colorscale\":[[0.0,\"#0d0887\"],[0.1111111111111111,\"#46039f\"],[0.2222222222222222,\"#7201a8\"],[0.3333333333333333,\"#9c179e\"],[0.4444444444444444,\"#bd3786\"],[0.5555555555555556,\"#d8576b\"],[0.6666666666666666,\"#ed7953\"],[0.7777777777777778,\"#fb9f3a\"],[0.8888888888888888,\"#fdca26\"],[1.0,\"#f0f921\"]],\"type\":\"contour\"}],\"contourcarpet\":[{\"colorbar\":{\"outlinewidth\":0,\"ticks\":\"\"},\"type\":\"contourcarpet\"}],\"heatmap\":[{\"colorbar\":{\"outlinewidth\":0,\"ticks\":\"\"},\"colorscale\":[[0.0,\"#0d0887\"],[0.1111111111111111,\"#46039f\"],[0.2222222222222222,\"#7201a8\"],[0.3333333333333333,\"#9c179e\"],[0.4444444444444444,\"#bd3786\"],[0.5555555555555556,\"#d8576b\"],[0.6666666666666666,\"#ed7953\"],[0.7777777777777778,\"#fb9f3a\"],[0.8888888888888888,\"#fdca26\"],[1.0,\"#f0f921\"]],\"type\":\"heatmap\"}],\"heatmapgl\":[{\"colorbar\":{\"outlinewidth\":0,\"ticks\":\"\"},\"colorscale\":[[0.0,\"#0d0887\"],[0.1111111111111111,\"#46039f\"],[0.2222222222222222,\"#7201a8\"],[0.3333333333333333,\"#9c179e\"],[0.4444444444444444,\"#bd3786\"],[0.5555555555555556,\"#d8576b\"],[0.6666666666666666,\"#ed7953\"],[0.7777777777777778,\"#fb9f3a\"],[0.8888888888888888,\"#fdca26\"],[1.0,\"#f0f921\"]],\"type\":\"heatmapgl\"}],\"histogram\":[{\"marker\":{\"pattern\":{\"fillmode\":\"overlay\",\"size\":10,\"solidity\":0.2}},\"type\":\"histogram\"}],\"histogram2d\":[{\"colorbar\":{\"outlinewidth\":0,\"ticks\":\"\"},\"colorscale\":[[0.0,\"#0d0887\"],[0.1111111111111111,\"#46039f\"],[0.2222222222222222,\"#7201a8\"],[0.3333333333333333,\"#9c179e\"],[0.4444444444444444,\"#bd3786\"],[0.5555555555555556,\"#d8576b\"],[0.6666666666666666,\"#ed7953\"],[0.7777777777777778,\"#fb9f3a\"],[0.8888888888888888,\"#fdca26\"],[1.0,\"#f0f921\"]],\"type\":\"histogram2d\"}],\"histogram2dcontour\":[{\"colorbar\":{\"outlinewidth\":0,\"ticks\":\"\"},\"colorscale\":[[0.0,\"#0d0887\"],[0.1111111111111111,\"#46039f\"],[0.2222222222222222,\"#7201a8\"],[0.3333333333333333,\"#9c179e\"],[0.4444444444444444,\"#bd3786\"],[0.5555555555555556,\"#d8576b\"],[0.6666666666666666,\"#ed7953\"],[0.7777777777777778,\"#fb9f3a\"],[0.8888888888888888,\"#fdca26\"],[1.0,\"#f0f921\"]],\"type\":\"histogram2dcontour\"}],\"mesh3d\":[{\"colorbar\":{\"outlinewidth\":0,\"ticks\":\"\"},\"type\":\"mesh3d\"}],\"parcoords\":[{\"line\":{\"colorbar\":{\"outlinewidth\":0,\"ticks\":\"\"}},\"type\":\"parcoords\"}],\"pie\":[{\"automargin\":true,\"type\":\"pie\"}],\"scatter\":[{\"marker\":{\"colorbar\":{\"outlinewidth\":0,\"ticks\":\"\"}},\"type\":\"scatter\"}],\"scatter3d\":[{\"line\":{\"colorbar\":{\"outlinewidth\":0,\"ticks\":\"\"}},\"marker\":{\"colorbar\":{\"outlinewidth\":0,\"ticks\":\"\"}},\"type\":\"scatter3d\"}],\"scattercarpet\":[{\"marker\":{\"colorbar\":{\"outlinewidth\":0,\"ticks\":\"\"}},\"type\":\"scattercarpet\"}],\"scattergeo\":[{\"marker\":{\"colorbar\":{\"outlinewidth\":0,\"ticks\":\"\"}},\"type\":\"scattergeo\"}],\"scattergl\":[{\"marker\":{\"colorbar\":{\"outlinewidth\":0,\"ticks\":\"\"}},\"type\":\"scattergl\"}],\"scattermapbox\":[{\"marker\":{\"colorbar\":{\"outlinewidth\":0,\"ticks\":\"\"}},\"type\":\"scattermapbox\"}],\"scatterpolar\":[{\"marker\":{\"colorbar\":{\"outlinewidth\":0,\"ticks\":\"\"}},\"type\":\"scatterpolar\"}],\"scatterpolargl\":[{\"marker\":{\"colorbar\":{\"outlinewidth\":0,\"ticks\":\"\"}},\"type\":\"scatterpolargl\"}],\"scatterternary\":[{\"marker\":{\"colorbar\":{\"outlinewidth\":0,\"ticks\":\"\"}},\"type\":\"scatterternary\"}],\"surface\":[{\"colorbar\":{\"outlinewidth\":0,\"ticks\":\"\"},\"colorscale\":[[0.0,\"#0d0887\"],[0.1111111111111111,\"#46039f\"],[0.2222222222222222,\"#7201a8\"],[0.3333333333333333,\"#9c179e\"],[0.4444444444444444,\"#bd3786\"],[0.5555555555555556,\"#d8576b\"],[0.6666666666666666,\"#ed7953\"],[0.7777777777777778,\"#fb9f3a\"],[0.8888888888888888,\"#fdca26\"],[1.0,\"#f0f921\"]],\"type\":\"surface\"}],\"table\":[{\"cells\":{\"fill\":{\"color\":\"#EBF0F8\"},\"line\":{\"color\":\"white\"}},\"header\":{\"fill\":{\"color\":\"#C8D4E3\"},\"line\":{\"color\":\"white\"}},\"type\":\"table\"}]},\"layout\":{\"annotationdefaults\":{\"arrowcolor\":\"#2a3f5f\",\"arrowhead\":0,\"arrowwidth\":1},\"autotypenumbers\":\"strict\",\"coloraxis\":{\"colorbar\":{\"outlinewidth\":0,\"ticks\":\"\"}},\"colorscale\":{\"diverging\":[[0,\"#8e0152\"],[0.1,\"#c51b7d\"],[0.2,\"#de77ae\"],[0.3,\"#f1b6da\"],[0.4,\"#fde0ef\"],[0.5,\"#f7f7f7\"],[0.6,\"#e6f5d0\"],[0.7,\"#b8e186\"],[0.8,\"#7fbc41\"],[0.9,\"#4d9221\"],[1,\"#276419\"]],\"sequential\":[[0.0,\"#0d0887\"],[0.1111111111111111,\"#46039f\"],[0.2222222222222222,\"#7201a8\"],[0.3333333333333333,\"#9c179e\"],[0.4444444444444444,\"#bd3786\"],[0.5555555555555556,\"#d8576b\"],[0.6666666666666666,\"#ed7953\"],[0.7777777777777778,\"#fb9f3a\"],[0.8888888888888888,\"#fdca26\"],[1.0,\"#f0f921\"]],\"sequentialminus\":[[0.0,\"#0d0887\"],[0.1111111111111111,\"#46039f\"],[0.2222222222222222,\"#7201a8\"],[0.3333333333333333,\"#9c179e\"],[0.4444444444444444,\"#bd3786\"],[0.5555555555555556,\"#d8576b\"],[0.6666666666666666,\"#ed7953\"],[0.7777777777777778,\"#fb9f3a\"],[0.8888888888888888,\"#fdca26\"],[1.0,\"#f0f921\"]]},\"colorway\":[\"#636efa\",\"#EF553B\",\"#00cc96\",\"#ab63fa\",\"#FFA15A\",\"#19d3f3\",\"#FF6692\",\"#B6E880\",\"#FF97FF\",\"#FECB52\"],\"font\":{\"color\":\"#2a3f5f\"},\"geo\":{\"bgcolor\":\"white\",\"lakecolor\":\"white\",\"landcolor\":\"#E5ECF6\",\"showlakes\":true,\"showland\":true,\"subunitcolor\":\"white\"},\"hoverlabel\":{\"align\":\"left\"},\"hovermode\":\"closest\",\"mapbox\":{\"style\":\"light\"},\"paper_bgcolor\":\"white\",\"plot_bgcolor\":\"#E5ECF6\",\"polar\":{\"angularaxis\":{\"gridcolor\":\"white\",\"linecolor\":\"white\",\"ticks\":\"\"},\"bgcolor\":\"#E5ECF6\",\"radialaxis\":{\"gridcolor\":\"white\",\"linecolor\":\"white\",\"ticks\":\"\"}},\"scene\":{\"xaxis\":{\"backgroundcolor\":\"#E5ECF6\",\"gridcolor\":\"white\",\"gridwidth\":2,\"linecolor\":\"white\",\"showbackground\":true,\"ticks\":\"\",\"zerolinecolor\":\"white\"},\"yaxis\":{\"backgroundcolor\":\"#E5ECF6\",\"gridcolor\":\"white\",\"gridwidth\":2,\"linecolor\":\"white\",\"showbackground\":true,\"ticks\":\"\",\"zerolinecolor\":\"white\"},\"zaxis\":{\"backgroundcolor\":\"#E5ECF6\",\"gridcolor\":\"white\",\"gridwidth\":2,\"linecolor\":\"white\",\"showbackground\":true,\"ticks\":\"\",\"zerolinecolor\":\"white\"}},\"shapedefaults\":{\"line\":{\"color\":\"#2a3f5f\"}},\"ternary\":{\"aaxis\":{\"gridcolor\":\"white\",\"linecolor\":\"white\",\"ticks\":\"\"},\"baxis\":{\"gridcolor\":\"white\",\"linecolor\":\"white\",\"ticks\":\"\"},\"bgcolor\":\"#E5ECF6\",\"caxis\":{\"gridcolor\":\"white\",\"linecolor\":\"white\",\"ticks\":\"\"}},\"title\":{\"x\":0.05},\"xaxis\":{\"automargin\":true,\"gridcolor\":\"white\",\"linecolor\":\"white\",\"ticks\":\"\",\"title\":{\"standoff\":15},\"zerolinecolor\":\"white\",\"zerolinewidth\":2},\"yaxis\":{\"automargin\":true,\"gridcolor\":\"white\",\"linecolor\":\"white\",\"ticks\":\"\",\"title\":{\"standoff\":15},\"zerolinecolor\":\"white\",\"zerolinewidth\":2}}},\"scene\":{\"domain\":{\"x\":[0.0,1.0],\"y\":[0.0,1.0]},\"xaxis\":{\"title\":{\"text\":\"x\"}},\"yaxis\":{\"title\":{\"text\":\"y\"}},\"zaxis\":{\"title\":{\"text\":\"z\"}}},\"legend\":{\"tracegroupgap\":0},\"margin\":{\"t\":60},\"title\":{\"text\":\"5 Features Representation\"}},                        {\"responsive\": true}                    ).then(function(){\n",
       "                            \n",
       "var gd = document.getElementById('4e186363-36d0-4f55-8ddb-df2b6397c66d');\n",
       "var x = new MutationObserver(function (mutations, observer) {{\n",
       "        var display = window.getComputedStyle(gd).display;\n",
       "        if (!display || display === 'none') {{\n",
       "            console.log([gd, 'removed!']);\n",
       "            Plotly.purge(gd);\n",
       "            observer.disconnect();\n",
       "        }}\n",
       "}});\n",
       "\n",
       "// Listen for the removal of the full notebook cells\n",
       "var notebookContainer = gd.closest('#notebook-container');\n",
       "if (notebookContainer) {{\n",
       "    x.observe(notebookContainer, {childList: true});\n",
       "}}\n",
       "\n",
       "// Listen for the clearing of the current output cell\n",
       "var outputEl = gd.closest('.output');\n",
       "if (outputEl) {{\n",
       "    x.observe(outputEl, {childList: true});\n",
       "}}\n",
       "\n",
       "                        })                };                });            </script>        </div>"
      ]
     },
     "metadata": {},
     "output_type": "display_data"
    }
   ],
   "source": [
    "fig2 = px.scatter_3d(X_CR, x=X_CR.iloc[:,1], y=X_CR.iloc[:,2],z=X_CR.iloc[:,3])#size=\"amount_spent\")\n",
    "fig2.update_layout(title=\"5 Features Representation\")\n",
    "fig2.show()"
   ]
  },
  {
   "cell_type": "code",
   "execution_count": null,
   "metadata": {},
   "outputs": [],
   "source": []
  },
  {
   "cell_type": "code",
   "execution_count": null,
   "metadata": {},
   "outputs": [],
   "source": []
  },
  {
   "cell_type": "code",
   "execution_count": null,
   "metadata": {},
   "outputs": [],
   "source": []
  },
  {
   "cell_type": "code",
   "execution_count": 79,
   "metadata": {},
   "outputs": [],
   "source": [
    "from sklearn.cluster import KMeans, SpectralClustering"
   ]
  },
  {
   "cell_type": "code",
   "execution_count": 80,
   "metadata": {},
   "outputs": [
    {
     "ename": "ValueError",
     "evalue": "could not convert string to float: '005_BG_1'",
     "output_type": "error",
     "traceback": [
      "\u001b[1;31m---------------------------------------------------------------------------\u001b[0m",
      "\u001b[1;31mValueError\u001b[0m                                Traceback (most recent call last)",
      "Input \u001b[1;32mIn [80]\u001b[0m, in \u001b[0;36m<cell line: 2>\u001b[1;34m()\u001b[0m\n\u001b[0;32m      1\u001b[0m km \u001b[38;5;241m=\u001b[39m KMeans(n_clusters\u001b[38;5;241m=\u001b[39m\u001b[38;5;241m14\u001b[39m, max_iter\u001b[38;5;241m=\u001b[39m\u001b[38;5;241m300\u001b[39m)\n\u001b[1;32m----> 2\u001b[0m \u001b[43mkm\u001b[49m\u001b[38;5;241;43m.\u001b[39;49m\u001b[43mfit\u001b[49m\u001b[43m(\u001b[49m\u001b[43mX\u001b[49m\u001b[43m)\u001b[49m\n\u001b[0;32m      3\u001b[0m centroids \u001b[38;5;241m=\u001b[39m km\u001b[38;5;241m.\u001b[39mcluster_centers_\n\u001b[0;32m      4\u001b[0m y_kmeans \u001b[38;5;241m=\u001b[39m km\u001b[38;5;241m.\u001b[39mpredict(X)\n",
      "File \u001b[1;32m~\\anaconda3\\lib\\site-packages\\sklearn\\cluster\\_kmeans.py:1137\u001b[0m, in \u001b[0;36mKMeans.fit\u001b[1;34m(self, X, y, sample_weight)\u001b[0m\n\u001b[0;32m   1111\u001b[0m \u001b[38;5;28;01mdef\u001b[39;00m \u001b[38;5;21mfit\u001b[39m(\u001b[38;5;28mself\u001b[39m, X, y\u001b[38;5;241m=\u001b[39m\u001b[38;5;28;01mNone\u001b[39;00m, sample_weight\u001b[38;5;241m=\u001b[39m\u001b[38;5;28;01mNone\u001b[39;00m):\n\u001b[0;32m   1112\u001b[0m     \u001b[38;5;124;03m\"\"\"Compute k-means clustering.\u001b[39;00m\n\u001b[0;32m   1113\u001b[0m \n\u001b[0;32m   1114\u001b[0m \u001b[38;5;124;03m    Parameters\u001b[39;00m\n\u001b[1;32m   (...)\u001b[0m\n\u001b[0;32m   1135\u001b[0m \u001b[38;5;124;03m        Fitted estimator.\u001b[39;00m\n\u001b[0;32m   1136\u001b[0m \u001b[38;5;124;03m    \"\"\"\u001b[39;00m\n\u001b[1;32m-> 1137\u001b[0m     X \u001b[38;5;241m=\u001b[39m \u001b[38;5;28;43mself\u001b[39;49m\u001b[38;5;241;43m.\u001b[39;49m\u001b[43m_validate_data\u001b[49m\u001b[43m(\u001b[49m\n\u001b[0;32m   1138\u001b[0m \u001b[43m        \u001b[49m\u001b[43mX\u001b[49m\u001b[43m,\u001b[49m\n\u001b[0;32m   1139\u001b[0m \u001b[43m        \u001b[49m\u001b[43maccept_sparse\u001b[49m\u001b[38;5;241;43m=\u001b[39;49m\u001b[38;5;124;43m\"\u001b[39;49m\u001b[38;5;124;43mcsr\u001b[39;49m\u001b[38;5;124;43m\"\u001b[39;49m\u001b[43m,\u001b[49m\n\u001b[0;32m   1140\u001b[0m \u001b[43m        \u001b[49m\u001b[43mdtype\u001b[49m\u001b[38;5;241;43m=\u001b[39;49m\u001b[43m[\u001b[49m\u001b[43mnp\u001b[49m\u001b[38;5;241;43m.\u001b[39;49m\u001b[43mfloat64\u001b[49m\u001b[43m,\u001b[49m\u001b[43m \u001b[49m\u001b[43mnp\u001b[49m\u001b[38;5;241;43m.\u001b[39;49m\u001b[43mfloat32\u001b[49m\u001b[43m]\u001b[49m\u001b[43m,\u001b[49m\n\u001b[0;32m   1141\u001b[0m \u001b[43m        \u001b[49m\u001b[43morder\u001b[49m\u001b[38;5;241;43m=\u001b[39;49m\u001b[38;5;124;43m\"\u001b[39;49m\u001b[38;5;124;43mC\u001b[39;49m\u001b[38;5;124;43m\"\u001b[39;49m\u001b[43m,\u001b[49m\n\u001b[0;32m   1142\u001b[0m \u001b[43m        \u001b[49m\u001b[43mcopy\u001b[49m\u001b[38;5;241;43m=\u001b[39;49m\u001b[38;5;28;43mself\u001b[39;49m\u001b[38;5;241;43m.\u001b[39;49m\u001b[43mcopy_x\u001b[49m\u001b[43m,\u001b[49m\n\u001b[0;32m   1143\u001b[0m \u001b[43m        \u001b[49m\u001b[43maccept_large_sparse\u001b[49m\u001b[38;5;241;43m=\u001b[39;49m\u001b[38;5;28;43;01mFalse\u001b[39;49;00m\u001b[43m,\u001b[49m\n\u001b[0;32m   1144\u001b[0m \u001b[43m    \u001b[49m\u001b[43m)\u001b[49m\n\u001b[0;32m   1146\u001b[0m     \u001b[38;5;28mself\u001b[39m\u001b[38;5;241m.\u001b[39m_check_params(X)\n\u001b[0;32m   1147\u001b[0m     random_state \u001b[38;5;241m=\u001b[39m check_random_state(\u001b[38;5;28mself\u001b[39m\u001b[38;5;241m.\u001b[39mrandom_state)\n",
      "File \u001b[1;32m~\\anaconda3\\lib\\site-packages\\sklearn\\base.py:566\u001b[0m, in \u001b[0;36mBaseEstimator._validate_data\u001b[1;34m(self, X, y, reset, validate_separately, **check_params)\u001b[0m\n\u001b[0;32m    564\u001b[0m     \u001b[38;5;28;01mraise\u001b[39;00m \u001b[38;5;167;01mValueError\u001b[39;00m(\u001b[38;5;124m\"\u001b[39m\u001b[38;5;124mValidation should be done on X, y or both.\u001b[39m\u001b[38;5;124m\"\u001b[39m)\n\u001b[0;32m    565\u001b[0m \u001b[38;5;28;01melif\u001b[39;00m \u001b[38;5;129;01mnot\u001b[39;00m no_val_X \u001b[38;5;129;01mand\u001b[39;00m no_val_y:\n\u001b[1;32m--> 566\u001b[0m     X \u001b[38;5;241m=\u001b[39m check_array(X, \u001b[38;5;241m*\u001b[39m\u001b[38;5;241m*\u001b[39mcheck_params)\n\u001b[0;32m    567\u001b[0m     out \u001b[38;5;241m=\u001b[39m X\n\u001b[0;32m    568\u001b[0m \u001b[38;5;28;01melif\u001b[39;00m no_val_X \u001b[38;5;129;01mand\u001b[39;00m \u001b[38;5;129;01mnot\u001b[39;00m no_val_y:\n",
      "File \u001b[1;32m~\\anaconda3\\lib\\site-packages\\sklearn\\utils\\validation.py:746\u001b[0m, in \u001b[0;36mcheck_array\u001b[1;34m(array, accept_sparse, accept_large_sparse, dtype, order, copy, force_all_finite, ensure_2d, allow_nd, ensure_min_samples, ensure_min_features, estimator)\u001b[0m\n\u001b[0;32m    744\u001b[0m         array \u001b[38;5;241m=\u001b[39m array\u001b[38;5;241m.\u001b[39mastype(dtype, casting\u001b[38;5;241m=\u001b[39m\u001b[38;5;124m\"\u001b[39m\u001b[38;5;124munsafe\u001b[39m\u001b[38;5;124m\"\u001b[39m, copy\u001b[38;5;241m=\u001b[39m\u001b[38;5;28;01mFalse\u001b[39;00m)\n\u001b[0;32m    745\u001b[0m     \u001b[38;5;28;01melse\u001b[39;00m:\n\u001b[1;32m--> 746\u001b[0m         array \u001b[38;5;241m=\u001b[39m \u001b[43mnp\u001b[49m\u001b[38;5;241;43m.\u001b[39;49m\u001b[43masarray\u001b[49m\u001b[43m(\u001b[49m\u001b[43marray\u001b[49m\u001b[43m,\u001b[49m\u001b[43m \u001b[49m\u001b[43morder\u001b[49m\u001b[38;5;241;43m=\u001b[39;49m\u001b[43morder\u001b[49m\u001b[43m,\u001b[49m\u001b[43m \u001b[49m\u001b[43mdtype\u001b[49m\u001b[38;5;241;43m=\u001b[39;49m\u001b[43mdtype\u001b[49m\u001b[43m)\u001b[49m\n\u001b[0;32m    747\u001b[0m \u001b[38;5;28;01mexcept\u001b[39;00m ComplexWarning \u001b[38;5;28;01mas\u001b[39;00m complex_warning:\n\u001b[0;32m    748\u001b[0m     \u001b[38;5;28;01mraise\u001b[39;00m \u001b[38;5;167;01mValueError\u001b[39;00m(\n\u001b[0;32m    749\u001b[0m         \u001b[38;5;124m\"\u001b[39m\u001b[38;5;124mComplex data not supported\u001b[39m\u001b[38;5;130;01m\\n\u001b[39;00m\u001b[38;5;132;01m{}\u001b[39;00m\u001b[38;5;130;01m\\n\u001b[39;00m\u001b[38;5;124m\"\u001b[39m\u001b[38;5;241m.\u001b[39mformat(array)\n\u001b[0;32m    750\u001b[0m     ) \u001b[38;5;28;01mfrom\u001b[39;00m \u001b[38;5;21;01mcomplex_warning\u001b[39;00m\n",
      "File \u001b[1;32m~\\anaconda3\\lib\\site-packages\\pandas\\core\\generic.py:2064\u001b[0m, in \u001b[0;36mNDFrame.__array__\u001b[1;34m(self, dtype)\u001b[0m\n\u001b[0;32m   2063\u001b[0m \u001b[38;5;28;01mdef\u001b[39;00m \u001b[38;5;21m__array__\u001b[39m(\u001b[38;5;28mself\u001b[39m, dtype: npt\u001b[38;5;241m.\u001b[39mDTypeLike \u001b[38;5;241m|\u001b[39m \u001b[38;5;28;01mNone\u001b[39;00m \u001b[38;5;241m=\u001b[39m \u001b[38;5;28;01mNone\u001b[39;00m) \u001b[38;5;241m-\u001b[39m\u001b[38;5;241m>\u001b[39m np\u001b[38;5;241m.\u001b[39mndarray:\n\u001b[1;32m-> 2064\u001b[0m     \u001b[38;5;28;01mreturn\u001b[39;00m \u001b[43mnp\u001b[49m\u001b[38;5;241;43m.\u001b[39;49m\u001b[43masarray\u001b[49m\u001b[43m(\u001b[49m\u001b[38;5;28;43mself\u001b[39;49m\u001b[38;5;241;43m.\u001b[39;49m\u001b[43m_values\u001b[49m\u001b[43m,\u001b[49m\u001b[43m \u001b[49m\u001b[43mdtype\u001b[49m\u001b[38;5;241;43m=\u001b[39;49m\u001b[43mdtype\u001b[49m\u001b[43m)\u001b[49m\n",
      "\u001b[1;31mValueError\u001b[0m: could not convert string to float: '005_BG_1'"
     ]
    }
   ],
   "source": [
    "km = KMeans(n_clusters=14, max_iter=300)\n",
    "km.fit(X)\n",
    "centroids = km.cluster_centers_\n",
    "y_kmeans = km.predict(X)\n",
    "km.labels_\n",
    "\n",
    "# Plot the clustered data\n",
    "fig, ax = plt.subplots(figsize=(10, 10))\n",
    "\n",
    "plt.scatter(X.iloc[:,1], X.iloc[:,51], c=y_kmeans, cmap='viridis', label='Nodule')\n",
    "#plt.scatter(X_std[:,2], X_std[:,3], c='blue', label='cluster 2')\n",
    "#plt.scatter(centroids[:, 0], centroids[:, 1], marker='*', s=300, c='r', label='centroid')\n",
    "\n",
    "plt.legend()\n",
    "plt.xlim([-0.5, 1])\n",
    "plt.ylim([-0.5, 1])\n",
    "plt.xlabel('Elem 1')\n",
    "plt.ylabel('Elem 2')\n",
    "plt.title('Visualization of clustered data', fontweight='bold')\n",
    "ax.set_aspect('equal');"
   ]
  },
  {
   "cell_type": "code",
   "execution_count": null,
   "metadata": {},
   "outputs": [],
   "source": []
  },
  {
   "cell_type": "markdown",
   "metadata": {},
   "source": [
    "## TSNE"
   ]
  },
  {
   "cell_type": "code",
   "execution_count": null,
   "metadata": {},
   "outputs": [],
   "source": []
  },
  {
   "cell_type": "code",
   "execution_count": 162,
   "metadata": {},
   "outputs": [],
   "source": [
    "my_scaler_test = StandardScaler()"
   ]
  },
  {
   "cell_type": "code",
   "execution_count": 163,
   "metadata": {},
   "outputs": [],
   "source": [
    "element_data_test_scaled = my_scaler_test.fit_transform(X_CR)"
   ]
  },
  {
   "cell_type": "code",
   "execution_count": 164,
   "metadata": {},
   "outputs": [
    {
     "name": "stderr",
     "output_type": "stream",
     "text": [
      "C:\\Users\\User\\anaconda3\\lib\\site-packages\\sklearn\\manifold\\_t_sne.py:780: FutureWarning:\n",
      "\n",
      "The default initialization in TSNE will change from 'random' to 'pca' in 1.2.\n",
      "\n"
     ]
    },
    {
     "name": "stdout",
     "output_type": "stream",
     "text": [
      "[t-SNE] Computing 76 nearest neighbors...\n",
      "[t-SNE] Indexed 120 samples in 0.000s...\n",
      "[t-SNE] Computed neighbors for 120 samples in 0.003s...\n",
      "[t-SNE] Computed conditional probabilities for sample 120 / 120\n",
      "[t-SNE] Mean sigma: 1.846357\n",
      "[t-SNE] Computed conditional probabilities in 0.007s\n",
      "[t-SNE] Iteration 50: error = 83.7211533, gradient norm = 0.1917777 (50 iterations in 0.045s)\n",
      "[t-SNE] Iteration 100: error = 101.6204071, gradient norm = 0.2144256 (50 iterations in 0.038s)\n",
      "[t-SNE] Iteration 150: error = 105.3584290, gradient norm = 0.1393393 (50 iterations in 0.039s)\n",
      "[t-SNE] Iteration 200: error = 115.3224869, gradient norm = 0.1675244 (50 iterations in 0.029s)\n",
      "[t-SNE] Iteration 250: error = 119.8119965, gradient norm = 0.1543502 (50 iterations in 0.033s)\n",
      "[t-SNE] KL divergence after 250 iterations with early exaggeration: 119.811996\n",
      "[t-SNE] Iteration 300: error = 2.9677670, gradient norm = 0.0003688 (50 iterations in 0.038s)\n",
      "[t-SNE] Iteration 350: error = 2.5645051, gradient norm = 0.0001421 (50 iterations in 0.033s)\n",
      "[t-SNE] Iteration 400: error = 2.3919618, gradient norm = 0.0000897 (50 iterations in 0.037s)\n",
      "[t-SNE] Iteration 450: error = 2.2597280, gradient norm = 0.0000621 (50 iterations in 0.037s)\n",
      "[t-SNE] Iteration 500: error = 2.1683636, gradient norm = 0.0000443 (50 iterations in 0.032s)\n",
      "[t-SNE] Iteration 550: error = 2.1105549, gradient norm = 0.0000349 (50 iterations in 0.031s)\n",
      "[t-SNE] Iteration 600: error = 2.0661731, gradient norm = 0.0000292 (50 iterations in 0.031s)\n",
      "[t-SNE] Iteration 650: error = 2.0238650, gradient norm = 0.0000264 (50 iterations in 0.038s)\n",
      "[t-SNE] Iteration 700: error = 1.9789094, gradient norm = 0.0000232 (50 iterations in 0.031s)\n",
      "[t-SNE] Iteration 750: error = 1.9446266, gradient norm = 0.0000200 (50 iterations in 0.030s)\n",
      "[t-SNE] Iteration 800: error = 1.9132947, gradient norm = 0.0000175 (50 iterations in 0.030s)\n",
      "[t-SNE] Iteration 850: error = 1.8822693, gradient norm = 0.0000165 (50 iterations in 0.030s)\n",
      "[t-SNE] Iteration 900: error = 1.8499489, gradient norm = 0.0000148 (50 iterations in 0.031s)\n",
      "[t-SNE] Iteration 950: error = 1.8228037, gradient norm = 0.0000128 (50 iterations in 0.030s)\n",
      "[t-SNE] Iteration 1000: error = 1.8017328, gradient norm = 0.0000115 (50 iterations in 0.037s)\n",
      "[t-SNE] Iteration 1050: error = 1.7840246, gradient norm = 0.0000108 (50 iterations in 0.030s)\n",
      "[t-SNE] Iteration 1100: error = 1.7681129, gradient norm = 0.0000103 (50 iterations in 0.034s)\n",
      "[t-SNE] Iteration 1150: error = 1.7518449, gradient norm = 0.0000098 (50 iterations in 0.035s)\n",
      "[t-SNE] Iteration 1200: error = 1.7349741, gradient norm = 0.0000096 (50 iterations in 0.032s)\n",
      "[t-SNE] Iteration 1250: error = 1.7167852, gradient norm = 0.0000088 (50 iterations in 0.030s)\n",
      "[t-SNE] Iteration 1300: error = 1.7006277, gradient norm = 0.0000082 (50 iterations in 0.030s)\n",
      "[t-SNE] Iteration 1350: error = 1.6832285, gradient norm = 0.0000080 (50 iterations in 0.038s)\n",
      "[t-SNE] Iteration 1400: error = 1.6682541, gradient norm = 0.0000072 (50 iterations in 0.031s)\n",
      "[t-SNE] Iteration 1450: error = 1.6547103, gradient norm = 0.0000068 (50 iterations in 0.031s)\n",
      "[t-SNE] Iteration 1500: error = 1.6425581, gradient norm = 0.0000064 (50 iterations in 0.032s)\n",
      "[t-SNE] Iteration 1550: error = 1.6316804, gradient norm = 0.0000060 (50 iterations in 0.031s)\n",
      "[t-SNE] Iteration 1600: error = 1.6213186, gradient norm = 0.0000056 (50 iterations in 0.032s)\n",
      "[t-SNE] Iteration 1650: error = 1.6123745, gradient norm = 0.0000053 (50 iterations in 0.031s)\n",
      "[t-SNE] Iteration 1700: error = 1.6040490, gradient norm = 0.0000050 (50 iterations in 0.034s)\n",
      "[t-SNE] Iteration 1750: error = 1.5964935, gradient norm = 0.0000047 (50 iterations in 0.032s)\n",
      "[t-SNE] Iteration 1800: error = 1.5894204, gradient norm = 0.0000045 (50 iterations in 0.031s)\n",
      "[t-SNE] Iteration 1850: error = 1.5823336, gradient norm = 0.0000043 (50 iterations in 0.030s)\n",
      "[t-SNE] Iteration 1900: error = 1.5760396, gradient norm = 0.0000041 (50 iterations in 0.033s)\n",
      "[t-SNE] Iteration 1950: error = 1.5703969, gradient norm = 0.0000039 (50 iterations in 0.041s)\n",
      "[t-SNE] Iteration 2000: error = 1.5647184, gradient norm = 0.0000038 (50 iterations in 0.034s)\n",
      "[t-SNE] KL divergence after 2000 iterations: 1.564718\n"
     ]
    }
   ],
   "source": [
    "my_tsne_test = TSNE(n_components=3, perplexity=25, learning_rate=200, n_iter=2000, verbose=3).fit_transform(element_data_test_scaled)"
   ]
  },
  {
   "cell_type": "code",
   "execution_count": 165,
   "metadata": {},
   "outputs": [],
   "source": [
    "tsne_df_test = pd.DataFrame(data = my_tsne_test, columns = ['tsne1', 'tsne2', 'tsne3'])"
   ]
  },
  {
   "cell_type": "markdown",
   "metadata": {},
   "source": [
    "### add group back in (nodule)"
   ]
  },
  {
   "cell_type": "code",
   "execution_count": 166,
   "metadata": {},
   "outputs": [],
   "source": [
    "Nodulecol = X['Nodule']"
   ]
  },
  {
   "cell_type": "code",
   "execution_count": 167,
   "metadata": {},
   "outputs": [
    {
     "data": {
      "text/plain": [
       "958    ST_1\n",
       "959    ST_1\n",
       "960    ST_1\n",
       "961    ST_2\n",
       "962    ST_2\n",
       "Name: Nodule, dtype: object"
      ]
     },
     "execution_count": 167,
     "metadata": {},
     "output_type": "execute_result"
    }
   ],
   "source": [
    "Nodulecol.head()"
   ]
  },
  {
   "cell_type": "code",
   "execution_count": 168,
   "metadata": {},
   "outputs": [],
   "source": [
    "tsne3d_df_NoduleCol_comb = pd.concat([Nodulecol.reset_index(drop=True), tsne_df_test.reset_index(drop=True)], axis=1)"
   ]
  },
  {
   "cell_type": "code",
   "execution_count": 169,
   "metadata": {},
   "outputs": [
    {
     "name": "stdout",
     "output_type": "stream",
     "text": [
      "Stored 'tsne3d_df_NoduleCol_comb' (DataFrame)\n"
     ]
    }
   ],
   "source": [
    "%store tsne3d_df_NoduleCol_comb"
   ]
  },
  {
   "cell_type": "code",
   "execution_count": 170,
   "metadata": {},
   "outputs": [
    {
     "data": {
      "text/html": [
       "<div>\n",
       "<style scoped>\n",
       "    .dataframe tbody tr th:only-of-type {\n",
       "        vertical-align: middle;\n",
       "    }\n",
       "\n",
       "    .dataframe tbody tr th {\n",
       "        vertical-align: top;\n",
       "    }\n",
       "\n",
       "    .dataframe thead th {\n",
       "        text-align: right;\n",
       "    }\n",
       "</style>\n",
       "<table border=\"1\" class=\"dataframe\">\n",
       "  <thead>\n",
       "    <tr style=\"text-align: right;\">\n",
       "      <th></th>\n",
       "      <th>Nodule</th>\n",
       "      <th>tsne1</th>\n",
       "      <th>tsne2</th>\n",
       "      <th>tsne3</th>\n",
       "    </tr>\n",
       "  </thead>\n",
       "  <tbody>\n",
       "    <tr>\n",
       "      <th>0</th>\n",
       "      <td>ST_1</td>\n",
       "      <td>-63.722008</td>\n",
       "      <td>-120.214165</td>\n",
       "      <td>-222.186905</td>\n",
       "    </tr>\n",
       "    <tr>\n",
       "      <th>1</th>\n",
       "      <td>ST_1</td>\n",
       "      <td>-129.936020</td>\n",
       "      <td>114.181175</td>\n",
       "      <td>-221.819412</td>\n",
       "    </tr>\n",
       "    <tr>\n",
       "      <th>2</th>\n",
       "      <td>ST_1</td>\n",
       "      <td>-79.461258</td>\n",
       "      <td>-26.806089</td>\n",
       "      <td>-203.428604</td>\n",
       "    </tr>\n",
       "    <tr>\n",
       "      <th>3</th>\n",
       "      <td>ST_2</td>\n",
       "      <td>-95.591789</td>\n",
       "      <td>-26.882862</td>\n",
       "      <td>-84.787292</td>\n",
       "    </tr>\n",
       "    <tr>\n",
       "      <th>4</th>\n",
       "      <td>ST_2</td>\n",
       "      <td>-93.689835</td>\n",
       "      <td>-163.507965</td>\n",
       "      <td>26.328199</td>\n",
       "    </tr>\n",
       "  </tbody>\n",
       "</table>\n",
       "</div>"
      ],
      "text/plain": [
       "  Nodule       tsne1       tsne2       tsne3\n",
       "0   ST_1  -63.722008 -120.214165 -222.186905\n",
       "1   ST_1 -129.936020  114.181175 -221.819412\n",
       "2   ST_1  -79.461258  -26.806089 -203.428604\n",
       "3   ST_2  -95.591789  -26.882862  -84.787292\n",
       "4   ST_2  -93.689835 -163.507965   26.328199"
      ]
     },
     "execution_count": 170,
     "metadata": {},
     "output_type": "execute_result"
    }
   ],
   "source": [
    "tsne3d_df_NoduleCol_comb.head()"
   ]
  },
  {
   "cell_type": "markdown",
   "metadata": {},
   "source": [
    "## TSNE Visualisation"
   ]
  },
  {
   "cell_type": "code",
   "execution_count": 171,
   "metadata": {},
   "outputs": [],
   "source": [
    "tsne3dIssuelabels = Nodulecol"
   ]
  },
  {
   "cell_type": "code",
   "execution_count": 172,
   "metadata": {},
   "outputs": [],
   "source": [
    "filepath = 'figures/Butcher2005_Tom_tSNE_3dPlot_Issue_bestfeats.html'"
   ]
  },
  {
   "cell_type": "code",
   "execution_count": 173,
   "metadata": {},
   "outputs": [
    {
     "data": {
      "application/vnd.plotly.v1+json": {
       "config": {
        "plotlyServerURL": "https://plot.ly"
       },
       "data": [
        {
         "hovertemplate": "color=ST_1<br>x=%{x}<br>y=%{y}<br>z=%{z}<extra></extra>",
         "legendgroup": "ST_1",
         "marker": {
          "color": "#636efa",
          "symbol": "circle"
         },
         "mode": "markers",
         "name": "ST_1",
         "scene": "scene",
         "showlegend": true,
         "type": "scatter3d",
         "x": [
          -63.722007751464844,
          -129.93601989746094,
          -79.46125793457031
         ],
         "y": [
          -120.21416473388672,
          114.1811752319336,
          -26.806089401245117
         ],
         "z": [
          -222.18690490722656,
          -221.8194122314453,
          -203.42860412597656
         ]
        },
        {
         "hovertemplate": "color=ST_2<br>x=%{x}<br>y=%{y}<br>z=%{z}<extra></extra>",
         "legendgroup": "ST_2",
         "marker": {
          "color": "#EF553B",
          "symbol": "circle"
         },
         "mode": "markers",
         "name": "ST_2",
         "scene": "scene",
         "showlegend": true,
         "type": "scatter3d",
         "x": [
          -95.59178924560547,
          -93.68983459472656,
          22.247087478637695
         ],
         "y": [
          -26.882862091064453,
          -163.50796508789062,
          -367.7169189453125
         ],
         "z": [
          -84.78729248046875,
          26.32819938659668,
          -1.5841710567474365
         ]
        },
        {
         "hovertemplate": "color=ST_3<br>x=%{x}<br>y=%{y}<br>z=%{z}<extra></extra>",
         "legendgroup": "ST_3",
         "marker": {
          "color": "#00cc96",
          "symbol": "circle"
         },
         "mode": "markers",
         "name": "ST_3",
         "scene": "scene",
         "showlegend": true,
         "type": "scatter3d",
         "x": [
          158.64007568359375,
          90.25926208496094,
          33.01918029785156
         ],
         "y": [
          79.27909088134766,
          21.113933563232422,
          82.4655532836914
         ],
         "z": [
          118.01612854003906,
          88.4739761352539,
          73.56285095214844
         ]
        },
        {
         "hovertemplate": "color=ST_4<br>x=%{x}<br>y=%{y}<br>z=%{z}<extra></extra>",
         "legendgroup": "ST_4",
         "marker": {
          "color": "#ab63fa",
          "symbol": "circle"
         },
         "mode": "markers",
         "name": "ST_4",
         "scene": "scene",
         "showlegend": true,
         "type": "scatter3d",
         "x": [
          2.8723409175872803,
          -56.74552917480469,
          -47.706302642822266
         ],
         "y": [
          -102.07034301757812,
          18.86540412902832,
          -49.85786819458008
         ],
         "z": [
          49.215206146240234,
          -5.940122604370117,
          -330.0412902832031
         ]
        },
        {
         "hovertemplate": "color=ST_5<br>x=%{x}<br>y=%{y}<br>z=%{z}<extra></extra>",
         "legendgroup": "ST_5",
         "marker": {
          "color": "#FFA15A",
          "symbol": "circle"
         },
         "mode": "markers",
         "name": "ST_5",
         "scene": "scene",
         "showlegend": true,
         "type": "scatter3d",
         "x": [
          -7.675238609313965,
          26.246793746948242,
          36.559478759765625
         ],
         "y": [
          -210.85498046875,
          -186.65179443359375,
          -269.698486328125
         ],
         "z": [
          -48.81751251220703,
          21.650074005126953,
          6.082331657409668
         ]
        },
        {
         "hovertemplate": "color=ST_6<br>x=%{x}<br>y=%{y}<br>z=%{z}<extra></extra>",
         "legendgroup": "ST_6",
         "marker": {
          "color": "#19d3f3",
          "symbol": "circle"
         },
         "mode": "markers",
         "name": "ST_6",
         "scene": "scene",
         "showlegend": true,
         "type": "scatter3d",
         "x": [
          26.22478485107422,
          37.920040130615234,
          -49.99778747558594
         ],
         "y": [
          -116.50133514404297,
          -135.46640014648438,
          229.60183715820312
         ],
         "z": [
          -142.31103515625,
          305.1697692871094,
          -202.67303466796875
         ]
        },
        {
         "hovertemplate": "color=ST_7<br>x=%{x}<br>y=%{y}<br>z=%{z}<extra></extra>",
         "legendgroup": "ST_7",
         "marker": {
          "color": "#FF6692",
          "symbol": "circle"
         },
         "mode": "markers",
         "name": "ST_7",
         "scene": "scene",
         "showlegend": true,
         "type": "scatter3d",
         "x": [
          -181.38890075683594,
          3.8516225814819336,
          140.63299560546875
         ],
         "y": [
          -127.24351501464844,
          -0.7696558237075806,
          -194.257080078125
         ],
         "z": [
          109.3827896118164,
          46.46075439453125,
          114.54951477050781
         ]
        },
        {
         "hovertemplate": "color=ST_8<br>x=%{x}<br>y=%{y}<br>z=%{z}<extra></extra>",
         "legendgroup": "ST_8",
         "marker": {
          "color": "#B6E880",
          "symbol": "circle"
         },
         "mode": "markers",
         "name": "ST_8",
         "scene": "scene",
         "showlegend": true,
         "type": "scatter3d",
         "x": [
          -50.41007995605469,
          104.79798126220703,
          0.1413392722606659
         ],
         "y": [
          -111.34967041015625,
          -35.30668640136719,
          -32.97150802612305
         ],
         "z": [
          -77.87936401367188,
          160.50314331054688,
          -106.30667114257812
         ]
        },
        {
         "hovertemplate": "color=ST_9<br>x=%{x}<br>y=%{y}<br>z=%{z}<extra></extra>",
         "legendgroup": "ST_9",
         "marker": {
          "color": "#FF97FF",
          "symbol": "circle"
         },
         "mode": "markers",
         "name": "ST_9",
         "scene": "scene",
         "showlegend": true,
         "type": "scatter3d",
         "x": [
          12.519107818603516,
          23.93819236755371,
          72.09100341796875
         ],
         "y": [
          24.800859451293945,
          -7.12494421005249,
          76.95930480957031
         ],
         "z": [
          150.4653778076172,
          240.1929931640625,
          157.191162109375
         ]
        },
        {
         "hovertemplate": "color=ST_10<br>x=%{x}<br>y=%{y}<br>z=%{z}<extra></extra>",
         "legendgroup": "ST_10",
         "marker": {
          "color": "#FECB52",
          "symbol": "circle"
         },
         "mode": "markers",
         "name": "ST_10",
         "scene": "scene",
         "showlegend": true,
         "type": "scatter3d",
         "x": [
          104.18592834472656,
          178.64845275878906,
          152.45709228515625
         ],
         "y": [
          -154.6938934326172,
          -123.22924041748047,
          -104.12548828125
         ],
         "z": [
          -204.3360595703125,
          -132.9423828125,
          -203.54478454589844
         ]
        },
        {
         "hovertemplate": "color=SH_1<br>x=%{x}<br>y=%{y}<br>z=%{z}<extra></extra>",
         "legendgroup": "SH_1",
         "marker": {
          "color": "#636efa",
          "symbol": "circle"
         },
         "mode": "markers",
         "name": "SH_1",
         "scene": "scene",
         "showlegend": true,
         "type": "scatter3d",
         "x": [
          252.6929931640625,
          -304.051025390625,
          -26.359275817871094
         ],
         "y": [
          93.23860168457031,
          -92.03081512451172,
          142.82533264160156
         ],
         "z": [
          -143.42318725585938,
          95.99267578125,
          10.758523941040039
         ]
        },
        {
         "hovertemplate": "color=SH_2<br>x=%{x}<br>y=%{y}<br>z=%{z}<extra></extra>",
         "legendgroup": "SH_2",
         "marker": {
          "color": "#EF553B",
          "symbol": "circle"
         },
         "mode": "markers",
         "name": "SH_2",
         "scene": "scene",
         "showlegend": true,
         "type": "scatter3d",
         "x": [
          -115.94123840332031,
          7.980960369110107,
          -84.63780212402344
         ],
         "y": [
          188.19424438476562,
          312.1327209472656,
          -53.08454513549805
         ],
         "z": [
          33.80714416503906,
          -108.71795654296875,
          292.6780700683594
         ]
        },
        {
         "hovertemplate": "color=SH_3<br>x=%{x}<br>y=%{y}<br>z=%{z}<extra></extra>",
         "legendgroup": "SH_3",
         "marker": {
          "color": "#00cc96",
          "symbol": "circle"
         },
         "mode": "markers",
         "name": "SH_3",
         "scene": "scene",
         "showlegend": true,
         "type": "scatter3d",
         "x": [
          -25.19794273376465,
          -216.69989013671875,
          223.97100830078125
         ],
         "y": [
          253.91815185546875,
          209.42433166503906,
          -43.12239456176758
         ],
         "z": [
          187.94155883789062,
          -95.22052764892578,
          149.16537475585938
         ]
        },
        {
         "hovertemplate": "color=SH_4<br>x=%{x}<br>y=%{y}<br>z=%{z}<extra></extra>",
         "legendgroup": "SH_4",
         "marker": {
          "color": "#ab63fa",
          "symbol": "circle"
         },
         "mode": "markers",
         "name": "SH_4",
         "scene": "scene",
         "showlegend": true,
         "type": "scatter3d",
         "x": [
          -143.31710815429688,
          -111.3258285522461,
          -43.83568572998047
         ],
         "y": [
          247.70748901367188,
          202.50743103027344,
          195.6000213623047
         ],
         "z": [
          85.20734405517578,
          157.39251708984375,
          105.83042907714844
         ]
        },
        {
         "hovertemplate": "color=SH_5<br>x=%{x}<br>y=%{y}<br>z=%{z}<extra></extra>",
         "legendgroup": "SH_5",
         "marker": {
          "color": "#FFA15A",
          "symbol": "circle"
         },
         "mode": "markers",
         "name": "SH_5",
         "scene": "scene",
         "showlegend": true,
         "type": "scatter3d",
         "x": [
          35.632511138916016,
          126.0823974609375,
          -31.329357147216797
         ],
         "y": [
          193.22579956054688,
          211.6085968017578,
          157.73951721191406
         ],
         "z": [
          122.66767883300781,
          84.0572280883789,
          249.2783966064453
         ]
        },
        {
         "hovertemplate": "color=SH_6<br>x=%{x}<br>y=%{y}<br>z=%{z}<extra></extra>",
         "legendgroup": "SH_6",
         "marker": {
          "color": "#19d3f3",
          "symbol": "circle"
         },
         "mode": "markers",
         "name": "SH_6",
         "scene": "scene",
         "showlegend": true,
         "type": "scatter3d",
         "x": [
          130.24607849121094,
          286.3412170410156,
          175.316650390625
         ],
         "y": [
          -27.815677642822266,
          -176.6496124267578,
          -63.0756721496582
         ],
         "z": [
          313.4972839355469,
          -9.096423149108887,
          272.20843505859375
         ]
        },
        {
         "hovertemplate": "color=SH_7<br>x=%{x}<br>y=%{y}<br>z=%{z}<extra></extra>",
         "legendgroup": "SH_7",
         "marker": {
          "color": "#FF6692",
          "symbol": "circle"
         },
         "mode": "markers",
         "name": "SH_7",
         "scene": "scene",
         "showlegend": true,
         "type": "scatter3d",
         "x": [
          203.6938018798828,
          -168.23443603515625,
          -227.13107299804688
         ],
         "y": [
          37.832313537597656,
          15.988073348999023,
          29.27849578857422
         ],
         "z": [
          -231.54800415039062,
          -271.4937438964844,
          300.6419677734375
         ]
        },
        {
         "hovertemplate": "color=SH_8<br>x=%{x}<br>y=%{y}<br>z=%{z}<extra></extra>",
         "legendgroup": "SH_8",
         "marker": {
          "color": "#B6E880",
          "symbol": "circle"
         },
         "mode": "markers",
         "name": "SH_8",
         "scene": "scene",
         "showlegend": true,
         "type": "scatter3d",
         "x": [
          -44.279022216796875,
          -21.13237190246582,
          -279.4857177734375
         ],
         "y": [
          37.1193962097168,
          96.99333953857422,
          24.178869247436523
         ],
         "z": [
          -133.1834259033203,
          -175.00721740722656,
          91.72584533691406
         ]
        },
        {
         "hovertemplate": "color=SH_9<br>x=%{x}<br>y=%{y}<br>z=%{z}<extra></extra>",
         "legendgroup": "SH_9",
         "marker": {
          "color": "#FF97FF",
          "symbol": "circle"
         },
         "mode": "markers",
         "name": "SH_9",
         "scene": "scene",
         "showlegend": true,
         "type": "scatter3d",
         "x": [
          4.345028400421143,
          -222.07521057128906,
          -154.13966369628906
         ],
         "y": [
          -58.313865661621094,
          -150.4036407470703,
          -115.92936706542969
         ],
         "z": [
          129.7508087158203,
          -83.77739715576172,
          -75.63602447509766
         ]
        },
        {
         "hovertemplate": "color=SH_10<br>x=%{x}<br>y=%{y}<br>z=%{z}<extra></extra>",
         "legendgroup": "SH_10",
         "marker": {
          "color": "#FECB52",
          "symbol": "circle"
         },
         "mode": "markers",
         "name": "SH_10",
         "scene": "scene",
         "showlegend": true,
         "type": "scatter3d",
         "x": [
          73.97499084472656,
          112.34436798095703,
          -143.55255126953125
         ],
         "y": [
          31.40253257751465,
          97.53776550292969,
          -126.475830078125
         ],
         "z": [
          -29.395374298095703,
          28.428773880004883,
          198.0973358154297
         ]
        },
        {
         "hovertemplate": "color=CF_1<br>x=%{x}<br>y=%{y}<br>z=%{z}<extra></extra>",
         "legendgroup": "CF_1",
         "marker": {
          "color": "#636efa",
          "symbol": "circle"
         },
         "mode": "markers",
         "name": "CF_1",
         "scene": "scene",
         "showlegend": true,
         "type": "scatter3d",
         "x": [
          -241.89697265625,
          -85.02659606933594,
          -146.0065460205078
         ],
         "y": [
          -227.6020050048828,
          -267.2348937988281,
          -273.7266540527344
         ],
         "z": [
          82.58035278320312,
          77.42044067382812,
          48.854087829589844
         ]
        },
        {
         "hovertemplate": "color=CF_2<br>x=%{x}<br>y=%{y}<br>z=%{z}<extra></extra>",
         "legendgroup": "CF_2",
         "marker": {
          "color": "#EF553B",
          "symbol": "circle"
         },
         "mode": "markers",
         "name": "CF_2",
         "scene": "scene",
         "showlegend": true,
         "type": "scatter3d",
         "x": [
          74.39473724365234,
          104.42308044433594,
          100.67730712890625
         ],
         "y": [
          -134.2413787841797,
          73.26517486572266,
          -5.367042064666748
         ],
         "z": [
          -71.88760375976562,
          -126.59929656982422,
          -135.42051696777344
         ]
        },
        {
         "hovertemplate": "color=CF_3<br>x=%{x}<br>y=%{y}<br>z=%{z}<extra></extra>",
         "legendgroup": "CF_3",
         "marker": {
          "color": "#00cc96",
          "symbol": "circle"
         },
         "mode": "markers",
         "name": "CF_3",
         "scene": "scene",
         "showlegend": true,
         "type": "scatter3d",
         "x": [
          338.8350524902344,
          188.53054809570312,
          -69.47651672363281
         ],
         "y": [
          -56.22970962524414,
          -256.6963195800781,
          -249.430908203125
         ],
         "z": [
          40.477752685546875,
          -164.4064178466797,
          -189.347900390625
         ]
        },
        {
         "hovertemplate": "color=CF_4<br>x=%{x}<br>y=%{y}<br>z=%{z}<extra></extra>",
         "legendgroup": "CF_4",
         "marker": {
          "color": "#ab63fa",
          "symbol": "circle"
         },
         "mode": "markers",
         "name": "CF_4",
         "scene": "scene",
         "showlegend": true,
         "type": "scatter3d",
         "x": [
          287.53509521484375,
          -186.4690704345703,
          34.4354133605957
         ],
         "y": [
          74.03864288330078,
          -113.68794250488281,
          208.398193359375
         ],
         "z": [
          119.41069793701172,
          -198.169189453125,
          -307.52008056640625
         ]
        },
        {
         "hovertemplate": "color=CF_5<br>x=%{x}<br>y=%{y}<br>z=%{z}<extra></extra>",
         "legendgroup": "CF_5",
         "marker": {
          "color": "#FFA15A",
          "symbol": "circle"
         },
         "mode": "markers",
         "name": "CF_5",
         "scene": "scene",
         "showlegend": true,
         "type": "scatter3d",
         "x": [
          -170.52394104003906,
          -216.28228759765625,
          4.45769739151001
         ],
         "y": [
          -9.218398094177246,
          -71.78184509277344,
          -63.01530838012695
         ],
         "z": [
          4.291375160217285,
          0.423101544380188,
          -23.527057647705078
         ]
        },
        {
         "hovertemplate": "color=CF_6<br>x=%{x}<br>y=%{y}<br>z=%{z}<extra></extra>",
         "legendgroup": "CF_6",
         "marker": {
          "color": "#19d3f3",
          "symbol": "circle"
         },
         "mode": "markers",
         "name": "CF_6",
         "scene": "scene",
         "showlegend": true,
         "type": "scatter3d",
         "x": [
          196.3983612060547,
          258.43658447265625,
          244.5330352783203
         ],
         "y": [
          31.876585006713867,
          148.24497985839844,
          101.12920379638672
         ],
         "z": [
          -55.856849670410156,
          50.02339553833008,
          -13.53966236114502
         ]
        },
        {
         "hovertemplate": "color=CF_7<br>x=%{x}<br>y=%{y}<br>z=%{z}<extra></extra>",
         "legendgroup": "CF_7",
         "marker": {
          "color": "#FF6692",
          "symbol": "circle"
         },
         "mode": "markers",
         "name": "CF_7",
         "scene": "scene",
         "showlegend": true,
         "type": "scatter3d",
         "x": [
          53.169734954833984,
          77.57381439208984,
          -113.69499969482422
         ],
         "y": [
          54.976383209228516,
          155.6699676513672,
          -26.484512329101562
         ],
         "z": [
          -206.9552001953125,
          -212.39007568359375,
          140.51783752441406
         ]
        },
        {
         "hovertemplate": "color=CF_8<br>x=%{x}<br>y=%{y}<br>z=%{z}<extra></extra>",
         "legendgroup": "CF_8",
         "marker": {
          "color": "#B6E880",
          "symbol": "circle"
         },
         "mode": "markers",
         "name": "CF_8",
         "scene": "scene",
         "showlegend": true,
         "type": "scatter3d",
         "x": [
          44.09392166137695,
          58.96841049194336,
          191.46676635742188
         ],
         "y": [
          -48.3628044128418,
          -288.59783935546875,
          192.27328491210938
         ],
         "z": [
          -241.82875061035156,
          109.88702392578125,
          -198.48658752441406
         ]
        },
        {
         "hovertemplate": "color=CF_9<br>x=%{x}<br>y=%{y}<br>z=%{z}<extra></extra>",
         "legendgroup": "CF_9",
         "marker": {
          "color": "#FF97FF",
          "symbol": "circle"
         },
         "mode": "markers",
         "name": "CF_9",
         "scene": "scene",
         "showlegend": true,
         "type": "scatter3d",
         "x": [
          -98.00403594970703,
          -80.59424591064453,
          -91.21060180664062
         ],
         "y": [
          -78.17469787597656,
          -111.79435729980469,
          -45.60227584838867
         ],
         "z": [
          3.6212682723999023,
          115.85482025146484,
          68.24942779541016
         ]
        },
        {
         "hovertemplate": "color=CF_10<br>x=%{x}<br>y=%{y}<br>z=%{z}<extra></extra>",
         "legendgroup": "CF_10",
         "marker": {
          "color": "#FECB52",
          "symbol": "circle"
         },
         "mode": "markers",
         "name": "CF_10",
         "scene": "scene",
         "showlegend": true,
         "type": "scatter3d",
         "x": [
          -205.28964233398438,
          110.4158706665039,
          176.8685760498047
         ],
         "y": [
          10.36876392364502,
          1.846593976020813,
          -262.3080139160156
         ],
         "z": [
          -150.10531616210938,
          -307.65911865234375,
          -0.021049972623586655
         ]
        },
        {
         "hovertemplate": "color=BG_1<br>x=%{x}<br>y=%{y}<br>z=%{z}<extra></extra>",
         "legendgroup": "BG_1",
         "marker": {
          "color": "#636efa",
          "symbol": "circle"
         },
         "mode": "markers",
         "name": "BG_1",
         "scene": "scene",
         "showlegend": true,
         "type": "scatter3d",
         "x": [
          -139.95553588867188,
          188.72146606445312,
          214.76417541503906
         ],
         "y": [
          103.76936340332031,
          89.17008972167969,
          -39.85419464111328
         ],
         "z": [
          -77.92636108398438,
          244.45584106445312,
          31.682113647460938
         ]
        },
        {
         "hovertemplate": "color=BG_2<br>x=%{x}<br>y=%{y}<br>z=%{z}<extra></extra>",
         "legendgroup": "BG_2",
         "marker": {
          "color": "#EF553B",
          "symbol": "circle"
         },
         "mode": "markers",
         "name": "BG_2",
         "scene": "scene",
         "showlegend": true,
         "type": "scatter3d",
         "x": [
          -271.0084228515625,
          153.9083251953125,
          126.77247619628906
         ],
         "y": [
          137.58242797851562,
          -141.4779510498047,
          -68.95558166503906
         ],
         "z": [
          16.38383674621582,
          6.271789073944092,
          -23.21442413330078
         ]
        },
        {
         "hovertemplate": "color=BG_3<br>x=%{x}<br>y=%{y}<br>z=%{z}<extra></extra>",
         "legendgroup": "BG_3",
         "marker": {
          "color": "#00cc96",
          "symbol": "circle"
         },
         "mode": "markers",
         "name": "BG_3",
         "scene": "scene",
         "showlegend": true,
         "type": "scatter3d",
         "x": [
          -65.4276351928711,
          31.532136917114258,
          23.584470748901367
         ],
         "y": [
          144.06594848632812,
          98.03192901611328,
          188.394775390625
         ],
         "z": [
          -86.06637573242188,
          -58.36876678466797,
          -102.3456039428711
         ]
        },
        {
         "hovertemplate": "color=BG_4<br>x=%{x}<br>y=%{y}<br>z=%{z}<extra></extra>",
         "legendgroup": "BG_4",
         "marker": {
          "color": "#ab63fa",
          "symbol": "circle"
         },
         "mode": "markers",
         "name": "BG_4",
         "scene": "scene",
         "showlegend": true,
         "type": "scatter3d",
         "x": [
          -15.367427825927734,
          -206.26904296875,
          -130.8131866455078
         ],
         "y": [
          59.293453216552734,
          8.826742172241211,
          40.24641799926758
         ],
         "z": [
          -277.3759765625,
          176.8173065185547,
          210.28793334960938
         ]
        },
        {
         "hovertemplate": "color=BG_5<br>x=%{x}<br>y=%{y}<br>z=%{z}<extra></extra>",
         "legendgroup": "BG_5",
         "marker": {
          "color": "#FFA15A",
          "symbol": "circle"
         },
         "mode": "markers",
         "name": "BG_5",
         "scene": "scene",
         "showlegend": true,
         "type": "scatter3d",
         "x": [
          48.016212463378906,
          -45.648902893066406,
          -21.053905487060547
         ],
         "y": [
          331.53253173828125,
          290.4423522949219,
          333.3424987792969
         ],
         "z": [
          14.326420783996582,
          5.446157932281494,
          51.98273849487305
         ]
        },
        {
         "hovertemplate": "color=BG_6<br>x=%{x}<br>y=%{y}<br>z=%{z}<extra></extra>",
         "legendgroup": "BG_6",
         "marker": {
          "color": "#19d3f3",
          "symbol": "circle"
         },
         "mode": "markers",
         "name": "BG_6",
         "scene": "scene",
         "showlegend": true,
         "type": "scatter3d",
         "x": [
          -220.60720825195312,
          161.69967651367188,
          -126.02202606201172
         ],
         "y": [
          114.90029907226562,
          225.7469482421875,
          -236.5211944580078
         ],
         "z": [
          173.79324340820312,
          -61.39436721801758,
          -72.3886947631836
         ]
        },
        {
         "hovertemplate": "color=BG_7<br>x=%{x}<br>y=%{y}<br>z=%{z}<extra></extra>",
         "legendgroup": "BG_7",
         "marker": {
          "color": "#FF6692",
          "symbol": "circle"
         },
         "mode": "markers",
         "name": "BG_7",
         "scene": "scene",
         "showlegend": true,
         "type": "scatter3d",
         "x": [
          39.356101989746094,
          57.313045501708984,
          -131.8474884033203
         ],
         "y": [
          -216.25257873535156,
          -135.25802612304688,
          283.3070373535156
         ],
         "z": [
          211.2677001953125,
          189.87353515625,
          -71.387939453125
         ]
        },
        {
         "hovertemplate": "color=BG_8<br>x=%{x}<br>y=%{y}<br>z=%{z}<extra></extra>",
         "legendgroup": "BG_8",
         "marker": {
          "color": "#B6E880",
          "symbol": "circle"
         },
         "mode": "markers",
         "name": "BG_8",
         "scene": "scene",
         "showlegend": true,
         "type": "scatter3d",
         "x": [
          61.86898422241211,
          144.49794006347656,
          -271.52838134765625
         ],
         "y": [
          236.4712371826172,
          214.09918212890625,
          41.85917663574219
         ],
         "z": [
          -9.520676612854004,
          203.92832946777344,
          -32.688323974609375
         ]
        },
        {
         "hovertemplate": "color=BG_9<br>x=%{x}<br>y=%{y}<br>z=%{z}<extra></extra>",
         "legendgroup": "BG_9",
         "marker": {
          "color": "#FF97FF",
          "symbol": "circle"
         },
         "mode": "markers",
         "name": "BG_9",
         "scene": "scene",
         "showlegend": true,
         "type": "scatter3d",
         "x": [
          102.54389953613281,
          42.213409423828125,
          91.9273452758789
         ],
         "y": [
          -87.3258285522461,
          97.80691528320312,
          -240.43994140625
         ],
         "z": [
          91.48079681396484,
          251.22366333007812,
          -92.99065399169922
         ]
        },
        {
         "hovertemplate": "color=BG_10<br>x=%{x}<br>y=%{y}<br>z=%{z}<extra></extra>",
         "legendgroup": "BG_10",
         "marker": {
          "color": "#FECB52",
          "symbol": "circle"
         },
         "mode": "markers",
         "name": "BG_10",
         "scene": "scene",
         "showlegend": true,
         "type": "scatter3d",
         "x": [
          288.4132385253906,
          -55.69999313354492,
          -185.40660095214844
         ],
         "y": [
          -43.106163024902344,
          94.10772705078125,
          83.83768463134766
         ],
         "z": [
          -85.64112854003906,
          127.12254333496094,
          53.74217224121094
         ]
        }
       ],
       "layout": {
        "autosize": true,
        "legend": {
         "title": {
          "text": "color"
         },
         "tracegroupgap": 0
        },
        "margin": {
         "t": 60
        },
        "scene": {
         "aspectmode": "auto",
         "aspectratio": {
          "x": 0.9712093990053126,
          "y": 1.0590919902942946,
          "z": 0.9721951266450598
         },
         "camera": {
          "center": {
           "x": 0,
           "y": 0,
           "z": 0
          },
          "eye": {
           "x": -0.5876347810258579,
           "y": 1.1256751496360122,
           "z": 1.753579431226494
          },
          "projection": {
           "type": "perspective"
          },
          "up": {
           "x": 0,
           "y": 0,
           "z": 1
          }
         },
         "domain": {
          "x": [
           0,
           1
          ],
          "y": [
           0,
           1
          ]
         },
         "xaxis": {
          "title": {
           "text": "x"
          },
          "type": "linear"
         },
         "yaxis": {
          "title": {
           "text": "y"
          },
          "type": "linear"
         },
         "zaxis": {
          "title": {
           "text": "z"
          },
          "type": "linear"
         }
        },
        "template": {
         "data": {
          "bar": [
           {
            "error_x": {
             "color": "#2a3f5f"
            },
            "error_y": {
             "color": "#2a3f5f"
            },
            "marker": {
             "line": {
              "color": "#E5ECF6",
              "width": 0.5
             },
             "pattern": {
              "fillmode": "overlay",
              "size": 10,
              "solidity": 0.2
             }
            },
            "type": "bar"
           }
          ],
          "barpolar": [
           {
            "marker": {
             "line": {
              "color": "#E5ECF6",
              "width": 0.5
             },
             "pattern": {
              "fillmode": "overlay",
              "size": 10,
              "solidity": 0.2
             }
            },
            "type": "barpolar"
           }
          ],
          "carpet": [
           {
            "aaxis": {
             "endlinecolor": "#2a3f5f",
             "gridcolor": "white",
             "linecolor": "white",
             "minorgridcolor": "white",
             "startlinecolor": "#2a3f5f"
            },
            "baxis": {
             "endlinecolor": "#2a3f5f",
             "gridcolor": "white",
             "linecolor": "white",
             "minorgridcolor": "white",
             "startlinecolor": "#2a3f5f"
            },
            "type": "carpet"
           }
          ],
          "choropleth": [
           {
            "colorbar": {
             "outlinewidth": 0,
             "ticks": ""
            },
            "type": "choropleth"
           }
          ],
          "contour": [
           {
            "colorbar": {
             "outlinewidth": 0,
             "ticks": ""
            },
            "colorscale": [
             [
              0,
              "#0d0887"
             ],
             [
              0.1111111111111111,
              "#46039f"
             ],
             [
              0.2222222222222222,
              "#7201a8"
             ],
             [
              0.3333333333333333,
              "#9c179e"
             ],
             [
              0.4444444444444444,
              "#bd3786"
             ],
             [
              0.5555555555555556,
              "#d8576b"
             ],
             [
              0.6666666666666666,
              "#ed7953"
             ],
             [
              0.7777777777777778,
              "#fb9f3a"
             ],
             [
              0.8888888888888888,
              "#fdca26"
             ],
             [
              1,
              "#f0f921"
             ]
            ],
            "type": "contour"
           }
          ],
          "contourcarpet": [
           {
            "colorbar": {
             "outlinewidth": 0,
             "ticks": ""
            },
            "type": "contourcarpet"
           }
          ],
          "heatmap": [
           {
            "colorbar": {
             "outlinewidth": 0,
             "ticks": ""
            },
            "colorscale": [
             [
              0,
              "#0d0887"
             ],
             [
              0.1111111111111111,
              "#46039f"
             ],
             [
              0.2222222222222222,
              "#7201a8"
             ],
             [
              0.3333333333333333,
              "#9c179e"
             ],
             [
              0.4444444444444444,
              "#bd3786"
             ],
             [
              0.5555555555555556,
              "#d8576b"
             ],
             [
              0.6666666666666666,
              "#ed7953"
             ],
             [
              0.7777777777777778,
              "#fb9f3a"
             ],
             [
              0.8888888888888888,
              "#fdca26"
             ],
             [
              1,
              "#f0f921"
             ]
            ],
            "type": "heatmap"
           }
          ],
          "heatmapgl": [
           {
            "colorbar": {
             "outlinewidth": 0,
             "ticks": ""
            },
            "colorscale": [
             [
              0,
              "#0d0887"
             ],
             [
              0.1111111111111111,
              "#46039f"
             ],
             [
              0.2222222222222222,
              "#7201a8"
             ],
             [
              0.3333333333333333,
              "#9c179e"
             ],
             [
              0.4444444444444444,
              "#bd3786"
             ],
             [
              0.5555555555555556,
              "#d8576b"
             ],
             [
              0.6666666666666666,
              "#ed7953"
             ],
             [
              0.7777777777777778,
              "#fb9f3a"
             ],
             [
              0.8888888888888888,
              "#fdca26"
             ],
             [
              1,
              "#f0f921"
             ]
            ],
            "type": "heatmapgl"
           }
          ],
          "histogram": [
           {
            "marker": {
             "pattern": {
              "fillmode": "overlay",
              "size": 10,
              "solidity": 0.2
             }
            },
            "type": "histogram"
           }
          ],
          "histogram2d": [
           {
            "colorbar": {
             "outlinewidth": 0,
             "ticks": ""
            },
            "colorscale": [
             [
              0,
              "#0d0887"
             ],
             [
              0.1111111111111111,
              "#46039f"
             ],
             [
              0.2222222222222222,
              "#7201a8"
             ],
             [
              0.3333333333333333,
              "#9c179e"
             ],
             [
              0.4444444444444444,
              "#bd3786"
             ],
             [
              0.5555555555555556,
              "#d8576b"
             ],
             [
              0.6666666666666666,
              "#ed7953"
             ],
             [
              0.7777777777777778,
              "#fb9f3a"
             ],
             [
              0.8888888888888888,
              "#fdca26"
             ],
             [
              1,
              "#f0f921"
             ]
            ],
            "type": "histogram2d"
           }
          ],
          "histogram2dcontour": [
           {
            "colorbar": {
             "outlinewidth": 0,
             "ticks": ""
            },
            "colorscale": [
             [
              0,
              "#0d0887"
             ],
             [
              0.1111111111111111,
              "#46039f"
             ],
             [
              0.2222222222222222,
              "#7201a8"
             ],
             [
              0.3333333333333333,
              "#9c179e"
             ],
             [
              0.4444444444444444,
              "#bd3786"
             ],
             [
              0.5555555555555556,
              "#d8576b"
             ],
             [
              0.6666666666666666,
              "#ed7953"
             ],
             [
              0.7777777777777778,
              "#fb9f3a"
             ],
             [
              0.8888888888888888,
              "#fdca26"
             ],
             [
              1,
              "#f0f921"
             ]
            ],
            "type": "histogram2dcontour"
           }
          ],
          "mesh3d": [
           {
            "colorbar": {
             "outlinewidth": 0,
             "ticks": ""
            },
            "type": "mesh3d"
           }
          ],
          "parcoords": [
           {
            "line": {
             "colorbar": {
              "outlinewidth": 0,
              "ticks": ""
             }
            },
            "type": "parcoords"
           }
          ],
          "pie": [
           {
            "automargin": true,
            "type": "pie"
           }
          ],
          "scatter": [
           {
            "marker": {
             "colorbar": {
              "outlinewidth": 0,
              "ticks": ""
             }
            },
            "type": "scatter"
           }
          ],
          "scatter3d": [
           {
            "line": {
             "colorbar": {
              "outlinewidth": 0,
              "ticks": ""
             }
            },
            "marker": {
             "colorbar": {
              "outlinewidth": 0,
              "ticks": ""
             }
            },
            "type": "scatter3d"
           }
          ],
          "scattercarpet": [
           {
            "marker": {
             "colorbar": {
              "outlinewidth": 0,
              "ticks": ""
             }
            },
            "type": "scattercarpet"
           }
          ],
          "scattergeo": [
           {
            "marker": {
             "colorbar": {
              "outlinewidth": 0,
              "ticks": ""
             }
            },
            "type": "scattergeo"
           }
          ],
          "scattergl": [
           {
            "marker": {
             "colorbar": {
              "outlinewidth": 0,
              "ticks": ""
             }
            },
            "type": "scattergl"
           }
          ],
          "scattermapbox": [
           {
            "marker": {
             "colorbar": {
              "outlinewidth": 0,
              "ticks": ""
             }
            },
            "type": "scattermapbox"
           }
          ],
          "scatterpolar": [
           {
            "marker": {
             "colorbar": {
              "outlinewidth": 0,
              "ticks": ""
             }
            },
            "type": "scatterpolar"
           }
          ],
          "scatterpolargl": [
           {
            "marker": {
             "colorbar": {
              "outlinewidth": 0,
              "ticks": ""
             }
            },
            "type": "scatterpolargl"
           }
          ],
          "scatterternary": [
           {
            "marker": {
             "colorbar": {
              "outlinewidth": 0,
              "ticks": ""
             }
            },
            "type": "scatterternary"
           }
          ],
          "surface": [
           {
            "colorbar": {
             "outlinewidth": 0,
             "ticks": ""
            },
            "colorscale": [
             [
              0,
              "#0d0887"
             ],
             [
              0.1111111111111111,
              "#46039f"
             ],
             [
              0.2222222222222222,
              "#7201a8"
             ],
             [
              0.3333333333333333,
              "#9c179e"
             ],
             [
              0.4444444444444444,
              "#bd3786"
             ],
             [
              0.5555555555555556,
              "#d8576b"
             ],
             [
              0.6666666666666666,
              "#ed7953"
             ],
             [
              0.7777777777777778,
              "#fb9f3a"
             ],
             [
              0.8888888888888888,
              "#fdca26"
             ],
             [
              1,
              "#f0f921"
             ]
            ],
            "type": "surface"
           }
          ],
          "table": [
           {
            "cells": {
             "fill": {
              "color": "#EBF0F8"
             },
             "line": {
              "color": "white"
             }
            },
            "header": {
             "fill": {
              "color": "#C8D4E3"
             },
             "line": {
              "color": "white"
             }
            },
            "type": "table"
           }
          ]
         },
         "layout": {
          "annotationdefaults": {
           "arrowcolor": "#2a3f5f",
           "arrowhead": 0,
           "arrowwidth": 1
          },
          "autotypenumbers": "strict",
          "coloraxis": {
           "colorbar": {
            "outlinewidth": 0,
            "ticks": ""
           }
          },
          "colorscale": {
           "diverging": [
            [
             0,
             "#8e0152"
            ],
            [
             0.1,
             "#c51b7d"
            ],
            [
             0.2,
             "#de77ae"
            ],
            [
             0.3,
             "#f1b6da"
            ],
            [
             0.4,
             "#fde0ef"
            ],
            [
             0.5,
             "#f7f7f7"
            ],
            [
             0.6,
             "#e6f5d0"
            ],
            [
             0.7,
             "#b8e186"
            ],
            [
             0.8,
             "#7fbc41"
            ],
            [
             0.9,
             "#4d9221"
            ],
            [
             1,
             "#276419"
            ]
           ],
           "sequential": [
            [
             0,
             "#0d0887"
            ],
            [
             0.1111111111111111,
             "#46039f"
            ],
            [
             0.2222222222222222,
             "#7201a8"
            ],
            [
             0.3333333333333333,
             "#9c179e"
            ],
            [
             0.4444444444444444,
             "#bd3786"
            ],
            [
             0.5555555555555556,
             "#d8576b"
            ],
            [
             0.6666666666666666,
             "#ed7953"
            ],
            [
             0.7777777777777778,
             "#fb9f3a"
            ],
            [
             0.8888888888888888,
             "#fdca26"
            ],
            [
             1,
             "#f0f921"
            ]
           ],
           "sequentialminus": [
            [
             0,
             "#0d0887"
            ],
            [
             0.1111111111111111,
             "#46039f"
            ],
            [
             0.2222222222222222,
             "#7201a8"
            ],
            [
             0.3333333333333333,
             "#9c179e"
            ],
            [
             0.4444444444444444,
             "#bd3786"
            ],
            [
             0.5555555555555556,
             "#d8576b"
            ],
            [
             0.6666666666666666,
             "#ed7953"
            ],
            [
             0.7777777777777778,
             "#fb9f3a"
            ],
            [
             0.8888888888888888,
             "#fdca26"
            ],
            [
             1,
             "#f0f921"
            ]
           ]
          },
          "colorway": [
           "#636efa",
           "#EF553B",
           "#00cc96",
           "#ab63fa",
           "#FFA15A",
           "#19d3f3",
           "#FF6692",
           "#B6E880",
           "#FF97FF",
           "#FECB52"
          ],
          "font": {
           "color": "#2a3f5f"
          },
          "geo": {
           "bgcolor": "white",
           "lakecolor": "white",
           "landcolor": "#E5ECF6",
           "showlakes": true,
           "showland": true,
           "subunitcolor": "white"
          },
          "hoverlabel": {
           "align": "left"
          },
          "hovermode": "closest",
          "mapbox": {
           "style": "light"
          },
          "paper_bgcolor": "white",
          "plot_bgcolor": "#E5ECF6",
          "polar": {
           "angularaxis": {
            "gridcolor": "white",
            "linecolor": "white",
            "ticks": ""
           },
           "bgcolor": "#E5ECF6",
           "radialaxis": {
            "gridcolor": "white",
            "linecolor": "white",
            "ticks": ""
           }
          },
          "scene": {
           "xaxis": {
            "backgroundcolor": "#E5ECF6",
            "gridcolor": "white",
            "gridwidth": 2,
            "linecolor": "white",
            "showbackground": true,
            "ticks": "",
            "zerolinecolor": "white"
           },
           "yaxis": {
            "backgroundcolor": "#E5ECF6",
            "gridcolor": "white",
            "gridwidth": 2,
            "linecolor": "white",
            "showbackground": true,
            "ticks": "",
            "zerolinecolor": "white"
           },
           "zaxis": {
            "backgroundcolor": "#E5ECF6",
            "gridcolor": "white",
            "gridwidth": 2,
            "linecolor": "white",
            "showbackground": true,
            "ticks": "",
            "zerolinecolor": "white"
           }
          },
          "shapedefaults": {
           "line": {
            "color": "#2a3f5f"
           }
          },
          "ternary": {
           "aaxis": {
            "gridcolor": "white",
            "linecolor": "white",
            "ticks": ""
           },
           "baxis": {
            "gridcolor": "white",
            "linecolor": "white",
            "ticks": ""
           },
           "bgcolor": "#E5ECF6",
           "caxis": {
            "gridcolor": "white",
            "linecolor": "white",
            "ticks": ""
           }
          },
          "title": {
           "x": 0.05
          },
          "xaxis": {
           "automargin": true,
           "gridcolor": "white",
           "linecolor": "white",
           "ticks": "",
           "title": {
            "standoff": 15
           },
           "zerolinecolor": "white",
           "zerolinewidth": 2
          },
          "yaxis": {
           "automargin": true,
           "gridcolor": "white",
           "linecolor": "white",
           "ticks": "",
           "title": {
            "standoff": 15
           },
           "zerolinecolor": "white",
           "zerolinewidth": 2
          }
         }
        }
       }
      },
      "image/png": "[encoded data removed]",
      "text/html": [
       "<div>                            <div id=\"f7fc7b59-39e4-4ae1-9406-71bdd94f006a\" class=\"plotly-graph-div\" style=\"height:525px; width:100%;\"></div>            <script type=\"text/javascript\">                require([\"plotly\"], function(Plotly) {                    window.PLOTLYENV=window.PLOTLYENV || {};                                    if (document.getElementById(\"f7fc7b59-39e4-4ae1-9406-71bdd94f006a\")) {                    Plotly.newPlot(                        \"f7fc7b59-39e4-4ae1-9406-71bdd94f006a\",                        [{\"hovertemplate\":\"color=ST_1<br>x=%{x}<br>y=%{y}<br>z=%{z}<extra></extra>\",\"legendgroup\":\"ST_1\",\"marker\":{\"color\":\"#636efa\",\"symbol\":\"circle\"},\"mode\":\"markers\",\"name\":\"ST_1\",\"scene\":\"scene\",\"showlegend\":true,\"x\":[-63.722007751464844,-129.93601989746094,-79.46125793457031],\"y\":[-120.21416473388672,114.1811752319336,-26.806089401245117],\"z\":[-222.18690490722656,-221.8194122314453,-203.42860412597656],\"type\":\"scatter3d\"},{\"hovertemplate\":\"color=ST_2<br>x=%{x}<br>y=%{y}<br>z=%{z}<extra></extra>\",\"legendgroup\":\"ST_2\",\"marker\":{\"color\":\"#EF553B\",\"symbol\":\"circle\"},\"mode\":\"markers\",\"name\":\"ST_2\",\"scene\":\"scene\",\"showlegend\":true,\"x\":[-95.59178924560547,-93.68983459472656,22.247087478637695],\"y\":[-26.882862091064453,-163.50796508789062,-367.7169189453125],\"z\":[-84.78729248046875,26.32819938659668,-1.5841710567474365],\"type\":\"scatter3d\"},{\"hovertemplate\":\"color=ST_3<br>x=%{x}<br>y=%{y}<br>z=%{z}<extra></extra>\",\"legendgroup\":\"ST_3\",\"marker\":{\"color\":\"#00cc96\",\"symbol\":\"circle\"},\"mode\":\"markers\",\"name\":\"ST_3\",\"scene\":\"scene\",\"showlegend\":true,\"x\":[158.64007568359375,90.25926208496094,33.01918029785156],\"y\":[79.27909088134766,21.113933563232422,82.4655532836914],\"z\":[118.01612854003906,88.4739761352539,73.56285095214844],\"type\":\"scatter3d\"},{\"hovertemplate\":\"color=ST_4<br>x=%{x}<br>y=%{y}<br>z=%{z}<extra></extra>\",\"legendgroup\":\"ST_4\",\"marker\":{\"color\":\"#ab63fa\",\"symbol\":\"circle\"},\"mode\":\"markers\",\"name\":\"ST_4\",\"scene\":\"scene\",\"showlegend\":true,\"x\":[2.8723409175872803,-56.74552917480469,-47.706302642822266],\"y\":[-102.07034301757812,18.86540412902832,-49.85786819458008],\"z\":[49.215206146240234,-5.940122604370117,-330.0412902832031],\"type\":\"scatter3d\"},{\"hovertemplate\":\"color=ST_5<br>x=%{x}<br>y=%{y}<br>z=%{z}<extra></extra>\",\"legendgroup\":\"ST_5\",\"marker\":{\"color\":\"#FFA15A\",\"symbol\":\"circle\"},\"mode\":\"markers\",\"name\":\"ST_5\",\"scene\":\"scene\",\"showlegend\":true,\"x\":[-7.675238609313965,26.246793746948242,36.559478759765625],\"y\":[-210.85498046875,-186.65179443359375,-269.698486328125],\"z\":[-48.81751251220703,21.650074005126953,6.082331657409668],\"type\":\"scatter3d\"},{\"hovertemplate\":\"color=ST_6<br>x=%{x}<br>y=%{y}<br>z=%{z}<extra></extra>\",\"legendgroup\":\"ST_6\",\"marker\":{\"color\":\"#19d3f3\",\"symbol\":\"circle\"},\"mode\":\"markers\",\"name\":\"ST_6\",\"scene\":\"scene\",\"showlegend\":true,\"x\":[26.22478485107422,37.920040130615234,-49.99778747558594],\"y\":[-116.50133514404297,-135.46640014648438,229.60183715820312],\"z\":[-142.31103515625,305.1697692871094,-202.67303466796875],\"type\":\"scatter3d\"},{\"hovertemplate\":\"color=ST_7<br>x=%{x}<br>y=%{y}<br>z=%{z}<extra></extra>\",\"legendgroup\":\"ST_7\",\"marker\":{\"color\":\"#FF6692\",\"symbol\":\"circle\"},\"mode\":\"markers\",\"name\":\"ST_7\",\"scene\":\"scene\",\"showlegend\":true,\"x\":[-181.38890075683594,3.8516225814819336,140.63299560546875],\"y\":[-127.24351501464844,-0.7696558237075806,-194.257080078125],\"z\":[109.3827896118164,46.46075439453125,114.54951477050781],\"type\":\"scatter3d\"},{\"hovertemplate\":\"color=ST_8<br>x=%{x}<br>y=%{y}<br>z=%{z}<extra></extra>\",\"legendgroup\":\"ST_8\",\"marker\":{\"color\":\"#B6E880\",\"symbol\":\"circle\"},\"mode\":\"markers\",\"name\":\"ST_8\",\"scene\":\"scene\",\"showlegend\":true,\"x\":[-50.41007995605469,104.79798126220703,0.1413392722606659],\"y\":[-111.34967041015625,-35.30668640136719,-32.97150802612305],\"z\":[-77.87936401367188,160.50314331054688,-106.30667114257812],\"type\":\"scatter3d\"},{\"hovertemplate\":\"color=ST_9<br>x=%{x}<br>y=%{y}<br>z=%{z}<extra></extra>\",\"legendgroup\":\"ST_9\",\"marker\":{\"color\":\"#FF97FF\",\"symbol\":\"circle\"},\"mode\":\"markers\",\"name\":\"ST_9\",\"scene\":\"scene\",\"showlegend\":true,\"x\":[12.519107818603516,23.93819236755371,72.09100341796875],\"y\":[24.800859451293945,-7.12494421005249,76.95930480957031],\"z\":[150.4653778076172,240.1929931640625,157.191162109375],\"type\":\"scatter3d\"},{\"hovertemplate\":\"color=ST_10<br>x=%{x}<br>y=%{y}<br>z=%{z}<extra></extra>\",\"legendgroup\":\"ST_10\",\"marker\":{\"color\":\"#FECB52\",\"symbol\":\"circle\"},\"mode\":\"markers\",\"name\":\"ST_10\",\"scene\":\"scene\",\"showlegend\":true,\"x\":[104.18592834472656,178.64845275878906,152.45709228515625],\"y\":[-154.6938934326172,-123.22924041748047,-104.12548828125],\"z\":[-204.3360595703125,-132.9423828125,-203.54478454589844],\"type\":\"scatter3d\"},{\"hovertemplate\":\"color=SH_1<br>x=%{x}<br>y=%{y}<br>z=%{z}<extra></extra>\",\"legendgroup\":\"SH_1\",\"marker\":{\"color\":\"#636efa\",\"symbol\":\"circle\"},\"mode\":\"markers\",\"name\":\"SH_1\",\"scene\":\"scene\",\"showlegend\":true,\"x\":[252.6929931640625,-304.051025390625,-26.359275817871094],\"y\":[93.23860168457031,-92.03081512451172,142.82533264160156],\"z\":[-143.42318725585938,95.99267578125,10.758523941040039],\"type\":\"scatter3d\"},{\"hovertemplate\":\"color=SH_2<br>x=%{x}<br>y=%{y}<br>z=%{z}<extra></extra>\",\"legendgroup\":\"SH_2\",\"marker\":{\"color\":\"#EF553B\",\"symbol\":\"circle\"},\"mode\":\"markers\",\"name\":\"SH_2\",\"scene\":\"scene\",\"showlegend\":true,\"x\":[-115.94123840332031,7.980960369110107,-84.63780212402344],\"y\":[188.19424438476562,312.1327209472656,-53.08454513549805],\"z\":[33.80714416503906,-108.71795654296875,292.6780700683594],\"type\":\"scatter3d\"},{\"hovertemplate\":\"color=SH_3<br>x=%{x}<br>y=%{y}<br>z=%{z}<extra></extra>\",\"legendgroup\":\"SH_3\",\"marker\":{\"color\":\"#00cc96\",\"symbol\":\"circle\"},\"mode\":\"markers\",\"name\":\"SH_3\",\"scene\":\"scene\",\"showlegend\":true,\"x\":[-25.19794273376465,-216.69989013671875,223.97100830078125],\"y\":[253.91815185546875,209.42433166503906,-43.12239456176758],\"z\":[187.94155883789062,-95.22052764892578,149.16537475585938],\"type\":\"scatter3d\"},{\"hovertemplate\":\"color=SH_4<br>x=%{x}<br>y=%{y}<br>z=%{z}<extra></extra>\",\"legendgroup\":\"SH_4\",\"marker\":{\"color\":\"#ab63fa\",\"symbol\":\"circle\"},\"mode\":\"markers\",\"name\":\"SH_4\",\"scene\":\"scene\",\"showlegend\":true,\"x\":[-143.31710815429688,-111.3258285522461,-43.83568572998047],\"y\":[247.70748901367188,202.50743103027344,195.6000213623047],\"z\":[85.20734405517578,157.39251708984375,105.83042907714844],\"type\":\"scatter3d\"},{\"hovertemplate\":\"color=SH_5<br>x=%{x}<br>y=%{y}<br>z=%{z}<extra></extra>\",\"legendgroup\":\"SH_5\",\"marker\":{\"color\":\"#FFA15A\",\"symbol\":\"circle\"},\"mode\":\"markers\",\"name\":\"SH_5\",\"scene\":\"scene\",\"showlegend\":true,\"x\":[35.632511138916016,126.0823974609375,-31.329357147216797],\"y\":[193.22579956054688,211.6085968017578,157.73951721191406],\"z\":[122.66767883300781,84.0572280883789,249.2783966064453],\"type\":\"scatter3d\"},{\"hovertemplate\":\"color=SH_6<br>x=%{x}<br>y=%{y}<br>z=%{z}<extra></extra>\",\"legendgroup\":\"SH_6\",\"marker\":{\"color\":\"#19d3f3\",\"symbol\":\"circle\"},\"mode\":\"markers\",\"name\":\"SH_6\",\"scene\":\"scene\",\"showlegend\":true,\"x\":[130.24607849121094,286.3412170410156,175.316650390625],\"y\":[-27.815677642822266,-176.6496124267578,-63.0756721496582],\"z\":[313.4972839355469,-9.096423149108887,272.20843505859375],\"type\":\"scatter3d\"},{\"hovertemplate\":\"color=SH_7<br>x=%{x}<br>y=%{y}<br>z=%{z}<extra></extra>\",\"legendgroup\":\"SH_7\",\"marker\":{\"color\":\"#FF6692\",\"symbol\":\"circle\"},\"mode\":\"markers\",\"name\":\"SH_7\",\"scene\":\"scene\",\"showlegend\":true,\"x\":[203.6938018798828,-168.23443603515625,-227.13107299804688],\"y\":[37.832313537597656,15.988073348999023,29.27849578857422],\"z\":[-231.54800415039062,-271.4937438964844,300.6419677734375],\"type\":\"scatter3d\"},{\"hovertemplate\":\"color=SH_8<br>x=%{x}<br>y=%{y}<br>z=%{z}<extra></extra>\",\"legendgroup\":\"SH_8\",\"marker\":{\"color\":\"#B6E880\",\"symbol\":\"circle\"},\"mode\":\"markers\",\"name\":\"SH_8\",\"scene\":\"scene\",\"showlegend\":true,\"x\":[-44.279022216796875,-21.13237190246582,-279.4857177734375],\"y\":[37.1193962097168,96.99333953857422,24.178869247436523],\"z\":[-133.1834259033203,-175.00721740722656,91.72584533691406],\"type\":\"scatter3d\"},{\"hovertemplate\":\"color=SH_9<br>x=%{x}<br>y=%{y}<br>z=%{z}<extra></extra>\",\"legendgroup\":\"SH_9\",\"marker\":{\"color\":\"#FF97FF\",\"symbol\":\"circle\"},\"mode\":\"markers\",\"name\":\"SH_9\",\"scene\":\"scene\",\"showlegend\":true,\"x\":[4.345028400421143,-222.07521057128906,-154.13966369628906],\"y\":[-58.313865661621094,-150.4036407470703,-115.92936706542969],\"z\":[129.7508087158203,-83.77739715576172,-75.63602447509766],\"type\":\"scatter3d\"},{\"hovertemplate\":\"color=SH_10<br>x=%{x}<br>y=%{y}<br>z=%{z}<extra></extra>\",\"legendgroup\":\"SH_10\",\"marker\":{\"color\":\"#FECB52\",\"symbol\":\"circle\"},\"mode\":\"markers\",\"name\":\"SH_10\",\"scene\":\"scene\",\"showlegend\":true,\"x\":[73.97499084472656,112.34436798095703,-143.55255126953125],\"y\":[31.40253257751465,97.53776550292969,-126.475830078125],\"z\":[-29.395374298095703,28.428773880004883,198.0973358154297],\"type\":\"scatter3d\"},{\"hovertemplate\":\"color=CF_1<br>x=%{x}<br>y=%{y}<br>z=%{z}<extra></extra>\",\"legendgroup\":\"CF_1\",\"marker\":{\"color\":\"#636efa\",\"symbol\":\"circle\"},\"mode\":\"markers\",\"name\":\"CF_1\",\"scene\":\"scene\",\"showlegend\":true,\"x\":[-241.89697265625,-85.02659606933594,-146.0065460205078],\"y\":[-227.6020050048828,-267.2348937988281,-273.7266540527344],\"z\":[82.58035278320312,77.42044067382812,48.854087829589844],\"type\":\"scatter3d\"},{\"hovertemplate\":\"color=CF_2<br>x=%{x}<br>y=%{y}<br>z=%{z}<extra></extra>\",\"legendgroup\":\"CF_2\",\"marker\":{\"color\":\"#EF553B\",\"symbol\":\"circle\"},\"mode\":\"markers\",\"name\":\"CF_2\",\"scene\":\"scene\",\"showlegend\":true,\"x\":[74.39473724365234,104.42308044433594,100.67730712890625],\"y\":[-134.2413787841797,73.26517486572266,-5.367042064666748],\"z\":[-71.88760375976562,-126.59929656982422,-135.42051696777344],\"type\":\"scatter3d\"},{\"hovertemplate\":\"color=CF_3<br>x=%{x}<br>y=%{y}<br>z=%{z}<extra></extra>\",\"legendgroup\":\"CF_3\",\"marker\":{\"color\":\"#00cc96\",\"symbol\":\"circle\"},\"mode\":\"markers\",\"name\":\"CF_3\",\"scene\":\"scene\",\"showlegend\":true,\"x\":[338.8350524902344,188.53054809570312,-69.47651672363281],\"y\":[-56.22970962524414,-256.6963195800781,-249.430908203125],\"z\":[40.477752685546875,-164.4064178466797,-189.347900390625],\"type\":\"scatter3d\"},{\"hovertemplate\":\"color=CF_4<br>x=%{x}<br>y=%{y}<br>z=%{z}<extra></extra>\",\"legendgroup\":\"CF_4\",\"marker\":{\"color\":\"#ab63fa\",\"symbol\":\"circle\"},\"mode\":\"markers\",\"name\":\"CF_4\",\"scene\":\"scene\",\"showlegend\":true,\"x\":[287.53509521484375,-186.4690704345703,34.4354133605957],\"y\":[74.03864288330078,-113.68794250488281,208.398193359375],\"z\":[119.41069793701172,-198.169189453125,-307.52008056640625],\"type\":\"scatter3d\"},{\"hovertemplate\":\"color=CF_5<br>x=%{x}<br>y=%{y}<br>z=%{z}<extra></extra>\",\"legendgroup\":\"CF_5\",\"marker\":{\"color\":\"#FFA15A\",\"symbol\":\"circle\"},\"mode\":\"markers\",\"name\":\"CF_5\",\"scene\":\"scene\",\"showlegend\":true,\"x\":[-170.52394104003906,-216.28228759765625,4.45769739151001],\"y\":[-9.218398094177246,-71.78184509277344,-63.01530838012695],\"z\":[4.291375160217285,0.423101544380188,-23.527057647705078],\"type\":\"scatter3d\"},{\"hovertemplate\":\"color=CF_6<br>x=%{x}<br>y=%{y}<br>z=%{z}<extra></extra>\",\"legendgroup\":\"CF_6\",\"marker\":{\"color\":\"#19d3f3\",\"symbol\":\"circle\"},\"mode\":\"markers\",\"name\":\"CF_6\",\"scene\":\"scene\",\"showlegend\":true,\"x\":[196.3983612060547,258.43658447265625,244.5330352783203],\"y\":[31.876585006713867,148.24497985839844,101.12920379638672],\"z\":[-55.856849670410156,50.02339553833008,-13.53966236114502],\"type\":\"scatter3d\"},{\"hovertemplate\":\"color=CF_7<br>x=%{x}<br>y=%{y}<br>z=%{z}<extra></extra>\",\"legendgroup\":\"CF_7\",\"marker\":{\"color\":\"#FF6692\",\"symbol\":\"circle\"},\"mode\":\"markers\",\"name\":\"CF_7\",\"scene\":\"scene\",\"showlegend\":true,\"x\":[53.169734954833984,77.57381439208984,-113.69499969482422],\"y\":[54.976383209228516,155.6699676513672,-26.484512329101562],\"z\":[-206.9552001953125,-212.39007568359375,140.51783752441406],\"type\":\"scatter3d\"},{\"hovertemplate\":\"color=CF_8<br>x=%{x}<br>y=%{y}<br>z=%{z}<extra></extra>\",\"legendgroup\":\"CF_8\",\"marker\":{\"color\":\"#B6E880\",\"symbol\":\"circle\"},\"mode\":\"markers\",\"name\":\"CF_8\",\"scene\":\"scene\",\"showlegend\":true,\"x\":[44.09392166137695,58.96841049194336,191.46676635742188],\"y\":[-48.3628044128418,-288.59783935546875,192.27328491210938],\"z\":[-241.82875061035156,109.88702392578125,-198.48658752441406],\"type\":\"scatter3d\"},{\"hovertemplate\":\"color=CF_9<br>x=%{x}<br>y=%{y}<br>z=%{z}<extra></extra>\",\"legendgroup\":\"CF_9\",\"marker\":{\"color\":\"#FF97FF\",\"symbol\":\"circle\"},\"mode\":\"markers\",\"name\":\"CF_9\",\"scene\":\"scene\",\"showlegend\":true,\"x\":[-98.00403594970703,-80.59424591064453,-91.21060180664062],\"y\":[-78.17469787597656,-111.79435729980469,-45.60227584838867],\"z\":[3.6212682723999023,115.85482025146484,68.24942779541016],\"type\":\"scatter3d\"},{\"hovertemplate\":\"color=CF_10<br>x=%{x}<br>y=%{y}<br>z=%{z}<extra></extra>\",\"legendgroup\":\"CF_10\",\"marker\":{\"color\":\"#FECB52\",\"symbol\":\"circle\"},\"mode\":\"markers\",\"name\":\"CF_10\",\"scene\":\"scene\",\"showlegend\":true,\"x\":[-205.28964233398438,110.4158706665039,176.8685760498047],\"y\":[10.36876392364502,1.846593976020813,-262.3080139160156],\"z\":[-150.10531616210938,-307.65911865234375,-0.021049972623586655],\"type\":\"scatter3d\"},{\"hovertemplate\":\"color=BG_1<br>x=%{x}<br>y=%{y}<br>z=%{z}<extra></extra>\",\"legendgroup\":\"BG_1\",\"marker\":{\"color\":\"#636efa\",\"symbol\":\"circle\"},\"mode\":\"markers\",\"name\":\"BG_1\",\"scene\":\"scene\",\"showlegend\":true,\"x\":[-139.95553588867188,188.72146606445312,214.76417541503906],\"y\":[103.76936340332031,89.17008972167969,-39.85419464111328],\"z\":[-77.92636108398438,244.45584106445312,31.682113647460938],\"type\":\"scatter3d\"},{\"hovertemplate\":\"color=BG_2<br>x=%{x}<br>y=%{y}<br>z=%{z}<extra></extra>\",\"legendgroup\":\"BG_2\",\"marker\":{\"color\":\"#EF553B\",\"symbol\":\"circle\"},\"mode\":\"markers\",\"name\":\"BG_2\",\"scene\":\"scene\",\"showlegend\":true,\"x\":[-271.0084228515625,153.9083251953125,126.77247619628906],\"y\":[137.58242797851562,-141.4779510498047,-68.95558166503906],\"z\":[16.38383674621582,6.271789073944092,-23.21442413330078],\"type\":\"scatter3d\"},{\"hovertemplate\":\"color=BG_3<br>x=%{x}<br>y=%{y}<br>z=%{z}<extra></extra>\",\"legendgroup\":\"BG_3\",\"marker\":{\"color\":\"#00cc96\",\"symbol\":\"circle\"},\"mode\":\"markers\",\"name\":\"BG_3\",\"scene\":\"scene\",\"showlegend\":true,\"x\":[-65.4276351928711,31.532136917114258,23.584470748901367],\"y\":[144.06594848632812,98.03192901611328,188.394775390625],\"z\":[-86.06637573242188,-58.36876678466797,-102.3456039428711],\"type\":\"scatter3d\"},{\"hovertemplate\":\"color=BG_4<br>x=%{x}<br>y=%{y}<br>z=%{z}<extra></extra>\",\"legendgroup\":\"BG_4\",\"marker\":{\"color\":\"#ab63fa\",\"symbol\":\"circle\"},\"mode\":\"markers\",\"name\":\"BG_4\",\"scene\":\"scene\",\"showlegend\":true,\"x\":[-15.367427825927734,-206.26904296875,-130.8131866455078],\"y\":[59.293453216552734,8.826742172241211,40.24641799926758],\"z\":[-277.3759765625,176.8173065185547,210.28793334960938],\"type\":\"scatter3d\"},{\"hovertemplate\":\"color=BG_5<br>x=%{x}<br>y=%{y}<br>z=%{z}<extra></extra>\",\"legendgroup\":\"BG_5\",\"marker\":{\"color\":\"#FFA15A\",\"symbol\":\"circle\"},\"mode\":\"markers\",\"name\":\"BG_5\",\"scene\":\"scene\",\"showlegend\":true,\"x\":[48.016212463378906,-45.648902893066406,-21.053905487060547],\"y\":[331.53253173828125,290.4423522949219,333.3424987792969],\"z\":[14.326420783996582,5.446157932281494,51.98273849487305],\"type\":\"scatter3d\"},{\"hovertemplate\":\"color=BG_6<br>x=%{x}<br>y=%{y}<br>z=%{z}<extra></extra>\",\"legendgroup\":\"BG_6\",\"marker\":{\"color\":\"#19d3f3\",\"symbol\":\"circle\"},\"mode\":\"markers\",\"name\":\"BG_6\",\"scene\":\"scene\",\"showlegend\":true,\"x\":[-220.60720825195312,161.69967651367188,-126.02202606201172],\"y\":[114.90029907226562,225.7469482421875,-236.5211944580078],\"z\":[173.79324340820312,-61.39436721801758,-72.3886947631836],\"type\":\"scatter3d\"},{\"hovertemplate\":\"color=BG_7<br>x=%{x}<br>y=%{y}<br>z=%{z}<extra></extra>\",\"legendgroup\":\"BG_7\",\"marker\":{\"color\":\"#FF6692\",\"symbol\":\"circle\"},\"mode\":\"markers\",\"name\":\"BG_7\",\"scene\":\"scene\",\"showlegend\":true,\"x\":[39.356101989746094,57.313045501708984,-131.8474884033203],\"y\":[-216.25257873535156,-135.25802612304688,283.3070373535156],\"z\":[211.2677001953125,189.87353515625,-71.387939453125],\"type\":\"scatter3d\"},{\"hovertemplate\":\"color=BG_8<br>x=%{x}<br>y=%{y}<br>z=%{z}<extra></extra>\",\"legendgroup\":\"BG_8\",\"marker\":{\"color\":\"#B6E880\",\"symbol\":\"circle\"},\"mode\":\"markers\",\"name\":\"BG_8\",\"scene\":\"scene\",\"showlegend\":true,\"x\":[61.86898422241211,144.49794006347656,-271.52838134765625],\"y\":[236.4712371826172,214.09918212890625,41.85917663574219],\"z\":[-9.520676612854004,203.92832946777344,-32.688323974609375],\"type\":\"scatter3d\"},{\"hovertemplate\":\"color=BG_9<br>x=%{x}<br>y=%{y}<br>z=%{z}<extra></extra>\",\"legendgroup\":\"BG_9\",\"marker\":{\"color\":\"#FF97FF\",\"symbol\":\"circle\"},\"mode\":\"markers\",\"name\":\"BG_9\",\"scene\":\"scene\",\"showlegend\":true,\"x\":[102.54389953613281,42.213409423828125,91.9273452758789],\"y\":[-87.3258285522461,97.80691528320312,-240.43994140625],\"z\":[91.48079681396484,251.22366333007812,-92.99065399169922],\"type\":\"scatter3d\"},{\"hovertemplate\":\"color=BG_10<br>x=%{x}<br>y=%{y}<br>z=%{z}<extra></extra>\",\"legendgroup\":\"BG_10\",\"marker\":{\"color\":\"#FECB52\",\"symbol\":\"circle\"},\"mode\":\"markers\",\"name\":\"BG_10\",\"scene\":\"scene\",\"showlegend\":true,\"x\":[288.4132385253906,-55.69999313354492,-185.40660095214844],\"y\":[-43.106163024902344,94.10772705078125,83.83768463134766],\"z\":[-85.64112854003906,127.12254333496094,53.74217224121094],\"type\":\"scatter3d\"}],                        {\"template\":{\"data\":{\"bar\":[{\"error_x\":{\"color\":\"#2a3f5f\"},\"error_y\":{\"color\":\"#2a3f5f\"},\"marker\":{\"line\":{\"color\":\"#E5ECF6\",\"width\":0.5},\"pattern\":{\"fillmode\":\"overlay\",\"size\":10,\"solidity\":0.2}},\"type\":\"bar\"}],\"barpolar\":[{\"marker\":{\"line\":{\"color\":\"#E5ECF6\",\"width\":0.5},\"pattern\":{\"fillmode\":\"overlay\",\"size\":10,\"solidity\":0.2}},\"type\":\"barpolar\"}],\"carpet\":[{\"aaxis\":{\"endlinecolor\":\"#2a3f5f\",\"gridcolor\":\"white\",\"linecolor\":\"white\",\"minorgridcolor\":\"white\",\"startlinecolor\":\"#2a3f5f\"},\"baxis\":{\"endlinecolor\":\"#2a3f5f\",\"gridcolor\":\"white\",\"linecolor\":\"white\",\"minorgridcolor\":\"white\",\"startlinecolor\":\"#2a3f5f\"},\"type\":\"carpet\"}],\"choropleth\":[{\"colorbar\":{\"outlinewidth\":0,\"ticks\":\"\"},\"type\":\"choropleth\"}],\"contour\":[{\"colorbar\":{\"outlinewidth\":0,\"ticks\":\"\"},\"colorscale\":[[0.0,\"#0d0887\"],[0.1111111111111111,\"#46039f\"],[0.2222222222222222,\"#7201a8\"],[0.3333333333333333,\"#9c179e\"],[0.4444444444444444,\"#bd3786\"],[0.5555555555555556,\"#d8576b\"],[0.6666666666666666,\"#ed7953\"],[0.7777777777777778,\"#fb9f3a\"],[0.8888888888888888,\"#fdca26\"],[1.0,\"#f0f921\"]],\"type\":\"contour\"}],\"contourcarpet\":[{\"colorbar\":{\"outlinewidth\":0,\"ticks\":\"\"},\"type\":\"contourcarpet\"}],\"heatmap\":[{\"colorbar\":{\"outlinewidth\":0,\"ticks\":\"\"},\"colorscale\":[[0.0,\"#0d0887\"],[0.1111111111111111,\"#46039f\"],[0.2222222222222222,\"#7201a8\"],[0.3333333333333333,\"#9c179e\"],[0.4444444444444444,\"#bd3786\"],[0.5555555555555556,\"#d8576b\"],[0.6666666666666666,\"#ed7953\"],[0.7777777777777778,\"#fb9f3a\"],[0.8888888888888888,\"#fdca26\"],[1.0,\"#f0f921\"]],\"type\":\"heatmap\"}],\"heatmapgl\":[{\"colorbar\":{\"outlinewidth\":0,\"ticks\":\"\"},\"colorscale\":[[0.0,\"#0d0887\"],[0.1111111111111111,\"#46039f\"],[0.2222222222222222,\"#7201a8\"],[0.3333333333333333,\"#9c179e\"],[0.4444444444444444,\"#bd3786\"],[0.5555555555555556,\"#d8576b\"],[0.6666666666666666,\"#ed7953\"],[0.7777777777777778,\"#fb9f3a\"],[0.8888888888888888,\"#fdca26\"],[1.0,\"#f0f921\"]],\"type\":\"heatmapgl\"}],\"histogram\":[{\"marker\":{\"pattern\":{\"fillmode\":\"overlay\",\"size\":10,\"solidity\":0.2}},\"type\":\"histogram\"}],\"histogram2d\":[{\"colorbar\":{\"outlinewidth\":0,\"ticks\":\"\"},\"colorscale\":[[0.0,\"#0d0887\"],[0.1111111111111111,\"#46039f\"],[0.2222222222222222,\"#7201a8\"],[0.3333333333333333,\"#9c179e\"],[0.4444444444444444,\"#bd3786\"],[0.5555555555555556,\"#d8576b\"],[0.6666666666666666,\"#ed7953\"],[0.7777777777777778,\"#fb9f3a\"],[0.8888888888888888,\"#fdca26\"],[1.0,\"#f0f921\"]],\"type\":\"histogram2d\"}],\"histogram2dcontour\":[{\"colorbar\":{\"outlinewidth\":0,\"ticks\":\"\"},\"colorscale\":[[0.0,\"#0d0887\"],[0.1111111111111111,\"#46039f\"],[0.2222222222222222,\"#7201a8\"],[0.3333333333333333,\"#9c179e\"],[0.4444444444444444,\"#bd3786\"],[0.5555555555555556,\"#d8576b\"],[0.6666666666666666,\"#ed7953\"],[0.7777777777777778,\"#fb9f3a\"],[0.8888888888888888,\"#fdca26\"],[1.0,\"#f0f921\"]],\"type\":\"histogram2dcontour\"}],\"mesh3d\":[{\"colorbar\":{\"outlinewidth\":0,\"ticks\":\"\"},\"type\":\"mesh3d\"}],\"parcoords\":[{\"line\":{\"colorbar\":{\"outlinewidth\":0,\"ticks\":\"\"}},\"type\":\"parcoords\"}],\"pie\":[{\"automargin\":true,\"type\":\"pie\"}],\"scatter\":[{\"marker\":{\"colorbar\":{\"outlinewidth\":0,\"ticks\":\"\"}},\"type\":\"scatter\"}],\"scatter3d\":[{\"line\":{\"colorbar\":{\"outlinewidth\":0,\"ticks\":\"\"}},\"marker\":{\"colorbar\":{\"outlinewidth\":0,\"ticks\":\"\"}},\"type\":\"scatter3d\"}],\"scattercarpet\":[{\"marker\":{\"colorbar\":{\"outlinewidth\":0,\"ticks\":\"\"}},\"type\":\"scattercarpet\"}],\"scattergeo\":[{\"marker\":{\"colorbar\":{\"outlinewidth\":0,\"ticks\":\"\"}},\"type\":\"scattergeo\"}],\"scattergl\":[{\"marker\":{\"colorbar\":{\"outlinewidth\":0,\"ticks\":\"\"}},\"type\":\"scattergl\"}],\"scattermapbox\":[{\"marker\":{\"colorbar\":{\"outlinewidth\":0,\"ticks\":\"\"}},\"type\":\"scattermapbox\"}],\"scatterpolar\":[{\"marker\":{\"colorbar\":{\"outlinewidth\":0,\"ticks\":\"\"}},\"type\":\"scatterpolar\"}],\"scatterpolargl\":[{\"marker\":{\"colorbar\":{\"outlinewidth\":0,\"ticks\":\"\"}},\"type\":\"scatterpolargl\"}],\"scatterternary\":[{\"marker\":{\"colorbar\":{\"outlinewidth\":0,\"ticks\":\"\"}},\"type\":\"scatterternary\"}],\"surface\":[{\"colorbar\":{\"outlinewidth\":0,\"ticks\":\"\"},\"colorscale\":[[0.0,\"#0d0887\"],[0.1111111111111111,\"#46039f\"],[0.2222222222222222,\"#7201a8\"],[0.3333333333333333,\"#9c179e\"],[0.4444444444444444,\"#bd3786\"],[0.5555555555555556,\"#d8576b\"],[0.6666666666666666,\"#ed7953\"],[0.7777777777777778,\"#fb9f3a\"],[0.8888888888888888,\"#fdca26\"],[1.0,\"#f0f921\"]],\"type\":\"surface\"}],\"table\":[{\"cells\":{\"fill\":{\"color\":\"#EBF0F8\"},\"line\":{\"color\":\"white\"}},\"header\":{\"fill\":{\"color\":\"#C8D4E3\"},\"line\":{\"color\":\"white\"}},\"type\":\"table\"}]},\"layout\":{\"annotationdefaults\":{\"arrowcolor\":\"#2a3f5f\",\"arrowhead\":0,\"arrowwidth\":1},\"autotypenumbers\":\"strict\",\"coloraxis\":{\"colorbar\":{\"outlinewidth\":0,\"ticks\":\"\"}},\"colorscale\":{\"diverging\":[[0,\"#8e0152\"],[0.1,\"#c51b7d\"],[0.2,\"#de77ae\"],[0.3,\"#f1b6da\"],[0.4,\"#fde0ef\"],[0.5,\"#f7f7f7\"],[0.6,\"#e6f5d0\"],[0.7,\"#b8e186\"],[0.8,\"#7fbc41\"],[0.9,\"#4d9221\"],[1,\"#276419\"]],\"sequential\":[[0.0,\"#0d0887\"],[0.1111111111111111,\"#46039f\"],[0.2222222222222222,\"#7201a8\"],[0.3333333333333333,\"#9c179e\"],[0.4444444444444444,\"#bd3786\"],[0.5555555555555556,\"#d8576b\"],[0.6666666666666666,\"#ed7953\"],[0.7777777777777778,\"#fb9f3a\"],[0.8888888888888888,\"#fdca26\"],[1.0,\"#f0f921\"]],\"sequentialminus\":[[0.0,\"#0d0887\"],[0.1111111111111111,\"#46039f\"],[0.2222222222222222,\"#7201a8\"],[0.3333333333333333,\"#9c179e\"],[0.4444444444444444,\"#bd3786\"],[0.5555555555555556,\"#d8576b\"],[0.6666666666666666,\"#ed7953\"],[0.7777777777777778,\"#fb9f3a\"],[0.8888888888888888,\"#fdca26\"],[1.0,\"#f0f921\"]]},\"colorway\":[\"#636efa\",\"#EF553B\",\"#00cc96\",\"#ab63fa\",\"#FFA15A\",\"#19d3f3\",\"#FF6692\",\"#B6E880\",\"#FF97FF\",\"#FECB52\"],\"font\":{\"color\":\"#2a3f5f\"},\"geo\":{\"bgcolor\":\"white\",\"lakecolor\":\"white\",\"landcolor\":\"#E5ECF6\",\"showlakes\":true,\"showland\":true,\"subunitcolor\":\"white\"},\"hoverlabel\":{\"align\":\"left\"},\"hovermode\":\"closest\",\"mapbox\":{\"style\":\"light\"},\"paper_bgcolor\":\"white\",\"plot_bgcolor\":\"#E5ECF6\",\"polar\":{\"angularaxis\":{\"gridcolor\":\"white\",\"linecolor\":\"white\",\"ticks\":\"\"},\"bgcolor\":\"#E5ECF6\",\"radialaxis\":{\"gridcolor\":\"white\",\"linecolor\":\"white\",\"ticks\":\"\"}},\"scene\":{\"xaxis\":{\"backgroundcolor\":\"#E5ECF6\",\"gridcolor\":\"white\",\"gridwidth\":2,\"linecolor\":\"white\",\"showbackground\":true,\"ticks\":\"\",\"zerolinecolor\":\"white\"},\"yaxis\":{\"backgroundcolor\":\"#E5ECF6\",\"gridcolor\":\"white\",\"gridwidth\":2,\"linecolor\":\"white\",\"showbackground\":true,\"ticks\":\"\",\"zerolinecolor\":\"white\"},\"zaxis\":{\"backgroundcolor\":\"#E5ECF6\",\"gridcolor\":\"white\",\"gridwidth\":2,\"linecolor\":\"white\",\"showbackground\":true,\"ticks\":\"\",\"zerolinecolor\":\"white\"}},\"shapedefaults\":{\"line\":{\"color\":\"#2a3f5f\"}},\"ternary\":{\"aaxis\":{\"gridcolor\":\"white\",\"linecolor\":\"white\",\"ticks\":\"\"},\"baxis\":{\"gridcolor\":\"white\",\"linecolor\":\"white\",\"ticks\":\"\"},\"bgcolor\":\"#E5ECF6\",\"caxis\":{\"gridcolor\":\"white\",\"linecolor\":\"white\",\"ticks\":\"\"}},\"title\":{\"x\":0.05},\"xaxis\":{\"automargin\":true,\"gridcolor\":\"white\",\"linecolor\":\"white\",\"ticks\":\"\",\"title\":{\"standoff\":15},\"zerolinecolor\":\"white\",\"zerolinewidth\":2},\"yaxis\":{\"automargin\":true,\"gridcolor\":\"white\",\"linecolor\":\"white\",\"ticks\":\"\",\"title\":{\"standoff\":15},\"zerolinecolor\":\"white\",\"zerolinewidth\":2}}},\"scene\":{\"domain\":{\"x\":[0.0,1.0],\"y\":[0.0,1.0]},\"xaxis\":{\"title\":{\"text\":\"x\"}},\"yaxis\":{\"title\":{\"text\":\"y\"}},\"zaxis\":{\"title\":{\"text\":\"z\"}}},\"legend\":{\"title\":{\"text\":\"color\"},\"tracegroupgap\":0},\"margin\":{\"t\":60}},                        {\"responsive\": true}                    ).then(function(){\n",
       "                            \n",
       "var gd = document.getElementById('f7fc7b59-39e4-4ae1-9406-71bdd94f006a');\n",
       "var x = new MutationObserver(function (mutations, observer) {{\n",
       "        var display = window.getComputedStyle(gd).display;\n",
       "        if (!display || display === 'none') {{\n",
       "            console.log([gd, 'removed!']);\n",
       "            Plotly.purge(gd);\n",
       "            observer.disconnect();\n",
       "        }}\n",
       "}});\n",
       "\n",
       "// Listen for the removal of the full notebook cells\n",
       "var notebookContainer = gd.closest('#notebook-container');\n",
       "if (notebookContainer) {{\n",
       "    x.observe(notebookContainer, {childList: true});\n",
       "}}\n",
       "\n",
       "// Listen for the clearing of the current output cell\n",
       "var outputEl = gd.closest('.output');\n",
       "if (outputEl) {{\n",
       "    x.observe(outputEl, {childList: true});\n",
       "}}\n",
       "\n",
       "                        })                };                });            </script>        </div>"
      ]
     },
     "metadata": {},
     "output_type": "display_data"
    }
   ],
   "source": [
    "fig2 = px.scatter_3d(tsne3d_df_NoduleCol_comb, \n",
    "                     x=tsne3d_df_NoduleCol_comb.iloc[:,1], \n",
    "                     y=tsne3d_df_NoduleCol_comb.iloc[:,2], \n",
    "                     z=tsne3d_df_NoduleCol_comb.iloc[:,3], \n",
    "                     color=tsne3dIssuelabels)\n",
    "fig2.show()\n",
    "\n",
    "#if save_plots == True:\n",
    "#    fig.write_html(filepath)"
   ]
  },
  {
   "cell_type": "code",
   "execution_count": null,
   "metadata": {},
   "outputs": [],
   "source": []
  },
  {
   "cell_type": "markdown",
   "metadata": {},
   "source": [
    "# PCA"
   ]
  },
  {
   "cell_type": "code",
   "execution_count": 174,
   "metadata": {},
   "outputs": [],
   "source": [
    "df = X_CR"
   ]
  },
  {
   "cell_type": "code",
   "execution_count": 175,
   "metadata": {},
   "outputs": [
    {
     "data": {
      "text/plain": [
       "StandardScaler()"
      ]
     },
     "execution_count": 175,
     "metadata": {},
     "output_type": "execute_result"
    }
   ],
   "source": [
    "scaler = StandardScaler()\n",
    "scaler.fit(df)"
   ]
  },
  {
   "cell_type": "code",
   "execution_count": 176,
   "metadata": {},
   "outputs": [],
   "source": [
    "scaled_data = scaler.transform(df)"
   ]
  },
  {
   "cell_type": "code",
   "execution_count": 177,
   "metadata": {},
   "outputs": [],
   "source": [
    "pca = PCA(n_components=3)"
   ]
  },
  {
   "cell_type": "code",
   "execution_count": 178,
   "metadata": {},
   "outputs": [
    {
     "data": {
      "text/plain": [
       "PCA(n_components=3)"
      ]
     },
     "execution_count": 178,
     "metadata": {},
     "output_type": "execute_result"
    }
   ],
   "source": [
    "pca.fit(scaled_data)"
   ]
  },
  {
   "cell_type": "code",
   "execution_count": 179,
   "metadata": {},
   "outputs": [],
   "source": [
    "x_pca = pca.transform(scaled_data)"
   ]
  },
  {
   "cell_type": "code",
   "execution_count": 180,
   "metadata": {},
   "outputs": [
    {
     "data": {
      "text/plain": [
       "(120, 15)"
      ]
     },
     "execution_count": 180,
     "metadata": {},
     "output_type": "execute_result"
    }
   ],
   "source": [
    "scaled_data.shape"
   ]
  },
  {
   "cell_type": "code",
   "execution_count": 181,
   "metadata": {},
   "outputs": [
    {
     "data": {
      "text/plain": [
       "(120, 3)"
      ]
     },
     "execution_count": 181,
     "metadata": {},
     "output_type": "execute_result"
    }
   ],
   "source": [
    "x_pca.shape"
   ]
  },
  {
   "cell_type": "code",
   "execution_count": 182,
   "metadata": {},
   "outputs": [],
   "source": [
    "LabelCol = pd.DataFrame(data=X['Nodule'])"
   ]
  },
  {
   "cell_type": "code",
   "execution_count": 183,
   "metadata": {},
   "outputs": [
    {
     "data": {
      "text/html": [
       "<div>\n",
       "<style scoped>\n",
       "    .dataframe tbody tr th:only-of-type {\n",
       "        vertical-align: middle;\n",
       "    }\n",
       "\n",
       "    .dataframe tbody tr th {\n",
       "        vertical-align: top;\n",
       "    }\n",
       "\n",
       "    .dataframe thead th {\n",
       "        text-align: right;\n",
       "    }\n",
       "</style>\n",
       "<table border=\"1\" class=\"dataframe\">\n",
       "  <thead>\n",
       "    <tr style=\"text-align: right;\">\n",
       "      <th></th>\n",
       "      <th>Nodule</th>\n",
       "    </tr>\n",
       "  </thead>\n",
       "  <tbody>\n",
       "    <tr>\n",
       "      <th>958</th>\n",
       "      <td>ST_1</td>\n",
       "    </tr>\n",
       "    <tr>\n",
       "      <th>959</th>\n",
       "      <td>ST_1</td>\n",
       "    </tr>\n",
       "    <tr>\n",
       "      <th>960</th>\n",
       "      <td>ST_1</td>\n",
       "    </tr>\n",
       "    <tr>\n",
       "      <th>961</th>\n",
       "      <td>ST_2</td>\n",
       "    </tr>\n",
       "    <tr>\n",
       "      <th>962</th>\n",
       "      <td>ST_2</td>\n",
       "    </tr>\n",
       "  </tbody>\n",
       "</table>\n",
       "</div>"
      ],
      "text/plain": [
       "    Nodule\n",
       "958   ST_1\n",
       "959   ST_1\n",
       "960   ST_1\n",
       "961   ST_2\n",
       "962   ST_2"
      ]
     },
     "execution_count": 183,
     "metadata": {},
     "output_type": "execute_result"
    }
   ],
   "source": [
    "LabelCol.head()"
   ]
  },
  {
   "cell_type": "code",
   "execution_count": 184,
   "metadata": {},
   "outputs": [],
   "source": [
    "PCA_DF = pd.DataFrame(data=x_pca)"
   ]
  },
  {
   "cell_type": "code",
   "execution_count": 185,
   "metadata": {},
   "outputs": [],
   "source": [
    "#print(PCA_DF)"
   ]
  },
  {
   "cell_type": "code",
   "execution_count": 186,
   "metadata": {},
   "outputs": [],
   "source": [
    "#IssueCol = coins['issue or phase']"
   ]
  },
  {
   "cell_type": "code",
   "execution_count": 187,
   "metadata": {},
   "outputs": [],
   "source": [
    "pca3d_df_NoduleCol_comb = pd.concat([LabelCol.reset_index(drop=True), PCA_DF], axis=1)"
   ]
  },
  {
   "cell_type": "code",
   "execution_count": 188,
   "metadata": {},
   "outputs": [
    {
     "data": {
      "text/html": [
       "<div>\n",
       "<style scoped>\n",
       "    .dataframe tbody tr th:only-of-type {\n",
       "        vertical-align: middle;\n",
       "    }\n",
       "\n",
       "    .dataframe tbody tr th {\n",
       "        vertical-align: top;\n",
       "    }\n",
       "\n",
       "    .dataframe thead th {\n",
       "        text-align: right;\n",
       "    }\n",
       "</style>\n",
       "<table border=\"1\" class=\"dataframe\">\n",
       "  <thead>\n",
       "    <tr style=\"text-align: right;\">\n",
       "      <th></th>\n",
       "      <th>Nodule</th>\n",
       "      <th>0</th>\n",
       "      <th>1</th>\n",
       "      <th>2</th>\n",
       "    </tr>\n",
       "  </thead>\n",
       "  <tbody>\n",
       "    <tr>\n",
       "      <th>0</th>\n",
       "      <td>ST_1</td>\n",
       "      <td>-1.179002</td>\n",
       "      <td>-1.533150</td>\n",
       "      <td>1.792448</td>\n",
       "    </tr>\n",
       "    <tr>\n",
       "      <th>1</th>\n",
       "      <td>ST_1</td>\n",
       "      <td>-1.325651</td>\n",
       "      <td>-1.186289</td>\n",
       "      <td>2.420702</td>\n",
       "    </tr>\n",
       "    <tr>\n",
       "      <th>2</th>\n",
       "      <td>ST_1</td>\n",
       "      <td>-1.123900</td>\n",
       "      <td>-1.666559</td>\n",
       "      <td>1.696057</td>\n",
       "    </tr>\n",
       "    <tr>\n",
       "      <th>3</th>\n",
       "      <td>ST_2</td>\n",
       "      <td>-0.192207</td>\n",
       "      <td>-0.933214</td>\n",
       "      <td>0.236607</td>\n",
       "    </tr>\n",
       "    <tr>\n",
       "      <th>4</th>\n",
       "      <td>ST_2</td>\n",
       "      <td>-0.546745</td>\n",
       "      <td>-0.946185</td>\n",
       "      <td>0.018955</td>\n",
       "    </tr>\n",
       "  </tbody>\n",
       "</table>\n",
       "</div>"
      ],
      "text/plain": [
       "  Nodule         0         1         2\n",
       "0   ST_1 -1.179002 -1.533150  1.792448\n",
       "1   ST_1 -1.325651 -1.186289  2.420702\n",
       "2   ST_1 -1.123900 -1.666559  1.696057\n",
       "3   ST_2 -0.192207 -0.933214  0.236607\n",
       "4   ST_2 -0.546745 -0.946185  0.018955"
      ]
     },
     "execution_count": 188,
     "metadata": {},
     "output_type": "execute_result"
    }
   ],
   "source": [
    "pca3d_df_NoduleCol_comb.head()"
   ]
  },
  {
   "cell_type": "code",
   "execution_count": 189,
   "metadata": {},
   "outputs": [],
   "source": [
    "#print(pca3d_df_NoduleCol_comb)"
   ]
  },
  {
   "cell_type": "code",
   "execution_count": 190,
   "metadata": {},
   "outputs": [],
   "source": [
    "pca3d_df_NoduleCol_comb.columns = ['Nodule', 'PC1', 'PC2', 'PC3']"
   ]
  },
  {
   "cell_type": "code",
   "execution_count": null,
   "metadata": {},
   "outputs": [],
   "source": []
  },
  {
   "cell_type": "code",
   "execution_count": null,
   "metadata": {},
   "outputs": [],
   "source": []
  },
  {
   "cell_type": "markdown",
   "metadata": {},
   "source": [
    "## 3D PCA Visualisation"
   ]
  },
  {
   "cell_type": "code",
   "execution_count": null,
   "metadata": {},
   "outputs": [],
   "source": []
  },
  {
   "cell_type": "code",
   "execution_count": 192,
   "metadata": {},
   "outputs": [
    {
     "data": {
      "application/vnd.plotly.v1+json": {
       "config": {
        "plotlyServerURL": "https://plot.ly"
       },
       "data": [
        {
         "hovertemplate": "color=ST_1<br>symbol=ST_1<br>x=%{x}<br>y=%{y}<br>z=%{z}<extra></extra>",
         "legendgroup": "ST_1, ST_1",
         "marker": {
          "color": "#2E91E5",
          "size": 5,
          "symbol": "circle"
         },
         "mode": "markers",
         "name": "ST_1, ST_1",
         "scene": "scene",
         "showlegend": true,
         "type": "scatter3d",
         "x": [
          -1.1790024260618384,
          -1.325651009879691,
          -1.1239000583354577
         ],
         "y": [
          -1.5331501714424507,
          -1.1862894426408077,
          -1.6665587316391743
         ],
         "z": [
          1.7924477248588722,
          2.4207015457405947,
          1.6960568493443657
         ]
        },
        {
         "hovertemplate": "color=ST_2<br>symbol=ST_2<br>x=%{x}<br>y=%{y}<br>z=%{z}<extra></extra>",
         "legendgroup": "ST_2, ST_2",
         "marker": {
          "color": "#E15F99",
          "size": 5,
          "symbol": "diamond"
         },
         "mode": "markers",
         "name": "ST_2, ST_2",
         "scene": "scene",
         "showlegend": true,
         "type": "scatter3d",
         "x": [
          -0.19220699416694007,
          -0.5467454272899824,
          3.3574297866675957
         ],
         "y": [
          -0.9332142886681924,
          -0.9461853017770989,
          -0.43635028414076343
         ],
         "z": [
          0.23660735096099386,
          0.018955039675788685,
          -1.6620544340478438
         ]
        },
        {
         "hovertemplate": "color=ST_3<br>symbol=ST_3<br>x=%{x}<br>y=%{y}<br>z=%{z}<extra></extra>",
         "legendgroup": "ST_3, ST_3",
         "marker": {
          "color": "#1CA71C",
          "size": 5,
          "symbol": "square"
         },
         "mode": "markers",
         "name": "ST_3, ST_3",
         "scene": "scene",
         "showlegend": true,
         "type": "scatter3d",
         "x": [
          -1.3645730475461397,
          -0.5474512014768131,
          -0.5661832211652215
         ],
         "y": [
          2.518269233607579,
          1.3152306552963628,
          1.1445640255819154
         ],
         "z": [
          -2.7375689127135483,
          -1.814525812386999,
          -1.1851919887998008
         ]
        },
        {
         "hovertemplate": "color=ST_4<br>symbol=ST_4<br>x=%{x}<br>y=%{y}<br>z=%{z}<extra></extra>",
         "legendgroup": "ST_4, ST_4",
         "marker": {
          "color": "#FB0D0D",
          "size": 5,
          "symbol": "x"
         },
         "mode": "markers",
         "name": "ST_4, ST_4",
         "scene": "scene",
         "showlegend": true,
         "type": "scatter3d",
         "x": [
          -0.075376213613698,
          0.3549631628343296,
          -0.9523364671251878
         ],
         "y": [
          -0.18120287646460487,
          -0.19243126845201858,
          -0.8409109870329655
         ],
         "z": [
          -1.2499434712946897,
          -1.210429619798965,
          1.5228248741509258
         ]
        },
        {
         "hovertemplate": "color=ST_5<br>symbol=ST_5<br>x=%{x}<br>y=%{y}<br>z=%{z}<extra></extra>",
         "legendgroup": "ST_5, ST_5",
         "marker": {
          "color": "#DA16FF",
          "size": 5,
          "symbol": "cross"
         },
         "mode": "markers",
         "name": "ST_5, ST_5",
         "scene": "scene",
         "showlegend": true,
         "type": "scatter3d",
         "x": [
          1.6190550097569638,
          0.5322832844105714,
          2.196354979492202
         ],
         "y": [
          -0.421149234742289,
          0.030128605294894265,
          0.022667812774629325
         ],
         "z": [
          -0.663256392556098,
          -1.2210805009313352,
          -1.508943982903708
         ]
        },
        {
         "hovertemplate": "color=ST_6<br>symbol=ST_6<br>x=%{x}<br>y=%{y}<br>z=%{z}<extra></extra>",
         "legendgroup": "ST_6, ST_6",
         "marker": {
          "color": "#222A2A",
          "size": 5,
          "symbol": "circle"
         },
         "mode": "markers",
         "name": "ST_6, ST_6",
         "scene": "scene",
         "showlegend": true,
         "type": "scatter3d",
         "x": [
          0.9813616557035815,
          1.8798751825904068,
          3.0252444128569564
         ],
         "y": [
          -1.0851897510530724,
          -1.1345851669038638,
          -0.6938752493746371
         ],
         "z": [
          -0.12219150600003205,
          -0.16206933612163693,
          0.05091829495779119
         ]
        },
        {
         "hovertemplate": "color=ST_7<br>symbol=ST_7<br>x=%{x}<br>y=%{y}<br>z=%{z}<extra></extra>",
         "legendgroup": "ST_7, ST_7",
         "marker": {
          "color": "#B68100",
          "size": 5,
          "symbol": "diamond"
         },
         "mode": "markers",
         "name": "ST_7, ST_7",
         "scene": "scene",
         "showlegend": true,
         "type": "scatter3d",
         "x": [
          -1.0391684826251921,
          0.8385524363215126,
          -1.0271202098097454
         ],
         "y": [
          -0.5354922606162595,
          0.19895505912934605,
          -0.7892033069160143
         ],
         "z": [
          -1.0713680442007112,
          -0.876620355605407,
          -0.7555355987928499
         ]
        },
        {
         "hovertemplate": "color=ST_8<br>symbol=ST_8<br>x=%{x}<br>y=%{y}<br>z=%{z}<extra></extra>",
         "legendgroup": "ST_8, ST_8",
         "marker": {
          "color": "#750D86",
          "size": 5,
          "symbol": "square"
         },
         "mode": "markers",
         "name": "ST_8, ST_8",
         "scene": "scene",
         "showlegend": true,
         "type": "scatter3d",
         "x": [
          -0.23740967293370738,
          0.030144121442779587,
          -0.31846634540986096
         ],
         "y": [
          -0.005299027387773603,
          0.22041838634137212,
          -1.0130724918960412
         ],
         "z": [
          -0.8403417205229144,
          -1.1814275577082118,
          0.014484130214797322
         ]
        },
        {
         "hovertemplate": "color=ST_9<br>symbol=ST_9<br>x=%{x}<br>y=%{y}<br>z=%{z}<extra></extra>",
         "legendgroup": "ST_9, ST_9",
         "marker": {
          "color": "#EB663B",
          "size": 5,
          "symbol": "x"
         },
         "mode": "markers",
         "name": "ST_9, ST_9",
         "scene": "scene",
         "showlegend": true,
         "type": "scatter3d",
         "x": [
          -0.5376868557460206,
          -0.40221243487730013,
          -0.7174241935694218
         ],
         "y": [
          0.5434207975445197,
          1.992544979081553,
          1.2663596287748051
         ],
         "z": [
          -1.9623681019381685,
          -1.6518951088765,
          -1.5835898187580248
         ]
        },
        {
         "hovertemplate": "color=ST_10<br>symbol=ST_10<br>x=%{x}<br>y=%{y}<br>z=%{z}<extra></extra>",
         "legendgroup": "ST_10, ST_10",
         "marker": {
          "color": "#511CFB",
          "size": 5,
          "symbol": "cross"
         },
         "mode": "markers",
         "name": "ST_10, ST_10",
         "scene": "scene",
         "showlegend": true,
         "type": "scatter3d",
         "x": [
          2.361363957607868,
          0.5502259177094422,
          1.6297703330492141
         ],
         "y": [
          -2.7255290367521767,
          -1.0500791838302785,
          -2.159510382321947
         ],
         "z": [
          -0.2083376474790884,
          -0.5146249897906221,
          -0.22070668771031762
         ]
        },
        {
         "hovertemplate": "color=SH_1<br>symbol=SH_1<br>x=%{x}<br>y=%{y}<br>z=%{z}<extra></extra>",
         "legendgroup": "SH_1, SH_1",
         "marker": {
          "color": "#00A08B",
          "size": 5,
          "symbol": "circle"
         },
         "mode": "markers",
         "name": "SH_1, SH_1",
         "scene": "scene",
         "showlegend": true,
         "type": "scatter3d",
         "x": [
          0.6832003026314546,
          0.8155062047421977,
          1.1259315020454548
         ],
         "y": [
          0.6515499757004746,
          1.5053861640579917,
          1.8370247417009309
         ],
         "z": [
          1.944031585411906,
          1.520365962579549,
          0.682547111017839
         ]
        },
        {
         "hovertemplate": "color=SH_2<br>symbol=SH_2<br>x=%{x}<br>y=%{y}<br>z=%{z}<extra></extra>",
         "legendgroup": "SH_2, SH_2",
         "marker": {
          "color": "#FB00D1",
          "size": 5,
          "symbol": "diamond"
         },
         "mode": "markers",
         "name": "SH_2, SH_2",
         "scene": "scene",
         "showlegend": true,
         "type": "scatter3d",
         "x": [
          -1.690599120449691,
          -1.5726122451268632,
          -1.4007283769001744
         ],
         "y": [
          1.0514981443487037,
          1.28952811872477,
          1.6971574010888644
         ],
         "z": [
          1.7478911791001286,
          1.9090118851820375,
          2.3099174578542394
         ]
        },
        {
         "hovertemplate": "color=SH_3<br>symbol=SH_3<br>x=%{x}<br>y=%{y}<br>z=%{z}<extra></extra>",
         "legendgroup": "SH_3, SH_3",
         "marker": {
          "color": "#FC0080",
          "size": 5,
          "symbol": "square"
         },
         "mode": "markers",
         "name": "SH_3, SH_3",
         "scene": "scene",
         "showlegend": true,
         "type": "scatter3d",
         "x": [
          -0.8759037917174681,
          -1.4785254805729446,
          -1.3433316737539842
         ],
         "y": [
          2.899331184565982,
          4.0046170539912715,
          0.9482082227757204
         ],
         "z": [
          0.4434067333113237,
          -0.2162804611783164,
          1.8388261680013063
         ]
        },
        {
         "hovertemplate": "color=SH_4<br>symbol=SH_4<br>x=%{x}<br>y=%{y}<br>z=%{z}<extra></extra>",
         "legendgroup": "SH_4, SH_4",
         "marker": {
          "color": "#B2828D",
          "size": 5,
          "symbol": "x"
         },
         "mode": "markers",
         "name": "SH_4, SH_4",
         "scene": "scene",
         "showlegend": true,
         "type": "scatter3d",
         "x": [
          -1.8035737300344747,
          -1.7479209198142132,
          -1.8883278577459783
         ],
         "y": [
          1.6565003448184532,
          2.346288199636596,
          1.6166776083766767
         ],
         "z": [
          1.1395180196933228,
          1.3511391488257392,
          1.0105105547897546
         ]
        },
        {
         "hovertemplate": "color=SH_5<br>symbol=SH_5<br>x=%{x}<br>y=%{y}<br>z=%{z}<extra></extra>",
         "legendgroup": "SH_5, SH_5",
         "marker": {
          "color": "#6C7C32",
          "size": 5,
          "symbol": "cross"
         },
         "mode": "markers",
         "name": "SH_5, SH_5",
         "scene": "scene",
         "showlegend": true,
         "type": "scatter3d",
         "x": [
          -1.2737863654627384,
          -0.6591167092046485,
          -1.0884534686479053
         ],
         "y": [
          1.417629627137047,
          0.6226365569578042,
          3.1254183911525097
         ],
         "z": [
          1.5300175955419457,
          1.9424291433139813,
          0.5099761264823565
         ]
        },
        {
         "hovertemplate": "color=SH_6<br>symbol=SH_6<br>x=%{x}<br>y=%{y}<br>z=%{z}<extra></extra>",
         "legendgroup": "SH_6, SH_6",
         "marker": {
          "color": "#778AAE",
          "size": 5,
          "symbol": "circle"
         },
         "mode": "markers",
         "name": "SH_6, SH_6",
         "scene": "scene",
         "showlegend": true,
         "type": "scatter3d",
         "x": [
          5.260113771334167,
          4.410088586453886,
          7.685531820187815
         ],
         "y": [
          2.6942163787885445,
          2.9599571858564517,
          1.6068257429648962
         ],
         "z": [
          -0.1813713427640939,
          3.3140151711481147,
          1.8737962607662355
         ]
        },
        {
         "hovertemplate": "color=SH_7<br>symbol=SH_7<br>x=%{x}<br>y=%{y}<br>z=%{z}<extra></extra>",
         "legendgroup": "SH_7, SH_7",
         "marker": {
          "color": "#862A16",
          "size": 5,
          "symbol": "diamond"
         },
         "mode": "markers",
         "name": "SH_7, SH_7",
         "scene": "scene",
         "showlegend": true,
         "type": "scatter3d",
         "x": [
          0.3841196777277322,
          0.8102120682810238,
          0.6686342035097205
         ],
         "y": [
          -0.521296830991282,
          -0.44074185476614347,
          -0.5455485831958898
         ],
         "z": [
          3.900060946115886,
          3.3467428003546944,
          3.3490043296551377
         ]
        },
        {
         "hovertemplate": "color=SH_8<br>symbol=SH_8<br>x=%{x}<br>y=%{y}<br>z=%{z}<extra></extra>",
         "legendgroup": "SH_8, SH_8",
         "marker": {
          "color": "#A777F1",
          "size": 5,
          "symbol": "square"
         },
         "mode": "markers",
         "name": "SH_8, SH_8",
         "scene": "scene",
         "showlegend": true,
         "type": "scatter3d",
         "x": [
          0.35480601758916397,
          -0.4359382091916771,
          -0.9971410072674615
         ],
         "y": [
          -1.751603125694293,
          -2.3898535446835916,
          -2.50557648893607
         ],
         "z": [
          0.9461707383851019,
          0.8105868157048827,
          0.5995373635666695
         ]
        },
        {
         "hovertemplate": "color=SH_9<br>symbol=SH_9<br>x=%{x}<br>y=%{y}<br>z=%{z}<extra></extra>",
         "legendgroup": "SH_9, SH_9",
         "marker": {
          "color": "#620042",
          "size": 5,
          "symbol": "x"
         },
         "mode": "markers",
         "name": "SH_9, SH_9",
         "scene": "scene",
         "showlegend": true,
         "type": "scatter3d",
         "x": [
          -0.24307682646824472,
          -0.10716534457158425,
          -0.61408838484182
         ],
         "y": [
          0.42229554974358774,
          -1.3403456158174198,
          -0.5836072895075912
         ],
         "z": [
          -1.781020411247297,
          -1.1970697134374324,
          -1.0831789242073016
         ]
        },
        {
         "hovertemplate": "color=SH_10<br>symbol=SH_10<br>x=%{x}<br>y=%{y}<br>z=%{z}<extra></extra>",
         "legendgroup": "SH_10, SH_10",
         "marker": {
          "color": "#1616A7",
          "size": 5,
          "symbol": "cross"
         },
         "mode": "markers",
         "name": "SH_10, SH_10",
         "scene": "scene",
         "showlegend": true,
         "type": "scatter3d",
         "x": [
          -2.202280752923785,
          -1.6693911833385258,
          -2.0417169227811427
         ],
         "y": [
          -0.3727068832741659,
          1.1613648824215481,
          -0.28937379225181636
         ],
         "z": [
          -0.950837839019371,
          -1.7260250806118989,
          -0.4386784873694699
         ]
        },
        {
         "hovertemplate": "color=CF_1<br>symbol=CF_1<br>x=%{x}<br>y=%{y}<br>z=%{z}<extra></extra>",
         "legendgroup": "CF_1, CF_1",
         "marker": {
          "color": "#DA60CA",
          "size": 5,
          "symbol": "circle"
         },
         "mode": "markers",
         "name": "CF_1, CF_1",
         "scene": "scene",
         "showlegend": true,
         "type": "scatter3d",
         "x": [
          -1.2118023745696251,
          -1.4078396779274611,
          -0.9401646957741223
         ],
         "y": [
          2.1779104678048684,
          -0.8062696613266898,
          -0.6616453734623275
         ],
         "z": [
          -2.674500715935182,
          -0.7054753178159441,
          -1.0077838377121
         ]
        },
        {
         "hovertemplate": "color=CF_2<br>symbol=CF_2<br>x=%{x}<br>y=%{y}<br>z=%{z}<extra></extra>",
         "legendgroup": "CF_2, CF_2",
         "marker": {
          "color": "#6C4516",
          "size": 5,
          "symbol": "diamond"
         },
         "mode": "markers",
         "name": "CF_2, CF_2",
         "scene": "scene",
         "showlegend": true,
         "type": "scatter3d",
         "x": [
          1.3606802588034637,
          -1.058221386836575,
          -0.3541458098838773
         ],
         "y": [
          -1.3066531072546304,
          -2.26176023611652,
          -2.3422403559091247
         ],
         "z": [
          -1.7831217920602431,
          -0.20160604004531135,
          0.01193254074935442
         ]
        },
        {
         "hovertemplate": "color=CF_3<br>symbol=CF_3<br>x=%{x}<br>y=%{y}<br>z=%{z}<extra></extra>",
         "legendgroup": "CF_3, CF_3",
         "marker": {
          "color": "#0D2A63",
          "size": 5,
          "symbol": "square"
         },
         "mode": "markers",
         "name": "CF_3, CF_3",
         "scene": "scene",
         "showlegend": true,
         "type": "scatter3d",
         "x": [
          3.1677749829436905,
          2.750214670389565,
          3.3054350848734746
         ],
         "y": [
          -2.856053673533591,
          -2.9785265064652076,
          -2.678307807453421
         ],
         "z": [
          -1.7866260627575241,
          -0.5562481348850051,
          -1.5767403984033468
         ]
        },
        {
         "hovertemplate": "color=CF_4<br>symbol=CF_4<br>x=%{x}<br>y=%{y}<br>z=%{z}<extra></extra>",
         "legendgroup": "CF_4, CF_4",
         "marker": {
          "color": "#AF0038",
          "size": 5,
          "symbol": "x"
         },
         "mode": "markers",
         "name": "CF_4, CF_4",
         "scene": "scene",
         "showlegend": true,
         "type": "scatter3d",
         "x": [
          1.338461089034601,
          0.7422561232448398,
          1.0121808328851567
         ],
         "y": [
          -0.09396968144597126,
          -1.537913696817141,
          -0.05904662849704856
         ],
         "z": [
          -1.4114804288768479,
          -0.2759896462762367,
          -1.3562214925553646
         ]
        },
        {
         "hovertemplate": "color=CF_5<br>symbol=CF_5<br>x=%{x}<br>y=%{y}<br>z=%{z}<extra></extra>",
         "legendgroup": "CF_5, CF_5",
         "marker": {
          "color": "#2E91E5",
          "size": 5,
          "symbol": "cross"
         },
         "mode": "markers",
         "name": "CF_5, CF_5",
         "scene": "scene",
         "showlegend": true,
         "type": "scatter3d",
         "x": [
          -0.38484484271640196,
          0.2616969802680282,
          0.002172416037930225
         ],
         "y": [
          -0.2541917881803556,
          -0.6009451556102204,
          -0.4461312756501198
         ],
         "z": [
          -0.6948338036830226,
          -0.8072875030156844,
          -0.825871394698125
         ]
        },
        {
         "hovertemplate": "color=CF_6<br>symbol=CF_6<br>x=%{x}<br>y=%{y}<br>z=%{z}<extra></extra>",
         "legendgroup": "CF_6, CF_6",
         "marker": {
          "color": "#E15F99",
          "size": 5,
          "symbol": "circle"
         },
         "mode": "markers",
         "name": "CF_6, CF_6",
         "scene": "scene",
         "showlegend": true,
         "type": "scatter3d",
         "x": [
          0.9833866566951075,
          1.1073732270335561,
          1.8015898392406995
         ],
         "y": [
          -1.994718436472699,
          -0.029245268453839807,
          -0.2933749465921853
         ],
         "z": [
          -0.22623220012846462,
          0.5463844369017716,
          0.8496995404779241
         ]
        },
        {
         "hovertemplate": "color=CF_7<br>symbol=CF_7<br>x=%{x}<br>y=%{y}<br>z=%{z}<extra></extra>",
         "legendgroup": "CF_7, CF_7",
         "marker": {
          "color": "#1CA71C",
          "size": 5,
          "symbol": "diamond"
         },
         "mode": "markers",
         "name": "CF_7, CF_7",
         "scene": "scene",
         "showlegend": true,
         "type": "scatter3d",
         "x": [
          -1.5817557400459046,
          -0.7585968929877378,
          -1.0943054901687947
         ],
         "y": [
          -1.3338258344434781,
          -0.451440592355398,
          -0.7615401589352535
         ],
         "z": [
          0.5086843751863115,
          1.8683323451956801,
          1.444909768533633
         ]
        },
        {
         "hovertemplate": "color=CF_8<br>symbol=CF_8<br>x=%{x}<br>y=%{y}<br>z=%{z}<extra></extra>",
         "legendgroup": "CF_8, CF_8",
         "marker": {
          "color": "#FB0D0D",
          "size": 5,
          "symbol": "square"
         },
         "mode": "markers",
         "name": "CF_8, CF_8",
         "scene": "scene",
         "showlegend": true,
         "type": "scatter3d",
         "x": [
          0.9280774660886146,
          4.511588286233591,
          3.4035200508274888
         ],
         "y": [
          -0.5137929618658327,
          1.6726102640999467,
          -0.0337878665633083
         ],
         "z": [
          1.2024410011914641,
          -0.2980627593362903,
          3.2280663061318626
         ]
        },
        {
         "hovertemplate": "color=CF_9<br>symbol=CF_9<br>x=%{x}<br>y=%{y}<br>z=%{z}<extra></extra>",
         "legendgroup": "CF_9, CF_9",
         "marker": {
          "color": "#DA16FF",
          "size": 5,
          "symbol": "x"
         },
         "mode": "markers",
         "name": "CF_9, CF_9",
         "scene": "scene",
         "showlegend": true,
         "type": "scatter3d",
         "x": [
          -1.0714457603626817,
          -0.6842402896737331,
          -0.5492696790519583
         ],
         "y": [
          -0.17274264456549207,
          -0.7022130207838672,
          -0.03036733854116103
         ],
         "z": [
          0.4120923171577726,
          0.9432491378499297,
          0.42494299255359474
         ]
        },
        {
         "hovertemplate": "color=CF_10<br>symbol=CF_10<br>x=%{x}<br>y=%{y}<br>z=%{z}<extra></extra>",
         "legendgroup": "CF_10, CF_10",
         "marker": {
          "color": "#222A2A",
          "size": 5,
          "symbol": "cross"
         },
         "mode": "markers",
         "name": "CF_10, CF_10",
         "scene": "scene",
         "showlegend": true,
         "type": "scatter3d",
         "x": [
          1.28749244428323,
          2.239506276841033,
          -0.6530369457885286
         ],
         "y": [
          0.43595701510224083,
          -1.6976242107173134,
          0.4490100764971734
         ],
         "z": [
          1.4003484949315805,
          2.0189547310840394,
          -0.36222014573228967
         ]
        },
        {
         "hovertemplate": "color=BG_1<br>symbol=BG_1<br>x=%{x}<br>y=%{y}<br>z=%{z}<extra></extra>",
         "legendgroup": "BG_1, BG_1",
         "marker": {
          "color": "#B68100",
          "size": 5,
          "symbol": "circle"
         },
         "mode": "markers",
         "name": "BG_1, BG_1",
         "scene": "scene",
         "showlegend": true,
         "type": "scatter3d",
         "x": [
          -2.087903665964986,
          0.40205529245025645,
          -2.257614741227385
         ],
         "y": [
          -1.6470502412003454,
          1.9725683910441574,
          -1.301298271009082
         ],
         "z": [
          -2.018642171526292,
          0.9010071635100472,
          -1.8630810131302198
         ]
        },
        {
         "hovertemplate": "color=BG_2<br>symbol=BG_2<br>x=%{x}<br>y=%{y}<br>z=%{z}<extra></extra>",
         "legendgroup": "BG_2, BG_2",
         "marker": {
          "color": "#750D86",
          "size": 5,
          "symbol": "diamond"
         },
         "mode": "markers",
         "name": "BG_2, BG_2",
         "scene": "scene",
         "showlegend": true,
         "type": "scatter3d",
         "x": [
          1.1880459158292105,
          0.36070210945190145,
          1.5948192930705554
         ],
         "y": [
          -1.112204036977124,
          -1.168736245026956,
          -1.5154674594143613
         ],
         "z": [
          -2.695901349211836,
          -2.5324832583025576,
          -1.8201463354021163
         ]
        },
        {
         "hovertemplate": "color=BG_3<br>symbol=BG_3<br>x=%{x}<br>y=%{y}<br>z=%{z}<extra></extra>",
         "legendgroup": "BG_3, BG_3",
         "marker": {
          "color": "#EB663B",
          "size": 5,
          "symbol": "square"
         },
         "mode": "markers",
         "name": "BG_3, BG_3",
         "scene": "scene",
         "showlegend": true,
         "type": "scatter3d",
         "x": [
          -2.2533199441466913,
          -2.350241161881482,
          -2.2703234565151966
         ],
         "y": [
          -0.7931418814654408,
          -0.44933100701915557,
          1.6126553847021465
         ],
         "z": [
          -0.8143827862062285,
          -0.9195615980456848,
          -2.2205366583917376
         ]
        },
        {
         "hovertemplate": "color=BG_4<br>symbol=BG_4<br>x=%{x}<br>y=%{y}<br>z=%{z}<extra></extra>",
         "legendgroup": "BG_4, BG_4",
         "marker": {
          "color": "#511CFB",
          "size": 5,
          "symbol": "x"
         },
         "mode": "markers",
         "name": "BG_4, BG_4",
         "scene": "scene",
         "showlegend": true,
         "type": "scatter3d",
         "x": [
          -2.366287125957482,
          -2.1831134726454247,
          -2.2630716598120397
         ],
         "y": [
          -1.7022651186382074,
          -1.4755872271257349,
          -1.1500809514826096
         ],
         "z": [
          0.7947850762021007,
          1.413159527486309,
          1.2086091464508708
         ]
        },
        {
         "hovertemplate": "color=BG_5<br>symbol=BG_5<br>x=%{x}<br>y=%{y}<br>z=%{z}<extra></extra>",
         "legendgroup": "BG_5, BG_5",
         "marker": {
          "color": "#00A08B",
          "size": 5,
          "symbol": "cross"
         },
         "mode": "markers",
         "name": "BG_5, BG_5",
         "scene": "scene",
         "showlegend": true,
         "type": "scatter3d",
         "x": [
          -1.5650996740237884,
          -1.24073686585362,
          -0.9029723613133899
         ],
         "y": [
          -0.7971527157539569,
          -1.4915688609787052,
          -1.2647379753663146
         ],
         "z": [
          0.509651439752574,
          0.006961111342003536,
          0.10624500528869264
         ]
        },
        {
         "hovertemplate": "color=BG_6<br>symbol=BG_6<br>x=%{x}<br>y=%{y}<br>z=%{z}<extra></extra>",
         "legendgroup": "BG_6, BG_6",
         "marker": {
          "color": "#FB00D1",
          "size": 5,
          "symbol": "circle"
         },
         "mode": "markers",
         "name": "BG_6, BG_6",
         "scene": "scene",
         "showlegend": true,
         "type": "scatter3d",
         "x": [
          -1.498021647958389,
          -1.4434636127688907,
          -2.1442343206882457
         ],
         "y": [
          -0.9971625878346333,
          -0.2967070895933127,
          -1.3969564342536733
         ],
         "z": [
          1.7834529362979503,
          -0.6217871775892977,
          2.0072828354059586
         ]
        },
        {
         "hovertemplate": "color=BG_7<br>symbol=BG_7<br>x=%{x}<br>y=%{y}<br>z=%{z}<extra></extra>",
         "legendgroup": "BG_7, BG_7",
         "marker": {
          "color": "#FC0080",
          "size": 5,
          "symbol": "diamond"
         },
         "mode": "markers",
         "name": "BG_7, BG_7",
         "scene": "scene",
         "showlegend": true,
         "type": "scatter3d",
         "x": [
          2.342707543833109,
          0.9829008712270405,
          0.8008669749912425
         ],
         "y": [
          2.7689634024488745,
          2.6023178796304838,
          1.4642582063737066
         ],
         "z": [
          -1.677757531880782,
          -2.0868856929294455,
          -1.527049688934176
         ]
        },
        {
         "hovertemplate": "color=BG_8<br>symbol=BG_8<br>x=%{x}<br>y=%{y}<br>z=%{z}<extra></extra>",
         "legendgroup": "BG_8, BG_8",
         "marker": {
          "color": "#B2828D",
          "size": 5,
          "symbol": "square"
         },
         "mode": "markers",
         "name": "BG_8, BG_8",
         "scene": "scene",
         "showlegend": true,
         "type": "scatter3d",
         "x": [
          -1.4533493529753834,
          1.2773895507873565,
          -0.12484873240309967
         ],
         "y": [
          0.7898106558521775,
          0.7533358890860203,
          2.034309578261958
         ],
         "z": [
          0.7772560111045215,
          -0.4730775464472878,
          1.2054309036326971
         ]
        },
        {
         "hovertemplate": "color=BG_9<br>symbol=BG_9<br>x=%{x}<br>y=%{y}<br>z=%{z}<extra></extra>",
         "legendgroup": "BG_9, BG_9",
         "marker": {
          "color": "#6C7C32",
          "size": 5,
          "symbol": "x"
         },
         "mode": "markers",
         "name": "BG_9, BG_9",
         "scene": "scene",
         "showlegend": true,
         "type": "scatter3d",
         "x": [
          0.09302773915102944,
          -0.5577486859198943,
          -0.058364876443024155
         ],
         "y": [
          1.0247061367461079,
          2.7738134823816774,
          1.7263876727254748
         ],
         "z": [
          0.08309279604765275,
          -0.8308551098261621,
          -0.6948883222599941
         ]
        },
        {
         "hovertemplate": "color=BG_10<br>symbol=BG_10<br>x=%{x}<br>y=%{y}<br>z=%{z}<extra></extra>",
         "legendgroup": "BG_10, BG_10",
         "marker": {
          "color": "#778AAE",
          "size": 5,
          "symbol": "cross"
         },
         "mode": "markers",
         "name": "BG_10, BG_10",
         "scene": "scene",
         "showlegend": true,
         "type": "scatter3d",
         "x": [
          -1.5515711059079067,
          -1.1872885950979786,
          -0.004853093722567218
         ],
         "y": [
          2.254251116039057,
          1.021917379766175,
          3.4262551275244517
         ],
         "z": [
          -0.10447243913895475,
          -0.060051148647327614,
          0.060924503387151906
         ]
        }
       ],
       "layout": {
        "autosize": true,
        "legend": {
         "title": {
          "text": "color, symbol"
         },
         "tracegroupgap": 0
        },
        "margin": {
         "b": 0,
         "l": 0,
         "r": 0,
         "t": 0
        },
        "scene": {
         "aspectmode": "auto",
         "aspectratio": {
          "x": 1.296607226966176,
          "y": 0.9007717365325598,
          "z": 0.8562031300996653
         },
         "camera": {
          "center": {
           "x": 0,
           "y": 0,
           "z": 0
          },
          "eye": {
           "x": 0.4831348221141466,
           "y": 0.9276493547679123,
           "z": 1.0302812332979008
          },
          "projection": {
           "type": "perspective"
          },
          "up": {
           "x": 0,
           "y": 0,
           "z": 1
          }
         },
         "domain": {
          "x": [
           0,
           1
          ],
          "y": [
           0,
           1
          ]
         },
         "xaxis": {
          "title": {
           "text": "x"
          },
          "type": "linear"
         },
         "yaxis": {
          "title": {
           "text": "y"
          },
          "type": "linear"
         },
         "zaxis": {
          "title": {
           "text": "z"
          },
          "type": "linear"
         }
        },
        "template": {
         "data": {
          "bar": [
           {
            "error_x": {
             "color": "#2a3f5f"
            },
            "error_y": {
             "color": "#2a3f5f"
            },
            "marker": {
             "line": {
              "color": "#E5ECF6",
              "width": 0.5
             },
             "pattern": {
              "fillmode": "overlay",
              "size": 10,
              "solidity": 0.2
             }
            },
            "type": "bar"
           }
          ],
          "barpolar": [
           {
            "marker": {
             "line": {
              "color": "#E5ECF6",
              "width": 0.5
             },
             "pattern": {
              "fillmode": "overlay",
              "size": 10,
              "solidity": 0.2
             }
            },
            "type": "barpolar"
           }
          ],
          "carpet": [
           {
            "aaxis": {
             "endlinecolor": "#2a3f5f",
             "gridcolor": "white",
             "linecolor": "white",
             "minorgridcolor": "white",
             "startlinecolor": "#2a3f5f"
            },
            "baxis": {
             "endlinecolor": "#2a3f5f",
             "gridcolor": "white",
             "linecolor": "white",
             "minorgridcolor": "white",
             "startlinecolor": "#2a3f5f"
            },
            "type": "carpet"
           }
          ],
          "choropleth": [
           {
            "colorbar": {
             "outlinewidth": 0,
             "ticks": ""
            },
            "type": "choropleth"
           }
          ],
          "contour": [
           {
            "colorbar": {
             "outlinewidth": 0,
             "ticks": ""
            },
            "colorscale": [
             [
              0,
              "#0d0887"
             ],
             [
              0.1111111111111111,
              "#46039f"
             ],
             [
              0.2222222222222222,
              "#7201a8"
             ],
             [
              0.3333333333333333,
              "#9c179e"
             ],
             [
              0.4444444444444444,
              "#bd3786"
             ],
             [
              0.5555555555555556,
              "#d8576b"
             ],
             [
              0.6666666666666666,
              "#ed7953"
             ],
             [
              0.7777777777777778,
              "#fb9f3a"
             ],
             [
              0.8888888888888888,
              "#fdca26"
             ],
             [
              1,
              "#f0f921"
             ]
            ],
            "type": "contour"
           }
          ],
          "contourcarpet": [
           {
            "colorbar": {
             "outlinewidth": 0,
             "ticks": ""
            },
            "type": "contourcarpet"
           }
          ],
          "heatmap": [
           {
            "colorbar": {
             "outlinewidth": 0,
             "ticks": ""
            },
            "colorscale": [
             [
              0,
              "#0d0887"
             ],
             [
              0.1111111111111111,
              "#46039f"
             ],
             [
              0.2222222222222222,
              "#7201a8"
             ],
             [
              0.3333333333333333,
              "#9c179e"
             ],
             [
              0.4444444444444444,
              "#bd3786"
             ],
             [
              0.5555555555555556,
              "#d8576b"
             ],
             [
              0.6666666666666666,
              "#ed7953"
             ],
             [
              0.7777777777777778,
              "#fb9f3a"
             ],
             [
              0.8888888888888888,
              "#fdca26"
             ],
             [
              1,
              "#f0f921"
             ]
            ],
            "type": "heatmap"
           }
          ],
          "heatmapgl": [
           {
            "colorbar": {
             "outlinewidth": 0,
             "ticks": ""
            },
            "colorscale": [
             [
              0,
              "#0d0887"
             ],
             [
              0.1111111111111111,
              "#46039f"
             ],
             [
              0.2222222222222222,
              "#7201a8"
             ],
             [
              0.3333333333333333,
              "#9c179e"
             ],
             [
              0.4444444444444444,
              "#bd3786"
             ],
             [
              0.5555555555555556,
              "#d8576b"
             ],
             [
              0.6666666666666666,
              "#ed7953"
             ],
             [
              0.7777777777777778,
              "#fb9f3a"
             ],
             [
              0.8888888888888888,
              "#fdca26"
             ],
             [
              1,
              "#f0f921"
             ]
            ],
            "type": "heatmapgl"
           }
          ],
          "histogram": [
           {
            "marker": {
             "pattern": {
              "fillmode": "overlay",
              "size": 10,
              "solidity": 0.2
             }
            },
            "type": "histogram"
           }
          ],
          "histogram2d": [
           {
            "colorbar": {
             "outlinewidth": 0,
             "ticks": ""
            },
            "colorscale": [
             [
              0,
              "#0d0887"
             ],
             [
              0.1111111111111111,
              "#46039f"
             ],
             [
              0.2222222222222222,
              "#7201a8"
             ],
             [
              0.3333333333333333,
              "#9c179e"
             ],
             [
              0.4444444444444444,
              "#bd3786"
             ],
             [
              0.5555555555555556,
              "#d8576b"
             ],
             [
              0.6666666666666666,
              "#ed7953"
             ],
             [
              0.7777777777777778,
              "#fb9f3a"
             ],
             [
              0.8888888888888888,
              "#fdca26"
             ],
             [
              1,
              "#f0f921"
             ]
            ],
            "type": "histogram2d"
           }
          ],
          "histogram2dcontour": [
           {
            "colorbar": {
             "outlinewidth": 0,
             "ticks": ""
            },
            "colorscale": [
             [
              0,
              "#0d0887"
             ],
             [
              0.1111111111111111,
              "#46039f"
             ],
             [
              0.2222222222222222,
              "#7201a8"
             ],
             [
              0.3333333333333333,
              "#9c179e"
             ],
             [
              0.4444444444444444,
              "#bd3786"
             ],
             [
              0.5555555555555556,
              "#d8576b"
             ],
             [
              0.6666666666666666,
              "#ed7953"
             ],
             [
              0.7777777777777778,
              "#fb9f3a"
             ],
             [
              0.8888888888888888,
              "#fdca26"
             ],
             [
              1,
              "#f0f921"
             ]
            ],
            "type": "histogram2dcontour"
           }
          ],
          "mesh3d": [
           {
            "colorbar": {
             "outlinewidth": 0,
             "ticks": ""
            },
            "type": "mesh3d"
           }
          ],
          "parcoords": [
           {
            "line": {
             "colorbar": {
              "outlinewidth": 0,
              "ticks": ""
             }
            },
            "type": "parcoords"
           }
          ],
          "pie": [
           {
            "automargin": true,
            "type": "pie"
           }
          ],
          "scatter": [
           {
            "marker": {
             "colorbar": {
              "outlinewidth": 0,
              "ticks": ""
             }
            },
            "type": "scatter"
           }
          ],
          "scatter3d": [
           {
            "line": {
             "colorbar": {
              "outlinewidth": 0,
              "ticks": ""
             }
            },
            "marker": {
             "colorbar": {
              "outlinewidth": 0,
              "ticks": ""
             }
            },
            "type": "scatter3d"
           }
          ],
          "scattercarpet": [
           {
            "marker": {
             "colorbar": {
              "outlinewidth": 0,
              "ticks": ""
             }
            },
            "type": "scattercarpet"
           }
          ],
          "scattergeo": [
           {
            "marker": {
             "colorbar": {
              "outlinewidth": 0,
              "ticks": ""
             }
            },
            "type": "scattergeo"
           }
          ],
          "scattergl": [
           {
            "marker": {
             "colorbar": {
              "outlinewidth": 0,
              "ticks": ""
             }
            },
            "type": "scattergl"
           }
          ],
          "scattermapbox": [
           {
            "marker": {
             "colorbar": {
              "outlinewidth": 0,
              "ticks": ""
             }
            },
            "type": "scattermapbox"
           }
          ],
          "scatterpolar": [
           {
            "marker": {
             "colorbar": {
              "outlinewidth": 0,
              "ticks": ""
             }
            },
            "type": "scatterpolar"
           }
          ],
          "scatterpolargl": [
           {
            "marker": {
             "colorbar": {
              "outlinewidth": 0,
              "ticks": ""
             }
            },
            "type": "scatterpolargl"
           }
          ],
          "scatterternary": [
           {
            "marker": {
             "colorbar": {
              "outlinewidth": 0,
              "ticks": ""
             }
            },
            "type": "scatterternary"
           }
          ],
          "surface": [
           {
            "colorbar": {
             "outlinewidth": 0,
             "ticks": ""
            },
            "colorscale": [
             [
              0,
              "#0d0887"
             ],
             [
              0.1111111111111111,
              "#46039f"
             ],
             [
              0.2222222222222222,
              "#7201a8"
             ],
             [
              0.3333333333333333,
              "#9c179e"
             ],
             [
              0.4444444444444444,
              "#bd3786"
             ],
             [
              0.5555555555555556,
              "#d8576b"
             ],
             [
              0.6666666666666666,
              "#ed7953"
             ],
             [
              0.7777777777777778,
              "#fb9f3a"
             ],
             [
              0.8888888888888888,
              "#fdca26"
             ],
             [
              1,
              "#f0f921"
             ]
            ],
            "type": "surface"
           }
          ],
          "table": [
           {
            "cells": {
             "fill": {
              "color": "#EBF0F8"
             },
             "line": {
              "color": "white"
             }
            },
            "header": {
             "fill": {
              "color": "#C8D4E3"
             },
             "line": {
              "color": "white"
             }
            },
            "type": "table"
           }
          ]
         },
         "layout": {
          "annotationdefaults": {
           "arrowcolor": "#2a3f5f",
           "arrowhead": 0,
           "arrowwidth": 1
          },
          "autotypenumbers": "strict",
          "coloraxis": {
           "colorbar": {
            "outlinewidth": 0,
            "ticks": ""
           }
          },
          "colorscale": {
           "diverging": [
            [
             0,
             "#8e0152"
            ],
            [
             0.1,
             "#c51b7d"
            ],
            [
             0.2,
             "#de77ae"
            ],
            [
             0.3,
             "#f1b6da"
            ],
            [
             0.4,
             "#fde0ef"
            ],
            [
             0.5,
             "#f7f7f7"
            ],
            [
             0.6,
             "#e6f5d0"
            ],
            [
             0.7,
             "#b8e186"
            ],
            [
             0.8,
             "#7fbc41"
            ],
            [
             0.9,
             "#4d9221"
            ],
            [
             1,
             "#276419"
            ]
           ],
           "sequential": [
            [
             0,
             "#0d0887"
            ],
            [
             0.1111111111111111,
             "#46039f"
            ],
            [
             0.2222222222222222,
             "#7201a8"
            ],
            [
             0.3333333333333333,
             "#9c179e"
            ],
            [
             0.4444444444444444,
             "#bd3786"
            ],
            [
             0.5555555555555556,
             "#d8576b"
            ],
            [
             0.6666666666666666,
             "#ed7953"
            ],
            [
             0.7777777777777778,
             "#fb9f3a"
            ],
            [
             0.8888888888888888,
             "#fdca26"
            ],
            [
             1,
             "#f0f921"
            ]
           ],
           "sequentialminus": [
            [
             0,
             "#0d0887"
            ],
            [
             0.1111111111111111,
             "#46039f"
            ],
            [
             0.2222222222222222,
             "#7201a8"
            ],
            [
             0.3333333333333333,
             "#9c179e"
            ],
            [
             0.4444444444444444,
             "#bd3786"
            ],
            [
             0.5555555555555556,
             "#d8576b"
            ],
            [
             0.6666666666666666,
             "#ed7953"
            ],
            [
             0.7777777777777778,
             "#fb9f3a"
            ],
            [
             0.8888888888888888,
             "#fdca26"
            ],
            [
             1,
             "#f0f921"
            ]
           ]
          },
          "colorway": [
           "#636efa",
           "#EF553B",
           "#00cc96",
           "#ab63fa",
           "#FFA15A",
           "#19d3f3",
           "#FF6692",
           "#B6E880",
           "#FF97FF",
           "#FECB52"
          ],
          "font": {
           "color": "#2a3f5f"
          },
          "geo": {
           "bgcolor": "white",
           "lakecolor": "white",
           "landcolor": "#E5ECF6",
           "showlakes": true,
           "showland": true,
           "subunitcolor": "white"
          },
          "hoverlabel": {
           "align": "left"
          },
          "hovermode": "closest",
          "mapbox": {
           "style": "light"
          },
          "paper_bgcolor": "white",
          "plot_bgcolor": "#E5ECF6",
          "polar": {
           "angularaxis": {
            "gridcolor": "white",
            "linecolor": "white",
            "ticks": ""
           },
           "bgcolor": "#E5ECF6",
           "radialaxis": {
            "gridcolor": "white",
            "linecolor": "white",
            "ticks": ""
           }
          },
          "scene": {
           "xaxis": {
            "backgroundcolor": "#E5ECF6",
            "gridcolor": "white",
            "gridwidth": 2,
            "linecolor": "white",
            "showbackground": true,
            "ticks": "",
            "zerolinecolor": "white"
           },
           "yaxis": {
            "backgroundcolor": "#E5ECF6",
            "gridcolor": "white",
            "gridwidth": 2,
            "linecolor": "white",
            "showbackground": true,
            "ticks": "",
            "zerolinecolor": "white"
           },
           "zaxis": {
            "backgroundcolor": "#E5ECF6",
            "gridcolor": "white",
            "gridwidth": 2,
            "linecolor": "white",
            "showbackground": true,
            "ticks": "",
            "zerolinecolor": "white"
           }
          },
          "shapedefaults": {
           "line": {
            "color": "#2a3f5f"
           }
          },
          "ternary": {
           "aaxis": {
            "gridcolor": "white",
            "linecolor": "white",
            "ticks": ""
           },
           "baxis": {
            "gridcolor": "white",
            "linecolor": "white",
            "ticks": ""
           },
           "bgcolor": "#E5ECF6",
           "caxis": {
            "gridcolor": "white",
            "linecolor": "white",
            "ticks": ""
           }
          },
          "title": {
           "x": 0.05
          },
          "xaxis": {
           "automargin": true,
           "gridcolor": "white",
           "linecolor": "white",
           "ticks": "",
           "title": {
            "standoff": 15
           },
           "zerolinecolor": "white",
           "zerolinewidth": 2
          },
          "yaxis": {
           "automargin": true,
           "gridcolor": "white",
           "linecolor": "white",
           "ticks": "",
           "title": {
            "standoff": 15
           },
           "zerolinecolor": "white",
           "zerolinewidth": 2
          }
         }
        }
       }
      },
      "image/png": "[encoded data removed]",
      "text/html": [
       "<div>                            <div id=\"a2e0a474-f409-4b63-8fba-b7fed2e250f5\" class=\"plotly-graph-div\" style=\"height:525px; width:100%;\"></div>            <script type=\"text/javascript\">                require([\"plotly\"], function(Plotly) {                    window.PLOTLYENV=window.PLOTLYENV || {};                                    if (document.getElementById(\"a2e0a474-f409-4b63-8fba-b7fed2e250f5\")) {                    Plotly.newPlot(                        \"a2e0a474-f409-4b63-8fba-b7fed2e250f5\",                        [{\"hovertemplate\":\"color=ST_1<br>symbol=ST_1<br>x=%{x}<br>y=%{y}<br>z=%{z}<extra></extra>\",\"legendgroup\":\"ST_1, ST_1\",\"marker\":{\"color\":\"#2E91E5\",\"symbol\":\"circle\",\"size\":5},\"mode\":\"markers\",\"name\":\"ST_1, ST_1\",\"scene\":\"scene\",\"showlegend\":true,\"x\":[-1.1790024260618384,-1.325651009879691,-1.1239000583354577],\"y\":[-1.5331501714424507,-1.1862894426408077,-1.6665587316391743],\"z\":[1.7924477248588722,2.4207015457405947,1.6960568493443657],\"type\":\"scatter3d\"},{\"hovertemplate\":\"color=ST_2<br>symbol=ST_2<br>x=%{x}<br>y=%{y}<br>z=%{z}<extra></extra>\",\"legendgroup\":\"ST_2, ST_2\",\"marker\":{\"color\":\"#E15F99\",\"symbol\":\"diamond\",\"size\":5},\"mode\":\"markers\",\"name\":\"ST_2, ST_2\",\"scene\":\"scene\",\"showlegend\":true,\"x\":[-0.19220699416694007,-0.5467454272899824,3.3574297866675957],\"y\":[-0.9332142886681924,-0.9461853017770989,-0.43635028414076343],\"z\":[0.23660735096099386,0.018955039675788685,-1.6620544340478438],\"type\":\"scatter3d\"},{\"hovertemplate\":\"color=ST_3<br>symbol=ST_3<br>x=%{x}<br>y=%{y}<br>z=%{z}<extra></extra>\",\"legendgroup\":\"ST_3, ST_3\",\"marker\":{\"color\":\"#1CA71C\",\"symbol\":\"square\",\"size\":5},\"mode\":\"markers\",\"name\":\"ST_3, ST_3\",\"scene\":\"scene\",\"showlegend\":true,\"x\":[-1.3645730475461397,-0.5474512014768131,-0.5661832211652215],\"y\":[2.518269233607579,1.3152306552963628,1.1445640255819154],\"z\":[-2.7375689127135483,-1.814525812386999,-1.1851919887998008],\"type\":\"scatter3d\"},{\"hovertemplate\":\"color=ST_4<br>symbol=ST_4<br>x=%{x}<br>y=%{y}<br>z=%{z}<extra></extra>\",\"legendgroup\":\"ST_4, ST_4\",\"marker\":{\"color\":\"#FB0D0D\",\"symbol\":\"x\",\"size\":5},\"mode\":\"markers\",\"name\":\"ST_4, ST_4\",\"scene\":\"scene\",\"showlegend\":true,\"x\":[-0.075376213613698,0.3549631628343296,-0.9523364671251878],\"y\":[-0.18120287646460487,-0.19243126845201858,-0.8409109870329655],\"z\":[-1.2499434712946897,-1.210429619798965,1.5228248741509258],\"type\":\"scatter3d\"},{\"hovertemplate\":\"color=ST_5<br>symbol=ST_5<br>x=%{x}<br>y=%{y}<br>z=%{z}<extra></extra>\",\"legendgroup\":\"ST_5, ST_5\",\"marker\":{\"color\":\"#DA16FF\",\"symbol\":\"cross\",\"size\":5},\"mode\":\"markers\",\"name\":\"ST_5, ST_5\",\"scene\":\"scene\",\"showlegend\":true,\"x\":[1.6190550097569638,0.5322832844105714,2.196354979492202],\"y\":[-0.421149234742289,0.030128605294894265,0.022667812774629325],\"z\":[-0.663256392556098,-1.2210805009313352,-1.508943982903708],\"type\":\"scatter3d\"},{\"hovertemplate\":\"color=ST_6<br>symbol=ST_6<br>x=%{x}<br>y=%{y}<br>z=%{z}<extra></extra>\",\"legendgroup\":\"ST_6, ST_6\",\"marker\":{\"color\":\"#222A2A\",\"symbol\":\"circle\",\"size\":5},\"mode\":\"markers\",\"name\":\"ST_6, ST_6\",\"scene\":\"scene\",\"showlegend\":true,\"x\":[0.9813616557035815,1.8798751825904068,3.0252444128569564],\"y\":[-1.0851897510530724,-1.1345851669038638,-0.6938752493746371],\"z\":[-0.12219150600003205,-0.16206933612163693,0.05091829495779119],\"type\":\"scatter3d\"},{\"hovertemplate\":\"color=ST_7<br>symbol=ST_7<br>x=%{x}<br>y=%{y}<br>z=%{z}<extra></extra>\",\"legendgroup\":\"ST_7, ST_7\",\"marker\":{\"color\":\"#B68100\",\"symbol\":\"diamond\",\"size\":5},\"mode\":\"markers\",\"name\":\"ST_7, ST_7\",\"scene\":\"scene\",\"showlegend\":true,\"x\":[-1.0391684826251921,0.8385524363215126,-1.0271202098097454],\"y\":[-0.5354922606162595,0.19895505912934605,-0.7892033069160143],\"z\":[-1.0713680442007112,-0.876620355605407,-0.7555355987928499],\"type\":\"scatter3d\"},{\"hovertemplate\":\"color=ST_8<br>symbol=ST_8<br>x=%{x}<br>y=%{y}<br>z=%{z}<extra></extra>\",\"legendgroup\":\"ST_8, ST_8\",\"marker\":{\"color\":\"#750D86\",\"symbol\":\"square\",\"size\":5},\"mode\":\"markers\",\"name\":\"ST_8, ST_8\",\"scene\":\"scene\",\"showlegend\":true,\"x\":[-0.23740967293370738,0.030144121442779587,-0.31846634540986096],\"y\":[-0.005299027387773603,0.22041838634137212,-1.0130724918960412],\"z\":[-0.8403417205229144,-1.1814275577082118,0.014484130214797322],\"type\":\"scatter3d\"},{\"hovertemplate\":\"color=ST_9<br>symbol=ST_9<br>x=%{x}<br>y=%{y}<br>z=%{z}<extra></extra>\",\"legendgroup\":\"ST_9, ST_9\",\"marker\":{\"color\":\"#EB663B\",\"symbol\":\"x\",\"size\":5},\"mode\":\"markers\",\"name\":\"ST_9, ST_9\",\"scene\":\"scene\",\"showlegend\":true,\"x\":[-0.5376868557460206,-0.40221243487730013,-0.7174241935694218],\"y\":[0.5434207975445197,1.992544979081553,1.2663596287748051],\"z\":[-1.9623681019381685,-1.6518951088765,-1.5835898187580248],\"type\":\"scatter3d\"},{\"hovertemplate\":\"color=ST_10<br>symbol=ST_10<br>x=%{x}<br>y=%{y}<br>z=%{z}<extra></extra>\",\"legendgroup\":\"ST_10, ST_10\",\"marker\":{\"color\":\"#511CFB\",\"symbol\":\"cross\",\"size\":5},\"mode\":\"markers\",\"name\":\"ST_10, ST_10\",\"scene\":\"scene\",\"showlegend\":true,\"x\":[2.361363957607868,0.5502259177094422,1.6297703330492141],\"y\":[-2.7255290367521767,-1.0500791838302785,-2.159510382321947],\"z\":[-0.2083376474790884,-0.5146249897906221,-0.22070668771031762],\"type\":\"scatter3d\"},{\"hovertemplate\":\"color=SH_1<br>symbol=SH_1<br>x=%{x}<br>y=%{y}<br>z=%{z}<extra></extra>\",\"legendgroup\":\"SH_1, SH_1\",\"marker\":{\"color\":\"#00A08B\",\"symbol\":\"circle\",\"size\":5},\"mode\":\"markers\",\"name\":\"SH_1, SH_1\",\"scene\":\"scene\",\"showlegend\":true,\"x\":[0.6832003026314546,0.8155062047421977,1.1259315020454548],\"y\":[0.6515499757004746,1.5053861640579917,1.8370247417009309],\"z\":[1.944031585411906,1.520365962579549,0.682547111017839],\"type\":\"scatter3d\"},{\"hovertemplate\":\"color=SH_2<br>symbol=SH_2<br>x=%{x}<br>y=%{y}<br>z=%{z}<extra></extra>\",\"legendgroup\":\"SH_2, SH_2\",\"marker\":{\"color\":\"#FB00D1\",\"symbol\":\"diamond\",\"size\":5},\"mode\":\"markers\",\"name\":\"SH_2, SH_2\",\"scene\":\"scene\",\"showlegend\":true,\"x\":[-1.690599120449691,-1.5726122451268632,-1.4007283769001744],\"y\":[1.0514981443487037,1.28952811872477,1.6971574010888644],\"z\":[1.7478911791001286,1.9090118851820375,2.3099174578542394],\"type\":\"scatter3d\"},{\"hovertemplate\":\"color=SH_3<br>symbol=SH_3<br>x=%{x}<br>y=%{y}<br>z=%{z}<extra></extra>\",\"legendgroup\":\"SH_3, SH_3\",\"marker\":{\"color\":\"#FC0080\",\"symbol\":\"square\",\"size\":5},\"mode\":\"markers\",\"name\":\"SH_3, SH_3\",\"scene\":\"scene\",\"showlegend\":true,\"x\":[-0.8759037917174681,-1.4785254805729446,-1.3433316737539842],\"y\":[2.899331184565982,4.0046170539912715,0.9482082227757204],\"z\":[0.4434067333113237,-0.2162804611783164,1.8388261680013063],\"type\":\"scatter3d\"},{\"hovertemplate\":\"color=SH_4<br>symbol=SH_4<br>x=%{x}<br>y=%{y}<br>z=%{z}<extra></extra>\",\"legendgroup\":\"SH_4, SH_4\",\"marker\":{\"color\":\"#B2828D\",\"symbol\":\"x\",\"size\":5},\"mode\":\"markers\",\"name\":\"SH_4, SH_4\",\"scene\":\"scene\",\"showlegend\":true,\"x\":[-1.8035737300344747,-1.7479209198142132,-1.8883278577459783],\"y\":[1.6565003448184532,2.346288199636596,1.6166776083766767],\"z\":[1.1395180196933228,1.3511391488257392,1.0105105547897546],\"type\":\"scatter3d\"},{\"hovertemplate\":\"color=SH_5<br>symbol=SH_5<br>x=%{x}<br>y=%{y}<br>z=%{z}<extra></extra>\",\"legendgroup\":\"SH_5, SH_5\",\"marker\":{\"color\":\"#6C7C32\",\"symbol\":\"cross\",\"size\":5},\"mode\":\"markers\",\"name\":\"SH_5, SH_5\",\"scene\":\"scene\",\"showlegend\":true,\"x\":[-1.2737863654627384,-0.6591167092046485,-1.0884534686479053],\"y\":[1.417629627137047,0.6226365569578042,3.1254183911525097],\"z\":[1.5300175955419457,1.9424291433139813,0.5099761264823565],\"type\":\"scatter3d\"},{\"hovertemplate\":\"color=SH_6<br>symbol=SH_6<br>x=%{x}<br>y=%{y}<br>z=%{z}<extra></extra>\",\"legendgroup\":\"SH_6, SH_6\",\"marker\":{\"color\":\"#778AAE\",\"symbol\":\"circle\",\"size\":5},\"mode\":\"markers\",\"name\":\"SH_6, SH_6\",\"scene\":\"scene\",\"showlegend\":true,\"x\":[5.260113771334167,4.410088586453886,7.685531820187815],\"y\":[2.6942163787885445,2.9599571858564517,1.6068257429648962],\"z\":[-0.1813713427640939,3.3140151711481147,1.8737962607662355],\"type\":\"scatter3d\"},{\"hovertemplate\":\"color=SH_7<br>symbol=SH_7<br>x=%{x}<br>y=%{y}<br>z=%{z}<extra></extra>\",\"legendgroup\":\"SH_7, SH_7\",\"marker\":{\"color\":\"#862A16\",\"symbol\":\"diamond\",\"size\":5},\"mode\":\"markers\",\"name\":\"SH_7, SH_7\",\"scene\":\"scene\",\"showlegend\":true,\"x\":[0.3841196777277322,0.8102120682810238,0.6686342035097205],\"y\":[-0.521296830991282,-0.44074185476614347,-0.5455485831958898],\"z\":[3.900060946115886,3.3467428003546944,3.3490043296551377],\"type\":\"scatter3d\"},{\"hovertemplate\":\"color=SH_8<br>symbol=SH_8<br>x=%{x}<br>y=%{y}<br>z=%{z}<extra></extra>\",\"legendgroup\":\"SH_8, SH_8\",\"marker\":{\"color\":\"#A777F1\",\"symbol\":\"square\",\"size\":5},\"mode\":\"markers\",\"name\":\"SH_8, SH_8\",\"scene\":\"scene\",\"showlegend\":true,\"x\":[0.35480601758916397,-0.4359382091916771,-0.9971410072674615],\"y\":[-1.751603125694293,-2.3898535446835916,-2.50557648893607],\"z\":[0.9461707383851019,0.8105868157048827,0.5995373635666695],\"type\":\"scatter3d\"},{\"hovertemplate\":\"color=SH_9<br>symbol=SH_9<br>x=%{x}<br>y=%{y}<br>z=%{z}<extra></extra>\",\"legendgroup\":\"SH_9, SH_9\",\"marker\":{\"color\":\"#620042\",\"symbol\":\"x\",\"size\":5},\"mode\":\"markers\",\"name\":\"SH_9, SH_9\",\"scene\":\"scene\",\"showlegend\":true,\"x\":[-0.24307682646824472,-0.10716534457158425,-0.61408838484182],\"y\":[0.42229554974358774,-1.3403456158174198,-0.5836072895075912],\"z\":[-1.781020411247297,-1.1970697134374324,-1.0831789242073016],\"type\":\"scatter3d\"},{\"hovertemplate\":\"color=SH_10<br>symbol=SH_10<br>x=%{x}<br>y=%{y}<br>z=%{z}<extra></extra>\",\"legendgroup\":\"SH_10, SH_10\",\"marker\":{\"color\":\"#1616A7\",\"symbol\":\"cross\",\"size\":5},\"mode\":\"markers\",\"name\":\"SH_10, SH_10\",\"scene\":\"scene\",\"showlegend\":true,\"x\":[-2.202280752923785,-1.6693911833385258,-2.0417169227811427],\"y\":[-0.3727068832741659,1.1613648824215481,-0.28937379225181636],\"z\":[-0.950837839019371,-1.7260250806118989,-0.4386784873694699],\"type\":\"scatter3d\"},{\"hovertemplate\":\"color=CF_1<br>symbol=CF_1<br>x=%{x}<br>y=%{y}<br>z=%{z}<extra></extra>\",\"legendgroup\":\"CF_1, CF_1\",\"marker\":{\"color\":\"#DA60CA\",\"symbol\":\"circle\",\"size\":5},\"mode\":\"markers\",\"name\":\"CF_1, CF_1\",\"scene\":\"scene\",\"showlegend\":true,\"x\":[-1.2118023745696251,-1.4078396779274611,-0.9401646957741223],\"y\":[2.1779104678048684,-0.8062696613266898,-0.6616453734623275],\"z\":[-2.674500715935182,-0.7054753178159441,-1.0077838377121],\"type\":\"scatter3d\"},{\"hovertemplate\":\"color=CF_2<br>symbol=CF_2<br>x=%{x}<br>y=%{y}<br>z=%{z}<extra></extra>\",\"legendgroup\":\"CF_2, CF_2\",\"marker\":{\"color\":\"#6C4516\",\"symbol\":\"diamond\",\"size\":5},\"mode\":\"markers\",\"name\":\"CF_2, CF_2\",\"scene\":\"scene\",\"showlegend\":true,\"x\":[1.3606802588034637,-1.058221386836575,-0.3541458098838773],\"y\":[-1.3066531072546304,-2.26176023611652,-2.3422403559091247],\"z\":[-1.7831217920602431,-0.20160604004531135,0.01193254074935442],\"type\":\"scatter3d\"},{\"hovertemplate\":\"color=CF_3<br>symbol=CF_3<br>x=%{x}<br>y=%{y}<br>z=%{z}<extra></extra>\",\"legendgroup\":\"CF_3, CF_3\",\"marker\":{\"color\":\"#0D2A63\",\"symbol\":\"square\",\"size\":5},\"mode\":\"markers\",\"name\":\"CF_3, CF_3\",\"scene\":\"scene\",\"showlegend\":true,\"x\":[3.1677749829436905,2.750214670389565,3.3054350848734746],\"y\":[-2.856053673533591,-2.9785265064652076,-2.678307807453421],\"z\":[-1.7866260627575241,-0.5562481348850051,-1.5767403984033468],\"type\":\"scatter3d\"},{\"hovertemplate\":\"color=CF_4<br>symbol=CF_4<br>x=%{x}<br>y=%{y}<br>z=%{z}<extra></extra>\",\"legendgroup\":\"CF_4, CF_4\",\"marker\":{\"color\":\"#AF0038\",\"symbol\":\"x\",\"size\":5},\"mode\":\"markers\",\"name\":\"CF_4, CF_4\",\"scene\":\"scene\",\"showlegend\":true,\"x\":[1.338461089034601,0.7422561232448398,1.0121808328851567],\"y\":[-0.09396968144597126,-1.537913696817141,-0.05904662849704856],\"z\":[-1.4114804288768479,-0.2759896462762367,-1.3562214925553646],\"type\":\"scatter3d\"},{\"hovertemplate\":\"color=CF_5<br>symbol=CF_5<br>x=%{x}<br>y=%{y}<br>z=%{z}<extra></extra>\",\"legendgroup\":\"CF_5, CF_5\",\"marker\":{\"color\":\"#2E91E5\",\"symbol\":\"cross\",\"size\":5},\"mode\":\"markers\",\"name\":\"CF_5, CF_5\",\"scene\":\"scene\",\"showlegend\":true,\"x\":[-0.38484484271640196,0.2616969802680282,0.002172416037930225],\"y\":[-0.2541917881803556,-0.6009451556102204,-0.4461312756501198],\"z\":[-0.6948338036830226,-0.8072875030156844,-0.825871394698125],\"type\":\"scatter3d\"},{\"hovertemplate\":\"color=CF_6<br>symbol=CF_6<br>x=%{x}<br>y=%{y}<br>z=%{z}<extra></extra>\",\"legendgroup\":\"CF_6, CF_6\",\"marker\":{\"color\":\"#E15F99\",\"symbol\":\"circle\",\"size\":5},\"mode\":\"markers\",\"name\":\"CF_6, CF_6\",\"scene\":\"scene\",\"showlegend\":true,\"x\":[0.9833866566951075,1.1073732270335561,1.8015898392406995],\"y\":[-1.994718436472699,-0.029245268453839807,-0.2933749465921853],\"z\":[-0.22623220012846462,0.5463844369017716,0.8496995404779241],\"type\":\"scatter3d\"},{\"hovertemplate\":\"color=CF_7<br>symbol=CF_7<br>x=%{x}<br>y=%{y}<br>z=%{z}<extra></extra>\",\"legendgroup\":\"CF_7, CF_7\",\"marker\":{\"color\":\"#1CA71C\",\"symbol\":\"diamond\",\"size\":5},\"mode\":\"markers\",\"name\":\"CF_7, CF_7\",\"scene\":\"scene\",\"showlegend\":true,\"x\":[-1.5817557400459046,-0.7585968929877378,-1.0943054901687947],\"y\":[-1.3338258344434781,-0.451440592355398,-0.7615401589352535],\"z\":[0.5086843751863115,1.8683323451956801,1.444909768533633],\"type\":\"scatter3d\"},{\"hovertemplate\":\"color=CF_8<br>symbol=CF_8<br>x=%{x}<br>y=%{y}<br>z=%{z}<extra></extra>\",\"legendgroup\":\"CF_8, CF_8\",\"marker\":{\"color\":\"#FB0D0D\",\"symbol\":\"square\",\"size\":5},\"mode\":\"markers\",\"name\":\"CF_8, CF_8\",\"scene\":\"scene\",\"showlegend\":true,\"x\":[0.9280774660886146,4.511588286233591,3.4035200508274888],\"y\":[-0.5137929618658327,1.6726102640999467,-0.0337878665633083],\"z\":[1.2024410011914641,-0.2980627593362903,3.2280663061318626],\"type\":\"scatter3d\"},{\"hovertemplate\":\"color=CF_9<br>symbol=CF_9<br>x=%{x}<br>y=%{y}<br>z=%{z}<extra></extra>\",\"legendgroup\":\"CF_9, CF_9\",\"marker\":{\"color\":\"#DA16FF\",\"symbol\":\"x\",\"size\":5},\"mode\":\"markers\",\"name\":\"CF_9, CF_9\",\"scene\":\"scene\",\"showlegend\":true,\"x\":[-1.0714457603626817,-0.6842402896737331,-0.5492696790519583],\"y\":[-0.17274264456549207,-0.7022130207838672,-0.03036733854116103],\"z\":[0.4120923171577726,0.9432491378499297,0.42494299255359474],\"type\":\"scatter3d\"},{\"hovertemplate\":\"color=CF_10<br>symbol=CF_10<br>x=%{x}<br>y=%{y}<br>z=%{z}<extra></extra>\",\"legendgroup\":\"CF_10, CF_10\",\"marker\":{\"color\":\"#222A2A\",\"symbol\":\"cross\",\"size\":5},\"mode\":\"markers\",\"name\":\"CF_10, CF_10\",\"scene\":\"scene\",\"showlegend\":true,\"x\":[1.28749244428323,2.239506276841033,-0.6530369457885286],\"y\":[0.43595701510224083,-1.6976242107173134,0.4490100764971734],\"z\":[1.4003484949315805,2.0189547310840394,-0.36222014573228967],\"type\":\"scatter3d\"},{\"hovertemplate\":\"color=BG_1<br>symbol=BG_1<br>x=%{x}<br>y=%{y}<br>z=%{z}<extra></extra>\",\"legendgroup\":\"BG_1, BG_1\",\"marker\":{\"color\":\"#B68100\",\"symbol\":\"circle\",\"size\":5},\"mode\":\"markers\",\"name\":\"BG_1, BG_1\",\"scene\":\"scene\",\"showlegend\":true,\"x\":[-2.087903665964986,0.40205529245025645,-2.257614741227385],\"y\":[-1.6470502412003454,1.9725683910441574,-1.301298271009082],\"z\":[-2.018642171526292,0.9010071635100472,-1.8630810131302198],\"type\":\"scatter3d\"},{\"hovertemplate\":\"color=BG_2<br>symbol=BG_2<br>x=%{x}<br>y=%{y}<br>z=%{z}<extra></extra>\",\"legendgroup\":\"BG_2, BG_2\",\"marker\":{\"color\":\"#750D86\",\"symbol\":\"diamond\",\"size\":5},\"mode\":\"markers\",\"name\":\"BG_2, BG_2\",\"scene\":\"scene\",\"showlegend\":true,\"x\":[1.1880459158292105,0.36070210945190145,1.5948192930705554],\"y\":[-1.112204036977124,-1.168736245026956,-1.5154674594143613],\"z\":[-2.695901349211836,-2.5324832583025576,-1.8201463354021163],\"type\":\"scatter3d\"},{\"hovertemplate\":\"color=BG_3<br>symbol=BG_3<br>x=%{x}<br>y=%{y}<br>z=%{z}<extra></extra>\",\"legendgroup\":\"BG_3, BG_3\",\"marker\":{\"color\":\"#EB663B\",\"symbol\":\"square\",\"size\":5},\"mode\":\"markers\",\"name\":\"BG_3, BG_3\",\"scene\":\"scene\",\"showlegend\":true,\"x\":[-2.2533199441466913,-2.350241161881482,-2.2703234565151966],\"y\":[-0.7931418814654408,-0.44933100701915557,1.6126553847021465],\"z\":[-0.8143827862062285,-0.9195615980456848,-2.2205366583917376],\"type\":\"scatter3d\"},{\"hovertemplate\":\"color=BG_4<br>symbol=BG_4<br>x=%{x}<br>y=%{y}<br>z=%{z}<extra></extra>\",\"legendgroup\":\"BG_4, BG_4\",\"marker\":{\"color\":\"#511CFB\",\"symbol\":\"x\",\"size\":5},\"mode\":\"markers\",\"name\":\"BG_4, BG_4\",\"scene\":\"scene\",\"showlegend\":true,\"x\":[-2.366287125957482,-2.1831134726454247,-2.2630716598120397],\"y\":[-1.7022651186382074,-1.4755872271257349,-1.1500809514826096],\"z\":[0.7947850762021007,1.413159527486309,1.2086091464508708],\"type\":\"scatter3d\"},{\"hovertemplate\":\"color=BG_5<br>symbol=BG_5<br>x=%{x}<br>y=%{y}<br>z=%{z}<extra></extra>\",\"legendgroup\":\"BG_5, BG_5\",\"marker\":{\"color\":\"#00A08B\",\"symbol\":\"cross\",\"size\":5},\"mode\":\"markers\",\"name\":\"BG_5, BG_5\",\"scene\":\"scene\",\"showlegend\":true,\"x\":[-1.5650996740237884,-1.24073686585362,-0.9029723613133899],\"y\":[-0.7971527157539569,-1.4915688609787052,-1.2647379753663146],\"z\":[0.509651439752574,0.006961111342003536,0.10624500528869264],\"type\":\"scatter3d\"},{\"hovertemplate\":\"color=BG_6<br>symbol=BG_6<br>x=%{x}<br>y=%{y}<br>z=%{z}<extra></extra>\",\"legendgroup\":\"BG_6, BG_6\",\"marker\":{\"color\":\"#FB00D1\",\"symbol\":\"circle\",\"size\":5},\"mode\":\"markers\",\"name\":\"BG_6, BG_6\",\"scene\":\"scene\",\"showlegend\":true,\"x\":[-1.498021647958389,-1.4434636127688907,-2.1442343206882457],\"y\":[-0.9971625878346333,-0.2967070895933127,-1.3969564342536733],\"z\":[1.7834529362979503,-0.6217871775892977,2.0072828354059586],\"type\":\"scatter3d\"},{\"hovertemplate\":\"color=BG_7<br>symbol=BG_7<br>x=%{x}<br>y=%{y}<br>z=%{z}<extra></extra>\",\"legendgroup\":\"BG_7, BG_7\",\"marker\":{\"color\":\"#FC0080\",\"symbol\":\"diamond\",\"size\":5},\"mode\":\"markers\",\"name\":\"BG_7, BG_7\",\"scene\":\"scene\",\"showlegend\":true,\"x\":[2.342707543833109,0.9829008712270405,0.8008669749912425],\"y\":[2.7689634024488745,2.6023178796304838,1.4642582063737066],\"z\":[-1.677757531880782,-2.0868856929294455,-1.527049688934176],\"type\":\"scatter3d\"},{\"hovertemplate\":\"color=BG_8<br>symbol=BG_8<br>x=%{x}<br>y=%{y}<br>z=%{z}<extra></extra>\",\"legendgroup\":\"BG_8, BG_8\",\"marker\":{\"color\":\"#B2828D\",\"symbol\":\"square\",\"size\":5},\"mode\":\"markers\",\"name\":\"BG_8, BG_8\",\"scene\":\"scene\",\"showlegend\":true,\"x\":[-1.4533493529753834,1.2773895507873565,-0.12484873240309967],\"y\":[0.7898106558521775,0.7533358890860203,2.034309578261958],\"z\":[0.7772560111045215,-0.4730775464472878,1.2054309036326971],\"type\":\"scatter3d\"},{\"hovertemplate\":\"color=BG_9<br>symbol=BG_9<br>x=%{x}<br>y=%{y}<br>z=%{z}<extra></extra>\",\"legendgroup\":\"BG_9, BG_9\",\"marker\":{\"color\":\"#6C7C32\",\"symbol\":\"x\",\"size\":5},\"mode\":\"markers\",\"name\":\"BG_9, BG_9\",\"scene\":\"scene\",\"showlegend\":true,\"x\":[0.09302773915102944,-0.5577486859198943,-0.058364876443024155],\"y\":[1.0247061367461079,2.7738134823816774,1.7263876727254748],\"z\":[0.08309279604765275,-0.8308551098261621,-0.6948883222599941],\"type\":\"scatter3d\"},{\"hovertemplate\":\"color=BG_10<br>symbol=BG_10<br>x=%{x}<br>y=%{y}<br>z=%{z}<extra></extra>\",\"legendgroup\":\"BG_10, BG_10\",\"marker\":{\"color\":\"#778AAE\",\"symbol\":\"cross\",\"size\":5},\"mode\":\"markers\",\"name\":\"BG_10, BG_10\",\"scene\":\"scene\",\"showlegend\":true,\"x\":[-1.5515711059079067,-1.1872885950979786,-0.004853093722567218],\"y\":[2.254251116039057,1.021917379766175,3.4262551275244517],\"z\":[-0.10447243913895475,-0.060051148647327614,0.060924503387151906],\"type\":\"scatter3d\"}],                        {\"template\":{\"data\":{\"bar\":[{\"error_x\":{\"color\":\"#2a3f5f\"},\"error_y\":{\"color\":\"#2a3f5f\"},\"marker\":{\"line\":{\"color\":\"#E5ECF6\",\"width\":0.5},\"pattern\":{\"fillmode\":\"overlay\",\"size\":10,\"solidity\":0.2}},\"type\":\"bar\"}],\"barpolar\":[{\"marker\":{\"line\":{\"color\":\"#E5ECF6\",\"width\":0.5},\"pattern\":{\"fillmode\":\"overlay\",\"size\":10,\"solidity\":0.2}},\"type\":\"barpolar\"}],\"carpet\":[{\"aaxis\":{\"endlinecolor\":\"#2a3f5f\",\"gridcolor\":\"white\",\"linecolor\":\"white\",\"minorgridcolor\":\"white\",\"startlinecolor\":\"#2a3f5f\"},\"baxis\":{\"endlinecolor\":\"#2a3f5f\",\"gridcolor\":\"white\",\"linecolor\":\"white\",\"minorgridcolor\":\"white\",\"startlinecolor\":\"#2a3f5f\"},\"type\":\"carpet\"}],\"choropleth\":[{\"colorbar\":{\"outlinewidth\":0,\"ticks\":\"\"},\"type\":\"choropleth\"}],\"contour\":[{\"colorbar\":{\"outlinewidth\":0,\"ticks\":\"\"},\"colorscale\":[[0.0,\"#0d0887\"],[0.1111111111111111,\"#46039f\"],[0.2222222222222222,\"#7201a8\"],[0.3333333333333333,\"#9c179e\"],[0.4444444444444444,\"#bd3786\"],[0.5555555555555556,\"#d8576b\"],[0.6666666666666666,\"#ed7953\"],[0.7777777777777778,\"#fb9f3a\"],[0.8888888888888888,\"#fdca26\"],[1.0,\"#f0f921\"]],\"type\":\"contour\"}],\"contourcarpet\":[{\"colorbar\":{\"outlinewidth\":0,\"ticks\":\"\"},\"type\":\"contourcarpet\"}],\"heatmap\":[{\"colorbar\":{\"outlinewidth\":0,\"ticks\":\"\"},\"colorscale\":[[0.0,\"#0d0887\"],[0.1111111111111111,\"#46039f\"],[0.2222222222222222,\"#7201a8\"],[0.3333333333333333,\"#9c179e\"],[0.4444444444444444,\"#bd3786\"],[0.5555555555555556,\"#d8576b\"],[0.6666666666666666,\"#ed7953\"],[0.7777777777777778,\"#fb9f3a\"],[0.8888888888888888,\"#fdca26\"],[1.0,\"#f0f921\"]],\"type\":\"heatmap\"}],\"heatmapgl\":[{\"colorbar\":{\"outlinewidth\":0,\"ticks\":\"\"},\"colorscale\":[[0.0,\"#0d0887\"],[0.1111111111111111,\"#46039f\"],[0.2222222222222222,\"#7201a8\"],[0.3333333333333333,\"#9c179e\"],[0.4444444444444444,\"#bd3786\"],[0.5555555555555556,\"#d8576b\"],[0.6666666666666666,\"#ed7953\"],[0.7777777777777778,\"#fb9f3a\"],[0.8888888888888888,\"#fdca26\"],[1.0,\"#f0f921\"]],\"type\":\"heatmapgl\"}],\"histogram\":[{\"marker\":{\"pattern\":{\"fillmode\":\"overlay\",\"size\":10,\"solidity\":0.2}},\"type\":\"histogram\"}],\"histogram2d\":[{\"colorbar\":{\"outlinewidth\":0,\"ticks\":\"\"},\"colorscale\":[[0.0,\"#0d0887\"],[0.1111111111111111,\"#46039f\"],[0.2222222222222222,\"#7201a8\"],[0.3333333333333333,\"#9c179e\"],[0.4444444444444444,\"#bd3786\"],[0.5555555555555556,\"#d8576b\"],[0.6666666666666666,\"#ed7953\"],[0.7777777777777778,\"#fb9f3a\"],[0.8888888888888888,\"#fdca26\"],[1.0,\"#f0f921\"]],\"type\":\"histogram2d\"}],\"histogram2dcontour\":[{\"colorbar\":{\"outlinewidth\":0,\"ticks\":\"\"},\"colorscale\":[[0.0,\"#0d0887\"],[0.1111111111111111,\"#46039f\"],[0.2222222222222222,\"#7201a8\"],[0.3333333333333333,\"#9c179e\"],[0.4444444444444444,\"#bd3786\"],[0.5555555555555556,\"#d8576b\"],[0.6666666666666666,\"#ed7953\"],[0.7777777777777778,\"#fb9f3a\"],[0.8888888888888888,\"#fdca26\"],[1.0,\"#f0f921\"]],\"type\":\"histogram2dcontour\"}],\"mesh3d\":[{\"colorbar\":{\"outlinewidth\":0,\"ticks\":\"\"},\"type\":\"mesh3d\"}],\"parcoords\":[{\"line\":{\"colorbar\":{\"outlinewidth\":0,\"ticks\":\"\"}},\"type\":\"parcoords\"}],\"pie\":[{\"automargin\":true,\"type\":\"pie\"}],\"scatter\":[{\"marker\":{\"colorbar\":{\"outlinewidth\":0,\"ticks\":\"\"}},\"type\":\"scatter\"}],\"scatter3d\":[{\"line\":{\"colorbar\":{\"outlinewidth\":0,\"ticks\":\"\"}},\"marker\":{\"colorbar\":{\"outlinewidth\":0,\"ticks\":\"\"}},\"type\":\"scatter3d\"}],\"scattercarpet\":[{\"marker\":{\"colorbar\":{\"outlinewidth\":0,\"ticks\":\"\"}},\"type\":\"scattercarpet\"}],\"scattergeo\":[{\"marker\":{\"colorbar\":{\"outlinewidth\":0,\"ticks\":\"\"}},\"type\":\"scattergeo\"}],\"scattergl\":[{\"marker\":{\"colorbar\":{\"outlinewidth\":0,\"ticks\":\"\"}},\"type\":\"scattergl\"}],\"scattermapbox\":[{\"marker\":{\"colorbar\":{\"outlinewidth\":0,\"ticks\":\"\"}},\"type\":\"scattermapbox\"}],\"scatterpolar\":[{\"marker\":{\"colorbar\":{\"outlinewidth\":0,\"ticks\":\"\"}},\"type\":\"scatterpolar\"}],\"scatterpolargl\":[{\"marker\":{\"colorbar\":{\"outlinewidth\":0,\"ticks\":\"\"}},\"type\":\"scatterpolargl\"}],\"scatterternary\":[{\"marker\":{\"colorbar\":{\"outlinewidth\":0,\"ticks\":\"\"}},\"type\":\"scatterternary\"}],\"surface\":[{\"colorbar\":{\"outlinewidth\":0,\"ticks\":\"\"},\"colorscale\":[[0.0,\"#0d0887\"],[0.1111111111111111,\"#46039f\"],[0.2222222222222222,\"#7201a8\"],[0.3333333333333333,\"#9c179e\"],[0.4444444444444444,\"#bd3786\"],[0.5555555555555556,\"#d8576b\"],[0.6666666666666666,\"#ed7953\"],[0.7777777777777778,\"#fb9f3a\"],[0.8888888888888888,\"#fdca26\"],[1.0,\"#f0f921\"]],\"type\":\"surface\"}],\"table\":[{\"cells\":{\"fill\":{\"color\":\"#EBF0F8\"},\"line\":{\"color\":\"white\"}},\"header\":{\"fill\":{\"color\":\"#C8D4E3\"},\"line\":{\"color\":\"white\"}},\"type\":\"table\"}]},\"layout\":{\"annotationdefaults\":{\"arrowcolor\":\"#2a3f5f\",\"arrowhead\":0,\"arrowwidth\":1},\"autotypenumbers\":\"strict\",\"coloraxis\":{\"colorbar\":{\"outlinewidth\":0,\"ticks\":\"\"}},\"colorscale\":{\"diverging\":[[0,\"#8e0152\"],[0.1,\"#c51b7d\"],[0.2,\"#de77ae\"],[0.3,\"#f1b6da\"],[0.4,\"#fde0ef\"],[0.5,\"#f7f7f7\"],[0.6,\"#e6f5d0\"],[0.7,\"#b8e186\"],[0.8,\"#7fbc41\"],[0.9,\"#4d9221\"],[1,\"#276419\"]],\"sequential\":[[0.0,\"#0d0887\"],[0.1111111111111111,\"#46039f\"],[0.2222222222222222,\"#7201a8\"],[0.3333333333333333,\"#9c179e\"],[0.4444444444444444,\"#bd3786\"],[0.5555555555555556,\"#d8576b\"],[0.6666666666666666,\"#ed7953\"],[0.7777777777777778,\"#fb9f3a\"],[0.8888888888888888,\"#fdca26\"],[1.0,\"#f0f921\"]],\"sequentialminus\":[[0.0,\"#0d0887\"],[0.1111111111111111,\"#46039f\"],[0.2222222222222222,\"#7201a8\"],[0.3333333333333333,\"#9c179e\"],[0.4444444444444444,\"#bd3786\"],[0.5555555555555556,\"#d8576b\"],[0.6666666666666666,\"#ed7953\"],[0.7777777777777778,\"#fb9f3a\"],[0.8888888888888888,\"#fdca26\"],[1.0,\"#f0f921\"]]},\"colorway\":[\"#636efa\",\"#EF553B\",\"#00cc96\",\"#ab63fa\",\"#FFA15A\",\"#19d3f3\",\"#FF6692\",\"#B6E880\",\"#FF97FF\",\"#FECB52\"],\"font\":{\"color\":\"#2a3f5f\"},\"geo\":{\"bgcolor\":\"white\",\"lakecolor\":\"white\",\"landcolor\":\"#E5ECF6\",\"showlakes\":true,\"showland\":true,\"subunitcolor\":\"white\"},\"hoverlabel\":{\"align\":\"left\"},\"hovermode\":\"closest\",\"mapbox\":{\"style\":\"light\"},\"paper_bgcolor\":\"white\",\"plot_bgcolor\":\"#E5ECF6\",\"polar\":{\"angularaxis\":{\"gridcolor\":\"white\",\"linecolor\":\"white\",\"ticks\":\"\"},\"bgcolor\":\"#E5ECF6\",\"radialaxis\":{\"gridcolor\":\"white\",\"linecolor\":\"white\",\"ticks\":\"\"}},\"scene\":{\"xaxis\":{\"backgroundcolor\":\"#E5ECF6\",\"gridcolor\":\"white\",\"gridwidth\":2,\"linecolor\":\"white\",\"showbackground\":true,\"ticks\":\"\",\"zerolinecolor\":\"white\"},\"yaxis\":{\"backgroundcolor\":\"#E5ECF6\",\"gridcolor\":\"white\",\"gridwidth\":2,\"linecolor\":\"white\",\"showbackground\":true,\"ticks\":\"\",\"zerolinecolor\":\"white\"},\"zaxis\":{\"backgroundcolor\":\"#E5ECF6\",\"gridcolor\":\"white\",\"gridwidth\":2,\"linecolor\":\"white\",\"showbackground\":true,\"ticks\":\"\",\"zerolinecolor\":\"white\"}},\"shapedefaults\":{\"line\":{\"color\":\"#2a3f5f\"}},\"ternary\":{\"aaxis\":{\"gridcolor\":\"white\",\"linecolor\":\"white\",\"ticks\":\"\"},\"baxis\":{\"gridcolor\":\"white\",\"linecolor\":\"white\",\"ticks\":\"\"},\"bgcolor\":\"#E5ECF6\",\"caxis\":{\"gridcolor\":\"white\",\"linecolor\":\"white\",\"ticks\":\"\"}},\"title\":{\"x\":0.05},\"xaxis\":{\"automargin\":true,\"gridcolor\":\"white\",\"linecolor\":\"white\",\"ticks\":\"\",\"title\":{\"standoff\":15},\"zerolinecolor\":\"white\",\"zerolinewidth\":2},\"yaxis\":{\"automargin\":true,\"gridcolor\":\"white\",\"linecolor\":\"white\",\"ticks\":\"\",\"title\":{\"standoff\":15},\"zerolinecolor\":\"white\",\"zerolinewidth\":2}}},\"scene\":{\"domain\":{\"x\":[0.0,1.0],\"y\":[0.0,1.0]},\"xaxis\":{\"title\":{\"text\":\"x\"}},\"yaxis\":{\"title\":{\"text\":\"y\"}},\"zaxis\":{\"title\":{\"text\":\"z\"}}},\"legend\":{\"title\":{\"text\":\"color, symbol\"},\"tracegroupgap\":0},\"margin\":{\"t\":0,\"l\":0,\"r\":0,\"b\":0}},                        {\"responsive\": true}                    ).then(function(){\n",
       "                            \n",
       "var gd = document.getElementById('a2e0a474-f409-4b63-8fba-b7fed2e250f5');\n",
       "var x = new MutationObserver(function (mutations, observer) {{\n",
       "        var display = window.getComputedStyle(gd).display;\n",
       "        if (!display || display === 'none') {{\n",
       "            console.log([gd, 'removed!']);\n",
       "            Plotly.purge(gd);\n",
       "            observer.disconnect();\n",
       "        }}\n",
       "}});\n",
       "\n",
       "// Listen for the removal of the full notebook cells\n",
       "var notebookContainer = gd.closest('#notebook-container');\n",
       "if (notebookContainer) {{\n",
       "    x.observe(notebookContainer, {childList: true});\n",
       "}}\n",
       "\n",
       "// Listen for the clearing of the current output cell\n",
       "var outputEl = gd.closest('.output');\n",
       "if (outputEl) {{\n",
       "    x.observe(outputEl, {childList: true});\n",
       "}}\n",
       "\n",
       "                        })                };                });            </script>        </div>"
      ]
     },
     "metadata": {},
     "output_type": "display_data"
    }
   ],
   "source": [
    "fig = px.scatter_3d(pca3d_df_NoduleCol_comb, \n",
    "                    x=pca3d_df_NoduleCol_comb.iloc[:,1], \n",
    "                    y=pca3d_df_NoduleCol_comb.iloc[:,2], \n",
    "                    z=pca3d_df_NoduleCol_comb.iloc[:,3], \n",
    "                    color=pca3d_df_NoduleCol_comb.iloc[:,0],\n",
    "                    color_discrete_sequence=px.colors.qualitative.Dark24,\n",
    "                    symbol = pca3d_df_NoduleCol_comb.iloc[:,0])\n",
    "fig.update_traces(marker_size = 5)\n",
    "fig.update_layout(margin=dict(l=0, r=0, b=0, t=0))\n",
    "fig.show()\n",
    "\n",
    "#if save_plots == True:\n",
    "#    fig.write_html(filepath) "
   ]
  },
  {
   "cell_type": "code",
   "execution_count": null,
   "metadata": {},
   "outputs": [],
   "source": []
  },
  {
   "cell_type": "code",
   "execution_count": null,
   "metadata": {},
   "outputs": [],
   "source": []
  },
  {
   "cell_type": "code",
   "execution_count": null,
   "metadata": {},
   "outputs": [],
   "source": []
  },
  {
   "cell_type": "code",
   "execution_count": null,
   "metadata": {},
   "outputs": [],
   "source": []
  },
  {
   "cell_type": "code",
   "execution_count": null,
   "metadata": {},
   "outputs": [],
   "source": []
  },
  {
   "cell_type": "code",
   "execution_count": null,
   "metadata": {},
   "outputs": [],
   "source": []
  }
 ],
 "metadata": {
  "kernelspec": {
   "display_name": "Python 3 (ipykernel)",
   "language": "python",
   "name": "python3"
  },
  "language_info": {
   "codemirror_mode": {
    "name": "ipython",
    "version": 3
   },
   "file_extension": ".py",
   "mimetype": "text/x-python",
   "name": "python",
   "nbconvert_exporter": "python",
   "pygments_lexer": "ipython3",
   "version": "3.9.12"
  }
 },
 "nbformat": 4,
 "nbformat_minor": 4
}
