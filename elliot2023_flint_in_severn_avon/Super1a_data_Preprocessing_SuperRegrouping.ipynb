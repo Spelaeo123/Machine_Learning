{
 "cells": [
  {
   "cell_type": "markdown",
   "metadata": {},
   "source": [
    "# Import libraries/packages"
   ]
  },
  {
   "cell_type": "code",
   "execution_count": 5,
   "metadata": {},
   "outputs": [],
   "source": [
    "# Import pandas, numpy, seabon, sklearn, pyplot\n",
    "import pandas as pd\n",
    "import numpy as np\n",
    "import seaborn as sns\n",
    "import sklearn as sk\n",
    "\n",
    "from matplotlib import pyplot as plt\n",
    "from sklearn.preprocessing import StandardScaler\n",
    "from sklearn.decomposition import PCA\n",
    "from sklearn.manifold import TSNE\n",
    "#from sklearn.cluster import KMeans\n",
    "\n",
    "#SpectralClustering\n",
    "\n",
    "#pd.set_option('max.rows', None)\n",
    "#pd.set_option('max.columns', None)\n",
    "\n",
    "%matplotlib inline"
   ]
  },
  {
   "cell_type": "code",
   "execution_count": 6,
   "metadata": {},
   "outputs": [],
   "source": [
    "from config_and_dependencies.config import * "
   ]
  },
  {
   "cell_type": "markdown",
   "metadata": {},
   "source": [
    "## Import data"
   ]
  },
  {
   "cell_type": "code",
   "execution_count": 7,
   "metadata": {},
   "outputs": [],
   "source": [
    "%store -r my_superficial"
   ]
  },
  {
   "cell_type": "code",
   "execution_count": null,
   "metadata": {
    "tags": []
   },
   "outputs": [],
   "source": []
  },
  {
   "cell_type": "code",
   "execution_count": 8,
   "metadata": {},
   "outputs": [
    {
     "data": {
      "text/html": [
       "<div>\n",
       "<style scoped>\n",
       "    .dataframe tbody tr th:only-of-type {\n",
       "        vertical-align: middle;\n",
       "    }\n",
       "\n",
       "    .dataframe tbody tr th {\n",
       "        vertical-align: top;\n",
       "    }\n",
       "\n",
       "    .dataframe thead th {\n",
       "        text-align: right;\n",
       "    }\n",
       "</style>\n",
       "<table border=\"1\" class=\"dataframe\">\n",
       "  <thead>\n",
       "    <tr style=\"text-align: right;\">\n",
       "      <th></th>\n",
       "      <th>Analysis</th>\n",
       "      <th>Geology</th>\n",
       "      <th>Province</th>\n",
       "      <th>Region</th>\n",
       "      <th>Site</th>\n",
       "      <th>SubSite</th>\n",
       "      <th>Formation</th>\n",
       "      <th>Band</th>\n",
       "      <th>Nodule</th>\n",
       "      <th>Li7</th>\n",
       "      <th>...</th>\n",
       "      <th>Er166</th>\n",
       "      <th>Tm169</th>\n",
       "      <th>Yb172</th>\n",
       "      <th>Lu175</th>\n",
       "      <th>Hf178</th>\n",
       "      <th>Ta181</th>\n",
       "      <th>Pb208</th>\n",
       "      <th>Th232</th>\n",
       "      <th>U238</th>\n",
       "      <th>class</th>\n",
       "    </tr>\n",
       "  </thead>\n",
       "  <tbody>\n",
       "    <tr>\n",
       "      <th>808</th>\n",
       "      <td>005_AB_1</td>\n",
       "      <td>Superficial</td>\n",
       "      <td>NaN</td>\n",
       "      <td>AB</td>\n",
       "      <td>AB</td>\n",
       "      <td>AB</td>\n",
       "      <td>NaN</td>\n",
       "      <td>AB</td>\n",
       "      <td>AB_1</td>\n",
       "      <td>19.35</td>\n",
       "      <td>...</td>\n",
       "      <td>0.01</td>\n",
       "      <td>0.00</td>\n",
       "      <td>0.01</td>\n",
       "      <td>0.0</td>\n",
       "      <td>0.01</td>\n",
       "      <td>0.00</td>\n",
       "      <td>0.56</td>\n",
       "      <td>0.05</td>\n",
       "      <td>0.210000</td>\n",
       "      <td>AB</td>\n",
       "    </tr>\n",
       "    <tr>\n",
       "      <th>809</th>\n",
       "      <td>006_AB_1</td>\n",
       "      <td>Superficial</td>\n",
       "      <td>NaN</td>\n",
       "      <td>AB</td>\n",
       "      <td>AB</td>\n",
       "      <td>AB</td>\n",
       "      <td>NaN</td>\n",
       "      <td>AB</td>\n",
       "      <td>AB_1</td>\n",
       "      <td>2.61</td>\n",
       "      <td>...</td>\n",
       "      <td>0.02</td>\n",
       "      <td>0.00</td>\n",
       "      <td>0.02</td>\n",
       "      <td>0.0</td>\n",
       "      <td>0.00</td>\n",
       "      <td>0.00</td>\n",
       "      <td>0.24</td>\n",
       "      <td>0.06</td>\n",
       "      <td>0.510000</td>\n",
       "      <td>AB</td>\n",
       "    </tr>\n",
       "    <tr>\n",
       "      <th>810</th>\n",
       "      <td>007_AB_1</td>\n",
       "      <td>Superficial</td>\n",
       "      <td>NaN</td>\n",
       "      <td>AB</td>\n",
       "      <td>AB</td>\n",
       "      <td>AB</td>\n",
       "      <td>NaN</td>\n",
       "      <td>AB</td>\n",
       "      <td>AB_1</td>\n",
       "      <td>2.29</td>\n",
       "      <td>...</td>\n",
       "      <td>0.02</td>\n",
       "      <td>0.00</td>\n",
       "      <td>0.00</td>\n",
       "      <td>0.0</td>\n",
       "      <td>0.02</td>\n",
       "      <td>0.01</td>\n",
       "      <td>0.48</td>\n",
       "      <td>0.05</td>\n",
       "      <td>0.242569</td>\n",
       "      <td>AB</td>\n",
       "    </tr>\n",
       "    <tr>\n",
       "      <th>811</th>\n",
       "      <td>008_AB_2</td>\n",
       "      <td>Superficial</td>\n",
       "      <td>NaN</td>\n",
       "      <td>AB</td>\n",
       "      <td>AB</td>\n",
       "      <td>AB</td>\n",
       "      <td>NaN</td>\n",
       "      <td>AB</td>\n",
       "      <td>AB_2</td>\n",
       "      <td>6.86</td>\n",
       "      <td>...</td>\n",
       "      <td>0.07</td>\n",
       "      <td>0.01</td>\n",
       "      <td>0.04</td>\n",
       "      <td>0.0</td>\n",
       "      <td>0.00</td>\n",
       "      <td>0.01</td>\n",
       "      <td>3.11</td>\n",
       "      <td>0.06</td>\n",
       "      <td>0.030000</td>\n",
       "      <td>AB</td>\n",
       "    </tr>\n",
       "    <tr>\n",
       "      <th>812</th>\n",
       "      <td>009_AB_2</td>\n",
       "      <td>Superficial</td>\n",
       "      <td>NaN</td>\n",
       "      <td>AB</td>\n",
       "      <td>AB</td>\n",
       "      <td>AB</td>\n",
       "      <td>NaN</td>\n",
       "      <td>AB</td>\n",
       "      <td>AB_2</td>\n",
       "      <td>8.45</td>\n",
       "      <td>...</td>\n",
       "      <td>0.05</td>\n",
       "      <td>0.00</td>\n",
       "      <td>0.04</td>\n",
       "      <td>0.0</td>\n",
       "      <td>0.01</td>\n",
       "      <td>0.00</td>\n",
       "      <td>3.04</td>\n",
       "      <td>0.06</td>\n",
       "      <td>0.060000</td>\n",
       "      <td>AB</td>\n",
       "    </tr>\n",
       "  </tbody>\n",
       "</table>\n",
       "<p>5 rows × 63 columns</p>\n",
       "</div>"
      ],
      "text/plain": [
       "     Analysis      Geology Province Region Site SubSite Formation Band Nodule  \\\n",
       "808  005_AB_1  Superficial      NaN     AB   AB      AB       NaN   AB   AB_1   \n",
       "809  006_AB_1  Superficial      NaN     AB   AB      AB       NaN   AB   AB_1   \n",
       "810  007_AB_1  Superficial      NaN     AB   AB      AB       NaN   AB   AB_1   \n",
       "811  008_AB_2  Superficial      NaN     AB   AB      AB       NaN   AB   AB_2   \n",
       "812  009_AB_2  Superficial      NaN     AB   AB      AB       NaN   AB   AB_2   \n",
       "\n",
       "       Li7  ...  Er166  Tm169  Yb172  Lu175  Hf178  Ta181  Pb208  Th232  \\\n",
       "808  19.35  ...   0.01   0.00   0.01    0.0   0.01   0.00   0.56   0.05   \n",
       "809   2.61  ...   0.02   0.00   0.02    0.0   0.00   0.00   0.24   0.06   \n",
       "810   2.29  ...   0.02   0.00   0.00    0.0   0.02   0.01   0.48   0.05   \n",
       "811   6.86  ...   0.07   0.01   0.04    0.0   0.00   0.01   3.11   0.06   \n",
       "812   8.45  ...   0.05   0.00   0.04    0.0   0.01   0.00   3.04   0.06   \n",
       "\n",
       "         U238  class  \n",
       "808  0.210000     AB  \n",
       "809  0.510000     AB  \n",
       "810  0.242569     AB  \n",
       "811  0.030000     AB  \n",
       "812  0.060000     AB  \n",
       "\n",
       "[5 rows x 63 columns]"
      ]
     },
     "execution_count": 8,
     "metadata": {},
     "output_type": "execute_result"
    }
   ],
   "source": [
    "my_superficial.head()"
   ]
  },
  {
   "cell_type": "code",
   "execution_count": 9,
   "metadata": {},
   "outputs": [
    {
     "data": {
      "text/plain": [
       "array(['AB', 'LV', 'BR', 'KY', 'BF', 'ST', 'SH', 'CF', 'BG', 'AC', 'CR',\n",
       "       'GH', 'PX', 'WF'], dtype=object)"
      ]
     },
     "execution_count": 9,
     "metadata": {},
     "output_type": "execute_result"
    }
   ],
   "source": [
    "my_superficial['Site'].unique()"
   ]
  },
  {
   "cell_type": "code",
   "execution_count": 10,
   "metadata": {},
   "outputs": [],
   "source": [
    "X = my_superficial.loc[my_superficial['Region'].isin(['WA_black','WA_grey'])]"
   ]
  },
  {
   "cell_type": "code",
   "execution_count": null,
   "metadata": {},
   "outputs": [],
   "source": []
  },
  {
   "cell_type": "code",
   "execution_count": 11,
   "metadata": {},
   "outputs": [
    {
     "data": {
      "text/html": [
       "<div>\n",
       "<style scoped>\n",
       "    .dataframe tbody tr th:only-of-type {\n",
       "        vertical-align: middle;\n",
       "    }\n",
       "\n",
       "    .dataframe tbody tr th {\n",
       "        vertical-align: top;\n",
       "    }\n",
       "\n",
       "    .dataframe thead th {\n",
       "        text-align: right;\n",
       "    }\n",
       "</style>\n",
       "<table border=\"1\" class=\"dataframe\">\n",
       "  <thead>\n",
       "    <tr style=\"text-align: right;\">\n",
       "      <th></th>\n",
       "      <th>Analysis</th>\n",
       "      <th>Geology</th>\n",
       "      <th>Province</th>\n",
       "      <th>Region</th>\n",
       "      <th>Site</th>\n",
       "      <th>SubSite</th>\n",
       "      <th>Formation</th>\n",
       "      <th>Band</th>\n",
       "      <th>Nodule</th>\n",
       "      <th>Li7</th>\n",
       "      <th>...</th>\n",
       "      <th>Er166</th>\n",
       "      <th>Tm169</th>\n",
       "      <th>Yb172</th>\n",
       "      <th>Lu175</th>\n",
       "      <th>Hf178</th>\n",
       "      <th>Ta181</th>\n",
       "      <th>Pb208</th>\n",
       "      <th>Th232</th>\n",
       "      <th>U238</th>\n",
       "      <th>class</th>\n",
       "    </tr>\n",
       "  </thead>\n",
       "  <tbody>\n",
       "    <tr>\n",
       "      <th>1078</th>\n",
       "      <td>189_AC_1</td>\n",
       "      <td>Superficial</td>\n",
       "      <td>NaN</td>\n",
       "      <td>WA_grey</td>\n",
       "      <td>AC</td>\n",
       "      <td>AC</td>\n",
       "      <td>NaN</td>\n",
       "      <td>AC</td>\n",
       "      <td>AC_1</td>\n",
       "      <td>5.47</td>\n",
       "      <td>...</td>\n",
       "      <td>0.35</td>\n",
       "      <td>0.07</td>\n",
       "      <td>0.23</td>\n",
       "      <td>0.023009</td>\n",
       "      <td>0.17</td>\n",
       "      <td>0.021065</td>\n",
       "      <td>0.87</td>\n",
       "      <td>0.28</td>\n",
       "      <td>0.55</td>\n",
       "      <td>WA_grey</td>\n",
       "    </tr>\n",
       "    <tr>\n",
       "      <th>1079</th>\n",
       "      <td>190_AC_1</td>\n",
       "      <td>Superficial</td>\n",
       "      <td>NaN</td>\n",
       "      <td>WA_grey</td>\n",
       "      <td>AC</td>\n",
       "      <td>AC</td>\n",
       "      <td>NaN</td>\n",
       "      <td>AC</td>\n",
       "      <td>AC_1</td>\n",
       "      <td>4.87</td>\n",
       "      <td>...</td>\n",
       "      <td>0.10</td>\n",
       "      <td>0.04</td>\n",
       "      <td>0.11</td>\n",
       "      <td>0.020000</td>\n",
       "      <td>0.03</td>\n",
       "      <td>0.010000</td>\n",
       "      <td>0.75</td>\n",
       "      <td>0.11</td>\n",
       "      <td>0.17</td>\n",
       "      <td>WA_grey</td>\n",
       "    </tr>\n",
       "    <tr>\n",
       "      <th>1080</th>\n",
       "      <td>191_AC_1</td>\n",
       "      <td>Superficial</td>\n",
       "      <td>NaN</td>\n",
       "      <td>WA_grey</td>\n",
       "      <td>AC</td>\n",
       "      <td>AC</td>\n",
       "      <td>NaN</td>\n",
       "      <td>AC</td>\n",
       "      <td>AC_1</td>\n",
       "      <td>2.66</td>\n",
       "      <td>...</td>\n",
       "      <td>0.12</td>\n",
       "      <td>0.02</td>\n",
       "      <td>0.07</td>\n",
       "      <td>0.020000</td>\n",
       "      <td>0.02</td>\n",
       "      <td>0.030000</td>\n",
       "      <td>0.55</td>\n",
       "      <td>0.12</td>\n",
       "      <td>0.19</td>\n",
       "      <td>WA_grey</td>\n",
       "    </tr>\n",
       "    <tr>\n",
       "      <th>1081</th>\n",
       "      <td>192_AC_2</td>\n",
       "      <td>Superficial</td>\n",
       "      <td>NaN</td>\n",
       "      <td>WA_black</td>\n",
       "      <td>AC</td>\n",
       "      <td>AC</td>\n",
       "      <td>NaN</td>\n",
       "      <td>AC</td>\n",
       "      <td>AC_2</td>\n",
       "      <td>1.72</td>\n",
       "      <td>...</td>\n",
       "      <td>0.11</td>\n",
       "      <td>0.01</td>\n",
       "      <td>0.04</td>\n",
       "      <td>0.010000</td>\n",
       "      <td>0.02</td>\n",
       "      <td>0.010000</td>\n",
       "      <td>0.49</td>\n",
       "      <td>0.05</td>\n",
       "      <td>0.28</td>\n",
       "      <td>WA_black</td>\n",
       "    </tr>\n",
       "    <tr>\n",
       "      <th>1082</th>\n",
       "      <td>193_AC_2</td>\n",
       "      <td>Superficial</td>\n",
       "      <td>NaN</td>\n",
       "      <td>WA_black</td>\n",
       "      <td>AC</td>\n",
       "      <td>AC</td>\n",
       "      <td>NaN</td>\n",
       "      <td>AC</td>\n",
       "      <td>AC_2</td>\n",
       "      <td>1.92</td>\n",
       "      <td>...</td>\n",
       "      <td>0.10</td>\n",
       "      <td>0.02</td>\n",
       "      <td>0.08</td>\n",
       "      <td>0.020000</td>\n",
       "      <td>0.04</td>\n",
       "      <td>0.020000</td>\n",
       "      <td>0.33</td>\n",
       "      <td>0.08</td>\n",
       "      <td>0.31</td>\n",
       "      <td>WA_black</td>\n",
       "    </tr>\n",
       "  </tbody>\n",
       "</table>\n",
       "<p>5 rows × 63 columns</p>\n",
       "</div>"
      ],
      "text/plain": [
       "      Analysis      Geology Province    Region Site SubSite Formation Band  \\\n",
       "1078  189_AC_1  Superficial      NaN   WA_grey   AC      AC       NaN   AC   \n",
       "1079  190_AC_1  Superficial      NaN   WA_grey   AC      AC       NaN   AC   \n",
       "1080  191_AC_1  Superficial      NaN   WA_grey   AC      AC       NaN   AC   \n",
       "1081  192_AC_2  Superficial      NaN  WA_black   AC      AC       NaN   AC   \n",
       "1082  193_AC_2  Superficial      NaN  WA_black   AC      AC       NaN   AC   \n",
       "\n",
       "     Nodule   Li7  ...  Er166  Tm169  Yb172     Lu175  Hf178     Ta181  Pb208  \\\n",
       "1078   AC_1  5.47  ...   0.35   0.07   0.23  0.023009   0.17  0.021065   0.87   \n",
       "1079   AC_1  4.87  ...   0.10   0.04   0.11  0.020000   0.03  0.010000   0.75   \n",
       "1080   AC_1  2.66  ...   0.12   0.02   0.07  0.020000   0.02  0.030000   0.55   \n",
       "1081   AC_2  1.72  ...   0.11   0.01   0.04  0.010000   0.02  0.010000   0.49   \n",
       "1082   AC_2  1.92  ...   0.10   0.02   0.08  0.020000   0.04  0.020000   0.33   \n",
       "\n",
       "      Th232  U238     class  \n",
       "1078   0.28  0.55   WA_grey  \n",
       "1079   0.11  0.17   WA_grey  \n",
       "1080   0.12  0.19   WA_grey  \n",
       "1081   0.05  0.28  WA_black  \n",
       "1082   0.08  0.31  WA_black  \n",
       "\n",
       "[5 rows x 63 columns]"
      ]
     },
     "execution_count": 11,
     "metadata": {},
     "output_type": "execute_result"
    }
   ],
   "source": [
    "X.head()"
   ]
  },
  {
   "cell_type": "code",
   "execution_count": 12,
   "metadata": {},
   "outputs": [],
   "source": [
    "X_CR = X.iloc[:,9:-1]"
   ]
  },
  {
   "cell_type": "code",
   "execution_count": 13,
   "metadata": {},
   "outputs": [
    {
     "data": {
      "text/html": [
       "<div>\n",
       "<style scoped>\n",
       "    .dataframe tbody tr th:only-of-type {\n",
       "        vertical-align: middle;\n",
       "    }\n",
       "\n",
       "    .dataframe tbody tr th {\n",
       "        vertical-align: top;\n",
       "    }\n",
       "\n",
       "    .dataframe thead th {\n",
       "        text-align: right;\n",
       "    }\n",
       "</style>\n",
       "<table border=\"1\" class=\"dataframe\">\n",
       "  <thead>\n",
       "    <tr style=\"text-align: right;\">\n",
       "      <th></th>\n",
       "      <th>Li7</th>\n",
       "      <th>Be9</th>\n",
       "      <th>B11</th>\n",
       "      <th>Mg24</th>\n",
       "      <th>Al27</th>\n",
       "      <th>Si28</th>\n",
       "      <th>P31</th>\n",
       "      <th>S33</th>\n",
       "      <th>K39</th>\n",
       "      <th>Ca42</th>\n",
       "      <th>...</th>\n",
       "      <th>Ho165</th>\n",
       "      <th>Er166</th>\n",
       "      <th>Tm169</th>\n",
       "      <th>Yb172</th>\n",
       "      <th>Lu175</th>\n",
       "      <th>Hf178</th>\n",
       "      <th>Ta181</th>\n",
       "      <th>Pb208</th>\n",
       "      <th>Th232</th>\n",
       "      <th>U238</th>\n",
       "    </tr>\n",
       "  </thead>\n",
       "  <tbody>\n",
       "    <tr>\n",
       "      <th>1078</th>\n",
       "      <td>5.47</td>\n",
       "      <td>0.28</td>\n",
       "      <td>82.67</td>\n",
       "      <td>30.52</td>\n",
       "      <td>1127.73</td>\n",
       "      <td>464217.25</td>\n",
       "      <td>100.84</td>\n",
       "      <td>882.65</td>\n",
       "      <td>704.45</td>\n",
       "      <td>609.64</td>\n",
       "      <td>...</td>\n",
       "      <td>0.13</td>\n",
       "      <td>0.35</td>\n",
       "      <td>0.07</td>\n",
       "      <td>0.23</td>\n",
       "      <td>0.023009</td>\n",
       "      <td>0.17</td>\n",
       "      <td>0.021065</td>\n",
       "      <td>0.87</td>\n",
       "      <td>0.28</td>\n",
       "      <td>0.55</td>\n",
       "    </tr>\n",
       "    <tr>\n",
       "      <th>1079</th>\n",
       "      <td>4.87</td>\n",
       "      <td>0.18</td>\n",
       "      <td>44.27</td>\n",
       "      <td>9.18</td>\n",
       "      <td>292.65</td>\n",
       "      <td>465474.58</td>\n",
       "      <td>117.19</td>\n",
       "      <td>877.98</td>\n",
       "      <td>246.35</td>\n",
       "      <td>341.43</td>\n",
       "      <td>...</td>\n",
       "      <td>0.09</td>\n",
       "      <td>0.10</td>\n",
       "      <td>0.04</td>\n",
       "      <td>0.11</td>\n",
       "      <td>0.020000</td>\n",
       "      <td>0.03</td>\n",
       "      <td>0.010000</td>\n",
       "      <td>0.75</td>\n",
       "      <td>0.11</td>\n",
       "      <td>0.17</td>\n",
       "    </tr>\n",
       "    <tr>\n",
       "      <th>1080</th>\n",
       "      <td>2.66</td>\n",
       "      <td>0.29</td>\n",
       "      <td>74.72</td>\n",
       "      <td>13.19</td>\n",
       "      <td>315.12</td>\n",
       "      <td>465305.69</td>\n",
       "      <td>118.52</td>\n",
       "      <td>935.80</td>\n",
       "      <td>280.04</td>\n",
       "      <td>405.85</td>\n",
       "      <td>...</td>\n",
       "      <td>0.07</td>\n",
       "      <td>0.12</td>\n",
       "      <td>0.02</td>\n",
       "      <td>0.07</td>\n",
       "      <td>0.020000</td>\n",
       "      <td>0.02</td>\n",
       "      <td>0.030000</td>\n",
       "      <td>0.55</td>\n",
       "      <td>0.12</td>\n",
       "      <td>0.19</td>\n",
       "    </tr>\n",
       "    <tr>\n",
       "      <th>1081</th>\n",
       "      <td>1.72</td>\n",
       "      <td>0.27</td>\n",
       "      <td>84.32</td>\n",
       "      <td>12.82</td>\n",
       "      <td>313.51</td>\n",
       "      <td>465351.08</td>\n",
       "      <td>142.16</td>\n",
       "      <td>981.65</td>\n",
       "      <td>308.10</td>\n",
       "      <td>142.38</td>\n",
       "      <td>...</td>\n",
       "      <td>0.03</td>\n",
       "      <td>0.11</td>\n",
       "      <td>0.01</td>\n",
       "      <td>0.04</td>\n",
       "      <td>0.010000</td>\n",
       "      <td>0.02</td>\n",
       "      <td>0.010000</td>\n",
       "      <td>0.49</td>\n",
       "      <td>0.05</td>\n",
       "      <td>0.28</td>\n",
       "    </tr>\n",
       "    <tr>\n",
       "      <th>1082</th>\n",
       "      <td>1.92</td>\n",
       "      <td>0.21</td>\n",
       "      <td>91.56</td>\n",
       "      <td>13.90</td>\n",
       "      <td>336.84</td>\n",
       "      <td>465425.53</td>\n",
       "      <td>152.84</td>\n",
       "      <td>990.72</td>\n",
       "      <td>296.18</td>\n",
       "      <td>117.47</td>\n",
       "      <td>...</td>\n",
       "      <td>0.06</td>\n",
       "      <td>0.10</td>\n",
       "      <td>0.02</td>\n",
       "      <td>0.08</td>\n",
       "      <td>0.020000</td>\n",
       "      <td>0.04</td>\n",
       "      <td>0.020000</td>\n",
       "      <td>0.33</td>\n",
       "      <td>0.08</td>\n",
       "      <td>0.31</td>\n",
       "    </tr>\n",
       "  </tbody>\n",
       "</table>\n",
       "<p>5 rows × 53 columns</p>\n",
       "</div>"
      ],
      "text/plain": [
       "       Li7   Be9    B11   Mg24     Al27       Si28     P31     S33     K39  \\\n",
       "1078  5.47  0.28  82.67  30.52  1127.73  464217.25  100.84  882.65  704.45   \n",
       "1079  4.87  0.18  44.27   9.18   292.65  465474.58  117.19  877.98  246.35   \n",
       "1080  2.66  0.29  74.72  13.19   315.12  465305.69  118.52  935.80  280.04   \n",
       "1081  1.72  0.27  84.32  12.82   313.51  465351.08  142.16  981.65  308.10   \n",
       "1082  1.92  0.21  91.56  13.90   336.84  465425.53  152.84  990.72  296.18   \n",
       "\n",
       "        Ca42  ...  Ho165  Er166  Tm169  Yb172     Lu175  Hf178     Ta181  \\\n",
       "1078  609.64  ...   0.13   0.35   0.07   0.23  0.023009   0.17  0.021065   \n",
       "1079  341.43  ...   0.09   0.10   0.04   0.11  0.020000   0.03  0.010000   \n",
       "1080  405.85  ...   0.07   0.12   0.02   0.07  0.020000   0.02  0.030000   \n",
       "1081  142.38  ...   0.03   0.11   0.01   0.04  0.010000   0.02  0.010000   \n",
       "1082  117.47  ...   0.06   0.10   0.02   0.08  0.020000   0.04  0.020000   \n",
       "\n",
       "      Pb208  Th232  U238  \n",
       "1078   0.87   0.28  0.55  \n",
       "1079   0.75   0.11  0.17  \n",
       "1080   0.55   0.12  0.19  \n",
       "1081   0.49   0.05  0.28  \n",
       "1082   0.33   0.08  0.31  \n",
       "\n",
       "[5 rows x 53 columns]"
      ]
     },
     "execution_count": 13,
     "metadata": {},
     "output_type": "execute_result"
    }
   ],
   "source": [
    "X_CR.head()"
   ]
  },
  {
   "cell_type": "markdown",
   "metadata": {},
   "source": [
    "## Select only best feats (derived from RFE from PhD)"
   ]
  },
  {
   "cell_type": "code",
   "execution_count": 14,
   "metadata": {},
   "outputs": [],
   "source": [
    "best_feats = ['Zr90', 'Ba137', 'Sr88', 'Ge72', 'Cr52', 'S33', 'U238', 'Al27', 'B11', 'Mg24', 'Nd146', 'Sc45', 'K39', 'Pr141', 'Li7']"
   ]
  },
  {
   "cell_type": "code",
   "execution_count": 90,
   "metadata": {},
   "outputs": [
    {
     "name": "stdout",
     "output_type": "stream",
     "text": [
      "15\n"
     ]
    }
   ],
   "source": [
    "print(len(best_feats))"
   ]
  },
  {
   "cell_type": "code",
   "execution_count": 15,
   "metadata": {},
   "outputs": [],
   "source": [
    "X_CR = X_CR[X_CR.columns.intersection(best_feats)]"
   ]
  },
  {
   "cell_type": "code",
   "execution_count": 16,
   "metadata": {},
   "outputs": [
    {
     "data": {
      "text/html": [
       "<div>\n",
       "<style scoped>\n",
       "    .dataframe tbody tr th:only-of-type {\n",
       "        vertical-align: middle;\n",
       "    }\n",
       "\n",
       "    .dataframe tbody tr th {\n",
       "        vertical-align: top;\n",
       "    }\n",
       "\n",
       "    .dataframe thead th {\n",
       "        text-align: right;\n",
       "    }\n",
       "</style>\n",
       "<table border=\"1\" class=\"dataframe\">\n",
       "  <thead>\n",
       "    <tr style=\"text-align: right;\">\n",
       "      <th></th>\n",
       "      <th>Li7</th>\n",
       "      <th>B11</th>\n",
       "      <th>Mg24</th>\n",
       "      <th>Al27</th>\n",
       "      <th>S33</th>\n",
       "      <th>K39</th>\n",
       "      <th>Sc45</th>\n",
       "      <th>Cr52</th>\n",
       "      <th>Ge72</th>\n",
       "      <th>Sr88</th>\n",
       "      <th>Zr90</th>\n",
       "      <th>Ba137</th>\n",
       "      <th>Pr141</th>\n",
       "      <th>Nd146</th>\n",
       "      <th>U238</th>\n",
       "    </tr>\n",
       "  </thead>\n",
       "  <tbody>\n",
       "    <tr>\n",
       "      <th>1078</th>\n",
       "      <td>5.47</td>\n",
       "      <td>82.67</td>\n",
       "      <td>30.52</td>\n",
       "      <td>1127.73</td>\n",
       "      <td>882.65</td>\n",
       "      <td>704.45</td>\n",
       "      <td>1.06</td>\n",
       "      <td>7.45</td>\n",
       "      <td>1.13</td>\n",
       "      <td>4.34</td>\n",
       "      <td>0.79</td>\n",
       "      <td>2.21</td>\n",
       "      <td>0.55</td>\n",
       "      <td>1.81</td>\n",
       "      <td>0.55</td>\n",
       "    </tr>\n",
       "    <tr>\n",
       "      <th>1079</th>\n",
       "      <td>4.87</td>\n",
       "      <td>44.27</td>\n",
       "      <td>9.18</td>\n",
       "      <td>292.65</td>\n",
       "      <td>877.98</td>\n",
       "      <td>246.35</td>\n",
       "      <td>0.64</td>\n",
       "      <td>6.98</td>\n",
       "      <td>0.75</td>\n",
       "      <td>3.12</td>\n",
       "      <td>0.68</td>\n",
       "      <td>1.23</td>\n",
       "      <td>0.38</td>\n",
       "      <td>1.34</td>\n",
       "      <td>0.17</td>\n",
       "    </tr>\n",
       "    <tr>\n",
       "      <th>1080</th>\n",
       "      <td>2.66</td>\n",
       "      <td>74.72</td>\n",
       "      <td>13.19</td>\n",
       "      <td>315.12</td>\n",
       "      <td>935.80</td>\n",
       "      <td>280.04</td>\n",
       "      <td>0.48</td>\n",
       "      <td>7.35</td>\n",
       "      <td>0.86</td>\n",
       "      <td>4.14</td>\n",
       "      <td>1.45</td>\n",
       "      <td>2.29</td>\n",
       "      <td>0.50</td>\n",
       "      <td>1.82</td>\n",
       "      <td>0.19</td>\n",
       "    </tr>\n",
       "    <tr>\n",
       "      <th>1081</th>\n",
       "      <td>1.72</td>\n",
       "      <td>84.32</td>\n",
       "      <td>12.82</td>\n",
       "      <td>313.51</td>\n",
       "      <td>981.65</td>\n",
       "      <td>308.10</td>\n",
       "      <td>0.40</td>\n",
       "      <td>7.11</td>\n",
       "      <td>0.97</td>\n",
       "      <td>4.30</td>\n",
       "      <td>0.78</td>\n",
       "      <td>1.00</td>\n",
       "      <td>0.29</td>\n",
       "      <td>1.16</td>\n",
       "      <td>0.28</td>\n",
       "    </tr>\n",
       "    <tr>\n",
       "      <th>1082</th>\n",
       "      <td>1.92</td>\n",
       "      <td>91.56</td>\n",
       "      <td>13.90</td>\n",
       "      <td>336.84</td>\n",
       "      <td>990.72</td>\n",
       "      <td>296.18</td>\n",
       "      <td>0.54</td>\n",
       "      <td>7.03</td>\n",
       "      <td>1.26</td>\n",
       "      <td>4.42</td>\n",
       "      <td>0.94</td>\n",
       "      <td>1.26</td>\n",
       "      <td>0.33</td>\n",
       "      <td>1.24</td>\n",
       "      <td>0.31</td>\n",
       "    </tr>\n",
       "  </tbody>\n",
       "</table>\n",
       "</div>"
      ],
      "text/plain": [
       "       Li7    B11   Mg24     Al27     S33     K39  Sc45  Cr52  Ge72  Sr88  \\\n",
       "1078  5.47  82.67  30.52  1127.73  882.65  704.45  1.06  7.45  1.13  4.34   \n",
       "1079  4.87  44.27   9.18   292.65  877.98  246.35  0.64  6.98  0.75  3.12   \n",
       "1080  2.66  74.72  13.19   315.12  935.80  280.04  0.48  7.35  0.86  4.14   \n",
       "1081  1.72  84.32  12.82   313.51  981.65  308.10  0.40  7.11  0.97  4.30   \n",
       "1082  1.92  91.56  13.90   336.84  990.72  296.18  0.54  7.03  1.26  4.42   \n",
       "\n",
       "      Zr90  Ba137  Pr141  Nd146  U238  \n",
       "1078  0.79   2.21   0.55   1.81  0.55  \n",
       "1079  0.68   1.23   0.38   1.34  0.17  \n",
       "1080  1.45   2.29   0.50   1.82  0.19  \n",
       "1081  0.78   1.00   0.29   1.16  0.28  \n",
       "1082  0.94   1.26   0.33   1.24  0.31  "
      ]
     },
     "execution_count": 16,
     "metadata": {},
     "output_type": "execute_result"
    }
   ],
   "source": [
    "X_CR.head()"
   ]
  },
  {
   "cell_type": "code",
   "execution_count": 188,
   "metadata": {},
   "outputs": [
    {
     "data": {
      "text/plain": [
       "<AxesSubplot:xlabel='B11', ylabel='Al27'>"
      ]
     },
     "execution_count": 188,
     "metadata": {},
     "output_type": "execute_result"
    },
    {
     "data": {
      "image/png": "[encoded data removed]",
      "text/plain": [
       "<Figure size 640x480 with 1 Axes>"
      ]
     },
     "metadata": {},
     "output_type": "display_data"
    }
   ],
   "source": [
    "from sklearn.cluster import SpectralClustering\n",
    "import matplotlib.pyplot as plt\n",
    "import seaborn as sns\n",
    "\n",
    "model = SpectralClustering(n_clusters=2, \n",
    "                           affinity='nearest_neighbors', \n",
    "                           assign_labels='kmeans')\n",
    "labels = model.fit_predict(X_CR)\n",
    "#plt.scatter(X_CR.iloc[:, 1], X_CR.iloc[:, 2])#, c=labels, s=50, cmap='viridis');\n",
    "sns.scatterplot(x=X_CR.iloc[:, 1], y=X_CR.iloc[:, 3], hue=labels)"
   ]
  },
  {
   "cell_type": "markdown",
   "metadata": {},
   "source": [
    "##### import plotly.express as px"
   ]
  },
  {
   "cell_type": "code",
   "execution_count": 201,
   "metadata": {},
   "outputs": [
    {
     "data": {
      "application/vnd.plotly.v1+json": {
       "config": {
        "plotlyServerURL": "https://plot.ly"
       },
       "data": [
        {
         "hovertemplate": "color=WA_grey<br>symbol=WA_grey<br>x=%{x}<br>y=%{y}<br>z=%{z}<extra></extra>",
         "legendgroup": "WA_grey, WA_grey",
         "marker": {
          "color": "#2E91E5",
          "symbol": "circle"
         },
         "mode": "markers",
         "name": "WA_grey, WA_grey",
         "scene": "scene",
         "showlegend": true,
         "type": "scatter3d",
         "x": [
          82.67,
          44.27,
          74.72,
          74.21,
          72.78,
          70.53,
          88.85,
          86.85,
          81.01,
          74.93,
          75.46,
          81.86,
          53.08,
          64.16,
          54.61,
          68.83,
          54.93,
          59.67,
          102.61,
          95.46,
          89.07,
          74.15,
          69.69,
          73.24,
          81.16,
          95.01,
          89.7,
          56.22,
          50.04,
          53.5,
          61.42,
          71.17,
          73.06,
          76.4,
          70.73620370370371,
          46.03,
          64.63,
          72.05,
          96.93,
          73.04,
          56.92,
          68.26,
          73.58,
          78.97,
          76.59,
          81.71,
          85,
          89.88,
          65.53,
          77.11,
          61.12,
          74.1,
          67.55,
          69.24
         ],
         "y": [
          1127.73,
          292.65,
          315.12,
          356.82,
          300.26,
          326.86,
          406.65,
          337.57,
          293.21,
          503.49,
          335.85,
          415.52,
          347.23,
          324.18,
          353.7,
          228.32,
          834.29,
          642.68,
          434.62,
          425.76,
          445.63,
          529.58,
          511.88,
          470.44,
          409.47,
          436.07,
          495.88,
          478.84,
          640.43,
          497.96,
          497.88,
          405.36,
          400.37,
          414.53,
          365.27,
          365.2,
          709.54,
          439.73,
          230.27,
          333.26,
          348.75,
          324.17,
          354.63,
          333.01,
          294.64,
          396.13,
          325.8,
          431.91,
          564.46,
          532.96,
          559.81,
          469.28,
          450.07,
          445.7
         ],
         "z": [
          4.34,
          3.12,
          4.14,
          5.83,
          4.52,
          4.11,
          2.71,
          3.21,
          2.72,
          3.13,
          2.71,
          2.99,
          1.13,
          1.32,
          1.29,
          3.26,
          4.75,
          4,
          2.38,
          2.4,
          2.62,
          3.11,
          2.71,
          2.86,
          2.49,
          2.32,
          2.49,
          2.15,
          2.99,
          2.53,
          3.43,
          2.71,
          2.96,
          2.84,
          1.25,
          1.91,
          4.4,
          4.47,
          2.04,
          4.17,
          5.45,
          2.76,
          2.4,
          2.13,
          2.43,
          1.9,
          2.71,
          2.1,
          3.5638425925925934,
          5.63,
          3.5638425925925934,
          3.4,
          3.78,
          3.83
         ]
        },
        {
         "hovertemplate": "color=WA_black<br>symbol=WA_black<br>x=%{x}<br>y=%{y}<br>z=%{z}<extra></extra>",
         "legendgroup": "WA_black, WA_black",
         "marker": {
          "color": "#E15F99",
          "symbol": "diamond"
         },
         "mode": "markers",
         "name": "WA_black, WA_black",
         "scene": "scene",
         "showlegend": true,
         "type": "scatter3d",
         "x": [
          84.32,
          91.56,
          86.63,
          78.51,
          82.24,
          81.16,
          95.52,
          92.4,
          97.64,
          92.72,
          90.68,
          90.98,
          60.29,
          65.13,
          54.95,
          66.37,
          70.44,
          69.27,
          70.73620370370371,
          98.56,
          70.73620370370371,
          84.13,
          93.69,
          87.43,
          58.8,
          55.09,
          48.03,
          87.27,
          74.53,
          89.52,
          50.9,
          54.13,
          59.91,
          85.2,
          80.5,
          82.28,
          72.69,
          69.4,
          65.94,
          97.32,
          98.9,
          93.7,
          82.6,
          81.82,
          84.79,
          77.87,
          88.25,
          73.09,
          84.86,
          77.97,
          85.63
         ],
         "y": [
          313.51,
          336.84,
          394.94,
          930.68,
          850.5,
          839.87,
          818,
          909.96,
          680.26,
          302.97,
          319.06,
          294.27,
          598.5439814814816,
          598.5439814814816,
          598.5439814814816,
          543.92,
          395.96,
          421.25,
          355.73,
          406.22,
          611.9,
          568.42,
          409.66,
          406.43,
          454.17,
          560.54,
          681.09,
          316.43,
          308.99,
          378.61,
          957.45,
          963.64,
          993.2,
          390.86,
          380.55,
          357.87,
          591.47,
          727.67,
          709.87,
          209.03,
          239.29,
          239.57,
          238.35,
          254.01,
          267.79,
          925.97,
          691.4,
          757.9,
          420.6,
          416.04,
          402.95
         ],
         "z": [
          4.3,
          4.42,
          4.28,
          3.85,
          3.5638425925925934,
          3.97,
          6.55,
          5.2,
          4.63,
          3.53,
          3.06,
          8.54,
          4.76,
          4,
          6.22,
          3.37,
          3.04,
          2.74,
          4.61,
          3.95,
          5.06,
          4.77,
          4.67,
          4.69,
          1.79,
          2.6,
          4.01,
          3.87,
          4.07,
          4.21,
          5.61,
          5.33,
          6.01,
          3.66,
          3.65,
          3.38,
          3.57,
          3.57,
          3.2,
          3.65,
          3.54,
          3.47,
          3.6,
          3.39,
          3.47,
          5.26,
          3.21,
          3.01,
          4.81,
          5.45,
          4.83
         ]
        }
       ],
       "layout": {
        "autosize": true,
        "legend": {
         "title": {
          "text": "color, symbol"
         },
         "tracegroupgap": 0
        },
        "margin": {
         "t": 60
        },
        "scene": {
         "aspectmode": "auto",
         "aspectratio": {
          "x": 1,
          "y": 1,
          "z": 1
         },
         "camera": {
          "center": {
           "x": 0,
           "y": 0,
           "z": 0
          },
          "eye": {
           "x": 2.362292190194936,
           "y": 0.11084757404868287,
           "z": 0.988854608059593
          },
          "projection": {
           "type": "perspective"
          },
          "up": {
           "x": 0,
           "y": 0,
           "z": 1
          }
         },
         "domain": {
          "x": [
           0,
           1
          ],
          "y": [
           0,
           1
          ]
         },
         "xaxis": {
          "title": {
           "text": "x"
          },
          "type": "linear"
         },
         "yaxis": {
          "title": {
           "text": "y"
          },
          "type": "linear"
         },
         "zaxis": {
          "title": {
           "text": "z"
          },
          "type": "linear"
         }
        },
        "template": {
         "data": {
          "bar": [
           {
            "error_x": {
             "color": "#2a3f5f"
            },
            "error_y": {
             "color": "#2a3f5f"
            },
            "marker": {
             "line": {
              "color": "#E5ECF6",
              "width": 0.5
             },
             "pattern": {
              "fillmode": "overlay",
              "size": 10,
              "solidity": 0.2
             }
            },
            "type": "bar"
           }
          ],
          "barpolar": [
           {
            "marker": {
             "line": {
              "color": "#E5ECF6",
              "width": 0.5
             },
             "pattern": {
              "fillmode": "overlay",
              "size": 10,
              "solidity": 0.2
             }
            },
            "type": "barpolar"
           }
          ],
          "carpet": [
           {
            "aaxis": {
             "endlinecolor": "#2a3f5f",
             "gridcolor": "white",
             "linecolor": "white",
             "minorgridcolor": "white",
             "startlinecolor": "#2a3f5f"
            },
            "baxis": {
             "endlinecolor": "#2a3f5f",
             "gridcolor": "white",
             "linecolor": "white",
             "minorgridcolor": "white",
             "startlinecolor": "#2a3f5f"
            },
            "type": "carpet"
           }
          ],
          "choropleth": [
           {
            "colorbar": {
             "outlinewidth": 0,
             "ticks": ""
            },
            "type": "choropleth"
           }
          ],
          "contour": [
           {
            "colorbar": {
             "outlinewidth": 0,
             "ticks": ""
            },
            "colorscale": [
             [
              0,
              "#0d0887"
             ],
             [
              0.1111111111111111,
              "#46039f"
             ],
             [
              0.2222222222222222,
              "#7201a8"
             ],
             [
              0.3333333333333333,
              "#9c179e"
             ],
             [
              0.4444444444444444,
              "#bd3786"
             ],
             [
              0.5555555555555556,
              "#d8576b"
             ],
             [
              0.6666666666666666,
              "#ed7953"
             ],
             [
              0.7777777777777778,
              "#fb9f3a"
             ],
             [
              0.8888888888888888,
              "#fdca26"
             ],
             [
              1,
              "#f0f921"
             ]
            ],
            "type": "contour"
           }
          ],
          "contourcarpet": [
           {
            "colorbar": {
             "outlinewidth": 0,
             "ticks": ""
            },
            "type": "contourcarpet"
           }
          ],
          "heatmap": [
           {
            "colorbar": {
             "outlinewidth": 0,
             "ticks": ""
            },
            "colorscale": [
             [
              0,
              "#0d0887"
             ],
             [
              0.1111111111111111,
              "#46039f"
             ],
             [
              0.2222222222222222,
              "#7201a8"
             ],
             [
              0.3333333333333333,
              "#9c179e"
             ],
             [
              0.4444444444444444,
              "#bd3786"
             ],
             [
              0.5555555555555556,
              "#d8576b"
             ],
             [
              0.6666666666666666,
              "#ed7953"
             ],
             [
              0.7777777777777778,
              "#fb9f3a"
             ],
             [
              0.8888888888888888,
              "#fdca26"
             ],
             [
              1,
              "#f0f921"
             ]
            ],
            "type": "heatmap"
           }
          ],
          "heatmapgl": [
           {
            "colorbar": {
             "outlinewidth": 0,
             "ticks": ""
            },
            "colorscale": [
             [
              0,
              "#0d0887"
             ],
             [
              0.1111111111111111,
              "#46039f"
             ],
             [
              0.2222222222222222,
              "#7201a8"
             ],
             [
              0.3333333333333333,
              "#9c179e"
             ],
             [
              0.4444444444444444,
              "#bd3786"
             ],
             [
              0.5555555555555556,
              "#d8576b"
             ],
             [
              0.6666666666666666,
              "#ed7953"
             ],
             [
              0.7777777777777778,
              "#fb9f3a"
             ],
             [
              0.8888888888888888,
              "#fdca26"
             ],
             [
              1,
              "#f0f921"
             ]
            ],
            "type": "heatmapgl"
           }
          ],
          "histogram": [
           {
            "marker": {
             "pattern": {
              "fillmode": "overlay",
              "size": 10,
              "solidity": 0.2
             }
            },
            "type": "histogram"
           }
          ],
          "histogram2d": [
           {
            "colorbar": {
             "outlinewidth": 0,
             "ticks": ""
            },
            "colorscale": [
             [
              0,
              "#0d0887"
             ],
             [
              0.1111111111111111,
              "#46039f"
             ],
             [
              0.2222222222222222,
              "#7201a8"
             ],
             [
              0.3333333333333333,
              "#9c179e"
             ],
             [
              0.4444444444444444,
              "#bd3786"
             ],
             [
              0.5555555555555556,
              "#d8576b"
             ],
             [
              0.6666666666666666,
              "#ed7953"
             ],
             [
              0.7777777777777778,
              "#fb9f3a"
             ],
             [
              0.8888888888888888,
              "#fdca26"
             ],
             [
              1,
              "#f0f921"
             ]
            ],
            "type": "histogram2d"
           }
          ],
          "histogram2dcontour": [
           {
            "colorbar": {
             "outlinewidth": 0,
             "ticks": ""
            },
            "colorscale": [
             [
              0,
              "#0d0887"
             ],
             [
              0.1111111111111111,
              "#46039f"
             ],
             [
              0.2222222222222222,
              "#7201a8"
             ],
             [
              0.3333333333333333,
              "#9c179e"
             ],
             [
              0.4444444444444444,
              "#bd3786"
             ],
             [
              0.5555555555555556,
              "#d8576b"
             ],
             [
              0.6666666666666666,
              "#ed7953"
             ],
             [
              0.7777777777777778,
              "#fb9f3a"
             ],
             [
              0.8888888888888888,
              "#fdca26"
             ],
             [
              1,
              "#f0f921"
             ]
            ],
            "type": "histogram2dcontour"
           }
          ],
          "mesh3d": [
           {
            "colorbar": {
             "outlinewidth": 0,
             "ticks": ""
            },
            "type": "mesh3d"
           }
          ],
          "parcoords": [
           {
            "line": {
             "colorbar": {
              "outlinewidth": 0,
              "ticks": ""
             }
            },
            "type": "parcoords"
           }
          ],
          "pie": [
           {
            "automargin": true,
            "type": "pie"
           }
          ],
          "scatter": [
           {
            "fillpattern": {
             "fillmode": "overlay",
             "size": 10,
             "solidity": 0.2
            },
            "type": "scatter"
           }
          ],
          "scatter3d": [
           {
            "line": {
             "colorbar": {
              "outlinewidth": 0,
              "ticks": ""
             }
            },
            "marker": {
             "colorbar": {
              "outlinewidth": 0,
              "ticks": ""
             }
            },
            "type": "scatter3d"
           }
          ],
          "scattercarpet": [
           {
            "marker": {
             "colorbar": {
              "outlinewidth": 0,
              "ticks": ""
             }
            },
            "type": "scattercarpet"
           }
          ],
          "scattergeo": [
           {
            "marker": {
             "colorbar": {
              "outlinewidth": 0,
              "ticks": ""
             }
            },
            "type": "scattergeo"
           }
          ],
          "scattergl": [
           {
            "marker": {
             "colorbar": {
              "outlinewidth": 0,
              "ticks": ""
             }
            },
            "type": "scattergl"
           }
          ],
          "scattermapbox": [
           {
            "marker": {
             "colorbar": {
              "outlinewidth": 0,
              "ticks": ""
             }
            },
            "type": "scattermapbox"
           }
          ],
          "scatterpolar": [
           {
            "marker": {
             "colorbar": {
              "outlinewidth": 0,
              "ticks": ""
             }
            },
            "type": "scatterpolar"
           }
          ],
          "scatterpolargl": [
           {
            "marker": {
             "colorbar": {
              "outlinewidth": 0,
              "ticks": ""
             }
            },
            "type": "scatterpolargl"
           }
          ],
          "scatterternary": [
           {
            "marker": {
             "colorbar": {
              "outlinewidth": 0,
              "ticks": ""
             }
            },
            "type": "scatterternary"
           }
          ],
          "surface": [
           {
            "colorbar": {
             "outlinewidth": 0,
             "ticks": ""
            },
            "colorscale": [
             [
              0,
              "#0d0887"
             ],
             [
              0.1111111111111111,
              "#46039f"
             ],
             [
              0.2222222222222222,
              "#7201a8"
             ],
             [
              0.3333333333333333,
              "#9c179e"
             ],
             [
              0.4444444444444444,
              "#bd3786"
             ],
             [
              0.5555555555555556,
              "#d8576b"
             ],
             [
              0.6666666666666666,
              "#ed7953"
             ],
             [
              0.7777777777777778,
              "#fb9f3a"
             ],
             [
              0.8888888888888888,
              "#fdca26"
             ],
             [
              1,
              "#f0f921"
             ]
            ],
            "type": "surface"
           }
          ],
          "table": [
           {
            "cells": {
             "fill": {
              "color": "#EBF0F8"
             },
             "line": {
              "color": "white"
             }
            },
            "header": {
             "fill": {
              "color": "#C8D4E3"
             },
             "line": {
              "color": "white"
             }
            },
            "type": "table"
           }
          ]
         },
         "layout": {
          "annotationdefaults": {
           "arrowcolor": "#2a3f5f",
           "arrowhead": 0,
           "arrowwidth": 1
          },
          "autotypenumbers": "strict",
          "coloraxis": {
           "colorbar": {
            "outlinewidth": 0,
            "ticks": ""
           }
          },
          "colorscale": {
           "diverging": [
            [
             0,
             "#8e0152"
            ],
            [
             0.1,
             "#c51b7d"
            ],
            [
             0.2,
             "#de77ae"
            ],
            [
             0.3,
             "#f1b6da"
            ],
            [
             0.4,
             "#fde0ef"
            ],
            [
             0.5,
             "#f7f7f7"
            ],
            [
             0.6,
             "#e6f5d0"
            ],
            [
             0.7,
             "#b8e186"
            ],
            [
             0.8,
             "#7fbc41"
            ],
            [
             0.9,
             "#4d9221"
            ],
            [
             1,
             "#276419"
            ]
           ],
           "sequential": [
            [
             0,
             "#0d0887"
            ],
            [
             0.1111111111111111,
             "#46039f"
            ],
            [
             0.2222222222222222,
             "#7201a8"
            ],
            [
             0.3333333333333333,
             "#9c179e"
            ],
            [
             0.4444444444444444,
             "#bd3786"
            ],
            [
             0.5555555555555556,
             "#d8576b"
            ],
            [
             0.6666666666666666,
             "#ed7953"
            ],
            [
             0.7777777777777778,
             "#fb9f3a"
            ],
            [
             0.8888888888888888,
             "#fdca26"
            ],
            [
             1,
             "#f0f921"
            ]
           ],
           "sequentialminus": [
            [
             0,
             "#0d0887"
            ],
            [
             0.1111111111111111,
             "#46039f"
            ],
            [
             0.2222222222222222,
             "#7201a8"
            ],
            [
             0.3333333333333333,
             "#9c179e"
            ],
            [
             0.4444444444444444,
             "#bd3786"
            ],
            [
             0.5555555555555556,
             "#d8576b"
            ],
            [
             0.6666666666666666,
             "#ed7953"
            ],
            [
             0.7777777777777778,
             "#fb9f3a"
            ],
            [
             0.8888888888888888,
             "#fdca26"
            ],
            [
             1,
             "#f0f921"
            ]
           ]
          },
          "colorway": [
           "#636efa",
           "#EF553B",
           "#00cc96",
           "#ab63fa",
           "#FFA15A",
           "#19d3f3",
           "#FF6692",
           "#B6E880",
           "#FF97FF",
           "#FECB52"
          ],
          "font": {
           "color": "#2a3f5f"
          },
          "geo": {
           "bgcolor": "white",
           "lakecolor": "white",
           "landcolor": "#E5ECF6",
           "showlakes": true,
           "showland": true,
           "subunitcolor": "white"
          },
          "hoverlabel": {
           "align": "left"
          },
          "hovermode": "closest",
          "mapbox": {
           "style": "light"
          },
          "paper_bgcolor": "white",
          "plot_bgcolor": "#E5ECF6",
          "polar": {
           "angularaxis": {
            "gridcolor": "white",
            "linecolor": "white",
            "ticks": ""
           },
           "bgcolor": "#E5ECF6",
           "radialaxis": {
            "gridcolor": "white",
            "linecolor": "white",
            "ticks": ""
           }
          },
          "scene": {
           "xaxis": {
            "backgroundcolor": "#E5ECF6",
            "gridcolor": "white",
            "gridwidth": 2,
            "linecolor": "white",
            "showbackground": true,
            "ticks": "",
            "zerolinecolor": "white"
           },
           "yaxis": {
            "backgroundcolor": "#E5ECF6",
            "gridcolor": "white",
            "gridwidth": 2,
            "linecolor": "white",
            "showbackground": true,
            "ticks": "",
            "zerolinecolor": "white"
           },
           "zaxis": {
            "backgroundcolor": "#E5ECF6",
            "gridcolor": "white",
            "gridwidth": 2,
            "linecolor": "white",
            "showbackground": true,
            "ticks": "",
            "zerolinecolor": "white"
           }
          },
          "shapedefaults": {
           "line": {
            "color": "#2a3f5f"
           }
          },
          "ternary": {
           "aaxis": {
            "gridcolor": "white",
            "linecolor": "white",
            "ticks": ""
           },
           "baxis": {
            "gridcolor": "white",
            "linecolor": "white",
            "ticks": ""
           },
           "bgcolor": "#E5ECF6",
           "caxis": {
            "gridcolor": "white",
            "linecolor": "white",
            "ticks": ""
           }
          },
          "title": {
           "x": 0.05
          },
          "xaxis": {
           "automargin": true,
           "gridcolor": "white",
           "linecolor": "white",
           "ticks": "",
           "title": {
            "standoff": 15
           },
           "zerolinecolor": "white",
           "zerolinewidth": 2
          },
          "yaxis": {
           "automargin": true,
           "gridcolor": "white",
           "linecolor": "white",
           "ticks": "",
           "title": {
            "standoff": 15
           },
           "zerolinecolor": "white",
           "zerolinewidth": 2
          }
         }
        }
       }
      },
      "image/png": "[encoded data removed]",
      "text/html": [
       "<div>                            <div id=\"554d932b-efd8-4d4b-aefc-9294f6084248\" class=\"plotly-graph-div\" style=\"height:1000px; width:100%;\"></div>            <script type=\"text/javascript\">                require([\"plotly\"], function(Plotly) {                    window.PLOTLYENV=window.PLOTLYENV || {};                                    if (document.getElementById(\"554d932b-efd8-4d4b-aefc-9294f6084248\")) {                    Plotly.newPlot(                        \"554d932b-efd8-4d4b-aefc-9294f6084248\",                        [{\"hovertemplate\":\"color=WA_grey<br>symbol=WA_grey<br>x=%{x}<br>y=%{y}<br>z=%{z}<extra></extra>\",\"legendgroup\":\"WA_grey, WA_grey\",\"marker\":{\"color\":\"#2E91E5\",\"symbol\":\"circle\"},\"mode\":\"markers\",\"name\":\"WA_grey, WA_grey\",\"scene\":\"scene\",\"showlegend\":true,\"x\":[82.67,44.27,74.72,74.21,72.78,70.53,88.85,86.85,81.01,74.93,75.46,81.86,53.08,64.16,54.61,68.83,54.93,59.67,102.61,95.46,89.07,74.15,69.69,73.24,81.16,95.01,89.7,56.22,50.04,53.5,61.42,71.17,73.06,76.4,70.73620370370371,46.03,64.63,72.05,96.93,73.04,56.92,68.26,73.58,78.97,76.59,81.71,85.0,89.88,65.53,77.11,61.12,74.1,67.55,69.24],\"y\":[1127.73,292.65,315.12,356.82,300.26,326.86,406.65,337.57,293.21,503.49,335.85,415.52,347.23,324.18,353.7,228.32,834.29,642.68,434.62,425.76,445.63,529.58,511.88,470.44,409.47,436.07,495.88,478.84,640.43,497.96,497.88,405.36,400.37,414.53,365.27,365.2,709.54,439.73,230.27,333.26,348.75,324.17,354.63,333.01,294.64,396.13,325.8,431.91,564.46,532.96,559.81,469.28,450.07,445.7],\"z\":[4.34,3.12,4.14,5.83,4.52,4.11,2.71,3.21,2.72,3.13,2.71,2.99,1.13,1.32,1.29,3.26,4.75,4.0,2.38,2.4,2.62,3.11,2.71,2.86,2.49,2.32,2.49,2.15,2.99,2.53,3.43,2.71,2.96,2.84,1.25,1.91,4.4,4.47,2.04,4.17,5.45,2.76,2.4,2.13,2.43,1.9,2.71,2.1,3.5638425925925934,5.63,3.5638425925925934,3.4,3.78,3.83],\"type\":\"scatter3d\"},{\"hovertemplate\":\"color=WA_black<br>symbol=WA_black<br>x=%{x}<br>y=%{y}<br>z=%{z}<extra></extra>\",\"legendgroup\":\"WA_black, WA_black\",\"marker\":{\"color\":\"#E15F99\",\"symbol\":\"diamond\"},\"mode\":\"markers\",\"name\":\"WA_black, WA_black\",\"scene\":\"scene\",\"showlegend\":true,\"x\":[84.32,91.56,86.63,78.51,82.24,81.16,95.52,92.4,97.64,92.72,90.68,90.98,60.29,65.13,54.95,66.37,70.44,69.27,70.73620370370371,98.56,70.73620370370371,84.13,93.69,87.43,58.8,55.09,48.03,87.27,74.53,89.52,50.9,54.13,59.91,85.2,80.5,82.28,72.69,69.4,65.94,97.32,98.9,93.7,82.6,81.82,84.79,77.87,88.25,73.09,84.86,77.97,85.63],\"y\":[313.51,336.84,394.94,930.68,850.5,839.87,818.0,909.96,680.26,302.97,319.06,294.27,598.5439814814816,598.5439814814816,598.5439814814816,543.92,395.96,421.25,355.73,406.22,611.9,568.42,409.66,406.43,454.17,560.54,681.09,316.43,308.99,378.61,957.45,963.64,993.2,390.86,380.55,357.87,591.47,727.67,709.87,209.03,239.29,239.57,238.35,254.01,267.79,925.97,691.4,757.9,420.6,416.04,402.95],\"z\":[4.3,4.42,4.28,3.85,3.5638425925925934,3.97,6.55,5.2,4.63,3.53,3.06,8.54,4.76,4.0,6.22,3.37,3.04,2.74,4.61,3.95,5.06,4.77,4.67,4.69,1.79,2.6,4.01,3.87,4.07,4.21,5.61,5.33,6.01,3.66,3.65,3.38,3.57,3.57,3.2,3.65,3.54,3.47,3.6,3.39,3.47,5.26,3.21,3.01,4.81,5.45,4.83],\"type\":\"scatter3d\"}],                        {\"template\":{\"data\":{\"histogram2dcontour\":[{\"type\":\"histogram2dcontour\",\"colorbar\":{\"outlinewidth\":0,\"ticks\":\"\"},\"colorscale\":[[0.0,\"#0d0887\"],[0.1111111111111111,\"#46039f\"],[0.2222222222222222,\"#7201a8\"],[0.3333333333333333,\"#9c179e\"],[0.4444444444444444,\"#bd3786\"],[0.5555555555555556,\"#d8576b\"],[0.6666666666666666,\"#ed7953\"],[0.7777777777777778,\"#fb9f3a\"],[0.8888888888888888,\"#fdca26\"],[1.0,\"#f0f921\"]]}],\"choropleth\":[{\"type\":\"choropleth\",\"colorbar\":{\"outlinewidth\":0,\"ticks\":\"\"}}],\"histogram2d\":[{\"type\":\"histogram2d\",\"colorbar\":{\"outlinewidth\":0,\"ticks\":\"\"},\"colorscale\":[[0.0,\"#0d0887\"],[0.1111111111111111,\"#46039f\"],[0.2222222222222222,\"#7201a8\"],[0.3333333333333333,\"#9c179e\"],[0.4444444444444444,\"#bd3786\"],[0.5555555555555556,\"#d8576b\"],[0.6666666666666666,\"#ed7953\"],[0.7777777777777778,\"#fb9f3a\"],[0.8888888888888888,\"#fdca26\"],[1.0,\"#f0f921\"]]}],\"heatmap\":[{\"type\":\"heatmap\",\"colorbar\":{\"outlinewidth\":0,\"ticks\":\"\"},\"colorscale\":[[0.0,\"#0d0887\"],[0.1111111111111111,\"#46039f\"],[0.2222222222222222,\"#7201a8\"],[0.3333333333333333,\"#9c179e\"],[0.4444444444444444,\"#bd3786\"],[0.5555555555555556,\"#d8576b\"],[0.6666666666666666,\"#ed7953\"],[0.7777777777777778,\"#fb9f3a\"],[0.8888888888888888,\"#fdca26\"],[1.0,\"#f0f921\"]]}],\"heatmapgl\":[{\"type\":\"heatmapgl\",\"colorbar\":{\"outlinewidth\":0,\"ticks\":\"\"},\"colorscale\":[[0.0,\"#0d0887\"],[0.1111111111111111,\"#46039f\"],[0.2222222222222222,\"#7201a8\"],[0.3333333333333333,\"#9c179e\"],[0.4444444444444444,\"#bd3786\"],[0.5555555555555556,\"#d8576b\"],[0.6666666666666666,\"#ed7953\"],[0.7777777777777778,\"#fb9f3a\"],[0.8888888888888888,\"#fdca26\"],[1.0,\"#f0f921\"]]}],\"contourcarpet\":[{\"type\":\"contourcarpet\",\"colorbar\":{\"outlinewidth\":0,\"ticks\":\"\"}}],\"contour\":[{\"type\":\"contour\",\"colorbar\":{\"outlinewidth\":0,\"ticks\":\"\"},\"colorscale\":[[0.0,\"#0d0887\"],[0.1111111111111111,\"#46039f\"],[0.2222222222222222,\"#7201a8\"],[0.3333333333333333,\"#9c179e\"],[0.4444444444444444,\"#bd3786\"],[0.5555555555555556,\"#d8576b\"],[0.6666666666666666,\"#ed7953\"],[0.7777777777777778,\"#fb9f3a\"],[0.8888888888888888,\"#fdca26\"],[1.0,\"#f0f921\"]]}],\"surface\":[{\"type\":\"surface\",\"colorbar\":{\"outlinewidth\":0,\"ticks\":\"\"},\"colorscale\":[[0.0,\"#0d0887\"],[0.1111111111111111,\"#46039f\"],[0.2222222222222222,\"#7201a8\"],[0.3333333333333333,\"#9c179e\"],[0.4444444444444444,\"#bd3786\"],[0.5555555555555556,\"#d8576b\"],[0.6666666666666666,\"#ed7953\"],[0.7777777777777778,\"#fb9f3a\"],[0.8888888888888888,\"#fdca26\"],[1.0,\"#f0f921\"]]}],\"mesh3d\":[{\"type\":\"mesh3d\",\"colorbar\":{\"outlinewidth\":0,\"ticks\":\"\"}}],\"scatter\":[{\"fillpattern\":{\"fillmode\":\"overlay\",\"size\":10,\"solidity\":0.2},\"type\":\"scatter\"}],\"parcoords\":[{\"type\":\"parcoords\",\"line\":{\"colorbar\":{\"outlinewidth\":0,\"ticks\":\"\"}}}],\"scatterpolargl\":[{\"type\":\"scatterpolargl\",\"marker\":{\"colorbar\":{\"outlinewidth\":0,\"ticks\":\"\"}}}],\"bar\":[{\"error_x\":{\"color\":\"#2a3f5f\"},\"error_y\":{\"color\":\"#2a3f5f\"},\"marker\":{\"line\":{\"color\":\"#E5ECF6\",\"width\":0.5},\"pattern\":{\"fillmode\":\"overlay\",\"size\":10,\"solidity\":0.2}},\"type\":\"bar\"}],\"scattergeo\":[{\"type\":\"scattergeo\",\"marker\":{\"colorbar\":{\"outlinewidth\":0,\"ticks\":\"\"}}}],\"scatterpolar\":[{\"type\":\"scatterpolar\",\"marker\":{\"colorbar\":{\"outlinewidth\":0,\"ticks\":\"\"}}}],\"histogram\":[{\"marker\":{\"pattern\":{\"fillmode\":\"overlay\",\"size\":10,\"solidity\":0.2}},\"type\":\"histogram\"}],\"scattergl\":[{\"type\":\"scattergl\",\"marker\":{\"colorbar\":{\"outlinewidth\":0,\"ticks\":\"\"}}}],\"scatter3d\":[{\"type\":\"scatter3d\",\"line\":{\"colorbar\":{\"outlinewidth\":0,\"ticks\":\"\"}},\"marker\":{\"colorbar\":{\"outlinewidth\":0,\"ticks\":\"\"}}}],\"scattermapbox\":[{\"type\":\"scattermapbox\",\"marker\":{\"colorbar\":{\"outlinewidth\":0,\"ticks\":\"\"}}}],\"scatterternary\":[{\"type\":\"scatterternary\",\"marker\":{\"colorbar\":{\"outlinewidth\":0,\"ticks\":\"\"}}}],\"scattercarpet\":[{\"type\":\"scattercarpet\",\"marker\":{\"colorbar\":{\"outlinewidth\":0,\"ticks\":\"\"}}}],\"carpet\":[{\"aaxis\":{\"endlinecolor\":\"#2a3f5f\",\"gridcolor\":\"white\",\"linecolor\":\"white\",\"minorgridcolor\":\"white\",\"startlinecolor\":\"#2a3f5f\"},\"baxis\":{\"endlinecolor\":\"#2a3f5f\",\"gridcolor\":\"white\",\"linecolor\":\"white\",\"minorgridcolor\":\"white\",\"startlinecolor\":\"#2a3f5f\"},\"type\":\"carpet\"}],\"table\":[{\"cells\":{\"fill\":{\"color\":\"#EBF0F8\"},\"line\":{\"color\":\"white\"}},\"header\":{\"fill\":{\"color\":\"#C8D4E3\"},\"line\":{\"color\":\"white\"}},\"type\":\"table\"}],\"barpolar\":[{\"marker\":{\"line\":{\"color\":\"#E5ECF6\",\"width\":0.5},\"pattern\":{\"fillmode\":\"overlay\",\"size\":10,\"solidity\":0.2}},\"type\":\"barpolar\"}],\"pie\":[{\"automargin\":true,\"type\":\"pie\"}]},\"layout\":{\"autotypenumbers\":\"strict\",\"colorway\":[\"#636efa\",\"#EF553B\",\"#00cc96\",\"#ab63fa\",\"#FFA15A\",\"#19d3f3\",\"#FF6692\",\"#B6E880\",\"#FF97FF\",\"#FECB52\"],\"font\":{\"color\":\"#2a3f5f\"},\"hovermode\":\"closest\",\"hoverlabel\":{\"align\":\"left\"},\"paper_bgcolor\":\"white\",\"plot_bgcolor\":\"#E5ECF6\",\"polar\":{\"bgcolor\":\"#E5ECF6\",\"angularaxis\":{\"gridcolor\":\"white\",\"linecolor\":\"white\",\"ticks\":\"\"},\"radialaxis\":{\"gridcolor\":\"white\",\"linecolor\":\"white\",\"ticks\":\"\"}},\"ternary\":{\"bgcolor\":\"#E5ECF6\",\"aaxis\":{\"gridcolor\":\"white\",\"linecolor\":\"white\",\"ticks\":\"\"},\"baxis\":{\"gridcolor\":\"white\",\"linecolor\":\"white\",\"ticks\":\"\"},\"caxis\":{\"gridcolor\":\"white\",\"linecolor\":\"white\",\"ticks\":\"\"}},\"coloraxis\":{\"colorbar\":{\"outlinewidth\":0,\"ticks\":\"\"}},\"colorscale\":{\"sequential\":[[0.0,\"#0d0887\"],[0.1111111111111111,\"#46039f\"],[0.2222222222222222,\"#7201a8\"],[0.3333333333333333,\"#9c179e\"],[0.4444444444444444,\"#bd3786\"],[0.5555555555555556,\"#d8576b\"],[0.6666666666666666,\"#ed7953\"],[0.7777777777777778,\"#fb9f3a\"],[0.8888888888888888,\"#fdca26\"],[1.0,\"#f0f921\"]],\"sequentialminus\":[[0.0,\"#0d0887\"],[0.1111111111111111,\"#46039f\"],[0.2222222222222222,\"#7201a8\"],[0.3333333333333333,\"#9c179e\"],[0.4444444444444444,\"#bd3786\"],[0.5555555555555556,\"#d8576b\"],[0.6666666666666666,\"#ed7953\"],[0.7777777777777778,\"#fb9f3a\"],[0.8888888888888888,\"#fdca26\"],[1.0,\"#f0f921\"]],\"diverging\":[[0,\"#8e0152\"],[0.1,\"#c51b7d\"],[0.2,\"#de77ae\"],[0.3,\"#f1b6da\"],[0.4,\"#fde0ef\"],[0.5,\"#f7f7f7\"],[0.6,\"#e6f5d0\"],[0.7,\"#b8e186\"],[0.8,\"#7fbc41\"],[0.9,\"#4d9221\"],[1,\"#276419\"]]},\"xaxis\":{\"gridcolor\":\"white\",\"linecolor\":\"white\",\"ticks\":\"\",\"title\":{\"standoff\":15},\"zerolinecolor\":\"white\",\"automargin\":true,\"zerolinewidth\":2},\"yaxis\":{\"gridcolor\":\"white\",\"linecolor\":\"white\",\"ticks\":\"\",\"title\":{\"standoff\":15},\"zerolinecolor\":\"white\",\"automargin\":true,\"zerolinewidth\":2},\"scene\":{\"xaxis\":{\"backgroundcolor\":\"#E5ECF6\",\"gridcolor\":\"white\",\"linecolor\":\"white\",\"showbackground\":true,\"ticks\":\"\",\"zerolinecolor\":\"white\",\"gridwidth\":2},\"yaxis\":{\"backgroundcolor\":\"#E5ECF6\",\"gridcolor\":\"white\",\"linecolor\":\"white\",\"showbackground\":true,\"ticks\":\"\",\"zerolinecolor\":\"white\",\"gridwidth\":2},\"zaxis\":{\"backgroundcolor\":\"#E5ECF6\",\"gridcolor\":\"white\",\"linecolor\":\"white\",\"showbackground\":true,\"ticks\":\"\",\"zerolinecolor\":\"white\",\"gridwidth\":2}},\"shapedefaults\":{\"line\":{\"color\":\"#2a3f5f\"}},\"annotationdefaults\":{\"arrowcolor\":\"#2a3f5f\",\"arrowhead\":0,\"arrowwidth\":1},\"geo\":{\"bgcolor\":\"white\",\"landcolor\":\"#E5ECF6\",\"subunitcolor\":\"white\",\"showland\":true,\"showlakes\":true,\"lakecolor\":\"white\"},\"title\":{\"x\":0.05},\"mapbox\":{\"style\":\"light\"}}},\"scene\":{\"domain\":{\"x\":[0.0,1.0],\"y\":[0.0,1.0]},\"xaxis\":{\"title\":{\"text\":\"x\"}},\"yaxis\":{\"title\":{\"text\":\"y\"}},\"zaxis\":{\"title\":{\"text\":\"z\"}}},\"legend\":{\"title\":{\"text\":\"color, symbol\"},\"tracegroupgap\":0},\"margin\":{\"t\":60},\"height\":1000},                        {\"responsive\": true}                    ).then(function(){\n",
       "                            \n",
       "var gd = document.getElementById('554d932b-efd8-4d4b-aefc-9294f6084248');\n",
       "var x = new MutationObserver(function (mutations, observer) {{\n",
       "        var display = window.getComputedStyle(gd).display;\n",
       "        if (!display || display === 'none') {{\n",
       "            console.log([gd, 'removed!']);\n",
       "            Plotly.purge(gd);\n",
       "            observer.disconnect();\n",
       "        }}\n",
       "}});\n",
       "\n",
       "// Listen for the removal of the full notebook cells\n",
       "var notebookContainer = gd.closest('#notebook-container');\n",
       "if (notebookContainer) {{\n",
       "    x.observe(notebookContainer, {childList: true});\n",
       "}}\n",
       "\n",
       "// Listen for the clearing of the current output cell\n",
       "var outputEl = gd.closest('.output');\n",
       "if (outputEl) {{\n",
       "    x.observe(outputEl, {childList: true});\n",
       "}}\n",
       "\n",
       "                        })                };                });            </script>        </div>"
      ]
     },
     "metadata": {},
     "output_type": "display_data"
    }
   ],
   "source": [
    "fig2 = px.scatter_3d(X_CR, \n",
    "                     x=X_CR.iloc[:,1], \n",
    "                     y=X_CR.iloc[:,3], \n",
    "                     z=X_CR.iloc[:,9],\n",
    "                     color=X['Region'], \n",
    "                     height=1000,\n",
    "                     color_discrete_sequence=px.colors.qualitative.Dark24,\n",
    "                     symbol = X['Region'])\n",
    "#fig.update_traces(marker_size = 5)\n",
    "#fig2.update_layout(title=\"5 Features Representation\")\n",
    "fig2.show()"
   ]
  },
  {
   "cell_type": "code",
   "execution_count": null,
   "metadata": {},
   "outputs": [],
   "source": []
  },
  {
   "cell_type": "code",
   "execution_count": null,
   "metadata": {},
   "outputs": [],
   "source": []
  },
  {
   "cell_type": "code",
   "execution_count": null,
   "metadata": {},
   "outputs": [],
   "source": []
  },
  {
   "cell_type": "code",
   "execution_count": 142,
   "metadata": {},
   "outputs": [],
   "source": [
    "from sklearn.cluster import KMeans, SpectralClustering"
   ]
  },
  {
   "cell_type": "code",
   "execution_count": 203,
   "metadata": {},
   "outputs": [
    {
     "data": {
      "image/png": "[encoded data removed]",
      "text/plain": [
       "<Figure size 1000x1000 with 1 Axes>"
      ]
     },
     "metadata": {},
     "output_type": "display_data"
    }
   ],
   "source": [
    "km = KMeans(n_clusters=2, max_iter=300)\n",
    "km.fit(X_CR)\n",
    "centroids = km.cluster_centers_\n",
    "y_kmeans = km.predict(X_CR)\n",
    "km.labels_\n",
    "\n",
    "# Plot the clustered data\n",
    "fig, ax = plt.subplots(figsize=(10, 10))\n",
    "\n",
    "#plt.scatter(X_CR.iloc[:,1], X_CR.iloc[:,2], c=y_kmeans, cmap='viridis', label=X['Region'])\n",
    "plt.scatter(X_CR.iloc[:,2], X_CR.iloc[:,3], c='blue', label='cluster 2')\n",
    "#plt.scatter(centroids[:, 0], centroids[:, 1], marker='*', s=300, c='r', label='centroid')\n",
    "\n",
    "plt.legend()\n",
    "plt.xlim([-0.5, 1])\n",
    "plt.ylim([-0.5, 1])\n",
    "plt.xlabel('Elem 1')\n",
    "plt.ylabel('Elem 2')\n",
    "plt.title('Visualization of clustered data', fontweight='bold')\n",
    "ax.set_aspect('equal');"
   ]
  },
  {
   "cell_type": "code",
   "execution_count": 204,
   "metadata": {},
   "outputs": [],
   "source": [
    "#from sklearn.cluster import KMeans\n",
    "kmeans = KMeans(n_clusters=4)\n",
    "kmeans.fit(X_CR)\n",
    "y_kmeans = kmeans.predict(X_CR)\n",
    "\n"
   ]
  },
  {
   "cell_type": "code",
   "execution_count": 205,
   "metadata": {},
   "outputs": [
    {
     "data": {
      "image/png": "[encoded data removed]",
      "text/plain": [
       "<Figure size 640x480 with 1 Axes>"
      ]
     },
     "metadata": {},
     "output_type": "display_data"
    }
   ],
   "source": [
    "plt.scatter(X_CR.iloc[:, 0], X_CR.iloc[:, 1], c=y_kmeans, s=50, cmap='viridis')\n",
    "\n",
    "centers = kmeans.cluster_centers_\n",
    "plt.scatter(centers[:, 0], centers[:, 1], c='black', s=200, alpha=0.5);"
   ]
  },
  {
   "cell_type": "markdown",
   "metadata": {},
   "source": [
    "## TSNE"
   ]
  },
  {
   "cell_type": "code",
   "execution_count": null,
   "metadata": {},
   "outputs": [],
   "source": []
  },
  {
   "cell_type": "code",
   "execution_count": 22,
   "metadata": {},
   "outputs": [],
   "source": [
    "my_scaler_test = StandardScaler()"
   ]
  },
  {
   "cell_type": "code",
   "execution_count": 23,
   "metadata": {},
   "outputs": [],
   "source": [
    "element_data_test_scaled = my_scaler_test.fit_transform(X_CR)"
   ]
  },
  {
   "cell_type": "code",
   "execution_count": 24,
   "metadata": {},
   "outputs": [
    {
     "name": "stderr",
     "output_type": "stream",
     "text": [
      "C:\\Users\\tom\\Anaconda3\\lib\\site-packages\\sklearn\\manifold\\_t_sne.py:783: FutureWarning:\n",
      "\n",
      "The default initialization in TSNE will change from 'random' to 'pca' in 1.2.\n",
      "\n"
     ]
    },
    {
     "name": "stdout",
     "output_type": "stream",
     "text": [
      "[t-SNE] Computing 76 nearest neighbors...\n",
      "[t-SNE] Indexed 105 samples in 0.000s...\n",
      "[t-SNE] Computed neighbors for 105 samples in 0.075s...\n",
      "[t-SNE] Computed conditional probabilities for sample 105 / 105\n",
      "[t-SNE] Mean sigma: 1.824057\n",
      "[t-SNE] Computed conditional probabilities in 0.006s\n",
      "[t-SNE] Iteration 50: error = 89.3698578, gradient norm = 0.1769964 (50 iterations in 0.048s)\n",
      "[t-SNE] Iteration 100: error = 97.8119354, gradient norm = 0.1611781 (50 iterations in 0.041s)\n",
      "[t-SNE] Iteration 150: error = 109.3946991, gradient norm = 0.1664238 (50 iterations in 0.038s)\n",
      "[t-SNE] Iteration 200: error = 117.1191788, gradient norm = 0.1463844 (50 iterations in 0.044s)\n",
      "[t-SNE] Iteration 250: error = 130.5519409, gradient norm = 0.1556297 (50 iterations in 0.042s)\n",
      "[t-SNE] KL divergence after 250 iterations with early exaggeration: 130.551941\n",
      "[t-SNE] Iteration 300: error = 3.2774279, gradient norm = 0.0003567 (50 iterations in 0.041s)\n",
      "[t-SNE] Iteration 350: error = 2.8149781, gradient norm = 0.0001402 (50 iterations in 0.043s)\n",
      "[t-SNE] Iteration 400: error = 2.5922685, gradient norm = 0.0000838 (50 iterations in 0.044s)\n",
      "[t-SNE] Iteration 450: error = 2.4501374, gradient norm = 0.0000600 (50 iterations in 0.044s)\n",
      "[t-SNE] Iteration 500: error = 2.3371961, gradient norm = 0.0000456 (50 iterations in 0.041s)\n",
      "[t-SNE] Iteration 550: error = 2.2430406, gradient norm = 0.0000358 (50 iterations in 0.042s)\n",
      "[t-SNE] Iteration 600: error = 2.1661396, gradient norm = 0.0000295 (50 iterations in 0.042s)\n",
      "[t-SNE] Iteration 650: error = 2.1012132, gradient norm = 0.0000248 (50 iterations in 0.042s)\n",
      "[t-SNE] Iteration 700: error = 2.0465798, gradient norm = 0.0000208 (50 iterations in 0.042s)\n",
      "[t-SNE] Iteration 750: error = 2.0013976, gradient norm = 0.0000177 (50 iterations in 0.041s)\n",
      "[t-SNE] Iteration 800: error = 1.9653256, gradient norm = 0.0000153 (50 iterations in 0.042s)\n",
      "[t-SNE] Iteration 850: error = 1.9354019, gradient norm = 0.0000138 (50 iterations in 0.041s)\n",
      "[t-SNE] Iteration 900: error = 1.9079123, gradient norm = 0.0000125 (50 iterations in 0.041s)\n",
      "[t-SNE] Iteration 950: error = 1.8818885, gradient norm = 0.0000113 (50 iterations in 0.041s)\n",
      "[t-SNE] Iteration 1000: error = 1.8593004, gradient norm = 0.0000103 (50 iterations in 0.041s)\n",
      "[t-SNE] Iteration 1050: error = 1.8397347, gradient norm = 0.0000094 (50 iterations in 0.041s)\n",
      "[t-SNE] Iteration 1100: error = 1.8216822, gradient norm = 0.0000087 (50 iterations in 0.039s)\n",
      "[t-SNE] Iteration 1150: error = 1.8041061, gradient norm = 0.0000083 (50 iterations in 0.041s)\n",
      "[t-SNE] Iteration 1200: error = 1.7855102, gradient norm = 0.0000079 (50 iterations in 0.040s)\n",
      "[t-SNE] Iteration 1250: error = 1.7697946, gradient norm = 0.0000070 (50 iterations in 0.041s)\n",
      "[t-SNE] Iteration 1300: error = 1.7571341, gradient norm = 0.0000067 (50 iterations in 0.041s)\n",
      "[t-SNE] Iteration 1350: error = 1.7453678, gradient norm = 0.0000063 (50 iterations in 0.043s)\n",
      "[t-SNE] Iteration 1400: error = 1.7331887, gradient norm = 0.0000060 (50 iterations in 0.040s)\n",
      "[t-SNE] Iteration 1450: error = 1.7212132, gradient norm = 0.0000057 (50 iterations in 0.043s)\n",
      "[t-SNE] Iteration 1500: error = 1.7090633, gradient norm = 0.0000055 (50 iterations in 0.042s)\n",
      "[t-SNE] Iteration 1550: error = 1.6974244, gradient norm = 0.0000052 (50 iterations in 0.048s)\n",
      "[t-SNE] Iteration 1600: error = 1.6861320, gradient norm = 0.0000050 (50 iterations in 0.045s)\n",
      "[t-SNE] Iteration 1650: error = 1.6747618, gradient norm = 0.0000049 (50 iterations in 0.040s)\n",
      "[t-SNE] Iteration 1700: error = 1.6637839, gradient norm = 0.0000047 (50 iterations in 0.040s)\n",
      "[t-SNE] Iteration 1750: error = 1.6531162, gradient norm = 0.0000045 (50 iterations in 0.040s)\n",
      "[t-SNE] Iteration 1800: error = 1.6427808, gradient norm = 0.0000043 (50 iterations in 0.039s)\n",
      "[t-SNE] Iteration 1850: error = 1.6327150, gradient norm = 0.0000041 (50 iterations in 0.039s)\n",
      "[t-SNE] Iteration 1900: error = 1.6233459, gradient norm = 0.0000040 (50 iterations in 0.039s)\n",
      "[t-SNE] Iteration 1950: error = 1.6137890, gradient norm = 0.0000039 (50 iterations in 0.042s)\n",
      "[t-SNE] Iteration 2000: error = 1.6047745, gradient norm = 0.0000037 (50 iterations in 0.040s)\n",
      "[t-SNE] KL divergence after 2000 iterations: 1.604774\n"
     ]
    }
   ],
   "source": [
    "my_tsne_test = TSNE(n_components=3, perplexity=25, learning_rate=200, n_iter=2000, verbose=3).fit_transform(element_data_test_scaled)"
   ]
  },
  {
   "cell_type": "code",
   "execution_count": 25,
   "metadata": {},
   "outputs": [],
   "source": [
    "tsne_df_test = pd.DataFrame(data = my_tsne_test, columns = ['tsne1', 'tsne2', 'tsne3'])"
   ]
  },
  {
   "cell_type": "markdown",
   "metadata": {},
   "source": [
    "### add group back in (nodule)"
   ]
  },
  {
   "cell_type": "code",
   "execution_count": 75,
   "metadata": {},
   "outputs": [],
   "source": [
    "Labelcol = X['Region']"
   ]
  },
  {
   "cell_type": "code",
   "execution_count": 76,
   "metadata": {},
   "outputs": [
    {
     "data": {
      "text/plain": [
       "1078     WA_grey\n",
       "1079     WA_grey\n",
       "1080     WA_grey\n",
       "1081    WA_black\n",
       "1082    WA_black\n",
       "Name: Region, dtype: object"
      ]
     },
     "execution_count": 76,
     "metadata": {},
     "output_type": "execute_result"
    }
   ],
   "source": [
    "Labelcol.head()"
   ]
  },
  {
   "cell_type": "code",
   "execution_count": 77,
   "metadata": {},
   "outputs": [],
   "source": [
    "tsne3d_df_LabelCol_comb = pd.concat([Labelcol.reset_index(drop=True), tsne_df_test.reset_index(drop=True)], axis=1)"
   ]
  },
  {
   "cell_type": "code",
   "execution_count": 78,
   "metadata": {},
   "outputs": [
    {
     "name": "stdout",
     "output_type": "stream",
     "text": [
      "Stored 'tsne3d_df_LabelCol_comb' (DataFrame)\n"
     ]
    }
   ],
   "source": [
    "%store tsne3d_df_LabelCol_comb"
   ]
  },
  {
   "cell_type": "code",
   "execution_count": 79,
   "metadata": {},
   "outputs": [
    {
     "data": {
      "text/html": [
       "<div>\n",
       "<style scoped>\n",
       "    .dataframe tbody tr th:only-of-type {\n",
       "        vertical-align: middle;\n",
       "    }\n",
       "\n",
       "    .dataframe tbody tr th {\n",
       "        vertical-align: top;\n",
       "    }\n",
       "\n",
       "    .dataframe thead th {\n",
       "        text-align: right;\n",
       "    }\n",
       "</style>\n",
       "<table border=\"1\" class=\"dataframe\">\n",
       "  <thead>\n",
       "    <tr style=\"text-align: right;\">\n",
       "      <th></th>\n",
       "      <th>Region</th>\n",
       "      <th>tsne1</th>\n",
       "      <th>tsne2</th>\n",
       "      <th>tsne3</th>\n",
       "    </tr>\n",
       "  </thead>\n",
       "  <tbody>\n",
       "    <tr>\n",
       "      <th>0</th>\n",
       "      <td>WA_grey</td>\n",
       "      <td>137.536362</td>\n",
       "      <td>316.290863</td>\n",
       "      <td>95.540543</td>\n",
       "    </tr>\n",
       "    <tr>\n",
       "      <th>1</th>\n",
       "      <td>WA_grey</td>\n",
       "      <td>-56.262630</td>\n",
       "      <td>-151.968231</td>\n",
       "      <td>-12.820321</td>\n",
       "    </tr>\n",
       "    <tr>\n",
       "      <th>2</th>\n",
       "      <td>WA_grey</td>\n",
       "      <td>-101.830833</td>\n",
       "      <td>58.144329</td>\n",
       "      <td>-68.136841</td>\n",
       "    </tr>\n",
       "    <tr>\n",
       "      <th>3</th>\n",
       "      <td>WA_black</td>\n",
       "      <td>302.588867</td>\n",
       "      <td>-156.936996</td>\n",
       "      <td>10.606688</td>\n",
       "    </tr>\n",
       "    <tr>\n",
       "      <th>4</th>\n",
       "      <td>WA_black</td>\n",
       "      <td>-131.267654</td>\n",
       "      <td>169.731583</td>\n",
       "      <td>-73.162796</td>\n",
       "    </tr>\n",
       "  </tbody>\n",
       "</table>\n",
       "</div>"
      ],
      "text/plain": [
       "     Region       tsne1       tsne2      tsne3\n",
       "0   WA_grey  137.536362  316.290863  95.540543\n",
       "1   WA_grey  -56.262630 -151.968231 -12.820321\n",
       "2   WA_grey -101.830833   58.144329 -68.136841\n",
       "3  WA_black  302.588867 -156.936996  10.606688\n",
       "4  WA_black -131.267654  169.731583 -73.162796"
      ]
     },
     "execution_count": 79,
     "metadata": {},
     "output_type": "execute_result"
    }
   ],
   "source": [
    "tsne3d_df_LabelCol_comb.head()"
   ]
  },
  {
   "cell_type": "markdown",
   "metadata": {},
   "source": [
    "## TSNE 3D Visualisation"
   ]
  },
  {
   "cell_type": "code",
   "execution_count": 80,
   "metadata": {},
   "outputs": [],
   "source": [
    "tsne3d_labels = Labelcol"
   ]
  },
  {
   "cell_type": "code",
   "execution_count": 81,
   "metadata": {},
   "outputs": [],
   "source": [
    "filepath = 'figures/Butcher2005_Tom_tSNE_3dPlot_Issue_bestfeats.html'"
   ]
  },
  {
   "cell_type": "code",
   "execution_count": 82,
   "metadata": {},
   "outputs": [
    {
     "data": {
      "application/vnd.plotly.v1+json": {
       "config": {
        "plotlyServerURL": "https://plot.ly"
       },
       "data": [
        {
         "hovertemplate": "color=WA_grey<br>symbol=WA_grey<br>x=%{x}<br>y=%{y}<br>z=%{z}<extra></extra>",
         "legendgroup": "WA_grey, WA_grey",
         "marker": {
          "color": "#2E91E5",
          "symbol": "circle"
         },
         "mode": "markers",
         "name": "WA_grey, WA_grey",
         "scene": "scene",
         "showlegend": true,
         "type": "scatter3d",
         "x": [
          137.53636169433594,
          -56.262630462646484,
          -101.8308334350586,
          -126.3387451171875,
          365.5985412597656,
          -75.05847930908203,
          142.1015625,
          194.7473602294922,
          -96.55123138427734,
          -308.6883850097656,
          -168.21063232421875,
          -19.44070053100586,
          -35.15900421142578,
          79.97142791748047,
          -7.360789775848389,
          14.82398796081543,
          -24.748504638671875,
          68.2030258178711,
          -236.02516174316406,
          -143.91700744628906,
          -96.54405212402344,
          -150.90383911132812,
          14.990151405334473,
          71.3946304321289,
          188.27659606933594,
          117.85889434814453,
          172.46456909179688,
          172.86785888671875,
          241.50009155273438,
          155.795166015625,
          66.20468139648438,
          76.35039520263672,
          -244.13165283203125,
          154.24801635742188,
          68.33566284179688,
          45.52983093261719,
          71.33259582519531,
          -153.37388610839844,
          -307.5442199707031,
          -74.69512939453125,
          -153.27899169921875,
          -96.53247833251953,
          -168.61219787597656,
          3.707404375076294,
          7.412698268890381,
          -256.56414794921875,
          72.81636047363281,
          -43.454429626464844,
          114.66053009033203,
          -307.6024169921875,
          172.90960693359375,
          111.0433349609375,
          34.50399398803711,
          35.1595344543457
         ],
         "y": [
          316.2908630371094,
          -151.96823120117188,
          58.14432907104492,
          165.59237670898438,
          -0.21899865567684174,
          108.90957641601562,
          -260.706298828125,
          -188.89576721191406,
          49.07513427734375,
          48.67294692993164,
          -214.0433807373047,
          311.9594421386719,
          177.82766723632812,
          -201.35272216796875,
          -232.63710021972656,
          -358.943115234375,
          -191.088134765625,
          -16.470911026000977,
          114.98287963867188,
          -12.140998840332031,
          300.8686218261719,
          38.624244689941406,
          -128.7910919189453,
          -82.59516143798828,
          44.508914947509766,
          12.960784912109375,
          -61.366844177246094,
          38.94523620605469,
          43.27525329589844,
          294.0559997558594,
          95.74508666992188,
          -123.5270767211914,
          -17.08433723449707,
          72.1883316040039,
          -41.50460433959961,
          -301.4018859863281,
          78.89627075195312,
          48.19697952270508,
          -141.02459716796875,
          -119.84426879882812,
          -87.3261489868164,
          -181.6589813232422,
          -141.4987030029297,
          12.640944480895996,
          3.7328357696533203,
          -109.97866821289062,
          65.59270477294922,
          -29.53449058532715,
          152.10739135742188,
          -104.42607879638672,
          40.620155334472656,
          -151.80335998535156,
          46.16409683227539,
          -46.52083969116211
         ],
         "z": [
          95.54054260253906,
          -12.820321083068848,
          -68.1368408203125,
          294.8573303222656,
          62.17566680908203,
          -181.0625762939453,
          -89.06336212158203,
          -23.005929946899414,
          -311.66241455078125,
          80.24950408935547,
          26.945302963256836,
          -118.0635986328125,
          -297.87530517578125,
          43.520057678222656,
          54.566612243652344,
          46.50788116455078,
          266.20404052734375,
          99.0895767211914,
          -267.8012390136719,
          343.2989501953125,
          -4.057465076446533,
          220.4310302734375,
          149.7125244140625,
          221.32986450195312,
          -120.08837890625,
          -44.17087936401367,
          -61.553680419921875,
          168.43194580078125,
          237.5181884765625,
          -122.01895141601562,
          66.128662109375,
          -253.4100799560547,
          122.52082824707031,
          40.323848724365234,
          -172.23373413085938,
          138.76132202148438,
          -270.1295166015625,
          59.66466522216797,
          -86.29853057861328,
          -282.8005065917969,
          -327.6665344238281,
          -230.13658142089844,
          -73.99262237548828,
          -109.71223449707031,
          312.93536376953125,
          44.86598205566406,
          -134.95472717285156,
          -206.4967803955078,
          276.4169921875,
          203.76773071289062,
          298.04901123046875,
          -163.62135314941406,
          161.29005432128906,
          14.142219543457031
         ]
        },
        {
         "hovertemplate": "color=WA_black<br>symbol=WA_black<br>x=%{x}<br>y=%{y}<br>z=%{z}<extra></extra>",
         "legendgroup": "WA_black, WA_black",
         "marker": {
          "color": "#E15F99",
          "symbol": "diamond"
         },
         "mode": "markers",
         "name": "WA_black, WA_black",
         "scene": "scene",
         "showlegend": true,
         "type": "scatter3d",
         "x": [
          302.5888671875,
          -131.2676544189453,
          214.71006774902344,
          21.294567108154297,
          35.83161926269531,
          116.28775024414062,
          321.31060791015625,
          -10.378159523010254,
          -188.385498046875,
          -218.76626586914062,
          -159.38925170898438,
          -236.9964141845703,
          299.2949523925781,
          158.08245849609375,
          14.706364631652832,
          -63.68991470336914,
          -37.71331787109375,
          27.412193298339844,
          -26.4920711517334,
          -127.12429809570312,
          66.33639526367188,
          -75.06379699707031,
          260.93560791015625,
          158.1382598876953,
          -82.97467041015625,
          55.094764709472656,
          152.9198760986328,
          -39.79356384277344,
          -72.14517211914062,
          -14.632990837097168,
          164.71653747558594,
          171.59605407714844,
          250.0349884033203,
          -3.3146555423736572,
          -167.1085968017578,
          -160.30996704101562,
          136.52293395996094,
          -195.5742950439453,
          221.8895263671875,
          -158.11178588867188,
          -305.7806701660156,
          182.9928741455078,
          -188.19276428222656,
          -298.6321105957031,
          -219.08477783203125,
          -81.06312561035156,
          199.48399353027344,
          238.36050415039062,
          39.671939849853516,
          -63.17815399169922,
          -140.08053588867188
         ],
         "y": [
          -156.93699645996094,
          169.73158264160156,
          27.975664138793945,
          290.5478210449219,
          257.6265563964844,
          -212.65341186523438,
          -102.44214630126953,
          187.1264190673828,
          158.82424926757812,
          132.82435607910156,
          179.92303466796875,
          281.4685363769531,
          204.27793884277344,
          179.39288330078125,
          -278.25518798828125,
          -281.6404724121094,
          -182.99032592773438,
          -239.4397430419922,
          58.824989318847656,
          -78.55338287353516,
          -118.33354949951172,
          67.99787902832031,
          160.2262725830078,
          148.7292938232422,
          -280.60107421875,
          -28.635757446289062,
          -69.21640014648438,
          -44.831417083740234,
          -54.38156509399414,
          136.4044189453125,
          188.51512145996094,
          240.32879638671875,
          -24.688232421875,
          112.50910186767578,
          -25.81517219543457,
          -97.54497528076172,
          -165.8286895751953,
          -209.64663696289062,
          -82.4336166381836,
          225.5565643310547,
          36.025089263916016,
          -293.91522216796875,
          24.791759490966797,
          136.2926788330078,
          100.32804107666016,
          254.1039581298828,
          -82.22138977050781,
          -185.85739135742188,
          185.32705688476562,
          -27.569021224975586,
          -100.0362548828125
         ],
         "z": [
          10.606688499450684,
          -73.16279602050781,
          -239.15249633789062,
          114.88069152832031,
          7.951509952545166,
          289.24102783203125,
          -124.18672943115234,
          92.59099578857422,
          168.9107666015625,
          -142.01815795898438,
          42.28718185424805,
          -15.397137641906738,
          25.74996566772461,
          159.98988342285156,
          -243.82339477539062,
          -87.19161987304688,
          -114.86158752441406,
          -91.65385437011719,
          26.10637855529785,
          90.43671417236328,
          -53.950233459472656,
          135.968017578125,
          -142.82276916503906,
          -186.78298950195312,
          133.6831512451172,
          -359.7330627441406,
          81.53390502929688,
          202.06640625,
          -65.54460906982422,
          211.86082458496094,
          -18.69456672668457,
          46.06686019897461,
          47.56398010253906,
          -52.92695236206055,
          -39.7713737487793,
          -188.2925262451172,
          155.3981170654297,
          156.36227416992188,
          180.30992126464844,
          -176.9770050048828,
          -143.38900756835938,
          35.171539306640625,
          -151.91827392578125,
          -55.028076171875,
          -29.32195281982422,
          157.3442840576172,
          -155.2030487060547,
          171.79173278808594,
          -147.62881469726562,
          38.987335205078125,
          202.64817810058594
         ]
        }
       ],
       "layout": {
        "autosize": true,
        "legend": {
         "title": {
          "text": "color, symbol"
         },
         "tracegroupgap": 0
        },
        "margin": {
         "t": 60
        },
        "scene": {
         "aspectmode": "auto",
         "aspectratio": {
          "x": 0.9857195338684613,
          "y": 0.9871040003641698,
          "z": 1.0277411011410822
         },
         "camera": {
          "center": {
           "x": 0,
           "y": 0,
           "z": 0
          },
          "eye": {
           "x": 2.806196531845492,
           "y": 2.4934721738022136,
           "z": 2.3968359758786852
          },
          "projection": {
           "type": "perspective"
          },
          "up": {
           "x": 0,
           "y": 0,
           "z": 1
          }
         },
         "domain": {
          "x": [
           0,
           1
          ],
          "y": [
           0,
           1
          ]
         },
         "xaxis": {
          "title": {
           "text": "x"
          },
          "type": "linear"
         },
         "yaxis": {
          "title": {
           "text": "y"
          },
          "type": "linear"
         },
         "zaxis": {
          "title": {
           "text": "z"
          },
          "type": "linear"
         }
        },
        "template": {
         "data": {
          "bar": [
           {
            "error_x": {
             "color": "#2a3f5f"
            },
            "error_y": {
             "color": "#2a3f5f"
            },
            "marker": {
             "line": {
              "color": "#E5ECF6",
              "width": 0.5
             },
             "pattern": {
              "fillmode": "overlay",
              "size": 10,
              "solidity": 0.2
             }
            },
            "type": "bar"
           }
          ],
          "barpolar": [
           {
            "marker": {
             "line": {
              "color": "#E5ECF6",
              "width": 0.5
             },
             "pattern": {
              "fillmode": "overlay",
              "size": 10,
              "solidity": 0.2
             }
            },
            "type": "barpolar"
           }
          ],
          "carpet": [
           {
            "aaxis": {
             "endlinecolor": "#2a3f5f",
             "gridcolor": "white",
             "linecolor": "white",
             "minorgridcolor": "white",
             "startlinecolor": "#2a3f5f"
            },
            "baxis": {
             "endlinecolor": "#2a3f5f",
             "gridcolor": "white",
             "linecolor": "white",
             "minorgridcolor": "white",
             "startlinecolor": "#2a3f5f"
            },
            "type": "carpet"
           }
          ],
          "choropleth": [
           {
            "colorbar": {
             "outlinewidth": 0,
             "ticks": ""
            },
            "type": "choropleth"
           }
          ],
          "contour": [
           {
            "colorbar": {
             "outlinewidth": 0,
             "ticks": ""
            },
            "colorscale": [
             [
              0,
              "#0d0887"
             ],
             [
              0.1111111111111111,
              "#46039f"
             ],
             [
              0.2222222222222222,
              "#7201a8"
             ],
             [
              0.3333333333333333,
              "#9c179e"
             ],
             [
              0.4444444444444444,
              "#bd3786"
             ],
             [
              0.5555555555555556,
              "#d8576b"
             ],
             [
              0.6666666666666666,
              "#ed7953"
             ],
             [
              0.7777777777777778,
              "#fb9f3a"
             ],
             [
              0.8888888888888888,
              "#fdca26"
             ],
             [
              1,
              "#f0f921"
             ]
            ],
            "type": "contour"
           }
          ],
          "contourcarpet": [
           {
            "colorbar": {
             "outlinewidth": 0,
             "ticks": ""
            },
            "type": "contourcarpet"
           }
          ],
          "heatmap": [
           {
            "colorbar": {
             "outlinewidth": 0,
             "ticks": ""
            },
            "colorscale": [
             [
              0,
              "#0d0887"
             ],
             [
              0.1111111111111111,
              "#46039f"
             ],
             [
              0.2222222222222222,
              "#7201a8"
             ],
             [
              0.3333333333333333,
              "#9c179e"
             ],
             [
              0.4444444444444444,
              "#bd3786"
             ],
             [
              0.5555555555555556,
              "#d8576b"
             ],
             [
              0.6666666666666666,
              "#ed7953"
             ],
             [
              0.7777777777777778,
              "#fb9f3a"
             ],
             [
              0.8888888888888888,
              "#fdca26"
             ],
             [
              1,
              "#f0f921"
             ]
            ],
            "type": "heatmap"
           }
          ],
          "heatmapgl": [
           {
            "colorbar": {
             "outlinewidth": 0,
             "ticks": ""
            },
            "colorscale": [
             [
              0,
              "#0d0887"
             ],
             [
              0.1111111111111111,
              "#46039f"
             ],
             [
              0.2222222222222222,
              "#7201a8"
             ],
             [
              0.3333333333333333,
              "#9c179e"
             ],
             [
              0.4444444444444444,
              "#bd3786"
             ],
             [
              0.5555555555555556,
              "#d8576b"
             ],
             [
              0.6666666666666666,
              "#ed7953"
             ],
             [
              0.7777777777777778,
              "#fb9f3a"
             ],
             [
              0.8888888888888888,
              "#fdca26"
             ],
             [
              1,
              "#f0f921"
             ]
            ],
            "type": "heatmapgl"
           }
          ],
          "histogram": [
           {
            "marker": {
             "pattern": {
              "fillmode": "overlay",
              "size": 10,
              "solidity": 0.2
             }
            },
            "type": "histogram"
           }
          ],
          "histogram2d": [
           {
            "colorbar": {
             "outlinewidth": 0,
             "ticks": ""
            },
            "colorscale": [
             [
              0,
              "#0d0887"
             ],
             [
              0.1111111111111111,
              "#46039f"
             ],
             [
              0.2222222222222222,
              "#7201a8"
             ],
             [
              0.3333333333333333,
              "#9c179e"
             ],
             [
              0.4444444444444444,
              "#bd3786"
             ],
             [
              0.5555555555555556,
              "#d8576b"
             ],
             [
              0.6666666666666666,
              "#ed7953"
             ],
             [
              0.7777777777777778,
              "#fb9f3a"
             ],
             [
              0.8888888888888888,
              "#fdca26"
             ],
             [
              1,
              "#f0f921"
             ]
            ],
            "type": "histogram2d"
           }
          ],
          "histogram2dcontour": [
           {
            "colorbar": {
             "outlinewidth": 0,
             "ticks": ""
            },
            "colorscale": [
             [
              0,
              "#0d0887"
             ],
             [
              0.1111111111111111,
              "#46039f"
             ],
             [
              0.2222222222222222,
              "#7201a8"
             ],
             [
              0.3333333333333333,
              "#9c179e"
             ],
             [
              0.4444444444444444,
              "#bd3786"
             ],
             [
              0.5555555555555556,
              "#d8576b"
             ],
             [
              0.6666666666666666,
              "#ed7953"
             ],
             [
              0.7777777777777778,
              "#fb9f3a"
             ],
             [
              0.8888888888888888,
              "#fdca26"
             ],
             [
              1,
              "#f0f921"
             ]
            ],
            "type": "histogram2dcontour"
           }
          ],
          "mesh3d": [
           {
            "colorbar": {
             "outlinewidth": 0,
             "ticks": ""
            },
            "type": "mesh3d"
           }
          ],
          "parcoords": [
           {
            "line": {
             "colorbar": {
              "outlinewidth": 0,
              "ticks": ""
             }
            },
            "type": "parcoords"
           }
          ],
          "pie": [
           {
            "automargin": true,
            "type": "pie"
           }
          ],
          "scatter": [
           {
            "fillpattern": {
             "fillmode": "overlay",
             "size": 10,
             "solidity": 0.2
            },
            "type": "scatter"
           }
          ],
          "scatter3d": [
           {
            "line": {
             "colorbar": {
              "outlinewidth": 0,
              "ticks": ""
             }
            },
            "marker": {
             "colorbar": {
              "outlinewidth": 0,
              "ticks": ""
             }
            },
            "type": "scatter3d"
           }
          ],
          "scattercarpet": [
           {
            "marker": {
             "colorbar": {
              "outlinewidth": 0,
              "ticks": ""
             }
            },
            "type": "scattercarpet"
           }
          ],
          "scattergeo": [
           {
            "marker": {
             "colorbar": {
              "outlinewidth": 0,
              "ticks": ""
             }
            },
            "type": "scattergeo"
           }
          ],
          "scattergl": [
           {
            "marker": {
             "colorbar": {
              "outlinewidth": 0,
              "ticks": ""
             }
            },
            "type": "scattergl"
           }
          ],
          "scattermapbox": [
           {
            "marker": {
             "colorbar": {
              "outlinewidth": 0,
              "ticks": ""
             }
            },
            "type": "scattermapbox"
           }
          ],
          "scatterpolar": [
           {
            "marker": {
             "colorbar": {
              "outlinewidth": 0,
              "ticks": ""
             }
            },
            "type": "scatterpolar"
           }
          ],
          "scatterpolargl": [
           {
            "marker": {
             "colorbar": {
              "outlinewidth": 0,
              "ticks": ""
             }
            },
            "type": "scatterpolargl"
           }
          ],
          "scatterternary": [
           {
            "marker": {
             "colorbar": {
              "outlinewidth": 0,
              "ticks": ""
             }
            },
            "type": "scatterternary"
           }
          ],
          "surface": [
           {
            "colorbar": {
             "outlinewidth": 0,
             "ticks": ""
            },
            "colorscale": [
             [
              0,
              "#0d0887"
             ],
             [
              0.1111111111111111,
              "#46039f"
             ],
             [
              0.2222222222222222,
              "#7201a8"
             ],
             [
              0.3333333333333333,
              "#9c179e"
             ],
             [
              0.4444444444444444,
              "#bd3786"
             ],
             [
              0.5555555555555556,
              "#d8576b"
             ],
             [
              0.6666666666666666,
              "#ed7953"
             ],
             [
              0.7777777777777778,
              "#fb9f3a"
             ],
             [
              0.8888888888888888,
              "#fdca26"
             ],
             [
              1,
              "#f0f921"
             ]
            ],
            "type": "surface"
           }
          ],
          "table": [
           {
            "cells": {
             "fill": {
              "color": "#EBF0F8"
             },
             "line": {
              "color": "white"
             }
            },
            "header": {
             "fill": {
              "color": "#C8D4E3"
             },
             "line": {
              "color": "white"
             }
            },
            "type": "table"
           }
          ]
         },
         "layout": {
          "annotationdefaults": {
           "arrowcolor": "#2a3f5f",
           "arrowhead": 0,
           "arrowwidth": 1
          },
          "autotypenumbers": "strict",
          "coloraxis": {
           "colorbar": {
            "outlinewidth": 0,
            "ticks": ""
           }
          },
          "colorscale": {
           "diverging": [
            [
             0,
             "#8e0152"
            ],
            [
             0.1,
             "#c51b7d"
            ],
            [
             0.2,
             "#de77ae"
            ],
            [
             0.3,
             "#f1b6da"
            ],
            [
             0.4,
             "#fde0ef"
            ],
            [
             0.5,
             "#f7f7f7"
            ],
            [
             0.6,
             "#e6f5d0"
            ],
            [
             0.7,
             "#b8e186"
            ],
            [
             0.8,
             "#7fbc41"
            ],
            [
             0.9,
             "#4d9221"
            ],
            [
             1,
             "#276419"
            ]
           ],
           "sequential": [
            [
             0,
             "#0d0887"
            ],
            [
             0.1111111111111111,
             "#46039f"
            ],
            [
             0.2222222222222222,
             "#7201a8"
            ],
            [
             0.3333333333333333,
             "#9c179e"
            ],
            [
             0.4444444444444444,
             "#bd3786"
            ],
            [
             0.5555555555555556,
             "#d8576b"
            ],
            [
             0.6666666666666666,
             "#ed7953"
            ],
            [
             0.7777777777777778,
             "#fb9f3a"
            ],
            [
             0.8888888888888888,
             "#fdca26"
            ],
            [
             1,
             "#f0f921"
            ]
           ],
           "sequentialminus": [
            [
             0,
             "#0d0887"
            ],
            [
             0.1111111111111111,
             "#46039f"
            ],
            [
             0.2222222222222222,
             "#7201a8"
            ],
            [
             0.3333333333333333,
             "#9c179e"
            ],
            [
             0.4444444444444444,
             "#bd3786"
            ],
            [
             0.5555555555555556,
             "#d8576b"
            ],
            [
             0.6666666666666666,
             "#ed7953"
            ],
            [
             0.7777777777777778,
             "#fb9f3a"
            ],
            [
             0.8888888888888888,
             "#fdca26"
            ],
            [
             1,
             "#f0f921"
            ]
           ]
          },
          "colorway": [
           "#636efa",
           "#EF553B",
           "#00cc96",
           "#ab63fa",
           "#FFA15A",
           "#19d3f3",
           "#FF6692",
           "#B6E880",
           "#FF97FF",
           "#FECB52"
          ],
          "font": {
           "color": "#2a3f5f"
          },
          "geo": {
           "bgcolor": "white",
           "lakecolor": "white",
           "landcolor": "#E5ECF6",
           "showlakes": true,
           "showland": true,
           "subunitcolor": "white"
          },
          "hoverlabel": {
           "align": "left"
          },
          "hovermode": "closest",
          "mapbox": {
           "style": "light"
          },
          "paper_bgcolor": "white",
          "plot_bgcolor": "#E5ECF6",
          "polar": {
           "angularaxis": {
            "gridcolor": "white",
            "linecolor": "white",
            "ticks": ""
           },
           "bgcolor": "#E5ECF6",
           "radialaxis": {
            "gridcolor": "white",
            "linecolor": "white",
            "ticks": ""
           }
          },
          "scene": {
           "xaxis": {
            "backgroundcolor": "#E5ECF6",
            "gridcolor": "white",
            "gridwidth": 2,
            "linecolor": "white",
            "showbackground": true,
            "ticks": "",
            "zerolinecolor": "white"
           },
           "yaxis": {
            "backgroundcolor": "#E5ECF6",
            "gridcolor": "white",
            "gridwidth": 2,
            "linecolor": "white",
            "showbackground": true,
            "ticks": "",
            "zerolinecolor": "white"
           },
           "zaxis": {
            "backgroundcolor": "#E5ECF6",
            "gridcolor": "white",
            "gridwidth": 2,
            "linecolor": "white",
            "showbackground": true,
            "ticks": "",
            "zerolinecolor": "white"
           }
          },
          "shapedefaults": {
           "line": {
            "color": "#2a3f5f"
           }
          },
          "ternary": {
           "aaxis": {
            "gridcolor": "white",
            "linecolor": "white",
            "ticks": ""
           },
           "baxis": {
            "gridcolor": "white",
            "linecolor": "white",
            "ticks": ""
           },
           "bgcolor": "#E5ECF6",
           "caxis": {
            "gridcolor": "white",
            "linecolor": "white",
            "ticks": ""
           }
          },
          "title": {
           "x": 0.05
          },
          "xaxis": {
           "automargin": true,
           "gridcolor": "white",
           "linecolor": "white",
           "ticks": "",
           "title": {
            "standoff": 15
           },
           "zerolinecolor": "white",
           "zerolinewidth": 2
          },
          "yaxis": {
           "automargin": true,
           "gridcolor": "white",
           "linecolor": "white",
           "ticks": "",
           "title": {
            "standoff": 15
           },
           "zerolinecolor": "white",
           "zerolinewidth": 2
          }
         }
        }
       }
      },
      "image/png": "[encoded data removed]",
      "text/html": [
       "<div>                            <div id=\"f21a1405-060a-4ae1-a590-5cb9bb5010ff\" class=\"plotly-graph-div\" style=\"height:1000px; width:100%;\"></div>            <script type=\"text/javascript\">                require([\"plotly\"], function(Plotly) {                    window.PLOTLYENV=window.PLOTLYENV || {};                                    if (document.getElementById(\"f21a1405-060a-4ae1-a590-5cb9bb5010ff\")) {                    Plotly.newPlot(                        \"f21a1405-060a-4ae1-a590-5cb9bb5010ff\",                        [{\"hovertemplate\":\"color=WA_grey<br>symbol=WA_grey<br>x=%{x}<br>y=%{y}<br>z=%{z}<extra></extra>\",\"legendgroup\":\"WA_grey, WA_grey\",\"marker\":{\"color\":\"#2E91E5\",\"symbol\":\"circle\"},\"mode\":\"markers\",\"name\":\"WA_grey, WA_grey\",\"scene\":\"scene\",\"showlegend\":true,\"x\":[137.53636169433594,-56.262630462646484,-101.8308334350586,-126.3387451171875,365.5985412597656,-75.05847930908203,142.1015625,194.7473602294922,-96.55123138427734,-308.6883850097656,-168.21063232421875,-19.44070053100586,-35.15900421142578,79.97142791748047,-7.360789775848389,14.82398796081543,-24.748504638671875,68.2030258178711,-236.02516174316406,-143.91700744628906,-96.54405212402344,-150.90383911132812,14.990151405334473,71.3946304321289,188.27659606933594,117.85889434814453,172.46456909179688,172.86785888671875,241.50009155273438,155.795166015625,66.20468139648438,76.35039520263672,-244.13165283203125,154.24801635742188,68.33566284179688,45.52983093261719,71.33259582519531,-153.37388610839844,-307.5442199707031,-74.69512939453125,-153.27899169921875,-96.53247833251953,-168.61219787597656,3.707404375076294,7.412698268890381,-256.56414794921875,72.81636047363281,-43.454429626464844,114.66053009033203,-307.6024169921875,172.90960693359375,111.0433349609375,34.50399398803711,35.1595344543457],\"y\":[316.2908630371094,-151.96823120117188,58.14432907104492,165.59237670898438,-0.21899865567684174,108.90957641601562,-260.706298828125,-188.89576721191406,49.07513427734375,48.67294692993164,-214.0433807373047,311.9594421386719,177.82766723632812,-201.35272216796875,-232.63710021972656,-358.943115234375,-191.088134765625,-16.470911026000977,114.98287963867188,-12.140998840332031,300.8686218261719,38.624244689941406,-128.7910919189453,-82.59516143798828,44.508914947509766,12.960784912109375,-61.366844177246094,38.94523620605469,43.27525329589844,294.0559997558594,95.74508666992188,-123.5270767211914,-17.08433723449707,72.1883316040039,-41.50460433959961,-301.4018859863281,78.89627075195312,48.19697952270508,-141.02459716796875,-119.84426879882812,-87.3261489868164,-181.6589813232422,-141.4987030029297,12.640944480895996,3.7328357696533203,-109.97866821289062,65.59270477294922,-29.53449058532715,152.10739135742188,-104.42607879638672,40.620155334472656,-151.80335998535156,46.16409683227539,-46.52083969116211],\"z\":[95.54054260253906,-12.820321083068848,-68.1368408203125,294.8573303222656,62.17566680908203,-181.0625762939453,-89.06336212158203,-23.005929946899414,-311.66241455078125,80.24950408935547,26.945302963256836,-118.0635986328125,-297.87530517578125,43.520057678222656,54.566612243652344,46.50788116455078,266.20404052734375,99.0895767211914,-267.8012390136719,343.2989501953125,-4.057465076446533,220.4310302734375,149.7125244140625,221.32986450195312,-120.08837890625,-44.17087936401367,-61.553680419921875,168.43194580078125,237.5181884765625,-122.01895141601562,66.128662109375,-253.4100799560547,122.52082824707031,40.323848724365234,-172.23373413085938,138.76132202148438,-270.1295166015625,59.66466522216797,-86.29853057861328,-282.8005065917969,-327.6665344238281,-230.13658142089844,-73.99262237548828,-109.71223449707031,312.93536376953125,44.86598205566406,-134.95472717285156,-206.4967803955078,276.4169921875,203.76773071289062,298.04901123046875,-163.62135314941406,161.29005432128906,14.142219543457031],\"type\":\"scatter3d\"},{\"hovertemplate\":\"color=WA_black<br>symbol=WA_black<br>x=%{x}<br>y=%{y}<br>z=%{z}<extra></extra>\",\"legendgroup\":\"WA_black, WA_black\",\"marker\":{\"color\":\"#E15F99\",\"symbol\":\"diamond\"},\"mode\":\"markers\",\"name\":\"WA_black, WA_black\",\"scene\":\"scene\",\"showlegend\":true,\"x\":[302.5888671875,-131.2676544189453,214.71006774902344,21.294567108154297,35.83161926269531,116.28775024414062,321.31060791015625,-10.378159523010254,-188.385498046875,-218.76626586914062,-159.38925170898438,-236.9964141845703,299.2949523925781,158.08245849609375,14.706364631652832,-63.68991470336914,-37.71331787109375,27.412193298339844,-26.4920711517334,-127.12429809570312,66.33639526367188,-75.06379699707031,260.93560791015625,158.1382598876953,-82.97467041015625,55.094764709472656,152.9198760986328,-39.79356384277344,-72.14517211914062,-14.632990837097168,164.71653747558594,171.59605407714844,250.0349884033203,-3.3146555423736572,-167.1085968017578,-160.30996704101562,136.52293395996094,-195.5742950439453,221.8895263671875,-158.11178588867188,-305.7806701660156,182.9928741455078,-188.19276428222656,-298.6321105957031,-219.08477783203125,-81.06312561035156,199.48399353027344,238.36050415039062,39.671939849853516,-63.17815399169922,-140.08053588867188],\"y\":[-156.93699645996094,169.73158264160156,27.975664138793945,290.5478210449219,257.6265563964844,-212.65341186523438,-102.44214630126953,187.1264190673828,158.82424926757812,132.82435607910156,179.92303466796875,281.4685363769531,204.27793884277344,179.39288330078125,-278.25518798828125,-281.6404724121094,-182.99032592773438,-239.4397430419922,58.824989318847656,-78.55338287353516,-118.33354949951172,67.99787902832031,160.2262725830078,148.7292938232422,-280.60107421875,-28.635757446289062,-69.21640014648438,-44.831417083740234,-54.38156509399414,136.4044189453125,188.51512145996094,240.32879638671875,-24.688232421875,112.50910186767578,-25.81517219543457,-97.54497528076172,-165.8286895751953,-209.64663696289062,-82.4336166381836,225.5565643310547,36.025089263916016,-293.91522216796875,24.791759490966797,136.2926788330078,100.32804107666016,254.1039581298828,-82.22138977050781,-185.85739135742188,185.32705688476562,-27.569021224975586,-100.0362548828125],\"z\":[10.606688499450684,-73.16279602050781,-239.15249633789062,114.88069152832031,7.951509952545166,289.24102783203125,-124.18672943115234,92.59099578857422,168.9107666015625,-142.01815795898438,42.28718185424805,-15.397137641906738,25.74996566772461,159.98988342285156,-243.82339477539062,-87.19161987304688,-114.86158752441406,-91.65385437011719,26.10637855529785,90.43671417236328,-53.950233459472656,135.968017578125,-142.82276916503906,-186.78298950195312,133.6831512451172,-359.7330627441406,81.53390502929688,202.06640625,-65.54460906982422,211.86082458496094,-18.69456672668457,46.06686019897461,47.56398010253906,-52.92695236206055,-39.7713737487793,-188.2925262451172,155.3981170654297,156.36227416992188,180.30992126464844,-176.9770050048828,-143.38900756835938,35.171539306640625,-151.91827392578125,-55.028076171875,-29.32195281982422,157.3442840576172,-155.2030487060547,171.79173278808594,-147.62881469726562,38.987335205078125,202.64817810058594],\"type\":\"scatter3d\"}],                        {\"template\":{\"data\":{\"histogram2dcontour\":[{\"type\":\"histogram2dcontour\",\"colorbar\":{\"outlinewidth\":0,\"ticks\":\"\"},\"colorscale\":[[0.0,\"#0d0887\"],[0.1111111111111111,\"#46039f\"],[0.2222222222222222,\"#7201a8\"],[0.3333333333333333,\"#9c179e\"],[0.4444444444444444,\"#bd3786\"],[0.5555555555555556,\"#d8576b\"],[0.6666666666666666,\"#ed7953\"],[0.7777777777777778,\"#fb9f3a\"],[0.8888888888888888,\"#fdca26\"],[1.0,\"#f0f921\"]]}],\"choropleth\":[{\"type\":\"choropleth\",\"colorbar\":{\"outlinewidth\":0,\"ticks\":\"\"}}],\"histogram2d\":[{\"type\":\"histogram2d\",\"colorbar\":{\"outlinewidth\":0,\"ticks\":\"\"},\"colorscale\":[[0.0,\"#0d0887\"],[0.1111111111111111,\"#46039f\"],[0.2222222222222222,\"#7201a8\"],[0.3333333333333333,\"#9c179e\"],[0.4444444444444444,\"#bd3786\"],[0.5555555555555556,\"#d8576b\"],[0.6666666666666666,\"#ed7953\"],[0.7777777777777778,\"#fb9f3a\"],[0.8888888888888888,\"#fdca26\"],[1.0,\"#f0f921\"]]}],\"heatmap\":[{\"type\":\"heatmap\",\"colorbar\":{\"outlinewidth\":0,\"ticks\":\"\"},\"colorscale\":[[0.0,\"#0d0887\"],[0.1111111111111111,\"#46039f\"],[0.2222222222222222,\"#7201a8\"],[0.3333333333333333,\"#9c179e\"],[0.4444444444444444,\"#bd3786\"],[0.5555555555555556,\"#d8576b\"],[0.6666666666666666,\"#ed7953\"],[0.7777777777777778,\"#fb9f3a\"],[0.8888888888888888,\"#fdca26\"],[1.0,\"#f0f921\"]]}],\"heatmapgl\":[{\"type\":\"heatmapgl\",\"colorbar\":{\"outlinewidth\":0,\"ticks\":\"\"},\"colorscale\":[[0.0,\"#0d0887\"],[0.1111111111111111,\"#46039f\"],[0.2222222222222222,\"#7201a8\"],[0.3333333333333333,\"#9c179e\"],[0.4444444444444444,\"#bd3786\"],[0.5555555555555556,\"#d8576b\"],[0.6666666666666666,\"#ed7953\"],[0.7777777777777778,\"#fb9f3a\"],[0.8888888888888888,\"#fdca26\"],[1.0,\"#f0f921\"]]}],\"contourcarpet\":[{\"type\":\"contourcarpet\",\"colorbar\":{\"outlinewidth\":0,\"ticks\":\"\"}}],\"contour\":[{\"type\":\"contour\",\"colorbar\":{\"outlinewidth\":0,\"ticks\":\"\"},\"colorscale\":[[0.0,\"#0d0887\"],[0.1111111111111111,\"#46039f\"],[0.2222222222222222,\"#7201a8\"],[0.3333333333333333,\"#9c179e\"],[0.4444444444444444,\"#bd3786\"],[0.5555555555555556,\"#d8576b\"],[0.6666666666666666,\"#ed7953\"],[0.7777777777777778,\"#fb9f3a\"],[0.8888888888888888,\"#fdca26\"],[1.0,\"#f0f921\"]]}],\"surface\":[{\"type\":\"surface\",\"colorbar\":{\"outlinewidth\":0,\"ticks\":\"\"},\"colorscale\":[[0.0,\"#0d0887\"],[0.1111111111111111,\"#46039f\"],[0.2222222222222222,\"#7201a8\"],[0.3333333333333333,\"#9c179e\"],[0.4444444444444444,\"#bd3786\"],[0.5555555555555556,\"#d8576b\"],[0.6666666666666666,\"#ed7953\"],[0.7777777777777778,\"#fb9f3a\"],[0.8888888888888888,\"#fdca26\"],[1.0,\"#f0f921\"]]}],\"mesh3d\":[{\"type\":\"mesh3d\",\"colorbar\":{\"outlinewidth\":0,\"ticks\":\"\"}}],\"scatter\":[{\"fillpattern\":{\"fillmode\":\"overlay\",\"size\":10,\"solidity\":0.2},\"type\":\"scatter\"}],\"parcoords\":[{\"type\":\"parcoords\",\"line\":{\"colorbar\":{\"outlinewidth\":0,\"ticks\":\"\"}}}],\"scatterpolargl\":[{\"type\":\"scatterpolargl\",\"marker\":{\"colorbar\":{\"outlinewidth\":0,\"ticks\":\"\"}}}],\"bar\":[{\"error_x\":{\"color\":\"#2a3f5f\"},\"error_y\":{\"color\":\"#2a3f5f\"},\"marker\":{\"line\":{\"color\":\"#E5ECF6\",\"width\":0.5},\"pattern\":{\"fillmode\":\"overlay\",\"size\":10,\"solidity\":0.2}},\"type\":\"bar\"}],\"scattergeo\":[{\"type\":\"scattergeo\",\"marker\":{\"colorbar\":{\"outlinewidth\":0,\"ticks\":\"\"}}}],\"scatterpolar\":[{\"type\":\"scatterpolar\",\"marker\":{\"colorbar\":{\"outlinewidth\":0,\"ticks\":\"\"}}}],\"histogram\":[{\"marker\":{\"pattern\":{\"fillmode\":\"overlay\",\"size\":10,\"solidity\":0.2}},\"type\":\"histogram\"}],\"scattergl\":[{\"type\":\"scattergl\",\"marker\":{\"colorbar\":{\"outlinewidth\":0,\"ticks\":\"\"}}}],\"scatter3d\":[{\"type\":\"scatter3d\",\"line\":{\"colorbar\":{\"outlinewidth\":0,\"ticks\":\"\"}},\"marker\":{\"colorbar\":{\"outlinewidth\":0,\"ticks\":\"\"}}}],\"scattermapbox\":[{\"type\":\"scattermapbox\",\"marker\":{\"colorbar\":{\"outlinewidth\":0,\"ticks\":\"\"}}}],\"scatterternary\":[{\"type\":\"scatterternary\",\"marker\":{\"colorbar\":{\"outlinewidth\":0,\"ticks\":\"\"}}}],\"scattercarpet\":[{\"type\":\"scattercarpet\",\"marker\":{\"colorbar\":{\"outlinewidth\":0,\"ticks\":\"\"}}}],\"carpet\":[{\"aaxis\":{\"endlinecolor\":\"#2a3f5f\",\"gridcolor\":\"white\",\"linecolor\":\"white\",\"minorgridcolor\":\"white\",\"startlinecolor\":\"#2a3f5f\"},\"baxis\":{\"endlinecolor\":\"#2a3f5f\",\"gridcolor\":\"white\",\"linecolor\":\"white\",\"minorgridcolor\":\"white\",\"startlinecolor\":\"#2a3f5f\"},\"type\":\"carpet\"}],\"table\":[{\"cells\":{\"fill\":{\"color\":\"#EBF0F8\"},\"line\":{\"color\":\"white\"}},\"header\":{\"fill\":{\"color\":\"#C8D4E3\"},\"line\":{\"color\":\"white\"}},\"type\":\"table\"}],\"barpolar\":[{\"marker\":{\"line\":{\"color\":\"#E5ECF6\",\"width\":0.5},\"pattern\":{\"fillmode\":\"overlay\",\"size\":10,\"solidity\":0.2}},\"type\":\"barpolar\"}],\"pie\":[{\"automargin\":true,\"type\":\"pie\"}]},\"layout\":{\"autotypenumbers\":\"strict\",\"colorway\":[\"#636efa\",\"#EF553B\",\"#00cc96\",\"#ab63fa\",\"#FFA15A\",\"#19d3f3\",\"#FF6692\",\"#B6E880\",\"#FF97FF\",\"#FECB52\"],\"font\":{\"color\":\"#2a3f5f\"},\"hovermode\":\"closest\",\"hoverlabel\":{\"align\":\"left\"},\"paper_bgcolor\":\"white\",\"plot_bgcolor\":\"#E5ECF6\",\"polar\":{\"bgcolor\":\"#E5ECF6\",\"angularaxis\":{\"gridcolor\":\"white\",\"linecolor\":\"white\",\"ticks\":\"\"},\"radialaxis\":{\"gridcolor\":\"white\",\"linecolor\":\"white\",\"ticks\":\"\"}},\"ternary\":{\"bgcolor\":\"#E5ECF6\",\"aaxis\":{\"gridcolor\":\"white\",\"linecolor\":\"white\",\"ticks\":\"\"},\"baxis\":{\"gridcolor\":\"white\",\"linecolor\":\"white\",\"ticks\":\"\"},\"caxis\":{\"gridcolor\":\"white\",\"linecolor\":\"white\",\"ticks\":\"\"}},\"coloraxis\":{\"colorbar\":{\"outlinewidth\":0,\"ticks\":\"\"}},\"colorscale\":{\"sequential\":[[0.0,\"#0d0887\"],[0.1111111111111111,\"#46039f\"],[0.2222222222222222,\"#7201a8\"],[0.3333333333333333,\"#9c179e\"],[0.4444444444444444,\"#bd3786\"],[0.5555555555555556,\"#d8576b\"],[0.6666666666666666,\"#ed7953\"],[0.7777777777777778,\"#fb9f3a\"],[0.8888888888888888,\"#fdca26\"],[1.0,\"#f0f921\"]],\"sequentialminus\":[[0.0,\"#0d0887\"],[0.1111111111111111,\"#46039f\"],[0.2222222222222222,\"#7201a8\"],[0.3333333333333333,\"#9c179e\"],[0.4444444444444444,\"#bd3786\"],[0.5555555555555556,\"#d8576b\"],[0.6666666666666666,\"#ed7953\"],[0.7777777777777778,\"#fb9f3a\"],[0.8888888888888888,\"#fdca26\"],[1.0,\"#f0f921\"]],\"diverging\":[[0,\"#8e0152\"],[0.1,\"#c51b7d\"],[0.2,\"#de77ae\"],[0.3,\"#f1b6da\"],[0.4,\"#fde0ef\"],[0.5,\"#f7f7f7\"],[0.6,\"#e6f5d0\"],[0.7,\"#b8e186\"],[0.8,\"#7fbc41\"],[0.9,\"#4d9221\"],[1,\"#276419\"]]},\"xaxis\":{\"gridcolor\":\"white\",\"linecolor\":\"white\",\"ticks\":\"\",\"title\":{\"standoff\":15},\"zerolinecolor\":\"white\",\"automargin\":true,\"zerolinewidth\":2},\"yaxis\":{\"gridcolor\":\"white\",\"linecolor\":\"white\",\"ticks\":\"\",\"title\":{\"standoff\":15},\"zerolinecolor\":\"white\",\"automargin\":true,\"zerolinewidth\":2},\"scene\":{\"xaxis\":{\"backgroundcolor\":\"#E5ECF6\",\"gridcolor\":\"white\",\"linecolor\":\"white\",\"showbackground\":true,\"ticks\":\"\",\"zerolinecolor\":\"white\",\"gridwidth\":2},\"yaxis\":{\"backgroundcolor\":\"#E5ECF6\",\"gridcolor\":\"white\",\"linecolor\":\"white\",\"showbackground\":true,\"ticks\":\"\",\"zerolinecolor\":\"white\",\"gridwidth\":2},\"zaxis\":{\"backgroundcolor\":\"#E5ECF6\",\"gridcolor\":\"white\",\"linecolor\":\"white\",\"showbackground\":true,\"ticks\":\"\",\"zerolinecolor\":\"white\",\"gridwidth\":2}},\"shapedefaults\":{\"line\":{\"color\":\"#2a3f5f\"}},\"annotationdefaults\":{\"arrowcolor\":\"#2a3f5f\",\"arrowhead\":0,\"arrowwidth\":1},\"geo\":{\"bgcolor\":\"white\",\"landcolor\":\"#E5ECF6\",\"subunitcolor\":\"white\",\"showland\":true,\"showlakes\":true,\"lakecolor\":\"white\"},\"title\":{\"x\":0.05},\"mapbox\":{\"style\":\"light\"}}},\"scene\":{\"domain\":{\"x\":[0.0,1.0],\"y\":[0.0,1.0]},\"xaxis\":{\"title\":{\"text\":\"x\"}},\"yaxis\":{\"title\":{\"text\":\"y\"}},\"zaxis\":{\"title\":{\"text\":\"z\"}}},\"legend\":{\"title\":{\"text\":\"color, symbol\"},\"tracegroupgap\":0},\"margin\":{\"t\":60},\"height\":1000},                        {\"responsive\": true}                    ).then(function(){\n",
       "                            \n",
       "var gd = document.getElementById('f21a1405-060a-4ae1-a590-5cb9bb5010ff');\n",
       "var x = new MutationObserver(function (mutations, observer) {{\n",
       "        var display = window.getComputedStyle(gd).display;\n",
       "        if (!display || display === 'none') {{\n",
       "            console.log([gd, 'removed!']);\n",
       "            Plotly.purge(gd);\n",
       "            observer.disconnect();\n",
       "        }}\n",
       "}});\n",
       "\n",
       "// Listen for the removal of the full notebook cells\n",
       "var notebookContainer = gd.closest('#notebook-container');\n",
       "if (notebookContainer) {{\n",
       "    x.observe(notebookContainer, {childList: true});\n",
       "}}\n",
       "\n",
       "// Listen for the clearing of the current output cell\n",
       "var outputEl = gd.closest('.output');\n",
       "if (outputEl) {{\n",
       "    x.observe(outputEl, {childList: true});\n",
       "}}\n",
       "\n",
       "                        })                };                });            </script>        </div>"
      ]
     },
     "metadata": {},
     "output_type": "display_data"
    }
   ],
   "source": [
    "fig2 = px.scatter_3d(tsne3d_df_LabelCol_comb, \n",
    "                     x=tsne3d_df_LabelCol_comb.iloc[:,1], \n",
    "                     y=tsne3d_df_LabelCol_comb.iloc[:,2], \n",
    "                     z=tsne3d_df_LabelCol_comb.iloc[:,3], \n",
    "                     color=tsne3d_labels, height=1000,\n",
    "                     color_discrete_sequence=px.colors.qualitative.Dark24,\n",
    "                     symbol = tsne3d_labels)\n",
    "fig.update_traces(marker_size = 5)\n",
    "\n",
    "fig2.show()\n",
    "\n",
    "#if save_plots == True:\n",
    "#    fig.write_html(filepath)"
   ]
  },
  {
   "cell_type": "code",
   "execution_count": null,
   "metadata": {},
   "outputs": [],
   "source": []
  },
  {
   "cell_type": "code",
   "execution_count": null,
   "metadata": {},
   "outputs": [],
   "source": []
  },
  {
   "cell_type": "code",
   "execution_count": 209,
   "metadata": {},
   "outputs": [
    {
     "name": "stderr",
     "output_type": "stream",
     "text": [
      "C:\\Users\\tom\\Anaconda3\\lib\\site-packages\\sklearn\\manifold\\_t_sne.py:793: FutureWarning:\n",
      "\n",
      "The default learning rate in TSNE will change from 200.0 to 'auto' in 1.2.\n",
      "\n"
     ]
    },
    {
     "ename": "TypeError",
     "evalue": "NumPy boolean array indexing assignment requires a 0 or 1-dimensional input, input has 2 dimensions",
     "output_type": "error",
     "traceback": [
      "\u001b[1;31m---------------------------------------------------------------------------\u001b[0m",
      "\u001b[1;31mTypeError\u001b[0m                                 Traceback (most recent call last)",
      "\u001b[1;32m~\\AppData\\Local\\Temp\\ipykernel_9988\\420987407.py\u001b[0m in \u001b[0;36m<module>\u001b[1;34m\u001b[0m\n\u001b[0;32m     15\u001b[0m \u001b[1;32mfor\u001b[0m \u001b[0mi\u001b[0m \u001b[1;32min\u001b[0m \u001b[0mrange\u001b[0m\u001b[1;33m(\u001b[0m\u001b[1;36m10\u001b[0m\u001b[1;33m)\u001b[0m\u001b[1;33m:\u001b[0m\u001b[1;33m\u001b[0m\u001b[1;33m\u001b[0m\u001b[0m\n\u001b[0;32m     16\u001b[0m     \u001b[0mmask\u001b[0m \u001b[1;33m=\u001b[0m \u001b[1;33m(\u001b[0m\u001b[0mclusters\u001b[0m \u001b[1;33m==\u001b[0m \u001b[0mi\u001b[0m\u001b[1;33m)\u001b[0m\u001b[1;33m\u001b[0m\u001b[1;33m\u001b[0m\u001b[0m\n\u001b[1;32m---> 17\u001b[1;33m     \u001b[0mlabels\u001b[0m\u001b[1;33m[\u001b[0m\u001b[0mmask\u001b[0m\u001b[1;33m]\u001b[0m \u001b[1;33m=\u001b[0m \u001b[0mmode\u001b[0m\u001b[1;33m(\u001b[0m\u001b[0mX\u001b[0m\u001b[1;33m[\u001b[0m\u001b[0mmask\u001b[0m\u001b[1;33m]\u001b[0m\u001b[1;33m)\u001b[0m\u001b[1;33m[\u001b[0m\u001b[1;36m0\u001b[0m\u001b[1;33m]\u001b[0m\u001b[1;33m\u001b[0m\u001b[1;33m\u001b[0m\u001b[0m\n\u001b[0m\u001b[0;32m     18\u001b[0m \u001b[1;33m\u001b[0m\u001b[0m\n\u001b[0;32m     19\u001b[0m \u001b[1;31m# Compute the accuracy\u001b[0m\u001b[1;33m\u001b[0m\u001b[1;33m\u001b[0m\u001b[1;33m\u001b[0m\u001b[0m\n",
      "\u001b[1;31mTypeError\u001b[0m: NumPy boolean array indexing assignment requires a 0 or 1-dimensional input, input has 2 dimensions"
     ]
    }
   ],
   "source": [
    "from scipy.stats import mode\n",
    "\n",
    "#from sklearn.manifold import TSNE\n",
    "\n",
    "# Project the data: this step will take several seconds\n",
    "tsne = TSNE(n_components=2, init='random', random_state=0)\n",
    "digits_proj = tsne.fit_transform(X_CR)\n",
    "\n",
    "# Compute the clusters\n",
    "kmeans = KMeans(n_clusters=10, random_state=0)\n",
    "clusters = kmeans.fit_predict(digits_proj)\n",
    "\n",
    "# Permute the labels\n",
    "labels = np.zeros_like(clusters)\n",
    "for i in range(10):\n",
    "    mask = (clusters == i)\n",
    "    labels[mask] = mode(X[mask])[0]\n",
    "\n",
    "# Compute the accuracy\n",
    "accuracy_score(digits.target, labels)\n",
    "\n"
   ]
  },
  {
   "cell_type": "markdown",
   "metadata": {},
   "source": [
    "# PCA"
   ]
  },
  {
   "cell_type": "code",
   "execution_count": 34,
   "metadata": {},
   "outputs": [],
   "source": [
    "df = X_CR"
   ]
  },
  {
   "cell_type": "code",
   "execution_count": null,
   "metadata": {},
   "outputs": [],
   "source": []
  },
  {
   "cell_type": "code",
   "execution_count": 35,
   "metadata": {},
   "outputs": [
    {
     "data": {
      "text/plain": [
       "StandardScaler()"
      ]
     },
     "execution_count": 35,
     "metadata": {},
     "output_type": "execute_result"
    }
   ],
   "source": [
    "scaler = StandardScaler()\n",
    "scaler.fit(df)"
   ]
  },
  {
   "cell_type": "code",
   "execution_count": 91,
   "metadata": {},
   "outputs": [],
   "source": [
    "scaled_data = scaler.transform(df)"
   ]
  },
  {
   "cell_type": "code",
   "execution_count": 107,
   "metadata": {},
   "outputs": [],
   "source": [
    "pca = PCA(n_components=3)"
   ]
  },
  {
   "cell_type": "code",
   "execution_count": 108,
   "metadata": {},
   "outputs": [
    {
     "data": {
      "text/plain": [
       "PCA(n_components=3)"
      ]
     },
     "execution_count": 108,
     "metadata": {},
     "output_type": "execute_result"
    }
   ],
   "source": [
    "pca.fit(scaled_data)"
   ]
  },
  {
   "cell_type": "code",
   "execution_count": 109,
   "metadata": {},
   "outputs": [],
   "source": [
    "x_pca = pca.transform(scaled_data)"
   ]
  },
  {
   "cell_type": "code",
   "execution_count": 110,
   "metadata": {},
   "outputs": [
    {
     "data": {
      "text/plain": [
       "(105, 15)"
      ]
     },
     "execution_count": 110,
     "metadata": {},
     "output_type": "execute_result"
    }
   ],
   "source": [
    "scaled_data.shape"
   ]
  },
  {
   "cell_type": "code",
   "execution_count": 111,
   "metadata": {},
   "outputs": [
    {
     "data": {
      "text/plain": [
       "(105, 3)"
      ]
     },
     "execution_count": 111,
     "metadata": {},
     "output_type": "execute_result"
    }
   ],
   "source": [
    "x_pca.shape"
   ]
  },
  {
   "cell_type": "code",
   "execution_count": 112,
   "metadata": {},
   "outputs": [],
   "source": [
    "LabelCol = pd.DataFrame(data=X['Region'])"
   ]
  },
  {
   "cell_type": "code",
   "execution_count": 113,
   "metadata": {},
   "outputs": [
    {
     "data": {
      "text/html": [
       "<div>\n",
       "<style scoped>\n",
       "    .dataframe tbody tr th:only-of-type {\n",
       "        vertical-align: middle;\n",
       "    }\n",
       "\n",
       "    .dataframe tbody tr th {\n",
       "        vertical-align: top;\n",
       "    }\n",
       "\n",
       "    .dataframe thead th {\n",
       "        text-align: right;\n",
       "    }\n",
       "</style>\n",
       "<table border=\"1\" class=\"dataframe\">\n",
       "  <thead>\n",
       "    <tr style=\"text-align: right;\">\n",
       "      <th></th>\n",
       "      <th>Region</th>\n",
       "    </tr>\n",
       "  </thead>\n",
       "  <tbody>\n",
       "    <tr>\n",
       "      <th>1078</th>\n",
       "      <td>WA_grey</td>\n",
       "    </tr>\n",
       "    <tr>\n",
       "      <th>1079</th>\n",
       "      <td>WA_grey</td>\n",
       "    </tr>\n",
       "    <tr>\n",
       "      <th>1080</th>\n",
       "      <td>WA_grey</td>\n",
       "    </tr>\n",
       "    <tr>\n",
       "      <th>1081</th>\n",
       "      <td>WA_black</td>\n",
       "    </tr>\n",
       "    <tr>\n",
       "      <th>1082</th>\n",
       "      <td>WA_black</td>\n",
       "    </tr>\n",
       "  </tbody>\n",
       "</table>\n",
       "</div>"
      ],
      "text/plain": [
       "        Region\n",
       "1078   WA_grey\n",
       "1079   WA_grey\n",
       "1080   WA_grey\n",
       "1081  WA_black\n",
       "1082  WA_black"
      ]
     },
     "execution_count": 113,
     "metadata": {},
     "output_type": "execute_result"
    }
   ],
   "source": [
    "LabelCol.head()"
   ]
  },
  {
   "cell_type": "code",
   "execution_count": 114,
   "metadata": {},
   "outputs": [],
   "source": [
    "PCA_DF = pd.DataFrame(data=x_pca)"
   ]
  },
  {
   "cell_type": "code",
   "execution_count": 115,
   "metadata": {},
   "outputs": [],
   "source": [
    "#print(PCA_DF)"
   ]
  },
  {
   "cell_type": "code",
   "execution_count": 116,
   "metadata": {},
   "outputs": [],
   "source": [
    "#IssueCol = coins['issue or phase']"
   ]
  },
  {
   "cell_type": "code",
   "execution_count": 117,
   "metadata": {},
   "outputs": [],
   "source": [
    "pca3d_df_NoduleCol_comb = pd.concat([LabelCol.reset_index(drop=True), PCA_DF], axis=1)"
   ]
  },
  {
   "cell_type": "code",
   "execution_count": 118,
   "metadata": {},
   "outputs": [
    {
     "data": {
      "text/html": [
       "<div>\n",
       "<style scoped>\n",
       "    .dataframe tbody tr th:only-of-type {\n",
       "        vertical-align: middle;\n",
       "    }\n",
       "\n",
       "    .dataframe tbody tr th {\n",
       "        vertical-align: top;\n",
       "    }\n",
       "\n",
       "    .dataframe thead th {\n",
       "        text-align: right;\n",
       "    }\n",
       "</style>\n",
       "<table border=\"1\" class=\"dataframe\">\n",
       "  <thead>\n",
       "    <tr style=\"text-align: right;\">\n",
       "      <th></th>\n",
       "      <th>Region</th>\n",
       "      <th>0</th>\n",
       "      <th>1</th>\n",
       "      <th>2</th>\n",
       "    </tr>\n",
       "  </thead>\n",
       "  <tbody>\n",
       "    <tr>\n",
       "      <th>0</th>\n",
       "      <td>WA_grey</td>\n",
       "      <td>3.698541</td>\n",
       "      <td>0.605268</td>\n",
       "      <td>3.741512</td>\n",
       "    </tr>\n",
       "    <tr>\n",
       "      <th>1</th>\n",
       "      <td>WA_grey</td>\n",
       "      <td>-1.793775</td>\n",
       "      <td>-0.777731</td>\n",
       "      <td>-1.523145</td>\n",
       "    </tr>\n",
       "    <tr>\n",
       "      <th>2</th>\n",
       "      <td>WA_grey</td>\n",
       "      <td>-1.130880</td>\n",
       "      <td>-0.644025</td>\n",
       "      <td>0.321757</td>\n",
       "    </tr>\n",
       "    <tr>\n",
       "      <th>3</th>\n",
       "      <td>WA_black</td>\n",
       "      <td>-2.103071</td>\n",
       "      <td>0.452253</td>\n",
       "      <td>0.996940</td>\n",
       "    </tr>\n",
       "    <tr>\n",
       "      <th>4</th>\n",
       "      <td>WA_black</td>\n",
       "      <td>-1.798485</td>\n",
       "      <td>0.289739</td>\n",
       "      <td>1.435049</td>\n",
       "    </tr>\n",
       "  </tbody>\n",
       "</table>\n",
       "</div>"
      ],
      "text/plain": [
       "     Region         0         1         2\n",
       "0   WA_grey  3.698541  0.605268  3.741512\n",
       "1   WA_grey -1.793775 -0.777731 -1.523145\n",
       "2   WA_grey -1.130880 -0.644025  0.321757\n",
       "3  WA_black -2.103071  0.452253  0.996940\n",
       "4  WA_black -1.798485  0.289739  1.435049"
      ]
     },
     "execution_count": 118,
     "metadata": {},
     "output_type": "execute_result"
    }
   ],
   "source": [
    "pca3d_df_NoduleCol_comb.head()"
   ]
  },
  {
   "cell_type": "code",
   "execution_count": 119,
   "metadata": {},
   "outputs": [],
   "source": [
    "#print(pca3d_df_NoduleCol_comb)"
   ]
  },
  {
   "cell_type": "code",
   "execution_count": 120,
   "metadata": {},
   "outputs": [],
   "source": [
    "pca3d_df_NoduleCol_comb.columns = ['Nodule', 'PC1', 'PC2', 'PC3']"
   ]
  },
  {
   "cell_type": "code",
   "execution_count": null,
   "metadata": {},
   "outputs": [],
   "source": []
  },
  {
   "cell_type": "code",
   "execution_count": null,
   "metadata": {},
   "outputs": [],
   "source": []
  },
  {
   "cell_type": "markdown",
   "metadata": {},
   "source": [
    "## 3D PCA Visualisation"
   ]
  },
  {
   "cell_type": "code",
   "execution_count": null,
   "metadata": {},
   "outputs": [],
   "source": []
  },
  {
   "cell_type": "code",
   "execution_count": 121,
   "metadata": {},
   "outputs": [
    {
     "data": {
      "application/vnd.plotly.v1+json": {
       "config": {
        "plotlyServerURL": "https://plot.ly"
       },
       "data": [
        {
         "hovertemplate": "color=WA_grey<br>symbol=WA_grey<br>x=%{x}<br>y=%{y}<br>z=%{z}<extra></extra>",
         "legendgroup": "WA_grey, WA_grey",
         "marker": {
          "color": "#2E91E5",
          "size": 5,
          "symbol": "circle"
         },
         "mode": "markers",
         "name": "WA_grey, WA_grey",
         "scene": "scene",
         "showlegend": true,
         "type": "scatter3d",
         "x": [
          3.698540804829553,
          -1.7937750004222497,
          -1.1308798630769623,
          0.011752951176686253,
          -1.0645084276584984,
          -0.5609106854515972,
          -1.6909423681829205,
          -1.8383450342159944,
          -2.598188392620704,
          0.684428769946192,
          -0.5423638494016336,
          0.7885329716643822,
          -1.59811605437469,
          -1.051242394505911,
          -1.1397652310740694,
          -1.0194610552142593,
          4.516723591007782,
          2.141218392208489,
          -1.738805817097985,
          -1.5837319498793783,
          -1.3586351844633342,
          0.026476409088566234,
          -0.21777948932172042,
          -0.20461137081846437,
          -1.2957331248987565,
          -1.0984324390308302,
          -0.2785319907747631,
          -0.3460656454083835,
          0.8732106333983156,
          0.9983731749041986,
          -0.10781324962442793,
          -0.8224448413814238,
          0.4682761979305144,
          -0.40871260903790785,
          -2.10345683124121,
          -0.22306222420596694,
          2.2885340774120886,
          0.43525524047363084,
          -2.326025051683603,
          -1.2370426480305112,
          0.03173223075930081,
          -1.4638176207356384,
          -1.5690474928713165,
          -1.9232772924637658,
          -1.9903126293157665,
          -0.6834967601171289,
          -1.9082792913009285,
          -0.8738391369465777,
          1.3300969058571384,
          0.819273365889031,
          1.5232759533049935,
          -0.4220317674962246,
          -0.10991755352893673,
          -0.27494179417189146
         ],
         "y": [
          0.6052675887821403,
          -0.7777307090895699,
          -0.6440253787017853,
          -3.2292170686070687,
          -2.198334618184574,
          -1.4544465970334886,
          0.6021852473425795,
          0.179106675735372,
          0.6298121840182717,
          -2.204976661427884,
          -1.5063830557848732,
          -3.426010649295561,
          -0.8448636327258631,
          -2.121025962779364,
          -1.620821692465779,
          -0.8434011796929116,
          -3.082447359772651,
          -1.8562154884941153,
          2.5750219900068463,
          2.749479200270836,
          4.921709616866432,
          0.3228868266465492,
          -0.0687316113532664,
          0.22688572698749915,
          0.29698261304068874,
          -0.3447370484296591,
          0.23498771441225283,
          0.5223713800130411,
          0.3989966428692573,
          0.01704092675270949,
          -1.3153932148430487,
          0.35742945418340805,
          -4.744902678668414,
          -1.7945649055732422,
          -0.4096663387173764,
          -0.792102459789833,
          1.137985553467281,
          -1.8178178517121504,
          0.6274542386738875,
          0.8669965247735899,
          1.222001727724844,
          1.6645230002324198,
          -0.5182420665758466,
          -0.41600045301164434,
          -0.6124788137160817,
          -2.8741301160292516,
          0.16109400101383559,
          1.2130908466854997,
          1.2489636182159243,
          2.8634395004751894,
          -0.08167453782041438,
          0.24883986560718774,
          -0.8441757173969737,
          -1.530209942316751
         ],
         "z": [
          3.7415123025850363,
          -1.5231448595416188,
          0.3217570942031403,
          2.0241083693772515,
          0.8176762156061909,
          1.6569487262683442,
          -0.10356618574839964,
          -0.33417130557489105,
          -0.7961379590670506,
          0.6498872977735534,
          0.18217736309190308,
          1.014652939444868,
          -2.76408831449787,
          -2.3961322857910017,
          -2.4772874012023576,
          -2.3990811454878043,
          -1.4691836543769938,
          -1.1693153469972033,
          1.2045631696893737,
          0.7516305884793821,
          2.3861669690044067,
          -1.1763329774675377,
          -1.0608820589687828,
          -0.8423014187376423,
          0.5516394906725508,
          0.7448607907846819,
          0.15494722846868922,
          -1.7597079566138054,
          -1.8604484219601347,
          -3.042986524852883,
          -0.4243960124298644,
          -0.3342515804445683,
          0.9541611899323165,
          0.383870426194388,
          -1.7254492567352053,
          -2.539985977035085,
          0.4057698603665918,
          1.5886531475095313,
          1.0270175110918311,
          -0.5257223184213203,
          -0.7828609999074364,
          -1.2432108846472993,
          0.49855986217825893,
          0.5606789010857666,
          0.08252970408441561,
          0.4189121058622523,
          0.6527013115595438,
          0.06950198948012365,
          -1.6530711804892837,
          -0.8468935943704962,
          -1.5779075726364662,
          -0.3856306903414047,
          -0.8262455181838043,
          -0.4908667177975107
         ]
        },
        {
         "hovertemplate": "color=WA_black<br>symbol=WA_black<br>x=%{x}<br>y=%{y}<br>z=%{z}<extra></extra>",
         "legendgroup": "WA_black, WA_black",
         "marker": {
          "color": "#E15F99",
          "size": 5,
          "symbol": "diamond"
         },
         "mode": "markers",
         "name": "WA_black, WA_black",
         "scene": "scene",
         "showlegend": true,
         "type": "scatter3d",
         "x": [
          -2.1030709766407254,
          -1.798484681156225,
          -1.1657774554102067,
          3.4484946163332424,
          3.3524853676628332,
          3.897876309052954,
          3.067797984621883,
          4.807395599743155,
          1.5345924533276465,
          -2.5054454485075204,
          -2.044330838614166,
          -0.5828704365789651,
          2.32921460324936,
          3.0123262757937215,
          3.5322596876906354,
          -0.4483121486619451,
          -1.3115836471526057,
          -1.2090895080381296,
          -0.38688963095108886,
          -0.43827633017240564,
          1.4990879301874291,
          1.3879328416336514,
          0.30367969834537784,
          -0.08703195358092468,
          -0.964488866169761,
          -0.060962147240835325,
          3.533103835360584,
          -1.5457623676137433,
          -1.5179963694970728,
          -0.9631532580744555,
          4.991139738454325,
          4.556277851126829,
          4.948914169963602,
          -0.8991639127050712,
          -0.992095004809727,
          -1.0465547777543749,
          0.6111273812934602,
          1.6150000267731666,
          1.8749806812786782,
          -2.8029893163143993,
          -2.5065090240851924,
          -2.5046711156913766,
          -2.5620273977152004,
          -2.46042694732095,
          -2.514358607050385,
          3.8343336295934543,
          0.7462169060645697,
          1.2593692361937365,
          -0.061019771129111985,
          -0.44198114699616425,
          -0.2556412459160929
         ],
         "y": [
          0.45225309443713146,
          0.28973873054435006,
          0.5004797244682042,
          1.1887170888984735,
          1.6810375279930403,
          0.3685541504535022,
          0.599515020272432,
          2.2922782400339385,
          0.8643679075766338,
          0.4648053534381947,
          1.2067091966241643,
          -2.1394172543725145,
          2.397084286014364,
          2.0458404362430858,
          1.1590882732355632,
          0.946068499715056,
          0.16999383638672885,
          0.7118286575989146,
          -1.0243939904555337,
          -1.5546408194643093,
          -0.5938067633987089,
          0.1506200030483118,
          -0.026628528547806025,
          0.8280602935733233,
          0.5725067206648833,
          0.45629977141497846,
          -1.9517808975825788,
          0.08269327036284302,
          -0.5304704686683983,
          0.2165819992567862,
          -1.193804889334722,
          -0.6041178067104753,
          1.3727905042029485,
          -0.02275724699588907,
          0.2006311641163381,
          0.888135919109264,
          1.460811009280338,
          1.0273093450204376,
          0.7246959340123038,
          0.8371577718860354,
          0.8389000540389727,
          0.7876718457609913,
          0.08335180307489343,
          0.11533314421036928,
          0.2966904770987396,
          -0.44744297891933554,
          -0.16734529083203958,
          1.379371173476034,
          -0.8195032261995024,
          -0.4336339139441646,
          -0.06805300690469077
         ],
         "z": [
          0.9969397905697039,
          1.435048936427103,
          1.5001681003781677,
          1.4392195460223633,
          0.6358998058523987,
          0.5660152290409034,
          2.2401092965283516,
          2.316336343601455,
          1.2921809647713083,
          0.5184796175576155,
          0.6299828001530724,
          2.7723294194652386,
          -1.5207856861062228,
          -1.477157451868943,
          -0.5945020844118014,
          -0.6943329811918617,
          -0.46927108625357644,
          -0.615622822439111,
          0.5494300913664961,
          1.6391322586171828,
          0.6483024761288875,
          0.9530925874438234,
          2.6636498483044253,
          1.2450708033683136,
          -2.253243969894688,
          -2.438325153290835,
          -1.5398369176669302,
          0.2565945151381405,
          0.080622438860839,
          0.42661583033856615,
          -0.24292786841955144,
          1.4655946236132897,
          -0.3317857423110939,
          0.3044479980136239,
          -0.20460569023070407,
          -0.20046285205173123,
          -0.7306064050037907,
          -0.9162850984010187,
          -1.8431423814878074,
          0.22085479553851062,
          0.05134862444150817,
          0.11049945182427807,
          1.802850357032593,
          1.3272762986702067,
          1.616018222994349,
          0.33125206196747464,
          -0.2882024580435313,
          -1.7285376679165254,
          0.640906475544864,
          0.5231463200854064,
          0.5765939528605973
         ]
        }
       ],
       "layout": {
        "autosize": true,
        "legend": {
         "title": {
          "text": "color, symbol"
         },
         "tracegroupgap": 0
        },
        "margin": {
         "t": 60
        },
        "scene": {
         "aspectmode": "auto",
         "aspectratio": {
          "x": 0.9747974197778827,
          "y": 1.2089854629639734,
          "z": 0.8485248197713858
         },
         "camera": {
          "center": {
           "x": 0,
           "y": 0,
           "z": 0
          },
          "eye": {
           "x": 1.3702532719854157,
           "y": 0.4166846917558787,
           "z": 0.7748777766926909
          },
          "projection": {
           "type": "perspective"
          },
          "up": {
           "x": 0,
           "y": 0,
           "z": 1
          }
         },
         "domain": {
          "x": [
           0,
           1
          ],
          "y": [
           0,
           1
          ]
         },
         "xaxis": {
          "title": {
           "text": "x"
          },
          "type": "linear"
         },
         "yaxis": {
          "title": {
           "text": "y"
          },
          "type": "linear"
         },
         "zaxis": {
          "title": {
           "text": "z"
          },
          "type": "linear"
         }
        },
        "template": {
         "data": {
          "bar": [
           {
            "error_x": {
             "color": "#2a3f5f"
            },
            "error_y": {
             "color": "#2a3f5f"
            },
            "marker": {
             "line": {
              "color": "#E5ECF6",
              "width": 0.5
             },
             "pattern": {
              "fillmode": "overlay",
              "size": 10,
              "solidity": 0.2
             }
            },
            "type": "bar"
           }
          ],
          "barpolar": [
           {
            "marker": {
             "line": {
              "color": "#E5ECF6",
              "width": 0.5
             },
             "pattern": {
              "fillmode": "overlay",
              "size": 10,
              "solidity": 0.2
             }
            },
            "type": "barpolar"
           }
          ],
          "carpet": [
           {
            "aaxis": {
             "endlinecolor": "#2a3f5f",
             "gridcolor": "white",
             "linecolor": "white",
             "minorgridcolor": "white",
             "startlinecolor": "#2a3f5f"
            },
            "baxis": {
             "endlinecolor": "#2a3f5f",
             "gridcolor": "white",
             "linecolor": "white",
             "minorgridcolor": "white",
             "startlinecolor": "#2a3f5f"
            },
            "type": "carpet"
           }
          ],
          "choropleth": [
           {
            "colorbar": {
             "outlinewidth": 0,
             "ticks": ""
            },
            "type": "choropleth"
           }
          ],
          "contour": [
           {
            "colorbar": {
             "outlinewidth": 0,
             "ticks": ""
            },
            "colorscale": [
             [
              0,
              "#0d0887"
             ],
             [
              0.1111111111111111,
              "#46039f"
             ],
             [
              0.2222222222222222,
              "#7201a8"
             ],
             [
              0.3333333333333333,
              "#9c179e"
             ],
             [
              0.4444444444444444,
              "#bd3786"
             ],
             [
              0.5555555555555556,
              "#d8576b"
             ],
             [
              0.6666666666666666,
              "#ed7953"
             ],
             [
              0.7777777777777778,
              "#fb9f3a"
             ],
             [
              0.8888888888888888,
              "#fdca26"
             ],
             [
              1,
              "#f0f921"
             ]
            ],
            "type": "contour"
           }
          ],
          "contourcarpet": [
           {
            "colorbar": {
             "outlinewidth": 0,
             "ticks": ""
            },
            "type": "contourcarpet"
           }
          ],
          "heatmap": [
           {
            "colorbar": {
             "outlinewidth": 0,
             "ticks": ""
            },
            "colorscale": [
             [
              0,
              "#0d0887"
             ],
             [
              0.1111111111111111,
              "#46039f"
             ],
             [
              0.2222222222222222,
              "#7201a8"
             ],
             [
              0.3333333333333333,
              "#9c179e"
             ],
             [
              0.4444444444444444,
              "#bd3786"
             ],
             [
              0.5555555555555556,
              "#d8576b"
             ],
             [
              0.6666666666666666,
              "#ed7953"
             ],
             [
              0.7777777777777778,
              "#fb9f3a"
             ],
             [
              0.8888888888888888,
              "#fdca26"
             ],
             [
              1,
              "#f0f921"
             ]
            ],
            "type": "heatmap"
           }
          ],
          "heatmapgl": [
           {
            "colorbar": {
             "outlinewidth": 0,
             "ticks": ""
            },
            "colorscale": [
             [
              0,
              "#0d0887"
             ],
             [
              0.1111111111111111,
              "#46039f"
             ],
             [
              0.2222222222222222,
              "#7201a8"
             ],
             [
              0.3333333333333333,
              "#9c179e"
             ],
             [
              0.4444444444444444,
              "#bd3786"
             ],
             [
              0.5555555555555556,
              "#d8576b"
             ],
             [
              0.6666666666666666,
              "#ed7953"
             ],
             [
              0.7777777777777778,
              "#fb9f3a"
             ],
             [
              0.8888888888888888,
              "#fdca26"
             ],
             [
              1,
              "#f0f921"
             ]
            ],
            "type": "heatmapgl"
           }
          ],
          "histogram": [
           {
            "marker": {
             "pattern": {
              "fillmode": "overlay",
              "size": 10,
              "solidity": 0.2
             }
            },
            "type": "histogram"
           }
          ],
          "histogram2d": [
           {
            "colorbar": {
             "outlinewidth": 0,
             "ticks": ""
            },
            "colorscale": [
             [
              0,
              "#0d0887"
             ],
             [
              0.1111111111111111,
              "#46039f"
             ],
             [
              0.2222222222222222,
              "#7201a8"
             ],
             [
              0.3333333333333333,
              "#9c179e"
             ],
             [
              0.4444444444444444,
              "#bd3786"
             ],
             [
              0.5555555555555556,
              "#d8576b"
             ],
             [
              0.6666666666666666,
              "#ed7953"
             ],
             [
              0.7777777777777778,
              "#fb9f3a"
             ],
             [
              0.8888888888888888,
              "#fdca26"
             ],
             [
              1,
              "#f0f921"
             ]
            ],
            "type": "histogram2d"
           }
          ],
          "histogram2dcontour": [
           {
            "colorbar": {
             "outlinewidth": 0,
             "ticks": ""
            },
            "colorscale": [
             [
              0,
              "#0d0887"
             ],
             [
              0.1111111111111111,
              "#46039f"
             ],
             [
              0.2222222222222222,
              "#7201a8"
             ],
             [
              0.3333333333333333,
              "#9c179e"
             ],
             [
              0.4444444444444444,
              "#bd3786"
             ],
             [
              0.5555555555555556,
              "#d8576b"
             ],
             [
              0.6666666666666666,
              "#ed7953"
             ],
             [
              0.7777777777777778,
              "#fb9f3a"
             ],
             [
              0.8888888888888888,
              "#fdca26"
             ],
             [
              1,
              "#f0f921"
             ]
            ],
            "type": "histogram2dcontour"
           }
          ],
          "mesh3d": [
           {
            "colorbar": {
             "outlinewidth": 0,
             "ticks": ""
            },
            "type": "mesh3d"
           }
          ],
          "parcoords": [
           {
            "line": {
             "colorbar": {
              "outlinewidth": 0,
              "ticks": ""
             }
            },
            "type": "parcoords"
           }
          ],
          "pie": [
           {
            "automargin": true,
            "type": "pie"
           }
          ],
          "scatter": [
           {
            "fillpattern": {
             "fillmode": "overlay",
             "size": 10,
             "solidity": 0.2
            },
            "type": "scatter"
           }
          ],
          "scatter3d": [
           {
            "line": {
             "colorbar": {
              "outlinewidth": 0,
              "ticks": ""
             }
            },
            "marker": {
             "colorbar": {
              "outlinewidth": 0,
              "ticks": ""
             }
            },
            "type": "scatter3d"
           }
          ],
          "scattercarpet": [
           {
            "marker": {
             "colorbar": {
              "outlinewidth": 0,
              "ticks": ""
             }
            },
            "type": "scattercarpet"
           }
          ],
          "scattergeo": [
           {
            "marker": {
             "colorbar": {
              "outlinewidth": 0,
              "ticks": ""
             }
            },
            "type": "scattergeo"
           }
          ],
          "scattergl": [
           {
            "marker": {
             "colorbar": {
              "outlinewidth": 0,
              "ticks": ""
             }
            },
            "type": "scattergl"
           }
          ],
          "scattermapbox": [
           {
            "marker": {
             "colorbar": {
              "outlinewidth": 0,
              "ticks": ""
             }
            },
            "type": "scattermapbox"
           }
          ],
          "scatterpolar": [
           {
            "marker": {
             "colorbar": {
              "outlinewidth": 0,
              "ticks": ""
             }
            },
            "type": "scatterpolar"
           }
          ],
          "scatterpolargl": [
           {
            "marker": {
             "colorbar": {
              "outlinewidth": 0,
              "ticks": ""
             }
            },
            "type": "scatterpolargl"
           }
          ],
          "scatterternary": [
           {
            "marker": {
             "colorbar": {
              "outlinewidth": 0,
              "ticks": ""
             }
            },
            "type": "scatterternary"
           }
          ],
          "surface": [
           {
            "colorbar": {
             "outlinewidth": 0,
             "ticks": ""
            },
            "colorscale": [
             [
              0,
              "#0d0887"
             ],
             [
              0.1111111111111111,
              "#46039f"
             ],
             [
              0.2222222222222222,
              "#7201a8"
             ],
             [
              0.3333333333333333,
              "#9c179e"
             ],
             [
              0.4444444444444444,
              "#bd3786"
             ],
             [
              0.5555555555555556,
              "#d8576b"
             ],
             [
              0.6666666666666666,
              "#ed7953"
             ],
             [
              0.7777777777777778,
              "#fb9f3a"
             ],
             [
              0.8888888888888888,
              "#fdca26"
             ],
             [
              1,
              "#f0f921"
             ]
            ],
            "type": "surface"
           }
          ],
          "table": [
           {
            "cells": {
             "fill": {
              "color": "#EBF0F8"
             },
             "line": {
              "color": "white"
             }
            },
            "header": {
             "fill": {
              "color": "#C8D4E3"
             },
             "line": {
              "color": "white"
             }
            },
            "type": "table"
           }
          ]
         },
         "layout": {
          "annotationdefaults": {
           "arrowcolor": "#2a3f5f",
           "arrowhead": 0,
           "arrowwidth": 1
          },
          "autotypenumbers": "strict",
          "coloraxis": {
           "colorbar": {
            "outlinewidth": 0,
            "ticks": ""
           }
          },
          "colorscale": {
           "diverging": [
            [
             0,
             "#8e0152"
            ],
            [
             0.1,
             "#c51b7d"
            ],
            [
             0.2,
             "#de77ae"
            ],
            [
             0.3,
             "#f1b6da"
            ],
            [
             0.4,
             "#fde0ef"
            ],
            [
             0.5,
             "#f7f7f7"
            ],
            [
             0.6,
             "#e6f5d0"
            ],
            [
             0.7,
             "#b8e186"
            ],
            [
             0.8,
             "#7fbc41"
            ],
            [
             0.9,
             "#4d9221"
            ],
            [
             1,
             "#276419"
            ]
           ],
           "sequential": [
            [
             0,
             "#0d0887"
            ],
            [
             0.1111111111111111,
             "#46039f"
            ],
            [
             0.2222222222222222,
             "#7201a8"
            ],
            [
             0.3333333333333333,
             "#9c179e"
            ],
            [
             0.4444444444444444,
             "#bd3786"
            ],
            [
             0.5555555555555556,
             "#d8576b"
            ],
            [
             0.6666666666666666,
             "#ed7953"
            ],
            [
             0.7777777777777778,
             "#fb9f3a"
            ],
            [
             0.8888888888888888,
             "#fdca26"
            ],
            [
             1,
             "#f0f921"
            ]
           ],
           "sequentialminus": [
            [
             0,
             "#0d0887"
            ],
            [
             0.1111111111111111,
             "#46039f"
            ],
            [
             0.2222222222222222,
             "#7201a8"
            ],
            [
             0.3333333333333333,
             "#9c179e"
            ],
            [
             0.4444444444444444,
             "#bd3786"
            ],
            [
             0.5555555555555556,
             "#d8576b"
            ],
            [
             0.6666666666666666,
             "#ed7953"
            ],
            [
             0.7777777777777778,
             "#fb9f3a"
            ],
            [
             0.8888888888888888,
             "#fdca26"
            ],
            [
             1,
             "#f0f921"
            ]
           ]
          },
          "colorway": [
           "#636efa",
           "#EF553B",
           "#00cc96",
           "#ab63fa",
           "#FFA15A",
           "#19d3f3",
           "#FF6692",
           "#B6E880",
           "#FF97FF",
           "#FECB52"
          ],
          "font": {
           "color": "#2a3f5f"
          },
          "geo": {
           "bgcolor": "white",
           "lakecolor": "white",
           "landcolor": "#E5ECF6",
           "showlakes": true,
           "showland": true,
           "subunitcolor": "white"
          },
          "hoverlabel": {
           "align": "left"
          },
          "hovermode": "closest",
          "mapbox": {
           "style": "light"
          },
          "paper_bgcolor": "white",
          "plot_bgcolor": "#E5ECF6",
          "polar": {
           "angularaxis": {
            "gridcolor": "white",
            "linecolor": "white",
            "ticks": ""
           },
           "bgcolor": "#E5ECF6",
           "radialaxis": {
            "gridcolor": "white",
            "linecolor": "white",
            "ticks": ""
           }
          },
          "scene": {
           "xaxis": {
            "backgroundcolor": "#E5ECF6",
            "gridcolor": "white",
            "gridwidth": 2,
            "linecolor": "white",
            "showbackground": true,
            "ticks": "",
            "zerolinecolor": "white"
           },
           "yaxis": {
            "backgroundcolor": "#E5ECF6",
            "gridcolor": "white",
            "gridwidth": 2,
            "linecolor": "white",
            "showbackground": true,
            "ticks": "",
            "zerolinecolor": "white"
           },
           "zaxis": {
            "backgroundcolor": "#E5ECF6",
            "gridcolor": "white",
            "gridwidth": 2,
            "linecolor": "white",
            "showbackground": true,
            "ticks": "",
            "zerolinecolor": "white"
           }
          },
          "shapedefaults": {
           "line": {
            "color": "#2a3f5f"
           }
          },
          "ternary": {
           "aaxis": {
            "gridcolor": "white",
            "linecolor": "white",
            "ticks": ""
           },
           "baxis": {
            "gridcolor": "white",
            "linecolor": "white",
            "ticks": ""
           },
           "bgcolor": "#E5ECF6",
           "caxis": {
            "gridcolor": "white",
            "linecolor": "white",
            "ticks": ""
           }
          },
          "title": {
           "x": 0.05
          },
          "xaxis": {
           "automargin": true,
           "gridcolor": "white",
           "linecolor": "white",
           "ticks": "",
           "title": {
            "standoff": 15
           },
           "zerolinecolor": "white",
           "zerolinewidth": 2
          },
          "yaxis": {
           "automargin": true,
           "gridcolor": "white",
           "linecolor": "white",
           "ticks": "",
           "title": {
            "standoff": 15
           },
           "zerolinecolor": "white",
           "zerolinewidth": 2
          }
         }
        }
       }
      },
      "image/png": "[encoded data removed]",
      "text/html": [
       "<div>                            <div id=\"417102ba-9092-4163-8c84-243f8e31c2d7\" class=\"plotly-graph-div\" style=\"height:525px; width:100%;\"></div>            <script type=\"text/javascript\">                require([\"plotly\"], function(Plotly) {                    window.PLOTLYENV=window.PLOTLYENV || {};                                    if (document.getElementById(\"417102ba-9092-4163-8c84-243f8e31c2d7\")) {                    Plotly.newPlot(                        \"417102ba-9092-4163-8c84-243f8e31c2d7\",                        [{\"hovertemplate\":\"color=WA_grey<br>symbol=WA_grey<br>x=%{x}<br>y=%{y}<br>z=%{z}<extra></extra>\",\"legendgroup\":\"WA_grey, WA_grey\",\"marker\":{\"color\":\"#2E91E5\",\"symbol\":\"circle\",\"size\":5},\"mode\":\"markers\",\"name\":\"WA_grey, WA_grey\",\"scene\":\"scene\",\"showlegend\":true,\"x\":[3.698540804829553,-1.7937750004222497,-1.1308798630769623,0.011752951176686253,-1.0645084276584984,-0.5609106854515972,-1.6909423681829205,-1.8383450342159944,-2.598188392620704,0.684428769946192,-0.5423638494016336,0.7885329716643822,-1.59811605437469,-1.051242394505911,-1.1397652310740694,-1.0194610552142593,4.516723591007782,2.141218392208489,-1.738805817097985,-1.5837319498793783,-1.3586351844633342,0.026476409088566234,-0.21777948932172042,-0.20461137081846437,-1.2957331248987565,-1.0984324390308302,-0.2785319907747631,-0.3460656454083835,0.8732106333983156,0.9983731749041986,-0.10781324962442793,-0.8224448413814238,0.4682761979305144,-0.40871260903790785,-2.10345683124121,-0.22306222420596694,2.2885340774120886,0.43525524047363084,-2.326025051683603,-1.2370426480305112,0.03173223075930081,-1.4638176207356384,-1.5690474928713165,-1.9232772924637658,-1.9903126293157665,-0.6834967601171289,-1.9082792913009285,-0.8738391369465777,1.3300969058571384,0.819273365889031,1.5232759533049935,-0.4220317674962246,-0.10991755352893673,-0.27494179417189146],\"y\":[0.6052675887821403,-0.7777307090895699,-0.6440253787017853,-3.2292170686070687,-2.198334618184574,-1.4544465970334886,0.6021852473425795,0.179106675735372,0.6298121840182717,-2.204976661427884,-1.5063830557848732,-3.426010649295561,-0.8448636327258631,-2.121025962779364,-1.620821692465779,-0.8434011796929116,-3.082447359772651,-1.8562154884941153,2.5750219900068463,2.749479200270836,4.921709616866432,0.3228868266465492,-0.0687316113532664,0.22688572698749915,0.29698261304068874,-0.3447370484296591,0.23498771441225283,0.5223713800130411,0.3989966428692573,0.01704092675270949,-1.3153932148430487,0.35742945418340805,-4.744902678668414,-1.7945649055732422,-0.4096663387173764,-0.792102459789833,1.137985553467281,-1.8178178517121504,0.6274542386738875,0.8669965247735899,1.222001727724844,1.6645230002324198,-0.5182420665758466,-0.41600045301164434,-0.6124788137160817,-2.8741301160292516,0.16109400101383559,1.2130908466854997,1.2489636182159243,2.8634395004751894,-0.08167453782041438,0.24883986560718774,-0.8441757173969737,-1.530209942316751],\"z\":[3.7415123025850363,-1.5231448595416188,0.3217570942031403,2.0241083693772515,0.8176762156061909,1.6569487262683442,-0.10356618574839964,-0.33417130557489105,-0.7961379590670506,0.6498872977735534,0.18217736309190308,1.014652939444868,-2.76408831449787,-2.3961322857910017,-2.4772874012023576,-2.3990811454878043,-1.4691836543769938,-1.1693153469972033,1.2045631696893737,0.7516305884793821,2.3861669690044067,-1.1763329774675377,-1.0608820589687828,-0.8423014187376423,0.5516394906725508,0.7448607907846819,0.15494722846868922,-1.7597079566138054,-1.8604484219601347,-3.042986524852883,-0.4243960124298644,-0.3342515804445683,0.9541611899323165,0.383870426194388,-1.7254492567352053,-2.539985977035085,0.4057698603665918,1.5886531475095313,1.0270175110918311,-0.5257223184213203,-0.7828609999074364,-1.2432108846472993,0.49855986217825893,0.5606789010857666,0.08252970408441561,0.4189121058622523,0.6527013115595438,0.06950198948012365,-1.6530711804892837,-0.8468935943704962,-1.5779075726364662,-0.3856306903414047,-0.8262455181838043,-0.4908667177975107],\"type\":\"scatter3d\"},{\"hovertemplate\":\"color=WA_black<br>symbol=WA_black<br>x=%{x}<br>y=%{y}<br>z=%{z}<extra></extra>\",\"legendgroup\":\"WA_black, WA_black\",\"marker\":{\"color\":\"#E15F99\",\"symbol\":\"diamond\",\"size\":5},\"mode\":\"markers\",\"name\":\"WA_black, WA_black\",\"scene\":\"scene\",\"showlegend\":true,\"x\":[-2.1030709766407254,-1.798484681156225,-1.1657774554102067,3.4484946163332424,3.3524853676628332,3.897876309052954,3.067797984621883,4.807395599743155,1.5345924533276465,-2.5054454485075204,-2.044330838614166,-0.5828704365789651,2.32921460324936,3.0123262757937215,3.5322596876906354,-0.4483121486619451,-1.3115836471526057,-1.2090895080381296,-0.38688963095108886,-0.43827633017240564,1.4990879301874291,1.3879328416336514,0.30367969834537784,-0.08703195358092468,-0.964488866169761,-0.060962147240835325,3.533103835360584,-1.5457623676137433,-1.5179963694970728,-0.9631532580744555,4.991139738454325,4.556277851126829,4.948914169963602,-0.8991639127050712,-0.992095004809727,-1.0465547777543749,0.6111273812934602,1.6150000267731666,1.8749806812786782,-2.8029893163143993,-2.5065090240851924,-2.5046711156913766,-2.5620273977152004,-2.46042694732095,-2.514358607050385,3.8343336295934543,0.7462169060645697,1.2593692361937365,-0.061019771129111985,-0.44198114699616425,-0.2556412459160929],\"y\":[0.45225309443713146,0.28973873054435006,0.5004797244682042,1.1887170888984735,1.6810375279930403,0.3685541504535022,0.599515020272432,2.2922782400339385,0.8643679075766338,0.4648053534381947,1.2067091966241643,-2.1394172543725145,2.397084286014364,2.0458404362430858,1.1590882732355632,0.946068499715056,0.16999383638672885,0.7118286575989146,-1.0243939904555337,-1.5546408194643093,-0.5938067633987089,0.1506200030483118,-0.026628528547806025,0.8280602935733233,0.5725067206648833,0.45629977141497846,-1.9517808975825788,0.08269327036284302,-0.5304704686683983,0.2165819992567862,-1.193804889334722,-0.6041178067104753,1.3727905042029485,-0.02275724699588907,0.2006311641163381,0.888135919109264,1.460811009280338,1.0273093450204376,0.7246959340123038,0.8371577718860354,0.8389000540389727,0.7876718457609913,0.08335180307489343,0.11533314421036928,0.2966904770987396,-0.44744297891933554,-0.16734529083203958,1.379371173476034,-0.8195032261995024,-0.4336339139441646,-0.06805300690469077],\"z\":[0.9969397905697039,1.435048936427103,1.5001681003781677,1.4392195460223633,0.6358998058523987,0.5660152290409034,2.2401092965283516,2.316336343601455,1.2921809647713083,0.5184796175576155,0.6299828001530724,2.7723294194652386,-1.5207856861062228,-1.477157451868943,-0.5945020844118014,-0.6943329811918617,-0.46927108625357644,-0.615622822439111,0.5494300913664961,1.6391322586171828,0.6483024761288875,0.9530925874438234,2.6636498483044253,1.2450708033683136,-2.253243969894688,-2.438325153290835,-1.5398369176669302,0.2565945151381405,0.080622438860839,0.42661583033856615,-0.24292786841955144,1.4655946236132897,-0.3317857423110939,0.3044479980136239,-0.20460569023070407,-0.20046285205173123,-0.7306064050037907,-0.9162850984010187,-1.8431423814878074,0.22085479553851062,0.05134862444150817,0.11049945182427807,1.802850357032593,1.3272762986702067,1.616018222994349,0.33125206196747464,-0.2882024580435313,-1.7285376679165254,0.640906475544864,0.5231463200854064,0.5765939528605973],\"type\":\"scatter3d\"}],                        {\"template\":{\"data\":{\"histogram2dcontour\":[{\"type\":\"histogram2dcontour\",\"colorbar\":{\"outlinewidth\":0,\"ticks\":\"\"},\"colorscale\":[[0.0,\"#0d0887\"],[0.1111111111111111,\"#46039f\"],[0.2222222222222222,\"#7201a8\"],[0.3333333333333333,\"#9c179e\"],[0.4444444444444444,\"#bd3786\"],[0.5555555555555556,\"#d8576b\"],[0.6666666666666666,\"#ed7953\"],[0.7777777777777778,\"#fb9f3a\"],[0.8888888888888888,\"#fdca26\"],[1.0,\"#f0f921\"]]}],\"choropleth\":[{\"type\":\"choropleth\",\"colorbar\":{\"outlinewidth\":0,\"ticks\":\"\"}}],\"histogram2d\":[{\"type\":\"histogram2d\",\"colorbar\":{\"outlinewidth\":0,\"ticks\":\"\"},\"colorscale\":[[0.0,\"#0d0887\"],[0.1111111111111111,\"#46039f\"],[0.2222222222222222,\"#7201a8\"],[0.3333333333333333,\"#9c179e\"],[0.4444444444444444,\"#bd3786\"],[0.5555555555555556,\"#d8576b\"],[0.6666666666666666,\"#ed7953\"],[0.7777777777777778,\"#fb9f3a\"],[0.8888888888888888,\"#fdca26\"],[1.0,\"#f0f921\"]]}],\"heatmap\":[{\"type\":\"heatmap\",\"colorbar\":{\"outlinewidth\":0,\"ticks\":\"\"},\"colorscale\":[[0.0,\"#0d0887\"],[0.1111111111111111,\"#46039f\"],[0.2222222222222222,\"#7201a8\"],[0.3333333333333333,\"#9c179e\"],[0.4444444444444444,\"#bd3786\"],[0.5555555555555556,\"#d8576b\"],[0.6666666666666666,\"#ed7953\"],[0.7777777777777778,\"#fb9f3a\"],[0.8888888888888888,\"#fdca26\"],[1.0,\"#f0f921\"]]}],\"heatmapgl\":[{\"type\":\"heatmapgl\",\"colorbar\":{\"outlinewidth\":0,\"ticks\":\"\"},\"colorscale\":[[0.0,\"#0d0887\"],[0.1111111111111111,\"#46039f\"],[0.2222222222222222,\"#7201a8\"],[0.3333333333333333,\"#9c179e\"],[0.4444444444444444,\"#bd3786\"],[0.5555555555555556,\"#d8576b\"],[0.6666666666666666,\"#ed7953\"],[0.7777777777777778,\"#fb9f3a\"],[0.8888888888888888,\"#fdca26\"],[1.0,\"#f0f921\"]]}],\"contourcarpet\":[{\"type\":\"contourcarpet\",\"colorbar\":{\"outlinewidth\":0,\"ticks\":\"\"}}],\"contour\":[{\"type\":\"contour\",\"colorbar\":{\"outlinewidth\":0,\"ticks\":\"\"},\"colorscale\":[[0.0,\"#0d0887\"],[0.1111111111111111,\"#46039f\"],[0.2222222222222222,\"#7201a8\"],[0.3333333333333333,\"#9c179e\"],[0.4444444444444444,\"#bd3786\"],[0.5555555555555556,\"#d8576b\"],[0.6666666666666666,\"#ed7953\"],[0.7777777777777778,\"#fb9f3a\"],[0.8888888888888888,\"#fdca26\"],[1.0,\"#f0f921\"]]}],\"surface\":[{\"type\":\"surface\",\"colorbar\":{\"outlinewidth\":0,\"ticks\":\"\"},\"colorscale\":[[0.0,\"#0d0887\"],[0.1111111111111111,\"#46039f\"],[0.2222222222222222,\"#7201a8\"],[0.3333333333333333,\"#9c179e\"],[0.4444444444444444,\"#bd3786\"],[0.5555555555555556,\"#d8576b\"],[0.6666666666666666,\"#ed7953\"],[0.7777777777777778,\"#fb9f3a\"],[0.8888888888888888,\"#fdca26\"],[1.0,\"#f0f921\"]]}],\"mesh3d\":[{\"type\":\"mesh3d\",\"colorbar\":{\"outlinewidth\":0,\"ticks\":\"\"}}],\"scatter\":[{\"fillpattern\":{\"fillmode\":\"overlay\",\"size\":10,\"solidity\":0.2},\"type\":\"scatter\"}],\"parcoords\":[{\"type\":\"parcoords\",\"line\":{\"colorbar\":{\"outlinewidth\":0,\"ticks\":\"\"}}}],\"scatterpolargl\":[{\"type\":\"scatterpolargl\",\"marker\":{\"colorbar\":{\"outlinewidth\":0,\"ticks\":\"\"}}}],\"bar\":[{\"error_x\":{\"color\":\"#2a3f5f\"},\"error_y\":{\"color\":\"#2a3f5f\"},\"marker\":{\"line\":{\"color\":\"#E5ECF6\",\"width\":0.5},\"pattern\":{\"fillmode\":\"overlay\",\"size\":10,\"solidity\":0.2}},\"type\":\"bar\"}],\"scattergeo\":[{\"type\":\"scattergeo\",\"marker\":{\"colorbar\":{\"outlinewidth\":0,\"ticks\":\"\"}}}],\"scatterpolar\":[{\"type\":\"scatterpolar\",\"marker\":{\"colorbar\":{\"outlinewidth\":0,\"ticks\":\"\"}}}],\"histogram\":[{\"marker\":{\"pattern\":{\"fillmode\":\"overlay\",\"size\":10,\"solidity\":0.2}},\"type\":\"histogram\"}],\"scattergl\":[{\"type\":\"scattergl\",\"marker\":{\"colorbar\":{\"outlinewidth\":0,\"ticks\":\"\"}}}],\"scatter3d\":[{\"type\":\"scatter3d\",\"line\":{\"colorbar\":{\"outlinewidth\":0,\"ticks\":\"\"}},\"marker\":{\"colorbar\":{\"outlinewidth\":0,\"ticks\":\"\"}}}],\"scattermapbox\":[{\"type\":\"scattermapbox\",\"marker\":{\"colorbar\":{\"outlinewidth\":0,\"ticks\":\"\"}}}],\"scatterternary\":[{\"type\":\"scatterternary\",\"marker\":{\"colorbar\":{\"outlinewidth\":0,\"ticks\":\"\"}}}],\"scattercarpet\":[{\"type\":\"scattercarpet\",\"marker\":{\"colorbar\":{\"outlinewidth\":0,\"ticks\":\"\"}}}],\"carpet\":[{\"aaxis\":{\"endlinecolor\":\"#2a3f5f\",\"gridcolor\":\"white\",\"linecolor\":\"white\",\"minorgridcolor\":\"white\",\"startlinecolor\":\"#2a3f5f\"},\"baxis\":{\"endlinecolor\":\"#2a3f5f\",\"gridcolor\":\"white\",\"linecolor\":\"white\",\"minorgridcolor\":\"white\",\"startlinecolor\":\"#2a3f5f\"},\"type\":\"carpet\"}],\"table\":[{\"cells\":{\"fill\":{\"color\":\"#EBF0F8\"},\"line\":{\"color\":\"white\"}},\"header\":{\"fill\":{\"color\":\"#C8D4E3\"},\"line\":{\"color\":\"white\"}},\"type\":\"table\"}],\"barpolar\":[{\"marker\":{\"line\":{\"color\":\"#E5ECF6\",\"width\":0.5},\"pattern\":{\"fillmode\":\"overlay\",\"size\":10,\"solidity\":0.2}},\"type\":\"barpolar\"}],\"pie\":[{\"automargin\":true,\"type\":\"pie\"}]},\"layout\":{\"autotypenumbers\":\"strict\",\"colorway\":[\"#636efa\",\"#EF553B\",\"#00cc96\",\"#ab63fa\",\"#FFA15A\",\"#19d3f3\",\"#FF6692\",\"#B6E880\",\"#FF97FF\",\"#FECB52\"],\"font\":{\"color\":\"#2a3f5f\"},\"hovermode\":\"closest\",\"hoverlabel\":{\"align\":\"left\"},\"paper_bgcolor\":\"white\",\"plot_bgcolor\":\"#E5ECF6\",\"polar\":{\"bgcolor\":\"#E5ECF6\",\"angularaxis\":{\"gridcolor\":\"white\",\"linecolor\":\"white\",\"ticks\":\"\"},\"radialaxis\":{\"gridcolor\":\"white\",\"linecolor\":\"white\",\"ticks\":\"\"}},\"ternary\":{\"bgcolor\":\"#E5ECF6\",\"aaxis\":{\"gridcolor\":\"white\",\"linecolor\":\"white\",\"ticks\":\"\"},\"baxis\":{\"gridcolor\":\"white\",\"linecolor\":\"white\",\"ticks\":\"\"},\"caxis\":{\"gridcolor\":\"white\",\"linecolor\":\"white\",\"ticks\":\"\"}},\"coloraxis\":{\"colorbar\":{\"outlinewidth\":0,\"ticks\":\"\"}},\"colorscale\":{\"sequential\":[[0.0,\"#0d0887\"],[0.1111111111111111,\"#46039f\"],[0.2222222222222222,\"#7201a8\"],[0.3333333333333333,\"#9c179e\"],[0.4444444444444444,\"#bd3786\"],[0.5555555555555556,\"#d8576b\"],[0.6666666666666666,\"#ed7953\"],[0.7777777777777778,\"#fb9f3a\"],[0.8888888888888888,\"#fdca26\"],[1.0,\"#f0f921\"]],\"sequentialminus\":[[0.0,\"#0d0887\"],[0.1111111111111111,\"#46039f\"],[0.2222222222222222,\"#7201a8\"],[0.3333333333333333,\"#9c179e\"],[0.4444444444444444,\"#bd3786\"],[0.5555555555555556,\"#d8576b\"],[0.6666666666666666,\"#ed7953\"],[0.7777777777777778,\"#fb9f3a\"],[0.8888888888888888,\"#fdca26\"],[1.0,\"#f0f921\"]],\"diverging\":[[0,\"#8e0152\"],[0.1,\"#c51b7d\"],[0.2,\"#de77ae\"],[0.3,\"#f1b6da\"],[0.4,\"#fde0ef\"],[0.5,\"#f7f7f7\"],[0.6,\"#e6f5d0\"],[0.7,\"#b8e186\"],[0.8,\"#7fbc41\"],[0.9,\"#4d9221\"],[1,\"#276419\"]]},\"xaxis\":{\"gridcolor\":\"white\",\"linecolor\":\"white\",\"ticks\":\"\",\"title\":{\"standoff\":15},\"zerolinecolor\":\"white\",\"automargin\":true,\"zerolinewidth\":2},\"yaxis\":{\"gridcolor\":\"white\",\"linecolor\":\"white\",\"ticks\":\"\",\"title\":{\"standoff\":15},\"zerolinecolor\":\"white\",\"automargin\":true,\"zerolinewidth\":2},\"scene\":{\"xaxis\":{\"backgroundcolor\":\"#E5ECF6\",\"gridcolor\":\"white\",\"linecolor\":\"white\",\"showbackground\":true,\"ticks\":\"\",\"zerolinecolor\":\"white\",\"gridwidth\":2},\"yaxis\":{\"backgroundcolor\":\"#E5ECF6\",\"gridcolor\":\"white\",\"linecolor\":\"white\",\"showbackground\":true,\"ticks\":\"\",\"zerolinecolor\":\"white\",\"gridwidth\":2},\"zaxis\":{\"backgroundcolor\":\"#E5ECF6\",\"gridcolor\":\"white\",\"linecolor\":\"white\",\"showbackground\":true,\"ticks\":\"\",\"zerolinecolor\":\"white\",\"gridwidth\":2}},\"shapedefaults\":{\"line\":{\"color\":\"#2a3f5f\"}},\"annotationdefaults\":{\"arrowcolor\":\"#2a3f5f\",\"arrowhead\":0,\"arrowwidth\":1},\"geo\":{\"bgcolor\":\"white\",\"landcolor\":\"#E5ECF6\",\"subunitcolor\":\"white\",\"showland\":true,\"showlakes\":true,\"lakecolor\":\"white\"},\"title\":{\"x\":0.05},\"mapbox\":{\"style\":\"light\"}}},\"scene\":{\"domain\":{\"x\":[0.0,1.0],\"y\":[0.0,1.0]},\"xaxis\":{\"title\":{\"text\":\"x\"}},\"yaxis\":{\"title\":{\"text\":\"y\"}},\"zaxis\":{\"title\":{\"text\":\"z\"}}},\"legend\":{\"title\":{\"text\":\"color, symbol\"},\"tracegroupgap\":0},\"margin\":{\"t\":60}},                        {\"responsive\": true}                    ).then(function(){\n",
       "                            \n",
       "var gd = document.getElementById('417102ba-9092-4163-8c84-243f8e31c2d7');\n",
       "var x = new MutationObserver(function (mutations, observer) {{\n",
       "        var display = window.getComputedStyle(gd).display;\n",
       "        if (!display || display === 'none') {{\n",
       "            console.log([gd, 'removed!']);\n",
       "            Plotly.purge(gd);\n",
       "            observer.disconnect();\n",
       "        }}\n",
       "}});\n",
       "\n",
       "// Listen for the removal of the full notebook cells\n",
       "var notebookContainer = gd.closest('#notebook-container');\n",
       "if (notebookContainer) {{\n",
       "    x.observe(notebookContainer, {childList: true});\n",
       "}}\n",
       "\n",
       "// Listen for the clearing of the current output cell\n",
       "var outputEl = gd.closest('.output');\n",
       "if (outputEl) {{\n",
       "    x.observe(outputEl, {childList: true});\n",
       "}}\n",
       "\n",
       "                        })                };                });            </script>        </div>"
      ]
     },
     "metadata": {},
     "output_type": "display_data"
    }
   ],
   "source": [
    "fig = px.scatter_3d(pca3d_df_NoduleCol_comb, \n",
    "                    x=pca3d_df_NoduleCol_comb.iloc[:,1], \n",
    "                    y=pca3d_df_NoduleCol_comb.iloc[:,2], \n",
    "                    z=pca3d_df_NoduleCol_comb.iloc[:,3], \n",
    "                    color=pca3d_df_NoduleCol_comb.iloc[:,0],\n",
    "                    color_discrete_sequence=px.colors.qualitative.Dark24,\n",
    "                    symbol = pca3d_df_NoduleCol_comb.iloc[:,0])\n",
    "fig.update_traces(marker_size = 5)\n",
    "\n",
    "fig.show()\n",
    "\n",
    "#if save_plots == True:\n",
    "#    fig.write_html(filepath) "
   ]
  },
  {
   "cell_type": "markdown",
   "metadata": {},
   "source": [
    "2D PCA Visualisation"
   ]
  },
  {
   "cell_type": "code",
   "execution_count": 89,
   "metadata": {},
   "outputs": [
    {
     "data": {
      "application/vnd.plotly.v1+json": {
       "config": {
        "plotlyServerURL": "https://plot.ly"
       },
       "data": [
        {
         "hovertemplate": "color=WA_grey<br>symbol=WA_grey<br>x=%{x}<br>y=%{y}<extra></extra>",
         "legendgroup": "WA_grey, WA_grey",
         "marker": {
          "color": "#2E91E5",
          "size": 5,
          "symbol": "circle"
         },
         "mode": "markers",
         "name": "WA_grey, WA_grey",
         "orientation": "v",
         "showlegend": true,
         "type": "scatter",
         "x": [
          3.698540804829553,
          -1.7937750004222497,
          -1.1308798630769623,
          0.011752951176686253,
          -1.0645084276584984,
          -0.5609106854515972,
          -1.6909423681829205,
          -1.8383450342159944,
          -2.598188392620704,
          0.684428769946192,
          -0.5423638494016336,
          0.7885329716643822,
          -1.59811605437469,
          -1.051242394505911,
          -1.1397652310740694,
          -1.0194610552142593,
          4.516723591007782,
          2.141218392208489,
          -1.738805817097985,
          -1.5837319498793783,
          -1.3586351844633342,
          0.026476409088566234,
          -0.21777948932172042,
          -0.20461137081846437,
          -1.2957331248987565,
          -1.0984324390308302,
          -0.2785319907747631,
          -0.3460656454083835,
          0.8732106333983156,
          0.9983731749041986,
          -0.10781324962442793,
          -0.8224448413814238,
          0.4682761979305144,
          -0.40871260903790785,
          -2.10345683124121,
          -0.22306222420596694,
          2.2885340774120886,
          0.43525524047363084,
          -2.326025051683603,
          -1.2370426480305112,
          0.03173223075930081,
          -1.4638176207356384,
          -1.5690474928713165,
          -1.9232772924637658,
          -1.9903126293157665,
          -0.6834967601171289,
          -1.9082792913009285,
          -0.8738391369465777,
          1.3300969058571384,
          0.819273365889031,
          1.5232759533049935,
          -0.4220317674962246,
          -0.10991755352893673,
          -0.27494179417189146
         ],
         "xaxis": "x",
         "y": [
          0.6052675887821403,
          -0.7777307090895699,
          -0.6440253787017853,
          -3.2292170686070687,
          -2.198334618184574,
          -1.4544465970334886,
          0.6021852473425795,
          0.179106675735372,
          0.6298121840182717,
          -2.204976661427884,
          -1.5063830557848732,
          -3.426010649295561,
          -0.8448636327258631,
          -2.121025962779364,
          -1.620821692465779,
          -0.8434011796929116,
          -3.082447359772651,
          -1.8562154884941153,
          2.5750219900068463,
          2.749479200270836,
          4.921709616866432,
          0.3228868266465492,
          -0.0687316113532664,
          0.22688572698749915,
          0.29698261304068874,
          -0.3447370484296591,
          0.23498771441225283,
          0.5223713800130411,
          0.3989966428692573,
          0.01704092675270949,
          -1.3153932148430487,
          0.35742945418340805,
          -4.744902678668414,
          -1.7945649055732422,
          -0.4096663387173764,
          -0.792102459789833,
          1.137985553467281,
          -1.8178178517121504,
          0.6274542386738875,
          0.8669965247735899,
          1.222001727724844,
          1.6645230002324198,
          -0.5182420665758466,
          -0.41600045301164434,
          -0.6124788137160817,
          -2.8741301160292516,
          0.16109400101383559,
          1.2130908466854997,
          1.2489636182159243,
          2.8634395004751894,
          -0.08167453782041438,
          0.24883986560718774,
          -0.8441757173969737,
          -1.530209942316751
         ],
         "yaxis": "y"
        },
        {
         "hovertemplate": "color=WA_black<br>symbol=WA_black<br>x=%{x}<br>y=%{y}<extra></extra>",
         "legendgroup": "WA_black, WA_black",
         "marker": {
          "color": "#E15F99",
          "size": 5,
          "symbol": "diamond"
         },
         "mode": "markers",
         "name": "WA_black, WA_black",
         "orientation": "v",
         "showlegend": true,
         "type": "scatter",
         "x": [
          -2.1030709766407254,
          -1.798484681156225,
          -1.1657774554102067,
          3.4484946163332424,
          3.3524853676628332,
          3.897876309052954,
          3.067797984621883,
          4.807395599743155,
          1.5345924533276465,
          -2.5054454485075204,
          -2.044330838614166,
          -0.5828704365789651,
          2.32921460324936,
          3.0123262757937215,
          3.5322596876906354,
          -0.4483121486619451,
          -1.3115836471526057,
          -1.2090895080381296,
          -0.38688963095108886,
          -0.43827633017240564,
          1.4990879301874291,
          1.3879328416336514,
          0.30367969834537784,
          -0.08703195358092468,
          -0.964488866169761,
          -0.060962147240835325,
          3.533103835360584,
          -1.5457623676137433,
          -1.5179963694970728,
          -0.9631532580744555,
          4.991139738454325,
          4.556277851126829,
          4.948914169963602,
          -0.8991639127050712,
          -0.992095004809727,
          -1.0465547777543749,
          0.6111273812934602,
          1.6150000267731666,
          1.8749806812786782,
          -2.8029893163143993,
          -2.5065090240851924,
          -2.5046711156913766,
          -2.5620273977152004,
          -2.46042694732095,
          -2.514358607050385,
          3.8343336295934543,
          0.7462169060645697,
          1.2593692361937365,
          -0.061019771129111985,
          -0.44198114699616425,
          -0.2556412459160929
         ],
         "xaxis": "x",
         "y": [
          0.45225309443713146,
          0.28973873054435006,
          0.5004797244682042,
          1.1887170888984735,
          1.6810375279930403,
          0.3685541504535022,
          0.599515020272432,
          2.2922782400339385,
          0.8643679075766338,
          0.4648053534381947,
          1.2067091966241643,
          -2.1394172543725145,
          2.397084286014364,
          2.0458404362430858,
          1.1590882732355632,
          0.946068499715056,
          0.16999383638672885,
          0.7118286575989146,
          -1.0243939904555337,
          -1.5546408194643093,
          -0.5938067633987089,
          0.1506200030483118,
          -0.026628528547806025,
          0.8280602935733233,
          0.5725067206648833,
          0.45629977141497846,
          -1.9517808975825788,
          0.08269327036284302,
          -0.5304704686683983,
          0.2165819992567862,
          -1.193804889334722,
          -0.6041178067104753,
          1.3727905042029485,
          -0.02275724699588907,
          0.2006311641163381,
          0.888135919109264,
          1.460811009280338,
          1.0273093450204376,
          0.7246959340123038,
          0.8371577718860354,
          0.8389000540389727,
          0.7876718457609913,
          0.08335180307489343,
          0.11533314421036928,
          0.2966904770987396,
          -0.44744297891933554,
          -0.16734529083203958,
          1.379371173476034,
          -0.8195032261995024,
          -0.4336339139441646,
          -0.06805300690469077
         ],
         "yaxis": "y"
        }
       ],
       "layout": {
        "autosize": true,
        "legend": {
         "title": {
          "text": "color, symbol"
         },
         "tracegroupgap": 0
        },
        "margin": {
         "t": 60
        },
        "template": {
         "data": {
          "bar": [
           {
            "error_x": {
             "color": "#2a3f5f"
            },
            "error_y": {
             "color": "#2a3f5f"
            },
            "marker": {
             "line": {
              "color": "#E5ECF6",
              "width": 0.5
             },
             "pattern": {
              "fillmode": "overlay",
              "size": 10,
              "solidity": 0.2
             }
            },
            "type": "bar"
           }
          ],
          "barpolar": [
           {
            "marker": {
             "line": {
              "color": "#E5ECF6",
              "width": 0.5
             },
             "pattern": {
              "fillmode": "overlay",
              "size": 10,
              "solidity": 0.2
             }
            },
            "type": "barpolar"
           }
          ],
          "carpet": [
           {
            "aaxis": {
             "endlinecolor": "#2a3f5f",
             "gridcolor": "white",
             "linecolor": "white",
             "minorgridcolor": "white",
             "startlinecolor": "#2a3f5f"
            },
            "baxis": {
             "endlinecolor": "#2a3f5f",
             "gridcolor": "white",
             "linecolor": "white",
             "minorgridcolor": "white",
             "startlinecolor": "#2a3f5f"
            },
            "type": "carpet"
           }
          ],
          "choropleth": [
           {
            "colorbar": {
             "outlinewidth": 0,
             "ticks": ""
            },
            "type": "choropleth"
           }
          ],
          "contour": [
           {
            "colorbar": {
             "outlinewidth": 0,
             "ticks": ""
            },
            "colorscale": [
             [
              0,
              "#0d0887"
             ],
             [
              0.1111111111111111,
              "#46039f"
             ],
             [
              0.2222222222222222,
              "#7201a8"
             ],
             [
              0.3333333333333333,
              "#9c179e"
             ],
             [
              0.4444444444444444,
              "#bd3786"
             ],
             [
              0.5555555555555556,
              "#d8576b"
             ],
             [
              0.6666666666666666,
              "#ed7953"
             ],
             [
              0.7777777777777778,
              "#fb9f3a"
             ],
             [
              0.8888888888888888,
              "#fdca26"
             ],
             [
              1,
              "#f0f921"
             ]
            ],
            "type": "contour"
           }
          ],
          "contourcarpet": [
           {
            "colorbar": {
             "outlinewidth": 0,
             "ticks": ""
            },
            "type": "contourcarpet"
           }
          ],
          "heatmap": [
           {
            "colorbar": {
             "outlinewidth": 0,
             "ticks": ""
            },
            "colorscale": [
             [
              0,
              "#0d0887"
             ],
             [
              0.1111111111111111,
              "#46039f"
             ],
             [
              0.2222222222222222,
              "#7201a8"
             ],
             [
              0.3333333333333333,
              "#9c179e"
             ],
             [
              0.4444444444444444,
              "#bd3786"
             ],
             [
              0.5555555555555556,
              "#d8576b"
             ],
             [
              0.6666666666666666,
              "#ed7953"
             ],
             [
              0.7777777777777778,
              "#fb9f3a"
             ],
             [
              0.8888888888888888,
              "#fdca26"
             ],
             [
              1,
              "#f0f921"
             ]
            ],
            "type": "heatmap"
           }
          ],
          "heatmapgl": [
           {
            "colorbar": {
             "outlinewidth": 0,
             "ticks": ""
            },
            "colorscale": [
             [
              0,
              "#0d0887"
             ],
             [
              0.1111111111111111,
              "#46039f"
             ],
             [
              0.2222222222222222,
              "#7201a8"
             ],
             [
              0.3333333333333333,
              "#9c179e"
             ],
             [
              0.4444444444444444,
              "#bd3786"
             ],
             [
              0.5555555555555556,
              "#d8576b"
             ],
             [
              0.6666666666666666,
              "#ed7953"
             ],
             [
              0.7777777777777778,
              "#fb9f3a"
             ],
             [
              0.8888888888888888,
              "#fdca26"
             ],
             [
              1,
              "#f0f921"
             ]
            ],
            "type": "heatmapgl"
           }
          ],
          "histogram": [
           {
            "marker": {
             "pattern": {
              "fillmode": "overlay",
              "size": 10,
              "solidity": 0.2
             }
            },
            "type": "histogram"
           }
          ],
          "histogram2d": [
           {
            "colorbar": {
             "outlinewidth": 0,
             "ticks": ""
            },
            "colorscale": [
             [
              0,
              "#0d0887"
             ],
             [
              0.1111111111111111,
              "#46039f"
             ],
             [
              0.2222222222222222,
              "#7201a8"
             ],
             [
              0.3333333333333333,
              "#9c179e"
             ],
             [
              0.4444444444444444,
              "#bd3786"
             ],
             [
              0.5555555555555556,
              "#d8576b"
             ],
             [
              0.6666666666666666,
              "#ed7953"
             ],
             [
              0.7777777777777778,
              "#fb9f3a"
             ],
             [
              0.8888888888888888,
              "#fdca26"
             ],
             [
              1,
              "#f0f921"
             ]
            ],
            "type": "histogram2d"
           }
          ],
          "histogram2dcontour": [
           {
            "colorbar": {
             "outlinewidth": 0,
             "ticks": ""
            },
            "colorscale": [
             [
              0,
              "#0d0887"
             ],
             [
              0.1111111111111111,
              "#46039f"
             ],
             [
              0.2222222222222222,
              "#7201a8"
             ],
             [
              0.3333333333333333,
              "#9c179e"
             ],
             [
              0.4444444444444444,
              "#bd3786"
             ],
             [
              0.5555555555555556,
              "#d8576b"
             ],
             [
              0.6666666666666666,
              "#ed7953"
             ],
             [
              0.7777777777777778,
              "#fb9f3a"
             ],
             [
              0.8888888888888888,
              "#fdca26"
             ],
             [
              1,
              "#f0f921"
             ]
            ],
            "type": "histogram2dcontour"
           }
          ],
          "mesh3d": [
           {
            "colorbar": {
             "outlinewidth": 0,
             "ticks": ""
            },
            "type": "mesh3d"
           }
          ],
          "parcoords": [
           {
            "line": {
             "colorbar": {
              "outlinewidth": 0,
              "ticks": ""
             }
            },
            "type": "parcoords"
           }
          ],
          "pie": [
           {
            "automargin": true,
            "type": "pie"
           }
          ],
          "scatter": [
           {
            "fillpattern": {
             "fillmode": "overlay",
             "size": 10,
             "solidity": 0.2
            },
            "type": "scatter"
           }
          ],
          "scatter3d": [
           {
            "line": {
             "colorbar": {
              "outlinewidth": 0,
              "ticks": ""
             }
            },
            "marker": {
             "colorbar": {
              "outlinewidth": 0,
              "ticks": ""
             }
            },
            "type": "scatter3d"
           }
          ],
          "scattercarpet": [
           {
            "marker": {
             "colorbar": {
              "outlinewidth": 0,
              "ticks": ""
             }
            },
            "type": "scattercarpet"
           }
          ],
          "scattergeo": [
           {
            "marker": {
             "colorbar": {
              "outlinewidth": 0,
              "ticks": ""
             }
            },
            "type": "scattergeo"
           }
          ],
          "scattergl": [
           {
            "marker": {
             "colorbar": {
              "outlinewidth": 0,
              "ticks": ""
             }
            },
            "type": "scattergl"
           }
          ],
          "scattermapbox": [
           {
            "marker": {
             "colorbar": {
              "outlinewidth": 0,
              "ticks": ""
             }
            },
            "type": "scattermapbox"
           }
          ],
          "scatterpolar": [
           {
            "marker": {
             "colorbar": {
              "outlinewidth": 0,
              "ticks": ""
             }
            },
            "type": "scatterpolar"
           }
          ],
          "scatterpolargl": [
           {
            "marker": {
             "colorbar": {
              "outlinewidth": 0,
              "ticks": ""
             }
            },
            "type": "scatterpolargl"
           }
          ],
          "scatterternary": [
           {
            "marker": {
             "colorbar": {
              "outlinewidth": 0,
              "ticks": ""
             }
            },
            "type": "scatterternary"
           }
          ],
          "surface": [
           {
            "colorbar": {
             "outlinewidth": 0,
             "ticks": ""
            },
            "colorscale": [
             [
              0,
              "#0d0887"
             ],
             [
              0.1111111111111111,
              "#46039f"
             ],
             [
              0.2222222222222222,
              "#7201a8"
             ],
             [
              0.3333333333333333,
              "#9c179e"
             ],
             [
              0.4444444444444444,
              "#bd3786"
             ],
             [
              0.5555555555555556,
              "#d8576b"
             ],
             [
              0.6666666666666666,
              "#ed7953"
             ],
             [
              0.7777777777777778,
              "#fb9f3a"
             ],
             [
              0.8888888888888888,
              "#fdca26"
             ],
             [
              1,
              "#f0f921"
             ]
            ],
            "type": "surface"
           }
          ],
          "table": [
           {
            "cells": {
             "fill": {
              "color": "#EBF0F8"
             },
             "line": {
              "color": "white"
             }
            },
            "header": {
             "fill": {
              "color": "#C8D4E3"
             },
             "line": {
              "color": "white"
             }
            },
            "type": "table"
           }
          ]
         },
         "layout": {
          "annotationdefaults": {
           "arrowcolor": "#2a3f5f",
           "arrowhead": 0,
           "arrowwidth": 1
          },
          "autotypenumbers": "strict",
          "coloraxis": {
           "colorbar": {
            "outlinewidth": 0,
            "ticks": ""
           }
          },
          "colorscale": {
           "diverging": [
            [
             0,
             "#8e0152"
            ],
            [
             0.1,
             "#c51b7d"
            ],
            [
             0.2,
             "#de77ae"
            ],
            [
             0.3,
             "#f1b6da"
            ],
            [
             0.4,
             "#fde0ef"
            ],
            [
             0.5,
             "#f7f7f7"
            ],
            [
             0.6,
             "#e6f5d0"
            ],
            [
             0.7,
             "#b8e186"
            ],
            [
             0.8,
             "#7fbc41"
            ],
            [
             0.9,
             "#4d9221"
            ],
            [
             1,
             "#276419"
            ]
           ],
           "sequential": [
            [
             0,
             "#0d0887"
            ],
            [
             0.1111111111111111,
             "#46039f"
            ],
            [
             0.2222222222222222,
             "#7201a8"
            ],
            [
             0.3333333333333333,
             "#9c179e"
            ],
            [
             0.4444444444444444,
             "#bd3786"
            ],
            [
             0.5555555555555556,
             "#d8576b"
            ],
            [
             0.6666666666666666,
             "#ed7953"
            ],
            [
             0.7777777777777778,
             "#fb9f3a"
            ],
            [
             0.8888888888888888,
             "#fdca26"
            ],
            [
             1,
             "#f0f921"
            ]
           ],
           "sequentialminus": [
            [
             0,
             "#0d0887"
            ],
            [
             0.1111111111111111,
             "#46039f"
            ],
            [
             0.2222222222222222,
             "#7201a8"
            ],
            [
             0.3333333333333333,
             "#9c179e"
            ],
            [
             0.4444444444444444,
             "#bd3786"
            ],
            [
             0.5555555555555556,
             "#d8576b"
            ],
            [
             0.6666666666666666,
             "#ed7953"
            ],
            [
             0.7777777777777778,
             "#fb9f3a"
            ],
            [
             0.8888888888888888,
             "#fdca26"
            ],
            [
             1,
             "#f0f921"
            ]
           ]
          },
          "colorway": [
           "#636efa",
           "#EF553B",
           "#00cc96",
           "#ab63fa",
           "#FFA15A",
           "#19d3f3",
           "#FF6692",
           "#B6E880",
           "#FF97FF",
           "#FECB52"
          ],
          "font": {
           "color": "#2a3f5f"
          },
          "geo": {
           "bgcolor": "white",
           "lakecolor": "white",
           "landcolor": "#E5ECF6",
           "showlakes": true,
           "showland": true,
           "subunitcolor": "white"
          },
          "hoverlabel": {
           "align": "left"
          },
          "hovermode": "closest",
          "mapbox": {
           "style": "light"
          },
          "paper_bgcolor": "white",
          "plot_bgcolor": "#E5ECF6",
          "polar": {
           "angularaxis": {
            "gridcolor": "white",
            "linecolor": "white",
            "ticks": ""
           },
           "bgcolor": "#E5ECF6",
           "radialaxis": {
            "gridcolor": "white",
            "linecolor": "white",
            "ticks": ""
           }
          },
          "scene": {
           "xaxis": {
            "backgroundcolor": "#E5ECF6",
            "gridcolor": "white",
            "gridwidth": 2,
            "linecolor": "white",
            "showbackground": true,
            "ticks": "",
            "zerolinecolor": "white"
           },
           "yaxis": {
            "backgroundcolor": "#E5ECF6",
            "gridcolor": "white",
            "gridwidth": 2,
            "linecolor": "white",
            "showbackground": true,
            "ticks": "",
            "zerolinecolor": "white"
           },
           "zaxis": {
            "backgroundcolor": "#E5ECF6",
            "gridcolor": "white",
            "gridwidth": 2,
            "linecolor": "white",
            "showbackground": true,
            "ticks": "",
            "zerolinecolor": "white"
           }
          },
          "shapedefaults": {
           "line": {
            "color": "#2a3f5f"
           }
          },
          "ternary": {
           "aaxis": {
            "gridcolor": "white",
            "linecolor": "white",
            "ticks": ""
           },
           "baxis": {
            "gridcolor": "white",
            "linecolor": "white",
            "ticks": ""
           },
           "bgcolor": "#E5ECF6",
           "caxis": {
            "gridcolor": "white",
            "linecolor": "white",
            "ticks": ""
           }
          },
          "title": {
           "x": 0.05
          },
          "xaxis": {
           "automargin": true,
           "gridcolor": "white",
           "linecolor": "white",
           "ticks": "",
           "title": {
            "standoff": 15
           },
           "zerolinecolor": "white",
           "zerolinewidth": 2
          },
          "yaxis": {
           "automargin": true,
           "gridcolor": "white",
           "linecolor": "white",
           "ticks": "",
           "title": {
            "standoff": 15
           },
           "zerolinecolor": "white",
           "zerolinewidth": 2
          }
         }
        },
        "xaxis": {
         "anchor": "y",
         "autorange": true,
         "domain": [
          0,
          1
         ],
         "range": [
          -3.29116506844521,
          5.479315490585135
         ],
         "title": {
          "text": "x"
         },
         "type": "linear"
        },
        "yaxis": {
         "anchor": "x",
         "autorange": true,
         "domain": [
          0,
          1
         ],
         "range": [
          -5.456980377100902,
          5.63378731529892
         ],
         "title": {
          "text": "y"
         },
         "type": "linear"
        }
       }
      },
      "image/png": "[encoded data removed]",
      "text/html": [
       "<div>                            <div id=\"bf248160-508a-4b95-8d43-e8678980b4aa\" class=\"plotly-graph-div\" style=\"height:525px; width:100%;\"></div>            <script type=\"text/javascript\">                require([\"plotly\"], function(Plotly) {                    window.PLOTLYENV=window.PLOTLYENV || {};                                    if (document.getElementById(\"bf248160-508a-4b95-8d43-e8678980b4aa\")) {                    Plotly.newPlot(                        \"bf248160-508a-4b95-8d43-e8678980b4aa\",                        [{\"hovertemplate\":\"color=WA_grey<br>symbol=WA_grey<br>x=%{x}<br>y=%{y}<extra></extra>\",\"legendgroup\":\"WA_grey, WA_grey\",\"marker\":{\"color\":\"#2E91E5\",\"symbol\":\"circle\",\"size\":5},\"mode\":\"markers\",\"name\":\"WA_grey, WA_grey\",\"orientation\":\"v\",\"showlegend\":true,\"x\":[3.698540804829553,-1.7937750004222497,-1.1308798630769623,0.011752951176686253,-1.0645084276584984,-0.5609106854515972,-1.6909423681829205,-1.8383450342159944,-2.598188392620704,0.684428769946192,-0.5423638494016336,0.7885329716643822,-1.59811605437469,-1.051242394505911,-1.1397652310740694,-1.0194610552142593,4.516723591007782,2.141218392208489,-1.738805817097985,-1.5837319498793783,-1.3586351844633342,0.026476409088566234,-0.21777948932172042,-0.20461137081846437,-1.2957331248987565,-1.0984324390308302,-0.2785319907747631,-0.3460656454083835,0.8732106333983156,0.9983731749041986,-0.10781324962442793,-0.8224448413814238,0.4682761979305144,-0.40871260903790785,-2.10345683124121,-0.22306222420596694,2.2885340774120886,0.43525524047363084,-2.326025051683603,-1.2370426480305112,0.03173223075930081,-1.4638176207356384,-1.5690474928713165,-1.9232772924637658,-1.9903126293157665,-0.6834967601171289,-1.9082792913009285,-0.8738391369465777,1.3300969058571384,0.819273365889031,1.5232759533049935,-0.4220317674962246,-0.10991755352893673,-0.27494179417189146],\"xaxis\":\"x\",\"y\":[0.6052675887821403,-0.7777307090895699,-0.6440253787017853,-3.2292170686070687,-2.198334618184574,-1.4544465970334886,0.6021852473425795,0.179106675735372,0.6298121840182717,-2.204976661427884,-1.5063830557848732,-3.426010649295561,-0.8448636327258631,-2.121025962779364,-1.620821692465779,-0.8434011796929116,-3.082447359772651,-1.8562154884941153,2.5750219900068463,2.749479200270836,4.921709616866432,0.3228868266465492,-0.0687316113532664,0.22688572698749915,0.29698261304068874,-0.3447370484296591,0.23498771441225283,0.5223713800130411,0.3989966428692573,0.01704092675270949,-1.3153932148430487,0.35742945418340805,-4.744902678668414,-1.7945649055732422,-0.4096663387173764,-0.792102459789833,1.137985553467281,-1.8178178517121504,0.6274542386738875,0.8669965247735899,1.222001727724844,1.6645230002324198,-0.5182420665758466,-0.41600045301164434,-0.6124788137160817,-2.8741301160292516,0.16109400101383559,1.2130908466854997,1.2489636182159243,2.8634395004751894,-0.08167453782041438,0.24883986560718774,-0.8441757173969737,-1.530209942316751],\"yaxis\":\"y\",\"type\":\"scatter\"},{\"hovertemplate\":\"color=WA_black<br>symbol=WA_black<br>x=%{x}<br>y=%{y}<extra></extra>\",\"legendgroup\":\"WA_black, WA_black\",\"marker\":{\"color\":\"#E15F99\",\"symbol\":\"diamond\",\"size\":5},\"mode\":\"markers\",\"name\":\"WA_black, WA_black\",\"orientation\":\"v\",\"showlegend\":true,\"x\":[-2.1030709766407254,-1.798484681156225,-1.1657774554102067,3.4484946163332424,3.3524853676628332,3.897876309052954,3.067797984621883,4.807395599743155,1.5345924533276465,-2.5054454485075204,-2.044330838614166,-0.5828704365789651,2.32921460324936,3.0123262757937215,3.5322596876906354,-0.4483121486619451,-1.3115836471526057,-1.2090895080381296,-0.38688963095108886,-0.43827633017240564,1.4990879301874291,1.3879328416336514,0.30367969834537784,-0.08703195358092468,-0.964488866169761,-0.060962147240835325,3.533103835360584,-1.5457623676137433,-1.5179963694970728,-0.9631532580744555,4.991139738454325,4.556277851126829,4.948914169963602,-0.8991639127050712,-0.992095004809727,-1.0465547777543749,0.6111273812934602,1.6150000267731666,1.8749806812786782,-2.8029893163143993,-2.5065090240851924,-2.5046711156913766,-2.5620273977152004,-2.46042694732095,-2.514358607050385,3.8343336295934543,0.7462169060645697,1.2593692361937365,-0.061019771129111985,-0.44198114699616425,-0.2556412459160929],\"xaxis\":\"x\",\"y\":[0.45225309443713146,0.28973873054435006,0.5004797244682042,1.1887170888984735,1.6810375279930403,0.3685541504535022,0.599515020272432,2.2922782400339385,0.8643679075766338,0.4648053534381947,1.2067091966241643,-2.1394172543725145,2.397084286014364,2.0458404362430858,1.1590882732355632,0.946068499715056,0.16999383638672885,0.7118286575989146,-1.0243939904555337,-1.5546408194643093,-0.5938067633987089,0.1506200030483118,-0.026628528547806025,0.8280602935733233,0.5725067206648833,0.45629977141497846,-1.9517808975825788,0.08269327036284302,-0.5304704686683983,0.2165819992567862,-1.193804889334722,-0.6041178067104753,1.3727905042029485,-0.02275724699588907,0.2006311641163381,0.888135919109264,1.460811009280338,1.0273093450204376,0.7246959340123038,0.8371577718860354,0.8389000540389727,0.7876718457609913,0.08335180307489343,0.11533314421036928,0.2966904770987396,-0.44744297891933554,-0.16734529083203958,1.379371173476034,-0.8195032261995024,-0.4336339139441646,-0.06805300690469077],\"yaxis\":\"y\",\"type\":\"scatter\"}],                        {\"template\":{\"data\":{\"histogram2dcontour\":[{\"type\":\"histogram2dcontour\",\"colorbar\":{\"outlinewidth\":0,\"ticks\":\"\"},\"colorscale\":[[0.0,\"#0d0887\"],[0.1111111111111111,\"#46039f\"],[0.2222222222222222,\"#7201a8\"],[0.3333333333333333,\"#9c179e\"],[0.4444444444444444,\"#bd3786\"],[0.5555555555555556,\"#d8576b\"],[0.6666666666666666,\"#ed7953\"],[0.7777777777777778,\"#fb9f3a\"],[0.8888888888888888,\"#fdca26\"],[1.0,\"#f0f921\"]]}],\"choropleth\":[{\"type\":\"choropleth\",\"colorbar\":{\"outlinewidth\":0,\"ticks\":\"\"}}],\"histogram2d\":[{\"type\":\"histogram2d\",\"colorbar\":{\"outlinewidth\":0,\"ticks\":\"\"},\"colorscale\":[[0.0,\"#0d0887\"],[0.1111111111111111,\"#46039f\"],[0.2222222222222222,\"#7201a8\"],[0.3333333333333333,\"#9c179e\"],[0.4444444444444444,\"#bd3786\"],[0.5555555555555556,\"#d8576b\"],[0.6666666666666666,\"#ed7953\"],[0.7777777777777778,\"#fb9f3a\"],[0.8888888888888888,\"#fdca26\"],[1.0,\"#f0f921\"]]}],\"heatmap\":[{\"type\":\"heatmap\",\"colorbar\":{\"outlinewidth\":0,\"ticks\":\"\"},\"colorscale\":[[0.0,\"#0d0887\"],[0.1111111111111111,\"#46039f\"],[0.2222222222222222,\"#7201a8\"],[0.3333333333333333,\"#9c179e\"],[0.4444444444444444,\"#bd3786\"],[0.5555555555555556,\"#d8576b\"],[0.6666666666666666,\"#ed7953\"],[0.7777777777777778,\"#fb9f3a\"],[0.8888888888888888,\"#fdca26\"],[1.0,\"#f0f921\"]]}],\"heatmapgl\":[{\"type\":\"heatmapgl\",\"colorbar\":{\"outlinewidth\":0,\"ticks\":\"\"},\"colorscale\":[[0.0,\"#0d0887\"],[0.1111111111111111,\"#46039f\"],[0.2222222222222222,\"#7201a8\"],[0.3333333333333333,\"#9c179e\"],[0.4444444444444444,\"#bd3786\"],[0.5555555555555556,\"#d8576b\"],[0.6666666666666666,\"#ed7953\"],[0.7777777777777778,\"#fb9f3a\"],[0.8888888888888888,\"#fdca26\"],[1.0,\"#f0f921\"]]}],\"contourcarpet\":[{\"type\":\"contourcarpet\",\"colorbar\":{\"outlinewidth\":0,\"ticks\":\"\"}}],\"contour\":[{\"type\":\"contour\",\"colorbar\":{\"outlinewidth\":0,\"ticks\":\"\"},\"colorscale\":[[0.0,\"#0d0887\"],[0.1111111111111111,\"#46039f\"],[0.2222222222222222,\"#7201a8\"],[0.3333333333333333,\"#9c179e\"],[0.4444444444444444,\"#bd3786\"],[0.5555555555555556,\"#d8576b\"],[0.6666666666666666,\"#ed7953\"],[0.7777777777777778,\"#fb9f3a\"],[0.8888888888888888,\"#fdca26\"],[1.0,\"#f0f921\"]]}],\"surface\":[{\"type\":\"surface\",\"colorbar\":{\"outlinewidth\":0,\"ticks\":\"\"},\"colorscale\":[[0.0,\"#0d0887\"],[0.1111111111111111,\"#46039f\"],[0.2222222222222222,\"#7201a8\"],[0.3333333333333333,\"#9c179e\"],[0.4444444444444444,\"#bd3786\"],[0.5555555555555556,\"#d8576b\"],[0.6666666666666666,\"#ed7953\"],[0.7777777777777778,\"#fb9f3a\"],[0.8888888888888888,\"#fdca26\"],[1.0,\"#f0f921\"]]}],\"mesh3d\":[{\"type\":\"mesh3d\",\"colorbar\":{\"outlinewidth\":0,\"ticks\":\"\"}}],\"scatter\":[{\"fillpattern\":{\"fillmode\":\"overlay\",\"size\":10,\"solidity\":0.2},\"type\":\"scatter\"}],\"parcoords\":[{\"type\":\"parcoords\",\"line\":{\"colorbar\":{\"outlinewidth\":0,\"ticks\":\"\"}}}],\"scatterpolargl\":[{\"type\":\"scatterpolargl\",\"marker\":{\"colorbar\":{\"outlinewidth\":0,\"ticks\":\"\"}}}],\"bar\":[{\"error_x\":{\"color\":\"#2a3f5f\"},\"error_y\":{\"color\":\"#2a3f5f\"},\"marker\":{\"line\":{\"color\":\"#E5ECF6\",\"width\":0.5},\"pattern\":{\"fillmode\":\"overlay\",\"size\":10,\"solidity\":0.2}},\"type\":\"bar\"}],\"scattergeo\":[{\"type\":\"scattergeo\",\"marker\":{\"colorbar\":{\"outlinewidth\":0,\"ticks\":\"\"}}}],\"scatterpolar\":[{\"type\":\"scatterpolar\",\"marker\":{\"colorbar\":{\"outlinewidth\":0,\"ticks\":\"\"}}}],\"histogram\":[{\"marker\":{\"pattern\":{\"fillmode\":\"overlay\",\"size\":10,\"solidity\":0.2}},\"type\":\"histogram\"}],\"scattergl\":[{\"type\":\"scattergl\",\"marker\":{\"colorbar\":{\"outlinewidth\":0,\"ticks\":\"\"}}}],\"scatter3d\":[{\"type\":\"scatter3d\",\"line\":{\"colorbar\":{\"outlinewidth\":0,\"ticks\":\"\"}},\"marker\":{\"colorbar\":{\"outlinewidth\":0,\"ticks\":\"\"}}}],\"scattermapbox\":[{\"type\":\"scattermapbox\",\"marker\":{\"colorbar\":{\"outlinewidth\":0,\"ticks\":\"\"}}}],\"scatterternary\":[{\"type\":\"scatterternary\",\"marker\":{\"colorbar\":{\"outlinewidth\":0,\"ticks\":\"\"}}}],\"scattercarpet\":[{\"type\":\"scattercarpet\",\"marker\":{\"colorbar\":{\"outlinewidth\":0,\"ticks\":\"\"}}}],\"carpet\":[{\"aaxis\":{\"endlinecolor\":\"#2a3f5f\",\"gridcolor\":\"white\",\"linecolor\":\"white\",\"minorgridcolor\":\"white\",\"startlinecolor\":\"#2a3f5f\"},\"baxis\":{\"endlinecolor\":\"#2a3f5f\",\"gridcolor\":\"white\",\"linecolor\":\"white\",\"minorgridcolor\":\"white\",\"startlinecolor\":\"#2a3f5f\"},\"type\":\"carpet\"}],\"table\":[{\"cells\":{\"fill\":{\"color\":\"#EBF0F8\"},\"line\":{\"color\":\"white\"}},\"header\":{\"fill\":{\"color\":\"#C8D4E3\"},\"line\":{\"color\":\"white\"}},\"type\":\"table\"}],\"barpolar\":[{\"marker\":{\"line\":{\"color\":\"#E5ECF6\",\"width\":0.5},\"pattern\":{\"fillmode\":\"overlay\",\"size\":10,\"solidity\":0.2}},\"type\":\"barpolar\"}],\"pie\":[{\"automargin\":true,\"type\":\"pie\"}]},\"layout\":{\"autotypenumbers\":\"strict\",\"colorway\":[\"#636efa\",\"#EF553B\",\"#00cc96\",\"#ab63fa\",\"#FFA15A\",\"#19d3f3\",\"#FF6692\",\"#B6E880\",\"#FF97FF\",\"#FECB52\"],\"font\":{\"color\":\"#2a3f5f\"},\"hovermode\":\"closest\",\"hoverlabel\":{\"align\":\"left\"},\"paper_bgcolor\":\"white\",\"plot_bgcolor\":\"#E5ECF6\",\"polar\":{\"bgcolor\":\"#E5ECF6\",\"angularaxis\":{\"gridcolor\":\"white\",\"linecolor\":\"white\",\"ticks\":\"\"},\"radialaxis\":{\"gridcolor\":\"white\",\"linecolor\":\"white\",\"ticks\":\"\"}},\"ternary\":{\"bgcolor\":\"#E5ECF6\",\"aaxis\":{\"gridcolor\":\"white\",\"linecolor\":\"white\",\"ticks\":\"\"},\"baxis\":{\"gridcolor\":\"white\",\"linecolor\":\"white\",\"ticks\":\"\"},\"caxis\":{\"gridcolor\":\"white\",\"linecolor\":\"white\",\"ticks\":\"\"}},\"coloraxis\":{\"colorbar\":{\"outlinewidth\":0,\"ticks\":\"\"}},\"colorscale\":{\"sequential\":[[0.0,\"#0d0887\"],[0.1111111111111111,\"#46039f\"],[0.2222222222222222,\"#7201a8\"],[0.3333333333333333,\"#9c179e\"],[0.4444444444444444,\"#bd3786\"],[0.5555555555555556,\"#d8576b\"],[0.6666666666666666,\"#ed7953\"],[0.7777777777777778,\"#fb9f3a\"],[0.8888888888888888,\"#fdca26\"],[1.0,\"#f0f921\"]],\"sequentialminus\":[[0.0,\"#0d0887\"],[0.1111111111111111,\"#46039f\"],[0.2222222222222222,\"#7201a8\"],[0.3333333333333333,\"#9c179e\"],[0.4444444444444444,\"#bd3786\"],[0.5555555555555556,\"#d8576b\"],[0.6666666666666666,\"#ed7953\"],[0.7777777777777778,\"#fb9f3a\"],[0.8888888888888888,\"#fdca26\"],[1.0,\"#f0f921\"]],\"diverging\":[[0,\"#8e0152\"],[0.1,\"#c51b7d\"],[0.2,\"#de77ae\"],[0.3,\"#f1b6da\"],[0.4,\"#fde0ef\"],[0.5,\"#f7f7f7\"],[0.6,\"#e6f5d0\"],[0.7,\"#b8e186\"],[0.8,\"#7fbc41\"],[0.9,\"#4d9221\"],[1,\"#276419\"]]},\"xaxis\":{\"gridcolor\":\"white\",\"linecolor\":\"white\",\"ticks\":\"\",\"title\":{\"standoff\":15},\"zerolinecolor\":\"white\",\"automargin\":true,\"zerolinewidth\":2},\"yaxis\":{\"gridcolor\":\"white\",\"linecolor\":\"white\",\"ticks\":\"\",\"title\":{\"standoff\":15},\"zerolinecolor\":\"white\",\"automargin\":true,\"zerolinewidth\":2},\"scene\":{\"xaxis\":{\"backgroundcolor\":\"#E5ECF6\",\"gridcolor\":\"white\",\"linecolor\":\"white\",\"showbackground\":true,\"ticks\":\"\",\"zerolinecolor\":\"white\",\"gridwidth\":2},\"yaxis\":{\"backgroundcolor\":\"#E5ECF6\",\"gridcolor\":\"white\",\"linecolor\":\"white\",\"showbackground\":true,\"ticks\":\"\",\"zerolinecolor\":\"white\",\"gridwidth\":2},\"zaxis\":{\"backgroundcolor\":\"#E5ECF6\",\"gridcolor\":\"white\",\"linecolor\":\"white\",\"showbackground\":true,\"ticks\":\"\",\"zerolinecolor\":\"white\",\"gridwidth\":2}},\"shapedefaults\":{\"line\":{\"color\":\"#2a3f5f\"}},\"annotationdefaults\":{\"arrowcolor\":\"#2a3f5f\",\"arrowhead\":0,\"arrowwidth\":1},\"geo\":{\"bgcolor\":\"white\",\"landcolor\":\"#E5ECF6\",\"subunitcolor\":\"white\",\"showland\":true,\"showlakes\":true,\"lakecolor\":\"white\"},\"title\":{\"x\":0.05},\"mapbox\":{\"style\":\"light\"}}},\"xaxis\":{\"anchor\":\"y\",\"domain\":[0.0,1.0],\"title\":{\"text\":\"x\"}},\"yaxis\":{\"anchor\":\"x\",\"domain\":[0.0,1.0],\"title\":{\"text\":\"y\"}},\"legend\":{\"title\":{\"text\":\"color, symbol\"},\"tracegroupgap\":0},\"margin\":{\"t\":60}},                        {\"responsive\": true}                    ).then(function(){\n",
       "                            \n",
       "var gd = document.getElementById('bf248160-508a-4b95-8d43-e8678980b4aa');\n",
       "var x = new MutationObserver(function (mutations, observer) {{\n",
       "        var display = window.getComputedStyle(gd).display;\n",
       "        if (!display || display === 'none') {{\n",
       "            console.log([gd, 'removed!']);\n",
       "            Plotly.purge(gd);\n",
       "            observer.disconnect();\n",
       "        }}\n",
       "}});\n",
       "\n",
       "// Listen for the removal of the full notebook cells\n",
       "var notebookContainer = gd.closest('#notebook-container');\n",
       "if (notebookContainer) {{\n",
       "    x.observe(notebookContainer, {childList: true});\n",
       "}}\n",
       "\n",
       "// Listen for the clearing of the current output cell\n",
       "var outputEl = gd.closest('.output');\n",
       "if (outputEl) {{\n",
       "    x.observe(outputEl, {childList: true});\n",
       "}}\n",
       "\n",
       "                        })                };                });            </script>        </div>"
      ]
     },
     "metadata": {},
     "output_type": "display_data"
    }
   ],
   "source": [
    "fig = px.scatter(pca3d_df_NoduleCol_comb, \n",
    "                    x=pca3d_df_NoduleCol_comb.iloc[:,1], \n",
    "                    y=pca3d_df_NoduleCol_comb.iloc[:,2], \n",
    "                    #z=pca3d_df_NoduleCol_comb.iloc[:,3], \n",
    "                    color=pca3d_df_NoduleCol_comb.iloc[:,0],\n",
    "                    color_discrete_sequence=px.colors.qualitative.Dark24,\n",
    "                    symbol = pca3d_df_NoduleCol_comb.iloc[:,0],)\n",
    "fig.update_traces(marker_size = 5)\n",
    "\n",
    "fig.show()"
   ]
  },
  {
   "cell_type": "code",
   "execution_count": null,
   "metadata": {},
   "outputs": [],
   "source": []
  }
 ],
 "metadata": {
  "kernelspec": {
   "display_name": "Python 3 (ipykernel)",
   "language": "python",
   "name": "python3"
  },
  "language_info": {
   "codemirror_mode": {
    "name": "ipython",
    "version": 3
   },
   "file_extension": ".py",
   "mimetype": "text/x-python",
   "name": "python",
   "nbconvert_exporter": "python",
   "pygments_lexer": "ipython3",
   "version": "3.7.4"
  }
 },
 "nbformat": 4,
 "nbformat_minor": 4
}
